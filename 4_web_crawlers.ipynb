{
 "cells": [
  {
   "cell_type": "markdown",
   "metadata": {},
   "source": [
    "# 体验HTML的标签"
   ]
  },
  {
   "cell_type": "code",
   "execution_count": 2,
   "metadata": {},
   "outputs": [],
   "source": [
    "from IPython.core.display import HTML"
   ]
  },
  {
   "cell_type": "code",
   "execution_count": 3,
   "metadata": {},
   "outputs": [
    {
     "data": {
      "text/html": [
       "<h1>好好学习</h1>"
      ],
      "text/plain": [
       "<IPython.core.display.HTML object>"
      ]
     },
     "execution_count": 3,
     "metadata": {},
     "output_type": "execute_result"
    }
   ],
   "source": [
    "HTML('<h1>好好学习</h1>')"
   ]
  },
  {
   "cell_type": "code",
   "execution_count": 4,
   "metadata": {},
   "outputs": [
    {
     "data": {
      "text/html": [
       "<h1>好好学习</h1>\n"
      ],
      "text/plain": [
       "<IPython.core.display.HTML object>"
      ]
     },
     "metadata": {},
     "output_type": "display_data"
    }
   ],
   "source": [
    "%%HTML\n",
    "<h1>好好学习</h1>"
   ]
  },
  {
   "cell_type": "code",
   "execution_count": 3,
   "metadata": {},
   "outputs": [
    {
     "data": {
      "text/html": [
       "<a href='https://www.nowcoder.com/tutorial/10005/92bd2f50f48741fcb760575baf14e025'>天天向上</a>\n"
      ],
      "text/plain": [
       "<IPython.core.display.HTML object>"
      ]
     },
     "metadata": {},
     "output_type": "display_data"
    }
   ],
   "source": [
    "%%html\n",
    "<a href='https://www.nowcoder.com/tutorial/10005/92bd2f50f48741fcb760575baf14e025'>天天向上</a>\n",
    "#href属性，页面跳转到“天天向上”"
   ]
  },
  {
   "cell_type": "code",
   "execution_count": 5,
   "metadata": {},
   "outputs": [
    {
     "data": {
      "text/html": [
       "<p>好好学习天天向上一定会有收获</p>\n"
      ],
      "text/plain": [
       "<IPython.core.display.HTML object>"
      ]
     },
     "metadata": {},
     "output_type": "display_data"
    }
   ],
   "source": [
    "%%html\n",
    "<p>好好学习天天向上一定会有收获</p>"
   ]
  },
  {
   "cell_type": "code",
   "execution_count": null,
   "metadata": {},
   "outputs": [],
   "source": [
    "%%html\n",
    "<img src='https://gimg2.baidu.com/image_search/src=http%3A%2F%2Fimg.2qqtouxiang.com%2Fpic%2FTX9734_05.jpg&refer=http%3A%2F%2Fimg.2qqtouxiang.com&app=2002&size=f9999,10000&q=a80&n=0&g=0n&fmt=auto?sec=1652973586&t=b3b4834a9f6a7dbafcdcca5e8c5c2591'>\n",
    "#src属性"
   ]
  },
  {
   "cell_type": "markdown",
   "metadata": {},
   "source": [
    "爬虫的流程就是“进-消-存”三步——访问页面(获取内容)、解析(抽取信息)、保存数据。复杂的爬虫也是如此，只是为了提高效率避免被封，多了一些并行化、调度策略等设计。"
   ]
  },
  {
   "cell_type": "markdown",
   "metadata": {},
   "source": [
    "# 安装第三方库 requests/lxml"
   ]
  },
  {
   "cell_type": "markdown",
   "metadata": {},
   "source": [
    "python -m pip install requests\n",
    "\n",
    "python -m pip install lxml"
   ]
  },
  {
   "cell_type": "markdown",
   "metadata": {},
   "source": [
    "## 获取网页源码（可能需要包装）"
   ]
  },
  {
   "cell_type": "code",
   "execution_count": null,
   "metadata": {},
   "outputs": [],
   "source": [
    "import requests\n",
    "r = requests.get('https://search.douban.com/book/subject_search?search_text=%E7%BC%96%E7%A8%8B&cat=1001')\n",
    "r.status_code\n",
    "r.headers\n",
    "r.text"
   ]
  },
  {
   "cell_type": "markdown",
   "metadata": {},
   "source": [
    "若无法直接get到url可以通过convert cURL to python，修改headers，伪装浏览器的方式来获取"
   ]
  },
  {
   "cell_type": "code",
   "execution_count": 65,
   "metadata": {},
   "outputs": [
    {
     "name": "stdout",
     "output_type": "stream",
     "text": [
      "200\n"
     ]
    }
   ],
   "source": [
    "import requests\n",
    "from requests.structures import CaseInsensitiveDict\n",
    "\n",
    "url = \"https://search.douban.com/book/subject_search?search_text=%E7%BC%96%E7%A8%8B&cat=1001\"\n",
    "\n",
    "headers = CaseInsensitiveDict()\n",
    "headers[\"Accept\"] = \"text/html,application/xhtml+xml,application/xml;q=0.9,image/avif,image/webp,image/apng,*/*;q=0.8,application/signed-exchange;v=b3;q=0.9\"\n",
    "headers[\"Referer\"] = \"https://book.douban.com/\"\n",
    "headers[\"User-Agent\"] = \"Mozilla/5.0 (Windows NT 10.0; Win64; x64) AppleWebKit/537.36 (KHTML, like Gecko) Chrome/100.0.4896.88 Safari/537.36\"\n",
    "\n",
    "resp = requests.get(url, headers=headers)\n",
    "\n",
    "print(resp.status_code)"
   ]
  },
  {
   "cell_type": "markdown",
   "metadata": {},
   "source": [
    "## 1.DOM/xpath"
   ]
  },
  {
   "cell_type": "markdown",
   "metadata": {},
   "source": [
    "DOM:document object model\n",
    "\n",
    "定位页面元素路径"
   ]
  },
  {
   "cell_type": "code",
   "execution_count": 66,
   "metadata": {},
   "outputs": [],
   "source": [
    "from lxml import etree\n",
    "sel = etree.HTML(resp.text)"
   ]
  },
  {
   "cell_type": "markdown",
   "metadata": {},
   "source": [
    "### 用xpath获取相应内容"
   ]
  },
  {
   "cell_type": "markdown",
   "metadata": {},
   "source": [
    "xpath基础语法\n",
    "\n",
    "- 选取节点的语法有:\n",
    "\n",
    "/ 从根节点选取\n",
    "\n",
    "// 从所有匹配的节点选取\n",
    "\n",
    ". 当前节点\n",
    "\n",
    ".. 当前的父节点\n",
    "\n",
    "nodename选取节点, @选取节点的属性\n",
    "\n",
    "通配符: *\n",
    "\n",
    "选取若干路径则用|分隔\n",
    "\n",
    "text(): 获取该节点的文本内容\n",
    "\n",
    "例子:\n",
    "\n",
    "//img/@src: 选取所有img节点的src属性\n",
    "\n",
    "//img/../text: 选取img节点的父节点下的text节点(所以text和img为\"sibling\"关系)\n",
    "\n",
    "//*/@src: 选取任何节点的src属性\n",
    "\n",
    "- 过滤节点的谓词语法有: (谓词放在方括号中)\n",
    "\n",
    "[1]选取第一个元素, [last()]选取最后一个, [position<3] 选取前两个\n",
    "\n",
    "[@lang=\"eng\"] 选取属性lang等于\"eng\"的元素"
   ]
  },
  {
   "cell_type": "markdown",
   "metadata": {},
   "source": [
    "### 获取单独的书名或价格（但未一一对应）"
   ]
  },
  {
   "cell_type": "code",
   "execution_count": 1,
   "metadata": {},
   "outputs": [
    {
     "name": "stdout",
     "output_type": "stream",
     "text": [
      "鹿川有许多粪\n",
      "生死疲劳\n",
      "克拉拉与太阳\n",
      "遥远的救世主\n",
      "消失的13级台阶\n",
      "素食者\n",
      "绝叫\n",
      "秋园\n",
      "文城\n",
      "活着\n",
      "流俗地\n",
      "献给阿尔吉侬的花束\n",
      "夜晚的潜水艇\n",
      "挽救计划\n",
      "人世间\n",
      "百年孤独\n",
      "克莱因壶\n",
      "一日三秋\n",
      "索拉里斯星\n",
      "海边的房间\n",
      "34.90\n",
      "47.00\n",
      "38.40\n",
      "26.10\n",
      "20.00\n",
      "154.70\n",
      "26.30\n"
     ]
    }
   ],
   "source": [
    "import requests\n",
    "from requests.structures import CaseInsensitiveDict\n",
    "from lxml import etree\n",
    "\n",
    "url = \"https://book.douban.com/tag/%E5%B0%8F%E8%AF%B4\"\n",
    "\n",
    "headers = CaseInsensitiveDict()\n",
    "headers[\"User-Agent\"] = \"Mozilla/5.0 (Windows NT 10.0; Win64; x64) AppleWebKit/537.36 (KHTML, like Gecko) Chrome/100.0.4896.88 Safari/537.36\"\n",
    "resp = requests.get(url, headers=headers)\n",
    "sel = etree.HTML(resp.text)\n",
    "\n",
    "for elem in sel.xpath(\"//li[@class='subject-item']/div[@class='info']/h2/a/text()\"):\n",
    "    print(elem.strip())\n",
    "\n",
    "for elem_p in sel.xpath(\"//li[@class='subject-item']/div[@class='info']/div[@class='ft']/div[@class='cart-actions']/span[@class='buy-info']/a/text()\"):\n",
    "    print(elem_p.strip()[4:-1])\n"
   ]
  },
  {
   "cell_type": "markdown",
   "metadata": {},
   "source": [
    "#### 标签内嵌套标签，读取文本内容不全，itertext()"
   ]
  },
  {
   "cell_type": "code",
   "execution_count": 8,
   "metadata": {},
   "outputs": [
    {
     "data": {
      "text/plain": [
       "['\\n\\n    纳闷集\\n\\n\\n    \\n\\n  ',\n",
       " '\\n\\n    镖人\\n\\n\\n    \\n\\n  ',\n",
       " '\\n\\n    再见绘梨\\n\\n\\n    \\n\\n  ',\n",
       " '\\n\\n    胖虎下山\\n\\n\\n    \\n\\n  ',\n",
       " '\\n\\n    ルックバツク\\n\\n\\n    \\n      ',\n",
       " '\\n\\n  ',\n",
       " '\\n\\n    镖人\\n\\n\\n    \\n      ',\n",
       " '\\n\\n  ',\n",
       " '\\n\\n    地狱星REMINA\\n\\n\\n    \\n\\n  ',\n",
       " '\\n\\n    伊藤润二短篇精选集\\n\\n\\n    \\n\\n  ',\n",
       " '\\n\\n    一个故事的99种讲法\\n\\n\\n    \\n\\n  ',\n",
       " '\\n\\n    美丽黑暗\\n\\n\\n    \\n\\n  ',\n",
       " '\\n\\n    间谍过家家（第一卷）\\n\\n\\n    \\n      ',\n",
       " '\\n\\n  ',\n",
       " '\\n\\n    看你一眼就会笑\\n\\n\\n    \\n\\n  ',\n",
       " '\\n\\n    夏日時光(01)\\n\\n\\n    \\n\\n  ',\n",
       " '\\n\\n    镖人\\n\\n\\n    \\n      ',\n",
       " '\\n\\n  ',\n",
       " '\\n\\n    镖人\\n\\n\\n    \\n      ',\n",
       " '\\n\\n  ',\n",
       " '\\n\\n    鱼（全2册）\\n\\n\\n    \\n\\n  ',\n",
       " '\\n\\n    回答不了\\n\\n\\n    \\n\\n  ',\n",
       " '\\n\\n    你今天真好看\\n\\n\\n    \\n\\n  ',\n",
       " '\\n\\n    镖人\\n\\n\\n    \\n      ',\n",
       " '\\n\\n  ',\n",
       " '\\n\\n    黑睡莲\\n\\n\\n    \\n\\n  ']"
      ]
     },
     "execution_count": 8,
     "metadata": {},
     "output_type": "execute_result"
    }
   ],
   "source": [
    "import requests\n",
    "from requests.structures import CaseInsensitiveDict\n",
    "from lxml import etree\n",
    "\n",
    "url = 'https://book.douban.com/tag/%E6%BC%AB%E7%94%BB'\n",
    "headers = CaseInsensitiveDict()\n",
    "headers[\"User-Agent\"] = \"Mozilla/5.0 (Windows NT 10.0; Win64; x64) AppleWebKit/537.36 (KHTML, like Gecko) Chrome/100.0.4896.88 Safari/537.36\"\n",
    "\n",
    "resp = requests.get(url=url, headers=headers)\n",
    "dom = etree.HTML(resp.text)\n",
    "# dom.xpath(\"//li[@class='subject-item']/div[@class='info']/h2/a/text()\")  #发现标题不完整。原因a标签里嵌套span标签\n",
    "\n"
   ]
  },
  {
   "cell_type": "markdown",
   "metadata": {},
   "source": [
    "取文本的方式：\n",
    "\n",
    "1.xpath末尾加上/text()\n",
    "\n",
    "2.element元素.text/.itertext()---获取当前节点及子节点所有文本内容"
   ]
  },
  {
   "cell_type": "code",
   "execution_count": 33,
   "metadata": {},
   "outputs": [
    {
     "name": "stdout",
     "output_type": "stream",
     "text": [
      "纳闷集\n",
      "镖人\n",
      "再见绘梨\n",
      "胖虎下山\n",
      "ルックバツク:LookBack\n",
      "镖人:卷十一\n",
      "地狱星REMINA\n",
      "伊藤润二短篇精选集\n",
      "一个故事的99种讲法\n",
      "美丽黑暗\n",
      "间谍过家家（第一卷）:1\n",
      "看你一眼就会笑\n",
      "夏日時光(01)\n",
      "镖人:卷二\n",
      "镖人:卷三\n",
      "鱼（全2册）\n",
      "回答不了\n",
      "你今天真好看\n",
      "镖人:卷四\n",
      "黑睡莲\n"
     ]
    }
   ],
   "source": [
    "for elem in dom.xpath(\"//li[@class='subject-item']/div[@class='info']/h2/a\"):\n",
    "    print(''.join(elem.itertext()).replace(' ','').replace('\\n','')) #join可作用于迭代器"
   ]
  },
  {
   "cell_type": "code",
   "execution_count": 28,
   "metadata": {},
   "outputs": [
    {
     "name": "stdout",
     "output_type": "stream",
     "text": [
      "39.0\n",
      "44.82\n",
      "45.0\n",
      "17.7\n",
      "34.2\n",
      "39.9\n",
      "22.5\n",
      "44.25\n",
      "29.3\n",
      "18.9\n"
     ]
    }
   ],
   "source": [
    "for pri in dom.xpath(\"//li[@class='subject-item']/div[@class='info']/div[@class='ft']/div[@class='cart-actions']/span[@class='buy-info']/a/text()\"):\n",
    "    print(float(pri.strip()[3:-1]))"
   ]
  },
  {
   "cell_type": "markdown",
   "metadata": {},
   "source": [
    "### 获取书名或价格（一一对应）"
   ]
  },
  {
   "cell_type": "markdown",
   "metadata": {},
   "source": [
    "element可以嵌套使用\n",
    "\n",
    "notebook显示图片"
   ]
  },
  {
   "cell_type": "code",
   "execution_count": 70,
   "metadata": {},
   "outputs": [
    {
     "name": "stdout",
     "output_type": "stream",
     "text": [
      "纳闷集 -1\n"
     ]
    },
    {
     "data": {
      "text/html": [
       "<img src=https://img1.doubanio.com/view/subject/s/public/s33667317.jpg>"
      ],
      "text/plain": [
       "<IPython.core.display.HTML object>"
      ]
     },
     "metadata": {},
     "output_type": "display_data"
    },
    {
     "name": "stdout",
     "output_type": "stream",
     "text": [
      "镖人 -1\n"
     ]
    },
    {
     "data": {
      "text/html": [
       "<img src=https://img3.doubanio.com/view/subject/s/public/s29725620.jpg>"
      ],
      "text/plain": [
       "<IPython.core.display.HTML object>"
      ]
     },
     "metadata": {},
     "output_type": "display_data"
    },
    {
     "name": "stdout",
     "output_type": "stream",
     "text": [
      "再见绘梨 -1\n"
     ]
    },
    {
     "data": {
      "text/html": [
       "<img src=https://img9.doubanio.com/view/subject/s/public/s34193094.jpg>"
      ],
      "text/plain": [
       "<IPython.core.display.HTML object>"
      ]
     },
     "metadata": {},
     "output_type": "display_data"
    },
    {
     "name": "stdout",
     "output_type": "stream",
     "text": [
      "胖虎下山 -1\n"
     ]
    },
    {
     "data": {
      "text/html": [
       "<img src=https://img2.doubanio.com/view/subject/s/public/s34068042.jpg>"
      ],
      "text/plain": [
       "<IPython.core.display.HTML object>"
      ]
     },
     "metadata": {},
     "output_type": "display_data"
    },
    {
     "name": "stdout",
     "output_type": "stream",
     "text": [
      "ルックバツク:LookBack 39.0\n"
     ]
    },
    {
     "data": {
      "text/html": [
       "<img src=https://img9.doubanio.com/view/subject/s/public/s33973825.jpg>"
      ],
      "text/plain": [
       "<IPython.core.display.HTML object>"
      ]
     },
     "metadata": {},
     "output_type": "display_data"
    },
    {
     "name": "stdout",
     "output_type": "stream",
     "text": [
      "镖人:卷十一 44.82\n"
     ]
    },
    {
     "data": {
      "text/html": [
       "<img src=https://img1.doubanio.com/view/subject/s/public/s34121317.jpg>"
      ],
      "text/plain": [
       "<IPython.core.display.HTML object>"
      ]
     },
     "metadata": {},
     "output_type": "display_data"
    },
    {
     "name": "stdout",
     "output_type": "stream",
     "text": [
      "地狱星REMINA 45.0\n"
     ]
    },
    {
     "data": {
      "text/html": [
       "<img src=https://img1.doubanio.com/view/subject/s/public/s34000538.jpg>"
      ],
      "text/plain": [
       "<IPython.core.display.HTML object>"
      ]
     },
     "metadata": {},
     "output_type": "display_data"
    },
    {
     "name": "stdout",
     "output_type": "stream",
     "text": [
      "伊藤润二短篇精选集 -1\n"
     ]
    },
    {
     "data": {
      "text/html": [
       "<img src=https://img1.doubanio.com/view/subject/s/public/s33763757.jpg>"
      ],
      "text/plain": [
       "<IPython.core.display.HTML object>"
      ]
     },
     "metadata": {},
     "output_type": "display_data"
    },
    {
     "name": "stdout",
     "output_type": "stream",
     "text": [
      "一个故事的99种讲法 -1\n"
     ]
    },
    {
     "data": {
      "text/html": [
       "<img src=https://img2.doubanio.com/view/subject/s/public/s34032893.jpg>"
      ],
      "text/plain": [
       "<IPython.core.display.HTML object>"
      ]
     },
     "metadata": {},
     "output_type": "display_data"
    },
    {
     "name": "stdout",
     "output_type": "stream",
     "text": [
      "美丽黑暗 -1\n"
     ]
    },
    {
     "data": {
      "text/html": [
       "<img src=https://img1.doubanio.com/view/subject/s/public/s33849778.jpg>"
      ],
      "text/plain": [
       "<IPython.core.display.HTML object>"
      ]
     },
     "metadata": {},
     "output_type": "display_data"
    },
    {
     "name": "stdout",
     "output_type": "stream",
     "text": [
      "间谍过家家（第一卷）:1 17.7\n"
     ]
    },
    {
     "data": {
      "text/html": [
       "<img src=https://img1.doubanio.com/view/subject/s/public/s34071147.jpg>"
      ],
      "text/plain": [
       "<IPython.core.display.HTML object>"
      ]
     },
     "metadata": {},
     "output_type": "display_data"
    },
    {
     "name": "stdout",
     "output_type": "stream",
     "text": [
      "看你一眼就会笑 34.2\n"
     ]
    },
    {
     "data": {
      "text/html": [
       "<img src=https://img9.doubanio.com/view/subject/s/public/s33941284.jpg>"
      ],
      "text/plain": [
       "<IPython.core.display.HTML object>"
      ]
     },
     "metadata": {},
     "output_type": "display_data"
    },
    {
     "name": "stdout",
     "output_type": "stream",
     "text": [
      "夏日時光(01) -1\n"
     ]
    },
    {
     "data": {
      "text/html": [
       "<img src=https://img1.doubanio.com/view/subject/s/public/s32294489.jpg>"
      ],
      "text/plain": [
       "<IPython.core.display.HTML object>"
      ]
     },
     "metadata": {},
     "output_type": "display_data"
    },
    {
     "name": "stdout",
     "output_type": "stream",
     "text": [
      "镖人:卷二 -1\n"
     ]
    },
    {
     "data": {
      "text/html": [
       "<img src=https://img3.doubanio.com/view/subject/s/public/s29779360.jpg>"
      ],
      "text/plain": [
       "<IPython.core.display.HTML object>"
      ]
     },
     "metadata": {},
     "output_type": "display_data"
    },
    {
     "name": "stdout",
     "output_type": "stream",
     "text": [
      "镖人:卷三 39.9\n"
     ]
    },
    {
     "data": {
      "text/html": [
       "<img src=https://img9.doubanio.com/view/subject/s/public/s29835816.jpg>"
      ],
      "text/plain": [
       "<IPython.core.display.HTML object>"
      ]
     },
     "metadata": {},
     "output_type": "display_data"
    },
    {
     "name": "stdout",
     "output_type": "stream",
     "text": [
      "鱼（全2册） 22.5\n"
     ]
    },
    {
     "data": {
      "text/html": [
       "<img src=https://img2.doubanio.com/view/subject/s/public/s33922491.jpg>"
      ],
      "text/plain": [
       "<IPython.core.display.HTML object>"
      ]
     },
     "metadata": {},
     "output_type": "display_data"
    },
    {
     "name": "stdout",
     "output_type": "stream",
     "text": [
      "回答不了 44.25\n"
     ]
    },
    {
     "data": {
      "text/html": [
       "<img src=https://img9.doubanio.com/view/subject/s/public/s29890136.jpg>"
      ],
      "text/plain": [
       "<IPython.core.display.HTML object>"
      ]
     },
     "metadata": {},
     "output_type": "display_data"
    },
    {
     "name": "stdout",
     "output_type": "stream",
     "text": [
      "你今天真好看 29.3\n"
     ]
    },
    {
     "data": {
      "text/html": [
       "<img src=https://img9.doubanio.com/view/subject/s/public/s28369176.jpg>"
      ],
      "text/plain": [
       "<IPython.core.display.HTML object>"
      ]
     },
     "metadata": {},
     "output_type": "display_data"
    },
    {
     "name": "stdout",
     "output_type": "stream",
     "text": [
      "镖人:卷四 18.9\n"
     ]
    },
    {
     "data": {
      "text/html": [
       "<img src=https://img2.doubanio.com/view/subject/s/public/s29910472.jpg>"
      ],
      "text/plain": [
       "<IPython.core.display.HTML object>"
      ]
     },
     "metadata": {},
     "output_type": "display_data"
    },
    {
     "name": "stdout",
     "output_type": "stream",
     "text": [
      "黑睡莲 -1\n"
     ]
    },
    {
     "data": {
      "text/html": [
       "<img src=https://img2.doubanio.com/view/subject/s/public/s33822153.jpg>"
      ],
      "text/plain": [
       "<IPython.core.display.HTML object>"
      ]
     },
     "metadata": {},
     "output_type": "display_data"
    }
   ],
   "source": [
    "from IPython.core.display import HTML\n",
    "from IPython.display import display\n",
    "\n",
    "for block in dom.xpath(\"//li[@class='subject-item']\"):\n",
    "\n",
    "    title = ''\n",
    "    elem_title = block.xpath(\".//div[@class='info']/h2/a\") #是个列表\n",
    "    # print(elem_title) \n",
    "    # print(elem_title[0])\n",
    "    if elem_title:\n",
    "        title =''.join(elem_title[0].itertext()).replace(' ','').replace('\\n','')\n",
    "    # print(title)\n",
    "\n",
    "    price = -1\n",
    "    elem_price =  block.xpath(\".//div[@class='info']/div[@class='ft']/div[@class='cart-actions']/span[@class='buy-info']/a/text()\") #是个列表\n",
    "    # print(elem_price)\n",
    "    if elem_price:\n",
    "        price = float(elem_price[0].strip()[3:-1])\n",
    "    # print(price)\n",
    "    print(title,price)\n",
    "\n",
    "    cover = ''\n",
    "    elem_cover = block.xpath(\".//img/@src\")\n",
    "    if elem_cover:\n",
    "        cover = elem_cover[0]\n",
    "    display(HTML(f'<img src={cover}>')) #notebook显示图片\n",
    "    \n",
    "    "
   ]
  },
  {
   "cell_type": "markdown",
   "metadata": {},
   "source": [
    "### 保存爬取的图片"
   ]
  },
  {
   "cell_type": "code",
   "execution_count": 5,
   "metadata": {},
   "outputs": [
    {
     "data": {
      "text/plain": [
       "b'\\xff\\xd8\\xff\\xe0\\x00\\x10JFIF\\x00\\x01\\x01\\x01\\x00K\\x00K\\x00\\x00\\xff\\xdb\\x00C\\x00\\x06\\x04\\x05\\x06\\x05\\x04\\x06\\x06\\x05\\x06\\x07\\x07\\x06\\x08\\n\\x10\\n\\n\\t\\t\\n\\x14\\x0e\\x0f\\x0c\\x10\\x17\\x14\\x18\\x18\\x17\\x14\\x16\\x16\\x1a\\x1d%\\x1f\\x1a\\x1b#\\x1c\\x16\\x16 , #&\\')*)\\x19\\x1f-0-(0%()(\\xff\\xdb\\x00C\\x01\\x07\\x07\\x07\\n\\x08\\n\\x13\\n\\n\\x13(\\x1a\\x16\\x1a((((((((((((((((((((((((((((((((((((((((((((((((((\\xff\\xc0\\x00\\x11\\x08\\x01\\xb0\\x03\\x00\\x03\\x01\"\\x00\\x02\\x11\\x01\\x03\\x11\\x01\\xff\\xc4\\x00\\x1f\\x00\\x00\\x01\\x05\\x01\\x01\\x01\\x01\\x01\\x01\\x00\\x00\\x00\\x00\\x00\\x00\\x00\\x00\\x01\\x02\\x03\\x04\\x05\\x06\\x07\\x08\\t\\n\\x0b\\xff\\xc4\\x00\\xb5\\x10\\x00\\x02\\x01\\x03\\x03\\x02\\x04\\x03\\x05\\x05\\x04\\x04\\x00\\x00\\x01}\\x01\\x02\\x03\\x00\\x04\\x11\\x05\\x12!1A\\x06\\x13Qa\\x07\"q\\x142\\x81\\x91\\xa1\\x08#B\\xb1\\xc1\\x15R\\xd1\\xf0$3br\\x82\\t\\n\\x16\\x17\\x18\\x19\\x1a%&\\'()*456789:CDEFGHIJSTUVWXYZcdefghijstuvwxyz\\x83\\x84\\x85\\x86\\x87\\x88\\x89\\x8a\\x92\\x93\\x94\\x95\\x96\\x97\\x98\\x99\\x9a\\xa2\\xa3\\xa4\\xa5\\xa6\\xa7\\xa8\\xa9\\xaa\\xb2\\xb3\\xb4\\xb5\\xb6\\xb7\\xb8\\xb9\\xba\\xc2\\xc3\\xc4\\xc5\\xc6\\xc7\\xc8\\xc9\\xca\\xd2\\xd3\\xd4\\xd5\\xd6\\xd7\\xd8\\xd9\\xda\\xe1\\xe2\\xe3\\xe4\\xe5\\xe6\\xe7\\xe8\\xe9\\xea\\xf1\\xf2\\xf3\\xf4\\xf5\\xf6\\xf7\\xf8\\xf9\\xfa\\xff\\xc4\\x00\\x1f\\x01\\x00\\x03\\x01\\x01\\x01\\x01\\x01\\x01\\x01\\x01\\x01\\x00\\x00\\x00\\x00\\x00\\x00\\x01\\x02\\x03\\x04\\x05\\x06\\x07\\x08\\t\\n\\x0b\\xff\\xc4\\x00\\xb5\\x11\\x00\\x02\\x01\\x02\\x04\\x04\\x03\\x04\\x07\\x05\\x04\\x04\\x00\\x01\\x02w\\x00\\x01\\x02\\x03\\x11\\x04\\x05!1\\x06\\x12AQ\\x07aq\\x13\"2\\x81\\x08\\x14B\\x91\\xa1\\xb1\\xc1\\t#3R\\xf0\\x15br\\xd1\\n\\x16$4\\xe1%\\xf1\\x17\\x18\\x19\\x1a&\\'()*56789:CDEFGHIJSTUVWXYZcdefghijstuvwxyz\\x82\\x83\\x84\\x85\\x86\\x87\\x88\\x89\\x8a\\x92\\x93\\x94\\x95\\x96\\x97\\x98\\x99\\x9a\\xa2\\xa3\\xa4\\xa5\\xa6\\xa7\\xa8\\xa9\\xaa\\xb2\\xb3\\xb4\\xb5\\xb6\\xb7\\xb8\\xb9\\xba\\xc2\\xc3\\xc4\\xc5\\xc6\\xc7\\xc8\\xc9\\xca\\xd2\\xd3\\xd4\\xd5\\xd6\\xd7\\xd8\\xd9\\xda\\xe2\\xe3\\xe4\\xe5\\xe6\\xe7\\xe8\\xe9\\xea\\xf2\\xf3\\xf4\\xf5\\xf6\\xf7\\xf8\\xf9\\xfa\\xff\\xda\\x00\\x0c\\x03\\x01\\x00\\x02\\x11\\x03\\x11\\x00?\\x00\\xc8\\x02\\x9d\\x8a\\\\~t\\xb8\\xaf\\x1a\\xe6#@\\xa5\\xc5;\\x03\\x1d)@\\xe6\\x81\\x8c\\x02\\x9d\\x8av(\\xc5+\\x88LR\\xd2\\x81K\\x8c\\xd1p\\x13\\x14\\xb8\\xf5\\xa3\\x14\\xb8\\xa2\\xe0\\x14b\\x9c\\x05\\x18\\x14\\\\\\x04\\xc5;\\x14\\xa0qN\\xc7\\x14\\\\\\x06\\x01N\\x02\\x97\\x14\\xb4\\xae10)@\\xa3\\x14\\xecQp\\x1b\\x8aP)qJ)\\xa6\\x01@\\x14\\xa0R\\x81\\x9a`&)qK\\x8eiE\\x00&)E\\x18\\xa5\\x02\\x80\\x12\\x94\\xd2\\xe3\\x9a\\\\sE\\xc0m(\\x14\\xb8\\xa5\\xc5\\x007\\x14\\x01\\x9au\\x14\\\\\\x04\\xa5\\xc5.)@\\xe2\\x8b\\x80\\xda\\\\R\\xe2\\x8a\\x001IN\\x03\\x8a(\\x01)\\r:\\x92\\x80\\nJZ0(\\x00\\xa2\\x96\\x81@\\\\LQ\\x8aR3K\\xda\\x81\\t\\x8a1\\xf9R\\xe2\\x8a\\x066\\x8a\\\\R\\xe2\\x9d\\xc2\\xc3qE.(\\x03\\x9ei\\x80\\xdcQ\\x8aw\\x19\\xa3\\x14\\x85a\\xb8\\xa4\\xc5;\\xad\\x18\\xa61\\x84`Rb\\xa4\\xc5&)\\x08\\x8c\\x8aB)\\xe6\\x93\\x14\\x05\\x86\\x91I\\xdb\\x8a~)\\xb8\\xa6\\x16\\x1ai1N\\xa3\\x14\\x05\\x86SOZ\\x90\\x8an(\\x10\\xc3M5&)\\xb8\\xc1\\xa0dL)\\xbd\\xeab)\\x8c\\xbc\\xd3\\x19\\x11\\x14\\x9d)\\xe6\\x93\\x1e\\xb4\\xc0\\x8c\\xf4\\xe2\\x9bR\\x11\\xedI\\x8a\\x00e%?\\x14b\\x90\\r\\xa4\\xa7\\xe2\\x8d\\xb4\\x00\\xccQ\\x8a~9\\xa4\\xc74\\x00\\xccR\\x11R\\x15\\xe6\\x90\\x8ei\\\\\\x08\\x88\\xf5\\xa4#\\x9a\\x97\\x14\\xd2\\xbe\\xd4\\xc4BE4\\xaejr)\\x84Q{\\x0c\\x84\\xad4\\xadLG\\x14\\xd2(\\xb8\\x10\\x95\\xcd4\\xadO\\x8aM\\xbe\\xd4\\xee\\x04\\x05i1\\xc5NT\\x1ac/\\xe5@\\xc81\\xebM\\xc5L\\xcbM\\xdbLDX\\xad\\x0f\\r\\x8f\\xf8\\xa8\\xf4\\xbf\\xfa\\xfb\\x8b\\xff\\x00C\\x15P\\xadhxl\\x7f\\xc5E\\xa5\\xff\\x00\\xd7\\xd4_\\xfa\\x18\\xa6\\xb7\\x19`\\np\\x14\\x82\\x96\\xb9\\xee!@\\xa3\\xbd\\x034P\\x01GZP\\x05.(\\xb8\\t\\xda\\x96\\x94R\\xd0!)qJ\\x074\\xe0=i\\\\\\x06\\x81\\xedJE;\\x14\\xa0Qp\\x1a)E.)@\\xa2\\xe3\\x13\\xad.)qKE\\xc0AKJ\\x05.)\\\\\\x04\\xc5.(\\xefKN\\xe0\\x14\\xb4t\\xa2\\x9d\\xc0)h\\xefE\\x17\\x01izR\\x03J(\\xb8\\x0bKH)G\\xf3\\xa2\\xe0\\x14\\xb4\\x94\\xb4\\\\\\x02\\x8cQFh\\xb8\\\\(\\xa0QE\\xc0\\\\Q\\x8a3\\xc5\\x19\\xa0\\x02\\x96\\x92\\x96\\x80\\x12\\x97\\x1d\\xe8\\xebE\\x00\\'Z1KFE\\x02\\x13\\x14\\xe1\\xd2\\x92\\x95q@0\\xa5\\xc6h\\xe9\\xd6\\x97\\x8a\\x044\\xd1\\x8aSE;\\x95`\\xc5&1\\xcd)>\\x94P+\\x88h\\xa2\\x8a\\x00LP\\x05)\\xa2\\x81\\x88E%:\\x90\\xd3\\x011HE:\\x90\\xd1p\\x13\\x14\\x84S\\x8d%;\\x80\\xd3I\\x8c\\nu%\\x000\\x8ei;\\xd3\\xcd4\\xd0\\x03qA\\x14\\xecRP\\x03\\x08\\xe2\\x9aEHi\\r0#aM\"\\xa4\"\\x93\\x14\\\\\\x08\\x8a\\xd3\\x18T\\xc4SH\\x06\\x8b\\x81\\tZ1R\\x91M\\xc7\\xb5\\x17\\x01\\x98\\xa4\\xc7\\xe1O\\xdbK\\xb6\\x80\\x19\\x8a1O\\xc0\\xa4\\xe2\\x80\\x18V\\x8cS\\xa8\\xa0\\x06\\x91\\x9aB)\\xc7\\xa5%\\x000\\x8e)\\xa4T\\x86\\x93\\x1cs@\\x92#\"\\x9aEHFi\\xa6\\x81\\x91b\\x93\\x15!\\x14\\x9cP\"<Rm\\xa91\\xcd&0h\\x1bV\\x19\\xb7\\x8a\\x8c\\xadM\\xd2\\x9aE;\\x8e\\xc4EsL+Sc\\x9aB)\\xdc,C\\x8a\\xbf\\xe1\\xc5\\xff\\x00\\x8a\\x8bK?\\xf4\\xf5\\x17\\xfe\\x86*\\xa1\\x15\\x7f\\xc3\\x83\\xfe*\\x1d3\\xfe\\xbe\\xa2\\xff\\x00\\xd0\\xc54\\xf5\\x18\\xfap\\xa6\\x80iW\\xads2E\\xa3\\x194R\\xd0!p1\\xc5\\x02\\x81\\xd2\\x81@\\n)\\xc2\\x9a:S\\xa9\\x00\\xa2\\x96\\x90t\\xa5\\xa0\\x05\\xa2\\x8a?\\x9d\\x00(\\xa5\\xa4\\x14\\xa2\\x80\\x16\\x96\\x90R\\x8a\\x00)\\xd4\\x80\\xf64\\xbdh\\x00\\xc5\\x03\\xad-\\x14\\x00w\\xa2\\x8aQ\\xd6\\x9d\\xc7q)iq\\xcd\\x18\\xa2\\xe0\\x14\\xa3\\xde\\x81@\\x14\\\\B\\xd1\\x9a(\\xc5\\x17\\x18\\xb9\\xa34RR\\x10\\xb4\\xbd\\xa9\\xb4\\xa0\\xd3\\x01\\x05)4\\x94R\\x01\\xc0\\xf1K\\xc52\\x94t\\xa6\\x03\\xb3K\\x9ah\\xe2\\x8a.1\\xd9\\xa2\\x92\\x8cP \\xa2\\x8a1@\\x0b\\xf4\\xa4\\xefE\\x00P\\x02\\x83N\\xa6\\x0e\\xb94\\xe1\\xc9\\xa0\\x02\\x97\\xa5&:\\x1a\\t\\xa7q\\x87zZN\\x9cQ\\x9a\\x04\\xc5\\xcd%\\x19\\xa3\\xbd\\x17\\x10QFh\\xa7q\\x85\\x14\\xb4\\x86\\x80\\x10\\xd2b\\x9dHy\\xa6\\x03H\\xa0\\x8a(4\\\\.!\\xa44\\xa6\\x92\\x80\\xb8\\x87\\xad6\\x9cy\\xa4\\xedL\\x044\\x83\\xf2\\xa54\\x94\\x0c)1K\\x9aJ.\\x02b\\x93\\x1c\\xd3\\xbb\\xd2\\x1a.\\x03\\x08\\xa4\"\\x9f\\xedIE\\xc0f)1O4\\x984\\\\\\x06`Q\\x8aSE\\x17\\x01\\xa4R\\x1e\\xb4\\xeaJ`1\\xa9)\\xc4\\x1aLP\\x02\\x1am8\\xd2P\\x03M!\\xa7\\x1a1\\xc5\\x000\\x8ai\\x14\\xf3HE\\x00FE&)\\xf8\\xa3\\x1d\\xe8\\x1d\\x86c\\xf2\\xa4=)\\xe7\\x81M\\xa0\\x18\\xc28\\xa6\\x91\\xc5I\\x8fJi\\x14\\r\\x11\\x91HG\\x14\\xf3\\xcd!\\x14\\xee\\x1b\\x91\\xd5\\xff\\x00\\x0e\\x8f\\xf8\\xa84\\xbf\\xfa\\xfa\\x8b\\xff\\x00C\\x15H\\x8a\\xbf\\xe1\\xc1\\xff\\x00\\x15\\x06\\x99\\xff\\x00_Q\\x7f\\xe8b\\x9a\\xdc\\x16\\x80)E 4\\xbf\\xca\\xb9\\xc8\\x0c\\xd2\\x8ai\\xa5\\x1d(\\x01\\xd4\\xa2\\x99\\x93NS@\\x0e\\xa5\\x14\\xd1N\\x14\\x00\\xe0x\\xa5\\x14\\xd1JO\\x14\\x00\\xea3M\\x14\\xa2\\x98\\n\\r-&?:Ph\\x01E8R\\x03KH\\x02\\x94Rb\\x95z\\xd0\\x02\\xe6\\x94\\x1a(\\xa0\\x054\\x0eh\\xa5\\xc5\\x00\\x00\\xe2\\x96\\x90\\xe34\\x0e\\xb4\\x00\\n\\\\\\xd1J(\\x01)@\\xa0R\\x8e(\\x00\\xa4\\xa5\\xa2\\x80\\x10\\xd1N\\xc5\\x18\\xa0\\x04\\xc5\\'Zu\\x1fJ\\x001H)\\xd4P\\x02b\\x94Q\\x8a\\\\\\x0c\\xd0\\x01E\\x14\\xb8\\xa6\\x02Q\\xe9N\\xc5\\x18\\xa0\\x06\\xf6\\xa5\\x02\\x94\\x8a\\x07J\\x00O\\xeb@\\xa5\\xc5(\\xe0P\\x03O\\xe9@\\xf7\\xa5\\xa0\\xf3@\\x08O\\xb5%;\\x02\\x8a\\x00O\\xc2\\x81\\xcfZQ\\xcfZ\\\\zP\\x03H\\xc5\\x02\\x94\\x8fJ\\x0eh\\x01\\t\\xa34c\\x8aJ`\\x19\\xa44\\x1e\\xb4R\\xb8\\x05!\\xa3\\x9aL\\x9fZw\\x00\"\\x90\\xd2\\xf3I\\xcd\\x17\\x01\\x0fZ(?Z\\x07Z.\\x02RR\\xf3\\x8e)(\\xb8\\x08x4QGni\\xa6\\x01M\\xa7RQp\\xb0\\x84R\\x1aZ(\\xb8\\xc6PE;\\xb5!\\xa2\\xe00\\xfbRS\\x8fJJ.\\x02u\\xa4\\xa7\\x11\\xc54\\xd3\\xb8\\r4\\xdcz\\xd3\\xc8\\xf4\\xa4?\\xad1\\r\"\\x92\\x9d\\xf5\\xa4\"\\x8b\\x80\\xda1K\\x8a(\\x01\\xa6\\x90\\xd3\\xf1I\\x8a\\x06\\x88\\xc8\\xcd&)\\xe4sM9\\xa0c}\\xa9\\x00\\xebN\\xc5%\\x17\\x0b\\r\\xc54\\xf5\\xa9\\r0\\x8a.;\\x0cn\\r4\\xf4\\xa9\\x08\\xa6\\xb0\\xa2\\xe2#\\xc5_\\xf0\\xe8\\xff\\x00\\x8a\\x83L\\xff\\x00\\xaf\\xa8\\xbf\\xf41T\\xc8\\xab\\xde\\x1f\\xff\\x00\\x91\\x83L\\xff\\x00\\xaf\\xa8\\xbf\\xf41U\\x17\\xa8\\xeeD3N\\xa4\\xf6\\xa5\\xc5`@\\xbd)i\\r\\x19\\x19\\xa0\\x05\\xa5\\xedH\\x05.(\\x01E- \\xa5\\xfaP\\x02\\x8ap\\xa6\\x8aQ@\\x0b@\\xe2\\x80isL\\x05\\xa5\\xa6\\xf7\\xa7\\n\\x00Q\\xd2\\x94\\x1am8R\\x01iE \\x14\\xb8\\xa0\\x07QI\\x83N\\x14\\x00\\x80\\xd3\\xc7Z`\\xe2\\x94\\x1eh\\x01\\xd4\\xa2\\x93=\\xa9h\\x10\\x9d\\xe9\\xd4Q@\\x07zZJ(\\x00\\xa0\\xd1\\x9a3@\\x05-6\\x97\\x14\\x80RE%\\x14v\\xa0\\x05\\xed@\\xa3\\xb5-\\x00%(\\xa2\\x96\\x80\\x00)h\\x14\\xa2\\x80\\x0cs\\x8a\\\\qIK\\x8a\\x00\\x05\\x06\\x8aQE\\xc64\\x8a1\\xde\\x94\\xd1\\x8a\\x00\\x05&9\\xa5\\xa2\\x81\\t\\x8a^\\xf4P(\\xb8\\x05\\x14QL\\x03\\x14\\xb4\\x94S\\xb8\\xee\\x14\\xd2)\\xc6\\x8a\\x043\\x14\\x84S\\xa8\\xa41\\x9d\\xe8\\xa7\\x11M\\xc1\\xa0\\x04\\xc7\\x14R\\xe0\\x9a\\x00\\xe7\\x9a\\x00i\\xa5\\xe2\\x8cQ\\x8a\\x00CM\"\\x9eG\\x14\\x84P\\x031I\\x8ay\\x14\\x98\\xa0\\x06\\x11H\\x074\\xf3M4\\x00QHis\\x8a\\x00CI\\x8aq\\xa4\\xa61\\xa4Si\\xf4\\xd3E\\xc2\\xe3\\x08\\xe6\\x93\\x14\\xf23HE\\x17\\x01\\x98\\xa0\\xf4\\xebO\\xa6\\x91N\\xe04\\xd2S\\xb1I\\x8aw\\x10\\xdcPi\\xd8\\xe2\\x82(\\xb8\\x0c\\x1c\\x9a\\x0fZ\\\\b\\x82(\\xb8\\r?\\xad7\\x14\\xe2(\\xc7\\x14\\xaeRc6\\xd3q\\x9a\\x96\\x9aE\\x17\\x02<Rc\\xf2\\xa7\\x91\\x8aB(\\xb8\\xc8\\xcd4\\x8a\\x93\\xad&)\\xdc\\x08\\xc8\\xab\\xfe\\x1e\\x1f\\xf1?\\xd3?\\xeb\\xe6/\\xfd\\x0cU<U\\xef\\x0f\\x8f\\xf8\\x9f\\xe9\\xbf\\xf5\\xf3\\x1f\\xfe\\x84)\\xc5\\xea\\x04\\x1by\\xa5\\xe9K\\x8cR\\xd6d\\r\\xfb\\xd4b\\x96\\x83@\\x00\\xa7v\\xa4\\x00R\\xd0\\x02\\x0e)h4P!\\xc2\\x97<\\xd2\\nu0\\nQH)E\\x03\\x14R\\xf7\\xa4\\x14\\xb4\\x00\\xa2\\x96\\x8aZ@8PM \\xa0\\xd0!\\xc3\\xa5(\\xa6\\x8aZ\\x00ZP);R\\xf6\\xa0\\x05\\xa5\\x14\\x82\\x96\\x80\\x16\\x94RR\\xd0\\x02f\\x8c\\xd0h\\xa0\\x04\\xa5\\xa4\\xa5\\x14\\x80(\\xa4\\xa5\\xa5p\\x12\\x9c)(\\xa5p\\x14R\\xd2R\\xd3\\x01ii\\xb4\\xb4\\x00\\xa2\\x94Ru\\xa5\\x14\\x00\\xb4\\xb4\\xdc\\x1aZ\\x06\\x14QK@\\tKIE\\x00\\x14PzPh\\xb8\\x05\\x02\\x92\\x83@\\x85\\xcd\\x14\\x94S\\x01h\\xcd6\\x8e\\xf4\\x00R\\xf6\\xa6\\xe6\\x8c\\xfa\\xd0\\x02\\xe74v\\xe2\\x90\\xd2\\x1a`(\\xa2\\x81\\xd2\\x92\\x80\\n)\\x06ih\\x01\\r\\x19\\xa4=h\\xa0\\x054\\xda\\r%\\x00\\x1dh\\xa2\\x934\\x00\\x98\\xe2\\x93\\x14\\xb4\\x94\\x00b\\x93\\x14\\xb4\\x9d\\xcd\\x00)\\xe9L\\xeai\\xc7\\x9aN3@\\xc4<S{\\xd3\\x8d!4\\x00\\x11I\\x8a3F}h\\x011IK\\xda\\x9b\\xde\\x80\\x028\\xa4\\x03\\x07\\x8aq\\xa2\\x80\\x1b\\x8a)i\\r\\x00\\'Q\\x8aLS\\xbbRP\\x03q\\xcd&)\\xd4\\x1a\\x00f)\\x0fJy\\xfdi:P1\\x84SH\\xe2\\x9ei1\\x9a\\x06G\\xb6\\x93\\x14\\xfcRc\\x8ab\\xb8\\xccdU\\xef\\x0f\\x8f\\xf8\\x9f\\xe9\\xbf\\xf5\\xf3\\x1f\\xfe\\x84*\\x91\\x15{\\xc3\\xff\\x00\\xf2\\x1e\\xd3\\x7f\\xeb\\xe6?\\xfd\\x0cS\\x8e\\xe3L\\xafA\\xa4\\xe2\\x97\\x1c\\xd1b@\\x1a^\\xf4\\x94\\xa2\\x95\\x80\\r\\x14Q\\xd3\\xad \\x0c\\xe6\\x94P:R\\xd3\\x00\\xa7RP(\\x10\\xe1N\\xa6\\x8au\\x03\\x16\\x94R\\nQH\\x05\\xa5\\xcd%(\\xa0\\x05\\xa5\\x14\\x99\\xe2\\x94P!\\r/ZA\\xd6\\x97\\x14\\x0c\\\\\\xfb\\xd3\\x854S\\xc5\\x02\\x12\\x94{\\xd0h\\xcd\\x00:\\x83E\\x07\\xd2\\x80\\x12\\x8aZN\\xf4\\x80(4QI\\x80R\\x8aJ)\\x00\\xb9\\xa34\\x94\\xb4\\x00\\xa2\\x94SE(\\xa0\\x00\\x1ap\\xfa\\xd3iFi\\x80\\xea))h\\x01\\xd4RQ\\xda\\x80\\x16\\x94Sh\\xcd \\x17\\xa5\\x14\\x99\\xa2\\x80\\x16\\x90\\x9aJCE\\x80u\\'\\xd2\\x83I\\x9a\\x10\\x0b\\x9a\\t\\xa4\\xcd\\x14\\xc03Fi(\\xa6\\x02\\xd2Q\\xd6\\x92\\x80\\n3IJ(\\x00\\xa4\\xa0\\xd2\\x1a\\x00Z\\x05%\\x19\\xa0\\x05\\xcd!8\\xa4\\xa4&\\x98\\x0b\\x9cR\\x13IF})\\x00v\\xa4&\\x83M\\xa2\\xe0.h\\xc8\\xa6\\xfe4}h\\xb8\\x0e\\'\\xde\\x8ai\\xebFx\\xa7p\\x16\\x90\\xd2PM\\x00\\x14\\x87\\xa5)\\xa6\\x9c\\xf64\\x00\\x1ai\\xe3\\x9a\\t\\xfc\\xe9\\x0fJc\\x03\\xd2\\x8e\\xf4\\x99\\xa3<\\xd0\\x03\\xb3\\x81Fi\\xa4\\x83I@\\x0e\\xc8\\xf5\\xa4\\xcd7\\xbd\\x19\\xe6\\x90\\n\\r\\x19\\x14\\xdc\\xfaP}h\\x01M%\\x19\\xa4&\\x90\\x0bIGJoz\\x00SFx\\xa44\\x94\\x00\\xb4\\x8dIA4\\xc0CWt\\x0f\\xf9\\x0fi\\xbf\\xf5\\xf3\\x1f\\xfe\\x84*\\x89\\xab\\xba\\x01\\xff\\x00\\x89\\xf6\\x9b\\xff\\x00_1\\xff\\x00\\xe8B\\x9cwCEq\\xd7\\x8a(\\x14\\xe0\\x05P\\x86\\xd1Jh\\xe2\\x80\\n\\r\\x18\\xa0R\\x10R\\x8a1@\\x14\\x00\\xa2\\x94\\x1a:P(\\xb0\\x0e\\x14\\xeae?\\xb5!\\x8b\\xef\\x9aZj\\xd2\\x8a\\x00QKGj)\\x00\\xb4QK\\x8a\\x00Jv{Si\\xc2\\x80\\x1c)A\\xa4\\xa5\\xfaP\\x01J)\\r(\\xa0\\x05\\xa5\\x14\\x94\\n\\x00u7\\xbd-\\x07\\xa7J\\x04\\xc4\\xa2\\x8a)\\x08(\\xa2\\x8cR\\xb0 \\xa54QH\\x034\\n\\r-\\x01\\xa8f\\x94Rw\\xa5\\x14\\x05\\xc5\\x06\\x8aJZa\\xa8\\xb4RR\\xd00\\xcd\\x14\\x94P\\x02\\xe6\\x8aJ(\\x15\\xc34Q\\xda\\x8a\\x06\\x14RQ@\\x0b\\xda\\x92\\x8aJ\\x01\\x8b\\xda\\x8aL\\xd0i\\x88;Q\\x9a)(\\x10QE\\x14\\x0e\\xe2QE\\x06\\x80bg\\x14\\x94R\\x1a\\x00\\r&h\\xe6\\x81\\xd6\\x81\\x857\\x8aZJ@\\x14\\x86\\x8a(\\x00\\xa44\\x1e\\xb4\\x86\\x80\\n\\x01\\xa2\\x8e)\\xa0\\x16\\x92\\x91\\x8d\\'\"\\x98\\x0e\\xcf\\x14\\xdc\\xd0M\\'\\xf3\\xa0a\\x9aJ\\x0fZN\\x94\\xc4!4\\x94\\x1a(\\x00\\xa0\\xd1\\xd6\\x92\\x90\\x05%\\x1di(\\x01X\\xf3HM!\\xe6\\x8a\\x00\\r-4\\xd2\\xd0\\x02\\x93\\xc56\\x8c\\xd1H`i)O\\x02\\x9ah\\x00\\xe9E\\x14\\x94\\xc0CW\\xbc?\\xff\\x00!\\xed7\\x03\\xfe^c\\xff\\x00\\xd0\\x85Q\\xab\\xba\\x07\\xfc\\x87\\xf4\\xec\\x7f\\xcf\\xcc\\x7f\\xfa\\x10\\xa7\\x1d\\xd0\\xd1\\x1e(\\xc5--P\\x86\\x1e\\xd4S\\xb1F9\\xa0Ch\\xa7~\\x14\\x01\\x9a\\x00LP)\\xd8\\xa2\\x80\\x10R\\x81J\\x00\\xa2\\x80\\np\\x1e\\xb4\\x94\\xa2\\x93\\x18\\xa3\\xa5(\\xa4\\x1e\\xd4\\xe09\\xa9\\x00\\x14R\\xd1@\\x05-\\x04P\\x05\\x00\\x03\\x8ap8\\xa3\\x19\\xa2\\x80\\x14R\\x8a)@4\\x00\\n^\\xd4\\x9d){P\\x02R\\x8a(\\xc5\\x00\\x14\\xa3\\xa5%8S$JS\\xd2\\x83\\xebFx\\xa4\\x03ih<\\xd1@\\x82\\x8a^\\xb4b\\x95\\x80N\\xd4\\xbdM\\x14\\n,\\x01\\xd2\\x96\\x8a(\\x18P)h\\xa0aE\\x1d(\\xa0\\x02\\x8a;\\xd2P-\\xc5\\xe6\\x92\\x8a;\\xd2\\x01sIE-\\x03\\x10\\xd1\\xe9E\\x14\\xecK\\x10\\xd2S\\xa9>\\xb4\\x00\\x1aJ\\r\\x14\\xc0(\\xa3\\x8aJ\\x00Z3IE\\x16\\x00\\xa4\\xa7Rw\\xa4\\x03i\\r;\\x14\\x87\\xda\\x81\\x8d4\\x86\\x9ci\\x0fZ\\x02\\xc3h\\xf5\\xa54\\x86\\x90\\\\JJZ(\\x04\\'zJZN\\xf4\\x0c\\x08\\xa4\\x19\\xa5&\\x81M\\x00\\x87\\xad!>\\xb4\\xa6\\x93\\x19\\xa0\\x04\\xa4\\xc5;\\xa5\\'zh\\x04\\xebM\\xa7Rb\\x98\\r=h\"\\x94\\xd2P\\x02QK\\xda\\x92\\x90\\x08i\\xb4\\xeaC@\\r\\xed@\\xa3\\x14\\x13@\\x05\\x14Q@\\x00\\xa4\\xcd\\x1fJC@\\x0bM\\'\\x9aPi\\xa4\\xd01:Q\\xd6\\x83\\xc5\\x19\\xc9\\xe2\\x80\\x02}*\\xef\\x87\\xff\\x00\\xe4?\\xa6\\xff\\x00\\xd7\\xcc\\x7f\\xfa\\x10\\xaaF\\xafx\\x7f\\xfeC\\xfao\\xfd|\\xc7\\xff\\x00\\xa1\\nq\\xdd\\r\\r\\xa5\\xc5.?*QT\\x03qA\\xe2\\x94\\x8cQ\\x8eh\\x0b\\r\\xc5-(\\x1c\\xd0E!4&(\\xc5-\\x14\\x00b\\x96\\x8a>\\xb4\\\\\\x00R\\xe2\\x81J:R\\x00\\x14\\xe1@\\x14\\xb8\\xa4\\x01K\\x8a1K@\\tJ(\\xc5-\\x00 \\x1d)\\xc2\\x808\\xa5\\xc7\\x14\\x00Q\\xd2\\x94\\n(\\x011KKA\\x14\\x00\\x98\\xa2\\x9c(\\x03\\x9a\\x00LQKN\\x02\\x81y\\r<\\xd1\\x8aQN\\xc5\\x02\\xdcf)E.)q@\\x86\\x81\\xc5\\x04S\\xb1K\\x8e)\\x00\\xccQ\\x8av(\\xc5\\x00 \\xa5#\\x8aP(\\xa0bb\\x8cf\\x96\\x8a\\x02\\xe2b\\x8a\\\\zRP\\x0cB9\\xa3\\xde\\x96\\x8a\\x066\\x94QE\"D\\xa5\\xa4\\xedK@\\\\J(4Qp\\nJ(\\xefL\\x04\\xefE)\\xa2\\x98\\x08G\\x14b\\x96\\x97\\x14\\x00\\xde\\xf4S\\xb1F(\\x01\\xb84S\\xb1I\\x8a@6\\x9aA\\xcd>\\x90\\xd0=\\xc6PiH\\xa3\\x14\\x03\\x1b\\x8ei\\r;\\x14\\x84R\\x044\\x8aJv)1@\\xc6\\xd2S\\xa9(\\x01(\\xa5\\xa3\\x1c\\xd0\\x02b\\x90\\x81J:\\xd2\\x9a`%!\\x14\\xee\\xd4b\\x98\\x0c#\\x8aeHzSi\\x8ci\\xe9M=)\\xc6\\x93\\x1c\\xd0!1IN4\\x86\\x90\\tM4\\xeaF\\xa0\\x06\\xd2R\\x9aJ\\x00CE\\x14P\\x01\\xda\\x92\\x96\\x8cP\\x03qHi\\xc74\\xd3@\\x08i9\\xa54\\x1a\\x00C\\xcd^\\xf0\\xff\\x00\\xfc\\x87\\xb4\\xdf\\xfa\\xf9\\x8f\\xff\\x00B\\x15F\\xafh\\x1f\\xf2\\x1e\\xd3?\\xeb\\xe6?\\xfd\\x08S\\x8e\\xe8hv( \\xd3\\x80\\xf5\\xa3\\x14\\x80oj\\x06i\\xc0QL\\x04\\xc5!\\x14\\xee\\xd4\\x86\\x90\\tKF)@\\xa6\\x02u\\xa3\\xbd;\\x14\\xb8\\xa4\\x03iE.)v\\xd0\\x02\\x0e\\xb4\\xecsI\\x8ap\\x14\\x00b\\x97\\x14\\xaa9\\xa7\\xe2\\x80\\x18\\x05.)ih\\x10\\x94`\\xe6\\x94R\\xd0\\x02\\x01\\x8a1N\\xa2\\x81\\x8d\\xc5(\\xebN\\x14\\xa0P\\x03@\\xa7\\x01K\\x8e)F(\\x10\\xd23J\\x05/\\xd2\\x8a\\x04%\\x14\\xb4R\\x0b\\x89@\\xa5\\xa5\\xa0BQK\\x8a=h\\x0b\\x08E\\x1d\\x05-\\x18\\xcf\\x14\\x0cLQ\\x8a\\\\Q\\x8aB\\x12\\x8a(\\xfaP\\x01\\xd2\\x92\\x96\\x8c\\xd1p\\x12\\x90\\x9a\\r!\\xebJ\\xe0%\\x06\\x821E!\\x89\\x9c\\xd1\\x9fJ)(\\x01sFri\\r \\xeb@\\x87QIG\\xf4\\xa0\\x05\\xa5\\xa2\\x81\\xcd0\\x01KA\\x18\\x19\\xa4.\\x07\\xd6\\x9a\\x01\\xd5\\x19\\x90o\\xda:\\xd6v\\xa1\\xaaEn\\x87\\xe6\\xf9\\xab(\\xeaN\\xd2\\xee\\x04\\x00N:\\xd7D(\\xcaEF\\x12\\x96\\xc7P\\x18\\x1aL\\x83\\xd2\\xaaD$p\\x9b\\x18e\\x87\\x19<Ug\\xb8\\x92\\xd6L\\\\.\\x14ujN\\x93E\\xba\\x15\"\\xae\\xd1\\xa7\\xc5\\x06\\xb3\\xec\\xef\\xd2y\\x1c\\xab\\x02\\xb9\\xc5_\\x0c\\x18qX\\xc95\\xb9\\x90R\\x1f\\xad(\\xe0R\\x11P1\\r%8\\xd3\\x0f\\xb5\\x03a\\xedI\\x8fJS@\\xe9@!\\xb8\\xa3\\xbd:\\x90\\xf4\\xa7p\\x1aE\\x14\\xb8\\xa3\\x14\\\\\\x04\\xebHx\\xa7v\\xa4\\xc50\\x12\\x8aZ\\x08\\xc8\\xa10\\x1ai\\xa6\\x9cE%;\\x80\\xc3\\xebINjJh\\x06\\x9e))\\xd4\\xd3C`!\\xa6\\x9aq\\xa4\\xa4\\x03M%8\\xf4\\xa6\\xd3\\xb8\\x06(\\xa2\\x8a\\x00);sG\\xd2\\x90\\xd0\\x02w\\xa44\\xb4\\x94\\x00\\x94\\x94\\xee\\xd4\\xda\\x00\\x0f\\x15\\x7f\\xc3\\xc7\\xfe\\'\\xfao\\xfd|\\xc7\\xff\\x00\\xa1\\n\\xa0j\\xf6\\x81\\xff\\x00!\\xed7\\xfe\\xbeb\\xff\\x00\\xd0\\x855\\xba\\x1a\\xdc\\x90sKM\\x14\\xa2\\xa6\\xe2\\x0c\\xd1\\x9a\\r\\x00z\\xd2\\xb8\\xc5\\x14c\\x9a(\\xa7q\\x05\\x14u\\xa5\\xc5+\\x80\\nwzm-;\\x80\\xa0qE \\xa5\\xefE\\xc0p\\xe9J\\xbdi\\x06iqC`-8\\x1am8Qp\\x13\\x14\\xb8\\xf4\\xa5\\x02\\x97\\xe9J\\xe07\\x14\\xa3\\xad.)i\\\\\\x04\\xc5-\\x14\\xe0)\\xdc[\\t\\xce=\\xa9E-\\x14\\xee\\x17\\x0e\\xd8\\xa2\\x96\\x8a.7\\xa0\\x94R\\x8e\\x94b\\x90\\x96\\xe1E.8\\xa3\\x14\\xae \\xc7\\xa5\\x03\\xe9J\\x05-\\x17\\x1d\\x86\\xd1\\x8au\\x14\\\\5\\x13\\xe9E(\\xa5\\xc7\\x1cQq\\xa67\\x14\\x98\\xa7b\\x8cQq!\\x86\\x8e\\xf4\\xe2)1\\x91E\\xc44\\xd2w\\xa7\\xf4\\xebF3Hc1E8\\x8aB1@\\x86\\x11F=)\\xc7\\xa5 \\xf7\\xa0W\\x10\\xd3i\\xf8\\xa4\\xc0\\xa0.4\\x8a@)\\xf8\\xc5.(\\x06\\xc6\\x05\\xa5\\xe9O\\xc5! rh\\x0b\\x89\\x8c\\nB\\xe1z\\xd4\\x13\\xdd\\xa4`\\xe5\\x80\\x18\\xac\\xd9\\xafd\\xb9\\x91E\\xb7\\x03\\xfb\\xdd\\xa9\\xd8\\xd6\\x14\\xe5Q\\xda(\\xbb=\\xfcQ+\\xee<\\x8e\\x98\\xaaFI\\x9a\\xceK\\x99I\\x8a0\\x08\\x18<\\xd4\\x91\\xd8\\xac3y\\xad\\x87`2{\\xf3\\x9a\\xe7<c\\xaa\\x18\\xa00\\xabq\\xd7nj\\xe1\\xab\\xb2=\\x1ax(\\xc1sOS\\x0fT\\xd4W\\xed\\n\\xa8Ie=I\\xad=&\\x19\\xafw\\xb0\\xe20w\\x0cv\\xef\\\\\\x84$\\xcd.\\xee\\xe4\\xe6\\xbd/\\xc2\\x025\\xb1n\\n\\x8c\\xe1\\xb3\\xd5k\\xbe\\xb4\\xbd\\x9cREQ\\x8a\\x94\\xbc\\x8d}40\\x86#\\xdb\\x18\\xc9\\x18\\xc5W\\xd5\\\\NJ\\x05\\x00\\x8e0{\\xd6\\x87\\xc8\\x01Fa\\xf3\\x0c\\x02;U[\\xc8Y\\x9bra\\xc9 \\x00\\xa3\\xa9\\xe9^\\x7f;\\xb9\\xdb\\xcb\\xa1\\xc5i\\xf3\\xcbg~\\xd0\\x00\\xdfx\\x10\\x07s]\\x9e\\x92\\xd77M\\xe5\\xacM\\xbc\\xfd\\xdfCZ\\xb6Z\\r\\x85\\x92Cy~\\xa0\\xca2\\xea\\x87\\x1c\\x93\\xebL\\xd4<A0\\x87\\xc9\\xb2D\\x8c7!\\x07\\x07\\x1d\\x00\\xf7\\xff\\x00\\n\\xd9\\xbb\\xadN\\x1a\\x98xL\\xb3o\\xa5]\\xc8\\x7fz\\xa1\\x06=E;\\xfb*\\xec.<\\xb2N=8\\x07>\\xb5\\xc5]j\\xb7\\xad$\\x8b\\x13\\xbbH\\xa78\\\\\\x91\\x8f_\\xcb\\xfc\\xf7)k\\xe2-F\\xde@\\x12w8\\xc1 \\x1e\\x01\\xfe\\xb5\\x0e(\\x8f\\xaa\\xc1\\xe8\\x8e\\xa3c\\xa8\\xc4\\x8aA\\xc9\\x14\\xc1\\x83I\\xa5\\xf8\\x96\\xda\\xf4\\x84\\xd4\\x95L\\x9c~\\xf1N\\t\\xe7\\xbf\\xadh\\xde\\xda\\x05U\\x96,4%~R\\xa7\\x83Y\\xb8\\x9c\\xd5p\\xce\\x1a\\xad\\x8c\\xfcP\\x06)W\\x0c\\xa0\\x8a\\\\T\\x9c\\xe3H\\xa3\\x14\\xe2(\\xa0\\x06\\x1a)\\xd8\\xa3\\x14\\x01\\x19\\xa4\\xc5HE&?:.\\x03{RS\\x8d\\'Z\\x00e\\x1d\\xa9\\xc7\\x8a\\r\\x17\\x023M\"\\x9ei\\r;\\x80\\xc3M4\\xf2?*i\\xa2\\xe0Fh\\xa7\\x1aCE\\xc0i\\xa44\\xee\\xa2\\x9b\\xf5\\xa7p\\x0f\\xad\\x14QE\\xc0C\\xefHi\\xddi1\\xcd0\\x1bHiM&(\\x01\\xbd\\xa8\\xcd-\\x06\\x80\\x12\\xafx\\x7f\\xfeC\\xfao\\xfd|\\xc7\\xff\\x00\\xa1\\n\\xa2j\\xf7\\x87\\xff\\x00\\xe4=\\xa6\\xff\\x00\\xd7\\xcc_\\xfa\\x10\\xa6\\xb7CC\\x85.i\\x94\\xa0\\xe6\\xb2\\xb8\\x87\\nQM\\x06\\x94\\x1eh\\x01\\xd4f\\x93&\\x8a\\x00ZZJ(\\x01z\\xd1@\\xe9E;\\x80\\np\\xa6\\xd3\\xa8\\xb8\\n:S\\xc54R\\xd0\\x03\\x85-4\\x1aPh\\x01E;4\\xd1K\\x9e)\\x00\\xb4\\xe1\\x8a`\\xa5\\x06\\x8b\\x92;\\xb6(^\\xb4\\x82\\x9c(\\xb8\\x01\\x1c\\xd2\\x8ei3K\\x9a\\x02\\xe2\\xd2\\x8an})E\\x03\\xb87ZAJi\\xb4\\\\\\x18\\xfaZh\\xa5\\x1dh\\x18\\xe1KM\\x1cR\\x8fj\\x00Z)(\\xcf4\\x00\\xbd\\xe9{\\xd2\\nZd\\xb11GjZJ\\x00LQKE\\x00%!\\xe9K\\xde\\x93\\xbd\\x00!\\xa4\\xedJ)\\r!\\r\\xc55\\x98/Z\\x90\\x02\\xdc.3\\x8e\\x95=\\xe3\\xdai\\x96\\x86[\\xc6%\\xfa\\x88\\xbb\\x9f\\xf3\\xc58\\xc6\\xe6\\xb4\\xe9J\\xa3\\xb2 \\x8a\\tee)\\xc0\\xcf\\'\\x1e\\xd5|i,\\xec|\\xc2\\x13\\xa7B0}k\\x8e\\xd4\\xfcaq,\\xcc\"\\x90\\xc7\\x0f@\\xab\\xdb\\xfc\\xfa\\xd6t\\xba\\xdd\\xfc\\x93\\xaa\\xbc\\xcc\\x15\\xc6\\xc5l\\xf5\\'\\xbdh\\xa0\\x8e\\xe8\\xe1 \\xb7=\\x14h\\xf26\\xdc:\\xf4\\xe7\\x9c\\xe2\\xa8\\xcfiq\\x06<\\xc8\\xce\\xdfQ\\xc8\\xaen\\xdfU\\xbc\\x0f\\t\\x8aG;\\xc0\\x04d\\x8eG\\x0c\\xb9\\xecr:{\\x8a\\xdd\\xb0\\xf1,\\xcd\\x1cF\\xe6%up\\x02\\xb0\\xee{\\x8f\\xaehpA,$%\\xb0\\xd7\\x95\\x15I$V>\\xa1\\xaa-\\xb9\\x18;\\xc1\\xc8 u\\xe6\\xb6\\xee\\xac\\xa1\\xd4P\\xc9h\\xe5ARLg\\xaf5\\x8b\\x1e\\x92\\xb0>$\\x04\\xe0\\xe3q\\x1e\\x9djmc:x\\x199{\\xcfC>\\xda\\xd2y\\xd8Mp[\\xcbc\\x9d\\xb9\\xe0\\n\\xd9\\xc4V\\x91\\xa8M\\x80\\xbf@G\\xebUu\\x0b\\xe8\\xad-\\x08-\\x92\\x99\\xcf\\xf4\\xaeGP\\xd5\\xe4\\x92e\\xd9/\\x7f\\xc0\\n\\xa8\\xd3\\x94\\xcfIrQVF\\xd6\\xab\\xab\\xac\\x1b\\x94I\\x828\\xda>\\x95\\xc2k\\xb7\\r3,\\xb2\\x1e\\x18c\\x06\\xb5V\\x17\\xb8\\x93q<\\x13\\xd4\\xf59\\xedUn\\xb4inC\\x97\\xc8(r\\x06\\t\\x18\\xe7\\xfc+\\xb6\\x9d\\x18\\xc1\\xdd\\xb3\\n\\x95\\x1c\\xf6*xy\\x04\\xd3\\x91\\xb8\\x00:\\xfb\\xd7i\\xa7\\\\\\xbd\\xb4arWq\\xc1\\xcfz\\xe4-\\xe0k\\t\\xb7A\\xf3\\x82y\\xc0\\xe9Z\\x03[\\x8c\\x82\\xb3\\x00\\x14t\\x1f\\xa6h\\xadM\\xcd\\xdd\\n\\x94\\xd4V\\xa7o\\x15\\xd9\\x08\\xbf8f\\x1cm\\xc75\\xb3\\xa6\\xaf\\xd9`7\\x17\\n\\x1d\\xc3\\x16\\x8d3\\xfc]?.Er>\\x19\\xf2\\xb5+\\x86%\\x9b\\x11\\x90F\\xd3\\xd7\\xd2\\xb7\\xb5;\\xb2\\xd3\\xa4c\\x0220\\xdfA\\xd4\\x8a\\xe0\\x92\\xe5v:\\xaf\\xcc\\xaei\\xc7/\\xda\\xa5\\xb8\\xba\\xbel\\xdb\\xc6\\xb9P{\\x9ex\\xfc\\x88\\xfdk\\x0e\\xefT\\x85&vRUNK9\\x19f\\'\\xa0\\x03\\xda\\xa0\\xbc\\xd4\\xe5\\xfe\\xcd\\xb8hv\\xa0\\xdcv\\x83\\xd3p\\xc6O\\xd3\\xadQ\\xd3mb\\x82\\xcf\\xcd\\xbb\\xdf3\\x10\\x00R\\x0f$\\xfe\\xbf\\xe4\\xd5E\\xdc\\xceZ\\x12\\x19\\xec\\xee\\xe0/,\\xb3\\xc6\\xa7\\x90\\xe5w\\x03\\xcf]\\xb9\\x18\\x1e\\xf8\\xfeb\\xb15\\x08D#\\xceW-\\x19\\xe7wC\\xf9\\x7fZ\\xb9\\x7f\\x04\\xb7\\xaac\\x8eX\\x16Rr#\\x8f\\x90\\x068\\xc7bq\\xf5\\xc5g\\xdd\\xdaM\\xf6i\\x19\\xdb2\\xc00\\xdb\\x8er>\\x87\\xd6\\xb5\\xb1\\x9adqO*!\\x94\\xa0\\xc7\\xbfn\\xd5\\xda\\xf8[^,\\xbff\\xb8,an\\xbb\\xb8\\xc7\\xd2\\xbc\\xf6\\xce\\xe9\\xe3\\xbc\\xda\\x19\\x08\\x91\\xf3\\x80\\xdd3\\x8e\\xdf\\x8e+J\\xcewy\\x19\\xc3\\x10\\xc0\\xfc\\xa0\\x01\\xc7\\xf8\\xd2q\\x1d\\xeez<\\x90\\x9bi\\x9a<\\xe5\\t\\xca\\x1fQJ\\x05fK\\xa8\\xec\\xb0\\xb0Y\\xf9\\x9c\\x83\\x96>\\x9f\\xe75f\\x0b\\xa5a\\x92\\xc3\\xf3\\xac\\xa7\\x07\\xb9\\xe5\\xd6\\x87$\\xda-b\\x8csK\\x1bn\\x19\\xa7b\\xb32#4b\\x9cE% \\x1az\\xd3H\\xa7\\x9am\\x006\\x90\\x8fJu%\\x004\\x8fJLR\\x9e\\x94\\x82\\x80\\x10\\xd2\\x1aq\\xa44\\xc0cSq\\xc5<\\x8aC@\\x11\\x95\\xa6\\x91R\\x1aB3E\\xc0\\x8f\\x14b\\x9eA\\xa6\\xe2\\x80\\x10\\x8an)\\xe7\\xa5!\\xa6\\x03(\\xe6\\x9f\\xebI\\x8a`6\\x9ai\\xe4qI\\x8a`2\\x92\\x9f\\x8aB(\\x01\\x95{\\xc3\\xe3\\xfe\\'\\xfao\\xfd|\\xc7\\xff\\x00\\xa1\\n\\xa4G\\x06\\xafx|\\x7f\\xc4\\xfbM\\xff\\x00\\xaf\\x98\\xff\\x00\\xf4!Mn\\x86\\x86R\\x83\\x91L\\x1d)\\xc2\\xb3\\x01i\\xc2\\x9a)\\xd4\\x08Z;\\xd2\\nu\\x00\\x14\\xa2\\x93\\xa5\\x02\\x80\\x16\\x97\\xe9IE\\x00-\\x02\\x8aZ\\x00U<R\\x8am(\\xeb@\\x0e\\x14\\xb9\\xa4\\x14\\xb4\\x00\\xb9\\xc5\\x19\\xa3\\xebEH\\xac(\\xa5\\x14\\x94\\n.!\\xc4\\xd2\\x83\\x8aniA\\xa2\\xe0>\\x8ah4\\xb9\\xe2\\x8b\\x80\\xeaQ\\x81\\xd2\\x99\\x9fZ\\\\\\xd0\\x03\\xa8\\xc7=i3K@\\xc2\\x8c\\xe2\\x93\\xd6\\x83@\\xc7\\x03N\\xcd0QN\\xe2\\x1f\\x9a\\t\\xe6\\x92\\x8e\\xb4\\xc68\\x1a)\\xa6\\x80h\\x0b\\x0f\\xfch\\xa6\\x8aZ\\x05`\\xa3&\\x8a3LAIKI\\x9c\\xd2\\x00\\xefLn\\x84g\\xda\\x9f\\x8a\\x8eA\\xb9\\x82\\xf4$\\xe2\\x90-Yf\\t\\x05\\x95\\x9b\\xdeL\\x17\\xcc\\x1c\\x00O\\x7f\\xf3\\x8a\\xf3\\xbf\\x10\\xea\\xf2\\xcfu$\\x93\\xe7\\xcbs\\x9c\\xe75\\xb5\\xe3K\\xfd\\xac\\xb6\\xbeq\\x02%\\xe4\\x81\\x91\\x9a\\xe3]\\xd6\\xfe@\\xab\\xb7\\x19\\xc6O#\\xeb]1\\x8e\\x87\\xafN*\\x11\\xb2\\x16\\x1b\\x83+\\xed\\xf9T\\xb1\\xef\\xde\\xb4KOn\\xab\\xe5\\x02\\xd1>\\x0b\\xf4#8\\xfaS\\xecl\\xe3\\xbb\\xba\\x8e\\xda\\xdfb\\xaa`\\xca\\xc0\\x8c\\x83\\x8e\\x17\\x18\\xe3\\x8ekf\\xf6\\xf2\\r7\\x16\\xf7\\x1bV\\xd8\\xe1Y\\x11\\xb0X\\x9e\\xe4\\xfb\\x7f3\\xf5\\xa1\\xa3[\\x90\\xc1\\xa9\\xda\\xcc\\xaf\\x14\\x82ds\\xc1E\\xe8\\x08\\x1c\\x11\\xfe\\x7f:\\xba\\xd2\\xa8\\x86F\\xea\\x93\\x05\\xe5:\\xfe=\\xba\\x1c\\xf3\\xcf\\xe9\\x8c[\\xbb\\x10\\xd2%\\xcd\\xa4\\xa6Hz\\xab\\x0c`\\x0f\\xc3\\xa9\\xe9\\xf9z\\xd4\\x96\\xce\\xea\\xcb\\x1b\\xb9\\xe4\\xe5Hn~\\x84\\x1cg\\xeb\\xf4\\xfcSV\\x04\\xeetip\\xb1\\xdd\\xc5<2\\x15Y6\\xab2\\x9c) \\x0f\\xf1\\xab\\xfa\\x84\\xbfn\\xb6d\\\\-\\xc2\\x7f\\x08\\xef\\xe9\\xfc\\xeb\\x8d\\xb3\\xbd\\x10C%\\xa4\\xe4g$0)\\x9c\\x1c\\xf0qRG\\xa8\\xba\\xce0\\xe7r\\x81\\xces\\x9a\\xca\\xee\\xfa\\x1a\\xad\\x11\\xc5k\\xda\\x9d\\xd1\\xbe\\x96\\xd9\\x95\\xf7\\x93\\xf3\\x0cr;U\\x9d6d\\x92\\xd4$\\xb01r\\x01\\x0c{v?\\xccU\\xbdF\\xe6+\\x8f\\x14J\\xf6\\xd0\\xac\\x84\\xc6\\xa6E\\x03\\x96\\xcf\\\\U\\xcb?\\xf8\\xf6\\x96\\x10\\x8a\\xb9\\xdc\\xe8H\\xeb\\xf8}+\\xb1\\xd5\\xb4RF\\n\\x17m\\x91Y\\xc4`\\xb621\\x00\\xb2\\xfc\\xb8<\\xe78\\x18\\xf7\\xce?Z\\xd77\\xb0\\xb5\\xaec\\x18\\xf99 \\xe3\\xe6\\xe3\\xfa\\xf7\\xac$\\x9fm\\x95\\xb2I\\x19(\\xacNOLd\\xe6\\x99\\xa4Jg\\x17P\\xa9%c\\xcb\\'|\\x83\\xcf\\xe9\\xc5E\\xef\\xab/m\\x08`\\xb6\\x9d\\xa1\\x9aDE\\x1c\\x8eOsY\\xb7v\\xc4\\xc2\\xfbp$\\x1c\\x15\\xc7\\xd2\\xb6\\xbc9!mNHn\\\\\\xf9@\\x87G#\\x82}>\\xbd?#[:\\x8f\\x87\\xd6\\xeeI\\xfc\\x86\\xf2\\xd9\\tt\\xdd\\xfcKT\\xaa8\\xb2y9\\x91S\\xc1\\x97?a\\xd3n#\\x93\\x02L\\xaev\\x9eH9\\xa9\\xee\\xaf\\x08\\x08\\xcc\\xfc\\xee8\\xe7\\xde\\xb0\\xe4Id\\x95<\\x92c\\x95Wn\\x00\\xfb\\xdc\\xf3\\xfc\\x8dZ\\xb7\\x86|\\x85\\x9dK\\x92rN{\\xf5\\xeb\\xf55\\x84\\xd73\\xbb-]+\\x1aI*\\xcaV2\\xc4\\x02\\xc1\\xf0\\x06FN1\\xc7\\xa7\\x15\\x06\\xbd\\xae-\\xb4\\xc9m\\t\\r)?3\\x0f\\xe0\\x1e\\xde\\xa7\\x1c{TD\\xc8\\xb3\\x92\\x9dX\\x00\\x07\\xf7j\\x194\\xc7\\x9aBbh\\x9a\\\\\\xe4\\x96lb\\x8ai_QN\\xf6\\xd0\\xe6u\\rBT\\xbaYa\\x06)\\x81\\xf9\\xdb8$\\xe7\\xa6z\\xf7\\xa9\\xdf_\\x9b\\xec1\\x9b\\x96\\r;\\x03\\x1b>2x\\xc7\\xf1\\x0e\\xb9\\x04~T\\x97\\xda\\x16\\xa4\\x86Gxn\\x96%\\x1f4\\xc6R\\xc3\\x1e\\xbc\\x1a\\xc6x\\x9d\\xddbbp\\x18\\xf2\\x085\\xdb\\xca\\xacs\\'\\xa9\\xa3`\\xdfi|\\x80\\xec\\xcaA\\xdf\\x8c\\xf0+\\xa5\\xd2\\xa4cx\\x9b\\xd8`\\x90?\\x0f\\xf2k;G\\xd1\\xe6P^&I#\\x03\\xe6\\x00\\xe1\\x80\\xad\\xad2\\xd5\\x85\\xd2\\xe4eG^1\\x9ek\\x9eo\\xb1\\xacQ\\xd4\\xf8\\x82\\xd5AT\\xce\\x17\\xcbB\\xbc{\\n\\xc4\\x81\\xe6\\xb4\\x94\\x89\\te<\\xf3]>\\xb5\\x99\\xad\\xadd\\x1f+\\x15\\xdb\\x8e\\xf8\\x18\\xed\\xf8\\xd6E\\xc40\\xb4cvY\\xb1\\xd2\\xaa\\x12\\xba\\xb0\\xe7MOsGO\\xd4#\\x95\\x00,7z\\x03ZQ\\xcc\\xac@\\x04W\\x0e\\xf0\\xed\\x94\\x18\\x8b(\\xf75\\xb1a|\\xd1&\\x1d\\x80\\xc7\\x7fZ\\xcat\\xba\\xa3\\x82\\xae\\x1d\\xc7Tt\\xc7\\x9ai\\xaa\\xb0N\\n)\\'\\x93\\xcdY\\x0c\\x1a\\xb9\\x9a\\xb1\\xcc!\\xe9M\"\\xa4\"\\x99\\x8a@\\xc6\\x91\\x9aLS\\xb1\\xe9M4\\n\\xe3\\x08\\xa4\\xa7\\x9aLP\\x16\\x1b\\xde\\x8e\\xbd(4\\xa2\\x98\\xc6\\x1aC\\xd6\\x9fM4\\x00\\xccSO\\xebO\\xc5!\\xfaP\\x03\\r\\x14\\xecSM\\x00&ri)M\\x14\\xc0m\\x14\\xeaCL\\x06R\\x1aq\\xebHh\\x01)\\xa6\\x9c})(\\xb8\\r\\xab\\xde\\x1f\\xff\\x00\\x90\\xf6\\x9b\\xff\\x00_1\\xff\\x00\\xe8B\\xa9\\x1a\\xbd\\xa0\\x7f\\xc8wN\\xff\\x00\\xaf\\x98\\xff\\x00\\xf4!U\\x1d\\xd0\"\\x11J(\\xc1\\xa5\\xa9\\x00\\x14\\xecR\\nu!\\x85-\\x18\\xf5\\xa5\\x14\\x08CB\\xd2\\xe2\\x8cP\\x01E/j\\x14P\\x00)E\\x18\\xa7\\n\\x00LR\\xfaQ\\x8e)qH\\x00QK\\x8a(\\x00\\xa5\\x14\\x9d\\xe9{R\\x00\\xa5\\xa2\\x8aBa\\x9ap\\xa6\\x8ap\\xe9@\\x05-\\x1d\\xa8\\xa0,&}\\xe9\\xc0\\xf1\\xcd7\\xa5\\x14\\x05\\x87f\\x974\\xdaQ@\\xc7\\x1a3I\\xd6\\x90\\n`(\\xa7SiG4\\xc0vh\\xa4\\xa5\\xa6\\x01@\\xe2\\x92\\x96\\x80\\x16\\x94R\\nZ\\x00(\\xedE-\\x00%\\x03\\xad-% \\x16\\xa1\\x90bhO\\x18\\xdd\\xcez\\x1a\\x9a\\xa3\\x96&|\\x15\\xed\\xe9\\xde\\x9cw*\\x1f\\x12<\\xe7\\xc4\\x97\\x0b.\\xa1#;0`{\\x1cc\\x9a\\xc1\\xb9\\xdc\\xa3\\xf7G\\nA\\x05\\xd7\\x199\\x1c\\xfe\\x9cWC\\xab\\xab\\x19\\xa5V\\xc6\\xd2y`9\\xac1l\\x1b\\xe5_\\x9c\\xe7\\x83\\x8e??J\\xea\\x8b=V\\x84\\xb4\\xf1;i\\x90\\x05\\x82\\xdd\\x85\\xcb\\x03\\x99:\\x9e\\x98\\x1f\\xca\\xaaj7b\\xe2\\x18\\xed\\xee\\x9d\\xd8\\x85\\r\\xe6\\xa1\\xeaH\\xf6\\xf6\\xc7\\xe5R]i\\xef\\x83)Q\\xe5\\xa8\\xea;\\xfbf\\xb3\\x19\\xa0i\\x00\\x91\\xa4\\x85\\xd7\\xa3\\x8f\\x99q\\xef[\\xc5)\\x19\\xbb\\xa3CL\\xb9\\xba\\xd3\\x00\\x16\\xd3?\\x91\\x91\\xfb\\xd1\\x92\\x84\\xfa\\x1cWQ\\x0e\\xa0\\xf7\\x10#N\\x9fxgp\\x1ft\\xfdGj\\xc4\\xd3-\\xadJ)\\x17\\x9b\\xc6s\\x84M\\xb9\\xcf\\xb98\\x1f\\x81\\xad\\x81h\\x80\\x15\\x81\\xce\\xd6<\\x16|\\xf1Y\\xd6\\x8a*\\x9be\\x1dB\\xe5\\xe4e\\',\\xe0d\\x11\\xdf\\x1d\\xaa\\x9b\\xdd8\\xb9\\x06\\x00\\xc1\\xc9\\xdb\\xb8\\xf2>\\xbf\\xfe\\xaa\\xd8]>T\\x9c\\xbf\\xca\\xeap\\x18g\\x81\\xe8j\\x9d\\xc5\\x9a\\xc1;;e\\xb7\\x10\\xa9\\xcfS\\xfd+\\x08+\\x1bI\\xb2m\\x16\\xd3n\\xab-\\xe8\\xe6\\x14\\\\7\\xae\\xee\\x0f\\xf3\\xad\\x08\\x8a\\xb5\\x8d\\xd5\\xcc\\xc4*\\xab2\\xae\\x0e0N;~\\x1f\\xad_\\xf2\\xed\\xed\\xac@\\x97o\\xef\\x13\\x8cq\\x9foz\\x87H\\xb6\\x17\\xd6Oi\\xceK\\x19\\x08\\xeb\\xdf?\\xe1M\\xab\\x94\\xb42\\xacm\\r\\xf8\\x86)\\xe41/\\xcd\"\\x9e\\x07\\xe1M\\xd1\\xc7\\xd9ugD\\x1b\\x93\\x9e@\\xed\\xebS\\\\\\xc2Z\\xf0\\xaa~\\xeeb\\x02\\x82:\\x0fZ\\x8bQ\\x81b\\x8a\\x0b\\x98\\xc3\\xa2\\xa3\\x91\\'=\\xb3\\x83\\xd3\\xde\\x84\\'\\xb9\\xb9\\xf6\\x1bcz\\xbaq\\xe5f\\x06XXuB\\x06\\x07\\xe7\\x9a\\xbf\\r\\xcc\\x92\\xd9\\x95H\\xcf\\x9fn6\\xc8?C\\x8f\\xc7\\x15\\x95q\\x1c\\xd6\\x97pIl\\xbb\\xddF\\xc0s\\xce8\\xae\\xabE\\xb5\\x9dc\\x96Y\\x10*\\xc89\\x03\\xb9\\xa4Z9D\\xb3_,\\x90\\xc1\\x9c\\x12}\\xc7\\xf99\\xa9%\\x86\\x19v\\xb2(L.\\x08\\'\\xaf\\xbd%\\xdcw0\\xdf$a\\x08i\\x0b\\x02\\xca\\xbc0\\x19<\\xfeU\\x16\\xafo<rG, \\xfd\\xdeT\\xf7\\xefN\\xc4\\xdc\\xd4\\xb6\\xd1CB$\\x8d\\x83\\xe3\\x95f>\\x9dx\\xf4\\xa6\\xff\\x00g9\\x12\\x00\\xc0z\\xb6\\t\\xfdj\\xa6\\x9b\\xad1u\\xb5\\xdd\\xdf\\x0c\\x07\\x1f\\\\zV\\xf1\\xbe\\x12\\xab\\x86eT\\xe4.x8\\xc6:\\xf5\\xa4\\xd5\\x98^\\xe8\\xe3\\xb5\\xfdB}9X++\\xe0q\\x82r\\x08\\xf5\\xcf\\xde\\xfaW0\\xf7\\x96\\xf7\\xe2I.,BK\\x9e$\\x87\\xe5\\xfcpx\\xad\\xaf\\x15\\xe8\\xd2\\xb2\\xc9sdY\\x82\\xa9f;A-\\xf4\\xf4\\xfc\\x00\\xac\\x1d+N\\xb8\\x9a\\xd1\\xa4\"L\\xc7\\xcb1\\xc8\\xdb\\xf4\\xcfz\\xed\\x8b\\\\\\xa7-\\xb56\\xf4\\xa2\\x15$\\xdd6\\n\\xa9\\xf6<\\xf4\\xc6j\\xfe\\x9b+y\\xe22\\x14\\x9e\\xa3\\x1dOJ\\xc51\\xb2\\xcblK\\xf2AV\\xc7L\\x8e\\xa4\\xfaq]5\\x9cE\\xed\\xdblE1\\xc0`0\\xc7\\x8fZ\\xe6\\x9e\\x8c\\xda\\'Oz\\xd0\\xff\\x00gB\\xec\\xe8$N\\x089\\xf4\\xec+\\x9f\\x99\\x99\\xd8\\xe3\\x03\\x07\\x81\\xdf\\x14\\xd5\\x88\\xc1\\xa4\\x96i\\x8b\\xb1\\x94\\x02\\xcc9\\'\\x1f\\xca\\xaa\\x99\\x0bg\\x12~8\\xe9N\\x0b\\xdd\\x1bwd\\xcc\\x0e\\xfd\\x87#wJ\\xad \\x9290\\xdfs\\xb9\\xab\\x0er\\xaa\\x19\\xb9\\xf5\\xa8.\\xd1\\x9e\\r\\xc0\\x91\\x8e\\xf8\\xebZ\"Yr\\x19\\xe4\\x85\\x91\\xd4\\x96\\x8f\\xbekn\\xd2\\xf5Yz\\xd7+cu\\xb5J\\xca\\xc3o|\\xd4\\xc6L\\xb6\\xe8\\x9b\\xa7aY\\xce\\x9d\\xccja\\xe3=c\\xb9\\xd9\\xa4\\xa1\\xc0\\xc5<\\x8a\\xc0\\xd35H\\xf6\\x05\\x93\\x86\\x15\\xae\\xb7\\x01\\xf1\\x83\\x90k\\x96Ph\\xf3\\xe5\\x17\\x17fO\\xda\\x93\\x14\\x06\\x0c8\\xa5\\xc5E\\x89\\x18h\\xc58\\x8a1@\\x0c\"\\x93\\x14\\xf2)\\xa4P\\x03\\x08\\xa4<\\xd3\\x8d%\\x002\\x9az\\xd3\\xcd4\\x8a@6\\x92\\x9cE!\\x14\\xd0\\r\\xa44\\xe3M4\\xc0)\\r)\\xe9HzS\\x01\\xa6\\x9b\\x9c\\xd2\\x9aJ\\x001Hii\\r\\x00!\\xab\\xba\\x07\\xfc\\x87\\xb4\\xdf\\xfa\\xf9\\x8f\\xff\\x00B\\x15F\\xaf\\xe8\\x1f\\xf2\\x1d\\xd3\\xbf\\xeb\\xe6?\\xfd\\x08UCt\\x04@\\xd2\\x8aAN\\x04T\\xb0\\x1c)@\\xa4^iE\\x00--\\x02\\x81@\\x05\\x03\\x8a^\\xd4PP\\x11E-.)\\\\Bc\\x14\\xe0(\\x02\\x96\\x95\\xc4\\x00\\x1a)iq@\\r\\xfa\\xd0)\\xd8\\xa3\\x14\\x00\\xd3J)qE \\n)E-\\x01a\\x00\\xa7\\n)\\xc0P\\x02Q\\x8av(\\xc5\\x003\\x14b\\x9f\\x8a1@\\r\\xc5(\\x14\\xb8\\xa5\\xa0\\x06\\xe2\\x8cS\\xf1\\xcd\\x04c\\xa50\\x1b\\x8e(\\xa5?J\\\\S\\x01)i{Q\\x8a\\x00J\\x05/z)\\x80\\n^\\x94\\n\\\\P\\x00(\\xa3\\x18\\xa5\\x14\\x00\\x94R\\xe2\\x92\\x80\\x0e\\xf5,\\x00\\x19\\x97=3QR\\xa1\\xc1\\xeb\\x8a@q~-\\xd3\\x05\\xa6\\xa2\\xf8_\\x91\\x89*py\\x15\\x81%\\xcd\\xa4s\\x85\\x94I\\x91\\x81\\xdf\\x9f\\xc2\\xbd+]\\x8a\\x1b\\xbb\\x06%\\xb7\\xcb\\x1a\\x93\\xc1\\xe7\\x1f\\xce\\xbc\\xa2\\xee\\x15\\xbc\\xbbuO4\\xa1<\\xfc\\xa4\\x01\\xf9\\xf5\\xae\\xa8;\\xa3\\xd5\\x84\\xd4\\xa3r\\xe6\\xad/\\x9bo\\xb8\\x98\\xd61\\xf8\\x01\\xed\\x8e\\xe7\\xfc\\xfbW\\x1f\\x7f\\x12\\xc9pc\\x88\\xe5\\x02\\xeeb>\\x95\\xbd\\x7fe\\xe4@\\x07\\xfa\\xc5#\\x83\\xef\\xebK\\xa1\\xe9\\xd1]\\xab,\\xa4\\xa4\\x92`\\xb7\\x7f~\\xdd\\xabzz\\x04\\x8c\\x8f\\r[]\\x1b\\xd0\\xb6\\xd6\\xed*\\x9e[c\\x8f\\x94z\\xe0\\x83^\\x9dmh\\x91\\xc4\\xa8\\xd2a\\x80\\xfb\\xb2\\x82?\\x95T\\xb5\\xd3l\\xec\\x81\\xf2\\xa0\\x12g\\xbe\\t+\\xef\\xcd6\\xe8yQn\\x8d\\n\\x81\\xdf\\x04b\\xb3\\xab.fT#mK\\x97\\xda\\x82ZA$n\\xa4c\\x81\\xb3\\x8f\\xf3\\xff\\x00\\xd7\\xae\\x7fL\\x0b}=\\xc4\\xb2\\'\\xee\\xd5\\xb0\\x01\\xfe*\\xadsqsy/\\x96\\x06\\xff\\x00^\\xf9\\x1f\\xce\\xb6t\\xebm\\x89\\x1c\\x11\\x00\\x18\\xf5\\x03\\x9e)%a\\xde\\xec\\xd7\\xb5\\xb6\\x8d-\\xa3IB\\xcc\\xcaw\\x00G\\x1e\\xbf\\x85.\\x88\\xcbo\\xaeIm\\x14E\\x8e\\xc0\\xc2N\\xbc\\x9e\\xd9\\xf6\\xaa\\xe2i-b\\x9a%\\x900\\x90`\\x17?q\\xba\\xfe\\xbf\\xd2\\xaehd[A\\xba\\xe1\\xc3\\x9d\\xc4\\x0e\\xd9\\xff\\x00?\\xd2\\x93E\\xa6[\\xbe\\x8a\\xd6O\\xb4eUv\\xae\\t\\xc7?Z\\xe4n\\x12F\\xb2\\x8dbx\\xde7\\x90\\x83\\x91\\x9c\\x12z\\x1f\\xca\\xb7\\xf5K\\xe7\\x17.\\xd0\\xc1\\x98\\x98\\xed$\\xf7\\xe9\\xefX\\xb6v2X=\\xc4\\xcd\"\\x14y7\\x0c\\x0c\\x81\\xf8~5\\t\\x94\\xd1\\xa3\\xa44\\xdfk\\x89\\xa4q\\x94\\xc2H\\xa4u\\\\W\\\\dD\\x05c9i8*\\x87\\xa1\\xed\\xc0\\xf6\\xaeFc\\x13\\\\\\xac\\xce\\xed\\xb1\\xd0\\xee\\xc7c\\x8e\\xbf\\xaf\\xe9[V\\x86+\\x93\\x0c\\xd1\\x96\\x1eY\\x01\\xc1\\xe3\\'\\x8e\\x9464b3]\\xd9\\xdfa\\xa4\"\\x02s\\x83\\xc9\\xdcq\\x8e{\\x0cb\\xa4\\xb9Y\\xa7f\\x96)U\\x8e6\\xa9\\x1cd\\x8e\\t\\xabz\\xec\\x90,K\\x1b2\\x97f%3\\xea\\x00\\xac\\xc8n\\xa4I\\xa2\\x8e\\xe1\\x15f$b>\\xdb}\\x7fO\\xd6\\xb4\\x89\\x9c\\x8c\\x9b\\xdbI \\x90M\\x10\\xcc\\xa4\\x02\\x068#\\xb6}j}\\x1e\\xf2I\\x19\\x96B7w\\xdcy\\xad\\xa6\\x90\\xcb\\xcc\\xaa\\xa7\\x8c\\xed\\'\\x93\\xde\\xb2/a6\\xb2\\xac\\xaa\\xa8\\xb1\\xb1\\xc3`r\\xb8\\xa1\\xa1#\\x7f\\x16\\xcc\\xa1O\\xcf\\x9eXd\\xfe\\xb5%\\xcd\\x8d\\xb4\\xd6\\xdb#h\\xd0\\xe3\\x90~@z\\xf3\\x91\\xff\\x00\\xd7\\xaa\\x9aSG$ \\xac\\xcb \\xee:\\xd5\\xf7o1YbU\\x91\\x80\\xe1\\x00\\xe3>\\xa6\\xa6.\\xccm\\x1c\\x85\\xfd\\xaa\\xda\\xe2\\x15\\xd8Nr\\\\\\x83\\xfc\\xea])\\xcb\\x00]\\x98\\xc2\\xd9S\\xfc;\\x88\\xa5\\xf1L\\xe5\\x17l\\xaa\\t\\x07$\\xae0\\xbf\\\\v\\xfa\\xd5\\x7f\\x0e-\\xcd\\xf5\\xdaF\\xb1\\xa8\\x81H\\xc7<\\x9a$\\x9b\\x14Z6\\xfcC\\x1b\\xc5e\\nZ\\xa8+\\x1f\\xceS\\x19\\xeb\\\\\\xfd\\xa5\\xea\\xbc\\x83 \\x0c\\xf5\\x18\\xae\\xd4\\x18\\xcc\\xf2\\r\\x99\\xc2\\xed9\\xc1\\xack\\xbd\\x1a\\x19eb\\x9f&\\xee\\x85@\\x18\\xad\\xa0\\xd5\\xb9X\\x9c]\\xee\\x8a\\xaaT\\x8c\\x05\\x18=9\\xce)\\xec\\xe9\\xf2\\xee\\xfd\\r>\\r\\x02\\xed%\\r\\x14\\x9eg\\x18\\xc7Jm\\xcd\\xab\\xc6\\xcc\\xb3)]\\xbe\\xc4Qe\\xd05 \\xb8\\xb1YW\\x8e\\t\\xe4\\x1a\\xae\\xa5\\xe1>K\\xae0z\\xd5\\xebo\\xde(\\x01\\xf3\\x8f\\xd2\\xad])X\\xf6\\xc8\\x15\\x81\\x1c1\\xa0fT\\xee\\xb1\\xe0\\xc7\\xd3\\xd6\\xac\\xe9\\xfa\\x8b\\xae\\x0b\\x9c\\x8e\\xd5\\x9f\"pP\\x1c\\x93\\xd2\\xaa)a&\\xc7;i8&\\x89\\x9cT\\xd5\\x99\\xdf\\xd9\\xce\\xb2*\\x90rj\\xe89\\x19\\xae_M\\x98\\xc1\\x17\\r\\x90;V\\xbd\\xa5\\xf0\\x95F1\\xf8\\xd7,\\xa9\\xf6<\\xea\\xb4eM\\xeah\\x9aC\\xc50L\\xbb\\t,8\\xaa\\xff\\x00iY\\x18\\x04=\\xeb+\\x19(\\xb6Z=)\\x81\\xf3\\xd2\\xa1\\xba\\x91\\xd6\"@\\xc7\\x1cT:{,\\xce\\x11\\xdf\\x04u\\xaaQ\\xb9\\xb4p\\xf3\\x97B\\xe7l\\xd2U\\xa9l\\x19\\xa3\\x06\\x16\\xddT\\x98:6\\xd7\\x04b\\x93\\x8bB\\x9e\\x1ep\\xdd\\nE6\\x9c\\x0f\\x1e\\xb4\\x11Sc+\\x11\\x9c\\xd2\\x1ay\\xa6\\x9e\\x94\\x08i\\xa4\\xa54\\x86\\x98\\x08i\\xa6\\x96\\x92\\x98\\x08i\\xa4\\xd2\\x9aJ\\x00(=(\\xa4\\xa0\\x045{\\xc3\\xff\\x00\\xf2\\x1d\\xd3\\xbf\\xeb\\xe6?\\xfd\\x08U\\x1a\\xbf\\xa0\\x0f\\xf8\\x9e\\xe9\\xdf\\xf5\\xf3\\x1f\\xfe\\x84)\\xc7t4W\\x06\\x94\\x1c\\xd4J\\x7f:x\\xa0D\\xaai\\xe0\\xd4@\\xd3\\x81\\xc5 $\\x06\\x979\\xa8\\xc3R\\xe6\\x80\\x1fK\\x9afqF\\xea@<\\x9aPi\\x81\\xa9r*n\\x03\\xc58\\x1a\\x8c\\x1ap4\\x00\\xfc\\xf1J\\r0\\x1ap\\xa0\\x05\\xa2\\x81Fy\\xa0\\x02\\x97\\x14\\x99\\xa5\\xcf\\x14\\x00\\xb8\\xa5\\x00Rg\\x14\\xb4\\x80\\\\\\np\\xa6\\x8ax\\xa0\\x03\\x14\\xb4\\x94\\xa0P\\x01F)qJ\\x050\\x1a\\x05-(\\xa3\\x1c\\xd0\\x02\\x01F)\\xd4\\xb8\\xa0\\x06\\x91@\\x14\\xecQ\\x8a\\x00n)@\\xa5\\xc6iqL\\x06\\xe2\\x8cS\\xbbP(\\x011K\\xf4\\xa5\\xa5\\x14\\xee\\x03H\\xa3\\x14\\xa6\\x9b\\xd6\\x98\\xec-%>8\\xdaC\\xc5i\\xd8\\xe9\\x17\\x17\\x18c\\x16\\x13\\xb95Q\\x8b\\x91q\\x8b\\x96\\xc6;q\\xd3\\xad,6\\xb7W\\x03\\xe5\\x8fj\\xfa\\x93\\x8a\\xeam\\xf4T\\x8c7\\x9a\\x17#\\x91L\\xb8\\x91!\\x07\\xcbA\\xc7\\xeb[\\xc6\\x9a[\\x9dT\\xf0\\xbdd`-\\xbcQ\\x07\\x8eP\\xdb\\xfadt\\xfc\\xeb\\x88\\xd5,#\\xb4\\xbf3F\\xecv\\xe7\\xa7\\x15\\xe8\\x13\\xcc\\\\\\xc8_j\\xf1\\x9a\\xc2\\xd6l\\xfe\\xd5\\x001\\xc7\\x92?\\xbd\\xd2\\xa9\\xeb\\xb1\\xd6\\xa0\\xa2\\xb4<\\xebS\\x91_>Y\\x0cO.8\\xc1\\xc1\\xf7\\xedVt%V\\n\\xadd\\x81\\x9b\\xaeN\\xd3\\xc7\\xe3\\xcfj\\xa5\\xae[\\xbd\\xbb\\x13,j@\\xf5\\xa8\\xf4Y&\\x98\\x94\\x82X\\xc3\\xf7\\x07?\\xcb\\x18\\xfdi\\xc5X\\x893\\xa7e\\x00\\xb7\\xc8\\xa0\\x0e\\xa3\\xbe=\\xeb*\\xfag\\\\\\xa4$\\x90\\x07q\\x9e+b\\x13\"\\xc3\\xf3\\x95/\\x8fAY\\x97\\xce\\xd2\\xcd\\xe4\\xc3\\xbcs\\x87c\\xd0T\\x94T\\xd1\\xa1\\xfd\\xf1\\x98\\xe3~z\\x11\\x8a\\xdb\\xca$l\\xdb\\xb6\\xb6~W\\x1d\\xb8\\xe9\\xc5G\\x04[!`\\xf1\\xe0\\x01\\xdb\\xa9\\xab\\x08\\x90\\x08pQ\\x8e\\xf1\\xdb\\x9ej\\xee$\\x8a6\\x82mJ\\xe0C4y\\x8b\\xef\\x16C\\xbb\\xa7\\xaf\\x7f^\\xd5z\\xccO\\xf6\\xb6\\x8e\\xe0~\\xe5\\xf2\\xa0\\xa8\\xc1Q\\xff\\x00\\xea\\xcdG\\xa6\\xc4a\\xba&(\\xdd\\x1f\\x04d\\x81\\x9c~\\x95N\\xd6\\xf5\\xae5\\xcf)\\xb8\\xf2\\xb9lu>\\xdf\\xd6\\xa2E#~\\xe2\\x08\\xa4`\\x0b\\xf9n\\xeap\\xa0\\xf4\\x1c\\xe0\\xfeu\\x89\\xa8H\\x90\\t\\xe3$\\xaf\\x98\\xcd\\x95\\'\\x8e:\\x7fJ\\xbb\\xad\\x91\"\\x0f \\xe1\\xd0d\\x0f\\xa5s\\x17\\x972\\xcb\\x18\\x92a\\xb4!\\xc1\\'\\xbfN\\x7f\\x9dGR\\xaemYj\\n\\x02y\\x8a0\\xc7\\x1e\\xa0\\x9e\\x08\\xfc+z\\xc2\\xefw\\x94\\x81\\x164\\xc6@\\xf4\\xeck\\x89\\xd3\\xaeL\\x80`\\xe0\\x0f\\xbb\\xc7^+b\\xd2\\xe1\\xcc\\xd1\\xa4\\x8e\\x16d^\\x87\\x8d\\xe3\\xb1\\xfe\\x94\\xd8\\xcb\\xd7\\x13E\\xfd\\xaf\"L\\xa7\\xe4\\xc0\\x8d\\xb1\\xc1\\x07\\x9e?>\\xb5gT\\x8e\\'\\xb8\\xb5\\x9d\\x14\\x8e\\xa1\\xe4\\xe9\\xc0\\xaa\\xba\\x8cb\\xe6\\xd8\\x98\\xf1\\xe7\\xa1\\xf9[8\\xef\\xfc\\xab\\x94\\xd5\\xbe \\xdb\\xd9\\x0f\\xb1Ao\\xf6\\xa2\\x9f+I\\xb7*=q\\x9a\\xb8\\xc6Rz\\x19\\xb9Enw\\xf0E\\x1d\\xc4BH\\xc0\\x0e\\x99|\\xee\\xdd\\x91\\xefT.\\xd5n\\xe2\\xc0Q\\x8fU\\x1cf\\xb1\\xbc?\\xe3\\r*\\xee\\x17\\x91\\xd9\" \\xf2\\xb2\\x0c\\x10O\\xe9\\xf8\\xd6\\xbd\\x86\\xa7eys\"\\xc4\\xc9\\xb5\\xf8\\xda\\xa7<\\x8e\\xf8\\xaaqkpROc\\x12\\xce6\\xb7\\xbb\\xdb\\xc9\\xc1\\xe0\\xe6\\xba\\x86fX70e\\xfaw\\xfa\\xd5+\\xb8\\x01\\x9d\\x8a\\x85\\x01\\x7f\\x8c\\x0c\\x01\\xf9V\\xbe\\x9b\"\\xcb\\x18\\n9Q\\xd47Z\\xcc\\xb3\\x8a\\xf1\\x0e\\x92f\\x02h\\xa3*3\\xcfR3\\xf4\\xad\\xff\\x00\\x05Y\\x1b[y\\x1aw\\t\\xf2\\xfc\\xb8\\xe0\\xd7B\\xf0\"\\xe5\\x98\\x1c0\\xdaW9\\xa6\\xea)\\x15\\xbd\\x84k\\x1a\\x90\\xddw\\x03O\\xa96\\xec`\\xc5$\\xc9pO\\x07\\x9c\\x13\\xda\\xaf\\x1b\\x84f\\nP\\xac\\xbdzd\\x1a\\xcdw\\xf2\\xdbx\\xc6\\x0fv\\xa9-\\xdeW\\x90\\xc8A\\xc7Lc\\xa7\\xb8\\xa6Q\\xb3\\x04\\x89+\\xf1&\\xd1\\x8e\\xddj\\xc5\\xc2\\xc7u\\x1f\\x94cg\\xdb\\xc6NA5R\\x1bP\\xac\\x1f\\xcc\\xc8~\\xe4\\xe6\\xaf\\xc7\\x12\\xc5:|\\xf2.}y\\xcd\\x17\\x19\\xcbj:\\x1c\\xd6m\\xf6\\x8bl\\xb4g\\xa8\\xf4\\xfa\\xd36\\xb4\\xb6\\xff\\x009\\x01\\xbd\\rv\\x8d\\xb29H\\xda\\xec\\xbe\\x9e\\xb5\\x83\\xe2\\x1bDe\\x17\\x16\\xd1H\\x84\\x1f\\x9dv\\xf4\\xabN\\xfa\\t\\xabj`\\xc9\\xb1\\x08\\xca\\x02{\\xe2\\xaa^[)P\\xe8\\xa0\\x82x#\\xb5N\\xab\\xe7\\xc8A?7cH\\xd1\\xb20Px\\x07\\x91\\xda\\xa9;\\x12\\xf5)%\\xc3[\\xa9Y\\xb2=3U\\xe4\\xd4\\xca\\xca\\x1e90\\xa3\\xad]\\xd4\\xa371\\xfc\\xcb\\xb7\\x03\\xa8\\xef\\\\>\\xa4\\xf2\\xdb\\xdc\\x08\\xb9\\xda\\xcd\\xd6\\xa9E=Q2\\xda\\xcc\\xf4\\xcd\\x12W\\xbe\\x8c\\xc8\\xc4\\xec?\\xadt\\x96q\\xc7\\x02\\x9d\\xa8\\xa7\\x8c\\xe4\\xd7\\r\\xe1\\xfb\\xc61F\\x8aH\\x00\\x0e\\x05w\\x10\\xcc\\x92\\xc4\\xa3;N1\\x8a\\xe5kSJt\\xe3\\x05\\xa2)\\xdc\\xb9\\xb8s\\x81\\xf7G\\xe1Umm\\x99\\xae\\x0b)#\\x9eMk\\x88\\x95\\x18*\\x80T\\x8e}\\xea\\x1b\\x85\\xf2\\x1b(\\xd8\\xcf@h\\xb1\\xad\\xcb1\\xce\\xf0&\\xc6c\\x8a\\x85\\xc8\\xb9~_\\x01\\xba\\x1a\\xa1r\\xf32\\x1e\\x9c\\xd3\\xad|\\xc8Ws\\xa8+E\\xae\\'\\xd8\\x92U\\x16\\xcd\\x82\\xe4\\x8fZ\\x940a\\xc5B\\xed\\x1c\\xe4\\x82p\\xd4\\xaa\\x0cx\\r\\xcf\\xbdg(u<\\xdcM\\x1eGu\\xb1!\\xcd4\\xd3\\xfa\\x8an+#\\x8e\\xc3\\x0fJJu6\\x80\\xb0\\xde\\xd4\\x84S\\xf1\\x8aB)\\x81\\x19\\x1c\\xd2\\x1e\\xb4\\xf3I\\x8a\\x046\\x8aSI\\x8a\\x06\\x18\\xab\\xda\\x07\\xfc\\x87t\\xdf\\xfa\\xf9\\x8f\\xff\\x00B\\x15G\\x1e\\x95\\x7fA\\x1f\\xf1<\\xd3\\x7f\\xeb\\xe6?\\xfd\\x08S\\x8e\\xe8v3U\\xbf*x<Ut5 4\\xacI6\\xeapz\\x874\\xa0\\xd0\\x04\\xdb\\xbf:]\\xc2\\xab\\xe7\\xde\\x945\\x02\\xb98zP\\xd5\\\\\\xb7\\xbd85 &\\rO\\xdcj\\xba\\xb5<5+\\x07B`\\xd9\\xa7f\\xa1\\x06\\x97u \\xbe\\x84\\xc0\\xd3\\x81\\xa8CS\\x83sH.J\\r(5\\x1eh\\x06\\x81\\x92\\xe6\\x97<T!\\xa9\\xc1\\xb3HW$\\xcd(>\\xb5\\x1ei\\xc0\\x8a\\x04J\\x0fjx5\\x104\\xf0h(x\\xa5\\x14\\xd0is@\\n\\r:\\x99N\\xcd0\\x1dJ)\\xb9\\xa5\\x07\\x8a\\x00ZZ@h\\xeah\\x01h\\xe7\\x14f\\x94S\\x00\\xc5\\x00sK@\\xa0\\x04\\xc5\\x18\\xa5\\xa2\\x80\\x12\\x96\\x8e\\xf4\\x1a\\x00Bi\\xd1\\xdbO+\\xedH\\xdc\\x93\\xd3\\x8a}\\xa4&\\xe2P\\xb9\\xc7\\xb9\\xae\\xbbF\\xb31\\x81\\xc6\\xf2:q\\x8a\\xde\\x9d>czT\\x9c\\xca\\x1a6\\x8f\\xb2Uk\\xb1\\xb3?\\xc2O\\x06\\xbak\\xa3\\x18\\x85\\x92\">Q\\x9e*\\xcb\\xc2\\x9bU\\xa4\\xfb\\xfe\\xc6\\xa8\\xdd.\\xd7\\x1f\\xba*\\xa7 \\xb0\\xae\\xb8\\xc6\\xda#\\xba1\\x8c\\x15\\x91\\xce\\xff\\x00l\\x0f5\\xa0\\x97\\x96^A\\xcfZ\\xce\\xbd\\x99n[\\xf7R\\x15\\x0f\\xc3\\x0fJ\\x8b\\xc4\\xb6\\x0e\\xa6I\\xad\\x18y\\xa3\\x9c\\x1e\\x86\\xb0t]U\\x12\\xf5\\xa0\\xb9;\\x1c\\xf3\\xb5\\xba\\x1a\\x9b=\\x8d\\xae\\xb7F\\xa4\\x90-\\xbb\\xecw\\x1f\\xef\\x13\\x8a\\xad,\\xfeR\\x10\\x08a\\xf4\\xab\\xba\\x94\\xf6\\xf2\\xa2\\x96U8\\xea+\\x03P\\x90\"\\x96P\\x02\\x9e\\x805KV\\x0b\\xe8d\\xf8\\x83K\\x1a\\x95\\xa1h\\xd5L\\x83\\x93\\x8c\\x9a\\xe7\\xfc?\\xa3\\xcd\\x1c\\x8f\\xb9\\x8a(\\xe3\\x195\\xd9\\xe8\\xd7\\x12\\xbc\\xa4\\xc8T.q\\x8c\\x7f\\x9cT\\xb7\\x90\\x08\\'$\\x0eY\\xb9\\x00u\\xfaSfeX\\xed\\x14\\xae\\xc7`F8\\xe3\\xfc\\x9a\\xcf\\xb8\\xb6_\\xb4\\x95M\\xa0/;A9\\xfa\\xd6\\xc4\\xc5-\\xa3f\\xc0g<\\x92O\\xe9\\\\\\xfa\\xdc\\x99$v/\\xb3\\x1d\\xfb\\x03I\\x8d\\x0e\\xd4&\\xfb-\\xa9\\x90\\x9d\\xc06O=\\x00\\xac\\rs\\xc7Q\\xc5\\x1f\\x97\\xa7\\xa6\\\\\\xae0:\\xb1\\xec3\\xda\\xaf]\\xf9w\\xf7)\\x139u\\\\\\xb1*z\\x7f\\x9fJ\\xe6\\xbc{\\xe1d\\xd2\\x1e\\xce\\xfe\\xcdY\\xadd\\xe5\\x88\\xec\\xdd\\xff\\x00\\xcf\\xb5mF1n\\xcc\\xce\\xa4\\xa4\\x95\\xd1\\x81\\x05\\xff\\x00\\x88o/\\x19\\xe3\\xbbd\\xcf8$`{WE\\xe1MN\\xe6\\xe7U{-E\\x15o\\x02\\xe5d^\\x0b\\x0e\\xe3\\xfa\\xd7&\\xd0M,\\xa9,3\\x12\\x80\\xe7\\xe5=j\\xd6\\x9bx\\x13\\xc4\\xd6[\\x9c\\xf0\\xe1\\x0bg\\xa6}k\\xaaQ\\x84\\x95\\x929\\xd3\\x92\\xd4\\xf4\\xcb\\x85h\\xa51LX3p\\x07\\xd4\\xd5\\x1d_Nk\\x88A\\xc1\\xc2\\x8d\\xaa\\xa3\\x81\\xd3\\xfc{\\xd7S\\xafZ\\xf9o\\xa7\\xcc@$\\xfc\\xa4\\x8e\\xf4\\xc9\\xc7\\xfa4\\x8e\\x89\\xf3`\\xe7<\\xe2\\xbc\\xe9\\xab3\\xb2\\x1a\\xadN?H\\x83\\x80\\x98-\\x82I\\xc7\\xbdoOk\\x8f\\x9f\\x81\\x8c\\xec\\xe3\\xf4\\xcdQ\\xd0\\xd0\\x9b\\x83\\xbf\\xef\\x06\\xc61\\xdb5\\xd0_\\xc2\\xa5q\\xb9{\\x0e\\xb8\\xa9\\xdd\\x97\\xd0\\xc5\\xf1-\\xbc\\xbaW\\x83\\xe5\\xb9\\x12\\x1f6a\\x81\\x83\\xc8%\\xb1\\xfc\\xb3^e\\x15\\xe41\\x05\\xb4k$u#\\x97\\xef\\x9a\\xf5\\x7f\\x1fN\\x93x\\x05\\x02\\x83\\xe66\\xd8\\x80\\x07\\xa1\\xc8\\xe7\\xf4\\xaf4\\xd2\\xf4mj\\xf2\\xd69\\xe0\\xd3\\xcc\\xb11*&\\x1fw#\\xadz\\x14\\x1f,n\\x8e:\\x8a\\xee\\xc5)\\xe2\\x85\\x8cqC\\x19I\\x1c\\xe0\\xe0\\xf2G\\x15\\xea6\\xba \\xd0\\xb4\\xf8|\\xb2\\xc6\\xed\\x00c\\x91\\x96\\xc1\\xac\\xef\\x0fxY4W\\x1a\\xb7\\x88\\xa4\\x8c\\xc8\\x83tv\\xf9\\x19s\\xd8\\x01Wo\\xb5Y\\xae.f\\xb9\\x95\\xf3\\xe6p#\\xe9\\xb4{\\n\\x8cD\\xee\\x92.\\x8cl\\xee^\\x8e\\xfcHK>_w?6sW4\\xfb\\xdd\\x97\\x1b\\x1f\\xe6V\\xf4\\xe0\\x9f\\xd6\\xb9\\x88\\xae$Ut;A\\xcfq\\xc8\\xab\\xdau\\xca\\xf9\\xe9\\x9c\\x86\\xeeq\\x80k\\x96\\xc6\\xf7\\xd0\\xee\\xecI\\x98\\x16F\\xcc`d\\xb09\\xc7\\xd4V\\x0e\\xb1\\xa8\\xbc\\x93\\x18\\xdf\"0x_C[Zt\\x92\\xa5\\xbc\\xf3,\\x7f\\xc3\\x90\\x07S\\\\M\\xfc\\xe2\\xe6\\xe1\\x9d\\x0e0~\\xe9\\x00\\x7f*ih\\x0br\\xd6\\xf34d\\x15\\x18\\x1d=*\\xcd\\x94r\\x88\\xc6\\xd9\\x08a\\xde\\xa8\\xda\\xc6\\xce\\x04J\\n\\x9c\\xe4\\xb0=jK\\x8f2)\\x10\\x07 /\\xf7\\x89\\xc5&\\x99W:XT\\xb7\\x96\\x8a\\xe3\\xe5\\xe5\\x89\\xe4\\xd6\\xdd\\x94~t\\x9b\\t8\\xee\\xd9\\xc9\\xff\\x00\\xebW!et\\xa9\\x16\\xf0\\xe3h\\x1c\\x9fZ\\xda\\xd0n\\xa5\\xbc\\x91\\x99#;z\\x06<\\nE#\\xa1\\xb9\\xb6\\xb6\\xb7 \\x06\\x91\\xe4\\xe3\\x19\\xe7\\xf2\\xa620R\\x19\\x0b#\\xf0\\xd5i\\xd0\\xa0A,{\\x8flT\\x91\\xab\\xba\\x93\\x80\\x80v\\xa6\\xafp\\xe8y\\xb6\\xabg\\xfd\\x9d\\xa920P\\xaf\\xf7q\\xe9Ys\\xee\\x84\\x17\\xc2\\x94<z\\xd7\\xa3\\xeb\\x9alwp\\x86x\\xb2\\xc0eH\\xeb^q**\\xde\\xb4#;I \\x86\\x1d*\\xfa\\x19\\xd8\\x8e96\\xc0\\xeb$d\\xae\\xde\\rp\\xfe \\x8c\\xc5:\\xbbr3\\xc5w~K[3F\\xe7r\\xb0\\xca\\xe3\\xd2\\xb9_\\x15l\\xf20\\xaaA\\'\\x02\\xae,\\x99\\x1a\\xbe\\x16B\\xd6K!\\x00g\\xa5vv\\x112E\\xbc\\x93\\xf3W+\\xe1\\xdbV\\xb7\\xd2\\xe12\\x12\\x19\\x87\\x02\\xba+Y\\x99\\xdd\"rPg\\xaek\\tnm\\x17\\xa1\\xace[h\\x8d\\xc3\\x02H\\xebTg\\xbdK\\xcf\\x9ba$z\\x1aMJ\\xe9\\x82\\x1bu\\x08A\\xeb\\xefPC\\x0f\\x08a\\x1bI=;\\x1aE\\x16RUQ\\x82\\x0e\\x08\\xeb\\xe9Q\\xc8%$\\xed\\x0cP\\xf7\\xa9\\xed-KLVa\\x8e\\xd5a\\xa1x\\xd1\\x979\\x1d\\xa9\\x88\\xa5\\x0e\\xdf+\\x1bIozI7\\x8d\\xa5O\\x1d\\xc5Cy1\\xb6\\xea\\xbf6x\\xa7C:N\\xa3<7q\\xea(\\xb1\\x95U\\xcd\\x16\\x8b\\xf1`\\xa5\\x04R[\\x8c.\\x00\\xe2\\xa4a\\xed\\\\\\xcfs\\xc9h\\x88\\x8an*Lb\\x9aEH\\r\\xa4\\xfeT\\xf1\\xd6\\x90\\x8ab#aM\"\\x9eFh\\xc5\\x01a\\x86\\x80)\\xfby\\xa4\\xc5\\x01a\\x84qW\\xf4\\x1f\\xf9\\x0ei\\xdf\\xf5\\xf3\\x1f\\xfe\\x84*\\x9e*\\xf6\\x83\\xff\\x00!\\xdd;\\xfe\\xbec\\xff\\x00\\xd0\\x85TwE$`\\xa9\\xa9\\x14\\xf3P\\xadJ\\xb4\\x8c\\xc7\\xe6\\x94\\x1afx\\xa5\\x14\\x80SMf\\xe2\\x82i\\x08\\xcd\\x02\\xb0\\x06\\xa7\\x86\\xf5\\xa8\\x97\\x83O\\x14\\x02D\\x80\\xe6\\x9c\\t\\x14\\xc1\\xd2\\x97==)X,J\\xa7\\xd6\\x9f\\x9fJ\\x87\\xa5;<T\\xd8,J\\x1a\\x97>\\xd5\\x12\\xd4\\x99\\xa2\\xc3C\\xc3b\\x9c\\x1a\\xa1\\xcf4\\xe0h\\xb0\\x12n\\xa7f\\xa2\\x06\\x9c)\\x00\\xfd\\xc6\\x9453\\xbd\\x02\\x916\\'V\\xa7\\x83U\\xc7\\x15 j\\n&\\x07\\x14\\xe0j\\x10\\xd4\\xf0h\\x02@i\\xc0\\xd4Ji\\xd9\\xa4\\x03\\xf3K\\x9afii\\x81 >\\xb4\\xb9\\xa6R\\xe6\\x80\\x1f\\x9ei\\xc0\\xf1L\\x06\\x94S\\x01\\xd4\\xb4\\x9d(\\xcd0\\x16\\x8a)\\r \\x14\\x9ai?\\x80\\xf5\\xa4\\'\\x8a\\x9a\\xc0\\x07\\x98\\xac\\x8a\\xa1s\\xd5\\xabJq\\xe6v*\\x11rvF\\xa6\\x8ff\\xc8\\x04\\xb2?\\xcaO\\x04z{\\xd6\\xed\\xbd\\xc0\\xb6b\\x15\\xcc\\x8f\\xd9@\\xac\\xe5\\x99\\xe5\\x8b\\xcb\\x18Hz\\x02\\x9cg\\x8fZu\\x8a\\xacs\\xb0i9<m\\r\\x93\\x8fs][h\\x8fZ\\x955\\x08\\xd8\\xbc\\xf77212.\\xd4\\xcf\\x18<\\x8a\\x91\\xf5;ki\\x02Mq\\xf3\\xe0ak\\x13P\\xd4$\\x82Q\\xe5\\xa3\\xb8\\x07\\xa0\\xe8)\\xe9\\xe4\\xde\\xc0\\xa9*\\xed\\x97\\xbe\\xe1Z\\xc5\\xeb\\xa0H\\xb9\\xae\\xa47\\xd6\\xfee\\xb1V|p3\\xd4\\x7f\\x8dx\\xb7\\x88\\xa4\\x9a\\xdbP\\xf3\\xc4r&\\x1b\\xb8\\xafU\\xbb\\x84\\xda\\xc5\\xb6,\\x8d\\xa3#\\x9a\\xf3\\xff\\x00\\x17i\\x07Z\"x%1\\xcf\\xfc@\\xb7\\x04\\xfd+g\\x1b\\xeed\\x9d\\x8a1k\\xa6\\xe6\\xdc\\x15\\x90\\xf9\\x98\\xe5s\\xd6\\x9for\\xf9,S\\xafwl\\xe2\\xb8\\x89\\xacn\\xf4\\xcb\\xaf\\x9c\\xa9\\x00\\xe3p9\\x15\\xado}\"\\x85\\r\\xf3g\\xbej9\\nS5\\xaffx\\xa6F\\x8eB\\x0erk\\xa0\\xd1\\xae\\xc6\\xa3\\x1f\\x97#\\xa8\\x94\\x01\\x803\\x9cW\\x17=\\xd6\\xe5\\xfd\\xd8\\x00\\xf7\\'\\xad[\\xf0\\xee\\xa9\\xf6{\\xe6n1\\xc6}\\xe98\\x071\\xd1\\xea\\x92\\x85fQ\\x80\\x17\\xef\\x16\\xe8+\\x8e\\x96P\\xf1\\xc8\\xdb\\xc0\\xf9\\xba\\x0c\\xe6\\xbb-d\\xac\\xf6\\xbezc\\r\\xc8\\x03\\xa6k\\x89UX\\xe5enW9#\\x1f\\xd2\\xa2\\xd6\\x1ab\\xe8\\xec\\xe6I\\x82\\x05c\\xb7\\x8d\\xd8\\xadm?Ux\\xb4\\xd9\\xac\\xf5\\x88\\xe3\\xbd\\xb3rs\\x1e\\xdc:}3\\xd6\\xb1\\xb2\\xb1N\\xe5w&\\xf1\\xc1\\xf4\\xfc\\xaa\\xdd\\xb4\\xcb\"\\x84u\\x06R\\x08\\xc19\\xfch\\xbd\\x9d\\xd0\\xedufM\\x1f\\x814=`\\x994\\xfb\\xe6\\x81[\\x93\\x1b>\\xd6\\x1f\\xe7\\xf1\\xac\\xff\\x00\\x17|=\\xb7\\xd0,\\xe2\\xbd\\xd2n\\r\\xd6\\xc3\\x89\\x07u\\xf4?J\\xbd\\xa6\\xc0\\xf6\\xf7\\x02XT6\\t8\\x19\\'\\xafr*\\xdd\\xde\\xa4\\xe9eul\\x8b\\x84\\x95v\\x04#\\xa1\\xeekuVF\\\\\\x88l\\xba\\xe0\\xbc\\xb2\\xb2\\x01\\x810\\x90\\n\\x93\\xd3\\x8a\\xdd\\xb5g\\x96&\\xc9\\x04\\xf0p?\\x0f\\xc2\\xb8K\\x1bV:\\x8a\\xf9\\x0b\\xbbi\\xeez\\x9a\\xec\\xed\\x04\\xf1@\\xa2o\\x94\\xf3\\xc6\\x0f\\xa5s\\xcd\\\\\\xd6\\x1a\\x11YZ\\xf9w\\x8e\\x14\\x12\\x0f=\\x7f\\n\\xbby\\x94\\x87\\x91\\xbb\\x93\\x8c\\x8e\\x95\\x17*\\xcb `[\\x8cc\\xfc3V\\x14}\\xa4\\x1c1b3\\xcb\\x0e\\x95\\x9ctf\\xafTq\\xda\\xcd\\xc1\\xbd\\xb1\\x8e\\xc5\\x9d\\xb6\\xa3\\x86#\\xdf5\\xe8\\xbav\\xa3\\x1f\\x87\\xf4[++fI<\\xb8\\x81 `\\x0c\\xe3\\x9c\\xfb\\xd7\\x1f\\xaaX-\\x8c\\xad>\\xcc\\xa1\\x1c\\xb6zS\\x16G\\xdb\\x18\\x95|\\xcd\\x83\\x00\\x83\\xdb\\xb6EtFVVF\\x0e$z\\xcd\\xc4\\xda\\x86\\xad#\\xdc\\x1d\\xe1N\\xe0\\xbd\\x87\\xbdU\\x9a)\\x1b\\xf81\\xe9\\xc6?Z\\xdbkX\\xa5\\xb5$C\\xb7\\xe5\\xe5\\xf3\\xd3\\x9e\\xf8\\xac\\xe8\\xad\\xda\\xe2\\xe9cY\\x94\\xc7\\xed\\x9e\\xbf\\x95D\\x99qV)\\xc7lb\\xb8!\\x8b|\\xc3\\'\\xb6*\\xed\\x84%.r\\n\\xb8?\\xc2Ml\\xdc\\xd8D\\xf2\\xc2\\x98!\\x95z\\xf5\\x1c\\xfeU\\x1d\\xa5\\x88\\xfbv\\xd6\\xdb\\xd7\\xa8\\x07\\x9aW\\xb8Z\\xc7D\\xb7\\x7fe\\xd3_\\xcb!\\\\\\x8c\\x80y\\xae\"\\xed\\xe3k\\x97e\\n\\xb29\\xc9\\xc1\\xe3\\xf2\\xed\\xf9\\xd6\\xbf\\x8b\\xa6Kk5\\x8fpP\\x06A\\xeb\\x83\\xe9\\xeb\\xd8\\xd7\\r\\x16\\xa0\\xa8\\xc7x]\\xd9\\xe0\\xfa\\xd5\\xa8\\xe8G>\\xa7X\\x93\\x8bh\\xce\\x19T\\xf5\\xdcj\\xa4\\x92<\\xce\\x1d\\xb1\\xe5\\x13\\xd4\\xf3X\\x91\\xde5\\xdc\\xab\\xe7\\xaa\\xed\\x1d\\x81\\xadd\\x9d!\\xf9\\x9f\\x0c\\x07A\\xd8Q\\xca4\\xeeli\\xb0\\xb5\\xd4\\xe27FX\\xba(a\\x8d\\xdf\\xfdj\\xedl/\\x12\\xdd\\xd2\\xde\\xd6\\x06i?\\x95p:^\\xa3/\\x0cI\\xc3te<\\xadz\\x06\\x9d\\x03\\xfd\\x9662\\x95\\xdd\\xce\\xef\\xe2\\xfc\\xealZf\\xe3\\x8b\\x99\\xad\\xc3\\x07Us\\xd7\\x1d\\xaa\\x01#\\xaa\\x90\\xf9b99\\xeai\\xf6\\x90\\xc3\\x1ck\\xbaWr:\\x92\\xdd*\\x0b\\xc8a[\\x91*1\\xdd\\xfd\\xeek6i\\x12\\xc8\\xcbG\\xb8\\x16*\\xc3\\xee\\xe3\\xa5y\\xbf\\x8bm\\x8d\\x95\\xfbJ\\x91*\\xc6NI\\x15\\xe9\\xe2\\xe1LJ\\x10\\xa0\\x90\\x0e\\x03q\\x9a\\xe4<[\\x0cW\\xb6\\x87\\xa2H\\tV\\x07\\xfcj\\xd6\\x84\\xb3\\x8e2\\xac\\xd1\\t#PY\\x07OZ\\xe4u\\x8d\\xd7Wh\\xb1\\xae\\xd2[;Mt\\x93\\xaf\\xd8\\x13`\\'\\xde\\xa9,>m\\xfcnA#\\x1di\\xde\\xc4\\xda\\xe6\\xb4\\x12\\xbai\\xca\\x80)*\\x06q\\xda\\x9e\\x92\\x9d\\xea\\xeexE\\xe6\\xa3.\\x89n\\xe0\\x8e\\xe0\\x16\\x14\\xb0@\\xf3\\xca\"\\x00\\xe0\\x9e\\xde\\x95\\r\\xdc\\xd1\\x16,\\xe1k\\xcb\\xa7bs\\xef\\xe9]\\x0e\\x9ff\\x90\\x81\\xb9\\x83z\\x8fCE\\xa5\\xbd\\xbd\\x95\\xb1y\\x1b\\x0e\\x17\\xf3\\xaa\\xd6\\xf7\\xe2\\xe2UH\\xd7\\xa9\\xe4\\x9aOA\\xdc\\xb3<\\xfb%\\xc6\\xd3\\xb8T\\xe2ex\\x15\\xc9\\xc1\\xef\\x9a\\xb94\\xb6\\xd6\\xf6\\xfb\\xae\\x008\\x18\\xe9\\\\\\xe6\\xa1yo2n\\x82L\\x00{\\x1a\\x12\\xb0\\x9b\\x1f|\"\\x9d~s\\xc6z\\xd6X\\xda\\xec\\x1a#\\x87^\\x08\\xab\"u\\x9a\\x13\\x82\\x18\\x81\\x8e+\\x16\\x17\\xdb1\\xea3\\xc1\\xabFr:\\x9b7b6\\xb0\\xe6\\xae\\x11\\x9a\\xa1\\xa71d\\x07\\xd0V\\x86=+\\x96{\\x9e\\\\\\x95\\x9b\"aL\\xa9M4\\x8a\\x82F\\xf7\\xa6\\x9ei\\xf8\\xa44\\x80\\x8c\\x8eh\\x02\\x9d\\x8fJ(\\x01\\xa4SH\\xe2\\x9e)\\r442\\xafh?\\xf2\\x1d\\xd3\\xbf\\xeb\\xe6?\\xfd\\x08U<U\\xed\\x04\\x7f\\xc4\\xf3N\\xff\\x00\\xaf\\x88\\xff\\x00\\xf4!W\\x1d\\xd1G<\\xa2\\xa4Q\\xd2\\x85\\x1cT\\x80qRd4Q\\x8a~\\xda1C\\x0b\\x11\\x9ai\\xa91\\x9aB8\\xa4\\x03\\x00\\xcd(\\xa3\\x1cS\\x80\\xa0B\\x8e\\x94\\xa3\\xad*\\x8cS\\xb1\\x8a\\x06%;\\xa9\\xa4\\xc7J\\\\R\\x00\\x07\\x8ax4\\xd01N\\xc5;\\x05\\x82\\x9c)1K\\x8a,\\x16\\x1dJ)\\xa2\\x9c\\xbe\\xf56\\x0b\\x0bE/\\xd2\\x94\\n\\x96!E;4\\x94\\xa3\\xad\\x16\\x01\\xdfJp<Si\\xd4\\x80u(\\xa6\\xe6\\x9dL\\x07f\\x94\\x1am-+\\x00\\xf0i\\xd9\\xf4\\xa6\\x03\\xc58u\\xa6\\x03\\xf3J\\rG\\x9ap\\xa6\\x03\\xf3K\\x9c\\xd3\\x01\\xa5\\xa0\\x07f\\x90\\x9anh\\xcd\\x00*\\x80\\xee\\xaa\\xd9\\xc1\\xf48\\xad\\x9b+h\\x84,\\xa2<\\x068R\\xdf\\xe7\\x9a\\xc9\\xb5\\x8d\\xa5\\x9cl8\\x03\\xa9\\xce0+Ri\\r\\xb6\\xe7V.\\xca6\"\\x0e\\x80\\xfa\\xfb\\xd7U%h\\xdc\\xee\\xc2C\\xed\\x12\\xdd\\xda\\xb2l@\\xdb\"\\xee}M2\\xe2\\xf2\\xde\\xc5\\x1b%@\\x1cg<\\x93\\xd6\\xa6\\xb1/\\x1a\\x995\\t\\x90\\x90x\\x18\\xe9Y\\xd7f\\xceY\\xcc\\x84\\x89\\x19\\x8f\\x19\\xe89\\x1f\\x9dY\\xdd\\xb8\\xb6\\xba\\x9a\\xcf3\\x05\\xc2\\xa0\\xfb\\xccF}\\xb8\\xab\\x93\\xb3+\\x95_\\x98\\x96\\xc79\\x1f\\xe7\\xff\\x00\\xadR\\xdbAm\\x1c[\\xa2U\\x11\\x95\\xe0\\x9f\\xebV\\xe1\\xbc\\x81TG\\x94^xc\\x8ekE\\xa1\\x0f]\\x8c\\x8b\\x85\\xb8\\x923\\xb4\\x99\\n\\xf1\\x81\\x81\\xc7\\xf8\\xd7+\\xa9\\xa8I^2J99\\x07\\xa6k\\xd1\\x89\\x8d\\x98\\x14\\x957\\xf7V\\x1f\\xd6\\xb8\\xef\\x1c\\xe9\\xac!2y$\\x06\\xfe4\\x04\\x80k\\xa6\\x0e-\\x18I4\\xcf5\\xd60\\x80\\x99\\x08*\\xc7\\x9fo\\xads7~p\\x97\\xfd\\x18<\\x80\\x1c\\xe0Wg\\x1e\\x96\\xae\\xc7\\xed\\n\\\\\\xf4\\xcb\\x03ZV\\xda\\\\J\\xaa\\xa8\\x80\\x0e\\xd8\\x15|\\xa4\\x1c4q]K\\x16J\\x15>\\x84T\\xb6\\xb0J\\xae\\xa1\\xd1\\x88\\'\\xe6\\xdb\\xfd+\\xb6\\x93N\\x1e\\xd8\\xa8\\xcd\\xa2\\xc2\\xbc\\x81\\x8e\\xb9\\x14\\xac\\x05[{\\xa9^\\x18\\xed\\xda<\\xc6\\x060;Uk\\xbb\"\\xb7\\x00\\xa9\\xc2\\xe7\\x93Z#d}\\x0e\\x1b\\xa8\\xc5\\\\\\xb4\\x84L\\x188\\xc8\\x1d8\\xcdeR=\\x8b\\x8b\\xb1\\x86\\xb6\\x8ed\\xdf\\xf2\\xaa\\x1e\\x8e\\xc3\\xaf\\xe1Q^[=\\xbe|\\xb0A`>pA\\xc9\\xff\\x00\\n\\xeb\\x96\\xc6\\x19e\\x88.Q\\xba\\x0cz\\xd4\\x8db\\x96\\x89#\\xcc\\x9b\\xcfL\\xe7\\x02\\xb9\\xf9\\xb56\\xb1\\xcdE\\x01\\x82\\xc2?4\\x8c\\x91\\xc8Q\\xd3\\xbf^\\xf5Z8\\x04\\t\\xe7JRL\\x92H\\xc7\\n\\xbdqZ\\x92\\xbcs\\x19\\x99Uau<#s\\x9fz\\xc2\\xd6\\xef\\xa6\\x96\\x13\\x14C\\x1d\\xbe^\\x05R\\x11cAo\\xdc\\xfd\\xa4\\x907\\xb99\\xc7\\x00s\\x8a\\xd9\\x92\\xf4\\xc6F\\xc7\\x00\\xf7$~U\\xc5YI=\\x9d\\xb1\\x8dr\\xf1`\\x10@\\xe0g\\x8e\\xb5\\xa7\\xe7\\x19\\xa2\\r\\xb9\\x83\\x1c\\xe0P\\xd6\\xa3F\\xa1\\xbb2\\xcc2\\xff\\x00!\\x1c\\xfag\\xbf\\xf4\\xab0NSs\\xa3\\x06\\x1f\\x96\\x07\\xf4\\xe9\\\\\\xd0&7\\xc92\\x16\\xc6\\x06\\xf3\\x90;\\xd6\\xb5\\xbd\\xc1X\\x8cd\\x8eO$w\\xe9\\xc0\\xa5\\xca\\x90s3R\\xfa\\xe0Oa$2eHRy\\x1cs\\\\\\xee\\x81z#\\x7f.w Fq\\xeb\\xc5Kr\\xe6r\"f;\\x1c\\x10y8\\xeb\\xc75Um\\x17\\xed\\x12\\xbc\\x07;\\x1c\\xc6\\xc7\\xd7\\x1d\\xe9\\xad\\xac\\x07Y\\x19\\x84\\xbe\\xd1,.\\x0f\\xf7\\x81V\\x1f\\xe3Z\\x16\\x96\\x1eL\\xa8\\xce\\xc8\\xa0\\xf2J\\xa8\\xc9\\xac\\r1\\xad\\xe7\\x0f\\x14\\x92\\xc6\\xa4\\x8eF\\xdc\\x9a\\xd4\\xd2oR\\x19\\r\\xb4\\xccYs\\x85w\\xebQ%d5\\xab6\\xcc\\x027\\xc9\\x19\\x0c88\\xacMVF\\xb0\\xcbD\\xb9\\xeeT\\x0eq[\\x8d4d\\x94np8\\xc9\\xac]X\\xa5\\xdcf5\\r\\xb8\\x0e\\x06\\xe0N?\\xadiJ\\x17\\xd5\\x919t9[\\xfb\\xfb}Q\\x04S\\xb8,\\xc3\\x82\\x0e8\\xac{\\x8f\\x0f\\xfc\\xdb\\xa1\\x93\\x11\\x91\\x9eFqS\\xdf\\xe9G\\xed\\x11\\xcb\\x08\\xf9\\x81\\xe4\\x0e2)c\\xd5\\x0c\\x10\\x14\\x908e\\xe3l\\x83\\xa5t\\\\\\xc4\\xa1i\\xa74s\\x08\\xe4\\x95\\xa3\\x0cq\\xb8\\x0c\\x83]\\x1ah\\x11ylg\\x9d\\xf8\\xe8G\\x15\\x9b\\x0c\\x8d4k8l!\\xe7#\\xb1\\xae\\x92\\xdaf\\xbf\\x868\\xe3,C\\x0c\\xb1\\xa1\\xad\\x06\\x8c\\xff\\x00\\x0eXH\\xda\\xb2\\xdb\\xa3\\x89!_\\xbcG\\x1cW\\xa9\\xdb[\\xc0\\xb1\"\\xa9m\\xcb\\xdbw\\x02\\xb8\\xcd:\\xca\\r6\\xe9\\x08\\xdc\\xd72\\x92\\xaa\\xa3\\x18\\x1e\\xb5\\xd1\\xdcG;\\xaa\\xacl\\xe0\\'=z\\x8a\\xceVH\\xd2;\\x9a\\x0f\\xf6X\\xa5\"\\xe1\\x9bp\\xc0\\x1bZ\\xad\\xc2\\xd6\\xd2\\xc2V\"\\x1b\\x1c\\xed~\\xf5\\x9bk\\x0bH\\xab\\x1d\\xc2\\x83\\xc6\\x07lS\\xdbe\\xbb)`F8\\xdc;}Es\\xb5mM\\xd3\\xb9z\\xdd\\xd2P\\xca\\xe9\\x808P\\xde\\xbe\\xd5\\x93\\xab\\x14\\x89Y\\x1biF\\x04\\x82W\\xd2\\xad\\xcdu%\\xaa\\x1b\\x84Q,G\\xae;\\x8fZ\\xa7y\\x17\\xdamn\\'\\x8eM\\xd0\\x91\\x92\\xa7\\x9d\\xa7\\xd4U\\xc7]\\t\\x91\\xc8]\\xa4\\x12\\xc6\\xcc\\xbd3\\x8eEg\\xe9\\xea\\x03\\x90\\x06\\xe3\\x19\\xc7\\x15\\xb3ij\\xa2I\\x83\\xba\\xb2\\x90s\\x8e\\x95SO\\x80\\t\\xa7)\\xc7q\\x9a\\x99nR\\xd8\\xa1\\xae\\xaf\\xd9\\xf4\\xfc\\xaaa\\xdd\\xb3\\x8a\\x9bA\\x95\\xad\\xacM\\xc4\\xc4g<S\\xf5q\\xf6\\xa4\\x8dc\\xff\\x00X\\xa3\\x90j\\xe6\\x91\\xa4<\\x89\\x18\\xbauH\\xf3\\x9d\\x94\\xc5r\\x1bY\\xa7\\xd5\\'.\\xc0\\xaa\\x0e\\x83\\xda\\xba]2\\x18\\x12-\\x98F=w\\n\\x82\\xebL1\\xa6\\xdbYU\\x14u\\xc5g\\xdc\\xbb\\xe9\\xc8>\\xce\\x0b\\xc8\\xddH\\xe8jv\\x1d\\xcd\\x8b\\xf4\\x82\\xe9[s\\x85\\xe3\\x9a\\xe6.\\x93N\\x88\\x98\\x9eM\\x8c\\xc7\\x19\\xed\\x9almur\\xcc]\\xda<\\x9er8\\xac\\xbb\\xed2I$\\xe4\\x97\\xe7\\xad4K-[i\\xcfk\\x14\\xdbd\\xcb\\x13\\x955E\\x0c\\x921?\\xc4\\x0f\"\\x9f9\\x9e\\xd9\\xc2\\x89w(\\x00\\x8a\\xae\\xb3\\x89.\\x91\\x90\\xe0\\x9f\\xbc\\xb5\\xa5\\x88:\\xdd\\x1c7\\x97\\xf3\\xf45\\xaax\\x15\\x95\\xa2\\x12#*\\xfc\\xfaV\\xa9\\xe9\\\\U>#\\xce\\x9f\\xc4\\xc6\\x1ai\\xa7S;\\xd4\\x10\\x04qM<\\xd2\\x93\\x9aO\\xa5 \\x1bE/jJ\\x00CHii\\r41*\\xf6\\x85\\xff\\x00!\\xcd;\\xfe\\xbec\\xff\\x00\\xd0\\x85Q\\xab\\xda\\x0f\\xfc\\x874\\xef\\xfa\\xf8\\x8f\\xff\\x00B\\x15q\\xdd\\r\\x18\\xa8\\xb5&8\\xa0\\n~;T\\x93a\\xa1N)\\n\\x9a\\x90R\\xe2\\x95\\xc5b-\\xb4\\x9bj}\\xbcR\\x15\\xa4\\x16 \\x0b\\xda\\x94-JV\\x94-\\x17\\x0b\\x0c\\x02\\x97nzS\\xc2\\xf1N\\x0b\\x8a.2=\\xb8\\xa0\\xadK\\x8aM\\xbe\\xb4\\xc2\\xc3@\\xe2\\x8cS\\xf1\\xe9F)\\x00\\xd0)q\\xcd<\\np\\x1c\\xd3\\x020)\\xca)\\xdbiB\\xd2\\x15\\x86\\xe2\\x96\\x97\\x06\\x97\\x14\\x05\\x84\\x02\\x9e\\xa3\\xad \\x14\\xf08\\xa5a\\t\\x8a1\\xcd;\\xb5&(\\x00\\x14\\xa2\\x81J\\x05+\\x00f\\x94RR\\x8a\\x00p\\xe9O\\xa6\\np\\xa0,/\\xb5-\\x02\\x8a\\x02\\xc2\\x8aZh>\\xb4g4\\xc2\\xc2\\xe6\\x90\\x9cRg\\x14\\x84\\xf1@X\\xb5f\\xcc\\xa7\\x11}\\xf7\\xf9C\\x11\\xc2\\xfb\\xd6\\xab\\x18\\xec`P\\xef\\xe6\\\\\\x11\\xc2\\x01\\xf3\\x1fsY\\xb6\\xf2}\\x9e%H\\x137\\x12\\r\\xdb\\x9b\\xa2\\n\\x96\\xce(\\xe3\\xb8i\\xb6\\xf9\\x93\\x9e\\x9b\\x8es]q\\xd2)\\x1e\\xae\\x1e6\\x82-9\\x8c\\xda\\t\\xeeX\\xc6\\x0f$\\x13\\x85\\x02\\xaaY\\xb5\\x94\\xad\\xe7YDe\\xfe\\x11&>Q\\xf4\\xff\\x00\\xebV\\xdf\\xf6b\\xc9n\\r\\xf2\\x96v\\xe9\\x16~U\\xfa\\xe2\\xaby\\x96\\xe1\\x85\\xbd\\xb4J\\x8c\\xbdB\\xf4\\xa7\\xb1\\xbe\\xe6e\\xe8\\xd5e\\x98\\x18\\xe4\\xb7\\x86,\\xe7i\\x1c\\xbd%\\xe5\\x94\\xef\\x1a<\\x11\\x97\\x9b\\x1c#\\x1ex\\xf4\\x15<\\xfaQk\\x84\\xbb\\x9e\\xeaS\"r\\x11x\\x02\\xa1\\x7f\\x10<R\\x88d\\x84\\x8c\\x0c\\x06\\xf5\\xfaR\\xb8\\xedb\\x847\\xb7\\xb6P\\x07\\xb9\\x86U?N\\x9f\\xfe\\xba\\x8e\\xff\\x00\\xc5s\\xc1\\x06P\\x12\\xa0\\xe4\\xfc\\xd9lv\\xf6\\xaf=\\xf1\\x0f\\x89\\xee\\xad<M#\\x99\\x9a(\\xa5;\\xb6\\x1f\\xbb\\x8f\\xa1\\xad?\\x10\\xde\\xac\\x9a\\\\W\\x96\\xf2!\\x04c\\xe4\\x1ft\\xf5\\xc5k\\x184\\xd1\\x8c\\xa6\\x9a\\xb1\\xd4\\xc1\\xe2\\xab]UV\\xd6\\xf9\\x15$\\x90|\\x8d\\xb7\\x9c\\xd3V\\x17\\x8e]\\x87\\x00\\x03\\xd7\\xd6\\xbc\\xae=|[\\x00\\xdeSy\\x8d\\xf78\\xe0{\\xd7_\\xa4I6\\xa5\\x1a=\\xd3\\x93\\x0fQ\\x82Ao\\xadu\\xc5\\xdbC\\t#\\xa3\\x91T\\xb3(<\\xe3\\xd6\\xa9Kf\\x937\\xdewE\\xec\\x0f\\x1f\\x8di[\\xa2\\x0c\\x00;T\\xc6\\x05+\\x90\\xc1\\x0f|qTI\\xcfL\\xa5c\\xe65\\\\t\\xcfZ\\x8e\\xd2Y\\x1b9f\\x0b\\xd0v\\xcf\\xd3\\x15\\xa9u\\xa7F\\\\y\\x99b:d\\xf1\\xf9V5\\xc6\\xad\\x04s\\x18\\xac\\xe33\\x958yx\\x08\\xbf\\x8d&;\\x9b\\x90\\x1f*-\\xca\\x07\\x9a\\x0f\\x00\\x1f\\xeak#\\xc5\\x13\\xdd\\x9bevI\\x15O\\x18 \\x8f\\xc4\\x1e\\x94\\xb1jM0\\xdf\\x82\\x91\\x8e\\x8b\\x8c~4\\xb1\\xde\\x87Y#;\\xd4\\xb6@\\xc19\\xaez\\x94\\xef\\xaa.\\x13\\xb3\\xb1N[x\\xe0\\xd0\\x96\\xe0Ldp3\\xd09Z\\xe5t\\xe9\\xde\\xe5\\xe4\\xca<\\x8c\\xa39\\xc6\\x0e+\\xd3\\xb4\\xfb1{\\xa74wv\\xd1y\\xa8\\xbbc2\\x0c\\x07=\\xbbs\\\\\\xed\\xfd\\x94zl\\xb71\\xddY\\xc9\\x0cm\\xb5\\x16T\\xe8\\xd9\\x18\\xe3\\x03#\\x1e\\xb5\\x92\\x95\\x91\\xa3Z\\x9c\\xf5\\x8d\\xac\\xdbZ9\\x890\\xb8\\x07\\xbf\\xc9\\x92@\\x07\\xf1\\xab\\xe2\\xd6E\\xc8]\\xca\\x02\\x8e\\xbd\\xff\\x00\\xc2\\xabI\\x1c\\xafit-&>t\\x0c\\x1d\\tbC/uoZ\\xd7\\xb4\\xf1n\\x8f(H$\\xc4w\\x1b\\x17xu8\\x07\\x1c\\x8a\\xbb7\\xb17\\xe5\\xdc\\xcf{G\"3\\xb5\\x98\\x0erz\\x1f\\xf3\\x8a\\xbdo\\xa6K*e2\\xbc\\x11\\xc8\\xe3\\xf4\\xab7\\x17V\\xa661\\xe0\\xb7\\xf0\\xe0\\xf4\\xf7>\\xd4I\\xe2;M* \\xd2\\x15\\xc8\\xe8\\xa4\\x82\\xc7\\xf0\\xa9\\xe4\\x95\\xc6\\xe7\\x1b\\x10\\xeaVF\\xd6\\xd4\\xcbpvF\\x01\\x05\\x88\\xc6\\x07\\xaf\\xe5\\x9a\\xafe\\x0c1\\t\\x89\\x90\\x85\\x91\\x04\\x91\\xc6N>\\xf7\\xaf\\xbd`\\xdc\\xf8\\xaa\\xe7\\xc4\\xf3\\x9d5\\xa1\"\\xd0H\\x1c\\xc8\\xb9\\xe3\\x19\\xe0\\xd6\\xe3\\xac\\x9a\\x8d\\xdel\\xed\\x9aB\\x8a<\\xb6`B)\\x03\\x81\\xee3Nk\\x97F\\x10|\\xda\\xa2\\xcf\\x84\\xb4\\xc9M\\xe8\\xb8 \\xa8V!\\x94\\x8eA\\x04\\x0e=\\xb1\\x9a\\xe8n\\xec#\\x1a\\xbbH\\xbbcP7\\r\\xe4\\x82O\\xb0\\xe4\\xfex\\xa7\\xf8~\\xd2\\x0b\\x0b\\xa8\\xc6\\xa1w#\\xde\\xbb\\t\\x12\\x10r\\x14\\xe3\\x1c\\x0fN\\xb5K\\xc4\\x12F.f>kG\\xe6\\x13\\xb5\\xc8;~\\x9d\\xe9F<\\xecr\\x97*\\x13P\\x9c\\xb3lP\\xec\\xc3<0\\xc7\\xf5\\xac\\xf4\\x9eq\\x83\\xb1:\\xf2\\n\\x86\\'\\xf1<\\x8a\\x89n<\\xb2\\xad,\\xcb*\\x9e2\\xbdO\\xe1\\xd7\\xf4\\xadE\\x88\\xb0\\x1bC\\x00k\\xadE-\\x8e{\\xdfr\\x05\\xf3e\\xd8\\xcaN\\x0f\\x07\\x9eW\\xf0\\xa8\\xef,7\\xc2\\xder\\x96S\\xd9\\x97u[\\x8c4,q\\xfa\\x8ap\\xb8eq\\xb8\\x95\\x07\\xb6i2\\x91\\xcf\\x8d2H#f\\x89c\\x92&\\xe7h\\xe0\\x8fq\\x8a4yE\\xbd\\xd7\\xcc\\xe5\\x01\\xe8\\xbdk\\xa3(2T\\x8f\\x95\\xab\\x1a\\xefMW\\xbb\\xb71\\x12\\xac_\\x07\\x07\\x83J,m\\x1dE\\xbf\\x92\\xae\\xb730\\r\\xb7\\n\\x7f\\xba=kf\\x0b\\xa8\"\\x89]\\xe4\\x1b~\\xe9&\\xab\\xdbiH\\xf0!\\x99\\xbfv\\x00\\xea:\\xd4\\x92G\\x04\\x85aD\\x04v\\xcfN\\xb4\\xa7t8\\xea@\\xba\\xcd\\xa7\\xdbc\\x8e)\\xb7;\\xb66\\xfa\\x1f\\xaf\\xa5k\\xca\\xd6\\x97p\\x94\\xbaeV\\x1cd\\xf5\\xfck\\x9d\\xbc\\xb6\\xb6\\xb1o:D\\xfa\\xe7\\xa7\\xd6\\xae\\xd8][]\\x00\\x17\\x97P\\x08\\x19\\xe6\\xb9\\x9b\\xe8o\\x12h\\xad\\x95\\x0b\\x1b;\\x8d\\xca?\\xe5\\x999\\x07\\xf1\\xa1\\xed\\xbe\\xcf\\x19e%\\x11\\x8eq\\xc7\\xe4}\\xaa\\xb4@[\\xdc\\xaa\\x11\\xba\\x17\\x1c\\x9e\\x98\\xa4\\x95\\x8d\\xac\\x8f\\x04\\xce\\xcf\\x14\\x83\\xe4l\\xfbf\\x92\\x1b1\\xf5\\t\\x05\\x85\\xe9\\xc2(\\x8e_\\xbb\\x8e\\xf5\\\\3m,\\x13\\nI\\xe9Z3\\xdb5\\xd4R\\xc5p\\x8cD$2:\\x9e\\xc6\\xb25\\x8b\\x88\\xad\\xedI\\xdd\\x8e>\\\\w5RWb\\x8b\\xb2*\\xcd0K\\xcf\\x94|\\xfe\\xd5\\xb3j\\x19\\xca\\x93\\x9d\\xd8\\xf5\\xaesI\\xcc\\xbf\\xeb3\\xcf%\\xbb\\x9a\\xea\\xecme}\\xa11\\x1a\\x8e\\x87\\xa94\\xd2&\\xe4\\x1a\\x9c\\xebh\\x87s2g\\x1c\\x93T`\\xd6\\xed\\x8f\\xc8\\xd8\\'\\xa75\\xb3\\xa8iP\\xdcG\\xfe\\x91#\\x15\\x1c0=\\xab94\\x0bH_\\xee\\x83\\xe8}hi\\x82ek\\x9dB\\xdd\\x13 \\x80\\xddq\\xebXW\\x9a\\xb8\\x8a@b\\xe07j\\xd1\\xd5tH\\x9aB\\xd1\\xb1\\xdb\\xf5\\xe9U\\xe6\\xd0\\xe0Hb\\x91\\x8eJ\\xe7\"\\x8bw\\x0b\\xf6(\\xc8nZU\\x93n\\xe8\\xcd\"E\\x8b\\xa1&\\xd2\\xa7\\xdcV\\xee\\x9f,\\x13 \\x84c+\\xd3=\\xc5g\\xce\\xdeM\\xd7\\x97 \\xe8x5B7\\xf4\\x96\\xcan\\xe8kL\\x9a\\xca\\xd1\\xc8\\xd8\\xc3\\xde\\xb4\\xc9\\xe3\\x8a\\xe1\\xa9\\xf13\\xcd\\x9f\\xc4\\xc6\\x93\\xc56\\x83Hk2\\x034f\\x9aM&h\\x01\\xcci\\x84\\xd0M!\\xa6\\x02\\xd2Rf\\x8c\\xd0P\\xb9\\xab\\xda\\x0f\\xfc\\x87t\\xff\\x00\\xfa\\xf8\\x8f\\xff\\x00B\\x15@\\xd5\\xed\\x07\\xfeC\\x9aw\\xfd|G\\xff\\x00\\xa1\\n\\xa8n\\x81\\x19\\xa2\\x9e))\\xe0T\\x80\\x80S\\xc5%(\\xa4\\xc0\\x0fJ@)\\xd4c\\x8a\\x91\\x0c\\xebNU\\xa5\\xa2\\x80\\xd8U\\\\\\xd2\\xe2\\x9c)q\\xda\\x8b\\x8cf(\\xc7\\x14\\xfcQ\\x8ah\\x06c\\x8aP\\r<\\n:S\\x01\\xa1iO\\x0b\\xd0\\xe4\\xf0)\\xc0zR?\\ns\\x8a\\xb4\\x02.H\\x19\\xebN\\x0b\\x9aT\\xe1\\x17\\x91\\x9a&\\xca\\xca\\xb8#\\x91\\xc8\\xa5\\xca\\x01\\xd2\\x97\\x14\\xa3\\x07\\x06\\x9c\\x05!\\x0c\\x03\\x9ap\\x14\\xb8\\xa2\\x90\\x08E%;\\x14b\\x91#ih#\\x14v\\xa4\\x00\\r\\x02\\x97\\xbd(\\x1c\\xd0\\x02\\xaf\\x06\\x9e\\x050S\\xb3@!\\xd9\\xa2\\x92\\x8e\\xf4\\x0c3\\x83I\\x9esI\\x9aL\\xfeT\\xc0\\\\\\xf5\\xab6\\x10\\x0b\\x8b\\x84\\x8cg9\\xebU\\x07&\\xba\\xdf\\x0eio\\x1d\\xb3\\xdd\\xb0\\xc1#\\xe4\\xdd\\xde\\xb4\\x84n\\xcdiC\\x9aI\\x16\\x1fC\\x92\\xe0\\xaaFR(6\\xe1\\x98)\\xdcEMi\\xa7ZiHV8\\x86G%\\x9c\\xeeb~\\xb5b\\x16\\xbb\\x90\\x8c0\\x08>\\xf3\\x11\\xcf\\xe1U\\xaeY\\x04\\xae\\xf3\\x1cF\\xbc\\xe4\\xb6\\x07\\xe3]}\\x0fQ\"=\\xd2J\\x19\\xd9\\x95\\x818\\x00t\\x1e\\xd5\\x8d\\xa9\\xdd\\xc1i(\\x9c\\xe4\\xb9\\x03!F9>\\xd5\\xb1\\x15\\xd4r\\x01\\xb0\\xae\\xd08\\x03\\xfc+\\x9e\\xf13:\\xcb\\x0bD\\xc0\\x00~oA\\xff\\x00\\xd7\\'\\x8a\\x86\\xaeV\\xc3\\x97Pi\\x8e\\xe6\\x90\\x16\\xdb\\x91\\xc7\\xbfo\\xfe\\xbdY\\x8ahgp%\\x08\\xed\\xfd\\xe0\\x99\\xe3\\xfaW\\x1b\\xe7M\\x1bJ\\xc1\\x94\\xa89a\\xe8}\\xabsJ\\x95\\x9d\\x03yy\\xcfBOo\\xad4C3<m\\xe1\\xbbK\\xfbWgE\\x92\"wd\\x0f\\x9d\\x1b\\xd8\\x8a\\xf3\\xa9axl\\x8e\\x9e]YU\\x8e\\x18q\\x91\\xfe5\\xed7\\xf0\\x9b\\x9d6t\\x8e6\\x12\\x85%H\\x03\\x19\\xc5|\\xf3q\\x15\\xfd\\xfe\\xb54a\\x8c{X\\x82q\\xc7\\xe5]QWG<\\x9d\\x98\\xd9!\\x9aC\\xf68\\xd4\\x91\\xb8}\\xda\\xee\\xb4+k\\xa8\\xad\\xe2I\\x1b\\xee\\x8f^\\x7f\\x1a4-\\x10\\xdb\\x85\\x05w\\xb9\\x1c\\xb9\\xeb]\\x0c\\x88,FB\\x92\\xde\\x83\\x15\\xa1\\x03\"\\x99a|\\xc6\\x1d\\x9c\\x9e8\\xea+B\\x03#\\x8c\\xcb\\xdf\\xa05F\\xd29\\x9c\\x19f`f\\'*\\x85G\\xca*{qtCH\\xcd\\x1fp\\x10\\xfd\\xe1\\x83\\x83\\xc5\\t\\x8d\\xa1\\xb7\\xb3[,RG,\\x82R\\xd9R\\xa0~\\x94\\xd8\\xac\\\\\\r\\x90[\\xa4(@%\\x98g\\x15oOkvs\\xb8\\x0f4q\\xb4\\x8d\\xb8\\xcf\\xebS\\xdc_$r\\x08\\x90d\\xec\\xe1Uy\\xc7\\xaf\\xa0\\xa5{\\x8a\\xc5H\\xf4xHf\\x95\\x9ef\\x1c\\xe2?\\xf1\\xaa\\xcd$6M\\x95O\\xbcx!\\x87\\xcb\\xf5\\xda9\\xfc\\xabF#4\\xeeY\\x94-\\xb8\\x1d_9\\x7f\\xf0\\x15\\x93\\xab\\xbb\\xb3\\x01\\x16\\xd8\\xc0\\x1f}\\x86\\xdf\\xfcw\\xff\\x00\\xd7T\"g\\xb9f\\xbdA\\xe5\\x08\\xe2\\x9d>V\\xfb\\xa3w|\\x13\\x8c\\xd4W\\x12\\xdeBUc\\xb8\\x8ee\\xdc\\xd9\\x8eq\\x96oL\\x1a\\xe3\\xb5\\xddRK\\x7f\\xb3\\xe2\\x17\\x92h\\xfe\\xec\\x8f\\xceI\\x1e\\xa7?\\xc8\\x1a\\x9d<P\\xf6\\xf1\\xacr\\x84\\x9av\\'tn\\xbfs\\x8eN{\\x0e\\xbc\\x9e}\\x87Z\\xe7\\x9d&\\xdd\\xd1\\xacjt.Kj\\xb3\\xba\\xcal%\\xb5\\x98\\x93\\xb9\\xad\\xdb+\\xf8\\xfa\\xe6\\xb9\\x7f\\x10\\xe8pM?\\x9f\\x07\\x99\\x1c\\xa0c\\xe6\\x04\\x1f\\xa5vvWv\\xd3\\xa2\\xcb\\x0eP\\x9e\\x06\\xc7\\xf9q\\xeb\\x8fJ\\x86\\xfaX\\x0f\\xdfr{\\xfc\\xc7\\x9f\\xca\\xa6:=\\x02N\\xe7\\x96\\xcf%\\xdd\\x9a\\xb2\\xc8\\xf2\\xc6\\xa9\\xce\\xe5c\\x83I\\xa6\\xc3&\\xa3\"\\x10\\xe4\\xab\\x1f\\x99\\x98\\xf6\\xf4\\x15\\xb1\\xe2\\x8b\\xabE\\x86E\\x0f\\xbaf\\x04\\x05\\x07\\xf9\\xd6G\\x87u\\x18\\xac6\\xad\\xc8\\xe0t q]\\t\\xb7\\x1b\\x98\\xe9s\\xd0\\xb4k\\x14\\xb0\\x80}\\x9e\\x04\\x07\\xb9|\\x91\\xfaV\\xa4\\xabs\\'\\xc9-\\xea[\\xc4>\\xeaB6\\x9c\\x7f:\\xcf\\xd1\\xb5\\xdbi\\x10yL\\x1f\\xd7\\x91V\\xeeuX\\xe1\\x8d\\xa4\\x8d\\xa3W\\x1c\\x86\\xd9\\x93\\xd7\\xeb\\\\\\xd2\\x8boSx\\xca\\xc6\\xae\\x90\\xb0\\xd8Dd\\x89%y\\xcf\\xca\\x1aF\\xf9\\xe4\\xff\\x00w\\xfc:\\xd6U\\xcf\\x88\\x19.\\x99\\x19\\xc36\\xec,rn\\r\\x9fL\\xe7\\xf9\\x8cU(&\\xbb\\xbcV\\xb9\\x92s\\x926\\xb0`0\\xad\\xd4g\\xd8\\xfd;\\xfeP\\\\]\\x0b\\x99Dw\\xc1\\x04\\xc8F\\xd92F\\x0f\\xfb\\xdf\\xe7\\xfaV\\xb0\\x8f*3\\x94\\xb9\\x8dRE\\xd3\\x83%\\xba\\x9c\\xe4\\x95\\x1f+\\x8e\\xe0\\xff\\x00\\xb5\\xf8\\x11\\xf8V\\xe6\\x98\\xcb\\xf6b\\x8b7\\xcf\\xd3\\x95\\xf9G\\xe1\\x93Yv\\x90\\x15\\x89X\\x0f\\xb872\\x9e\\n\\xf7\\xdc=?\\x0e?\\xa5\\xe0\\x9f0db\\x1b\\x83\\xbb\\xa6\\xef\\xfe\\xbf\\xf3\\xab\\x02\\xdd\\xbcP^B\\'\\xb5\\x9e7\\x88\\xf7\\x198#\\xa8>\\x95^\\xf2\\xdd\\xc2\\xfc\\x98$~\\xa2\\xb2\\xbe\\xccl\\xaf<\\xeb7\\xf2\\x95\\xc6\\xe1\\x81\\x8eI\\xe7\\xd8\\xf7\\xad\\x88.\\xe4x\\x82\\xc9\\x1a\\xb3ve8\\xe6\\x8b\\xdcv+\\xc7+*\\x84s\\x83\\xc1]\\xc3\\xa5W\\xba\\x91\\x8c\\x83\\x00\\xab\\x13\\xd4\\x1au\\xd2\\xcd\\xe6oq\\xb4\\x8e\\x07q\\xf5\\xab\\xba\\x15\\x9b\\xdc\\xcd\\xe6\\xcc\\xc7\\xcbN\\xa4\\x103B\\xde\\xe3{\\x1d-\\xad\\xfd\\xb5\\x9c\\x11}\\xac\\x87\\x9bh;\\x19\\xba{b\\xaeAycs\\xb4\\xc9\\x10\\x8c\\xee\\xc8#\\xa8\\xac\\xc4\\xb5\\xb2\\xb7\\x91\\xa7h\\xdeIO;\\x9c\\xe6\\xa4IQ\\xd4\\x08\\xe3T9\\xef\\xde\\xb0\\x9dK\\xb3X\\xd3\\xb1kY\\xd3\\xd2\\xea\\xdff\\xe5*y\\xf7\\xe7\\xfc\\x9a\\xe7\\xf4\\xdd\\x1a[&\\xf3\\x11\\x9b\\xa9\\xca\\x9e\\xbfO\\xf3\\xe9[\\x97\\x8fq\\xf6w\\xf2\\x82\\x8cc\\x00u\\xcfJ\\xcd\\xb3\\xd5\\xe7\\xda^\\xe2\\x022w.G\\xbf\\x7fl\\xd4\\xbb2\\x92h\\xd2m\\xb2B_\\xca\\xf9\\xa3\\xf9\\x87\\xfbC\\xbdW\\x83Q\\xb6\\xba\\x84,\\xa9\\xb5U\\xf1\\x86\\x1cg\\xb1\\xcdEm\\xaa\\xdb\\xbc\\xbf+\\xb2\\x9e\\xea\\xc3\\xf3\\xa6^i\\xa8\\xcc\\xed\\t\\xfd\\xd4\\xa3\\xe6\\x00\\xf4=\\x8f\\xd2\\xa6\\xfdP\\xd244\\xcbe\\x8e\\xff\\x00\\xca\\x93k!\\x04\\xa1\\xf5\\x04\\xf4\\xae;\\xe2&\\x964\\xeb\\x91;\\x10`\\'*\\xa0V\\xcbKuoa\\x12\\xc8\\x1c\\xb4M\\x80\\xeb\\xd4\\x7f\\xf5\\xa8\\xd6\\x7f\\xe2}\\xa1\\xc9\\x0c\\xa3u\\xc4|\\x82{\\x8a\\xd7N[\\x99\\xbb\\xde\\xc7\\x15\\xa0\\x83t\\xfb\\x83\\x80\\xa7\\x80+\\xad\\xb4\\x8ep\\x17.B\\xa9\\xed\\\\\\xce\\x8fg,\\x19E\\x1bv\\xe7\\xadj\\xa2^\\xc9u\\x19[\\x8cD\\xdfyh@\\xc9\\xf57\\xbd\\xf3\\xf3\\x1bn\\x07\\xae;\\xd5-f\\xf6\\xf2\\xd6(\\xd8goL\\xd5\\x8dP\\xc9\\x12\\x05\\x86L\\x1e\\xf5K\\xed\\x13\\xbd\\xb1[\\xc1\\xbd\\x079\\xf6\\xf5\\xa9(\\xc6\\xbe\\xd6g\\x89\\xd0H\\x0e\\x18p\\xd5\\x16\\xa5\\xa8\\xca\\xf0\\xa1RG\\xcb\\xf9\\xd5\\xadF8&+\\x03c\\x9eP\\xd5mJ\\xc8\\x9b%\\xf2\\x86v\\x8cf\\x9d\\x84G\\xa4J\\xd72\\xa3+\\x15e\\xed[\\x1a\\xd4\\xa8\\xf2\\xacx\\xf9\\xc0\\x19\\xac]\"\\x17\\xb2\\xdf#\\xfd\\xefCZ\\x97\\xb2\\t%\\x89\\x98\\r\\xe7\\xad\\x08f\\xee\\x8a\\xbb`\\xcf\\xb5i\\x12j\\x86\\x95\\xc4?Z\\xbak\\x82\\xa3\\xf7\\x99\\xe5M\\xfb\\xccBi\\xa4\\xf3Jz\\xd3\\x1a\\xa5\\x12\\x80\\xf0)\\xb9\\xa0\\xd3I4\\xc6?4\\xd2\\xd4\\x94\\xd2h\\x10\\xed\\xd94g\\x9a`\\xf7\\xa5\\xa0\\xa4?>\\x95{A?\\xf1<\\xd3\\xbf\\xeb\\xe6?\\xfd\\x08Vx8\\xab\\xda\\x07\\xfc\\x87t\\xef\\xfa\\xf9\\x8f\\xff\\x00B\\x15Q\\xdd\\x0c\\xaa\\x058\\ndm\\xb8\\x91\\xe8i\\xf4\\x98\\x05\"\\x9c\\xb9\\xf6\\xe2\\x90\\xb0\\x1cdg\\xd2\\x99jI\\x841\\xea\\xd9o\\xce\\xa6\\xc2\\'\\xedE7vx\\xa5\\x06\\xa5\\xa0aN\\xa6\\xe7\\x9aZD\\x8f\\x14\\xa0\\xe6\\x9a)\\xe3\\xa6h*\\xe2\\xd1E-1\\x80\\xa5\\xa4\\x14\\xea\\xa0\\x01I\"\\xe5\\x0e)\\xe0P\\xc3*j\\x96\\xe0Gn\\xc1\\x86pF\\xde)\\xa87\\xc8\\xcd\\x9a\\x95\"\"=\\xbc\\x8c\\xf2iV0\\x8b\\x81U&\\x0c>\\x94\\xa2\\x90\\xf0h\\xa8\\x10\\xb9\\xa34\\x9d))\\x08z\\xf1A<\\xd3I\\xe2\\x8c\\xd2b\\x0cP\\x0f<PM% \\x14S\\xc52\\x96\\x80\\x1e)sL\\xcd(9\\xa4!\\xd9\\xe2\\x82i\\xb9\\xa0\\x9e)\\x8e\\xe2\\xd3M\\x19\\xa34\\xd0\\x1a\\x1a\\x1d\\xaf\\xda\\xef\\xe3\\x8b\\xd7\\x93\\xc7A\\xeb]}\\xd5\\xf2\\x96[X\\x18ax\\xf6\\xc0\\xaek\\xc3r\\x04\\x92|\\x1c1C\\x83P\\xe9\\xb7,\\xf3\\xcd\\xc0\\x0eU\\xb9\\xef\\x9fJ\\xeb\\xa4\\xbd\\xd3\\xbb\\n\\xd2M\\x9b\\xb7:\\xd7\\x97&\\xc4;\\x98p\\x00\\x19\\xfc\\x7fCYZ\\x9e\\xa2\\xb76\\xee\\xbb\\xb1\\xb9\\xf0p0k\\x94\\x93P\\x96;\\xd9\\x13\\x9d\\xce~f>\\x83\\x8f\\xf3\\xf8\\xd2j\\xda\\x8a\\xdb\\xca\\x1b\\xcc\\t\\x16\\xdf\\x94\\x7fy\\x8e?\\xa1\\xad\\x12\\xb9\\xd3\\xcdcR\\xcev\\x8e8\\x8a\\xe1x\\x08@\\xf795\\x9d\\xe3k\\xe7\\x8a\\xc1e\\\\\\x15\\x8e@\\xc9\\x91\\xd7\\xd8\\xff\\x00\\x9e\\x95\\x9b\\x1d\\xf9\\x82\\xe8\\xa4\\x8c~V\\xe1{\\x0e\\xa2\\xae\\xeav\\xa2\\xfbNh\\xb9\\xc0;\\x94z\\x9d\\xbc\\x7f!UM+\\xeaL\\xd9r[T\\x8d\\xc8_\\x99\\x0f\\xce\\x1b<u\\xe2\\x96MZ\\xd2\\xd5\\xf64\\xaa:\\xb0\\x03\\xaf\\x15V\\xf2\\xeeI<?\\x13B\\xbbX 8\\xcfR\\x18\\xe4\\x7fJ\\xe1\\xbc3\\xad\\xd9^kw\\x16z\\xca\\x94\\xf3\\x18\\x88\\xd8\\xfa\\x1e0\\r8R\\xe6z\\x94\\xe6z\\xa6\\x9d\\xae\\xac\\xe1V)\\x17\\x07\\xe5\\xce\\xee\\xfe\\xf5\\xc8jV!<C<\\xa65\\r#g\\xe5\\x18\\xcf\\xbdfx\\xb8M\\xe1\\xb1\\x1c\\xbaT\\xab4r\\x9f\\x99O<v?Z\\x8f\\xc2\\x9a\\x85\\xc6\\xa8\\xe9%\\xc3\\x97\\xe7\\x93]0\\x87.\\x86\\x13z\\x9d\\xac\\x11l\\x840Rq\\xd0\\x0e\\xf5Qa\\x9e\\xee\\xe8\\xc82\\xbbN\\x00=?\\xcf\\xbdi\\x8d\\xbb\\x14#m u\\x1cS-]\\x1efH\\xf7\\x1erN:\\xf1D\\x85\\x11\\x96\\xdaD\\xc90\\x9a\\xeal\\xfc\\xa7\\x01[\\x00\\x1c\\xfa}(\\x10\\xc5\\r\\xda\\xfc\\x84C\\x82\\x19\\x8b\\x1cn=*\\xca\\xce\\xa2_-\\x0eX\\xf2wv\\xa2\\xeeD\\xff\\x00R\\xe9\\xb8\\xb7S\\x9e3R1\\xb3E\\x129\\x08\\x11x\\xe3\\x1c\\x9f\\xadg\\xeb:\\xb5\\xb6\\x99`eA\\xe6\\xdc\\xf0\\xab\\x1a\\r\\xcc~\\x82\\xa1\\xd6\\xaeV+B\\x86a\\x01\\xdb\\xb5v\\x9f\\xeb\\xdb\\xebT4\\x8d\\x12\\xcaM\\xaeF\\xf6e\\xe5\\xc9\\xda\\x0f\\xd3\\xeb\\xedN\\xf6\\xd1\\t\\xeal\\xe9W7Wv\\xad-\\xc4^J9\\xca!\\xfb\\xc0z\\x9f\\xadAyj\\x87\\x05\\xf7z\\x8d\\xa35\\xa1\\x0f\\xfa\\xa4H\\xfa\\x91\\xd4\\xff\\x00\\x85Cu\\xb9\\xd3d`\\x02\\xa39\\xf5\\xab\\x11\\xcf\\xdc\\xe9\\xf0\\xcb\\x032\\xa3\\t\\xba+8\\xfb\\xbe\\xf8\\xaej\\xdf\\xc3\\x89j$\\xf3\\xe5\\x8aO5\\xb9c\\x90\\x1b\\xbf9\\xed\\x9c~G\\xd6\\xbbY\\xc3u#\\x0cA\\xe9X\\x1a\\xa43\\xac\\x80\\x88\\xf7 ^\\xa0\\xf1\\xde\\x90\\x8a\\x91xy\\x90\\x8f\\xb1\\\\3\\xe4\\x92p\\xdc\\x16\\xef\\xd6\\x96o\\t\\xcf1\\xddwq!V mRI\\xa4\\x86\\xea\\xea\\xd2O6 \\x07L\\xf1\\xb8\\x01\\xfe{V\\x8e\\x9d\\xe2pw\\x19\\x8f\\x97\"ug\\xfb\\xab\\xf4=\\xcdO*{\\n\\xec\\xe6n|\"-\\xa4\\x99LK!B0H\\xea\\x0ejx|)\\x04\\xa0!\\x82#+.\\xd1\\xc7\\x19\\x1dk\\xa7mV\\xc6\\xe6\\xe6a\\n\\xc6\\xc1\\xc8\\x05\\xd8\\xf2O4\\xf8\\xb5\\x08U\\xcc\\xa8\\xca\\xd8\\xc9\\xc6y\\x07#\\xfa\\xd1\\xaa\\x0b\\x98I\\xe0+p\\x8b\\'\\x94c$\\x02v\\xb1\\x1c\\xd6\\x8c\\x1e\\x16\\xb6\\x8e\\xd1\\x83\\xee\\xda\\x83\\'{n\\xadI|Cj\"\\xd9\\x16\\x19\\x0eO\\xa9\\x07\\xb8\\xaaSjS^\\xa9\\x8dp\\xa7\\x19#8\\xdc)[\\xb8\\\\\\xabo\\x04a\\x1d`\\x00\\x806\\xaa\\xb7\\x7f@}\\x7f\\xcf\\xadf\\xcb\\xa5be1 \\x11\\x9e}\\xf1VZ\\x17{\\x07\\x07rLOP}:~4\\xe8/\\x9d\\xa4u\\xb8##?{\\xbd\\x05\\x16\\xed\\x19\\xad\\xa1TRN\\xc2v\\x909^\\x7f_\\xa5j\\t\\xc4\\x8b\\t?\\xbag8\\x03\\xd1\\xba\\xe2\\xb2\\xa7O\\xf5l\\x8d\\xb9\\x1f\\x03v\\x0f\\x03\\xd6\\xae\\xdaF&\\x11\\x89p$\\x88\\x92\\xb9\\xe3\\x9e\\x94\\x0e\\xe5\\x8f\\x9a\\x07d\\x9a\\x12\\xf03g\\xe9\\x9a\\x92m\\xb10\\xc1e_LS\\xdd\\xc1\\x8c,\\x81\\xb6\\x8e\\x8e\\x0er*7\\x93lL\\xa5F\\xde\\xcf\\xd74\\x0e\\xe47\\x93<V\\xc4\\xaf\\xef\\x07n\\xf8\\xfa\\xd6\\xe6\\x9bs\\x0e\\x99\\xa7[$\\x99\\x96\\xe2^p8\\xdb\\xeeMr\\x1a\\x9d\\xec\\x91@v\\xf49\\xcf\\xa0\\xe6\\xb3\\x1b\\xc4\\xcb\\xf6I\\\\\\x9c\\xce\\xa3j.0I\\xff\\x00\\n\\x1a\\xd3@\\xe6\\xd4\\xf4;\\x9b\\xf8nf$(\\x05G\\r\\x9e=\\xea9<\\xd60\\xbd\\xb9\\xf9Ka\\x81\\xeb\\x83\\\\7\\x86\\xee\\xaeu\\t\\xc7\\x9cK\\x01\\xd7\\x1fw>\\x9e\\xf5\\xd8Z\\xc8!p\\xc5\\x8a\\x85\\xc9\\t\\xfd\\xfe\\xbf\\xd4\\x8a\\xe5\\x94u:!=.X\\xd6\\xac\\xef%\\x84I\\xa7\\xcab\\xbdE\\x18\\xdcx`;b\\xafi\\xd7\\x8d=\\x88\\x1a\\x82\\x88\\xccgc\\xbfP\\xdcps\\xf8TZ\\xbc\\xf3\\xff\\x00gK,\\x0b\\x99\\x9b\\xa6\\xdej?\\x0e\\xcd$\\x96\\x06+\\xf86\\x97Q\\xc1\\xe9\\xcfzW\\xe8]\\xb5\\xb9%\\xc6\\x9b\\x02fu\\xdb\\x8c\\xf3\\xc7_C\\xff\\x00\\xd7\\xa8\\xec\\xaf\"h\\x9a(e%\\xd3\\x8d\\x9f\\xde\\xadH\\xb4\\xff\\x00\\xb2\\xf3n\\xee#<\\x14c\\x91Uo|6\\x97\\x13$\\xb1~\\xe9\\xf3\\x9f\\x97\\x954X\\nV\\x9a\\xd5\\x95\\xd1\\x9e\\xd5\\xe1t\\x9d\\x01\\xf9=}\\xaa\\x95\\xa5\\xfc\"\\xe04\\x0e6\\x93\\x82+\\xa6\\x83O@W\\xed\\x10\\xa3\\\\(\\xc2\\xcc:\\x9fc^O\\xa9\\xd8\\xcf\\x0e\\xbb*\\xc3!\\x8c$\\xdb\\x8cD\\xf2\\x07\\xf8V\\xb0\\xd54c=\\x1a;-j\\xd6$\\xff\\x00I\\x8fv\\x1b\\x93\\xb7\\xb1\\xaa6\\x84H\\x85\\xe1\\x97z\\xf3\\x9c\\x1e\\x86\\xb5-\\x9f\\xcc\\xb3\\xdb+nF\\x1dz\\x8a\\xcb\\x82\\xd8[]\\xba\\xc7\\x81\\x93\\xc7\\xa5f\\xa5\\xd1\\x97\\xcb\\xd5\\x11H\\x92\\xf9B^\\x1f\\x07\\xb5#\\xdf\\xdb\\xb5\\xae1\\x83\\xc8 \\xf6\\xab\\x97\\x11;\\x17\\x96\\xd3\\xe5\\x94\\x0c<\\'\\xa1>\\xb5\\xc9\\xeap4\\x93\\x19b\\xca\\x92p\\xe8}j\\xc9\\xb9G\\xc4!\\xe3\\x9e+\\x9bc\\x98\\xd7\\xa8\\xf4\\xab\\xfa\\x1d\\xe1\\xba\\xd3[q\\xce\\x0fJ\\xa9o\\xba\\x19\\x1e\\x0b\\x85\\xccr\\x8e\\t\\xeci\\x96\\x1bl.\\x1a#\\xc2;U5\\xa1%\\xedU\\xccl\\x8e\\xbd\\x0f\\x04\\n\\xaa\\x97Mup\\x9b{U\\x8dF2\\xd01\\x07\\xa75[F\\x80%\\xd7<\\xe6\\x8d\\x90\\\\\\xed4\\xb2|\\xa0\\x0f\\xa5\\\\c\\xe9PZF\\x11F*f\\xaf2\\xa3\\xbc\\x8f2N\\xecL\\xd2Pz\\xd2\\x13I\\t\\x08\\xc6\\x99\\x9aSM5`.i\\xa6\\x8a)\\x00R\\x8aCK@\\n*\\xfe\\x85\\xff\\x00!\\xdd;\\xfe\\xbec\\xff\\x00\\xd0\\x85g\\x83W\\xf4\\x12?\\xb7t\\xef\\xfa\\xf9\\x8f\\xff\\x00B\\x14\\xe3\\xf1\"\\x933c\\x90\\t#\\x0c~f\\x1bO\\x1d\\x08\\xe9\\xfdj\\xce\\xf5\\xc9\\x19\\xe4u\\xac\\xbb\\xc6*\\xae\\xca>uQ \\xfc?\\xfdF\\xa7\\xb8\\x9c\\x1bv\\x922\\te\\x03\\x8f_\\xf2h\\x90\\x93\\x13{M\\x1c\\xf2\\x0e\\xff\\x00\"\\x7f*\\xbc\\xa3\\n\\x00\\xed\\xc5U\\x11\\xf9P\\xc3\\x18\\xfe\\xf0\\xcf\\xd7\\xadYS\\xc5.\\x83@}E;\\xb8#\\xa50\\x92\\x07\\x14\\xd58\\x93\\x19\\xe0\\x8ai\\x08\\x9b4\\xe5\\xe4\\xe2\\x98\\x06{\\x8a~\\xd2\\x0fL\\x8fj\\x96\\x80p\\xc8<\\xd3\\x81\\xe2\\x9b\\xbc\\x1e\\x1b<\\x0e\\xb41\\xda\\xa4\\x9e\\xc2\\x93@(;\\x9b\\xe9\\xd6\\xa4\\xa8a\\x18L\\x9e\\xa7\\x9a\\x94t\\xa44\\xc7/ZwCM\\x1f\\xad.y\\xabC\\x1c\\x0eG\\x14\\xecqQ\\xc60J\\xe79\\xe4T\\x92pv\\xd5X\\x06\\x19N\\xee\\x0f\\x00t\\xa5\\r\\x9ej0\\x0e\\xe64\\x91\\xbf\\x04z\\x1cR&\\xe4\\xc4\\xd2SI\\xe6\\x8c\\xd2\\x01\\xd4\\x94\\x99\\xe6\\x82qH\\x18\\xad\\xc0\\xa1H\\xc55\\xcf\\xc8M$@\\xed\\x19\\xeahd\\x8f\\xa2\\x8aJ\\x90\\x17\\xbd\\x19\\xa4\\xa4\\'\\x14\\x80~h\\xcdG\\x9a\\\\\\xf3H\\t3C6\\xd5\\'\\x19\\x02\\x9a\\r)\\xe6\\x98\\x0e\\xcf\\xa5\\x03\\x91Q@~R\\xa7\\xaa\\x1d\\xbf\\xe7\\xf0\\xa7\\x86\\xdb&\\xd2>\\xf7\"\\x98\\x16\\xad%h&W\\x1dA\\xa7\\xc2\\xc6\\x1dvc\\xd24\\xe4\\xf1\\xea\\x01\\xfe\\xb5\\x0c*]\\xbe\\x95\\x05\\xed\\xdcQXOp\\xd2a\\x8c\\xa5\\x0bg\\xb08\\x1f\\xca\\xba\\xb0\\xf7\\xdf\\xa1\\xd3B\\xf7\\xb1\\x8d\\xaf\\r\\xb2\\x1b\\x84\\xe8\\xe4\\x81\\xe81\\xd7\\xf5\\x15N\\xf65\\xd64`\\x17lw\\x11\\x90\\xe9\\x8f\\xbaH\\x1c\\x7f*\\xbe\\x93\\xc3\\xaa\\xe9)\\x1cm\\xf3\\xc6\\xe5p:\\xe35\\x06\\x9cm\\xe3\\x8d\\xadeq\\xb8\\xe1@\\'\\xb6\\x7f\\xfa\\xf5\\xd0\\xf4\\x95\\xce\\xaf\\x89\\x19\\x91L\\xf7\\x1e[\\xc8\\x9be\\xc6\\xc7\\\\r\\x08\\xc8\\xff\\x00\\xeb\\xd6\\xd4\\x92J\\xb6\\xc8@;\\xb7s\\x8e\\xd8\\xff\\x00\\xebVm\\xa4f\\xdfU\\x96\\xda\\xeb\\x05\\x08\\xfd\\xcc\\x9e\\xb8=\\rG\\xfd\\xb0Q\\xaemH\\x02X\\xc1`\\x0f|\\x1e\\x7fLS\\xe5\\xbb\\xd0\\x9e{-z\\x16\\xdai!\\xb6\\x9a\\x19\\x94\\xb2\\x93\\xb8\\x11\\xc9\\x15\\xcb\\xddiVwr\\xc8\\xee\\xc1\\\\\\x92\\xe3\\xd4\\x1a\\xd7m]\"\\x85d\\xbb\\x0b\\xe5H\\xdc\\x1f`?\\xc2\\xb9\\xdf\\x11k\\x16r#\\xa4\\r\\x89\\xf3\\xf7\\x97\\x8eGqZB.\\xe3rF\\x15\\xdc\\xba\\x8c\\x1a\\x92\\xc7\\x04\\xcf<d\\xe0+\\xb6\\xe1]\\x1e\\x8a\\xba\\x96\\x8fq\\x96\\x825W|\\xba\\x8f~\\xc2\\xa3\\xf0\\x85\\x91\\x9e\\xe1&\\xb8?1;\\xb0GJ\\xed.\\xa3Y\\xd1\\x89\\x00\\x11\\xea*\\xdb\\xb3H\\xca\\xfa\\xd8\\xd7K\\xb1 \\xdb\\x19\\x1f(\\xc36EOc4W%]Ah\\xd4c as\\xf8VM\\x89\\r\\x1e<\\xb4UR\\x03\\x9c\\x13\\xf8\\x0fZ\\xbc\\xd2\\x90\\xc5~\\xeck\\xc0\\x0b\\xe9M\\xb2\\xd2,^I\\xb2\\xe7u\\xbcq\\xc6\\x02\\xe0\\xd6=\\xee\\xb1om\\x9f\\xde\\xa3\\xca\\xa3\\x05T\\xe7\\x93\\xdc\\xf1\\xd6\\xafK:\\xb4L\\xb36Cq\\x90\\x7f\\x95eI\\xa7Cg\\xe5\\xba\\x16\\x93\\xcc\\x906\\xe90H\\xe3\\xa0\\x1f\\xe3Y\\xa7q-Q\\x9b\\xa7\\xe9wZ\\xbd\\xc4\\xb7\\x97\\xe1\\xe1\\xb3Q\\x80\\xa7\\xef7\\xbf\\xb7\\x7f\\xd2\\xba\\x9b\\x18\\x14A\\x10\\x81@\\x87\\x18R\\xdcp\\x07Z[\"\\xf2o\\xdd\\xbd#+\\xf7\\x1b\\x18?J\\xd3R]\\xa2\\t\\x8cg\\x03\\x03\\x8e\\x95i\\t\\xe8C\\x1d\\xa3\\xa23\\xcc\\xea\\xd2\\x13\\x91\\x80@\\x02\\xa2\\xb9\\xe1\\xd7h\\x19<T\\xf2\\xdc \\xdd\\x1b\\x12\\xd8$\\x11\\x8a\\x84\\x95\\x91\\x01^\\xdc\\x8cU\\xec\\x0c\\xae\\xc8\\xbea\\xcf@;\\xd5;\\xa8\\xfc\\xc5*\\xbc.\\x7f:\\xbd*\\xf3\\xb8\\x96\\x03\\xa0\\x00UYH\\xe7\\'>\\x94\\x01\\x8d5\\xa1bT\\x1e\\xfc\\x0fZ\\xcc\\xd4l\\xa3\\x96#\\x13\\xc6\\xc0\\x83\\x9c\\xa8\\xce+\\xa4\\x93\\xa6G\\x06\\xab3\\x13( r:\\x91\\xe9R\\xf4\\x19\\xc5C\\xa5\\x1f\\xb52|\\xc5\\x08\\xc9=;\\xf1WSH-\\x9f-\\x987b\\ru\\x12\\x00\\xbf0\\x8e0\\xe7\\xa9#\\x93B[F6\\xb9!K|\\xa0g\\x18\\xa5p\\xb1\\xcf\\x9d,\\xb2\\x02\\xb9\\x12\\x0ca\\x87\\xa8\\xf5\\xab\\xca\\x04\\x17\\x800<\\xb7n\\x95\\xae-v\\xc8\\xc3\\xe59\\x00\\xe74\\xfb\\xabT\\x96\\x18\\x9c\\xf5\\x07i\\xc7c\\x80s\\xef\\xd6\\x803\\xef\\xad\\x8c\\xd6\\xe3\\x19\\x0c\\x0e\\xf0=\\xf1P\\xe9\\xb13\\x07Y\\xe3FR8\\xc8\\xe4\\x1a\\xbc\\xc2X\\xe7\\x8b9e8\\x04\\x8cqW$*\\x1c:\\x8c\\xe1y\\x18\\xe0\\xd3\\x0b\\x19p\\xbc\\x91\\xc4cuUX\\xc0\\x18\\xcf\\x00}>\\x98\\xa5\\xb8+\\x0b\\x83\"\\xa0B8\\xf9\\xbe\\xediF\\xb6\\xf2\\xee\\xdc\\xb1\\xe4\\xe3\\xafZ\\xa1qhdWEU\\x03\\xfb\\xac\\xb9\\xe7\\xd8\\xd0\\x1b\\x12\\xdbj\\x0c\\xceb\\n\\x1c1\\xc6\\x0es\\xd2\\xae\\xdb\\xcb!r\\x92\\r\\xc8\\xc3\\n\\t\\xe7\\x15\\xcbI(\\x86H\\xc5\\xec\\xabl\\xf9*\\x8e\\x0f\\xb5l\\xdbN\\xc8\\xa8wF\\xf2u\\'\\xa6E\\x03!\\xf1\\x05\\x92\\xc5o$\\x87\\x9c\\xf3\\x83\\\\m\\x96\\x9f\\r\\xc0\\x99\\xe5\\x91Q\\xd9\\xb1\\xc9\\xe7\\x15\\xdck\\x17\\x0c\\xe9\\xe50\\xf9\\x19z\\x0eH\\xaf2\\xd4 \\x96\\xd6\\xe5\\xa4V\\'\\xe6\\xe4\\x9a\\x04v\\x16\\xfa\\x8c\\x1ae\\xa3Z\\xe9\\xab\\xe7^\\xb9 0\\xce\\x14\\xf1\\xc95\\xad\\xa6\\xc3q\"%\\xba\\xdc\\xb1\\x9d\\xbey$\\x1c\\xed\\xe7\\xa0\\xacO\\x0c\\xd9G/\\x97.\\xd0\\x01\\x1d\\xbdk\\xb1\\xb4\\x8a+Eg\\xda\\x0b\\xe7\\x00{\\xd6\\x13\\xd3Dm\\x1e\\xe7C\\xa5\\xa8\\x8e\\x1f,\\x1c\\xb0\\x18\\xdcO4\\xe7\\x8eX.\\xd7\\xcaRA\\'\\x83\\xfc_J\\xc8\\x17c\\xcav\\x87\\xfd`\\xc9\\x0b\\x8e\\x0e?\\xfdusL\\xd4\\x1a\\xe6\\xe8\\xc1p\\xa0\\xed9\\x8d\\xbdk\\'\\xa6\\x86\\xe9\\xdc\\xd6\\x172C\\x10d\\xc18\\xc9\\x07\\x9cU\\x9bk\\xd0\\xdbJ\\x00\\x03s\\xb7\\xa8\\xa8eB\\x88\\x19\\xc1\\xf3:d\\x8a\\x8a\\x16\\x8b\\xcb\\x0c\\x80*\\xee \\xf28\\xfc)\\xa14m4I)W\\x0b\\x86S\\x9e+\\x82\\xf1\\xb6\\x9bm.\\xab\\x1d\\xca\\xaa\\t\\x88\\xc1\\xdcq]\\x98w\\x89\\x95\\xe3`C\\x00\\x08>\\x9d\\xb1Y~)\\xd3\\xa3\\xba\\xd3\\r\\xc2\\xc6$t\\xe4\\xf2A\\xc7\\xff\\x00Z\\xae/S9-\\x0e\\x16\\xca\\xe5\\xad%\\x92\\x0b\\x83\\xb5P\\x8c\\xaa\\xe4\\x8f\\xad[`\\xef!*\\xc0\\xa9\\xed\\xfe\\x06\\xa9]H`_0\\xae\\xe2\\x17\\x82\\xad\\xd7\\xd8\\xd4v:\\x94Wp\\xabZ)i\\x15\\xbex\\xc7U\\xab\\x94\\x13&2\\xb1\\\\\\xdf\\xcf\\x1e\\xa1\\xb9\\xb3\\xbd8\\xc8\\xee)\\xd7\\x17V\\xd3\\xc9\\xb8\\x90\\xad\\'\\x04\\x8fZ\\xd7]:;\\xa0\\xf3p$#5\\x85\\xaah\\xe5%\\xdcAP\\xc7#\\x1e\\xb4\\xac2k\\x9b\\x15\\x9e\\xc2@\\xd8\\x12\\'\\xcc\\rs\\x9a\\xa0\\xc8\\x8cg\\x0c\\x08\\xad\\xfd6i\\r\\x9d\\xc43\\x93\\xe6\\xc20\\x1b\\xd4W=|E\\xc3\\x93\\x90\\x0ez\\x8aqD\\xc9\\x92\\xdf\\xdd\\x1c\\xec\\xcf\\x00\\x01W\\xf4l\\x17O~\\x95\\x89#\\x06m\\xa7\\xa8\\xe3uu:\\x15\\xa8\\xda\\xac:\\xe3\\xa5MGdD\\xa5h\\xb6t\\x90\\x0c \\xe6\\x9c\\xd4G\\xc2\\x8aBs\\x9a\\xf2\\xde\\xe7\\x9e6\\x92\\x94\\xd2U$\\x02\\x1ai\\x14\\xe3\\xd2\\x90U\\x00\\x87\\xf4\\xa4\\xa7\\x1aJ\\x00J;QE \\x10\\xd5\\xfd\\x07\\xfeC\\xbaw\\xfd|\\xc7\\xff\\x00\\xa1\\n\\xa1W\\xb4\\x0f\\xf9\\x0e\\xe9\\xdf\\xf5\\xf3\\x1f\\xfe\\x84)\\xc7t31\\x91ZD\\xdf\\xd0\\xa9^?/\\xebPZ\\xaa\\xee\\x86\\x16nA.W\\xd4\\x0cc\\xf5\\xa9\\xaeN\\xd3\\xb8\\xf4Y3\\xf8\\x11\\xfe5_M\\x06]R\\xe2c\\xf7\\x00\\xd8\\x99\\xee3T\\xb6\\x15\\xb54\\x18\\x92\\xe9\\xb8t\\'\\xf9R\\x87\\xe3\\xe8y\\x14\\xc9@F\\xde\\xbcc$\\x8e\\xbcqLI78a\\xc6x\"\\xa5\\x8c\\x9b9\\xcdDz\\x9d\\xbc\\x8c\\x0e?\\xc2\\x9c\\x18/\\x1dy\\xa6\\xa7\\xfa\\xd2\\x08 c\\x14!\\x13\\xc6\\xc1\\x97\\xaf4\\xf4s\\xba\\xaa\\xb7\\xee_\\x19\\xc0?0\\xfe\\xb4\\xab;4\\xf2#t@\\x08\\xf7\\x06\\x982\\xd38,\\x0b\\x0c\\x8e\\x99\\xa7I\\xca\\x849*\\xc7\\x1fJ\\x84\\x0c\\xa1\\x1d\\xff\\x00\\xad\"\\xb9ib\\x1d0\\t4\\x98\\x16\\xf0@\\xa7v\\xa6\\x86\\x0c1\\xd0\\xf6>\\xf4\\xab\\xc7ZV\\xb6\\xa5&=O\\x14\\xa4dsMN\\x94\\xe3\\xd34!\\xa1\\xa02\\xca\\x92g(\\xbdi\\xc1\\xd6I\\x18\\xa9\\xc8\\xa9T\\x03j\\xe1\\x87-T\\x108;\\xe3\\xfb\\xc0\\xed#\\xd6\\xb4{\\x08\\xb8j\\xbc\\xa4G bp\\xad\\xc1\\xfa\\xd4\\xdb\\xc3\\x8c\\x8e\\xa0r=)\\x93F$\\x8c\\xa9\\xefQ\\xb85q\\x01\\x1b\\x97\\'\\xaf\\x14\\xe3\\xc05\\x9d\\x04\\xe4\\xc6Q\\xcf\\xefal7\\xf8\\xd6\\x96r\\xb8\\xa0\\x942&,\\x0eE,\\xacB\\x1e\\xc6\\xab\\x06)\\xbf\\x9c\\xf3Og.\\xa3>\\x94\\xda\\xd4\\xb0wc\\x10\\x03\\xbdO\\x1f\\xdc_\\xa5V_\\xf5L\\xc7\\xe8*X\\\\\\xf9C\\x1dG\\x18\\xa5k\\xa2:\\x93\\x06\\xcfJL\\xe0\\xd4\\x11\\xc8w\\x101\\xce\\r:WPA\\'\\x81\\xd6\\xa6\\xc0JN\\x08\\x1d\\xe9\\xa79\\xa6\\xb8&-\\xd8\\xf9\\x8f#\\xda\\x91\\\\H\\x8a\\xcb\\xc6\\x7fJV\\x01\\xe7\\xd6\\x8c\\xe6\\x86\\xc18\\xc7AE&\\xb5\\x10f\\x9e:dS\\r*\\x92\\r\\x16\\x01\\xa0\\xec\\xbb\\xc68\\x913\\x9fq\\xff\\x00\\xeb\\xfd*I\\x91\\x992\\x9f}NW\\xdf\\xda\\xa9\\xea3y>\\\\\\xbd6\\xb8\\'\\xe9\\x9c\\x1f\\xe6*\\xd5\\xc4\\xc2\\x08L\\x8c~\\\\\\x1e\\x95Q\\x873I\\r+\\xbb\\x04\\xb7\\xe9ml\\xf2\\x01\\xc9;T\\x9fz\\xc2-\\x1c\\xf6\\x12\\xc3p\\xce\\xcb#g\\x07\\xb1\\xf5\\x15$\\xc5\\xe7\\x8fz\\xb1X\\x95<\\xcf\\x9b\\xae+\\x1a\\xf2ydt\\x82\\xd9[q\\x1c\\xb0\\xed^\\x94\"\\x95\\xa2\\x8e\\xaazhO\\xa5\\xda\\xc7\\xa6K\\xe7\\xc6\\xec\\xec\\xbc`\\xf7\\xac]rY\\xadn\\xcd\\xd2\\xc8\\x0cE\\xb3\\x80y\\xfaWK5\\xaa\\xdai\\xab\\xbd\\x8f\\x9aT\\x96$\\xf4\\xae\\x19\\xd2I\\xcd\\xc3\\xcd\\x9cn\\xf9I\\xec\\x05i\\xca\\x8d.\\xeeKs\\xe2\\xd5\\x90\\xc5\\x10\\x04\\x958,\\xdc\\x10I\\xce\\x7f\\x9dm\\xdb\\xcfo\\xaaj\\x11\\xc8p.#\\xcaH\\x07B\\x08\\xaeY48\\xf5IRxW\\xf7x\\xf9\\xf1\\xeb\\xe9]]\\x8e\\x9e\\xf6\\xd3\\xdb\\xdcD>d;[\\xdc{\\xd2\\x92\\xd2\\xe8\\xcawh\\xe75\\xb0\\xd6\\x9a,(\\x03N\\xe2wQ\\xb8\\x9e\\x14v\\xac\\xdd+L37\\x9fq\\x19H\\xc1\\xc8\\xdd]\\xe6\\xa5\\xa7$\\xe4F\\x07\\xca\\x18\\xb8\\xf7\\xcdU\\xbbH\\xadBDWq\\xc8^\\x9cc=\\xe8\\x84\\xae\\x82\\x97\\xbd\\x1b\\x96\\xf4{d\\x86\\x04v9\\xe7\\xf8GA\\xe8k\\xa2\\xb7\\xb37\\r\\x90\\x18\\x81\\xdb\\xb5Q\\xd1\\xed\\x16\\xe8<A\\x98E\\x19\\xde\\\\\\xf3\\xbb\\xda\\xba+[\\x88\\xedbeU8\\'\\x8c\\n\\x87\\xac\\x92\\x1f\\xda3\\x19<\\x87\\xdad\\x91\\xddF01\\x81\\x9e\\xbf\\xd2\\xabJ\\xdbd\\xe0\\xb8=I`\\x7f/J\\xbd=\\xfa$\\xb2\\x14\\x8c\\xee#\\xe5\\x18\\xe6\\xaa[\\x1f>Yd\\xb8s\\x92x\\xc0\\xed\\x8ar}\\n\\xe6{\\x19\\xd2_\\xcb#\\x95\\xf2\\xdeL\\xf4\\xc1\\x1f/\\xe0\\x7f\\x1a\\xd2\\xd3\\xd6i\\x96\\x06\\x97v7\\x83\\x8fQ\\xfa\\xd5!e\\xe7_f\\xd9\\xb6\\x08\\xdb\\xe4\\x1b@\\xc5oj\\xeb\\xe5]\\xf9h\\x011|\\xacO\\x1b\\x9b\\xb8\\'\\xeb\\xfc\\xa8\\x1a\\xecM,b\\xd4<\\xb2?\\xcd\\x9e}1\\xfd(\\xd3u\\x04\\x9eI[\\x9f-\\x13vpk+S{\\x8b\\xe5\\xb6t_\\xdc\\xb0\\xc3v\\xc9\\x19\\xcf\\xd7\\x9a\\xbdk\\x0f\\x91\\xa6\\xce\\x03(\\x91\\x8e\\xcd\\xddq\\x8fOZ\\xd6\\xfd\\x84\\xcb\\x88w\\xa6\\xf2\\x01s\\xc8\\x07\\xadE,\\xa9\\x08\\t\\xb4\\x06=}\\xaa\\xacS\\xcaq\\xbb\\x06f\\xce\\xd5\\xedUo\\xe0\\x96B\\xb2\\xc8\\n\\x859g\\x1d\\xbf\\xfa\\xd5W\\xd0kT\\x13\\\\6\\xe3\\xbd\\x9b\\xaf\\x7fJ\\x81n#\\x98\\x94@0\\xbd\\x94c\\x9a\\x9e\\xea\\xd9%\\x0b\\xf3\\x1c\\x80N@\\xcfoJ\\xc9\\x92\\xd8[\\x92\\xf0\\xc9!\\xdc\\xdbN\\xf5\\x00\\x8fq\\xeb\\xe9J\\xe3H\\xd1gB\\xa1T\\xed\\xf5\\x19\\xa5H\\xd9\\x8eT\\xe0\\x1e\\xf8\\xea*\\x8cr\\xef\\x97\\xca\\xdd\\xc2\\x80[ \\xe0\\xfa}*\\xc6\\xf0\\xe0\\xb5\\xbc\\x98P3\\xb7w\\xf2\\xa5q\\x97\\x00\\xdc\\tP\\xa5\\x87\\x00Uk%o\\xb4\\xbb\\xca\\xbb\\xd1\\x00\\x08\\xc7\\x92N9\\xcf\\xe8*\\xf5\\xbc\\x0c\\x88\\xcd\\xb8\\x95\\xeazes\\xe9R\\xcc\\xefg\\x02\\x98\\xc4R\\x02J\\xed<\\xb0\\xe2\\x80\\xe86\\x14\\x8eg\\xc2a9\\xe5@\\xa0\\xc1\\xbe9\\x82\\x93\\xb9\\\\q\\xd7\\x8cz~\\x15\\x15\\x84\\xec\\x138\\xfd\\x05>\\xe6B\\x9ek(\\xe5\\x99\\x7f\\xf6o\\xfe\\xb5E9]&f\\xba\\x10L\\x83*\\xa4\\xec#\\x8eW\\xa5O\\x12\\x11 \\x1c\\x13\\xdc\\x1a\\x87\\xed\\x1et!~Wu|\\x13\\x8c\\x9cps\\xf9\\xd4\\xd2D\\xee\\xbb\\x0cI\\x96\\x18\\x1b\\x89\\xe7\\xdb\\xf4\\xad\\r\\x04k8\\xd8\\xb3\\xc7\\x10\\'\\xb8\\x07\\x83DF9#*\\x13\\x0c\\x0e\\x00\\xc7jtBH\\x91\\xc3\\x82\\xc4\\x1e\\x178\\xcdGp\\xc2e/\\x1ayn\\x0e\\xd3\\xb3$\\xfdq\\xeb@\\xaeR\\xbb\\x82\\xde\\xe5|\\xb9#\\x07\\x03 \\xe2\\xa1\\xb5\\xb0\\x16\\xeaUI`O\\xden\\xa3\\xff\\x00\\xadVdE\\xba\\xb7.O\\x18\\xeb\\x8c\\x1f\\xc6\\xa9\\r\\xcc\\x866\\x91\\xc9\\x1f\\x81\\x1e\\xf4\\x0c\\x96[`GR\\xcb\\xdb\\x9e\\xbfZ\\xe6|Ea\\xe5F\\xec\\xbf2\\x9e\\xf8\\xae\\xa4\\xc6p\\x167<\\xf5\\x03\\xa5T\\x92 \\xf1:HWfx\\xe7\\xad\\x00\\xcc\\xef\\x08\\x00,r\\xccK\\x02@\\x19\\xe8+{\\xcby\\x14s\\x81\\x9e\\x07j\\xe7\\xb4W\\x8a\\xd6\\xf1\\xac\\xe4\\x03\\x0c\\xd9^k\\xad\\xdc\\x91\\'\\x1f}\\x86O\\xb5eQ2\\xe0\\xcc\\xf9\\xe3\\xb8X\\xf7/@O#\\xfc\\xfb\\x9a\\xbb\\xa6#\\tU\\x9d\\xb3\"\\xe0\\x01\\xee8\\xaa\\x97\\x17kn\\xeade*\\xc4\\x00\\t\\xc7\\x19\\xabzT\\xa9+\\xa8R\\x02q\\xcf\\xe7X4o\\x19#\\xb8\\xb5\\xbc\\x8a\\xf2\\xcf\\x0c~e\\x1d\\xfa\\x8a\\xa2\\x8a\\x0b\\xcb\\x0e\\xdd\\xce9\\xf75\\x8dg\\xa8\\xc6.\\xefc;s\\xbb\\x00\\xfa\\x10\\x07\\x07\\xf3\\xab6\\xd7\\xf9\\xbe\\x89\\xc1\\xc4\\xbfq\\xbdsT\\xd5\\xac\\xc5\\x19\\\\\\xdb\\x12y\\x0e\\x88\\xcaJ\\xb9\\x00\\xf1\\xf7\\x7f\\xcf\\xf5\\xa7:y\\xa2kP\\xe5A\\xc8\\xeb\\xd4\\x1a\\xab5\\xdf\\x9a\\xdbHS\\x9e\\xbc\\xf3\\xfex4\\x92\\xbc\\x91\\xdeDz\\x86\\x1di!\\x9ea\\xaa\\xfd\\xa3M\\xbb\\xba\\x8aTf\\x11\\x93\\xc7\\x03\\xa7\\xf9\\xcd2\\xc6\\xfa\\xdcA\\xe7[Fc\\'\\xabm\\xea}\\xf1W|u9\\x1a\\xbc\\xb2\\xc5\\x1a\\xc8\\xa4\\xfc\\xdb\\x07__\\xe7\\\\\\xc5\\xb2Z\\xb8g\\x8ei\\x92)\\x08;G\\x01N+\\xa7\\xa1\\xce\\xdd\\x8e\\x8bO\\xf1\\x1b\\xb3\\x7f\\xa5\\xda\\x08\\xd4\\xf3\\xe6v\\x185kW\\xd6\\xa3\\xb8\\x85\\x12\\xd7\\xcb\\x91\\xb7\\x1d\\xc0\\x1e\\xc3\\xfck\\x1a\\xcd\\x15-\\x83$\\x91I\\x1c\\x87\\xb6\\x0es\\xd7\\x8ak,^t\\x9eF\\xd5h\\xfe\\\\c\\x19\\xf4\\x19\\xa1j\\t\\xf5-\\xdd<O`\\xd3\\xda\\x92\\x18\\xaf\\xcc\\xa4\\xfd\\xdf\\xadR\\x83I\\xb7k/1\\xee\\x13{\\x8e\\x08<\\x03\\xda\\xaeC\\x9f1\\x15\\xa00\\xc6\\xeb\\x96\\xf7\\xc7\\xf3\\xab\\x8dah\\x97\\x91\\xb3\\xce\\t+\\xb9\\x061\\xc0\\xf6\\xa0g-e`\\xed.\\xe9\\xb2!\\x0f\\xb4\\x91\\xd4\\x9c\\xf6\\xae\\xd7M\\xb6\\x8e4V\\x82M\\xe3\\x19\\xe9\\x83\\xf9T\\x0e\\xf6\\xd0\\x04\\x88\\xc4^3\\x93\\xbf\\x18\\xc7>\\x94\\xe4\\xbe\\xb6\\x86\\xdfty]\\x84\\xf2=*\\'\\x0eufL\\xe3\\xcc\\xack\\x1aC\\xd2\\xa9[\\xeak4\\x05\\xc5\\xbc\\xa7\\x00\\x11\\x8f\\xe2\\x15:]\\xdb\\xc8\\x8b\\x80\\xf1\\xb98\\xda\\xe2\\xb8\\x1e\\x1ah\\xe5td\\x89\\t\\xa0\\xd2\\x1aL\\xd6v3\\x16\\x8a)\\r0\\x03I\\x8e)h4\\x89\\x1b\\xde\\x90\\xd2\\x9aL\\x8a\\x06\\x15{A\\xff\\x00\\x90\\xe6\\x9b\\xff\\x00_1\\xff\\x00\\xe8B\\xa8g\\x9a\\xbf\\xa0\\x7f\\xc8wM\\xff\\x00\\xaf\\x98\\xff\\x00\\xf4!U\\r\\xd1I\\x18\\xb7\\xf2\\x05\\xb6-\\x83\\xf3/\\xea\\rT\\xb6\\xb9sw\\x12\\xc6r\\xa3\\x1c~\\x1c\\xd0g\\xc2F$\\xe7{\\x83\\xb0\\xfaUy\\'\\xf2\\xee|\\xbbe\\x18F\\xfd\\xe3\\x8f\\xe5\\xfaV\\x92\\x8d\\x95\\x8c\\xeeo1\\x1b\\x98\\xe7=\\x07\\xf5\\xaa\\xc4\\x84\\x93b\\x12I!\\x80\\xf4\\xce\\x7f\\xfa\\xff\\x00\\x956\\xd8\\xeeG\\x04\\xe0)\\xe7\\xdb\\xa0\\x1f\\xe7\\xda\\xa4\\x9cmr\\xc1p\\xe7\\x1b~\\x99\\xe9\\xfe}j6\\x1b\\x1e\\xacp\\xd23s\\x9c\\x13\\xd3\\x8aG\\x03\\xccm\\xcc@\\xe3\\xbd0\\xb90\\xb0\\xdb\\x9d\\xc0\\x91\\xc5\\x16\\xae\\x1c\\xe1\\xb9lpE\\x16\\xb2\\x11\\r\\xdf(p\\x18m\\xe7\\x93\\xcf\\xbf\\xe9QB\\xcan!!\\xbe\\xfc}\\x01\\xe7 \\xd5\\x99\\xff\\x00\\xd7/|\\xf3\\xf8Vm\\xb3\\x085x\\xa1e\\xceY\\x82\\x9fn\\xb4Eh\\x17\\xd4\\xde\\x80y}X\\xb0\\xcfz|h\\xafu!\\x8d\\xb7\\x10\\xa3+\\xdcSb\\xe62GNj\\x1b#\\x87\\x92l\\x9c\\x96\\xea=)$2\\xd4\\xa7\\nA\\xee*H\\xe4\\xca\\x80\\xff\\x00x\\x0e\\xbe\\xb5Z\\xed\\xc3\\xf9\\x9c\\xe1\\x82\\xe7=\\x8f4\\xc9g\\x08\\x8a\\xdd\\xc8\\xdc\\x07\\xb5Z\\x8e\\x81}M$9\\x1cT\\xb1\\x8d\\xcc\\x17#\\xf1\\xaa\\x90\\xcc\\x19U\\xbb\\x11\\x9c\\x8a\\x9d\\x18\\x02N3\\xcfOZ\\x8b\\x16\\x89\\xa6p\\'\\x11\\x8cm\\xc7\\x1fZ\\xaa\\x8e\\x16\\xf1\\xd7\\xb1 \\xe2\\x84#\\xcag\\xc7(\\xe7\\xf2\\xa8\\' L$\\x1d\\x04\\x80g\\xf0\\xad\"\\xeeN\\xc5\\xdb\\xa8\\xb6\\xcd\\xe6G\\xc1\\x1dG\\xad !\\x86{S\\xe6\\x95A\\xc9<\\x9e\\x95\\x0c\\xae\\xa9\\x133t#\\xa8\\xa9q]\\x06\\xf73\\xaf\\xe2d\\x9aIb\\x19lr\\x07qZ08\\x92\\xdd\\x1f=ETr<\\xb4e$\\x86R*\\xb5\\x84\\xadnDR\\x1f\\xdd\\xc8N\\xd2{\\x1fJ\\x86\\xacJv%\\xde\\x06\\xf0\\xd9\\xf9Xt\\xf4\\xad\\x03=\\xad\\xd5\\xbe\\xc8\\x01\\xf3\\x14rEd\\xee\\xd8\\xf2)\\\\\\xb3\\x0cb\\x8b\\r\\xd0\\xdd3\\xc3\\xd2Q\\x82\\xbe\\xf5\\xd2\\x92qw: \\x97+\\xb9~Q\\xb2\\xd8\\x8fJX\\x08\\x0c\\xcaz\\x1c\\x1f\\xccT7\\x01\\xe3\\x8d\\x81;\\x93\\xd4\\xf5\\x14\\xe5?\\xbe\\x8b\\x9e\\x19?\\xcf\\xf3\\xactF\\x1dH\\xdeO&\\xebk\\x11\\xf3\\x0c\\x0f\\xadI4\\x8b5\\xc4J\\xbc\\xe3\\x04\\xfb\\xd5=UK0\\x07;\\xd7\\x90h\\x80<W\\t$\\xaa\\xc8\\t8\\xc8\\xeb\\xc5\\x1c\\xb7\\xd4]li\\xc8\\xdb\\xdfj\\x92\\x08\\x15\\x1d\\xbc\\x80N\\xf1\\xfa\\xfc\\xc3?\\xadG\\x0c\\xa0\\xcb&\\x11\\x89<\\x8e\\x83\\xbdY\\xb9\\x82\\x17\\xb7Y\\xad\\x1d\\x9a\\xea1\\xbeH_\\xfb\\xbc\\x8c\\xa9\\xf5\\xf6\\xa2P\\x06;\\x1f?<df\\x83\\xd7\\x15\\x04W\\n]U\\xd8\\x1c\\x83\\xb5\\xb3\\xc1\\xab\\x01\\xd5\\xe4P:0\\'\\xf5\\xa9q\\x10\\xd68\\xe9\\xc9\\xa5\\xc5C\\xe6\\x07\\xbb(\\x07\\xdc\\xff\\x00?\\xd4\\xd5\\x83\\x9fJ\\x99+\\x02+j\\x11y\\xb6\\xae08\\x19\\xac\\xa8\\xee\\x1a\\xf28J\\xc8Tp\\xbbO8\\xe6\\xb7$\\xdaWk\\x0e\\x0f\\xads\\x10\\x1f\\xb3\\x99T#\\xf9d\\xeeS\\xfe\\x1f\\x8ekZ\\x0e\\xccq|\\xae\\xe6\\xa6\\xb0\\xed-\\x93\\xf9a\\x16$\\x19\\x93<~\\x15b\\xde\\xda\\x18\\xedc\\x11.<\\xc5\\xc9a\\xcb7\\x1e\\xb5\\x9d{\"\\xdc\\xd9\\xdd(\\\\ Tl\\x0e\\t9Q\\xc7\\xe7NRmm\\xb6+\\x1d\\xb0\\x90p\\xdc\\x103\\xc8\\xae\\x9e{J\\xc6\\xb1\\xa9\\xcb\\xa9\\x91\\xaaA\\xa8\\xcfxrV8r0\\x84\\xe7#\\xbf\\xe1\\xcdS\\xbe\\x8a2\\xe9l\\xa41~\\x02\\xae0+\\xb4kh6\\te\\xdc\\xee\\xc3\\n\\t\\xf5\\xaa\\x0b\\xa7i\\xf6\\xb2y\\xb3D\\x1a`Cd\\x8e\\x87\\xb7\\xe3[9X\\xdf\\x9b\\xa9\\r\\xb5\\x8cV\\xca\\xb1\"\\x84U\\xe3\\x8f_Z\\xb2\\xf2B\\xb6\\xdeX\\\\HA\\xf9\\xb3\\xd6\\xb4\\'\\x11y{\\x81RXpO#\\x9a\\xc6\\xbc*\\xb7H\\x8aKv9\\x18\\xe6\\x95IZ-\\x91Y\\xda\\x1a\\tl\\\\\\xa1m\\x85\\xc8\\x19Q\\xdc\\xd4\\xeb\\x0b\\xcb G\\x88\\x05o\\x98\\xee\\x1b\\xb1\\xf9\\x7f\\xfa\\xe9al\"\\x05A\\xbf\\xa9\\xc9\\xe0zV\\x84r\\x95\\x87*\\x146z\\xd6T\\xe5m\\x08\\xa3.]\\x08w}\\x8a\\xddcR1\\xcf\\xca\\xab\\x83\\xcf\\xaei\\x9fje\\x8d\\xb6)<q\\x8ei%.\\xcc\\xad\\x1e\\x1dz\\x16=\\x05+\\xec\\x89\\xf9)\\x82\\x06T\\xf4\\xcd\\\\\\x9e\\xa5KI\\x15\\xad\\xe5\\x96u\"\\xe6/-\\x89%Fy\\xc7Z~$\\x93)\\x1a\\xb7\\x07,s\\xc5ZW{\\x852F>|m\\x19\\xec=M\\\\\\x82\\x03\\x1c1\\\\y\\x8d\\xe6/,\\x80\\x0e\\x94\\xae\\x9c\\xae\\x8a\\xbar\\xb8\\xdd*\\xdaKya\\x96\\xe4\\x84\\x8dr\\xfdr[\\x03 \\x1fl\\xe0~4\\xd0$h\\xc2\\xc9\\x97y2\\xcf\\x9eI\\xefK.\\xa5\\x19\\x8a<\\xa1\\xdd3\\x97\\x01\\xb3\\x90\\xaav\\x8f|\\x13\\x9f\\xca\\xac\\xddK\\x14v\\xa1\\x9b-+aJ\\x91\\x9c\\x1fJ\\xb5\\xab\\xb9m\\xab\\x91\\xac8\\xb4h\\xd2E\\xdcF\\xee{\\xe3\\xe9\\xf8T\\xb3Cm%\\x9a$\\xc4\\xed\\xcev\\x93\\x80O\\xbfz\\xa9\\xa5Z\\xcbn^k\\x82\\x9f7\\xdc@1\\x80{\\xd4sHn\\xee\\x96,f\\x10\\xc7 \\x0c\\xe7\\xf0\\xa4\\xfe\"\\\\\\x8d\\x04\\x9a\\x16T[e\\x01FT\\x15\\x19\\x1cqU\\xe6\\xb3\\x9d\\xa6<\\xa3\\xa9\\xfe\\x13\\xd0\\xfe\\x15\\x1d\\xb3K\\r\\xdc\\xb1\\x08\\x1f\\xec\\xe5r7t\\x1f\\xe7\\xd2\\xad\\xc7!\\x9d\\xd5\\xa2fU\\xfas[Y4SDcKR\\xaa\\xc1\\xf9S\\xc63\\xf9UK\\xbd6\\xe5Y&,\\n\\x06\\x05\\xd3\\xaf\\x00\\x1e\\x9f\\x9do\\xc1\\xb4&\\x19\\x83H\\x06r\\xbd\\xea\\x1b\\xa9\\x08\\x8c\\x95-\\xf44Xk\\xb1\\xcd\\xcc\\x8b\\x19Qn\\x8c\\x1b9\\xc0=\\xbf\\x1e\\x954qL\\xd17\\x91\\x00\\x18\\x07\\xef\\xb0\\xe4\\x9fq\\xda\\xb4-\\x166\\x9c\\xee \\xb4\\x9c\\xa1 c>\\x9fZ\\x92\\xf2\\xceVu\\xdaw\\xc7\\x83\\xc6j\\x10\\xcc\\xe1\\x03\\xb2\\x8d\\xc1\\xb3\\xb7\\x19\\x03\\xbf\\xd6\\xa8O\\x04\\x88\\xca\\xd9m\\xa3\\xa9\\x19\\xc8\\xc7\\xf9\\xfdkf\\x15\\x9c\\'\\x94@,8_\\xf6O\\xbdSF\\x99\\x84\\x89p\\x8a\\xad\\x920\\x0fN})_A\\xa7dWi&Xc\")\\x19I\\xea\\xa3<\\xfe|u\\xfd*\\xf5\\xe6\\xf7]\\xd0g9\\x00\\xb62:q\\xfdim\\x1f\\xca\\x89\\xd6\"\\xad\\x93\\xd4c\\xe5\\xc8\\xee(\\x96Q\\x0b&\\xc9\\xa2R\\xc7\\xee\\x16\\x03\\xdb\\x8a\"\\xad\\x14f\\xb4\\xb21n\\xaf\\x85\\xbb\\xac\\x89\\x19G\\x8f\\x1b\\x8ad\\x8ex\\xe9\\xe9\\x91[\\x9a]\\xd0\\xbc\\xb6\\xf3\"c\\xbf\\xef\\x00\\x062>\\x95\\x94\\xb1\\x10g\\x8c\\xaa\\xb7\\x9b\\xf2\\xa3\\x11\\xc30\\xe7$\\xfa{\\xff\\x00ZtV\\x11[O\\x94\\x9aH\\xca\\x82\\xcb\\xc9\\xda\\rZ,\\xdd\\x92R\\xcaw\\xaeYy#=j\\x8a\\x16\\xb7\\x9c\\xc8\\x91>\\xd6\\x03\\xe6\\x1c\\xe7\\xd8\\x8adI<\\xddf\\xdf\\x9ex8\\xcf\\xd1\\xbf\\x0e\\x95{l\\xb0?\\xcb\\xf3\\xc4F@\\x1fx\\x7f\\x88\\xa6+\\x19wg\\xca\\xb9\\x0e\\xaa#\\x0f\\xc08\\xc6\\x0f\\xbdB\\xed\\x14Re\\xe4\\x19?\\xdd=\\xea\\xeb\\x96\\xbau\\x01\\xb6\\x15\\xe4g\\x9aI\\x02\\xed1\\xcd\\xc3\\xf6\\xe2\\x81\\x95\\x0b,\\xb1\\x94\\x8d\\xf2@\\xc8#\\xaf\\xb5P\\x9e\\x06 \\x8d\\xe7v>R\\xc3\\xbf\\xadk\\xc6\\xf1\\xe0\\xa9V\\x0c\\x0f\\x0c\\x7f\\\\\\x9a\\x8d\\xcaHY\\x08\\xdaW\\xfb\\xc3\\x1f\\x8d\\x00q\\xfa\\xdc\\x0f\\x1a\\xc6\\xe8I\\x95y\\xca\\xf6\\xaa\\xf6:\\xf5\\xdd\\xcd\\xe4v\\xf2\\x0f\\x9c\\x9f\\xd0c\\xfck{U\\x82D/\\xdf\\xe5\\xef\\\\|\\xe8\\xf6\\x1a\\x8c3g\\xbf$v\\x1di\\x92\\xf44|C\\x0e\\xa1|qm\\xb8G\\xb8\\xab\\x1fn\\xd5\\xd0i\\xd3\\x1bKE\\xf3H\\x0c\\x8b\\x91\\x83\\xd0\\xfaVU\\xb5\\xf0\\xbd\\x1b-\\xfev\\xc8\\xe4\\xd5\\xe1e<\\xae\\xa6y7>N\\x14t\\x03\\xd4\\xd62Ob\\xe2\\xf55-\\xe4\\\\\\xdd;\\xe3{\\x1d\\xcf\\x8fq\\x9f\\xe8\\x05hZ\\xca\\xb3J\\xbbX\\xe4\\xf5#\\xaez\\xe0V\\x1bD-\\xfc\\xd7\\x95\\x8a\\xb1\\x19\\xfa\\x81\\xc5j\\xe9\\x8d\\x04\\x8e\\xa5\\x18dpp}\\xb3\\x9a\\xc9\\xdd\\x9b+#^YU5\\x16X\\xdc\\x82\\xc3~\\xde\\x80w?Nk\\xa5v\\x0f\\x14\\x05\\xb8TR_\\xe9\\x8f\\xfe\\xb5r\\xf2\\x11%\\xfa\\xe7\\x0cT\\xe3p\\xf4\\xc6?\\xa5Y\\xd4u\\x88\\xed\\xa0\\xb8\\xe7\\x88\\xe1*\\x08?\\x86?2i\\xae\\xa2\\x94\\xac\\x8e\\x1eAs-\\xfd\\xccP\\xcad\\x88\\xc8v\\xe4m\\xac\\xc5\\x84\\x9b\\xb7\\x89]\\x04\\xa8v\\xba\\x15\\xc1\\x06\\x9d$\\xab/\\x952\\xc9,Sn;H\\xef\\x8e\\x0f\\x15\\xa5\\x16\\xdb\\xcb\\x98\\xfe\\xd5\\xf3.\\xd2\\x03\\xed\\xea}\\x0f\\xbdkm.\\xce}\\xd2l\\x86\\xdbOeE\\x05\\x02&>_/\\x8a\\xa9\\xac\\xe9\\x97\\xf1*\\xcfgnf\\xe7\\x0f\\xb5\\xf9\\xc7\\xd3\\xd6\\xba\\x99\\xed\\x92Kp-\\x08G\\x18\\x1c\\xf7\\x1e\\x9c\\xd5U\\xb4\\xd4\\xad\\xc1\\x9b\\xcc\\x1eQ\\xe4\\x878\\xc7\\xe5TjcXO\\xa9\\xcdf\\xb2\\xad\\xa6|\\xa1\\xd2N\\xb5=\\xa5\\xccw\\xb1\\xac\\xdbY&\\xe5X\\x15\\xff\\x008\\xad;MB\\xff\\x00\\x12(\\x16\\xc4/U\\xdc9\\xa2\\xfa\\xd1\\xa7\\x89eE\\x8e\\x1b\\x86<\\xaa\\x1f\\xd6\\x801\\xde\\xe2\\xe6\\xd2\\xde\\xdd\\xdd\\x04\\xe4\\xb6\\xc6\\x1c\\x9c\\xe7\\'\\xfaT\\xd6zN\\xa1yq\\'\\xd9mb\\x8a\\x12\\xf9\\x05\\xdf$~\\x15\\xa9ab\\xb6\\x96_\\xe92H\\xcc_r\\xe4d\\xe7\\xfc\\x9a\\xd1\\xd1\\xf5\\xb5\\xb6\\xdf\\x14\\x96\\x0f\\x82\\xd9/\\x18\\xc9\\xfci\\x80\\xe84\\x0b\\xa4\\xb6R\\xd7\\xcd\\x13\\x1e0Tc=\\xa8\\x97O\\x9e\\xda &>`-\\x92Uq\\x8f\\xfe\\xb5mGumx\\xc4;mc\\xc0,v\\x9a|\\xc5lR6\\x91\\xc9BB\\x9d\\xe4~uVLW0\\xa0,\\xec\\xdb\\x90:\\x1c\\x04*\\x08#\\xebSIo\\xf3aA\\x03\\xd4\\x8e*\\xd6\\xa1i<\\xd1G&\\x97r\\x88\\xa0d)_\\x94\\xfeT\\xeb\\x01s\\x1b\\xb2\\x94@:\\xe3q#=\\xfa\\xd62\\xa3\\x19t%\\xc2/\\xa1\\x98\\xd1\\xba\\x92\\n\\x9aLv<V\\xe9\\x80\\xb9\\xf3\\x1b \\xee\\xe8@\\xf4\\xa8\\xa6\\xb4\\x8aL\\x92\\x0f>\\x95\\x84\\xb0\\xaf\\xec\\xb3\\x19Q\\xecc\\x9fji\\xe1\\x87\\xa1\\xa7\\xc9\\x0c\\x90\\x12\\x92\\x0c\\xe0\\xe07\\xb51\\xc6S\\xde\\xb9e\\x17\\x17fakn#u\\xa8\\xc9\\xa7\\xe4\\x15\\xcd0\\xf5\\xa9\\xb0$.j\\xf7\\x87\\xcf\\xfcO\\xf4\\xef\\xfa\\xf9\\x8f\\xff\\x00B\\x15E@\\xeay\\xf4\\x15{A\\x1bu\\xfd7=~\\xd3\\x1f\\xfe\\x84+X\\xadQi\\x1c\\xd3\\xce\\x12\\xf67`\\xac\\x15H\\xe4t\\xaa\\xd7\\xa5\\x9eG\\x99YV?\\xbe\\x00\\x1d}i\\xf28K\\xa4\\x94\\x8d\\xc3\\xf8\\x85F\\xb2,\\x90>\\x17`\\xe5\\x00\\xf4\\xadZ\\xba0/C+,a\\x81\\xca\\x95\\x01\\x88\\xf5\\xc95\\xa3\\xaa\\x0c\\xc2\\x92!\\xfb\\xa4~F\\xb1,\\xe4+\\x0c\\xab\\x80\\xcaW\\x91\\xf4\\xab2\\\\\\xb3i\\x85\\x1b\\x92\\xd8\\t\\xf4\\xcdak\\xe8;\\x96\\xb7yrBz\\x027\\x11\\xf5\\xebP\\x89BE\\xe6\\xa8\\xf9\\xe3b\\xad\\x8e\\xe0\\x7f\\xf5\\xaa\\xb7\\xda\\tx\\x89\\xe5\\x92<}z\\xd2;\\xed\\x0f \\xe9\"\\xe7\\xf1\\x1di\\xa7tM\\xc7\\xc9p\\x19btl\\xe0\\x7fZ\\xa9\\xa8\\xb1]B\\xce\\xe5{\\xb1\\x03\\xea*;i\\x95fDp\\n\\xc8\\x08\\xfa\\x13\\xd0\\xd3\\xf5G+eo\\xf2\\x8d\\xd1\\x92\\xd4\\xd6\\x8cI\\xf7:\\x18\\xce\\xdb \\xe7#\\xe5\\xcfZ\\x8e\\xdd\\xc8\\x81K\\xf4<\\xe6\\xaaC7\\x9b\\xa6D\\x0b`m9\\xc5[vXme.p8O\\xd0T\\xc7FY\\x05\\xe4\\xe7j\\xe0\\x0eE-\\xb3\\x89\\\\n`\\x00\\xc8\\xfc+:I\\x01\\xc2\\xe7<dS\\xd42le\\x04(\\x1b\\xb3\\xebV\\xb7\\xb1\\x17\\xeanh\\xd9\\x10\\xba1\\xe5\\t_\\xc2\\xa7\\x8c\\xbeC \\xdc3\\x92\\xb5\\x91\\xa6\\xdcH/g\\xdb\\xb7\\x0c\\x9b\\xb1\\xeb[6\\x0c\\xa6,\\x93\\xcf\\xf1\\x0fJ\\x9d\\x99\\xaaw\\x16)\\x03$\\xc0t/\\x83\\x9fz\\xa4\\xf3y\\x9at\\xea8\\x91[\\x1f\\x88\\xa7\\x95\\xf3e\\x9d\\xd3\\x86\\x1c\\x8f~+&\\x1b\\xad\\xf3\\xdcn\\\\o$c\\xde\\x81\\\\\\xd9\\xb5sp\\x8a]\\x86Bq\\xefIy7\\xfa2\\xc7\\x9f\\x9bv*\\xbe\\x99\\x13$\\x81NrS\\x83\\x9am\\xd24Z\\x81R\\xdb\\x86\\xdc\\xf3\\xc74Oq\\xbd\\tZq\\x14h\\xa0\\xe4g?\\x85I$P\\xdci\\xc3%\\xc0\\xcf\\x07\\x1e\\xf5F\\xfb+d\\x0f\\x00\\x01WlN\\xfd\\rX\\xe39\\xfe\\xb4u\\xd4\\x84QicY\\xe3\\x06S\\xbc\\r\\xa47SZV\\x10\\xc9\\x10\\x7f0|\\xc7\\xa1\\xf6\\xac\\xf9\\xed\\x12k\\xb8r\\x0e\\xf49$zT\\xef})\\xbd\"2\\xa5\\x17\\x03\\x1e\\xb5\\xae\\xf1:\\x14\\xbfur\\xd5\\xeb\\xaf\\x92\\xc3\\x8fJ\\xaf+\\x04x\\x1d3\\xb4\\x9c6{\\x13\\xe9Q\\xde\\\\\\x85t\\x0c\\xa4\\x978\\x00T\\xf7\\xf0m\\xb6FlG\\x11 \\x95=O\\xd2\\x93\\xa6\\xcc\\xac\\xc5\\xbb\\x95\\xe5\\xb9V\\x85\\x99\\x14p\\x1c6\\x0b\\x7f\\x9cU$\\x96Y.\\x1co8\\x88\\xf0O8\\xe2\\xac\\\\^\\x99\\xa5X-\\xd5\\x15W\\x85\\xcf_\\xc6\\xa9A,\\x90]\\xcd\\xc7\\xde\\xfb\\xc34\\xdcyV\\xa58\\xb4\\xee\\xcd-\\xcc\\xb1\\xac\\xe3h\\x1d\\x1b\\x8c\\xe2\\xa2\\xb8\\xb9h\\xf5\\x0by\\xa0\\xceZ2\\x87\\x07\\xa3g\\xff\\x00\\xafQ\\xdc$\\xea\\x87\\x19\\xd8\\xc9\\xbbi\\xe7#\\xff\\x00\\xd7T\\xaey\\xb6\\x88\\xaf\\x1bX\\xe7\\xb1\\xa5s&\\xec\\xcd{c\\x16\\xa4\\xc0H\\x98\\xc6U\\x97\\xa6=\\x08\\xa8\\xad]\\xe0\\xd4Z\\xdb\\xcd\\xe5N\\x17wB1\\xfa\\x1a\\xc7\\xd3\\xb5\\x13m\\xabfC\\xf2\\x93\\xd4\\x7f\\x9e\\x86\\xb5\\xaf\\xdb\\xcf\\xb8\\xf3\"\\x1f\\xbb\\x94\\t\\x15\\x81\\xf4\\x1f\\xce\\x95\\xae\\xae\\x17\\xd0\\xb1c:\\xfd\\xa6o<\\x85f\\xe0d\\xf1\\xdf\\xbd^\\x92UG\\\\\\x91\\xb0\\xf7\\x1f\\xe7\\xde\\xb0!\\x91\\x8c\\xb3\\x1d\\xf8`2B\\xf7\\x15i\\x12)\\x1e\\x1d\\xad\\x84\\xc1R\\x0eH\\x1d;v\\xef\\xd2\\xa1\\xc6\\xeci\\xf44\\xbe\\xfd\\xe2E#\\x08\\x87\\xdeW=\\x0f\\x07\\x83\\xfaW(n\\x1a\\xdb^\\x98H\\x99\\x8f-\\x19L\\xf1\\x92O\\xf5\\xc5iMq,dY\\xca\\x10\\xbcG\\x07\\xa2\\xee\\x07\\xbf\\xe3\\xfc\\xe9\\xb0\\xe9\\xb1C4\\x97:\\x95\\xc3\\x98\\xc9\\x0c\\x91\\xe3\\xe6|z\\xfaV\\xdc\\xbc\\xa9$6\\x9fC.T\\x98^\\x94\\x89^B\\xcc>T\\xe4\\xe3\\x83\\x8c~\\x02\\xb5\\xfcC\\xbe8\\xd6M\\xa5d\\x90\\xeeu=\\xb2H\\xc1\\xfd*\\xa5\\xce\\xb5-\\xc3\\xa0\\xb3\\x868-\\x11\\x98H\\x880\\xd8\\x19\\xea\\x7f\\x0f\\xd6\\xab\\xc3r\\xd2\\xac\\x86`X19>\\xfd\\xe9K\\xad\\xc5\\xd0\\xb5$\\xd2\\xcd\\x05\\xb2\\x82U@\\xdb\\xb8\\x1e\\x83\\x9a\\xb3\\x0c\\xe2I\\x15\\x0f\\'\\x92I\\xee8\\xfdk\\n;\\x82`t\\'\\xa4\\x99Q\\xeckF\\xdaP\\xc3)\\x90\\xdc\\xb0\\xff\\x00\\n\\\\\\xccJv5\\xe21}\\xa2)]I\\xf2A\\xc2\\x1eC\\x1fS\\xf8Vd\\xf7/>\\xab,\\x93\\x95\\xdc2\\xc3i\\xa7\\xa4\\xe2[w\\xc1\\x19+\\x8eMQ^u6\\xdf\\xc9Q\\x92}j\\xe5;\\xc4\\x1c\\xdb\\x8d\\x8d8s\\xe4($\\x92N\\xe6>\\x83\\xb5:F\\x93zC\"\\xf2_\\x1c\\x1a\\xcf\\xde\\xc1\\\\\\x06\\x0b\\x93\\xd2\\x99v\\xcd\\x0c\\xeb\\'\\x98O8\\xa8\\x84\\xba\\x8dJ\\xca\\xe7D\\x8c\\xe4I\\x00!c\\x8b\\x96\\x18\\xeaGo\\xd6\\xa9\\xc8RR\\xa6D>^\\t\\x1e\\xa4\\xff\\x00\\x85W\\x96\\xe5\\xa4\\x87l\\x07*\\xbf\\xeb\\x1c\\x7f\\x11<\\xe0z\\xd5sz\\xa9\\xe5\\x82\\xc0\\x8c\\x1c\\x01\\xc95r\\x99R\\x9d\\xd9\\xafh\\x17\\xc8@N\\xd7\\xea\\n\\x8e\\x95\\x7fN\\xb8\\xdb\\x04\\xbef\\xe2\\xc4\\x9f\\xc6\\xb3\\xb4\\xe9\\t\\xb7X\\xc1\\x02YX\\x00Oa\\xfesWn\\x15\\x89\\x95\"*cn2;}*c-\\xac\\\\]\\xb5E+\\xd7\\xcbI\\xfb\\xa5YS\\x01_\\xb8_\\xebZ\\xda]\\xbb\\xce\\xcf<\\xac\\x04H\\xd8L\\x81\\xd7\\xb9\\xfdH\\xac\\xdb\\xd8\\r\\xb5\\xba\\xab\\x1c\\xb1\\xfb\\xae\\x07\\xe8kN\\x04*\\xeb#\\xca\\x0e\\xecl\\x8f#\\x0b\\x8e\\xa7\\x15\\xd1\\r\\x1d\\x8d`\\xf5\\xb0\\xdbU-rVVR\\x98,8\\xe7\\x03\\xde\\xb2-nd\\x8eU\\x96\\x1c\\x92X\\xe7b\\xe4\\xf7\\xad(\\xa4\\x99c\\x99\\xe5\\xf9\\xd4)\\n\\xe3\\xa8\\xf6\\xc5`hs,3\\xbb\\x1c\\x90\\x0f \\xff\\x00Z\\x9eoy\\x11)j\\x8e\\x9a\\xe0%\\xccan\\xdd\\xb6\\x01\\xb8\\xa7\\x99\\x8d\\xdfR?\\x95T\\xfbS$\\xdba\\x05\\xa0^r\\xcb\\xcf^\\x95\\x1c\\xb6\\xf9]\\xef+lv\\xc6\\x18\\x82\\xd8?\\xd2\\xac\\xe2\\x14\\x8dc\\x11\\xec\\x8d\\xcfA\\xcf\\xf9\\xfa\\xd6\\xfc\\xdd\\x8d\\xaf\\xd0\\xb7f\\x0b\\x10d`\\x0eN\\xdf\\x7f\\xc2\\xa1\\xb9e\\xd8\\xdb\\x0e_<.8\\x15X\\xc8\\xa8\\xec\\x11>S\\xc0 \\x7f,\\xd4\\xb3d\\xc9\\xcclI\\x19P\\x18d\\xfe\\xb4\\x9b\\xb3\\x1be}9\\xd5<\\xd8\\xe7.\\xaaXlb\\xb9\\x00\\xf6?J\\xdf\\x86H\\xae\\x95\\x95\\xbe\\xf1\\xe0\\x86\\x1d\\xc7Z\\xc9\\xb4\\x97\\xef\\x03\\x1b(+\\x86\\xe0~\\xbc\\xd5X\\xefR\\xcbP\\x8aF\\'\\xec\\xd3\\x8d\\xacXgc\\x8e?\\xc3\\xf2\\xa4\\xdd\\x88uRi\\xf76\\x02\\xbcm;$j\\xdb\\x08#i\\xe4q\\xf9\\xfeU\\x9fz\\x15\\x96Y\\x0b~\\xf0\\xfd\\xd0:s\\xecO\\x15j91,\\xfeKa\\xf6\\x82\\x07\\xf3\\xac}J\\xe3t2(\\'v\\xec\\x01\\xd3\\xafJR\\xd1\\r\\xca\\xd1$\\x8c/\\x99\\xe6\\x95W\\x8f\\x01_\\x81\\xce\\x07\\xadM$\\xb1JM\\xac\\x91\\x8d\\xb8\\x19\\x0c7\\x0e\\x7f\\xcf\\xff\\x00^\\xa9Z\\xdd\\x08c\\x108\\x04\\x17\\x04\\x86\\x1d}\\x81\\xad\\x07\\xf2\\xe7\\x99\\x97\\x8c\\x90\\x15\\x81\\xed\\xd7\\xf5\\xe9N!\\x1d\\xc7G\\x95DV+\\xfe\\xc3c\\x19\\x14\\xe9\\xe6\\x93\\xec\\xc7p\\x0c\\x14\\x1f\\xe1\\xedU\\xa1\\x94\\xac\\xbeQ\\x1b\\xf3\\xcf\\xcc8\\x1d\\xb2*\\xbe\\xa4\\xedn\\xab\\x07\\x9d\\xb9d;\\x08\\xc6N\\xde\\xf5w\\xb2\\xb9m\\xe9q\\x8bn\\xd7\\x16\\xe1\\x92N\\t\\xce\\xd0q\\xfe{Se\\x96_5\\x03\\xb9\\xde\\x83i\\x1b\\xbeb3\\xf9\\xf7\\xa9f1I$n7\\xeeS\\x90T\\xe06}\\x7f:P\\xc8\\xf2y\\x8c\\xa4\\xba\\xf1\\xf3\\x0e\\x87\\xbf\\xf2\\xa3\\xa0l\\x89b-\\x1d\\xb6\\xe6\\xc1=H\\xc6~\\xb4\\xd9%\\x0e9,GPs\\x83\\xf9Tp\\xb40\\x17X\\x98\\xa2\\xb1.\\xdd~\\xf1\\xeb\\xd7\\xa5K+o\\x89\\x0c\\xc8P\\xa7RG\\'\\xde\\x81\\xee2X\\xc8@Ae\\x07\\xef\\x0c\\xe7\"\\xa2($\\x18i\\x1b \\xe3\\x8f\\xe1\\xab\\xf6\\x81\\x19Ns\\xb1z\\xe4\\x8ej)`Q!d \\x0e\\x99\\xf5\\xa0-\\xa9\\x97p\\x8b\\x18\\xc36[\\xa1\\xf9k\\x97\\xd5\\xad|\\xd9\\x0eW\\x9cWl\\xf6\\x98\\xe5\\xb3\\x8e\\x98\\xac}N\\xcd\\xbc\\x87\\x9e\\xd8+H\\xb9\\xc0\\'\\xa8\\xa6\\x0c\\xe0!\\xb9\\x93J\\xbcf\\x8c\\x92\\xa3\\x9a\\xe9\\xf4Ma.m\\x06\\xf7\\xc4\\xed\\x87\\xcf\\xd4\\x9e?\\x91\\xaeoW\\x82O5\\x00\\x0b\\xbaL\\xe7=\\xaa\\x9f\\x93-\\x85\\xdcaX\\xec\\x18f\\x14y\\x11\\xb1\\xd7x\\x86\\xeaY\\xe1>J\\x86a\\x90\\x1b\\xd3<\\xd2h\\xd7\\x12\\xe9\\xf1F\\xd26\\xfb\\x92@`:c\\xae+6=Qncx\\xd5pO\\xaf\\xf9\\xf4\\xa6\\xfd\\xab\\xe6\\xce7\"\\xb6I\\xf4\\xe35\\x0e=\\x0b\\xe6;\\x0f\\x0f\\xdf\\x99d\\x9e\\xe2Fd\\x8d\\x11\\xb3\\x93\\xd4\\xfb~\\xb5K\\x7f\\xf6\\x834r\\\\\\xach\\xfc\\xef\\x07\\x93\\xc7oSY6\\x92\\xde\\\\\\xcb\\'\\xcc\\x82\\x08\\x9bo\\x96\\xa3\\'#\\xa8\\xff\\x00\\xf5U\\x88\\xed\\xc0r\\xd9\\xe4\\x1e\\x1b\\xd7=\\xbd\\x85e5\\xaa\\x8a3\\x9c\\xb9\\xda\\x89z\\xee\\xd8\\x19S\\x01\\x88\\x03j\\x8e\\xa7\\xeb\\xf8\\xd4\\xfe#\\xb9\\x16qEm\\x02\\x19R\\xcc\\x12\\xd8nL\\x84\\x02\\xc4z\\xfa}\\x05\\\\\\xd1\\x11\"\\x06m\\xc9\\x98\\x81m\\xa4\\xf2[\\xf8G\\xe6s\\xf8\\x1a\\xc2\\x8a+\\x89\\xa3YA92\\x16\\xcf\\xa9\\xc9\\xabr\\xb3\\x13n6\\xbe\\xc4\\xbaG\\x89,\\xf5H\\xe4M\\xe6\\x1b\\x902S9\\xfckZ\\xdbT\\x91b\\x927V\\x98\\x858#\\x90x\\xee+\\x94\\xfe\\xc9\\xd3\\xb4\\xe9\\xae/a\\x81\\xae\\xafTq\\x02>\\x00\\xff\\x00?\\x8dR\\xb5\\xf1\\xb1iZ#\\xe6YL\\xa4\\x05E<7\\xe3Z+=\\x87\\x1a\\xae[\\x1dl\\x97\\x16\\xff\\x00g\\x9d\\xaf-\\xdd[\\x19R\\xbc5`\\xdakZ}\\xd5\\xfa\\xa4R\\xcf\\x1b\\xa1\\xe4\\xb3t\\x1e\\x95\\x9d}\\xe2I\\xae\\x1c4\\xd8)\\x9f\\x98c\\xadb\\xe8\\x07\\xcd\\xd7\\xda0\\x16HQ\\x8c\\xcf\\'BPs\\x8f\\xe4(z+\\x9a9\\xdbS\\xd7umZ\\x1b4\\x8a\\xdf\\xcbg\\x7f(1\\r\\xd4\\x13\\x82\\x01\\xf7\\xc1\\x15\\xcc\\xdc\\xf8\\xc2[f0\\xc9l\\x85G\\xdd#\\xa8`r>\\xbc\\x8a\\xcf\\xbc\\xd4\\x9a`\\x97-&\\xd0\\xc3\\xee\\x83\\xcb\\x1e\\x80\\x9f\\xc0t\\xacy\\x7f\\xd2\\x0bI,\\x9b\\xbf\\x0cc\\xdb\\x15\\x959s\\xed\\xb1\\x9cj9\\xb3\\xbd\\xd3\\xbcIc\\x7f4\\x8a\\xf1\\xaa9\\x04\\xa3\\x10=:\\x1a\\xdf\\xbb\\xbex#X\\x98nP>U\\x03 \\xd7\\x91G\\x0b\\x87VE\\x05\\xb0H9\\xe7\\x02\\xbd\\x13\\xc3\\xd0\\xcat\\xa8\\x9e\\xe6\\xe0\\xc8\\xfbJ\\xaf<\\xa8\\xff\\x00\\x1a\\xd5v+\\x99\\xbd\\t\\xf4\\xcf\\x106\\x9b\\x0b@mQ\\xa1\\x04\\xe3k\\x1e2}\\xfbV\\xd5\\x8f\\x88\\xb4\\xe9\\xc9.\\xef\\x04\\x9cd\\xb0\\xca\\xd7!\\x7fk,/\\xbdHx\\xcf%O_\\xfe\\xbdQ\\x9a)\\x9a=\\xd0F\\x02\\xb3\\x02@\\xe0\\x01Uq\\xa6zZ^G3\\x98\\xe3\\x9a7b7\\r\\xad\\x9c\\x8f\\xf3\\xfc\\xea\\x1dNu\\xb0\\xb2k\\x898\\xda26\\xf3\\x8a\\xe2\\x0cok\\n\\xc9\\'\\xcb\\x9e\\xa5x\\xc0\\xf6\\xf7\\xab\\xb6Z\\xad\\xc0\\x90\\xa5\\xd3\\x19b\\xe9\\x87\\x1b\\xb8\\xf7\\xa4\\x9d\\xc4\\x9d\\xd9\\xaf\\xa7\\xdd\\xc9,Q\\\\\\x99\\x0b\\xc2\\xe4\\x9eW\\x83V\\xae-\\xd5\\xd4\\xbc$\\x11\\xd7\\x02\\xa9Y\\xeaVr\\xb1\\xb2\\x10*\\xc6\\xf9?/\\x15f\\xced\\x82G\\x8eVo-N>l\\xe4f\\xa2t\\xd4\\xd6\\xa3\\x94T\\x95\\x8a\\x1b\\x8a\\xcc\\xf1\\xbf\\xd4})\\x92\\xb1F\\x03\\xd4\\xe2\\xb6\\xccv\\x8d\\x11(\\xbek\\x8e\\x01n\\xb8\\xac\\xfb\\xb8b;\\x19\\xb3\\x1bg\\xee\\x9e\\xd5\\xcd,<\\x96\\xa8\\xc5\\xd2kb\\x08\\xdbj\\xb3\\x13\\xcfj\\xb1\\xa0\\xb1o\\x10i\\x83\\xfe\\x9e\\xa2$\\xff\\x00\\xc0\\xc5U\\x9a\\'\\x8c\\x8d\\xc3\\x822\\x0f\\xb5Y\\xf0\\xdf\\xfc\\x87\\xf4\\xe2z\\x9b\\xa8\\xbf\\xf4!Yl\\xd2\\'c\\xff\\xd9'"
      ]
     },
     "execution_count": 5,
     "metadata": {},
     "output_type": "execute_result"
    }
   ],
   "source": [
    "import requests\n",
    "\n",
    "url = 'https://www.natgeo.com.cn/pic/program_default.768.jpg'\n",
    "r = requests.get(url)\n",
    "# r.content\n",
    "# with open(url.split('/')[-1],'wb') as f:\n",
    "#     f.write(r.content)"
   ]
  },
  {
   "cell_type": "markdown",
   "metadata": {},
   "source": [
    "### 采集多页"
   ]
  },
  {
   "cell_type": "markdown",
   "metadata": {},
   "source": [
    "#### 获取下一页链接:拼接"
   ]
  },
  {
   "cell_type": "code",
   "execution_count": 73,
   "metadata": {},
   "outputs": [],
   "source": [
    "#按照首字母顺序排列，除了IPython\n",
    "from lxml import etree\n",
    "import requests\n",
    "from requests.structures import CaseInsensitiveDict\n",
    "from IPython.core.display import HTML\n",
    "from IPython.display import display\n",
    "\n",
    "next_page_url = 'https://book.douban.com/tag/%E6%BC%AB%E7%94%BB'\n",
    "\n",
    "while 1:\n",
    "    headers = CaseInsensitiveDict()\n",
    "    headers[\"User-Agent\"] = \"Mozilla/5.0 (Windows NT 10.0; Win64; x64) AppleWebKit/537.36 (KHTML, like Gecko) Chrome/100.0.4896.88 Safari/537.36\"\n",
    "    resp = requests.get(url=next_page_url, headers=headers)\n",
    "    dom = etree.HTML(resp.text)\n",
    "\n",
    "    for block in dom.xpath(\"//li[@class='subject-item']\"):\n",
    "\n",
    "        title = ''\n",
    "        elem_title = block.xpath(\".//div[@class='info']/h2/a\") #是个列表\n",
    "        # print(elem_title) \n",
    "        # print(elem_title[0])\n",
    "        if elem_title:\n",
    "            title =''.join(elem_title[0].itertext()).replace(' ','').replace('\\n','')\n",
    "        # print(title)\n",
    "\n",
    "        price = -1\n",
    "        elem_price =  block.xpath(\".//div[@class='info']/div[@class='ft']/div[@class='cart-actions']/span[@class='buy-info']/a/text()\") #是个列表\n",
    "        # print(elem_price)\n",
    "        if elem_price:\n",
    "            price = float(elem_price[0].strip()[3:-1])\n",
    "        # print(price)\n",
    "        print(title,price)\n",
    "\n",
    "        cover = ''\n",
    "        elem_cover = block.xpath(\".//img/@src\")\n",
    "        if elem_cover:\n",
    "            cover = elem_cover[0]\n",
    "        # display(HTML(f'<img src={cover}>')) #notebook显示图片\n",
    "\n",
    "    elem_next_page = dom.xpath(\"//span[@class='next']/a/@herf\") #/@herf 源url属性 \n",
    "    if elem_next_page:\n",
    "        next_page_url = \"https://book.douban.com\" + elem_next_page[0]\n",
    "    else:\n",
    "        break\n",
    "    \n",
    "    break #可以设置翻几页\n"
   ]
  },
  {
   "cell_type": "markdown",
   "metadata": {},
   "source": [
    "#### url中找规律"
   ]
  },
  {
   "cell_type": "code",
   "execution_count": null,
   "metadata": {},
   "outputs": [],
   "source": [
    "#按照首字母顺序排列，除了IPython\n",
    "from lxml import etree\n",
    "import requests\n",
    "from requests.structures import CaseInsensitiveDict\n",
    "import time\n",
    "from IPython.core.display import HTML\n",
    "from IPython.display import display\n",
    "\n",
    "page = 1\n",
    "\n",
    "while 1:\n",
    "    next_page_url = f'https://book.douban.com/tag/%E6%BC%AB%E7%94%BB?start={(page-1)*20}%type=T' #若没有将中文自动化转译，需要手工转移\n",
    "    headers = CaseInsensitiveDict()\n",
    "    headers[\"User-Agent\"] = \"Mozilla/5.0 (Windows NT 10.0; Win64; x64) AppleWebKit/537.36 (KHTML, like Gecko) Chrome/100.0.4896.88 Safari/537.36\"\n",
    "    resp = requests.get(url=next_page_url, headers=headers)\n",
    "    dom = etree.HTML(resp.text)\n",
    "\n",
    "    for block in dom.xpath(\"//li[@class='subject-item']\"):\n",
    "\n",
    "        title = ''\n",
    "        elem_title = block.xpath(\".//div[@class='info']/h2/a\") #是个列表\n",
    "        # print(elem_title) \n",
    "        # print(elem_title[0])\n",
    "        if elem_title:\n",
    "            title =''.join(elem_title[0].itertext()).replace(' ','').replace('\\n','')\n",
    "        # print(title)\n",
    "\n",
    "        price = -1\n",
    "        elem_price =  block.xpath(\".//div[@class='info']/div[@class='ft']/div[@class='cart-actions']/span[@class='buy-info']/a/text()\") #是个列表\n",
    "        # print(elem_price)\n",
    "        if elem_price:\n",
    "            s = elem_price[0].strip()\n",
    "            price = float(s[s.find(\"版\")+2:s.find(\"元\")]) #find 查找字符串的位置，若不存在，返回-1。切片，左闭右开。\n",
    "        # print(price)\n",
    "        print(title,price)\n",
    "\n",
    "        cover = ''\n",
    "        elem_cover = block.xpath(\".//img/@src\")\n",
    "        if elem_cover:\n",
    "            cover = elem_cover[0]\n",
    "        # display(HTML(f'<img src={cover}>')) #notebook显示图片\n",
    "    page += 1\n",
    "       \n",
    "    time.sleep(5)\n",
    "\n",
    "    if page > 4:\n",
    "        break #可以设置翻几页，并且sleep(),不然太快了会被封"
   ]
  },
  {
   "cell_type": "markdown",
   "metadata": {},
   "source": [
    "### 存储为CSV，写和读"
   ]
  },
  {
   "cell_type": "code",
   "execution_count": null,
   "metadata": {},
   "outputs": [],
   "source": [
    "#按照首字母顺序排列，除了IPython\n",
    "from lxml import etree\n",
    "import requests\n",
    "from requests.structures import CaseInsensitiveDict\n",
    "import time\n",
    "from IPython.core.display import HTML\n",
    "from IPython.display import display\n",
    "\n",
    "book_info = []\n",
    "page = 1\n",
    "\n",
    "while 1:\n",
    "    next_page_url = f'https://book.douban.com/tag/%E6%BC%AB%E7%94%BB?start={(page-1)*20}%type=T' #若没有将中文自动化转译，需要手工转移\n",
    "    headers = CaseInsensitiveDict()\n",
    "    headers[\"User-Agent\"] = \"Mozilla/5.0 (Windows NT 10.0; Win64; x64) AppleWebKit/537.36 (KHTML, like Gecko) Chrome/100.0.4896.88 Safari/537.36\"\n",
    "    resp = requests.get(url=next_page_url, headers=headers)\n",
    "    dom = etree.HTML(resp.text)\n",
    "\n",
    "    for block in dom.xpath(\"//li[@class='subject-item']\"):\n",
    "\n",
    "        title = ''\n",
    "        elem_title = block.xpath(\".//div[@class='info']/h2/a\") #是个列表\n",
    "        # print(elem_title) \n",
    "        # print(elem_title[0])\n",
    "        if elem_title:\n",
    "            title =''.join(elem_title[0].itertext()).replace(' ','').replace('\\n','')\n",
    "        # print(title)\n",
    "\n",
    "        price = -1\n",
    "        elem_price =  block.xpath(\".//div[@class='info']/div[@class='ft']/div[@class='cart-actions']/span[@class='buy-info']/a/text()\") #是个列表\n",
    "        # print(elem_price)\n",
    "        if elem_price:\n",
    "            s = elem_price[0].strip()\n",
    "            price = float(s[s.find(\"版\")+2:s.find(\"元\")])\n",
    "        # print(price)\n",
    "        print(title,price)\n",
    "\n",
    "        cover = ''\n",
    "        elem_cover = block.xpath(\".//img/@src\")\n",
    "        if elem_cover:\n",
    "            cover = elem_cover[0]\n",
    "        # display(HTML(f'<img src={cover}>')) #notebook显示图片\n",
    "        book_info.append([title,cover,price])\n",
    "    page += 1\n",
    "       \n",
    "    time.sleep(5)\n",
    "\n",
    "    if page > 4:\n",
    "        break #可以设置翻几页，并且sleep(),不然太快了会被封"
   ]
  },
  {
   "cell_type": "code",
   "execution_count": null,
   "metadata": {},
   "outputs": [],
   "source": [
    "import csv\n",
    "\n",
    "with open('books.csv','w') as f:\n",
    "    csv_writer = csv.writer(f)\n",
    "    csv_writer.writerows(book_info)\n",
    "\n",
    "with open('books.csv','r') as f:\n",
    "    csv_reader = csv.reader(f)\n",
    "    for line in csv_reader:\n",
    "        print(line)\n",
    "\n",
    "##豆瓣提供了API可以直接用"
   ]
  },
  {
   "cell_type": "markdown",
   "metadata": {},
   "source": [
    "## 2.页面动态加载Ajax"
   ]
  },
  {
   "cell_type": "markdown",
   "metadata": {},
   "source": [
    "问题：dom.xpath()返回空列表\n",
    "\n",
    "怀疑内容不是页面包含的，而是javascript取到的\n",
    "\n",
    "右击内容-查看页面源码-发现里面没有该内容-说明使用javascript动态采集?"
   ]
  },
  {
   "cell_type": "code",
   "execution_count": 1,
   "metadata": {},
   "outputs": [
    {
     "data": {
      "text/plain": [
       "[]"
      ]
     },
     "execution_count": 1,
     "metadata": {},
     "output_type": "execute_result"
    }
   ],
   "source": [
    "import requests\n",
    "from lxml import etree\n",
    "\n",
    "url = 'https://www.bilibili.com/v/popular/all?spm_id_from=333.851.b_7072696d61727950616765546162.3'\n",
    "\n",
    "r = requests.get(url=url)\n",
    "dom = etree.HTML(r.text)\n",
    "dom.xpath(\"//div[@class='video-card']/div[@class='video-card__info']/p[@class='video-name']\")"
   ]
  },
  {
   "cell_type": "markdown",
   "metadata": {},
   "source": [
    "#### AJAX \n",
    "\n",
    "= Asynchronous JavaScript and XML（异步的 JavaScript 和 XML）。\n",
    "\n",
    "AJAX 不是新的编程语言，而是一种使用现有标准的新方法。\n",
    "\n",
    "AJAX 最大的优点是在不重新加载整个页面的情况下，可以与服务器交换数据并更新部分网页内容。\n",
    "\n",
    "AJAX 不需要任何浏览器插件，但需要用户允许JavaScript在浏览器上执行。"
   ]
  },
  {
   "cell_type": "code",
   "execution_count": 2,
   "metadata": {},
   "outputs": [
    {
     "data": {
      "text/html": [
       "<img src='https://tse1-mm.cn.bing.net/th/id/R-C.7c56ffd3524aba660fb81b8b1c37e751?rik=NxP4uXi80Lceug&riu=http%3a%2f%2fimage.yanhongzhi.com%2fimage%2fjava_web%2fajax%2f15460590782610.jpg&ehk=59AXJV1%2fbNH5dV%2fm%2fx8gBe3eP%2fm%2bFCTob1SlXq8G2U8%3d&risl=&pid=ImgRaw&r=0'>\n"
      ],
      "text/plain": [
       "<IPython.core.display.HTML object>"
      ]
     },
     "metadata": {},
     "output_type": "display_data"
    }
   ],
   "source": [
    "%%HTML\n",
    "<img src='https://tse1-mm.cn.bing.net/th/id/R-C.7c56ffd3524aba660fb81b8b1c37e751?rik=NxP4uXi80Lceug&riu=http%3a%2f%2fimage.yanhongzhi.com%2fimage%2fjava_web%2fajax%2f15460590782610.jpg&ehk=59AXJV1%2fbNH5dV%2fm%2fx8gBe3eP%2fm%2bFCTob1SlXq8G2U8%3d&risl=&pid=ImgRaw&r=0'>"
   ]
  },
  {
   "cell_type": "markdown",
   "metadata": {},
   "source": [
    "开发者工具-network-xhr\n",
    "\n",
    "表示通过javascript远程读取数据的内容"
   ]
  },
  {
   "cell_type": "markdown",
   "metadata": {},
   "source": [
    "#### JSON"
   ]
  },
  {
   "cell_type": "markdown",
   "metadata": {},
   "source": [
    "JavaScript Object Notation, more commonly known by the acronym JSON, is an open data interchange format that is both human and machine-readable. Despite the name JavaScript Object Notation, JSON is independent of any programming language and is a common API output in a wide variety of applications.\n",
    "\n",
    "JSON: JavaScript Object Notation(JavaScript 对象表示法)\n",
    "\n",
    "JSON 是存储和交换文本信息的语法，类似 XML。\n",
    "\n",
    "JSON 比 XML 更小、更快，更易解析。"
   ]
  },
  {
   "cell_type": "markdown",
   "metadata": {},
   "source": [
    "json本身用类似字典的嵌套结构直接定义了数据的结构，要获取某项数据只需要知道该数据在嵌套结构中的位置就可以；html本身是靠嵌套的标签形成的树状结构，要获取某项数据需要知道该数据在树状结构中的位置，而xpath就是在用dom表示的这个树状结构里表示确定位置信息的“路径”。"
   ]
  },
  {
   "cell_type": "code",
   "execution_count": 1,
   "metadata": {},
   "outputs": [
    {
     "data": {
      "text/plain": [
       "200"
      ]
     },
     "execution_count": 1,
     "metadata": {},
     "output_type": "execute_result"
    }
   ],
   "source": [
    "import requests\n",
    "from lxml import etree\n",
    "url = 'https://api.bilibili.com/x/web-interface/popular?ps=20&pn=1'\n",
    "resp = requests.get(url=url)\n",
    "resp.status_code"
   ]
  },
  {
   "cell_type": "code",
   "execution_count": 2,
   "metadata": {},
   "outputs": [
    {
     "data": {
      "text/plain": [
       "'{\"code\":0,\"message\":\"0\",\"ttl\":1,\"data\":{\"list\":[{\"aid\":854174470,\"videos\":1,\"tid\":47,\"tname\":\"短片·手书·配音\",\"copyright\":1,\"pic\":\"http://i0.hdslb.com/bfs/archive/0d7b33a530d580b9f21733d59ade480c245d5299.jpg\",\"title\":\"《 爷 爷 拯 救 不 完 了 》\",\"pubdate\":1652781788,\"ctime\":1652781447,\"desc\":\"(《梦幻西游》电脑版联动葫芦兄弟活动现已开启，有变身卡后是爷爷守护葫芦娃？还是葫芦娃守护爷爷？到梦幻三界和葫芦兄弟们“葫”闹蛇精！)\\\\n我呢，有一个朋友，啊当然这个朋友并不是我自己啊\\\\n是个在津都这座钢铁丛林中还梳着飞机头的飘逸男子\\\\n平时比较得瑟，上班时候还喜欢揩油自己有好感的同事\\\\n对此公司中的男同事是苦不堪言，叫苦不迭\\\\n他们领导平时也会劝兑他\\\\n说人生在世呢，多多少少要收敛一点，不能太狂放不羁\\\\n要么说这领导也是好领导\\\\n日以继夜的劝导下，我朋友展现出一幅醍醐灌顶的样子\\\\n领导一看很开心，说：\\\\n“只要你以后能改，我\",\"state\":0,\"duration\":983,\"rights\":{\"bp\":0,\"elec\":0,\"download\":0,\"movie\":0,\"pay\":0,\"hd5\":1,\"no_reprint\":1,\"autoplay\":1,\"ugc_pay\":0,\"is_cooperation\":0,\"ugc_pay_preview\":0,\"no_background\":0,\"arc_pay\":0,\"pay_free_watch\":0},\"owner\":{\"mid\":158119101,\"name\":\"远古黑金\",\"face\":\"http://i0.hdslb.com/bfs/face/2466b9fb0482ea9ea6bc3488306b5557771c5d79.jpg\"},\"stat\":{\"aid\":854174470,\"view\":1099700,\"danmaku\":4819,\"reply\":1574,\"favorite\":21123,\"coin\":26100,\"share\":4936,\"now_rank\":0,\"his_rank\":19,\"like\":132559,\"dislike\":0},\"dynamic\":\"16分钟的视频！相信我，最近真的要进入快速更新模式了\\\\n本期点赞过5w，15天，15天内再更新一期\\\\n我说到做到，绝不食言\\\\n再相信我最最最最最后一次吧！\",\"cid\":722472356,\"dimension\":{\"width\":1920,\"height\":1080,\"rotate\":0},\"season_id\":2339,\"short_link\":\"https://b23.tv/BV1i54y1Z76t\",\"short_link_v2\":\"https://b23.tv/BV1i54y1Z76t\",\"first_frame\":\"http://i1.hdslb.com/bfs/storyff/n220517a2gsotnq02gw0i2sjp85b8g4w_firsti.jpg\",\"bvid\":\"BV1i54y1Z76t\",\"season_type\":0,\"is_ogv\":false,\"ogv_info\":null,\"rcmd_reason\":{\"content\":\"百万播放\",\"corner_mark\":0}},{\"aid\":214066765,\"videos\":1,\"tid\":215,\"tname\":\"美食记录\",\"copyright\":1,\"pic\":\"http://i2.hdslb.com/bfs/archive/fba88571d8ff935ff74b9d964187729088231df9.jpg\",\"title\":\"做出来之后玩了四个小时 愣是没舍得吃\",\"pubdate\":1652702824,\"ctime\":1652702824,\"desc\":\"\",\"state\":0,\"duration\":11,\"mission_id\":558681,\"rights\":{\"bp\":0,\"elec\":0,\"download\":0,\"movie\":0,\"pay\":0,\"hd5\":0,\"no_reprint\":1,\"autoplay\":1,\"ugc_pay\":0,\"is_cooperation\":0,\"ugc_pay_preview\":0,\"no_background\":0,\"arc_pay\":0,\"pay_free_watch\":0},\"owner\":{\"mid\":1895195099,\"name\":\"江寻千\",\"face\":\"http://i2.hdslb.com/bfs/face/02ce89f5229b35e8a733cc4ea08bc30fcd870d8d.jpg\"},\"stat\":{\"aid\":214066765,\"view\":2795941,\"danmaku\":1030,\"reply\":3651,\"favorite\":91217,\"coin\":34291,\"share\":56236,\"now_rank\":0,\"his_rank\":1,\"like\":277615,\"dislike\":0},\"dynamic\":\"\",\"cid\":721820985,\"dimension\":{\"width\":1920,\"height\":1080,\"rotate\":0},\"short_link\":\"https://b23.tv/BV1ha411J7K4\",\"short_link_v2\":\"https://b23.tv/BV1ha411J7K4\",\"first_frame\":\"http://i1.hdslb.com/bfs/storyff/n220516qn16hhldvr6hhm3qf0klsst2j_firsti.jpg\",\"bvid\":\"BV1ha411J7K4\",\"season_type\":0,\"is_ogv\":false,\"ogv_info\":null,\"rcmd_reason\":{\"content\":\"百万播放\",\"corner_mark\":0}},{\"aid\":469137848,\"videos\":1,\"tid\":76,\"tname\":\"美食制作\",\"copyright\":1,\"pic\":\"http://i0.hdslb.com/bfs/archive/fb29c0e9f5a46bf4c6a27d356faa6bf6c65ea267.jpg\",\"title\":\"我打赌，这个猫咪做出来你能玩一天\",\"pubdate\":1652803288,\"ctime\":1652803288,\"desc\":\"\",\"state\":0,\"duration\":224,\"mission_id\":558681,\"rights\":{\"bp\":0,\"elec\":0,\"download\":0,\"movie\":0,\"pay\":0,\"hd5\":0,\"no_reprint\":1,\"autoplay\":1,\"ugc_pay\":0,\"is_cooperation\":0,\"ugc_pay_preview\":0,\"no_background\":0,\"arc_pay\":0,\"pay_free_watch\":0},\"owner\":{\"mid\":1895195099,\"name\":\"江寻千\",\"face\":\"http://i2.hdslb.com/bfs/face/02ce89f5229b35e8a733cc4ea08bc30fcd870d8d.jpg\"},\"stat\":{\"aid\":469137848,\"view\":660522,\"danmaku\":1741,\"reply\":1832,\"favorite\":35023,\"coin\":15007,\"share\":12376,\"now_rank\":0,\"his_rank\":0,\"like\":68584,\"dislike\":0},\"dynamic\":\"\",\"cid\":722808912,\"dimension\":{\"width\":1920,\"height\":1080,\"rotate\":0},\"short_link\":\"https://b23.tv/BV1o5411973k\",\"short_link_v2\":\"https://b23.tv/BV1o5411973k\",\"first_frame\":\"http://i1.hdslb.com/bfs/storyff/n220517a263i7vfva99p1q1dz2i2lssz_firsti.jpg\",\"bvid\":\"BV1o5411973k\",\"season_type\":0,\"is_ogv\":false,\"ogv_info\":null,\"rcmd_reason\":{\"content\":\"6万点赞\",\"corner_mark\":1}},{\"aid\":341507397,\"videos\":1,\"tid\":228,\"tname\":\"人文历史\",\"copyright\":1,\"pic\":\"http://i1.hdslb.com/bfs/archive/1cbd664905f4fd0e5207d9ae5655610e78f061d6.jpg\",\"title\":\"沙县小吃史上第一条广告！\",\"pubdate\":1652684400,\"ctime\":1652684014,\"desc\":\"沙县现在这么能玩的吗？这个广告片我可以！！超有梗，福建文旅最近支棱起来了啊！！\",\"state\":0,\"duration\":220,\"rights\":{\"bp\":0,\"elec\":0,\"download\":0,\"movie\":0,\"pay\":0,\"hd5\":1,\"no_reprint\":1,\"autoplay\":0,\"ugc_pay\":0,\"is_cooperation\":0,\"ugc_pay_preview\":0,\"no_background\":0,\"arc_pay\":0,\"pay_free_watch\":0},\"owner\":{\"mid\":20390404,\"name\":\"东南卫视\",\"face\":\"http://i1.hdslb.com/bfs/face/6389e9ffc660620461089adaf0198d6fc074cbdc.jpg\"},\"stat\":{\"aid\":341507397,\"view\":2220776,\"danmaku\":6788,\"reply\":8067,\"favorite\":30767,\"coin\":66067,\"share\":69184,\"now_rank\":0,\"his_rank\":5,\"like\":173947,\"dislike\":0},\"dynamic\":\"\",\"cid\":723088572,\"dimension\":{\"width\":1920,\"height\":1080,\"rotate\":0},\"short_link\":\"https://b23.tv/BV16R4y1A7S4\",\"short_link_v2\":\"https://b23.tv/BV16R4y1A7S4\",\"first_frame\":\"http://i2.hdslb.com/bfs/storyff/n220518a2zbsvzjhfcdmg1ul9qqq8bs7_firsti.jpg\",\"bvid\":\"BV16R4y1A7S4\",\"season_type\":0,\"is_ogv\":false,\"ogv_info\":null,\"rcmd_reason\":{\"content\":\"百万播放\",\"corner_mark\":1}},{\"aid\":596550914,\"videos\":1,\"tid\":162,\"tname\":\"绘画\",\"copyright\":1,\"pic\":\"http://i2.hdslb.com/bfs/archive/5435c311313a161f5013399f84215f599f091904.jpg\",\"title\":\"大爷说这幅最好看，说这是画了两个小年轻在处对象哈哈\",\"pubdate\":1652606392,\"ctime\":1652606392,\"desc\":\"-\",\"state\":0,\"duration\":506,\"mission_id\":562036,\"rights\":{\"bp\":0,\"elec\":0,\"download\":0,\"movie\":0,\"pay\":0,\"hd5\":1,\"no_reprint\":1,\"autoplay\":1,\"ugc_pay\":0,\"is_cooperation\":0,\"ugc_pay_preview\":0,\"no_background\":0,\"arc_pay\":0,\"pay_free_watch\":0},\"owner\":{\"mid\":410682880,\"name\":\"hello刘小备\",\"face\":\"http://i1.hdslb.com/bfs/face/c07fc97d4de67ef870ab3c944a804aa3289018d3.jpg\"},\"stat\":{\"aid\":596550914,\"view\":2629655,\"danmaku\":4569,\"reply\":3568,\"favorite\":18973,\"coin\":89633,\"share\":5118,\"now_rank\":0,\"his_rank\":9,\"like\":139057,\"dislike\":0},\"dynamic\":\"\",\"cid\":720803867,\"dimension\":{\"width\":1920,\"height\":1080,\"rotate\":0},\"short_link\":\"https://b23.tv/BV1zB4y1y7Sf\",\"short_link_v2\":\"https://b23.tv/BV1zB4y1y7Sf\",\"up_from_v2\":28,\"first_frame\":\"http://i0.hdslb.com/bfs/storyff/n220515qnkxgfjs8dv6mi1i3enoqp4m1_firsti.jpg\",\"bvid\":\"BV1zB4y1y7Sf\",\"season_type\":0,\"is_ogv\":false,\"ogv_info\":null,\"rcmd_reason\":{\"content\":\"百万播放\",\"corner_mark\":1}},{\"aid\":769058280,\"videos\":1,\"tid\":22,\"tname\":\"鬼畜调教\",\"copyright\":1,\"pic\":\"http://i1.hdslb.com/bfs/archive/9090b48b4316a8d05b637f2a0790b4fa394a61ff.jpg\",\"title\":\"云南的和不是云南的都沉默了\",\"pubdate\":1652522700,\"ctime\":1652512627,\"desc\":\"通宵做了快二十个小时 快裂开了 我的建议是立刻对我进行一个夸夸\\\\n另外长按点赞可以看到up主磕头！！谢谢大家了！给大家磕头啦！\\\\n微博@深海色带鱼 \",\"state\":0,\"duration\":47,\"rights\":{\"bp\":0,\"elec\":0,\"download\":0,\"movie\":0,\"pay\":0,\"hd5\":0,\"no_reprint\":1,\"autoplay\":1,\"ugc_pay\":0,\"is_cooperation\":0,\"ugc_pay_preview\":0,\"no_background\":0,\"arc_pay\":0,\"pay_free_watch\":0},\"owner\":{\"mid\":5374954,\"name\":\"深海色带鱼\",\"face\":\"http://i1.hdslb.com/bfs/face/68a02612a95b59e3895d8b55e91a556a84d1ff16.jpg\"},\"stat\":{\"aid\":769058280,\"view\":5874143,\"danmaku\":2745,\"reply\":6162,\"favorite\":53495,\"coin\":48056,\"share\":43414,\"now_rank\":0,\"his_rank\":2,\"like\":279353,\"dislike\":0},\"dynamic\":\"1！5！哥们在这给你说唱~\",\"cid\":719920293,\"dimension\":{\"width\":1080,\"height\":1920,\"rotate\":0},\"season_id\":100976,\"short_link\":\"https://b23.tv/BV1Tr4y1b7VN\",\"short_link_v2\":\"https://b23.tv/BV1Tr4y1b7VN\",\"first_frame\":\"http://i2.hdslb.com/bfs/storyff/n220514a21w5bipu9ka4us27dj7tv2kx_firsti.jpg\",\"bvid\":\"BV1Tr4y1b7VN\",\"season_type\":0,\"is_ogv\":false,\"ogv_info\":null,\"rcmd_reason\":{\"content\":\"百万播放\",\"corner_mark\":1}},{\"aid\":384233447,\"videos\":1,\"tid\":130,\"tname\":\"音乐综合\",\"copyright\":1,\"pic\":\"http://i2.hdslb.com/bfs/archive/d83cf8320ab3a63149063a985fd41cde293672b4.jpg\",\"title\":\"云 南 战 车\",\"pubdate\":1652793336,\"ctime\":1652793336,\"desc\":\"\",\"state\":0,\"duration\":159,\"mission_id\":530653,\"rights\":{\"bp\":0,\"elec\":0,\"download\":0,\"movie\":0,\"pay\":0,\"hd5\":1,\"no_reprint\":1,\"autoplay\":1,\"ugc_pay\":0,\"is_cooperation\":0,\"ugc_pay_preview\":0,\"no_background\":0,\"arc_pay\":0,\"pay_free_watch\":0},\"owner\":{\"mid\":1773094,\"name\":\"圣屠\",\"face\":\"http://i1.hdslb.com/bfs/face/99771f1bf63f3c9ac2acae8172b4926aa48c3456.jpg\"},\"stat\":{\"aid\":384233447,\"view\":511762,\"danmaku\":752,\"reply\":1031,\"favorite\":5775,\"coin\":12813,\"share\":7149,\"now_rank\":0,\"his_rank\":0,\"like\":27127,\"dislike\":0},\"dynamic\":\"#全能音乐挑战赛# 众所周知，德国战车是一支来自云南的乐队 #我是云南的# #战车#\",\"cid\":722668651,\"dimension\":{\"width\":1920,\"height\":1080,\"rotate\":0},\"short_link\":\"https://b23.tv/BV1DZ4y187yQ\",\"short_link_v2\":\"https://b23.tv/BV1DZ4y187yQ\",\"first_frame\":\"http://i1.hdslb.com/bfs/storyff/n220517ad3bjj2juvf4o0c2tdnafokyi_firsti.jpg\",\"bvid\":\"BV1DZ4y187yQ\",\"season_type\":0,\"is_ogv\":false,\"ogv_info\":null,\"rcmd_reason\":{\"content\":\"\",\"corner_mark\":0}},{\"aid\":256559409,\"videos\":1,\"tid\":208,\"tname\":\"校园学习\",\"copyright\":1,\"pic\":\"http://i0.hdslb.com/bfs/archive/94219c7d39803016ea52ef17809afa97cca101a2.jpg\",\"title\":\"全文都看不懂，七选五次次满分\",\"pubdate\":1652627560,\"ctime\":1652627560,\"desc\":\"点赞过万立马更新\",\"state\":0,\"duration\":664,\"mission_id\":600878,\"rights\":{\"bp\":0,\"elec\":0,\"download\":0,\"movie\":0,\"pay\":0,\"hd5\":1,\"no_reprint\":1,\"autoplay\":1,\"ugc_pay\":0,\"is_cooperation\":0,\"ugc_pay_preview\":0,\"no_background\":0,\"arc_pay\":0,\"pay_free_watch\":0},\"owner\":{\"mid\":1552078337,\"name\":\"诺千金姐姐\",\"face\":\"http://i2.hdslb.com/bfs/face/35f27f1428d780e50d8dffb3e31d439f184d62e9.jpg\"},\"stat\":{\"aid\":256559409,\"view\":567157,\"danmaku\":1130,\"reply\":1458,\"favorite\":42774,\"coin\":8982,\"share\":4458,\"now_rank\":0,\"his_rank\":72,\"like\":31011,\"dislike\":0},\"dynamic\":\"\",\"cid\":721174874,\"dimension\":{\"width\":1920,\"height\":1080,\"rotate\":0},\"season_id\":329163,\"short_link\":\"https://b23.tv/BV1dY411c7Dj\",\"short_link_v2\":\"https://b23.tv/BV1dY411c7Dj\",\"first_frame\":\"http://i1.hdslb.com/bfs/storyff/n220515a21qoi6px5r96ld1lksq7iphl_firsti.jpg\",\"bvid\":\"BV1dY411c7Dj\",\"season_type\":0,\"is_ogv\":false,\"ogv_info\":null,\"rcmd_reason\":{\"content\":\"\",\"corner_mark\":0}},{\"aid\":639105127,\"videos\":1,\"tid\":137,\"tname\":\"明星综合\",\"copyright\":1,\"pic\":\"http://i1.hdslb.com/bfs/archive/3721effaeaf1328783fd830221656542b1d9a9de.jpg\",\"title\":\"我 是 日 本 的\",\"pubdate\":1652681034,\"ctime\":1652681034,\"desc\":\"近期疫情，大家不要乱跑哦。没看够？这里还有\\\\n文艺面馆吃川菜：BV1gU4y1S7ik/\\\\n 臭豆腐乳真～～好吃：BV1rF411u7cS? \\\\n最强寿司：BV14F411M7Np?\\\\n 隔离结束想吃到发疯：BV1LF411G7dN? \\\\n上海加油！：BV1aL4y1j7kR? \\\\n浩二哥的隔离生活：BV1dq4y1h7AV? \\\\n最下饭的男人vs最搞笑的男人：BV1Hu411z7Uo? \\\\n花3000去扭蛋？好心痛：BV1544y1M7Sz/\",\"state\":0,\"duration\":34,\"mission_id\":577055,\"rights\":{\"bp\":0,\"elec\":0,\"download\":0,\"movie\":0,\"pay\":0,\"hd5\":1,\"no_reprint\":1,\"autoplay\":1,\"ugc_pay\":0,\"is_cooperation\":0,\"ugc_pay_preview\":0,\"no_background\":0,\"arc_pay\":0,\"pay_free_watch\":0},\"owner\":{\"mid\":507521207,\"name\":\"矢野浩二\",\"face\":\"http://i2.hdslb.com/bfs/face/3594ab2ab990b75ce68f197bfde49285858eba7f.jpg\"},\"stat\":{\"aid\":639105127,\"view\":3317618,\"danmaku\":2357,\"reply\":4976,\"favorite\":14874,\"coin\":32242,\"share\":9263,\"now_rank\":0,\"his_rank\":2,\"like\":274657,\"dislike\":0},\"dynamic\":\"超强洗脑节奏之我是日本的\",\"cid\":721545907,\"dimension\":{\"width\":1440,\"height\":2560,\"rotate\":0},\"season_id\":420720,\"short_link\":\"https://b23.tv/BV1wY4y1k7nq\",\"short_link_v2\":\"https://b23.tv/BV1wY4y1k7nq\",\"first_frame\":\"http://i1.hdslb.com/bfs/storyff/n220516qnsrtelxgk4ezp3sw8m41wel3_firsti.jpg\",\"bvid\":\"BV1wY4y1k7nq\",\"season_type\":0,\"is_ogv\":false,\"ogv_info\":null,\"rcmd_reason\":{\"content\":\"百万播放\",\"corner_mark\":1}},{\"aid\":684122094,\"videos\":1,\"tid\":172,\"tname\":\"手机游戏\",\"copyright\":1,\"pic\":\"http://i2.hdslb.com/bfs/archive/01288832400f1851dff9e22e85e6fc1d5758e229.jpg\",\"title\":\"【战斗首曝】逆水寒手游开启预约，武侠开放世界与战斗实机画面前瞻\",\"pubdate\":1652752800,\"ctime\":1652670065,\"desc\":\"各位少侠久等了！\\\\n《逆水寒》手游现已开放预约，本作将带来一次对MMO游戏陈旧套路彻底颠覆的破局尝试。\\\\n本次公开的逆水寒手游实机演示，包括游戏画面与战斗实机，同样是从游戏引擎中直接实时演算得来的真实画面，象征了《逆水寒》手游理论上的最高画面水准，并非CG动画。\\\\n（因小寒经验不足，本视频码率较高，上传压缩后细节失真严重，有条件的B站大会员玩家可以通过选择“4K清晰度”观看正常画质，对此造成不便小寒深表歉意TAT ）\",\"state\":0,\"duration\":159,\"rights\":{\"bp\":0,\"elec\":0,\"download\":0,\"movie\":0,\"pay\":0,\"hd5\":0,\"no_reprint\":1,\"autoplay\":1,\"ugc_pay\":0,\"is_cooperation\":0,\"ugc_pay_preview\":0,\"no_background\":0,\"arc_pay\":0,\"pay_free_watch\":0},\"owner\":{\"mid\":21619102,\"name\":\"网易逆水寒\",\"face\":\"http://i1.hdslb.com/bfs/face/26a2dfdac6e90efcda7cd62b9a364712576b759b.jpg\"},\"stat\":{\"aid\":684122094,\"view\":1277911,\"danmaku\":3186,\"reply\":7533,\"favorite\":28079,\"coin\":24094,\"share\":9391,\"now_rank\":0,\"his_rank\":30,\"like\":64248,\"dislike\":0},\"dynamic\":\"\",\"cid\":722034200,\"dimension\":{\"width\":2778,\"height\":1562,\"rotate\":0},\"short_link\":\"https://b23.tv/BV1zU4y1m75D\",\"short_link_v2\":\"https://b23.tv/BV1zU4y1m75D\",\"first_frame\":\"http://i1.hdslb.com/bfs/storyff/n220517a22n0tbdzjor3me27jiseinue_firsti.jpg\",\"bvid\":\"BV1zU4y1m75D\",\"season_type\":0,\"is_ogv\":false,\"ogv_info\":null,\"rcmd_reason\":{\"content\":\"百万播放\",\"corner_mark\":1}},{\"aid\":981629090,\"videos\":1,\"tid\":138,\"tname\":\"搞笑\",\"copyright\":1,\"pic\":\"http://i2.hdslb.com/bfs/archive/6e2fac5944eb848e87515914b0a742806ca761a9.jpg\",\"title\":\"《 不 醒 人 室 》\",\"pubdate\":1652855166,\"ctime\":1652789594,\"desc\":\"寝室关系不和怎么办？谁也别想好\",\"state\":0,\"duration\":113,\"mission_id\":647536,\"rights\":{\"bp\":0,\"elec\":0,\"download\":0,\"movie\":0,\"pay\":0,\"hd5\":1,\"no_reprint\":1,\"autoplay\":1,\"ugc_pay\":0,\"is_cooperation\":0,\"ugc_pay_preview\":0,\"no_background\":0,\"arc_pay\":0,\"pay_free_watch\":0},\"owner\":{\"mid\":587618113,\"name\":\"姚姚不是P30\",\"face\":\"http://i1.hdslb.com/bfs/face/f7dfb91a42f081980339cde0874f56ddcc9750b6.jpg\"},\"stat\":{\"aid\":981629090,\"view\":130668,\"danmaku\":161,\"reply\":204,\"favorite\":2063,\"coin\":1338,\"share\":1923,\"now_rank\":0,\"his_rank\":0,\"like\":16428,\"dislike\":0},\"dynamic\":\"\",\"cid\":722595667,\"dimension\":{\"width\":1080,\"height\":1920,\"rotate\":0},\"short_link\":\"https://b23.tv/BV1at4y1x7D3\",\"short_link_v2\":\"https://b23.tv/BV1at4y1x7D3\",\"first_frame\":\"http://i0.hdslb.com/bfs/storyff/n220517a21cvwvjr0du705jaik4z1dlp_firsti.jpg\",\"bvid\":\"BV1at4y1x7D3\",\"season_type\":0,\"is_ogv\":false,\"ogv_info\":null,\"rcmd_reason\":{\"content\":\"\",\"corner_mark\":0}},{\"aid\":384150563,\"videos\":1,\"tid\":21,\"tname\":\"日常\",\"copyright\":1,\"pic\":\"http://i2.hdslb.com/bfs/archive/59e10bdacc7e07b4c234322cfef29a95dbb0178f.jpg\",\"title\":\"用时一个多月成功骑行穿越阿里中线，亚热乡水井房扎营休息一天\",\"pubdate\":1652796021,\"ctime\":1652796021,\"desc\":\"-\",\"state\":0,\"duration\":1391,\"mission_id\":584308,\"rights\":{\"bp\":0,\"elec\":0,\"download\":0,\"movie\":0,\"pay\":0,\"hd5\":0,\"no_reprint\":1,\"autoplay\":1,\"ugc_pay\":0,\"is_cooperation\":0,\"ugc_pay_preview\":0,\"no_background\":0,\"arc_pay\":0,\"pay_free_watch\":0},\"owner\":{\"mid\":697166795,\"name\":\"徐云流浪中国\",\"face\":\"http://i2.hdslb.com/bfs/face/b141d301f1c6a5964dfbd2393fd5a67e783d3286.jpg\"},\"stat\":{\"aid\":384150563,\"view\":715184,\"danmaku\":29496,\"reply\":5808,\"favorite\":11881,\"coin\":125005,\"share\":3529,\"now_rank\":0,\"his_rank\":15,\"like\":101818,\"dislike\":0},\"dynamic\":\"\",\"cid\":722664192,\"dimension\":{\"width\":1920,\"height\":1080,\"rotate\":0},\"short_link\":\"https://b23.tv/BV1vZ4y187Zs\",\"short_link_v2\":\"https://b23.tv/BV1vZ4y187Zs\",\"up_from_v2\":35,\"first_frame\":\"http://i2.hdslb.com/bfs/storyff/n220517a2307nve40a7rme13n4ouvs6a_firsti.jpg\",\"bvid\":\"BV1vZ4y187Zs\",\"season_type\":0,\"is_ogv\":false,\"ogv_info\":null,\"rcmd_reason\":{\"content\":\"10万点赞\",\"corner_mark\":1}},{\"aid\":341728960,\"videos\":1,\"tid\":124,\"tname\":\"社科·法律·心理\",\"copyright\":1,\"pic\":\"http://i2.hdslb.com/bfs/archive/b1a448735e81284070c8bb80504ec66e25109827.jpg\",\"title\":\"【罗翔】结核病人上学记，学生可以告学校吗？\",\"pubdate\":1652845471,\"ctime\":1652845471,\"desc\":\"前段时间，一名罹患结核病的学生发邮件向我求助，害怕学校不予录取，这个学生的问题也我想起了多年前的“乙肝歧视第一案”。\",\"state\":0,\"duration\":571,\"rights\":{\"bp\":0,\"elec\":0,\"download\":0,\"movie\":0,\"pay\":0,\"hd5\":0,\"no_reprint\":1,\"autoplay\":1,\"ugc_pay\":0,\"is_cooperation\":0,\"ugc_pay_preview\":0,\"no_background\":0,\"arc_pay\":0,\"pay_free_watch\":0},\"owner\":{\"mid\":517327498,\"name\":\"罗翔说刑法\",\"face\":\"http://i1.hdslb.com/bfs/face/4e5d0a51273fe3f8fabc700b6a71bb8a38c9e21e.jpg\"},\"stat\":{\"aid\":341728960,\"view\":479432,\"danmaku\":1517,\"reply\":2852,\"favorite\":3141,\"coin\":9108,\"share\":837,\"now_rank\":0,\"his_rank\":0,\"like\":54246,\"dislike\":0},\"dynamic\":\"前段时间，我收到了一封求助邮件。一位同学报考某顶尖高校，初试成绩排名第一，但是年初被查出罹患肺结核，他非常害怕会因此影响录取。\",\"cid\":723047720,\"dimension\":{\"width\":1920,\"height\":1080,\"rotate\":0},\"short_link\":\"https://b23.tv/BV1TR4y1w716\",\"short_link_v2\":\"https://b23.tv/BV1TR4y1w716\",\"first_frame\":\"http://i1.hdslb.com/bfs/storyff/n220518a21d1hq45wmz04clr7e5jsk1x_firsti.jpg\",\"bvid\":\"BV1TR4y1w716\",\"season_type\":0,\"is_ogv\":false,\"ogv_info\":null,\"rcmd_reason\":{\"content\":\"5万点赞\",\"corner_mark\":1}},{\"aid\":299041116,\"videos\":1,\"tid\":204,\"tname\":\"环球\",\"copyright\":1,\"pic\":\"http://i2.hdslb.com/bfs/archive/cdb734f6d4c83064fe9662737ff14ad0ec645834.jpg\",\"title\":\"“打倒北约 打倒帝国主义”\",\"pubdate\":1652678223,\"ctime\":1652678223,\"desc\":\"5月15日，大批土耳其民众示威游行，抗议美国和北约在土耳其的军事存在。\",\"state\":0,\"duration\":15,\"rights\":{\"bp\":0,\"elec\":0,\"download\":0,\"movie\":0,\"pay\":0,\"hd5\":1,\"no_reprint\":1,\"autoplay\":1,\"ugc_pay\":0,\"is_cooperation\":0,\"ugc_pay_preview\":0,\"no_background\":0,\"arc_pay\":0,\"pay_free_watch\":0},\"owner\":{\"mid\":222103174,\"name\":\"央视网\",\"face\":\"http://i1.hdslb.com/bfs/face/297c5875534792181c8c999779771eae7d6f09eb.jpg\"},\"stat\":{\"aid\":299041116,\"view\":608431,\"danmaku\":528,\"reply\":1702,\"favorite\":5878,\"coin\":894,\"share\":1625,\"now_rank\":0,\"his_rank\":0,\"like\":80994,\"dislike\":0},\"dynamic\":\"小央看天下【“打倒北约 打倒帝国主义”】5月15日，大批土耳其民众示威游行，抗议美国和北约在土耳其的军事存在。\",\"cid\":721510237,\"dimension\":{\"width\":1080,\"height\":1920,\"rotate\":0},\"short_link\":\"https://b23.tv/BV1aF41177wL\",\"short_link_v2\":\"https://b23.tv/BV1aF41177wL\",\"first_frame\":\"http://i1.hdslb.com/bfs/storyff/n220516a2ap1lkf3cek3u1tnpku7ouew_firsti.jpg\",\"bvid\":\"BV1aF41177wL\",\"season_type\":0,\"is_ogv\":false,\"ogv_info\":null,\"rcmd_reason\":{\"content\":\"7万点赞\",\"corner_mark\":1}},{\"aid\":468987010,\"videos\":1,\"tid\":138,\"tname\":\"搞笑\",\"copyright\":1,\"pic\":\"http://i0.hdslb.com/bfs/archive/aaafceff815678dde981401ed479c66ead4940da.jpg\",\"title\":\"为什么我国不强制服兵役\",\"pubdate\":1652332838,\"ctime\":1652332838,\"desc\":\"-\",\"state\":0,\"duration\":56,\"mission_id\":607107,\"rights\":{\"bp\":0,\"elec\":0,\"download\":0,\"movie\":0,\"pay\":0,\"hd5\":0,\"no_reprint\":0,\"autoplay\":1,\"ugc_pay\":0,\"is_cooperation\":0,\"ugc_pay_preview\":0,\"no_background\":0,\"arc_pay\":0,\"pay_free_watch\":0},\"owner\":{\"mid\":430956296,\"name\":\"Mia小桃子\",\"face\":\"http://i2.hdslb.com/bfs/face/b9cfd4312399293798c5def2421aa3d146958d11.jpg\"},\"stat\":{\"aid\":468987010,\"view\":2381063,\"danmaku\":1518,\"reply\":6299,\"favorite\":36546,\"coin\":6192,\"share\":24724,\"now_rank\":0,\"his_rank\":44,\"like\":212013,\"dislike\":0},\"dynamic\":\"\",\"cid\":718174735,\"dimension\":{\"width\":1080,\"height\":1440,\"rotate\":0},\"short_link\":\"https://b23.tv/BV1J5411978t\",\"short_link_v2\":\"https://b23.tv/BV1J5411978t\",\"up_from_v2\":20,\"first_frame\":\"http://i2.hdslb.com/bfs/storyff/n220512qnum154bbdixp11u5esk7zkna_firsti.jpg\",\"bvid\":\"BV1J5411978t\",\"season_type\":0,\"is_ogv\":false,\"ogv_info\":null,\"rcmd_reason\":{\"content\":\"百万播放\",\"corner_mark\":1}},{\"aid\":981667387,\"videos\":1,\"tid\":171,\"tname\":\"电子竞技\",\"copyright\":1,\"pic\":\"http://i1.hdslb.com/bfs/archive/c2ca457d92640cff27184dda1d0633211515afff.jpg\",\"title\":\"30+连败赏金猎人？我能创造历史吗？\",\"pubdate\":1652756400,\"ctime\":1652756411,\"desc\":\"如果有一天 你决定放弃一件你觉得很可惜的事情\\\\n希望可以回来看这个视频\\\\n你想做的事情一定比我这个30+连败更有意义\\\\n请你自省-改进-调整\\\\n最后再坚持一下\\\\n光明就在身边了\",\"state\":0,\"duration\":505,\"mission_id\":630309,\"rights\":{\"bp\":0,\"elec\":0,\"download\":0,\"movie\":0,\"pay\":0,\"hd5\":1,\"no_reprint\":1,\"autoplay\":1,\"ugc_pay\":0,\"is_cooperation\":0,\"ugc_pay_preview\":0,\"no_background\":0,\"arc_pay\":0,\"pay_free_watch\":0},\"owner\":{\"mid\":13904634,\"name\":\"我是TOO\",\"face\":\"http://i0.hdslb.com/bfs/face/b713bd6e8d3118e6349f05eaf70652399f48c195.jpg\"},\"stat\":{\"aid\":981667387,\"view\":941667,\"danmaku\":1827,\"reply\":1947,\"favorite\":16780,\"coin\":86120,\"share\":5968,\"now_rank\":0,\"his_rank\":21,\"like\":86937,\"dislike\":0},\"dynamic\":\"\",\"cid\":721950466,\"dimension\":{\"width\":2560,\"height\":1440,\"rotate\":0},\"season_id\":422547,\"short_link\":\"https://b23.tv/BV19t4y1x7sr\",\"short_link_v2\":\"https://b23.tv/BV19t4y1x7sr\",\"first_frame\":\"http://i0.hdslb.com/bfs/storyff/n220516a2h9tqqsyzkvcj2bqfrojzt6w_firsti.jpg\",\"bvid\":\"BV19t4y1x7sr\",\"season_type\":0,\"is_ogv\":false,\"ogv_info\":null,\"rcmd_reason\":{\"content\":\"8万点赞\",\"corner_mark\":1}},{\"aid\":726711905,\"videos\":1,\"tid\":212,\"tname\":\"美食侦探\",\"copyright\":1,\"pic\":\"http://i1.hdslb.com/bfs/archive/ffdd0db4906de5049017373dd6492ef17c551018.jpg\",\"title\":\"小蓝鲸  厨子探店¥367\",\"pubdate\":1652844601,\"ctime\":1652844604,\"desc\":\"BGM 陈小春《战无不胜》\",\"state\":0,\"duration\":188,\"mission_id\":623605,\"rights\":{\"bp\":0,\"elec\":0,\"download\":0,\"movie\":0,\"pay\":0,\"hd5\":0,\"no_reprint\":1,\"autoplay\":1,\"ugc_pay\":0,\"is_cooperation\":0,\"ugc_pay_preview\":0,\"no_background\":0,\"arc_pay\":0,\"pay_free_watch\":0},\"owner\":{\"mid\":544336675,\"name\":\"真探唐仁杰\",\"face\":\"http://i1.hdslb.com/bfs/face/f82b7cb6e6b9e2351bb201f668af10b66b4d0d5c.jpg\"},\"stat\":{\"aid\":726711905,\"view\":543707,\"danmaku\":726,\"reply\":1203,\"favorite\":1290,\"coin\":1015,\"share\":412,\"now_rank\":0,\"his_rank\":0,\"like\":37687,\"dislike\":0},\"dynamic\":\"厨子探店小蓝鲸，只讲真话不说屁话。武汉几大酒楼之一，今天来了有点出乎意料哦。\",\"cid\":722312115,\"dimension\":{\"width\":1080,\"height\":1920,\"rotate\":0},\"short_link\":\"https://b23.tv/BV1US4y1B7Sp\",\"short_link_v2\":\"https://b23.tv/BV1US4y1B7Sp\",\"first_frame\":\"http://i1.hdslb.com/bfs/storyff/n220517a2d3ktrvt075mw3no91vkr81z_firsti.jpg\",\"bvid\":\"BV1US4y1B7Sp\",\"season_type\":0,\"is_ogv\":false,\"ogv_info\":null,\"rcmd_reason\":{\"content\":\"\",\"corner_mark\":0}},{\"aid\":384201127,\"videos\":1,\"tid\":201,\"tname\":\"科学科普\",\"copyright\":1,\"pic\":\"http://i0.hdslb.com/bfs/archive/607e904b447c7120533518264bf5a9dd26a7929a.jpg\",\"title\":\"骂骂咧咧地夸这种铁线莲\",\"pubdate\":1652845884,\"ctime\":1652845885,\"desc\":\"\",\"state\":0,\"duration\":197,\"mission_id\":463414,\"rights\":{\"bp\":0,\"elec\":0,\"download\":0,\"movie\":0,\"pay\":0,\"hd5\":1,\"no_reprint\":1,\"autoplay\":1,\"ugc_pay\":0,\"is_cooperation\":0,\"ugc_pay_preview\":0,\"no_background\":0,\"arc_pay\":0,\"pay_free_watch\":0},\"owner\":{\"mid\":14804670,\"name\":\"无穷小亮的科普日常\",\"face\":\"http://i0.hdslb.com/bfs/face/6de12181ed59518fc7beff2046fb3218d50206cc.jpg\"},\"stat\":{\"aid\":384201127,\"view\":478820,\"danmaku\":1812,\"reply\":1522,\"favorite\":2246,\"coin\":2538,\"share\":1246,\"now_rank\":0,\"his_rank\":0,\"like\":53688,\"dislike\":0},\"dynamic\":\"\",\"cid\":723019171,\"dimension\":{\"width\":1080,\"height\":1920,\"rotate\":0},\"short_link\":\"https://b23.tv/BV1CZ4y187F1\",\"short_link_v2\":\"https://b23.tv/BV1CZ4y187F1\",\"first_frame\":\"http://i2.hdslb.com/bfs/storyff/n220518a23fr95kjy7qnkr1ds55kc82p_firsti.jpg\",\"bvid\":\"BV1CZ4y187F1\",\"season_type\":0,\"is_ogv\":false,\"ogv_info\":null,\"rcmd_reason\":{\"content\":\"5万点赞\",\"corner_mark\":1}},{\"aid\":981529339,\"videos\":1,\"tid\":76,\"tname\":\"美食制作\",\"copyright\":1,\"pic\":\"http://i0.hdslb.com/bfs/archive/ee76ae1244a735d408b3eca1bfe99e2c1bb61138.jpg\",\"title\":\"《 卷 死 自 己 》\",\"pubdate\":1652693400,\"ctime\":1652693409,\"desc\":\"爆更了\\\\n求三连\\\\n纯属娱乐视频不存在内涵哈，美食区大家都是好朋友\",\"state\":0,\"duration\":248,\"mission_id\":596802,\"rights\":{\"bp\":0,\"elec\":0,\"download\":0,\"movie\":0,\"pay\":0,\"hd5\":0,\"no_reprint\":1,\"autoplay\":1,\"ugc_pay\":0,\"is_cooperation\":0,\"ugc_pay_preview\":0,\"no_background\":0,\"arc_pay\":0,\"pay_free_watch\":0},\"owner\":{\"mid\":337521240,\"name\":\"记录生活的蛋黄派\",\"face\":\"http://i0.hdslb.com/bfs/face/9ba6c7a0d3a2ebfe9db2f46219ece98e210d0269.jpg\"},\"stat\":{\"aid\":981529339,\"view\":2161629,\"danmaku\":11126,\"reply\":2119,\"favorite\":9727,\"coin\":42040,\"share\":2023,\"now_rank\":0,\"his_rank\":7,\"like\":223234,\"dislike\":0},\"dynamic\":\"爆更了\\\\n求三连\",\"cid\":721476880,\"dimension\":{\"width\":1920,\"height\":1080,\"rotate\":0},\"short_link\":\"https://b23.tv/BV1At4y1x7n9\",\"short_link_v2\":\"https://b23.tv/BV1At4y1x7n9\",\"first_frame\":\"http://i0.hdslb.com/bfs/storyff/n220516a2mbnvw30zfqzj1kqtasard5f_firsti.jpg\",\"bvid\":\"BV1At4y1x7n9\",\"season_type\":0,\"is_ogv\":false,\"ogv_info\":null,\"rcmd_reason\":{\"content\":\"百万播放\",\"corner_mark\":1}},{\"aid\":641528549,\"videos\":1,\"tid\":138,\"tname\":\"搞笑\",\"copyright\":2,\"pic\":\"http://i1.hdslb.com/bfs/archive/6960ae208f71ea738a0c854c43311305b051803f.jpg\",\"title\":\"当年唐国强老师拍的山东蓝翔的广告原来是这样拍出来的！\",\"pubdate\":1652520549,\"ctime\":1652520549,\"desc\":\"转自https://weibo.com/tv/show/1034:4768076735119418\",\"state\":0,\"duration\":159,\"rights\":{\"bp\":0,\"elec\":0,\"download\":0,\"movie\":0,\"pay\":0,\"hd5\":0,\"no_reprint\":0,\"autoplay\":1,\"ugc_pay\":0,\"is_cooperation\":0,\"ugc_pay_preview\":0,\"no_background\":0,\"arc_pay\":0,\"pay_free_watch\":0},\"owner\":{\"mid\":476545374,\"name\":\"17岁反派里的持枪Boy\",\"face\":\"http://i0.hdslb.com/bfs/face/19ee1b5975969a47ba085cd1f628d86a479b9950.jpg\"},\"stat\":{\"aid\":641528549,\"view\":2932691,\"danmaku\":2016,\"reply\":3349,\"favorite\":14365,\"coin\":1623,\"share\":10477,\"now_rank\":0,\"his_rank\":33,\"like\":135060,\"dislike\":0},\"dynamic\":\"\",\"cid\":720047192,\"dimension\":{\"width\":844,\"height\":480,\"rotate\":0},\"short_link\":\"https://b23.tv/BV1iY4y147HY\",\"short_link_v2\":\"https://b23.tv/BV1iY4y147HY\",\"first_frame\":\"http://i2.hdslb.com/bfs/storyff/n220514a221vhr8trdbsus1x5b1hjb94_firsti.jpg\",\"bvid\":\"BV1iY4y147HY\",\"season_type\":0,\"is_ogv\":false,\"ogv_info\":null,\"rcmd_reason\":{\"content\":\"\",\"corner_mark\":0}}],\"no_more\":false}}'"
      ]
     },
     "execution_count": 2,
     "metadata": {},
     "output_type": "execute_result"
    }
   ],
   "source": [
    "#返回json格式，需要json解析\n",
    "resp.text"
   ]
  },
  {
   "cell_type": "code",
   "execution_count": 3,
   "metadata": {},
   "outputs": [
    {
     "data": {
      "text/plain": [
       "{'code': 0,\n",
       " 'message': '0',\n",
       " 'ttl': 1,\n",
       " 'data': {'list': [{'aid': 854174470,\n",
       "    'videos': 1,\n",
       "    'tid': 47,\n",
       "    'tname': '短片·手书·配音',\n",
       "    'copyright': 1,\n",
       "    'pic': 'http://i0.hdslb.com/bfs/archive/0d7b33a530d580b9f21733d59ade480c245d5299.jpg',\n",
       "    'title': '《 爷 爷 拯 救 不 完 了 》',\n",
       "    'pubdate': 1652781788,\n",
       "    'ctime': 1652781447,\n",
       "    'desc': '(《梦幻西游》电脑版联动葫芦兄弟活动现已开启，有变身卡后是爷爷守护葫芦娃？还是葫芦娃守护爷爷？到梦幻三界和葫芦兄弟们“葫”闹蛇精！)\\n我呢，有一个朋友，啊当然这个朋友并不是我自己啊\\n是个在津都这座钢铁丛林中还梳着飞机头的飘逸男子\\n平时比较得瑟，上班时候还喜欢揩油自己有好感的同事\\n对此公司中的男同事是苦不堪言，叫苦不迭\\n他们领导平时也会劝兑他\\n说人生在世呢，多多少少要收敛一点，不能太狂放不羁\\n要么说这领导也是好领导\\n日以继夜的劝导下，我朋友展现出一幅醍醐灌顶的样子\\n领导一看很开心，说：\\n“只要你以后能改，我',\n",
       "    'state': 0,\n",
       "    'duration': 983,\n",
       "    'rights': {'bp': 0,\n",
       "     'elec': 0,\n",
       "     'download': 0,\n",
       "     'movie': 0,\n",
       "     'pay': 0,\n",
       "     'hd5': 1,\n",
       "     'no_reprint': 1,\n",
       "     'autoplay': 1,\n",
       "     'ugc_pay': 0,\n",
       "     'is_cooperation': 0,\n",
       "     'ugc_pay_preview': 0,\n",
       "     'no_background': 0,\n",
       "     'arc_pay': 0,\n",
       "     'pay_free_watch': 0},\n",
       "    'owner': {'mid': 158119101,\n",
       "     'name': '远古黑金',\n",
       "     'face': 'http://i0.hdslb.com/bfs/face/2466b9fb0482ea9ea6bc3488306b5557771c5d79.jpg'},\n",
       "    'stat': {'aid': 854174470,\n",
       "     'view': 1099700,\n",
       "     'danmaku': 4819,\n",
       "     'reply': 1574,\n",
       "     'favorite': 21123,\n",
       "     'coin': 26100,\n",
       "     'share': 4936,\n",
       "     'now_rank': 0,\n",
       "     'his_rank': 19,\n",
       "     'like': 132559,\n",
       "     'dislike': 0},\n",
       "    'dynamic': '16分钟的视频！相信我，最近真的要进入快速更新模式了\\n本期点赞过5w，15天，15天内再更新一期\\n我说到做到，绝不食言\\n再相信我最最最最最后一次吧！',\n",
       "    'cid': 722472356,\n",
       "    'dimension': {'width': 1920, 'height': 1080, 'rotate': 0},\n",
       "    'season_id': 2339,\n",
       "    'short_link': 'https://b23.tv/BV1i54y1Z76t',\n",
       "    'short_link_v2': 'https://b23.tv/BV1i54y1Z76t',\n",
       "    'first_frame': 'http://i1.hdslb.com/bfs/storyff/n220517a2gsotnq02gw0i2sjp85b8g4w_firsti.jpg',\n",
       "    'bvid': 'BV1i54y1Z76t',\n",
       "    'season_type': 0,\n",
       "    'is_ogv': False,\n",
       "    'ogv_info': None,\n",
       "    'rcmd_reason': {'content': '百万播放', 'corner_mark': 0}},\n",
       "   {'aid': 214066765,\n",
       "    'videos': 1,\n",
       "    'tid': 215,\n",
       "    'tname': '美食记录',\n",
       "    'copyright': 1,\n",
       "    'pic': 'http://i2.hdslb.com/bfs/archive/fba88571d8ff935ff74b9d964187729088231df9.jpg',\n",
       "    'title': '做出来之后玩了四个小时 愣是没舍得吃',\n",
       "    'pubdate': 1652702824,\n",
       "    'ctime': 1652702824,\n",
       "    'desc': '',\n",
       "    'state': 0,\n",
       "    'duration': 11,\n",
       "    'mission_id': 558681,\n",
       "    'rights': {'bp': 0,\n",
       "     'elec': 0,\n",
       "     'download': 0,\n",
       "     'movie': 0,\n",
       "     'pay': 0,\n",
       "     'hd5': 0,\n",
       "     'no_reprint': 1,\n",
       "     'autoplay': 1,\n",
       "     'ugc_pay': 0,\n",
       "     'is_cooperation': 0,\n",
       "     'ugc_pay_preview': 0,\n",
       "     'no_background': 0,\n",
       "     'arc_pay': 0,\n",
       "     'pay_free_watch': 0},\n",
       "    'owner': {'mid': 1895195099,\n",
       "     'name': '江寻千',\n",
       "     'face': 'http://i2.hdslb.com/bfs/face/02ce89f5229b35e8a733cc4ea08bc30fcd870d8d.jpg'},\n",
       "    'stat': {'aid': 214066765,\n",
       "     'view': 2795941,\n",
       "     'danmaku': 1030,\n",
       "     'reply': 3651,\n",
       "     'favorite': 91217,\n",
       "     'coin': 34291,\n",
       "     'share': 56236,\n",
       "     'now_rank': 0,\n",
       "     'his_rank': 1,\n",
       "     'like': 277615,\n",
       "     'dislike': 0},\n",
       "    'dynamic': '',\n",
       "    'cid': 721820985,\n",
       "    'dimension': {'width': 1920, 'height': 1080, 'rotate': 0},\n",
       "    'short_link': 'https://b23.tv/BV1ha411J7K4',\n",
       "    'short_link_v2': 'https://b23.tv/BV1ha411J7K4',\n",
       "    'first_frame': 'http://i1.hdslb.com/bfs/storyff/n220516qn16hhldvr6hhm3qf0klsst2j_firsti.jpg',\n",
       "    'bvid': 'BV1ha411J7K4',\n",
       "    'season_type': 0,\n",
       "    'is_ogv': False,\n",
       "    'ogv_info': None,\n",
       "    'rcmd_reason': {'content': '百万播放', 'corner_mark': 0}},\n",
       "   {'aid': 469137848,\n",
       "    'videos': 1,\n",
       "    'tid': 76,\n",
       "    'tname': '美食制作',\n",
       "    'copyright': 1,\n",
       "    'pic': 'http://i0.hdslb.com/bfs/archive/fb29c0e9f5a46bf4c6a27d356faa6bf6c65ea267.jpg',\n",
       "    'title': '我打赌，这个猫咪做出来你能玩一天',\n",
       "    'pubdate': 1652803288,\n",
       "    'ctime': 1652803288,\n",
       "    'desc': '',\n",
       "    'state': 0,\n",
       "    'duration': 224,\n",
       "    'mission_id': 558681,\n",
       "    'rights': {'bp': 0,\n",
       "     'elec': 0,\n",
       "     'download': 0,\n",
       "     'movie': 0,\n",
       "     'pay': 0,\n",
       "     'hd5': 0,\n",
       "     'no_reprint': 1,\n",
       "     'autoplay': 1,\n",
       "     'ugc_pay': 0,\n",
       "     'is_cooperation': 0,\n",
       "     'ugc_pay_preview': 0,\n",
       "     'no_background': 0,\n",
       "     'arc_pay': 0,\n",
       "     'pay_free_watch': 0},\n",
       "    'owner': {'mid': 1895195099,\n",
       "     'name': '江寻千',\n",
       "     'face': 'http://i2.hdslb.com/bfs/face/02ce89f5229b35e8a733cc4ea08bc30fcd870d8d.jpg'},\n",
       "    'stat': {'aid': 469137848,\n",
       "     'view': 660522,\n",
       "     'danmaku': 1741,\n",
       "     'reply': 1832,\n",
       "     'favorite': 35023,\n",
       "     'coin': 15007,\n",
       "     'share': 12376,\n",
       "     'now_rank': 0,\n",
       "     'his_rank': 0,\n",
       "     'like': 68584,\n",
       "     'dislike': 0},\n",
       "    'dynamic': '',\n",
       "    'cid': 722808912,\n",
       "    'dimension': {'width': 1920, 'height': 1080, 'rotate': 0},\n",
       "    'short_link': 'https://b23.tv/BV1o5411973k',\n",
       "    'short_link_v2': 'https://b23.tv/BV1o5411973k',\n",
       "    'first_frame': 'http://i1.hdslb.com/bfs/storyff/n220517a263i7vfva99p1q1dz2i2lssz_firsti.jpg',\n",
       "    'bvid': 'BV1o5411973k',\n",
       "    'season_type': 0,\n",
       "    'is_ogv': False,\n",
       "    'ogv_info': None,\n",
       "    'rcmd_reason': {'content': '6万点赞', 'corner_mark': 1}},\n",
       "   {'aid': 341507397,\n",
       "    'videos': 1,\n",
       "    'tid': 228,\n",
       "    'tname': '人文历史',\n",
       "    'copyright': 1,\n",
       "    'pic': 'http://i1.hdslb.com/bfs/archive/1cbd664905f4fd0e5207d9ae5655610e78f061d6.jpg',\n",
       "    'title': '沙县小吃史上第一条广告！',\n",
       "    'pubdate': 1652684400,\n",
       "    'ctime': 1652684014,\n",
       "    'desc': '沙县现在这么能玩的吗？这个广告片我可以！！超有梗，福建文旅最近支棱起来了啊！！',\n",
       "    'state': 0,\n",
       "    'duration': 220,\n",
       "    'rights': {'bp': 0,\n",
       "     'elec': 0,\n",
       "     'download': 0,\n",
       "     'movie': 0,\n",
       "     'pay': 0,\n",
       "     'hd5': 1,\n",
       "     'no_reprint': 1,\n",
       "     'autoplay': 0,\n",
       "     'ugc_pay': 0,\n",
       "     'is_cooperation': 0,\n",
       "     'ugc_pay_preview': 0,\n",
       "     'no_background': 0,\n",
       "     'arc_pay': 0,\n",
       "     'pay_free_watch': 0},\n",
       "    'owner': {'mid': 20390404,\n",
       "     'name': '东南卫视',\n",
       "     'face': 'http://i1.hdslb.com/bfs/face/6389e9ffc660620461089adaf0198d6fc074cbdc.jpg'},\n",
       "    'stat': {'aid': 341507397,\n",
       "     'view': 2220776,\n",
       "     'danmaku': 6788,\n",
       "     'reply': 8067,\n",
       "     'favorite': 30767,\n",
       "     'coin': 66067,\n",
       "     'share': 69184,\n",
       "     'now_rank': 0,\n",
       "     'his_rank': 5,\n",
       "     'like': 173947,\n",
       "     'dislike': 0},\n",
       "    'dynamic': '',\n",
       "    'cid': 723088572,\n",
       "    'dimension': {'width': 1920, 'height': 1080, 'rotate': 0},\n",
       "    'short_link': 'https://b23.tv/BV16R4y1A7S4',\n",
       "    'short_link_v2': 'https://b23.tv/BV16R4y1A7S4',\n",
       "    'first_frame': 'http://i2.hdslb.com/bfs/storyff/n220518a2zbsvzjhfcdmg1ul9qqq8bs7_firsti.jpg',\n",
       "    'bvid': 'BV16R4y1A7S4',\n",
       "    'season_type': 0,\n",
       "    'is_ogv': False,\n",
       "    'ogv_info': None,\n",
       "    'rcmd_reason': {'content': '百万播放', 'corner_mark': 1}},\n",
       "   {'aid': 596550914,\n",
       "    'videos': 1,\n",
       "    'tid': 162,\n",
       "    'tname': '绘画',\n",
       "    'copyright': 1,\n",
       "    'pic': 'http://i2.hdslb.com/bfs/archive/5435c311313a161f5013399f84215f599f091904.jpg',\n",
       "    'title': '大爷说这幅最好看，说这是画了两个小年轻在处对象哈哈',\n",
       "    'pubdate': 1652606392,\n",
       "    'ctime': 1652606392,\n",
       "    'desc': '-',\n",
       "    'state': 0,\n",
       "    'duration': 506,\n",
       "    'mission_id': 562036,\n",
       "    'rights': {'bp': 0,\n",
       "     'elec': 0,\n",
       "     'download': 0,\n",
       "     'movie': 0,\n",
       "     'pay': 0,\n",
       "     'hd5': 1,\n",
       "     'no_reprint': 1,\n",
       "     'autoplay': 1,\n",
       "     'ugc_pay': 0,\n",
       "     'is_cooperation': 0,\n",
       "     'ugc_pay_preview': 0,\n",
       "     'no_background': 0,\n",
       "     'arc_pay': 0,\n",
       "     'pay_free_watch': 0},\n",
       "    'owner': {'mid': 410682880,\n",
       "     'name': 'hello刘小备',\n",
       "     'face': 'http://i1.hdslb.com/bfs/face/c07fc97d4de67ef870ab3c944a804aa3289018d3.jpg'},\n",
       "    'stat': {'aid': 596550914,\n",
       "     'view': 2629655,\n",
       "     'danmaku': 4569,\n",
       "     'reply': 3568,\n",
       "     'favorite': 18973,\n",
       "     'coin': 89633,\n",
       "     'share': 5118,\n",
       "     'now_rank': 0,\n",
       "     'his_rank': 9,\n",
       "     'like': 139057,\n",
       "     'dislike': 0},\n",
       "    'dynamic': '',\n",
       "    'cid': 720803867,\n",
       "    'dimension': {'width': 1920, 'height': 1080, 'rotate': 0},\n",
       "    'short_link': 'https://b23.tv/BV1zB4y1y7Sf',\n",
       "    'short_link_v2': 'https://b23.tv/BV1zB4y1y7Sf',\n",
       "    'up_from_v2': 28,\n",
       "    'first_frame': 'http://i0.hdslb.com/bfs/storyff/n220515qnkxgfjs8dv6mi1i3enoqp4m1_firsti.jpg',\n",
       "    'bvid': 'BV1zB4y1y7Sf',\n",
       "    'season_type': 0,\n",
       "    'is_ogv': False,\n",
       "    'ogv_info': None,\n",
       "    'rcmd_reason': {'content': '百万播放', 'corner_mark': 1}},\n",
       "   {'aid': 769058280,\n",
       "    'videos': 1,\n",
       "    'tid': 22,\n",
       "    'tname': '鬼畜调教',\n",
       "    'copyright': 1,\n",
       "    'pic': 'http://i1.hdslb.com/bfs/archive/9090b48b4316a8d05b637f2a0790b4fa394a61ff.jpg',\n",
       "    'title': '云南的和不是云南的都沉默了',\n",
       "    'pubdate': 1652522700,\n",
       "    'ctime': 1652512627,\n",
       "    'desc': '通宵做了快二十个小时 快裂开了 我的建议是立刻对我进行一个夸夸\\n另外长按点赞可以看到up主磕头！！谢谢大家了！给大家磕头啦！\\n微博@深海色带鱼 ',\n",
       "    'state': 0,\n",
       "    'duration': 47,\n",
       "    'rights': {'bp': 0,\n",
       "     'elec': 0,\n",
       "     'download': 0,\n",
       "     'movie': 0,\n",
       "     'pay': 0,\n",
       "     'hd5': 0,\n",
       "     'no_reprint': 1,\n",
       "     'autoplay': 1,\n",
       "     'ugc_pay': 0,\n",
       "     'is_cooperation': 0,\n",
       "     'ugc_pay_preview': 0,\n",
       "     'no_background': 0,\n",
       "     'arc_pay': 0,\n",
       "     'pay_free_watch': 0},\n",
       "    'owner': {'mid': 5374954,\n",
       "     'name': '深海色带鱼',\n",
       "     'face': 'http://i1.hdslb.com/bfs/face/68a02612a95b59e3895d8b55e91a556a84d1ff16.jpg'},\n",
       "    'stat': {'aid': 769058280,\n",
       "     'view': 5874143,\n",
       "     'danmaku': 2745,\n",
       "     'reply': 6162,\n",
       "     'favorite': 53495,\n",
       "     'coin': 48056,\n",
       "     'share': 43414,\n",
       "     'now_rank': 0,\n",
       "     'his_rank': 2,\n",
       "     'like': 279353,\n",
       "     'dislike': 0},\n",
       "    'dynamic': '1！5！哥们在这给你说唱~',\n",
       "    'cid': 719920293,\n",
       "    'dimension': {'width': 1080, 'height': 1920, 'rotate': 0},\n",
       "    'season_id': 100976,\n",
       "    'short_link': 'https://b23.tv/BV1Tr4y1b7VN',\n",
       "    'short_link_v2': 'https://b23.tv/BV1Tr4y1b7VN',\n",
       "    'first_frame': 'http://i2.hdslb.com/bfs/storyff/n220514a21w5bipu9ka4us27dj7tv2kx_firsti.jpg',\n",
       "    'bvid': 'BV1Tr4y1b7VN',\n",
       "    'season_type': 0,\n",
       "    'is_ogv': False,\n",
       "    'ogv_info': None,\n",
       "    'rcmd_reason': {'content': '百万播放', 'corner_mark': 1}},\n",
       "   {'aid': 384233447,\n",
       "    'videos': 1,\n",
       "    'tid': 130,\n",
       "    'tname': '音乐综合',\n",
       "    'copyright': 1,\n",
       "    'pic': 'http://i2.hdslb.com/bfs/archive/d83cf8320ab3a63149063a985fd41cde293672b4.jpg',\n",
       "    'title': '云 南 战 车',\n",
       "    'pubdate': 1652793336,\n",
       "    'ctime': 1652793336,\n",
       "    'desc': '',\n",
       "    'state': 0,\n",
       "    'duration': 159,\n",
       "    'mission_id': 530653,\n",
       "    'rights': {'bp': 0,\n",
       "     'elec': 0,\n",
       "     'download': 0,\n",
       "     'movie': 0,\n",
       "     'pay': 0,\n",
       "     'hd5': 1,\n",
       "     'no_reprint': 1,\n",
       "     'autoplay': 1,\n",
       "     'ugc_pay': 0,\n",
       "     'is_cooperation': 0,\n",
       "     'ugc_pay_preview': 0,\n",
       "     'no_background': 0,\n",
       "     'arc_pay': 0,\n",
       "     'pay_free_watch': 0},\n",
       "    'owner': {'mid': 1773094,\n",
       "     'name': '圣屠',\n",
       "     'face': 'http://i1.hdslb.com/bfs/face/99771f1bf63f3c9ac2acae8172b4926aa48c3456.jpg'},\n",
       "    'stat': {'aid': 384233447,\n",
       "     'view': 511762,\n",
       "     'danmaku': 752,\n",
       "     'reply': 1031,\n",
       "     'favorite': 5775,\n",
       "     'coin': 12813,\n",
       "     'share': 7149,\n",
       "     'now_rank': 0,\n",
       "     'his_rank': 0,\n",
       "     'like': 27127,\n",
       "     'dislike': 0},\n",
       "    'dynamic': '#全能音乐挑战赛# 众所周知，德国战车是一支来自云南的乐队 #我是云南的# #战车#',\n",
       "    'cid': 722668651,\n",
       "    'dimension': {'width': 1920, 'height': 1080, 'rotate': 0},\n",
       "    'short_link': 'https://b23.tv/BV1DZ4y187yQ',\n",
       "    'short_link_v2': 'https://b23.tv/BV1DZ4y187yQ',\n",
       "    'first_frame': 'http://i1.hdslb.com/bfs/storyff/n220517ad3bjj2juvf4o0c2tdnafokyi_firsti.jpg',\n",
       "    'bvid': 'BV1DZ4y187yQ',\n",
       "    'season_type': 0,\n",
       "    'is_ogv': False,\n",
       "    'ogv_info': None,\n",
       "    'rcmd_reason': {'content': '', 'corner_mark': 0}},\n",
       "   {'aid': 256559409,\n",
       "    'videos': 1,\n",
       "    'tid': 208,\n",
       "    'tname': '校园学习',\n",
       "    'copyright': 1,\n",
       "    'pic': 'http://i0.hdslb.com/bfs/archive/94219c7d39803016ea52ef17809afa97cca101a2.jpg',\n",
       "    'title': '全文都看不懂，七选五次次满分',\n",
       "    'pubdate': 1652627560,\n",
       "    'ctime': 1652627560,\n",
       "    'desc': '点赞过万立马更新',\n",
       "    'state': 0,\n",
       "    'duration': 664,\n",
       "    'mission_id': 600878,\n",
       "    'rights': {'bp': 0,\n",
       "     'elec': 0,\n",
       "     'download': 0,\n",
       "     'movie': 0,\n",
       "     'pay': 0,\n",
       "     'hd5': 1,\n",
       "     'no_reprint': 1,\n",
       "     'autoplay': 1,\n",
       "     'ugc_pay': 0,\n",
       "     'is_cooperation': 0,\n",
       "     'ugc_pay_preview': 0,\n",
       "     'no_background': 0,\n",
       "     'arc_pay': 0,\n",
       "     'pay_free_watch': 0},\n",
       "    'owner': {'mid': 1552078337,\n",
       "     'name': '诺千金姐姐',\n",
       "     'face': 'http://i2.hdslb.com/bfs/face/35f27f1428d780e50d8dffb3e31d439f184d62e9.jpg'},\n",
       "    'stat': {'aid': 256559409,\n",
       "     'view': 567157,\n",
       "     'danmaku': 1130,\n",
       "     'reply': 1458,\n",
       "     'favorite': 42774,\n",
       "     'coin': 8982,\n",
       "     'share': 4458,\n",
       "     'now_rank': 0,\n",
       "     'his_rank': 72,\n",
       "     'like': 31011,\n",
       "     'dislike': 0},\n",
       "    'dynamic': '',\n",
       "    'cid': 721174874,\n",
       "    'dimension': {'width': 1920, 'height': 1080, 'rotate': 0},\n",
       "    'season_id': 329163,\n",
       "    'short_link': 'https://b23.tv/BV1dY411c7Dj',\n",
       "    'short_link_v2': 'https://b23.tv/BV1dY411c7Dj',\n",
       "    'first_frame': 'http://i1.hdslb.com/bfs/storyff/n220515a21qoi6px5r96ld1lksq7iphl_firsti.jpg',\n",
       "    'bvid': 'BV1dY411c7Dj',\n",
       "    'season_type': 0,\n",
       "    'is_ogv': False,\n",
       "    'ogv_info': None,\n",
       "    'rcmd_reason': {'content': '', 'corner_mark': 0}},\n",
       "   {'aid': 639105127,\n",
       "    'videos': 1,\n",
       "    'tid': 137,\n",
       "    'tname': '明星综合',\n",
       "    'copyright': 1,\n",
       "    'pic': 'http://i1.hdslb.com/bfs/archive/3721effaeaf1328783fd830221656542b1d9a9de.jpg',\n",
       "    'title': '我 是 日 本 的',\n",
       "    'pubdate': 1652681034,\n",
       "    'ctime': 1652681034,\n",
       "    'desc': '近期疫情，大家不要乱跑哦。没看够？这里还有\\n文艺面馆吃川菜：BV1gU4y1S7ik/\\n 臭豆腐乳真～～好吃：BV1rF411u7cS? \\n最强寿司：BV14F411M7Np?\\n 隔离结束想吃到发疯：BV1LF411G7dN? \\n上海加油！：BV1aL4y1j7kR? \\n浩二哥的隔离生活：BV1dq4y1h7AV? \\n最下饭的男人vs最搞笑的男人：BV1Hu411z7Uo? \\n花3000去扭蛋？好心痛：BV1544y1M7Sz/',\n",
       "    'state': 0,\n",
       "    'duration': 34,\n",
       "    'mission_id': 577055,\n",
       "    'rights': {'bp': 0,\n",
       "     'elec': 0,\n",
       "     'download': 0,\n",
       "     'movie': 0,\n",
       "     'pay': 0,\n",
       "     'hd5': 1,\n",
       "     'no_reprint': 1,\n",
       "     'autoplay': 1,\n",
       "     'ugc_pay': 0,\n",
       "     'is_cooperation': 0,\n",
       "     'ugc_pay_preview': 0,\n",
       "     'no_background': 0,\n",
       "     'arc_pay': 0,\n",
       "     'pay_free_watch': 0},\n",
       "    'owner': {'mid': 507521207,\n",
       "     'name': '矢野浩二',\n",
       "     'face': 'http://i2.hdslb.com/bfs/face/3594ab2ab990b75ce68f197bfde49285858eba7f.jpg'},\n",
       "    'stat': {'aid': 639105127,\n",
       "     'view': 3317618,\n",
       "     'danmaku': 2357,\n",
       "     'reply': 4976,\n",
       "     'favorite': 14874,\n",
       "     'coin': 32242,\n",
       "     'share': 9263,\n",
       "     'now_rank': 0,\n",
       "     'his_rank': 2,\n",
       "     'like': 274657,\n",
       "     'dislike': 0},\n",
       "    'dynamic': '超强洗脑节奏之我是日本的',\n",
       "    'cid': 721545907,\n",
       "    'dimension': {'width': 1440, 'height': 2560, 'rotate': 0},\n",
       "    'season_id': 420720,\n",
       "    'short_link': 'https://b23.tv/BV1wY4y1k7nq',\n",
       "    'short_link_v2': 'https://b23.tv/BV1wY4y1k7nq',\n",
       "    'first_frame': 'http://i1.hdslb.com/bfs/storyff/n220516qnsrtelxgk4ezp3sw8m41wel3_firsti.jpg',\n",
       "    'bvid': 'BV1wY4y1k7nq',\n",
       "    'season_type': 0,\n",
       "    'is_ogv': False,\n",
       "    'ogv_info': None,\n",
       "    'rcmd_reason': {'content': '百万播放', 'corner_mark': 1}},\n",
       "   {'aid': 684122094,\n",
       "    'videos': 1,\n",
       "    'tid': 172,\n",
       "    'tname': '手机游戏',\n",
       "    'copyright': 1,\n",
       "    'pic': 'http://i2.hdslb.com/bfs/archive/01288832400f1851dff9e22e85e6fc1d5758e229.jpg',\n",
       "    'title': '【战斗首曝】逆水寒手游开启预约，武侠开放世界与战斗实机画面前瞻',\n",
       "    'pubdate': 1652752800,\n",
       "    'ctime': 1652670065,\n",
       "    'desc': '各位少侠久等了！\\n《逆水寒》手游现已开放预约，本作将带来一次对MMO游戏陈旧套路彻底颠覆的破局尝试。\\n本次公开的逆水寒手游实机演示，包括游戏画面与战斗实机，同样是从游戏引擎中直接实时演算得来的真实画面，象征了《逆水寒》手游理论上的最高画面水准，并非CG动画。\\n（因小寒经验不足，本视频码率较高，上传压缩后细节失真严重，有条件的B站大会员玩家可以通过选择“4K清晰度”观看正常画质，对此造成不便小寒深表歉意TAT ）',\n",
       "    'state': 0,\n",
       "    'duration': 159,\n",
       "    'rights': {'bp': 0,\n",
       "     'elec': 0,\n",
       "     'download': 0,\n",
       "     'movie': 0,\n",
       "     'pay': 0,\n",
       "     'hd5': 0,\n",
       "     'no_reprint': 1,\n",
       "     'autoplay': 1,\n",
       "     'ugc_pay': 0,\n",
       "     'is_cooperation': 0,\n",
       "     'ugc_pay_preview': 0,\n",
       "     'no_background': 0,\n",
       "     'arc_pay': 0,\n",
       "     'pay_free_watch': 0},\n",
       "    'owner': {'mid': 21619102,\n",
       "     'name': '网易逆水寒',\n",
       "     'face': 'http://i1.hdslb.com/bfs/face/26a2dfdac6e90efcda7cd62b9a364712576b759b.jpg'},\n",
       "    'stat': {'aid': 684122094,\n",
       "     'view': 1277911,\n",
       "     'danmaku': 3186,\n",
       "     'reply': 7533,\n",
       "     'favorite': 28079,\n",
       "     'coin': 24094,\n",
       "     'share': 9391,\n",
       "     'now_rank': 0,\n",
       "     'his_rank': 30,\n",
       "     'like': 64248,\n",
       "     'dislike': 0},\n",
       "    'dynamic': '',\n",
       "    'cid': 722034200,\n",
       "    'dimension': {'width': 2778, 'height': 1562, 'rotate': 0},\n",
       "    'short_link': 'https://b23.tv/BV1zU4y1m75D',\n",
       "    'short_link_v2': 'https://b23.tv/BV1zU4y1m75D',\n",
       "    'first_frame': 'http://i1.hdslb.com/bfs/storyff/n220517a22n0tbdzjor3me27jiseinue_firsti.jpg',\n",
       "    'bvid': 'BV1zU4y1m75D',\n",
       "    'season_type': 0,\n",
       "    'is_ogv': False,\n",
       "    'ogv_info': None,\n",
       "    'rcmd_reason': {'content': '百万播放', 'corner_mark': 1}},\n",
       "   {'aid': 981629090,\n",
       "    'videos': 1,\n",
       "    'tid': 138,\n",
       "    'tname': '搞笑',\n",
       "    'copyright': 1,\n",
       "    'pic': 'http://i2.hdslb.com/bfs/archive/6e2fac5944eb848e87515914b0a742806ca761a9.jpg',\n",
       "    'title': '《 不 醒 人 室 》',\n",
       "    'pubdate': 1652855166,\n",
       "    'ctime': 1652789594,\n",
       "    'desc': '寝室关系不和怎么办？谁也别想好',\n",
       "    'state': 0,\n",
       "    'duration': 113,\n",
       "    'mission_id': 647536,\n",
       "    'rights': {'bp': 0,\n",
       "     'elec': 0,\n",
       "     'download': 0,\n",
       "     'movie': 0,\n",
       "     'pay': 0,\n",
       "     'hd5': 1,\n",
       "     'no_reprint': 1,\n",
       "     'autoplay': 1,\n",
       "     'ugc_pay': 0,\n",
       "     'is_cooperation': 0,\n",
       "     'ugc_pay_preview': 0,\n",
       "     'no_background': 0,\n",
       "     'arc_pay': 0,\n",
       "     'pay_free_watch': 0},\n",
       "    'owner': {'mid': 587618113,\n",
       "     'name': '姚姚不是P30',\n",
       "     'face': 'http://i1.hdslb.com/bfs/face/f7dfb91a42f081980339cde0874f56ddcc9750b6.jpg'},\n",
       "    'stat': {'aid': 981629090,\n",
       "     'view': 130668,\n",
       "     'danmaku': 161,\n",
       "     'reply': 204,\n",
       "     'favorite': 2063,\n",
       "     'coin': 1338,\n",
       "     'share': 1923,\n",
       "     'now_rank': 0,\n",
       "     'his_rank': 0,\n",
       "     'like': 16428,\n",
       "     'dislike': 0},\n",
       "    'dynamic': '',\n",
       "    'cid': 722595667,\n",
       "    'dimension': {'width': 1080, 'height': 1920, 'rotate': 0},\n",
       "    'short_link': 'https://b23.tv/BV1at4y1x7D3',\n",
       "    'short_link_v2': 'https://b23.tv/BV1at4y1x7D3',\n",
       "    'first_frame': 'http://i0.hdslb.com/bfs/storyff/n220517a21cvwvjr0du705jaik4z1dlp_firsti.jpg',\n",
       "    'bvid': 'BV1at4y1x7D3',\n",
       "    'season_type': 0,\n",
       "    'is_ogv': False,\n",
       "    'ogv_info': None,\n",
       "    'rcmd_reason': {'content': '', 'corner_mark': 0}},\n",
       "   {'aid': 384150563,\n",
       "    'videos': 1,\n",
       "    'tid': 21,\n",
       "    'tname': '日常',\n",
       "    'copyright': 1,\n",
       "    'pic': 'http://i2.hdslb.com/bfs/archive/59e10bdacc7e07b4c234322cfef29a95dbb0178f.jpg',\n",
       "    'title': '用时一个多月成功骑行穿越阿里中线，亚热乡水井房扎营休息一天',\n",
       "    'pubdate': 1652796021,\n",
       "    'ctime': 1652796021,\n",
       "    'desc': '-',\n",
       "    'state': 0,\n",
       "    'duration': 1391,\n",
       "    'mission_id': 584308,\n",
       "    'rights': {'bp': 0,\n",
       "     'elec': 0,\n",
       "     'download': 0,\n",
       "     'movie': 0,\n",
       "     'pay': 0,\n",
       "     'hd5': 0,\n",
       "     'no_reprint': 1,\n",
       "     'autoplay': 1,\n",
       "     'ugc_pay': 0,\n",
       "     'is_cooperation': 0,\n",
       "     'ugc_pay_preview': 0,\n",
       "     'no_background': 0,\n",
       "     'arc_pay': 0,\n",
       "     'pay_free_watch': 0},\n",
       "    'owner': {'mid': 697166795,\n",
       "     'name': '徐云流浪中国',\n",
       "     'face': 'http://i2.hdslb.com/bfs/face/b141d301f1c6a5964dfbd2393fd5a67e783d3286.jpg'},\n",
       "    'stat': {'aid': 384150563,\n",
       "     'view': 715184,\n",
       "     'danmaku': 29496,\n",
       "     'reply': 5808,\n",
       "     'favorite': 11881,\n",
       "     'coin': 125005,\n",
       "     'share': 3529,\n",
       "     'now_rank': 0,\n",
       "     'his_rank': 15,\n",
       "     'like': 101818,\n",
       "     'dislike': 0},\n",
       "    'dynamic': '',\n",
       "    'cid': 722664192,\n",
       "    'dimension': {'width': 1920, 'height': 1080, 'rotate': 0},\n",
       "    'short_link': 'https://b23.tv/BV1vZ4y187Zs',\n",
       "    'short_link_v2': 'https://b23.tv/BV1vZ4y187Zs',\n",
       "    'up_from_v2': 35,\n",
       "    'first_frame': 'http://i2.hdslb.com/bfs/storyff/n220517a2307nve40a7rme13n4ouvs6a_firsti.jpg',\n",
       "    'bvid': 'BV1vZ4y187Zs',\n",
       "    'season_type': 0,\n",
       "    'is_ogv': False,\n",
       "    'ogv_info': None,\n",
       "    'rcmd_reason': {'content': '10万点赞', 'corner_mark': 1}},\n",
       "   {'aid': 341728960,\n",
       "    'videos': 1,\n",
       "    'tid': 124,\n",
       "    'tname': '社科·法律·心理',\n",
       "    'copyright': 1,\n",
       "    'pic': 'http://i2.hdslb.com/bfs/archive/b1a448735e81284070c8bb80504ec66e25109827.jpg',\n",
       "    'title': '【罗翔】结核病人上学记，学生可以告学校吗？',\n",
       "    'pubdate': 1652845471,\n",
       "    'ctime': 1652845471,\n",
       "    'desc': '前段时间，一名罹患结核病的学生发邮件向我求助，害怕学校不予录取，这个学生的问题也我想起了多年前的“乙肝歧视第一案”。',\n",
       "    'state': 0,\n",
       "    'duration': 571,\n",
       "    'rights': {'bp': 0,\n",
       "     'elec': 0,\n",
       "     'download': 0,\n",
       "     'movie': 0,\n",
       "     'pay': 0,\n",
       "     'hd5': 0,\n",
       "     'no_reprint': 1,\n",
       "     'autoplay': 1,\n",
       "     'ugc_pay': 0,\n",
       "     'is_cooperation': 0,\n",
       "     'ugc_pay_preview': 0,\n",
       "     'no_background': 0,\n",
       "     'arc_pay': 0,\n",
       "     'pay_free_watch': 0},\n",
       "    'owner': {'mid': 517327498,\n",
       "     'name': '罗翔说刑法',\n",
       "     'face': 'http://i1.hdslb.com/bfs/face/4e5d0a51273fe3f8fabc700b6a71bb8a38c9e21e.jpg'},\n",
       "    'stat': {'aid': 341728960,\n",
       "     'view': 479432,\n",
       "     'danmaku': 1517,\n",
       "     'reply': 2852,\n",
       "     'favorite': 3141,\n",
       "     'coin': 9108,\n",
       "     'share': 837,\n",
       "     'now_rank': 0,\n",
       "     'his_rank': 0,\n",
       "     'like': 54246,\n",
       "     'dislike': 0},\n",
       "    'dynamic': '前段时间，我收到了一封求助邮件。一位同学报考某顶尖高校，初试成绩排名第一，但是年初被查出罹患肺结核，他非常害怕会因此影响录取。',\n",
       "    'cid': 723047720,\n",
       "    'dimension': {'width': 1920, 'height': 1080, 'rotate': 0},\n",
       "    'short_link': 'https://b23.tv/BV1TR4y1w716',\n",
       "    'short_link_v2': 'https://b23.tv/BV1TR4y1w716',\n",
       "    'first_frame': 'http://i1.hdslb.com/bfs/storyff/n220518a21d1hq45wmz04clr7e5jsk1x_firsti.jpg',\n",
       "    'bvid': 'BV1TR4y1w716',\n",
       "    'season_type': 0,\n",
       "    'is_ogv': False,\n",
       "    'ogv_info': None,\n",
       "    'rcmd_reason': {'content': '5万点赞', 'corner_mark': 1}},\n",
       "   {'aid': 299041116,\n",
       "    'videos': 1,\n",
       "    'tid': 204,\n",
       "    'tname': '环球',\n",
       "    'copyright': 1,\n",
       "    'pic': 'http://i2.hdslb.com/bfs/archive/cdb734f6d4c83064fe9662737ff14ad0ec645834.jpg',\n",
       "    'title': '“打倒北约 打倒帝国主义”',\n",
       "    'pubdate': 1652678223,\n",
       "    'ctime': 1652678223,\n",
       "    'desc': '5月15日，大批土耳其民众示威游行，抗议美国和北约在土耳其的军事存在。',\n",
       "    'state': 0,\n",
       "    'duration': 15,\n",
       "    'rights': {'bp': 0,\n",
       "     'elec': 0,\n",
       "     'download': 0,\n",
       "     'movie': 0,\n",
       "     'pay': 0,\n",
       "     'hd5': 1,\n",
       "     'no_reprint': 1,\n",
       "     'autoplay': 1,\n",
       "     'ugc_pay': 0,\n",
       "     'is_cooperation': 0,\n",
       "     'ugc_pay_preview': 0,\n",
       "     'no_background': 0,\n",
       "     'arc_pay': 0,\n",
       "     'pay_free_watch': 0},\n",
       "    'owner': {'mid': 222103174,\n",
       "     'name': '央视网',\n",
       "     'face': 'http://i1.hdslb.com/bfs/face/297c5875534792181c8c999779771eae7d6f09eb.jpg'},\n",
       "    'stat': {'aid': 299041116,\n",
       "     'view': 608431,\n",
       "     'danmaku': 528,\n",
       "     'reply': 1702,\n",
       "     'favorite': 5878,\n",
       "     'coin': 894,\n",
       "     'share': 1625,\n",
       "     'now_rank': 0,\n",
       "     'his_rank': 0,\n",
       "     'like': 80994,\n",
       "     'dislike': 0},\n",
       "    'dynamic': '小央看天下【“打倒北约 打倒帝国主义”】5月15日，大批土耳其民众示威游行，抗议美国和北约在土耳其的军事存在。',\n",
       "    'cid': 721510237,\n",
       "    'dimension': {'width': 1080, 'height': 1920, 'rotate': 0},\n",
       "    'short_link': 'https://b23.tv/BV1aF41177wL',\n",
       "    'short_link_v2': 'https://b23.tv/BV1aF41177wL',\n",
       "    'first_frame': 'http://i1.hdslb.com/bfs/storyff/n220516a2ap1lkf3cek3u1tnpku7ouew_firsti.jpg',\n",
       "    'bvid': 'BV1aF41177wL',\n",
       "    'season_type': 0,\n",
       "    'is_ogv': False,\n",
       "    'ogv_info': None,\n",
       "    'rcmd_reason': {'content': '7万点赞', 'corner_mark': 1}},\n",
       "   {'aid': 468987010,\n",
       "    'videos': 1,\n",
       "    'tid': 138,\n",
       "    'tname': '搞笑',\n",
       "    'copyright': 1,\n",
       "    'pic': 'http://i0.hdslb.com/bfs/archive/aaafceff815678dde981401ed479c66ead4940da.jpg',\n",
       "    'title': '为什么我国不强制服兵役',\n",
       "    'pubdate': 1652332838,\n",
       "    'ctime': 1652332838,\n",
       "    'desc': '-',\n",
       "    'state': 0,\n",
       "    'duration': 56,\n",
       "    'mission_id': 607107,\n",
       "    'rights': {'bp': 0,\n",
       "     'elec': 0,\n",
       "     'download': 0,\n",
       "     'movie': 0,\n",
       "     'pay': 0,\n",
       "     'hd5': 0,\n",
       "     'no_reprint': 0,\n",
       "     'autoplay': 1,\n",
       "     'ugc_pay': 0,\n",
       "     'is_cooperation': 0,\n",
       "     'ugc_pay_preview': 0,\n",
       "     'no_background': 0,\n",
       "     'arc_pay': 0,\n",
       "     'pay_free_watch': 0},\n",
       "    'owner': {'mid': 430956296,\n",
       "     'name': 'Mia小桃子',\n",
       "     'face': 'http://i2.hdslb.com/bfs/face/b9cfd4312399293798c5def2421aa3d146958d11.jpg'},\n",
       "    'stat': {'aid': 468987010,\n",
       "     'view': 2381063,\n",
       "     'danmaku': 1518,\n",
       "     'reply': 6299,\n",
       "     'favorite': 36546,\n",
       "     'coin': 6192,\n",
       "     'share': 24724,\n",
       "     'now_rank': 0,\n",
       "     'his_rank': 44,\n",
       "     'like': 212013,\n",
       "     'dislike': 0},\n",
       "    'dynamic': '',\n",
       "    'cid': 718174735,\n",
       "    'dimension': {'width': 1080, 'height': 1440, 'rotate': 0},\n",
       "    'short_link': 'https://b23.tv/BV1J5411978t',\n",
       "    'short_link_v2': 'https://b23.tv/BV1J5411978t',\n",
       "    'up_from_v2': 20,\n",
       "    'first_frame': 'http://i2.hdslb.com/bfs/storyff/n220512qnum154bbdixp11u5esk7zkna_firsti.jpg',\n",
       "    'bvid': 'BV1J5411978t',\n",
       "    'season_type': 0,\n",
       "    'is_ogv': False,\n",
       "    'ogv_info': None,\n",
       "    'rcmd_reason': {'content': '百万播放', 'corner_mark': 1}},\n",
       "   {'aid': 981667387,\n",
       "    'videos': 1,\n",
       "    'tid': 171,\n",
       "    'tname': '电子竞技',\n",
       "    'copyright': 1,\n",
       "    'pic': 'http://i1.hdslb.com/bfs/archive/c2ca457d92640cff27184dda1d0633211515afff.jpg',\n",
       "    'title': '30+连败赏金猎人？我能创造历史吗？',\n",
       "    'pubdate': 1652756400,\n",
       "    'ctime': 1652756411,\n",
       "    'desc': '如果有一天 你决定放弃一件你觉得很可惜的事情\\n希望可以回来看这个视频\\n你想做的事情一定比我这个30+连败更有意义\\n请你自省-改进-调整\\n最后再坚持一下\\n光明就在身边了',\n",
       "    'state': 0,\n",
       "    'duration': 505,\n",
       "    'mission_id': 630309,\n",
       "    'rights': {'bp': 0,\n",
       "     'elec': 0,\n",
       "     'download': 0,\n",
       "     'movie': 0,\n",
       "     'pay': 0,\n",
       "     'hd5': 1,\n",
       "     'no_reprint': 1,\n",
       "     'autoplay': 1,\n",
       "     'ugc_pay': 0,\n",
       "     'is_cooperation': 0,\n",
       "     'ugc_pay_preview': 0,\n",
       "     'no_background': 0,\n",
       "     'arc_pay': 0,\n",
       "     'pay_free_watch': 0},\n",
       "    'owner': {'mid': 13904634,\n",
       "     'name': '我是TOO',\n",
       "     'face': 'http://i0.hdslb.com/bfs/face/b713bd6e8d3118e6349f05eaf70652399f48c195.jpg'},\n",
       "    'stat': {'aid': 981667387,\n",
       "     'view': 941667,\n",
       "     'danmaku': 1827,\n",
       "     'reply': 1947,\n",
       "     'favorite': 16780,\n",
       "     'coin': 86120,\n",
       "     'share': 5968,\n",
       "     'now_rank': 0,\n",
       "     'his_rank': 21,\n",
       "     'like': 86937,\n",
       "     'dislike': 0},\n",
       "    'dynamic': '',\n",
       "    'cid': 721950466,\n",
       "    'dimension': {'width': 2560, 'height': 1440, 'rotate': 0},\n",
       "    'season_id': 422547,\n",
       "    'short_link': 'https://b23.tv/BV19t4y1x7sr',\n",
       "    'short_link_v2': 'https://b23.tv/BV19t4y1x7sr',\n",
       "    'first_frame': 'http://i0.hdslb.com/bfs/storyff/n220516a2h9tqqsyzkvcj2bqfrojzt6w_firsti.jpg',\n",
       "    'bvid': 'BV19t4y1x7sr',\n",
       "    'season_type': 0,\n",
       "    'is_ogv': False,\n",
       "    'ogv_info': None,\n",
       "    'rcmd_reason': {'content': '8万点赞', 'corner_mark': 1}},\n",
       "   {'aid': 726711905,\n",
       "    'videos': 1,\n",
       "    'tid': 212,\n",
       "    'tname': '美食侦探',\n",
       "    'copyright': 1,\n",
       "    'pic': 'http://i1.hdslb.com/bfs/archive/ffdd0db4906de5049017373dd6492ef17c551018.jpg',\n",
       "    'title': '小蓝鲸  厨子探店¥367',\n",
       "    'pubdate': 1652844601,\n",
       "    'ctime': 1652844604,\n",
       "    'desc': 'BGM 陈小春《战无不胜》',\n",
       "    'state': 0,\n",
       "    'duration': 188,\n",
       "    'mission_id': 623605,\n",
       "    'rights': {'bp': 0,\n",
       "     'elec': 0,\n",
       "     'download': 0,\n",
       "     'movie': 0,\n",
       "     'pay': 0,\n",
       "     'hd5': 0,\n",
       "     'no_reprint': 1,\n",
       "     'autoplay': 1,\n",
       "     'ugc_pay': 0,\n",
       "     'is_cooperation': 0,\n",
       "     'ugc_pay_preview': 0,\n",
       "     'no_background': 0,\n",
       "     'arc_pay': 0,\n",
       "     'pay_free_watch': 0},\n",
       "    'owner': {'mid': 544336675,\n",
       "     'name': '真探唐仁杰',\n",
       "     'face': 'http://i1.hdslb.com/bfs/face/f82b7cb6e6b9e2351bb201f668af10b66b4d0d5c.jpg'},\n",
       "    'stat': {'aid': 726711905,\n",
       "     'view': 543707,\n",
       "     'danmaku': 726,\n",
       "     'reply': 1203,\n",
       "     'favorite': 1290,\n",
       "     'coin': 1015,\n",
       "     'share': 412,\n",
       "     'now_rank': 0,\n",
       "     'his_rank': 0,\n",
       "     'like': 37687,\n",
       "     'dislike': 0},\n",
       "    'dynamic': '厨子探店小蓝鲸，只讲真话不说屁话。武汉几大酒楼之一，今天来了有点出乎意料哦。',\n",
       "    'cid': 722312115,\n",
       "    'dimension': {'width': 1080, 'height': 1920, 'rotate': 0},\n",
       "    'short_link': 'https://b23.tv/BV1US4y1B7Sp',\n",
       "    'short_link_v2': 'https://b23.tv/BV1US4y1B7Sp',\n",
       "    'first_frame': 'http://i1.hdslb.com/bfs/storyff/n220517a2d3ktrvt075mw3no91vkr81z_firsti.jpg',\n",
       "    'bvid': 'BV1US4y1B7Sp',\n",
       "    'season_type': 0,\n",
       "    'is_ogv': False,\n",
       "    'ogv_info': None,\n",
       "    'rcmd_reason': {'content': '', 'corner_mark': 0}},\n",
       "   {'aid': 384201127,\n",
       "    'videos': 1,\n",
       "    'tid': 201,\n",
       "    'tname': '科学科普',\n",
       "    'copyright': 1,\n",
       "    'pic': 'http://i0.hdslb.com/bfs/archive/607e904b447c7120533518264bf5a9dd26a7929a.jpg',\n",
       "    'title': '骂骂咧咧地夸这种铁线莲',\n",
       "    'pubdate': 1652845884,\n",
       "    'ctime': 1652845885,\n",
       "    'desc': '',\n",
       "    'state': 0,\n",
       "    'duration': 197,\n",
       "    'mission_id': 463414,\n",
       "    'rights': {'bp': 0,\n",
       "     'elec': 0,\n",
       "     'download': 0,\n",
       "     'movie': 0,\n",
       "     'pay': 0,\n",
       "     'hd5': 1,\n",
       "     'no_reprint': 1,\n",
       "     'autoplay': 1,\n",
       "     'ugc_pay': 0,\n",
       "     'is_cooperation': 0,\n",
       "     'ugc_pay_preview': 0,\n",
       "     'no_background': 0,\n",
       "     'arc_pay': 0,\n",
       "     'pay_free_watch': 0},\n",
       "    'owner': {'mid': 14804670,\n",
       "     'name': '无穷小亮的科普日常',\n",
       "     'face': 'http://i0.hdslb.com/bfs/face/6de12181ed59518fc7beff2046fb3218d50206cc.jpg'},\n",
       "    'stat': {'aid': 384201127,\n",
       "     'view': 478820,\n",
       "     'danmaku': 1812,\n",
       "     'reply': 1522,\n",
       "     'favorite': 2246,\n",
       "     'coin': 2538,\n",
       "     'share': 1246,\n",
       "     'now_rank': 0,\n",
       "     'his_rank': 0,\n",
       "     'like': 53688,\n",
       "     'dislike': 0},\n",
       "    'dynamic': '',\n",
       "    'cid': 723019171,\n",
       "    'dimension': {'width': 1080, 'height': 1920, 'rotate': 0},\n",
       "    'short_link': 'https://b23.tv/BV1CZ4y187F1',\n",
       "    'short_link_v2': 'https://b23.tv/BV1CZ4y187F1',\n",
       "    'first_frame': 'http://i2.hdslb.com/bfs/storyff/n220518a23fr95kjy7qnkr1ds55kc82p_firsti.jpg',\n",
       "    'bvid': 'BV1CZ4y187F1',\n",
       "    'season_type': 0,\n",
       "    'is_ogv': False,\n",
       "    'ogv_info': None,\n",
       "    'rcmd_reason': {'content': '5万点赞', 'corner_mark': 1}},\n",
       "   {'aid': 981529339,\n",
       "    'videos': 1,\n",
       "    'tid': 76,\n",
       "    'tname': '美食制作',\n",
       "    'copyright': 1,\n",
       "    'pic': 'http://i0.hdslb.com/bfs/archive/ee76ae1244a735d408b3eca1bfe99e2c1bb61138.jpg',\n",
       "    'title': '《 卷 死 自 己 》',\n",
       "    'pubdate': 1652693400,\n",
       "    'ctime': 1652693409,\n",
       "    'desc': '爆更了\\n求三连\\n纯属娱乐视频不存在内涵哈，美食区大家都是好朋友',\n",
       "    'state': 0,\n",
       "    'duration': 248,\n",
       "    'mission_id': 596802,\n",
       "    'rights': {'bp': 0,\n",
       "     'elec': 0,\n",
       "     'download': 0,\n",
       "     'movie': 0,\n",
       "     'pay': 0,\n",
       "     'hd5': 0,\n",
       "     'no_reprint': 1,\n",
       "     'autoplay': 1,\n",
       "     'ugc_pay': 0,\n",
       "     'is_cooperation': 0,\n",
       "     'ugc_pay_preview': 0,\n",
       "     'no_background': 0,\n",
       "     'arc_pay': 0,\n",
       "     'pay_free_watch': 0},\n",
       "    'owner': {'mid': 337521240,\n",
       "     'name': '记录生活的蛋黄派',\n",
       "     'face': 'http://i0.hdslb.com/bfs/face/9ba6c7a0d3a2ebfe9db2f46219ece98e210d0269.jpg'},\n",
       "    'stat': {'aid': 981529339,\n",
       "     'view': 2161629,\n",
       "     'danmaku': 11126,\n",
       "     'reply': 2119,\n",
       "     'favorite': 9727,\n",
       "     'coin': 42040,\n",
       "     'share': 2023,\n",
       "     'now_rank': 0,\n",
       "     'his_rank': 7,\n",
       "     'like': 223234,\n",
       "     'dislike': 0},\n",
       "    'dynamic': '爆更了\\n求三连',\n",
       "    'cid': 721476880,\n",
       "    'dimension': {'width': 1920, 'height': 1080, 'rotate': 0},\n",
       "    'short_link': 'https://b23.tv/BV1At4y1x7n9',\n",
       "    'short_link_v2': 'https://b23.tv/BV1At4y1x7n9',\n",
       "    'first_frame': 'http://i0.hdslb.com/bfs/storyff/n220516a2mbnvw30zfqzj1kqtasard5f_firsti.jpg',\n",
       "    'bvid': 'BV1At4y1x7n9',\n",
       "    'season_type': 0,\n",
       "    'is_ogv': False,\n",
       "    'ogv_info': None,\n",
       "    'rcmd_reason': {'content': '百万播放', 'corner_mark': 1}},\n",
       "   {'aid': 641528549,\n",
       "    'videos': 1,\n",
       "    'tid': 138,\n",
       "    'tname': '搞笑',\n",
       "    'copyright': 2,\n",
       "    'pic': 'http://i1.hdslb.com/bfs/archive/6960ae208f71ea738a0c854c43311305b051803f.jpg',\n",
       "    'title': '当年唐国强老师拍的山东蓝翔的广告原来是这样拍出来的！',\n",
       "    'pubdate': 1652520549,\n",
       "    'ctime': 1652520549,\n",
       "    'desc': '转自https://weibo.com/tv/show/1034:4768076735119418',\n",
       "    'state': 0,\n",
       "    'duration': 159,\n",
       "    'rights': {'bp': 0,\n",
       "     'elec': 0,\n",
       "     'download': 0,\n",
       "     'movie': 0,\n",
       "     'pay': 0,\n",
       "     'hd5': 0,\n",
       "     'no_reprint': 0,\n",
       "     'autoplay': 1,\n",
       "     'ugc_pay': 0,\n",
       "     'is_cooperation': 0,\n",
       "     'ugc_pay_preview': 0,\n",
       "     'no_background': 0,\n",
       "     'arc_pay': 0,\n",
       "     'pay_free_watch': 0},\n",
       "    'owner': {'mid': 476545374,\n",
       "     'name': '17岁反派里的持枪Boy',\n",
       "     'face': 'http://i0.hdslb.com/bfs/face/19ee1b5975969a47ba085cd1f628d86a479b9950.jpg'},\n",
       "    'stat': {'aid': 641528549,\n",
       "     'view': 2932691,\n",
       "     'danmaku': 2016,\n",
       "     'reply': 3349,\n",
       "     'favorite': 14365,\n",
       "     'coin': 1623,\n",
       "     'share': 10477,\n",
       "     'now_rank': 0,\n",
       "     'his_rank': 33,\n",
       "     'like': 135060,\n",
       "     'dislike': 0},\n",
       "    'dynamic': '',\n",
       "    'cid': 720047192,\n",
       "    'dimension': {'width': 844, 'height': 480, 'rotate': 0},\n",
       "    'short_link': 'https://b23.tv/BV1iY4y147HY',\n",
       "    'short_link_v2': 'https://b23.tv/BV1iY4y147HY',\n",
       "    'first_frame': 'http://i2.hdslb.com/bfs/storyff/n220514a221vhr8trdbsus1x5b1hjb94_firsti.jpg',\n",
       "    'bvid': 'BV1iY4y147HY',\n",
       "    'season_type': 0,\n",
       "    'is_ogv': False,\n",
       "    'ogv_info': None,\n",
       "    'rcmd_reason': {'content': '', 'corner_mark': 0}}],\n",
       "  'no_more': False}}"
      ]
     },
     "execution_count": 3,
     "metadata": {},
     "output_type": "execute_result"
    }
   ],
   "source": [
    "#json()方法将响应内容转换成Python能够解析的格式，即字典，可以通过字典的方式进行访问\n",
    "resp.json()"
   ]
  },
  {
   "cell_type": "code",
   "execution_count": 4,
   "metadata": {},
   "outputs": [
    {
     "name": "stdout",
     "output_type": "stream",
     "text": [
      "《 爷 爷 拯 救 不 完 了 》\n",
      "做出来之后玩了四个小时 愣是没舍得吃\n",
      "我打赌，这个猫咪做出来你能玩一天\n",
      "沙县小吃史上第一条广告！\n",
      "大爷说这幅最好看，说这是画了两个小年轻在处对象哈哈\n",
      "云南的和不是云南的都沉默了\n",
      "云 南 战 车\n",
      "全文都看不懂，七选五次次满分\n",
      "我 是 日 本 的\n",
      "【战斗首曝】逆水寒手游开启预约，武侠开放世界与战斗实机画面前瞻\n",
      "《 不 醒 人 室 》\n",
      "用时一个多月成功骑行穿越阿里中线，亚热乡水井房扎营休息一天\n",
      "【罗翔】结核病人上学记，学生可以告学校吗？\n",
      "“打倒北约 打倒帝国主义”\n",
      "为什么我国不强制服兵役\n",
      "30+连败赏金猎人？我能创造历史吗？\n",
      "小蓝鲸  厨子探店¥367\n",
      "骂骂咧咧地夸这种铁线莲\n",
      "《 卷 死 自 己 》\n",
      "当年唐国强老师拍的山东蓝翔的广告原来是这样拍出来的！\n"
     ]
    }
   ],
   "source": [
    "json_content = resp.json()\n",
    "for item in json_content['data']['list']:\n",
    "    print(item['title'])"
   ]
  },
  {
   "cell_type": "code",
   "execution_count": 11,
   "metadata": {},
   "outputs": [
    {
     "name": "stdout",
     "output_type": "stream",
     "text": [
      "再现绝美胡旋舞！还原李白眼中的汉唐夜宴\n",
      "如何偷走一架飞机\n",
      "满满海佛跳墙 厨子探店¥1？13\n",
      "探秘墨西哥街头美食，玉米病菌真的好吃吗？\n",
      "进来让世界感受一下什么是内卷王中王！！\n",
      "“短短几秒，央视记者就泪崩了，队长，快救救我”\n",
      "它改编自最残酷的现实，却被痛批价值观不正确\n",
      "河南农民翻看女儿课本，却发现自己牺牲，身份曝光引军区高度重视\n",
      "三 年 疫 情，欲 望 逐 减\n",
      "【罗翔】人身保护令也管不了张三虐待儿子？读评论#15\n",
      "“你们就是这样对待学长吗”\n",
      "拜登羞辱普通军人视频曝光：富人对战争才有发言权 你没有\n",
      "这个视频让你明白，任天堂到底有多牛？【生意02】\n",
      "《本草纲目》，加亿点点难度\n",
      "国防部正告美方：生化危机制造者必须作出澄清，光躲是躲不过去的\n",
      "b站网友写诗，一首比一首奇怪! !\n",
      "哟呼 跟主人一起回家\n",
      "多少个赞，明天射多少箭。（几个月没射箭了）\n",
      "中国人不骗中国人！4男子伪装性别实施诈骗，专骗日本男网友\n",
      "【漫威/高燃】爆肝3个月，只为这七分钟视听盛宴！Avengers Assemble！\n",
      "游戏内容及互动治理专项！3月社区治理月报\n",
      "这是碳基生物能做出的事吗\n",
      "范闲啥时候复活？！《庆余年》爆笑解说第15期(大结局)\n",
      "什么麻雀能受得了这三重刺激？\n",
      "《 本 草 纲 目 》 ，上 点 难 度\n",
      "这样子男生可以理解了吧\n",
      "总统竟然向毒贩求饶，全世界的禁毒战争还有希望赢吗？【乌鸦校尉】\n",
      "【原神/𝙎𝙝𝙖𝙙𝙤𝙬 𝙊𝙛 𝙏𝙝𝙚 𝙎𝙪𝙣】来自提瓦特大陆的视觉盛宴 !\n",
      "恋爱初期郊游！\n",
      "当我们需要合成收集一百种「阴间方块」？？！\n",
      "当我突然去接跳舞的女朋友下课 反差萌的女朋友真的sha 我！\n",
      "给你机会你不中用呀 - iPhonese3【值不值得买第547期】\n",
      "《这只猫有点猪》\n",
      "女孩无意间拍到对面小伙打电话，结果逐渐变成了一部“居家连续剧”，网友：这男人有点上头！\n",
      "重庆火烧铁板！老板当面玩火，直接把我看傻了…\n",
      "《崩坏：星穹铁道》漫游PV：「你」的选择\n",
      "你管这叫植物大战僵尸？#4\n",
      "我把自行车骑上了世界上海拔最高的公路垭口\n",
      "“我好像做了个很长的超英梦....”\n",
      "【极限打工人】一天打12份工，“30岁前存100万”\n",
      "蓝翔技校校长女儿荣婷实名举报母亲非法转移房产\n",
      "“有些人表面是笨蛋 实际上是…..”\n",
      "高虐｜本草纲目来啦！\n",
      "曾经火遍B站的《霜雪千年》，还有多少人记得当年的音乐区和古风圈？\n",
      "你用函数写作业，我用函数 做 动 画\n",
      "神秘人给特警蜀黍寄了一只哈士奇，特警蜀黍抑郁了\n",
      "网络热门爆款鉴定26\n",
      "穷养女，富养儿\n",
      "紫皮大蒜不会生气吧？\n",
      "沉浸式体验已婚男人的清晨\n",
      "重大突破！中国科学家可将二氧化碳合成葡萄糖、脂肪酸\n",
      "我去吃了英国评分最低的餐厅\n",
      "练过刘畊宏毽子操和没练过的都沉默了\n",
      "全 景 地 图\n",
      "牧羊犬血脉觉醒，开始圈大鹅了，是该给它买个羊肉串子了\n",
      "【原神】当萌新第一次带萌新打BOSS\n",
      "【半佛】中国氧气，世界霸气\n",
      "阿C手把手教你击剑【迫真】\n",
      "一口气看完《妻子变成小学生》10年前去世的妻子，变成小学生\n",
      "买一大箱绿色肉的顶级生蚝，绿翡翠，实现生蚝刺身的N种吃法\n"
     ]
    }
   ],
   "source": [
    "import requests\n",
    "#实现翻页\n",
    "page = 1\n",
    "while 1:\n",
    "    url = f'https://api.bilibili.com/x/web-interface/popular?ps=20&pn={page}'   \n",
    "    resp = requests.get(url=url)\n",
    "    json_content = resp.json()\n",
    "\n",
    "    for item in json_content['data']['list']:\n",
    "        print(item['title'])\n",
    "    \n",
    "    page += 1\n",
    "    if page > 3:\n",
    "        break"
   ]
  },
  {
   "cell_type": "markdown",
   "metadata": {},
   "source": [
    "## 3.正则表达式爬取网页"
   ]
  },
  {
   "cell_type": "code",
   "execution_count": 34,
   "metadata": {},
   "outputs": [
    {
     "data": {
      "text/plain": [
       "200"
      ]
     },
     "execution_count": 34,
     "metadata": {},
     "output_type": "execute_result"
    }
   ],
   "source": [
    "import requests\n",
    "from lxml import etree\n",
    "\n",
    "url = 'http://www.zazhipu.com/listb6_1_1_0_0.html'\n",
    "resp = requests.get(url=url)\n",
    "resp.status_code"
   ]
  },
  {
   "cell_type": "code",
   "execution_count": 36,
   "metadata": {},
   "outputs": [],
   "source": [
    "resp.encoding = 'gb2312'"
   ]
  },
  {
   "cell_type": "code",
   "execution_count": 37,
   "metadata": {},
   "outputs": [
    {
     "data": {
      "text/plain": [
       "'\\r\\n\\r\\n<!DOCTYPE html>\\r\\n<html>\\r\\n\\t<head>\\r\\n\\t\\t<meta charset=\"GB2312\">\\r\\n\\t\\t<title>地理 旅游 人文 杂志订阅_地理 旅游 人文_ 杂志铺:低价、便捷的杂志折扣订阅网</title>\\r\\n\\t\\t<META NAME=\"Keywords\" CONTENT=\" 地理 旅游 人文 杂志订阅,杂志订购,地理 旅游 人文_ 杂志铺,低价,便捷的杂志折扣订阅网\">\\r\\n        <META  Name=\"description\" CONTENT=\"地理 旅游 人文杂志订阅,杂志订购,提供地理 旅游 人文杂志低价优惠订阅、订购,杂志铺:低价、便捷的杂志折扣订阅网，提供上万种时尚杂志、财经杂志、旅游地理杂志、文学杂志、婴儿杂志、幼儿杂志、汽车杂志、家居杂志、专业杂志订阅、订购服务。\">\\r\\n\\t\\t<link rel=\"stylesheet\" href=\"newindexfile/css/swiper.min.css\" />\\r\\n\\t\\t<link rel=\"stylesheet\" href=\"newindexfile/css/public.css\" />\\r\\n\\t\\t<link rel=\"stylesheet\" href=\"newfiles/css/searchresult.css\" />\\r\\n\\t\\t<script type=\"text/javascript\" src=\"newindexfile/js/jquery-3.1.0.min.js\" ></script>\\r\\n\\t\\t<script type=\"text/javascript\" src=\"newindexfile/js/swiper.min.js\" ></script>\\r\\n\\t\\t<script type=\"text/javascript\" src=\"https://dl.ntalker.com/js/xn6/ntkfstat.js?siteid=kf_10182\"></script>\\r\\n\\t\\t<script type=\"text/javascript\" src=\"newfiles/js/searchresult.js\" ></script>\\r\\n\\t<meta http-equiv=\"Content-Type\" content=\"text/html; charset=gb2312\"></head>\\r\\n\\t<body>\\r\\n\\t\\t<style>\\r\\n\\t\\t\\t/*<!-- 控制分类的默认展开 -->*/\\r\\n\\t\\t\\t.hb_navlist_boxs{\\r\\n\\t\\t\\t\\t/*隐藏分类导航*/\\r\\n\\t\\t\\t\\tdisplay: none;\\r\\n\\t\\t\\t\\t/*显示分类导航*/\\r\\n\\t\\t\\t\\t/*display: block;*/\\r\\n\\t\\t\\t}\\r\\n\\t\\t\\t/*<!-- 隐藏右边导航 -->*/\\r\\n\\t\\t\\t.indexrnav{display:none !important}\\r\\n\\t\\t\\t.hc_search:hover .hc_search_more{\\r\\n\\t\\t\\t\\tdisplay: block;\\r\\n\\t\\t\\t}\\r\\n\\t\\t</style>\\r\\n\\t\\t  \\r\\n\\t\\t<link rel=\"stylesheet\" href=\"newindexfile/css/swiper.min.css\" />\\r\\n\\t\\t<link rel=\"stylesheet\" href=\"newindexfile/css/public.css\" />\\r\\n\\t\\t<script type=\"text/javascript\" src=\"newindexfile/js/jquery-3.1.0.min.js\" ></script>\\r\\n\\t\\t<script type=\"text/javascript\" src=\"newindexfile/js/swiper.min.js\" ></script>\\r\\n\\r\\n\\t\\r\\n\\t\\r\\n\\t\\t<style>\\r\\n\\t\\t\\t/*<!-- 控制分类的默认展开 -->*/\\r\\n\\t\\t\\t.hb_navlist_boxs{\\r\\n\\t\\t\\t\\t/*隐藏分类导航*/\\r\\n\\t\\t\\t\\tdisplay: none;\\r\\n\\t\\t\\t\\t/*显示分类导航*/\\r\\n\\t\\t\\t\\t/*display: block;*/\\r\\n\\t\\t\\t}\\r\\n\\t\\t\\t/*<!-- 隐藏右边导航 -->*/\\r\\n\\t\\t\\t.indexrnav{display:none !important}\\r\\n\\t\\t\\t.hc_search:hover .hc_search_more{\\r\\n\\t\\t\\t\\tdisplay: block;\\r\\n\\t\\t\\t}\\r\\n\\t\\t</style>\\r\\n\\t\\t<div class=\"header\">\\r\\n\\t\\t\\t<!-- 左导航 -->\\r\\n\\t\\t\\t\\r\\n\\t\\t\\t<!-- 顶部导航 -->\\r\\n\\t\\t\\t\\r\\n<div class=\"head_ad\">\\r\\n\\t\\t\\t\\t<a href=\"http://hd.zazhipu.com/\"><img src=\"http://img.zazhipu.com/bookpic/20224/2022426172533.jpg\"></a><span class=\"close_ad\"><img src=\"newfiles/img/erreo.png\"></span>\\r\\n\\t\\t\\t</div>\\r\\n\\r\\n\\r\\n\\r\\n\\t\\t\\t\\r\\n\\t\\t\\t<div class=\"shortcut\">\\r\\n\\t\\t\\t\\t<div class=\"w\">\\r\\n\\t\\t\\t\\t\\t<div class=\"shortcut_l\">\\r\\n\\t\\t\\t\\t\\t\\t<ul>\\r\\n\\t\\t\\t\\t\\t\\t\\t<li>\\r\\n\\t\\t\\t\\t\\t\\t\\t\\t<div class=\"head_dh\">\\r\\n\\t\\t\\t\\t\\t\\t\\t\\t\\t<a href=\"http://www.zazhipu.com/app/\">手机杂志铺<img src=\"newindexfile/img/xx.png\" /></a>\\r\\n\\t\\t\\t\\t\\t\\t\\t\\t</div>\\r\\n\\t\\t\\t\\t\\t\\t\\t\\t<!-- <div class=\"head_dhinfo\" style=\"left: -1px;\">\\r\\n\\t\\t\\t\\t\\t\\t\\t\\t\\t<dl class=\"fore1\"><dt>特色主题</dt>\\r\\n\\t\\t\\t\\t\\t\\t\\t\\t\\t\\t<dd>\\r\\n\\t\\t\\t\\t\\t\\t\\t\\t\\t\\t\\t<div class=\"item\">\\r\\n\\t\\t\\t\\t\\t\\t\\t\\t\\t\\t\\t\\t<a href=\"http://hd.zazhipu.com/\" target=\"_blank\" class=\"\" tabindex=\"-1\" role=\"menuitem\">特价杂志</a>\\r\\n\\t\\t\\t\\t\\t\\t\\t\\t\\t\\t\\t</div>\\r\\n\\t\\t\\t\\t\\t\\t\\t\\t\\t\\t\\t\\r\\n\\t\\t\\t\\t\\t\\t\\t\\t\\t\\t</dd>\\r\\n\\t\\t\\t\\t\\t\\t\\t\\t\\t</dl>\\r\\n\\t\\t\\t\\t\\t\\t\\t\\t\\t\\r\\n\\t\\t\\t\\t\\t\\t\\t\\t</div> -->\\r\\n\\t\\t\\t\\t\\t\\t\\t</li>\\r\\n\\t\\t\\t\\t\\t\\t\\t<li>\\r\\n\\t\\t\\t\\t\\t\\t\\t\\t<div class=\"head_dh\">\\r\\n\\t\\t\\t\\t\\t\\t\\t\\t\\t<a href=\"http://www.zazhipu.com/wc/\">积分商城<img src=\"newindexfile/img/xx.png\" /></a>\\r\\n\\t\\t\\t\\t\\t\\t\\t\\t</div>\\r\\n\\t\\t\\t\\t\\t\\t\\t\\t<!-- <div class=\"head_dhinfo\" style=\"left: -86px;\">\\r\\n\\t\\t\\t\\t\\t\\t\\t\\t\\t222\\r\\n\\t\\t\\t\\t\\t\\t\\t\\t</div> -->\\r\\n\\t\\t\\t\\t\\t\\t\\t</li>\\r\\n\\t\\t\\t\\t\\t\\t\\t<li>\\r\\n\\t\\t\\t\\t\\t\\t\\t\\t<div class=\"head_dh\">\\r\\n\\t\\t\\t\\t\\t\\t\\t\\t\\t<a href=\"http://www.zazhipu.com/zhuanti404.html\">知识课堂<img src=\"newindexfile/img/xx.png\" /></a>\\r\\n\\t\\t\\t\\t\\t\\t\\t\\t</div>\\r\\n<!-- \\t\\t\\t\\t\\t\\t\\t\\t<div class=\"head_dhinfo\" style=\"left: -174px;\">\\r\\n\\t\\t\\t\\t\\t\\t\\t\\t\\t333\\r\\n\\t\\t\\t\\t\\t\\t\\t\\t</div> -->\\r\\n\\t\\t\\t\\t\\t\\t\\t</li>\\r\\n\\t\\t\\t\\t\\t\\t</ul>\\r\\n\\t\\t\\t\\t\\t</div>\\r\\n\\t\\t\\t\\t\\t<div class=\"shortcut_r\">\\r\\n\\t\\t\\t\\t\\t\\t<ul>\\r\\n\\t\\t\\t\\t\\t\\t    <li><a class=\\'head_tips\\' href=\\'javascript:void(0)\\'>您好，欢迎访问杂志铺&nbsp;&nbsp;&nbsp;</a><a class=\\'head_login\\' href=http://www.zazhipu.com/dl.asp>请您登录</a> </li><li><a class=\\'head_register\\'  href=http://www.zazhipu.com/reg.asp>注册</a> </li>\\r\\n\\t\\t\\t\\t\\t\\t\\t\\r\\n\\t\\t\\t\\t\\t\\t\\t<li>\\r\\n\\t\\t\\t\\t\\t\\t\\t\\t<a class=\"\" href=\"http://www.zazhipu.com/mydd.asp\">我的订单</a>\\r\\n\\t\\t\\t\\t\\t\\t\\t</li>\\r\\n\\t\\t\\t\\t\\t\\t\\t<li>\\r\\n\\t\\t\\t\\t\\t\\t\\t\\t<a class=\"\" href=\"http://www.zazhipu.com/myzw.asp\">我的账户</a>\\r\\n\\t\\t\\t\\t\\t\\t\\t</li>\\r\\n\\t\\t\\t\\t\\t\\t\\t<li>\\r\\n\\t\\t\\t\\t\\t\\t\\t\\t<a class=\"\" href=\"http://www.zazhipu.com/helplist103.html\">发货查询</a>\\r\\n\\t\\t\\t\\t\\t\\t\\t</li>\\r\\n\\t\\t\\t\\t\\t\\t\\t<li>\\r\\n\\t\\t\\t\\t\\t\\t\\t\\t<a class=\"\" href=\"http://www.zazhipu.com/tuangou.asp\">企业团购</a>\\r\\n\\t\\t\\t\\t\\t\\t\\t</li>\\r\\n\\t\\t\\t\\t\\t\\t\\t<li>\\r\\n\\t\\t\\t\\t\\t\\t\\t\\t<a class=\"\" href=\"http://www.zazhipu.com/myvip.asp\">杂志续订</a>\\r\\n\\t\\t\\t\\t\\t\\t\\t</li>\\r\\n\\t\\t\\t\\t\\t\\t\\t<li>\\r\\n\\t\\t\\t\\t\\t\\t\\t\\t<a class=\"\" href=\"http://www.zazhipu.com/help.asp\">帮助中心</a>\\r\\n\\t\\t\\t\\t\\t\\t\\t</li>\\r\\n\\t\\t\\t\\t\\t\\t</ul>\\r\\n\\t\\t\\t\\t\\t</div>\\r\\n\\t\\t\\t\\t</div>\\r\\n\\t\\t\\t</div>\\r\\n\\t\\t\\t<div class=\"header_c\">\\r\\n\\t\\t\\t\\t<div class=\"hc_box\">\\r\\n\\t\\t\\t\\t\\t<div class=\"hc_logo\">\\r\\n\\t\\t\\t\\t\\t\\t<a href=\"http://www.zazhipu.com\"><img src=\"newindexfile/img/logo.png\" alt=\"杂志铺：订杂志上杂志铺，专业的杂志订阅服务平台，提供数千种育儿、中小学、财经、时尚、文学阅读、科技科普、旅游生活、艺术设计，专业技术类杂志订阅服务！\" /></a>\\r\\n\\t\\t\\t\\t\\t</div>\\r\\n\\t\\t\\t\\t\\t<div class=\"hc_search\">\\r\\n\\t\\t\\t\\t\\t\\t<div class=\"hc_search_more\">\\r\\n\\t\\t\\t\\t\\t\\t\\t<p class=\"hc_search_more_title\">正在热搜中</p>\\r\\n\\t\\t\\t\\t\\t\\t\\t<div class=\"hc_search_more_info\">\\r\\n\\t\\t\\t\\t\\t\\t\\t\\t<a href=\"so.asp?searchword=环球少年地理\" class=\"cymore\">环球少年地理</a>\\r\\n\\t\\t\\t<a href=\"so.asp?searchword=国家地理\">国家地理</a>\\r\\n\\t\\t\\t<a href=\"so.asp?searchword=万物\" class=\"cymore\">万物</a>\\r\\n\\t\\t\\t<a href=\"so.asp?searchword=问天少年\" class=\"cymore\">问天少年</a>\\r\\n\\t\\t\\t<a href=\"so.asp?searchword=环球科学\">环球科学</a>\\r\\n\\t\\t\\t<a href=\"so.asp?searchword=好奇号\" class=\"cymore\">好奇号</a>\\r\\n\\t\\t\\t<a href=\"so.asp?searchword=哈佛商业评论\" class=\"cymore\">哈佛商业评论</a>\\r\\n\\t\\t\\t<a href=\"so.asp?searchword=奇点科学\" class=\"cymore\">奇点科学</a>\\r\\n\\t\\t\\t<a href=\"so.asp?searchword=小马斯\" class=\"cymore\">小马斯</a>\\r\\n\\t\\t\\t<a href=\"so.asp?searchword=幼儿园\">幼儿园</a>\\r\\n\\t\\t\\t<a href=\"so.asp?searchword=好奇号\">好奇号</a>\\r\\n\\t\\t\\t<a href=\"so.asp?searchword=科幻世界\">科幻世界</a>\\r\\n\\t\\t\\t<a href=\"so.asp?searchword=天文爱好者\" class=\"cymore\"  target=\"_blank\">天文爱好者</a>\\r\\n\\t\\t\\t<a href=\"so.asp?searchWord=%D2%E2%C1%D6%D4%D3%D6%BE\">意林杂志</a>\\r\\n\\t\\t\\t\\t\\r\\n\\t\\t  <a  href=\"so.asp?searchword=%CA%B5%D3%C3%CE%C4%D5%AA\">实用文摘</a>\\r\\n\\t\\t  \\r\\n\\t\\t  <a  href=\"so.asp?searchword=%B0%C2%C3%D8\">奥秘</a>\\r\\n\\t\\t  \\r\\n\\t\\t  <a  href=\"so.asp?searchword=%BF%B4%CC%EC%CF%C2\">看天下</a>\\r\\n\\t\\t  \\r\\n\\t\\t  <a  href=\"so.asp?searchword=%C4%CF%B7%BD%C8%CB%CE%EF%D6%DC%BF%AF\">南方人物周刊</a>\\r\\n\\t\\t  \\r\\n\\t\\t  <a  href=\"so.asp?searchword=%BB%B7%C7%F2%C8%CB%CE%EF\">环球人物</a>\\r\\n\\t\\t  \\r\\n\\t\\t  <a  href=\"so.asp?searchword=%B6%F9%CD%AF%CE%C4%D1%A7\">儿童文学</a>\\r\\n\\t\\t  \\r\\n\\t\\t  <a  href=\"so.asp?searchword=%BF%CE%CC%C3%C4%DA%CD%E2\">课堂内外</a>\\r\\n\\t\\t  \\r\\n\\t\\t  <a  href=\"so.asp?searchword=%CE%D2%C3%C7%B0%AE%BF%C6%D1%A7\">我们爱科学</a>\\r\\n\\t\\t  \\r\\n\\t\\t  <a  href=\"so.asp?searchword=%BB%B7%C7%F2%CC%BD%CB%F7\">环球探索</a>\\r\\n\\t\\t  \\r\\n\\t\\t  <a  href=\"so.asp?searchword=%B5%CF%CA%BF%C4%E1\">迪士尼</a>\\r\\n\\t\\t  \\r\\n\\t\\t\\t<a href=\"so.asp?searchword=米小圈\" class=\"cymore\">米小圈</a>\\r\\n\\t\\t\\t<a href=\"so.asp?searchword=探索与发现\">探索与发现</a>\\r\\n\\t\\t\\t<a href=\"so.asp?searchword=知识就是力量\" class=\"cymore\">知识就是力量</a>\\r\\n\\t\\t\\t<a href=\"so.asp?searchword=宝贝盒子\">宝贝盒子</a>\\r\\n\\t\\t\\t<a href=\"so.asp?searchword=探索历史\" class=\"cymore\">探索历史</a>\\r\\n\\t\\t\\t<a href=\"so.asp?searchword=少年交际与口才\">少年交际与口才</a>\\r\\n\\t\\t\\t<a href=\"http://www.zazhipu.com/listb.asp?id=25\">外版期刊</a>\\r\\n\\t\\t\\t\\t\\t\\t\\t</div>\\r\\n\\t\\t\\t\\t\\t\\t\\t<p class=\"hc_search_more_title\">精彩活动</p>\\r\\n\\t\\t\\t\\t\\t\\t\\t<div class=\"hc_search_hd_info\">\\r\\n\\t\\t\\t\\t\\t\\t\\t\\t<a href=\"http://hd.zazhipu.com/912hd.asp\"><img src=\"http://912.zazhipu.com/newindexfile/img/5z.png\" />五折专区</a>\\r\\n\\t\\t\\t\\t\\t\\t\\t\\t<a href=\"http://hd.zazhipu.com/baoyou.asp\"><img src=\"http://912.zazhipu.com/newindexfile/img/by.png\" />包邮专区</a>\\r\\n\\t\\t\\t\\t\\t\\t\\t\\t<a href=\"http://hd.zazhipu.com/xinkan.asp\"><img src=\"http://912.zazhipu.com/newindexfile/img/xktj.png\" />新刊推荐</a>\\r\\n\\t\\t\\t\\t\\t\\t\\t\\t<a href=\"http://912.zazhipu.com/912wc.asp\"><img src=\"http://912.zazhipu.com/newindexfile/img/wcsc.png\" />文创商城</a>\\r\\n\\t\\t\\t\\t\\t\\t\\t\\t<a href=\"http://hd.zazhipu.com/912zuhe.asp\"><img src=\"http://912.zazhipu.com/newindexfile/img/zhzq.png\" />组合专区</a>\\r\\n\\t\\t\\t\\t\\t\\t\\t\\t<a href=\"http://www.zazhipu.com/zhuanti404.html\"><img src=\"http://912.zazhipu.com/newindexfile/img/zskt.png\" />知识课堂</a>\\r\\n\\t\\t\\t\\t\\t\\t\\t\\t<a href=\"http://hd.zazhipu.com/shudan.asp\"><img src=\"http://912.zazhipu.com/newindexfile/img/jcjm.png\" />精选书单</a>\\r\\n\\t\\t\\t\\t\\t\\t\\t</div>\\r\\n\\t\\t\\t\\t\\t\\t\\t\\r\\n\\t\\t\\t\\t\\t\\t</div>\\r\\n\\t\\t\\t\\t\\t\\t<div class=\"hc_serch_c\">\\r\\n\\t\\t\\t\\t\\t\\t\\t<form action=\"so.asp\" method=\"get\" onSubmit=\"if(document.getElementById(\\'key\\').value==\\'\\'){document.getElementById(\\'key\\').value=\\'环球少年地理\\';}\">\\r\\n\\r\\n\\t\\t\\t\\t\\t\\t\\t\\t<img src=\"newindexfile/img/search.png\" class=\"hc_search_icon\" />\\r\\n\\t\\t\\t\\t\\t\\t\\t\\t<input id=\"key\" autocomplete=\"off\" name=\"searchWord\" type=\"text\" placeholder=\"环球少年地理\" onKeyDown=\"if(event.keyCode==13){if(document.getElementById(\\'key\\').value==\\'\\'){document.getElementById(\\'key\\').value=\\'环球少年地理\\'}}\" onFocus=\"if(document.getElementById(\\'key\\').value==\\'环球少年地理\\'){document.getElementById(\\'key\\').value=\\'\\';}\" />\\r\\n\\t\\t\\t\\t\\t\\t\\t\\t<button type=\"submit\">搜索</button>\\r\\n\\t\\t\\t\\t\\t\\t\\t</form>\\r\\n\\t\\t\\t\\t\\t\\t</div>\\r\\n\\t\\t\\t\\t\\t</div>\\r\\n\\t\\t\\t\\t\\t<div class=\"hc_lable\">\\r\\n\\t\\t\\t\\t\\t\\t \\r\\n<a href=\"http://www.zazhipu.com/so.asp?searchWord=%BA%C3%C6%E6%BA%C5\"><font color=red>好奇号</font></a>\\r\\n\\r\\n<a href=\"http://www.zazhipu.com/so.asp?searchWord=%C9%CC%BD%E7%C9%D9%C4%EA\"><font color=blue>商界少年</font></a>\\r\\n\\r\\n<a href=\"http://www.zazhipu.com/so.asp?searchWord=%CD%F2%CE%EF\">万物</a>\\r\\n\\r\\n<a href=\"http://www.zazhipu.com/so.asp?searchWord=%C6%E6%B5%E3%BF%C6%D1%A7\"><font color=red>奇点科学</font></a>\\r\\n\\r\\n<a href=\"http://www.zazhipu.com/2000498.html\"><font color=blue>第一财经</font></a>\\r\\n\\r\\n<a href=\"http://www.zazhipu.com/2000977.html\"><font color=blue>读者</font></a>\\r\\n\\r\\n<a href=\"http://www.zazhipu.com/so.asp?searchWord=%CE%CA%CC%EC%C9%D9%C4%EA\"><font color=red>问天少年</font></a>\\r\\n \\r\\n\\t\\t\\t\\t\\t</div>\\r\\n\\t\\t\\t\\t\\t<div class=\"hc_r_gwc\">\\r\\n\\t\\t\\t\\t\\t\\t<a href=\"addcar.asp\"><img src=\"newindexfile/img/gwc.png\" />购物车<label></label></a>\\r\\n\\t\\t\\t\\t\\t</div>\\r\\n\\t\\t\\t\\t</div>\\r\\n\\t\\t\\t</div>\\r\\n\\t\\t\\t<div class=\"header_b\">\\r\\n\\t\\t\\t\\t<div class=\"hb_navlist\">\\r\\n\\t\\t\\t\\t\\t<div class=\"hb_navlist_title\">\\r\\n\\t\\t\\t\\t\\t\\t<a href=\"fl.asp\"><img src=\"newindexfile/img/more.png\" />全部商品分类</a>\\r\\n\\t\\t\\t\\t\\t</div>\\r\\n\\t\\t\\t\\t\\t<div class=hb_navlist_boxs><div class=hb_navlist_info><ul>\\t<li><a href=\\'http://www.zazhipu.com/listb59_1_1_0_0.html\\' target=\\'_blank\\'>少儿<span> 丨 </span>兴趣<span> 丨 </span>阅读</a><span></li>\\t<li><a href=\\'http://www.zazhipu.com/listb6_1_1_0_0.html\\' target=\\'_blank\\'>地理<span> 丨 </span>旅游<span> 丨 </span>人文</a><span></li>\\t<li><a href=\\'http://www.zazhipu.com/listb17_1_1_0_0.html\\' target=\\'_blank\\'>校园<span> 丨 </span>学习<span> 丨 </span>辅导</a><span></li>\\t<li><a href=\\'http://www.zazhipu.com/listb5_1_1_0_0.html\\' target=\\'_blank\\'>母婴<span> 丨 </span>亲子<span> 丨 </span>育儿</a><span></li>\\t<li><a href=\\'http://www.zazhipu.com/listb1_1_1_0_0.html\\' target=\\'_blank\\'>时尚<span> 丨 </span>服饰<span> 丨 </span>美妆</a><span></li>\\t<li><a href=\\'http://www.zazhipu.com/listb2_1_1_0_0.html\\' target=\\'_blank\\'>财经<span> 丨 </span>商业<span> 丨 </span>管理</a><span></li>\\t<li><a href=\\'http://www.zazhipu.com/listb4_1_1_0_0.html\\' target=\\'_blank\\'>文学<span> 丨 </span>文摘<span> 丨 </span>经典</a><span></li>\\t<li><a href=\\'http://www.zazhipu.com/listb7_1_1_0_0.html\\' target=\\'_blank\\'>家庭<span> 丨 </span>健康<span> 丨 </span>养生</a><span></li>\\t<li><a href=\\'http://www.zazhipu.com/listb71_1_1_0_0.html\\' target=\\'_blank\\'>按年龄选杂志</a><span></li>\\t<li><a href=\\'http://www.zazhipu.com/listb27_1_1_0_0.html\\' target=\\'_blank\\'>科普<span> 丨 </span>科技<span> 丨 </span>军事</a><span></li>\\t<li><a href=\\'http://www.zazhipu.com/listb3_1_1_0_0.html\\' target=\\'_blank\\'>时事<span> 丨 </span>时政<span> 丨 </span>新闻</a><span></li>\\t<li><a href=\\'http://www.zazhipu.com/listb9_1_1_0_0.html\\' target=\\'_blank\\'>建筑<span> 丨 </span>艺术<span> 丨 </span>设计</a><span></li>\\t<li><a href=\\'http://www.zazhipu.com/listb10_1_1_0_0.html\\' target=\\'_blank\\'>汽车<span> 丨 </span>男士<span> 丨 </span>品质</a><span></li>\\t<li><a href=\\'http://www.zazhipu.com/listb19_1_1_0_0.html\\' target=\\'_blank\\'>文化<span> 丨 </span>艺术<span> 丨 </span>收藏</a><span></li>\\t<li><a href=\\'http://www.zazhipu.com/listb28_1_1_0_0.html\\' target=\\'_blank\\'>人力<span> 丨 </span>职场<span> 丨 </span>培训</a><span></li>\\t<li><a href=\\'http://www.zazhipu.com/listb13_1_1_0_0.html\\' target=\\'_blank\\'>体育<span> 丨 </span>运动<span> 丨 </span>休闲</a><span></li></ul></div><div class=hb_navlist_info_r><div class=\\'hb_navlist_info_r_item\\'><div class=\\'hb_navlist_info_r_item_l\\'><dl class=\\'cate_detail_item cate_detail_item1\\'><dt class=\\'cate_detail_tit\\'><a href=\\'http://www.zazhipu.com/listm1296_1_1_0_0.html\\' class=\\'cate_detail_tit_lk\\' title=学前教育 target=\\'_blank\\'>学前教育<i></i></a></dt><dd class=\\'cate_detail_con\\'><a href=\\'http://www.zazhipu.com/lists3345_1_1_0_0.html\\' class=\\'cate_detail_con_lk\\' target=\\'_blank\\'>幼儿园</a><a href=\\'http://www.zazhipu.com/lists3351_1_1_0_0.html\\' class=\\'cate_detail_con_lk\\' target=\\'_blank\\'>幼儿智力世界</a><a href=\\'http://www.zazhipu.com/lists3352_1_1_0_0.html\\' class=\\'cate_detail_con_lk\\' target=\\'_blank\\'>幼儿智力开发画报</a><a href=\\'http://www.zazhipu.com/lists1807_1_1_0_0.html\\' class=\\'cate_detail_con_lk\\' target=\\'_blank\\'>米老鼠</a><a href=\\'http://www.zazhipu.com/lists1810_1_1_0_0.html\\' class=\\'cate_detail_con_lk\\' target=\\'_blank\\'>童趣</a><a href=\\'http://www.zazhipu.com/lists2753_1_1_0_0.html\\' class=\\'cate_detail_con_lk\\' target=\\'_blank\\'>马小跳</a><a href=\\'http://www.zazhipu.com/lists1817_1_1_0_0.html\\' class=\\'cate_detail_con_lk\\' target=\\'_blank\\'>小神龙俱乐部</a><a href=\\'http://www.zazhipu.com/lists2761_1_1_0_0.html\\' class=\\'cate_detail_con_lk\\' target=\\'_blank\\'>超级小神探</a><a href=\\'http://www.zazhipu.com/lists1819_1_1_0_0.html\\' class=\\'cate_detail_con_lk\\' target=\\'_blank\\'>百科探秘</a><a href=\\'http://www.zazhipu.com/lists1806_1_1_0_0.html\\' class=\\'cate_detail_con_lk\\' target=\\'_blank\\'>种星星画报 低年级注音版</a><a href=\\'http://www.zazhipu.com/lists1826_1_1_0_0.html\\' class=\\'cate_detail_con_lk\\' target=\\'_blank\\'>时事魔镜</a><a href=\\'http://www.zazhipu.com/lists1827_1_1_0_0.html\\' class=\\'cate_detail_con_lk\\' target=\\'_blank\\'>童话王国</a> </dd></dl><dl class=\\'cate_detail_item cate_detail_item1\\'><dt class=\\'cate_detail_tit\\'><a href=\\'http://www.zazhipu.com/listm1295_1_1_0_0.html\\' class=\\'cate_detail_tit_lk\\' title=少儿科普 target=\\'_blank\\'>少儿科普<i></i></a></dt><dd class=\\'cate_detail_con\\'><a href=\\'http://www.zazhipu.com/lists3366_1_1_0_0.html\\' class=\\'cate_detail_con_lk\\' target=\\'_blank\\'>环球探索（青少年版）</a><a href=\\'http://www.zazhipu.com/lists5654_1_1_0_0.html\\' class=\\'cate_detail_con_lk\\' target=\\'_blank\\'>环球少年地理</a><a href=\\'http://www.zazhipu.com/lists21407_1_1_0_0.html\\' class=\\'cate_detail_con_lk\\' target=\\'_blank\\'>好奇号</a><a href=\\'http://www.zazhipu.com/lists3349_1_1_0_0.html\\' class=\\'cate_detail_con_lk\\' target=\\'_blank\\'>我们爱科学（儿童版）</a><a href=\\'http://www.zazhipu.com/lists3350_1_1_0_0.html\\' class=\\'cate_detail_con_lk\\' target=\\'_blank\\'>我们爱科学（少年版）</a><a href=\\'http://www.zazhipu.com/lists3359_1_1_0_0.html\\' class=\\'cate_detail_con_lk\\' target=\\'_blank\\'>博物</a><a href=\\'http://www.zazhipu.com/lists4392_1_1_0_0.html\\' class=\\'cate_detail_con_lk\\' target=\\'_blank\\'>知识就是力量</a><a href=\\'http://www.zazhipu.com/lists3355_1_1_0_0.html\\' class=\\'cate_detail_con_lk\\' target=\\'_blank\\'>少年科学画报</a><a href=\\'http://www.zazhipu.com/lists5715_1_1_0_0.html\\' class=\\'cate_detail_con_lk\\' target=\\'_blank\\'>科幻世界</a><a href=\\'http://www.zazhipu.com/lists3347_1_1_0_0.html\\' class=\\'cate_detail_con_lk\\' target=\\'_blank\\'>小哥白尼趣味科学画报</a><a href=\\'http://www.zazhipu.com/lists4132_1_1_0_0.html\\' class=\\'cate_detail_con_lk\\' target=\\'_blank\\'>探索与发现</a><a href=\\'http://www.zazhipu.com/lists3346_1_1_0_0.html\\' class=\\'cate_detail_con_lk\\' target=\\'_blank\\'>小牛顿</a> </dd></dl><dl class=\\'cate_detail_item cate_detail_item1\\'><dt class=\\'cate_detail_tit\\'><a href=\\'http://www.zazhipu.com/listm1324_1_1_0_0.html\\' class=\\'cate_detail_tit_lk\\' title=少儿文学 target=\\'_blank\\'>少儿文学<i></i></a></dt><dd class=\\'cate_detail_con\\'><a href=\\'http://www.zazhipu.com/lists3356_1_1_0_0.html\\' class=\\'cate_detail_con_lk\\' target=\\'_blank\\'>儿童文学（儿童版）</a><a href=\\'http://www.zazhipu.com/lists3358_1_1_0_0.html\\' class=\\'cate_detail_con_lk\\' target=\\'_blank\\'>儿童文学（少年版）</a><a href=\\'http://www.zazhipu.com/lists3357_1_1_0_0.html\\' class=\\'cate_detail_con_lk\\' target=\\'_blank\\'>少年文艺</a><a href=\\'http://www.zazhipu.com/lists4398_1_1_0_0.html\\' class=\\'cate_detail_con_lk\\' target=\\'_blank\\'>小溪流</a><a href=\\'http://www.zazhipu.com/lists2363_1_1_0_0.html\\' class=\\'cate_detail_con_lk\\' target=\\'_blank\\'>中华活页文选</a><a href=\\'http://www.zazhipu.com/lists2001_1_1_0_0.html\\' class=\\'cate_detail_con_lk\\' target=\\'_blank\\'>启迪与智慧</a><a href=\\'http://www.zazhipu.com/lists2248_1_1_0_0.html\\' class=\\'cate_detail_con_lk\\' target=\\'_blank\\'>意林小小姐</a><a href=\\'http://www.zazhipu.com/lists2748_1_1_0_0.html\\' class=\\'cate_detail_con_lk\\' target=\\'_blank\\'>少年先锋报</a><a href=\\'http://www.zazhipu.com/lists4393_1_1_0_0.html\\' class=\\'cate_detail_con_lk\\' target=\\'_blank\\'>趣味作文</a><a href=\\'http://www.zazhipu.com/lists5655_1_1_0_0.html\\' class=\\'cate_detail_con_lk\\' target=\\'_blank\\'>悦读</a><a href=\\'http://www.zazhipu.com/lists19072_1_1_0_0.html\\' class=\\'cate_detail_con_lk\\' target=\\'_blank\\'>新课标小学生拓展分级阅读</a><a href=\\'http://www.zazhipu.com/lists19075_1_1_0_0.html\\' class=\\'cate_detail_con_lk\\' target=\\'_blank\\'>儿童快乐读写+我爱写日记</a> </dd></dl><dl class=\\'cate_detail_item cate_detail_item1\\'><dt class=\\'cate_detail_tit\\'><a href=\\'http://www.zazhipu.com/listm1385_1_1_0_0.html\\' class=\\'cate_detail_tit_lk\\' title=小学生读物 target=\\'_blank\\'>小学生读物<i></i></a></dt><dd class=\\'cate_detail_con\\'><a href=\\'http://www.zazhipu.com/lists3694_1_1_0_0.html\\' class=\\'cate_detail_con_lk\\' target=\\'_blank\\'>江苏少儿</a><a href=\\'http://www.zazhipu.com/lists3371_1_1_0_0.html\\' class=\\'cate_detail_con_lk\\' target=\\'_blank\\'>意林少年版</a><a href=\\'http://www.zazhipu.com/lists5606_1_1_0_0.html\\' class=\\'cate_detail_con_lk\\' target=\\'_blank\\'>青少期刊系列</a><a href=\\'http://www.zazhipu.com/lists3372_1_1_0_0.html\\' class=\\'cate_detail_con_lk\\' target=\\'_blank\\'>意林小小姐</a><a href=\\'http://www.zazhipu.com/lists4346_1_1_0_0.html\\' class=\\'cate_detail_con_lk\\' target=\\'_blank\\'>中外少年</a><a href=\\'http://www.zazhipu.com/lists3373_1_1_0_0.html\\' class=\\'cate_detail_con_lk\\' target=\\'_blank\\'>意林小文学</a><a href=\\'http://www.zazhipu.com/lists3374_1_1_0_0.html\\' class=\\'cate_detail_con_lk\\' target=\\'_blank\\'>小学生阅读</a><a href=\\'http://www.zazhipu.com/lists4226_1_1_0_0.html\\' class=\\'cate_detail_con_lk\\' target=\\'_blank\\'>小猕猴</a><a href=\\'http://www.zazhipu.com/lists3667_1_1_0_0.html\\' class=\\'cate_detail_con_lk\\' target=\\'_blank\\'>马小跳系列</a><a href=\\'http://www.zazhipu.com/lists3759_1_1_0_0.html\\' class=\\'cate_detail_con_lk\\' target=\\'_blank\\'>小魔仙学院</a><a href=\\'http://www.zazhipu.com/lists3827_1_1_0_0.html\\' class=\\'cate_detail_con_lk\\' target=\\'_blank\\'>童话王国</a><a href=\\'http://www.zazhipu.com/lists3828_1_1_0_0.html\\' class=\\'cate_detail_con_lk\\' target=\\'_blank\\'>百科探秘</a> </dd></dl><dl class=\\'cate_detail_item cate_detail_item1\\'><dt class=\\'cate_detail_tit\\'><a href=\\'http://www.zazhipu.com/listm1386_1_1_0_0.html\\' class=\\'cate_detail_tit_lk\\' title=卡通动漫 target=\\'_blank\\'>卡通动漫<i></i></a></dt><dd class=\\'cate_detail_con\\'><a href=\\'http://www.zazhipu.com/lists3360_1_1_0_0.html\\' class=\\'cate_detail_con_lk\\' target=\\'_blank\\'>米老鼠</a><a href=\\'http://www.zazhipu.com/lists3361_1_1_0_0.html\\' class=\\'cate_detail_con_lk\\' target=\\'_blank\\'>米老鼠特刊</a><a href=\\'http://www.zazhipu.com/lists3362_1_1_0_0.html\\' class=\\'cate_detail_con_lk\\' target=\\'_blank\\'>赛车总动员</a><a href=\\'http://www.zazhipu.com/lists3363_1_1_0_0.html\\' class=\\'cate_detail_con_lk\\' target=\\'_blank\\'>小熊维尼</a><a href=\\'http://www.zazhipu.com/lists3364_1_1_0_0.html\\' class=\\'cate_detail_con_lk\\' target=\\'_blank\\'>巴啦啦小魔仙</a><a href=\\'http://www.zazhipu.com/lists3365_1_1_0_0.html\\' class=\\'cate_detail_con_lk\\' target=\\'_blank\\'>小公主</a><a href=\\'http://www.zazhipu.com/lists3394_1_1_0_0.html\\' class=\\'cate_detail_con_lk\\' target=\\'_blank\\'>终极米迷</a><a href=\\'http://www.zazhipu.com/lists3397_1_1_0_0.html\\' class=\\'cate_detail_con_lk\\' target=\\'_blank\\'>赛尔号</a><a href=\\'http://www.zazhipu.com/lists3398_1_1_0_0.html\\' class=\\'cate_detail_con_lk\\' target=\\'_blank\\'>小花仙</a><a href=\\'http://www.zazhipu.com/lists4145_1_1_0_0.html\\' class=\\'cate_detail_con_lk\\' target=\\'_blank\\'>小公主苏菲亚</a><a href=\\'http://www.zazhipu.com/lists4225_1_1_0_0.html\\' class=\\'cate_detail_con_lk\\' target=\\'_blank\\'>咪咪画报</a><a href=\\'http://www.zazhipu.com/lists4391_1_1_0_0.html\\' class=\\'cate_detail_con_lk\\' target=\\'_blank\\'>马小跳幼儿天地</a> </dd></dl><dl class=\\'cate_detail_item cate_detail_item1\\'><dt class=\\'cate_detail_tit\\'><a href=\\'http://www.zazhipu.com/listm1405_1_1_0_0.html\\' class=\\'cate_detail_tit_lk\\' title=少儿国学 target=\\'_blank\\'>少儿国学<i></i></a></dt><dd class=\\'cate_detail_con\\'><a href=\\'http://www.zazhipu.com/lists5657_1_1_0_0.html\\' class=\\'cate_detail_con_lk\\' target=\\'_blank\\'>少儿国学低年级版</a><a href=\\'http://www.zazhipu.com/lists5658_1_1_0_0.html\\' class=\\'cate_detail_con_lk\\' target=\\'_blank\\'>少儿国学中高年级版</a><a href=\\'http://www.zazhipu.com/lists19238_1_1_0_0.html\\' class=\\'cate_detail_con_lk\\' target=\\'_blank\\'>经典国学故事</a> </dd></dl><dl class=\\'cate_detail_item cate_detail_item1\\'><dt class=\\'cate_detail_tit\\'><a href=\\'http://www.zazhipu.com/listm1406_1_1_0_0.html\\' class=\\'cate_detail_tit_lk\\' title=兴趣培养 target=\\'_blank\\'>兴趣培养<i></i></a></dt><dd class=\\'cate_detail_con\\'><a href=\\'http://www.zazhipu.com/lists5530_1_1_0_0.html\\' class=\\'cate_detail_con_lk\\' target=\\'_blank\\'>琴童</a><a href=\\'http://www.zazhipu.com/lists5659_1_1_0_0.html\\' class=\\'cate_detail_con_lk\\' target=\\'_blank\\'>天才小书法家</a><a href=\\'http://www.zazhipu.com/lists5660_1_1_0_0.html\\' class=\\'cate_detail_con_lk\\' target=\\'_blank\\'>七彩语文写字与书法版</a><a href=\\'http://www.zazhipu.com/lists5661_1_1_0_0.html\\' class=\\'cate_detail_con_lk\\' target=\\'_blank\\'>少儿美术书法版</a><a href=\\'http://www.zazhipu.com/lists19073_1_1_0_0.html\\' class=\\'cate_detail_con_lk\\' target=\\'_blank\\'>趣味数学故事会</a><a href=\\'http://www.zazhipu.com/lists19181_1_1_0_0.html\\' class=\\'cate_detail_con_lk\\' target=\\'_blank\\'>创想号系列</a><a href=\\'http://www.zazhipu.com/lists19245_1_1_0_0.html\\' class=\\'cate_detail_con_lk\\' target=\\'_blank\\'>原来语文可以这样学</a><a href=\\'http://www.zazhipu.com/lists21134_1_1_0_0.html\\' class=\\'cate_detail_con_lk\\' target=\\'_blank\\'>奥秘人工智能少儿版</a><a href=\\'http://www.zazhipu.com/lists21260_1_1_0_0.html\\' class=\\'cate_detail_con_lk\\' target=\\'_blank\\'>奥秘STEAM科技大赛</a><a href=\\'http://www.zazhipu.com/lists21275_1_1_0_0.html\\' class=\\'cate_detail_con_lk\\' target=\\'_blank\\'>奇趣博物馆</a><a href=\\'http://www.zazhipu.com/lists21296_1_1_0_0.html\\' class=\\'cate_detail_con_lk\\' target=\\'_blank\\'>军事密码</a><a href=\\'http://www.zazhipu.com/lists21307_1_1_0_0.html\\' class=\\'cate_detail_con_lk\\' target=\\'_blank\\'>小女生创意手工</a> </dd></dl><dl class=\\'cate_detail_item cate_detail_item1\\'><dt class=\\'cate_detail_tit\\'><a href=\\'http://www.zazhipu.com/listm1407_1_1_0_0.html\\' class=\\'cate_detail_tit_lk\\' title=少儿军事 target=\\'_blank\\'>少儿军事<i></i></a></dt><dd class=\\'cate_detail_con\\'><a href=\\'http://www.zazhipu.com/lists5663_1_1_0_0.html\\' class=\\'cate_detail_con_lk\\' target=\\'_blank\\'>小哥白尼军事科学画报</a><a href=\\'http://www.zazhipu.com/lists5664_1_1_0_0.html\\' class=\\'cate_detail_con_lk\\' target=\\'_blank\\'>军事文摘科学少年</a><a href=\\'http://www.zazhipu.com/lists5665_1_1_0_0.html\\' class=\\'cate_detail_con_lk\\' target=\\'_blank\\'>军事集结号（普通版）</a><a href=\\'http://www.zazhipu.com/lists5666_1_1_0_0.html\\' class=\\'cate_detail_con_lk\\' target=\\'_blank\\'>军事集结号（模型版）</a> </dd></dl><dl class=\\'cate_detail_item cate_detail_item1\\'><dt class=\\'cate_detail_tit\\'><a href=\\'http://www.zazhipu.com/listm1408_1_1_0_0.html\\' class=\\'cate_detail_tit_lk\\' title=智力开发 target=\\'_blank\\'>智力开发<i></i></a></dt><dd class=\\'cate_detail_con\\'><a href=\\'http://www.zazhipu.com/lists5635_1_1_0_0.html\\' class=\\'cate_detail_con_lk\\' target=\\'_blank\\'>幼儿智力世界</a><a href=\\'http://www.zazhipu.com/lists5636_1_1_0_0.html\\' class=\\'cate_detail_con_lk\\' target=\\'_blank\\'>幼儿园</a><a href=\\'http://www.zazhipu.com/lists5667_1_1_0_0.html\\' class=\\'cate_detail_con_lk\\' target=\\'_blank\\'>智力大王</a><a href=\\'http://www.zazhipu.com/lists5669_1_1_0_0.html\\' class=\\'cate_detail_con_lk\\' target=\\'_blank\\'>东方娃娃(智力版+绘本版)</a><a href=\\'http://www.zazhipu.com/lists5670_1_1_0_0.html\\' class=\\'cate_detail_con_lk\\' target=\\'_blank\\'>幼儿智力开发画报</a><a href=\\'http://www.zazhipu.com/lists5671_1_1_0_0.html\\' class=\\'cate_detail_con_lk\\' target=\\'_blank\\'>智力大世界</a><a href=\\'http://www.zazhipu.com/lists5672_1_1_0_0.html\\' class=\\'cate_detail_con_lk\\' target=\\'_blank\\'>小猕猴智力画刊</a><a href=\\'http://www.zazhipu.com/lists5673_1_1_0_0.html\\' class=\\'cate_detail_con_lk\\' target=\\'_blank\\'>东方娃娃智力游戏</a><a href=\\'http://www.zazhipu.com/lists5674_1_1_0_0.html\\' class=\\'cate_detail_con_lk\\' target=\\'_blank\\'>幼儿智力开发画报下半月刊</a><a href=\\'http://www.zazhipu.com/lists5675_1_1_0_0.html\\' class=\\'cate_detail_con_lk\\' target=\\'_blank\\'>智力学习与游戏</a><a href=\\'http://www.zazhipu.com/lists19240_1_1_0_0.html\\' class=\\'cate_detail_con_lk\\' target=\\'_blank\\'>动手与动脑</a><a href=\\'http://www.zazhipu.com/lists21294_1_1_0_0.html\\' class=\\'cate_detail_con_lk\\' target=\\'_blank\\'>娃娃乐园</a> </dd></dl><dl class=\\'cate_detail_item cate_detail_item1\\'><dt class=\\'cate_detail_tit\\'><a href=\\'http://www.zazhipu.com/listm1409_1_1_0_0.html\\' class=\\'cate_detail_tit_lk\\' title=3-6岁 target=\\'_blank\\'>3-6岁<i></i></a></dt><dd class=\\'cate_detail_con\\'><a href=\\'http://www.zazhipu.com/listm1409_1_1_0_0.html\\' class=\\'cate_detail_tit_lk\\' title=3-6岁  target=\\'_blank\\'>3-6岁<i></i></a> </dd></dl><dl class=\\'cate_detail_item cate_detail_item1\\'><dt class=\\'cate_detail_tit\\'><a href=\\'http://www.zazhipu.com/listm1410_1_1_0_0.html\\' class=\\'cate_detail_tit_lk\\' title=7-10岁 target=\\'_blank\\'>7-10岁<i></i></a></dt><dd class=\\'cate_detail_con\\'><a href=\\'http://www.zazhipu.com/listm1410_1_1_0_0.html\\' class=\\'cate_detail_tit_lk\\' title=7-10岁  target=\\'_blank\\'>7-10岁<i></i></a> </dd></dl><dl class=\\'cate_detail_item cate_detail_item1\\'><dt class=\\'cate_detail_tit\\'><a href=\\'http://www.zazhipu.com/listm1411_1_1_0_0.html\\' class=\\'cate_detail_tit_lk\\' title=11-14岁 target=\\'_blank\\'>11-14岁<i></i></a></dt><dd class=\\'cate_detail_con\\'><a href=\\'http://www.zazhipu.com/lists21315_1_1_0_0.html\\' class=\\'cate_detail_con_lk\\' target=\\'_blank\\'>Cobblestone</a> </dd></dl></div><div class=\\'hb_navlist_info_r_item_r\\'><p class=\\'hb_navlist_info_r_item_r_title\\'>热点专题</p><div class=\\'hb_navlist_info_r_item_r_info\\'><p class=\\'hb_navlist_info_r_item_r_info_t\\'>【少儿国学】必读国学，与经典同行</p><div class=\\'hb_navlist_info_r_item_r_info_img\\'><a href=\\'http://hd.zazhipu.com/shudandetail411.html\\'><img src=\\'http://img1.zazhipu.com/bookpic/20196/2019611134428.jpg?imageMogr2/thumbnail/400x \\'></a></div></div><div class=\\'hb_navlist_info_r_item_r_info\\'><p class=\\'hb_navlist_info_r_item_r_info_t\\'>【3~6岁】让孩子爱上阅读的绘本</p><div class=\\'hb_navlist_info_r_item_r_info_img\\'><a href=\\'http://hd.zazhipu.com/shudandetail408.html\\'><img src=\\'http://img1.zazhipu.com/bookpic/20199/2019912184623.jpg?imageMogr2/thumbnail/400x \\'></a></div></div><div class=\\'hb_navlist_info_r_item_r_info\\'><p class=\\'hb_navlist_info_r_item_r_info_t\\'>【11~14岁】青春期孩子必读书单</p><div class=\\'hb_navlist_info_r_item_r_info_img\\'><a href=\\'http://hd.zazhipu.com/shudandetail410.html\\'><img src=\\'http://img1.zazhipu.com/bookpic/20198/201983011218.jpg?imageMogr2/thumbnail/400x \\'></a></div></div></div></div><div class=\\'hb_navlist_info_r_item\\'><div class=\\'hb_navlist_info_r_item_l\\'><dl class=\\'cate_detail_item cate_detail_item1\\'><dt class=\\'cate_detail_tit\\'><a href=\\'http://www.zazhipu.com/listm1047_1_1_0_0.html\\' class=\\'cate_detail_tit_lk\\' title=旅游文化 target=\\'_blank\\'>旅游文化<i></i></a></dt><dd class=\\'cate_detail_con\\'><a href=\\'http://www.zazhipu.com/lists2316_1_1_0_0.html\\' class=\\'cate_detail_con_lk\\' target=\\'_blank\\'>孤独星球</a><a href=\\'http://www.zazhipu.com/lists5596_1_1_0_0.html\\' class=\\'cate_detail_con_lk\\' target=\\'_blank\\'>时尚旅游</a><a href=\\'http://www.zazhipu.com/lists3339_1_1_0_0.html\\' class=\\'cate_detail_con_lk\\' target=\\'_blank\\'>旅游世界</a><a href=\\'http://www.zazhipu.com/lists1782_1_1_0_0.html\\' class=\\'cate_detail_con_lk\\' target=\\'_blank\\'>西藏旅游</a><a href=\\'http://www.zazhipu.com/lists2777_1_1_0_0.html\\' class=\\'cate_detail_con_lk\\' target=\\'_blank\\'>中国旅游</a><a href=\\'http://www.zazhipu.com/lists3334_1_1_0_0.html\\' class=\\'cate_detail_con_lk\\' target=\\'_blank\\'>远方的家</a><a href=\\'http://www.zazhipu.com/lists3583_1_1_0_0.html\\' class=\\'cate_detail_con_lk\\' target=\\'_blank\\'>新旅行</a><a href=\\'http://www.zazhipu.com/lists4405_1_1_0_0.html\\' class=\\'cate_detail_con_lk\\' target=\\'_blank\\'>畅游江苏</a><a href=\\'http://www.zazhipu.com/lists5602_1_1_0_0.html\\' class=\\'cate_detail_con_lk\\' target=\\'_blank\\'>私家地理</a><a href=\\'http://www.zazhipu.com/lists19024_1_1_0_0.html\\' class=\\'cate_detail_con_lk\\' target=\\'_blank\\'>云南画报人文旅游</a><a href=\\'http://www.zazhipu.com/lists5604_1_1_0_0.html\\' class=\\'cate_detail_con_lk\\' target=\\'_blank\\'>中国国家旅游</a><a href=\\'http://www.zazhipu.com/lists19078_1_1_0_0.html\\' class=\\'cate_detail_con_lk\\' target=\\'_blank\\'>四川画报</a> </dd></dl><dl class=\\'cate_detail_item cate_detail_item1\\'><dt class=\\'cate_detail_tit\\'><a href=\\'http://www.zazhipu.com/listm1048_1_1_0_0.html\\' class=\\'cate_detail_tit_lk\\' title=人文风俗 target=\\'_blank\\'>人文风俗<i></i></a></dt><dd class=\\'cate_detail_con\\'><a href=\\'http://www.zazhipu.com/lists1775_1_1_0_0.html\\' class=\\'cate_detail_con_lk\\' target=\\'_blank\\'>旅游天地</a><a href=\\'http://www.zazhipu.com/lists1779_1_1_0_0.html\\' class=\\'cate_detail_con_lk\\' target=\\'_blank\\'>文明</a><a href=\\'http://www.zazhipu.com/lists3653_1_1_0_0.html\\' class=\\'cate_detail_con_lk\\' target=\\'_blank\\'>城市漫步</a><a href=\\'http://www.zazhipu.com/lists1781_1_1_0_0.html\\' class=\\'cate_detail_con_lk\\' target=\\'_blank\\'>西藏人文地理</a><a href=\\'http://www.zazhipu.com/lists1783_1_1_0_0.html\\' class=\\'cate_detail_con_lk\\' target=\\'_blank\\'>世界博览</a><a href=\\'http://www.zazhipu.com/lists21130_1_1_0_0.html\\' class=\\'cate_detail_con_lk\\' target=\\'_blank\\'>八闽侨声</a><a href=\\'http://www.zazhipu.com/lists5628_1_1_0_0.html\\' class=\\'cate_detail_con_lk\\' target=\\'_blank\\'>度假</a><a href=\\'http://www.zazhipu.com/lists3464_1_1_0_0.html\\' class=\\'cate_detail_con_lk\\' target=\\'_blank\\'>其他</a> </dd></dl><dl class=\\'cate_detail_item cate_detail_item1\\'><dt class=\\'cate_detail_tit\\'><a href=\\'http://www.zazhipu.com/listm1049_1_1_0_0.html\\' class=\\'cate_detail_tit_lk\\' title=游记 target=\\'_blank\\'>游记<i></i></a></dt><dd class=\\'cate_detail_con\\'><a href=\\'http://www.zazhipu.com/lists1788_1_1_0_0.html\\' class=\\'cate_detail_con_lk\\' target=\\'_blank\\'>漫旅</a><a href=\\'http://www.zazhipu.com/lists1793_1_1_0_0.html\\' class=\\'cate_detail_con_lk\\' target=\\'_blank\\'>大众汽车.汽车旅行</a><a href=\\'http://www.zazhipu.com/lists3465_1_1_0_0.html\\' class=\\'cate_detail_con_lk\\' target=\\'_blank\\'>其他</a><a href=\\'http://www.zazhipu.com/lists3340_1_1_0_0.html\\' class=\\'cate_detail_con_lk\\' target=\\'_blank\\'>旅友</a> </dd></dl><dl class=\\'cate_detail_item cate_detail_item1\\'><dt class=\\'cate_detail_tit\\'><a href=\\'http://www.zazhipu.com/listm1050_1_1_0_0.html\\' class=\\'cate_detail_tit_lk\\' title=旅行探险 target=\\'_blank\\'>旅行探险<i></i></a></dt><dd class=\\'cate_detail_con\\'><a href=\\'http://www.zazhipu.com/lists1733_1_1_0_0.html\\' class=\\'cate_detail_con_lk\\' target=\\'_blank\\'>户外探险</a><a href=\\'http://www.zazhipu.com/lists1792_1_1_0_0.html\\' class=\\'cate_detail_con_lk\\' target=\\'_blank\\'>地图map</a><a href=\\'http://www.zazhipu.com/lists1794_1_1_0_0.html\\' class=\\'cate_detail_con_lk\\' target=\\'_blank\\'>DEEP中国科学探险</a><a href=\\'http://www.zazhipu.com/lists5543_1_1_0_0.html\\' class=\\'cate_detail_con_lk\\' target=\\'_blank\\'>旅行家</a><a href=\\'http://www.zazhipu.com/lists3466_1_1_0_0.html\\' class=\\'cate_detail_con_lk\\' target=\\'_blank\\'>其他</a> </dd></dl><dl class=\\'cate_detail_item cate_detail_item1\\'><dt class=\\'cate_detail_tit\\'><a href=\\'http://www.zazhipu.com/listm1000_1_1_0_0.html\\' class=\\'cate_detail_tit_lk\\' title=时装服饰 target=\\'_blank\\'>时装服饰<i></i></a></dt><dd class=\\'cate_detail_con\\'><a href=\\'http://www.zazhipu.com/lists1588_1_1_0_0.html\\' class=\\'cate_detail_con_lk\\' target=\\'_blank\\'>elle世界时装之苑</a><a href=\\'http://www.zazhipu.com/lists1698_1_1_0_0.html\\' class=\\'cate_detail_con_lk\\' target=\\'_blank\\'>VOGUE服饰与美容</a><a href=\\'http://www.zazhipu.com/lists1589_1_1_0_0.html\\' class=\\'cate_detail_con_lk\\' target=\\'_blank\\'>时装_女装</a><a href=\\'http://www.zazhipu.com/lists1700_1_1_0_0.html\\' class=\\'cate_detail_con_lk\\' target=\\'_blank\\'>昕薇</a><a href=\\'http://www.zazhipu.com/lists1699_1_1_0_0.html\\' class=\\'cate_detail_con_lk\\' target=\\'_blank\\'>米娜</a><a href=\\'http://www.zazhipu.com/lists2020_1_1_0_0.html\\' class=\\'cate_detail_con_lk\\' target=\\'_blank\\'>内衣服饰</a><a href=\\'http://www.zazhipu.com/lists1701_1_1_0_0.html\\' class=\\'cate_detail_con_lk\\' target=\\'_blank\\'>上海服饰</a><a href=\\'http://www.zazhipu.com/lists1878_1_1_0_0.html\\' class=\\'cate_detail_con_lk\\' target=\\'_blank\\'>服装店</a><a href=\\'http://www.zazhipu.com/lists1720_1_1_0_0.html\\' class=\\'cate_detail_con_lk\\' target=\\'_blank\\'>红秀grazia</a><a href=\\'http://www.zazhipu.com/lists1879_1_1_0_0.html\\' class=\\'cate_detail_con_lk\\' target=\\'_blank\\'>CéCi姐妹</a><a href=\\'http://www.zazhipu.com/lists1881_1_1_0_0.html\\' class=\\'cate_detail_con_lk\\' target=\\'_blank\\'>嘉人</a><a href=\\'http://www.zazhipu.com/lists1883_1_1_0_0.html\\' class=\\'cate_detail_con_lk\\' target=\\'_blank\\'>coco少女服饰</a> </dd></dl><dl class=\\'cate_detail_item cate_detail_item1\\'><dt class=\\'cate_detail_tit\\'><a href=\\'http://www.zazhipu.com/listm1051_1_1_0_0.html\\' class=\\'cate_detail_tit_lk\\' title=户外运动 target=\\'_blank\\'>户外运动<i></i></a></dt><dd class=\\'cate_detail_con\\'><a href=\\'http://www.zazhipu.com/lists1774_1_1_0_0.html\\' class=\\'cate_detail_con_lk\\' target=\\'_blank\\'>旅行者</a><a href=\\'http://www.zazhipu.com/lists1776_1_1_0_0.html\\' class=\\'cate_detail_con_lk\\' target=\\'_blank\\'>自驾游</a><a href=\\'http://www.zazhipu.com/lists1787_1_1_0_0.html\\' class=\\'cate_detail_con_lk\\' target=\\'_blank\\'>户外</a><a href=\\'http://www.zazhipu.com/lists3467_1_1_0_0.html\\' class=\\'cate_detail_con_lk\\' target=\\'_blank\\'>其他</a> </dd></dl><dl class=\\'cate_detail_item cate_detail_item1\\'><dt class=\\'cate_detail_tit\\'><a href=\\'http://www.zazhipu.com/listm1412_1_1_0_0.html\\' class=\\'cate_detail_tit_lk\\' title=自驾旅游 target=\\'_blank\\'>自驾旅游<i></i></a></dt><dd class=\\'cate_detail_con\\'><a href=\\'http://www.zazhipu.com/lists5676_1_1_0_0.html\\' class=\\'cate_detail_con_lk\\' target=\\'_blank\\'>自驾游</a> </dd></dl><dl class=\\'cate_detail_item cate_detail_item1\\'><dt class=\\'cate_detail_tit\\'><a href=\\'http://www.zazhipu.com/listm1413_1_1_0_0.html\\' class=\\'cate_detail_tit_lk\\' title=少儿地理 target=\\'_blank\\'>少儿地理<i></i></a></dt><dd class=\\'cate_detail_con\\'><a href=\\'http://www.zazhipu.com/listm1413_1_1_0_0.html\\' class=\\'cate_detail_tit_lk\\' title=少儿地理  target=\\'_blank\\'>少儿地理<i></i></a> </dd></dl><dl class=\\'cate_detail_item cate_detail_item1\\'><dt class=\\'cate_detail_tit\\'><a href=\\'http://www.zazhipu.com/listm1058_1_1_0_0.html\\' class=\\'cate_detail_tit_lk\\' title=地理知识 target=\\'_blank\\'>地理知识<i></i></a></dt><dd class=\\'cate_detail_con\\'><a href=\\'http://www.zazhipu.com/lists2119_1_1_0_0.html\\' class=\\'cate_detail_con_lk\\' target=\\'_blank\\'>中国国家地理</a><a href=\\'http://www.zazhipu.com/lists3336_1_1_0_0.html\\' class=\\'cate_detail_con_lk\\' target=\\'_blank\\'>华夏地理</a><a href=\\'http://www.zazhipu.com/lists3342_1_1_0_0.html\\' class=\\'cate_detail_con_lk\\' target=\\'_blank\\'>环球人文地理</a><a href=\\'http://www.zazhipu.com/lists3559_1_1_0_0.html\\' class=\\'cate_detail_con_lk\\' target=\\'_blank\\'>国家地理</a><a href=\\'http://www.zazhipu.com/lists3469_1_1_0_0.html\\' class=\\'cate_detail_con_lk\\' target=\\'_blank\\'>其他</a> </dd></dl></div><div class=\\'hb_navlist_info_r_item_r\\'><p class=\\'hb_navlist_info_r_item_r_title\\'>热点专题</p><div class=\\'hb_navlist_info_r_item_r_info\\'><p class=\\'hb_navlist_info_r_item_r_info_t\\'>【地理知识】旅游必备地理知识来了，你有落后了吗？</p><div class=\\'hb_navlist_info_r_item_r_info_img\\'><a href=\\'http://hd.zazhipu.com/shudandetail420.html\\'><img src=\\'http://img1.zazhipu.com/bookpic/20198/2019831101453.jpg?imageMogr2/thumbnail/400x \\'></a></div></div><div class=\\'hb_navlist_info_r_item_r_info\\'><p class=\\'hb_navlist_info_r_item_r_info_t\\'>【自驾旅游】旅游还在跟着旅行团？这么做，掌控自己的职权</p><div class=\\'hb_navlist_info_r_item_r_info_img\\'><a href=\\'http://hd.zazhipu.com/shudandetail419.html\\'><img src=\\'http://img1.zazhipu.com/bookpic/20198/201983114550.jpg?imageMogr2/thumbnail/400x \\'></a></div></div><div class=\\'hb_navlist_info_r_item_r_info\\'><p class=\\'hb_navlist_info_r_item_r_info_t\\'>【旅行探险】还在把旅行和探险分开理解？You</p><div class=\\'hb_navlist_info_r_item_r_info_img\\'><a href=\\'http://hd.zazhipu.com/shudandetail418.html\\'><img src=\\'http://img1.zazhipu.com/bookpic/20198/2019831135132.jpg?imageMogr2/thumbnail/400x \\'></a></div></div></div></div><div class=\\'hb_navlist_info_r_item\\'><div class=\\'hb_navlist_info_r_item_l\\'><dl class=\\'cate_detail_item cate_detail_item1\\'><dt class=\\'cate_detail_tit\\'><a href=\\'http://www.zazhipu.com/listm1414_1_1_0_0.html\\' class=\\'cate_detail_tit_lk\\' title=小学低年级 target=\\'_blank\\'>小学低年级<i></i></a></dt><dd class=\\'cate_detail_con\\'><a href=\\'http://www.zazhipu.com/lists5560_1_1_0_0.html\\' class=\\'cate_detail_con_lk\\' target=\\'_blank\\'>看图作文</a><a href=\\'http://www.zazhipu.com/lists5561_1_1_0_0.html\\' class=\\'cate_detail_con_lk\\' target=\\'_blank\\'>数学大世界</a><a href=\\'http://www.zazhipu.com/lists5563_1_1_0_0.html\\' class=\\'cate_detail_con_lk\\' target=\\'_blank\\'>课堂内外低年级版</a><a href=\\'http://www.zazhipu.com/lists5595_1_1_0_0.html\\' class=\\'cate_detail_con_lk\\' target=\\'_blank\\'>小学生作文低年级拼音版</a><a href=\\'http://www.zazhipu.com/lists21411_1_1_0_0.html\\' class=\\'cate_detail_con_lk\\' target=\\'_blank\\'>其他</a><a href=\\'http://www.zazhipu.com/lists20558_1_1_0_0.html\\' class=\\'cate_detail_con_lk\\' target=\\'_blank\\'>天天爱学习系列</a> </dd></dl><dl class=\\'cate_detail_item cate_detail_item1\\'><dt class=\\'cate_detail_tit\\'><a href=\\'http://www.zazhipu.com/listm1186_1_1_0_0.html\\' class=\\'cate_detail_tit_lk\\' title=小学中高年级 target=\\'_blank\\'>小学中高年级<i></i></a></dt><dd class=\\'cate_detail_con\\'><a href=\\'http://www.zazhipu.com/lists1832_1_1_0_0.html\\' class=\\'cate_detail_con_lk\\' target=\\'_blank\\'>课堂内外小学版</a><a href=\\'http://www.zazhipu.com/lists3757_1_1_0_0.html\\' class=\\'cate_detail_con_lk\\' target=\\'_blank\\'>七彩语文系列</a><a href=\\'http://www.zazhipu.com/lists4236_1_1_0_0.html\\' class=\\'cate_detail_con_lk\\' target=\\'_blank\\'>中国少年英语报</a><a href=\\'http://www.zazhipu.com/lists5540_1_1_0_0.html\\' class=\\'cate_detail_con_lk\\' target=\\'_blank\\'>时代英语报</a><a href=\\'http://www.zazhipu.com/lists1809_1_1_0_0.html\\' class=\\'cate_detail_con_lk\\' target=\\'_blank\\'>创新作文小学版</a><a href=\\'http://www.zazhipu.com/lists5499_1_1_0_0.html\\' class=\\'cate_detail_con_lk\\' target=\\'_blank\\'>读写算系列</a><a href=\\'http://www.zazhipu.com/lists1874_1_1_0_0.html\\' class=\\'cate_detail_con_lk\\' target=\\'_blank\\'>实用文摘小学版</a><a href=\\'http://www.zazhipu.com/lists4069_1_1_0_0.html\\' class=\\'cate_detail_con_lk\\' target=\\'_blank\\'>全国优秀作文选系列</a><a href=\\'http://www.zazhipu.com/lists1890_1_1_0_0.html\\' class=\\'cate_detail_con_lk\\' target=\\'_blank\\'>实用文摘&#8226;小学低年级注音版</a><a href=\\'http://www.zazhipu.com/lists3754_1_1_0_0.html\\' class=\\'cate_detail_con_lk\\' target=\\'_blank\\'>小学时代系列</a><a href=\\'http://www.zazhipu.com/lists2328_1_1_0_0.html\\' class=\\'cate_detail_con_lk\\' target=\\'_blank\\'>艺术创想</a><a href=\\'http://www.zazhipu.com/lists3323_1_1_0_0.html\\' class=\\'cate_detail_con_lk\\' target=\\'_blank\\'>环球探索（少年版）</a> </dd></dl><dl class=\\'cate_detail_item cate_detail_item1\\'><dt class=\\'cate_detail_tit\\'><a href=\\'http://www.zazhipu.com/listm1187_1_1_0_0.html\\' class=\\'cate_detail_tit_lk\\' title=初中 target=\\'_blank\\'>初中<i></i></a></dt><dd class=\\'cate_detail_con\\'><a href=\\'http://www.zazhipu.com/lists1812_1_1_0_0.html\\' class=\\'cate_detail_con_lk\\' target=\\'_blank\\'>创新作文初中版</a><a href=\\'http://www.zazhipu.com/lists1814_1_1_0_0.html\\' class=\\'cate_detail_con_lk\\' target=\\'_blank\\'>课堂内外初中版</a><a href=\\'http://www.zazhipu.com/lists3760_1_1_0_0.html\\' class=\\'cate_detail_con_lk\\' target=\\'_blank\\'>七彩语文</a><a href=\\'http://www.zazhipu.com/lists1815_1_1_0_0.html\\' class=\\'cate_detail_con_lk\\' target=\\'_blank\\'>中学生系列</a><a href=\\'http://www.zazhipu.com/lists1919_1_1_0_0.html\\' class=\\'cate_detail_con_lk\\' target=\\'_blank\\'>实用文摘中学版</a><a href=\\'http://www.zazhipu.com/lists4070_1_1_0_0.html\\' class=\\'cate_detail_con_lk\\' target=\\'_blank\\'>全国优秀作文选系列</a><a href=\\'http://www.zazhipu.com/lists2763_1_1_0_0.html\\' class=\\'cate_detail_con_lk\\' target=\\'_blank\\'>作文通讯初中版</a><a href=\\'http://www.zazhipu.com/lists2843_1_1_0_0.html\\' class=\\'cate_detail_con_lk\\' target=\\'_blank\\'>新校园 文化大观</a><a href=\\'http://www.zazhipu.com/lists2855_1_1_0_0.html\\' class=\\'cate_detail_con_lk\\' target=\\'_blank\\'>其它初中杂志</a><a href=\\'http://www.zazhipu.com/lists3405_1_1_0_0.html\\' class=\\'cate_detail_con_lk\\' target=\\'_blank\\'>少年发明与创造</a><a href=\\'http://www.zazhipu.com/lists4131_1_1_0_0.html\\' class=\\'cate_detail_con_lk\\' target=\\'_blank\\'>写作中学版</a><a href=\\'http://www.zazhipu.com/lists3549_1_1_0_0.html\\' class=\\'cate_detail_con_lk\\' target=\\'_blank\\'>作文素材</a> </dd></dl><dl class=\\'cate_detail_item cate_detail_item1\\'><dt class=\\'cate_detail_tit\\'><a href=\\'http://www.zazhipu.com/listm1321_1_1_0_0.html\\' class=\\'cate_detail_tit_lk\\' title=高中 target=\\'_blank\\'>高中<i></i></a></dt><dd class=\\'cate_detail_con\\'><a href=\\'http://www.zazhipu.com/lists2327_1_1_0_0.html\\' class=\\'cate_detail_con_lk\\' target=\\'_blank\\'>创新作文高中版</a><a href=\\'http://www.zazhipu.com/lists2385_1_1_0_0.html\\' class=\\'cate_detail_con_lk\\' target=\\'_blank\\'>课堂内外高中版</a><a href=\\'http://www.zazhipu.com/lists2387_1_1_0_0.html\\' class=\\'cate_detail_con_lk\\' target=\\'_blank\\'>作文独唱团</a><a href=\\'http://www.zazhipu.com/lists4098_1_1_0_0.html\\' class=\\'cate_detail_con_lk\\' target=\\'_blank\\'>新高考</a><a href=\\'http://www.zazhipu.com/lists4071_1_1_0_0.html\\' class=\\'cate_detail_con_lk\\' target=\\'_blank\\'>全国优秀作文选系列</a><a href=\\'http://www.zazhipu.com/lists2764_1_1_0_0.html\\' class=\\'cate_detail_con_lk\\' target=\\'_blank\\'>作文通讯高中版</a><a href=\\'http://www.zazhipu.com/lists2768_1_1_0_0.html\\' class=\\'cate_detail_con_lk\\' target=\\'_blank\\'>高考季</a><a href=\\'http://www.zazhipu.com/lists3554_1_1_0_0.html\\' class=\\'cate_detail_con_lk\\' target=\\'_blank\\'>满分阅读高中版</a><a href=\\'http://www.zazhipu.com/lists3561_1_1_0_0.html\\' class=\\'cate_detail_con_lk\\' target=\\'_blank\\'>英语街高中版</a><a href=\\'http://www.zazhipu.com/lists3605_1_1_0_0.html\\' class=\\'cate_detail_con_lk\\' target=\\'_blank\\'>时尚文摘</a><a href=\\'http://www.zazhipu.com/lists3763_1_1_0_0.html\\' class=\\'cate_detail_con_lk\\' target=\\'_blank\\'>疯狂阅读高中版</a><a href=\\'http://www.zazhipu.com/lists3766_1_1_0_0.html\\' class=\\'cate_detail_con_lk\\' target=\\'_blank\\'>疯狂阅读综合版</a> </dd></dl><dl class=\\'cate_detail_item cate_detail_item1\\'><dt class=\\'cate_detail_tit\\'><a href=\\'http://www.zazhipu.com/listm1415_1_1_0_0.html\\' class=\\'cate_detail_tit_lk\\' title=中考 target=\\'_blank\\'>中考<i></i></a></dt><dd class=\\'cate_detail_con\\'><a href=\\'http://www.zazhipu.com/lists5613_1_1_0_0.html\\' class=\\'cate_detail_con_lk\\' target=\\'_blank\\'>中学生时事政治报中考</a><a href=\\'http://www.zazhipu.com/lists5692_1_1_0_0.html\\' class=\\'cate_detail_con_lk\\' target=\\'_blank\\'>作文评点报中考版</a><a href=\\'http://www.zazhipu.com/lists19203_1_1_0_0.html\\' class=\\'cate_detail_con_lk\\' target=\\'_blank\\'>意林作文素材</a><a href=\\'http://www.zazhipu.com/lists19202_1_1_0_0.html\\' class=\\'cate_detail_con_lk\\' target=\\'_blank\\'>意林作文素材</a><a href=\\'http://www.zazhipu.com/lists19201_1_1_0_0.html\\' class=\\'cate_detail_con_lk\\' target=\\'_blank\\'>意林作文素材</a><a href=\\'http://www.zazhipu.com/lists19200_1_1_0_0.html\\' class=\\'cate_detail_con_lk\\' target=\\'_blank\\'>意林作文素材</a><a href=\\'http://www.zazhipu.com/lists19197_1_1_0_0.html\\' class=\\'cate_detail_con_lk\\' target=\\'_blank\\'>中学生数理化中考版</a><a href=\\'http://www.zazhipu.com/lists19196_1_1_0_0.html\\' class=\\'cate_detail_con_lk\\' target=\\'_blank\\'>中学生阅读初中版中考</a><a href=\\'http://www.zazhipu.com/lists19198_1_1_0_0.html\\' class=\\'cate_detail_con_lk\\' target=\\'_blank\\'>数学导刊中考</a><a href=\\'http://www.zazhipu.com/lists19199_1_1_0_0.html\\' class=\\'cate_detail_con_lk\\' target=\\'_blank\\'>语文报中考版</a> </dd></dl><dl class=\\'cate_detail_item cate_detail_item1\\'><dt class=\\'cate_detail_tit\\'><a href=\\'http://www.zazhipu.com/listm1325_1_1_0_0.html\\' class=\\'cate_detail_tit_lk\\' title=高考 target=\\'_blank\\'>高考<i></i></a></dt><dd class=\\'cate_detail_con\\'><a href=\\'http://www.zazhipu.com/lists3513_1_1_0_0.html\\' class=\\'cate_detail_con_lk\\' target=\\'_blank\\'>高考季</a><a href=\\'http://www.zazhipu.com/lists3551_1_1_0_0.html\\' class=\\'cate_detail_con_lk\\' target=\\'_blank\\'>作文素材高考版</a><a href=\\'http://www.zazhipu.com/lists3579_1_1_0_0.html\\' class=\\'cate_detail_con_lk\\' target=\\'_blank\\'>高考金刊（理科版）</a><a href=\\'http://www.zazhipu.com/lists3580_1_1_0_0.html\\' class=\\'cate_detail_con_lk\\' target=\\'_blank\\'>高考金刊（文科版）</a><a href=\\'http://www.zazhipu.com/lists3596_1_1_0_0.html\\' class=\\'cate_detail_con_lk\\' target=\\'_blank\\'>数学金刊高考版</a><a href=\\'http://www.zazhipu.com/lists3782_1_1_0_0.html\\' class=\\'cate_detail_con_lk\\' target=\\'_blank\\'>疯狂作文素材与佳作（高考）</a><a href=\\'http://www.zazhipu.com/lists3635_1_1_0_0.html\\' class=\\'cate_detail_con_lk\\' target=\\'_blank\\'>其他</a><a href=\\'http://www.zazhipu.com/lists5527_1_1_0_0.html\\' class=\\'cate_detail_con_lk\\' target=\\'_blank\\'>《教学考试》高考版</a><a href=\\'http://www.zazhipu.com/lists20457_1_1_0_0.html\\' class=\\'cate_detail_con_lk\\' target=\\'_blank\\'>教育周报</a><a href=\\'http://www.zazhipu.com/lists5615_1_1_0_0.html\\' class=\\'cate_detail_con_lk\\' target=\\'_blank\\'>中学生时事政治报高考</a><a href=\\'http://www.zazhipu.com/lists18806_1_1_0_0.html\\' class=\\'cate_detail_con_lk\\' target=\\'_blank\\'>高中生高考指导</a> </dd></dl><dl class=\\'cate_detail_item cate_detail_item1\\'><dt class=\\'cate_detail_tit\\'><a href=\\'http://www.zazhipu.com/listm1322_1_1_0_0.html\\' class=\\'cate_detail_tit_lk\\' title=大学 target=\\'_blank\\'>大学<i></i></a></dt><dd class=\\'cate_detail_con\\'><a href=\\'http://www.zazhipu.com/lists3141_1_1_0_0.html\\' class=\\'cate_detail_con_lk\\' target=\\'_blank\\'>中国大学生</a><a href=\\'http://www.zazhipu.com/lists3150_1_1_0_0.html\\' class=\\'cate_detail_con_lk\\' target=\\'_blank\\'>大学生能力博士</a><a href=\\'http://www.zazhipu.com/lists3636_1_1_0_0.html\\' class=\\'cate_detail_con_lk\\' target=\\'_blank\\'>其他</a> </dd></dl><dl class=\\'cate_detail_item cate_detail_item1\\'><dt class=\\'cate_detail_tit\\'><a href=\\'http://www.zazhipu.com/listm1404_1_1_0_0.html\\' class=\\'cate_detail_tit_lk\\' title=课外阅读 target=\\'_blank\\'>课外阅读<i></i></a></dt><dd class=\\'cate_detail_con\\'><a href=\\'http://www.zazhipu.com/lists5520_1_1_0_0.html\\' class=\\'cate_detail_con_lk\\' target=\\'_blank\\'>高中生青春励志</a><a href=\\'http://www.zazhipu.com/lists5532_1_1_0_0.html\\' class=\\'cate_detail_con_lk\\' target=\\'_blank\\'>其他</a><a href=\\'http://www.zazhipu.com/lists5593_1_1_0_0.html\\' class=\\'cate_detail_con_lk\\' target=\\'_blank\\'>童话王国（美绘版）（原：美丽故事）</a><a href=\\'http://www.zazhipu.com/lists5594_1_1_0_0.html\\' class=\\'cate_detail_con_lk\\' target=\\'_blank\\'>童话王国（原创版）</a><a href=\\'http://www.zazhipu.com/lists5683_1_1_0_0.html\\' class=\\'cate_detail_con_lk\\' target=\\'_blank\\'>航天员</a><a href=\\'http://www.zazhipu.com/lists5707_1_1_0_0.html\\' class=\\'cate_detail_con_lk\\' target=\\'_blank\\'>青春期健康</a><a href=\\'http://www.zazhipu.com/lists20459_1_1_0_0.html\\' class=\\'cate_detail_con_lk\\' target=\\'_blank\\'>小学阅读指南</a><a href=\\'http://www.zazhipu.com/lists21268_1_1_0_0.html\\' class=\\'cate_detail_con_lk\\' target=\\'_blank\\'>读友</a><a href=\\'http://www.zazhipu.com/lists21286_1_1_0_0.html\\' class=\\'cate_detail_con_lk\\' target=\\'_blank\\'>少年博览</a><a href=\\'http://www.zazhipu.com/lists21288_1_1_0_0.html\\' class=\\'cate_detail_con_lk\\' target=\\'_blank\\'>新课标小学生拓展分级阅读</a><a href=\\'http://www.zazhipu.com/lists21293_1_1_0_0.html\\' class=\\'cate_detail_con_lk\\' target=\\'_blank\\'>课外生活趣知识</a><a href=\\'http://www.zazhipu.com/lists21299_1_1_0_0.html\\' class=\\'cate_detail_con_lk\\' target=\\'_blank\\'>小读者之友</a> </dd></dl><dl class=\\'cate_detail_item cate_detail_item1\\'><dt class=\\'cate_detail_tit\\'><a href=\\'http://www.zazhipu.com/listm1416_1_1_0_0.html\\' class=\\'cate_detail_tit_lk\\' title=语文 target=\\'_blank\\'>语文<i></i></a></dt><dd class=\\'cate_detail_con\\'><a href=\\'http://www.zazhipu.com/lists5608_1_1_0_0.html\\' class=\\'cate_detail_con_lk\\' target=\\'_blank\\'>其他</a><a href=\\'http://www.zazhipu.com/lists19174_1_1_0_0.html\\' class=\\'cate_detail_con_lk\\' target=\\'_blank\\'>兴趣语文</a><a href=\\'http://www.zazhipu.com/lists5623_1_1_0_0.html\\' class=\\'cate_detail_con_lk\\' target=\\'_blank\\'>时代学习报语文周刊</a> </dd></dl><dl class=\\'cate_detail_item cate_detail_item1\\'><dt class=\\'cate_detail_tit\\'><a href=\\'http://www.zazhipu.com/listm1417_1_1_0_0.html\\' class=\\'cate_detail_tit_lk\\' title=数学 target=\\'_blank\\'>数学<i></i></a></dt><dd class=\\'cate_detail_con\\'><a href=\\'http://www.zazhipu.com/lists5607_1_1_0_0.html\\' class=\\'cate_detail_con_lk\\' target=\\'_blank\\'>其他</a><a href=\\'http://www.zazhipu.com/lists19048_1_1_0_0.html\\' class=\\'cate_detail_con_lk\\' target=\\'_blank\\'>数学小灵通</a><a href=\\'http://www.zazhipu.com/lists5624_1_1_0_0.html\\' class=\\'cate_detail_con_lk\\' target=\\'_blank\\'>时代学习报数学周刊</a><a href=\\'http://www.zazhipu.com/lists19176_1_1_0_0.html\\' class=\\'cate_detail_con_lk\\' target=\\'_blank\\'>兴趣数学</a> </dd></dl><dl class=\\'cate_detail_item cate_detail_item1\\'><dt class=\\'cate_detail_tit\\'><a href=\\'http://www.zazhipu.com/listm1418_1_1_0_0.html\\' class=\\'cate_detail_tit_lk\\' title=英语 target=\\'_blank\\'>英语<i></i></a></dt><dd class=\\'cate_detail_con\\'><a href=\\'http://www.zazhipu.com/lists5627_1_1_0_0.html\\' class=\\'cate_detail_con_lk\\' target=\\'_blank\\'>时代英语报系列</a><a href=\\'http://www.zazhipu.com/lists5645_1_1_0_0.html\\' class=\\'cate_detail_con_lk\\' target=\\'_blank\\'>英语广场美文</a><a href=\\'http://www.zazhipu.com/lists5646_1_1_0_0.html\\' class=\\'cate_detail_con_lk\\' target=\\'_blank\\'>疯狂阅读英语时空</a><a href=\\'http://www.zazhipu.com/lists19241_1_1_0_0.html\\' class=\\'cate_detail_con_lk\\' target=\\'_blank\\'>英语周报</a><a href=\\'http://www.zazhipu.com/lists5647_1_1_0_0.html\\' class=\\'cate_detail_con_lk\\' target=\\'_blank\\'>大家说英语</a><a href=\\'http://www.zazhipu.com/lists20460_1_1_0_0.html\\' class=\\'cate_detail_con_lk\\' target=\\'_blank\\'>中学生英语</a><a href=\\'http://www.zazhipu.com/lists21273_1_1_0_0.html\\' class=\\'cate_detail_con_lk\\' target=\\'_blank\\'>凤凰英语</a><a href=\\'http://www.zazhipu.com/lists21306_1_1_0_0.html\\' class=\\'cate_detail_con_lk\\' target=\\'_blank\\'>疯狂英语双语世界</a> </dd></dl><dl class=\\'cate_detail_item cate_detail_item1\\'><dt class=\\'cate_detail_tit\\'><a href=\\'http://www.zazhipu.com/listm1419_1_1_0_0.html\\' class=\\'cate_detail_tit_lk\\' title=作文 target=\\'_blank\\'>作文<i></i></a></dt><dd class=\\'cate_detail_con\\'><a href=\\'http://www.zazhipu.com/lists5609_1_1_0_0.html\\' class=\\'cate_detail_con_lk\\' target=\\'_blank\\'>其他</a><a href=\\'http://www.zazhipu.com/lists5637_1_1_0_0.html\\' class=\\'cate_detail_con_lk\\' target=\\'_blank\\'>疯狂作文初中版</a><a href=\\'http://www.zazhipu.com/lists5638_1_1_0_0.html\\' class=\\'cate_detail_con_lk\\' target=\\'_blank\\'>疯狂作文小学版</a><a href=\\'http://www.zazhipu.com/lists5639_1_1_0_0.html\\' class=\\'cate_detail_con_lk\\' target=\\'_blank\\'>疯狂作文素材控</a><a href=\\'http://www.zazhipu.com/lists5640_1_1_0_0.html\\' class=\\'cate_detail_con_lk\\' target=\\'_blank\\'>疯狂作文素材与佳作（高考）</a><a href=\\'http://www.zazhipu.com/lists5641_1_1_0_0.html\\' class=\\'cate_detail_con_lk\\' target=\\'_blank\\'>新作文小学低年级版</a><a href=\\'http://www.zazhipu.com/lists5642_1_1_0_0.html\\' class=\\'cate_detail_con_lk\\' target=\\'_blank\\'>新作文小学中高年级版</a><a href=\\'http://www.zazhipu.com/lists5643_1_1_0_0.html\\' class=\\'cate_detail_con_lk\\' target=\\'_blank\\'>新作文初中版</a><a href=\\'http://www.zazhipu.com/lists5644_1_1_0_0.html\\' class=\\'cate_detail_con_lk\\' target=\\'_blank\\'>新作文高中版</a><a href=\\'http://www.zazhipu.com/lists19212_1_1_0_0.html\\' class=\\'cate_detail_con_lk\\' target=\\'_blank\\'>作文与考试系列</a><a href=\\'http://www.zazhipu.com/lists19224_1_1_0_0.html\\' class=\\'cate_detail_con_lk\\' target=\\'_blank\\'>创意作文</a><a href=\\'http://www.zazhipu.com/lists21267_1_1_0_0.html\\' class=\\'cate_detail_con_lk\\' target=\\'_blank\\'>作文新天地</a> </dd></dl></div><div class=\\'hb_navlist_info_r_item_r\\'><p class=\\'hb_navlist_info_r_item_r_title\\'>热点专题</p><div class=\\'hb_navlist_info_r_item_r_info\\'><p class=\\'hb_navlist_info_r_item_r_info_t\\'>【儿童原版杂志】孩子健康成长，缺一本原版杂志</p><div class=\\'hb_navlist_info_r_item_r_info_img\\'><a href=\\'http://hd.zazhipu.com/shudandetail416.html\\'><img src=\\'http://img1.zazhipu.com/magspic/2015263_small.jpg?imageMogr2/thumbnail/400x \\'></a></div></div><div class=\\'hb_navlist_info_r_item_r_info\\'><p class=\\'hb_navlist_info_r_item_r_info_t\\'>【初中】初中生必读辅导书刊</p><div class=\\'hb_navlist_info_r_item_r_info_img\\'><a href=\\'http://hd.zazhipu.com/shudandetail424.html\\'><img src=\\'http://img1.zazhipu.com/bookpic/20198/2019830112748.jpg?imageMogr2/thumbnail/400x \\'></a></div></div><div class=\\'hb_navlist_info_r_item_r_info\\'><p class=\\'hb_navlist_info_r_item_r_info_t\\'>【英语学习】英语学习必杀技找到了</p><div class=\\'hb_navlist_info_r_item_r_info_img\\'><a href=\\'http://hd.zazhipu.com/shudandetail428.html\\'><img src=\\'http://img1.zazhipu.com/bookpic/20199/201993103844.jpg?imageMogr2/thumbnail/400x \\'></a></div></div></div></div><div class=\\'hb_navlist_info_r_item\\'><div class=\\'hb_navlist_info_r_item_l\\'><dl class=\\'cate_detail_item cate_detail_item1\\'><dt class=\\'cate_detail_tit\\'><a href=\\'http://www.zazhipu.com/listm1349_1_1_0_0.html\\' class=\\'cate_detail_tit_lk\\' title=有声读物 target=\\'_blank\\'>有声读物<i></i></a></dt><dd class=\\'cate_detail_con\\'><a href=\\'http://www.zazhipu.com/listm1349_1_1_0_0.html\\' class=\\'cate_detail_tit_lk\\' title=有声读物  target=\\'_blank\\'>有声读物<i></i></a> </dd></dl><dl class=\\'cate_detail_item cate_detail_item1\\'><dt class=\\'cate_detail_tit\\'><a href=\\'http://www.zazhipu.com/listm1044_1_1_0_0.html\\' class=\\'cate_detail_tit_lk\\' title=婴儿0-3岁 target=\\'_blank\\'>婴儿0-3岁<i></i></a></dt><dd class=\\'cate_detail_con\\'><a href=\\'http://www.zazhipu.com/lists1672_1_1_0_0.html\\' class=\\'cate_detail_con_lk\\' target=\\'_blank\\'>婴儿益智画册</a><a href=\\'http://www.zazhipu.com/lists1668_1_1_0_0.html\\' class=\\'cate_detail_con_lk\\' target=\\'_blank\\'>婴儿画报</a><a href=\\'http://www.zazhipu.com/lists1670_1_1_0_0.html\\' class=\\'cate_detail_con_lk\\' target=\\'_blank\\'>小太阳</a><a href=\\'http://www.zazhipu.com/lists1671_1_1_0_0.html\\' class=\\'cate_detail_con_lk\\' target=\\'_blank\\'>东方宝宝</a><a href=\\'http://www.zazhipu.com/lists4041_1_1_0_0.html\\' class=\\'cate_detail_con_lk\\' target=\\'_blank\\'>小脚丫</a><a href=\\'http://www.zazhipu.com/lists3137_1_1_0_0.html\\' class=\\'cate_detail_con_lk\\' target=\\'_blank\\'>亲子</a><a href=\\'http://www.zazhipu.com/lists3625_1_1_0_0.html\\' class=\\'cate_detail_con_lk\\' target=\\'_blank\\'>布奇乐乐园（1-2岁）</a><a href=\\'http://www.zazhipu.com/lists3629_1_1_0_0.html\\' class=\\'cate_detail_con_lk\\' target=\\'_blank\\'>布奇乐乐园（2-3岁）</a><a href=\\'http://www.zazhipu.com/lists2282_1_1_0_0.html\\' class=\\'cate_detail_con_lk\\' target=\\'_blank\\'>其他</a> </dd></dl><dl class=\\'cate_detail_item cate_detail_item1\\'><dt class=\\'cate_detail_tit\\'><a href=\\'http://www.zazhipu.com/listm1045_1_1_0_0.html\\' class=\\'cate_detail_tit_lk\\' title=幼儿3-7岁 target=\\'_blank\\'>幼儿3-7岁<i></i></a></dt><dd class=\\'cate_detail_con\\'><a href=\\'http://www.zazhipu.com/lists4239_1_1_0_0.html\\' class=\\'cate_detail_con_lk\\' target=\\'_blank\\'>幼儿画报</a><a href=\\'http://www.zazhipu.com/lists1669_1_1_0_0.html\\' class=\\'cate_detail_con_lk\\' target=\\'_blank\\'>幼儿园</a><a href=\\'http://www.zazhipu.com/lists2318_1_1_0_0.html\\' class=\\'cate_detail_con_lk\\' target=\\'_blank\\'>幼儿益智画册</a><a href=\\'http://www.zazhipu.com/lists3710_1_1_0_0.html\\' class=\\'cate_detail_con_lk\\' target=\\'_blank\\'>小聪仔</a><a href=\\'http://www.zazhipu.com/lists1680_1_1_0_0.html\\' class=\\'cate_detail_con_lk\\' target=\\'_blank\\'>幼儿智力世界</a><a href=\\'http://www.zazhipu.com/lists1675_1_1_0_0.html\\' class=\\'cate_detail_con_lk\\' target=\\'_blank\\'>东方娃娃(智力版 绘本版)</a><a href=\\'http://www.zazhipu.com/lists1674_1_1_0_0.html\\' class=\\'cate_detail_con_lk\\' target=\\'_blank\\'>东方娃娃系列</a><a href=\\'http://www.zazhipu.com/lists1682_1_1_0_0.html\\' class=\\'cate_detail_con_lk\\' target=\\'_blank\\'>亲子3-6智力画刊</a><a href=\\'http://www.zazhipu.com/lists1681_1_1_0_0.html\\' class=\\'cate_detail_con_lk\\' target=\\'_blank\\'>大灰狼</a><a href=\\'http://www.zazhipu.com/lists1676_1_1_0_0.html\\' class=\\'cate_detail_con_lk\\' target=\\'_blank\\'>幼儿画报课堂</a><a href=\\'http://www.zazhipu.com/lists1759_1_1_0_0.html\\' class=\\'cate_detail_con_lk\\' target=\\'_blank\\'>嘟嘟熊画报</a><a href=\\'http://www.zazhipu.com/lists1761_1_1_0_0.html\\' class=\\'cate_detail_con_lk\\' target=\\'_blank\\'>幼儿智力开发画报</a> </dd></dl><dl class=\\'cate_detail_item cate_detail_item1\\'><dt class=\\'cate_detail_tit\\'><a href=\\'http://www.zazhipu.com/listm1046_1_1_0_0.html\\' class=\\'cate_detail_tit_lk\\' title=孕期杂志 target=\\'_blank\\'>孕期杂志<i></i></a></dt><dd class=\\'cate_detail_con\\'><a href=\\'http://www.zazhipu.com/lists5684_1_1_0_0.html\\' class=\\'cate_detail_con_lk\\' target=\\'_blank\\'>妈咪宝贝孕0-3岁</a><a href=\\'http://www.zazhipu.com/lists5685_1_1_0_0.html\\' class=\\'cate_detail_con_lk\\' target=\\'_blank\\'>妈妈宝宝</a><a href=\\'http://www.zazhipu.com/lists2315_1_1_0_0.html\\' class=\\'cate_detail_con_lk\\' target=\\'_blank\\'>好孕妈妈</a><a href=\\'http://www.zazhipu.com/lists2284_1_1_0_0.html\\' class=\\'cate_detail_con_lk\\' target=\\'_blank\\'>其他</a> </dd></dl><dl class=\\'cate_detail_item cate_detail_item1\\'><dt class=\\'cate_detail_tit\\'><a href=\\'http://www.zazhipu.com/listm1120_1_1_0_0.html\\' class=\\'cate_detail_tit_lk\\' title=父母读物 target=\\'_blank\\'>父母读物<i></i></a></dt><dd class=\\'cate_detail_con\\'><a href=\\'http://www.zazhipu.com/lists1684_1_1_0_0.html\\' class=\\'cate_detail_con_lk\\' target=\\'_blank\\'>妈咪宝贝</a><a href=\\'http://www.zazhipu.com/lists1691_1_1_0_0.html\\' class=\\'cate_detail_con_lk\\' target=\\'_blank\\'>妈妈宝宝0-4岁</a><a href=\\'http://www.zazhipu.com/lists1683_1_1_0_0.html\\' class=\\'cate_detail_con_lk\\' target=\\'_blank\\'>父母必读</a><a href=\\'http://www.zazhipu.com/lists1687_1_1_0_0.html\\' class=\\'cate_detail_con_lk\\' target=\\'_blank\\'>宝贝世界</a><a href=\\'http://www.zazhipu.com/lists1686_1_1_0_0.html\\' class=\\'cate_detail_con_lk\\' target=\\'_blank\\'>时尚育儿</a><a href=\\'http://www.zazhipu.com/lists1685_1_1_0_0.html\\' class=\\'cate_detail_con_lk\\' target=\\'_blank\\'>父母世界</a><a href=\\'http://www.zazhipu.com/lists1688_1_1_0_0.html\\' class=\\'cate_detail_con_lk\\' target=\\'_blank\\'>为了孩子0-3岁</a><a href=\\'http://www.zazhipu.com/lists1690_1_1_0_0.html\\' class=\\'cate_detail_con_lk\\' target=\\'_blank\\'>我和宝贝</a><a href=\\'http://www.zazhipu.com/lists1689_1_1_0_0.html\\' class=\\'cate_detail_con_lk\\' target=\\'_blank\\'>为了孩子3-7岁</a><a href=\\'http://www.zazhipu.com/lists1692_1_1_0_0.html\\' class=\\'cate_detail_con_lk\\' target=\\'_blank\\'>亲子.0-3岁.育儿宝典</a><a href=\\'http://www.zazhipu.com/lists2314_1_1_0_0.html\\' class=\\'cate_detail_con_lk\\' target=\\'_blank\\'>幼儿教育导读</a><a href=\\'http://www.zazhipu.com/lists1947_1_1_0_0.html\\' class=\\'cate_detail_con_lk\\' target=\\'_blank\\'>聪明宝宝</a> </dd></dl><dl class=\\'cate_detail_item cate_detail_item1\\'><dt class=\\'cate_detail_tit\\'><a href=\\'http://www.zazhipu.com/listm1360_1_1_0_0.html\\' class=\\'cate_detail_tit_lk\\' title=幼儿2-4岁 target=\\'_blank\\'>幼儿2-4岁<i></i></a></dt><dd class=\\'cate_detail_con\\'><a href=\\'http://www.zazhipu.com/lists2392_1_1_0_0.html\\' class=\\'cate_detail_con_lk\\' target=\\'_blank\\'>阿咪虎益智画册</a><a href=\\'http://www.zazhipu.com/lists2941_1_1_0_0.html\\' class=\\'cate_detail_con_lk\\' target=\\'_blank\\'>家庭科学馆</a><a href=\\'http://www.zazhipu.com/lists3627_1_1_0_0.html\\' class=\\'cate_detail_con_lk\\' target=\\'_blank\\'>布奇乐乐园（3-4岁）</a><a href=\\'http://www.zazhipu.com/lists3461_1_1_0_0.html\\' class=\\'cate_detail_con_lk\\' target=\\'_blank\\'>其他</a> </dd></dl><dl class=\\'cate_detail_item cate_detail_item1\\'><dt class=\\'cate_detail_tit\\'><a href=\\'http://www.zazhipu.com/listm1380_1_1_0_0.html\\' class=\\'cate_detail_tit_lk\\' title=绘本杂志 target=\\'_blank\\'>绘本杂志<i></i></a></dt><dd class=\\'cate_detail_con\\'><a href=\\'http://www.zazhipu.com/lists3096_1_1_0_0.html\\' class=\\'cate_detail_con_lk\\' target=\\'_blank\\'>创意美术与手工</a><a href=\\'http://www.zazhipu.com/lists3097_1_1_0_0.html\\' class=\\'cate_detail_con_lk\\' target=\\'_blank\\'>东方娃娃绘本英语</a><a href=\\'http://www.zazhipu.com/lists3098_1_1_0_0.html\\' class=\\'cate_detail_con_lk\\' target=\\'_blank\\'>娃娃乐园绘本版</a><a href=\\'http://www.zazhipu.com/lists3354_1_1_0_0.html\\' class=\\'cate_detail_con_lk\\' target=\\'_blank\\'>意林儿童绘本</a><a href=\\'http://www.zazhipu.com/lists3462_1_1_0_0.html\\' class=\\'cate_detail_con_lk\\' target=\\'_blank\\'>其他</a><a href=\\'http://www.zazhipu.com/lists5698_1_1_0_0.html\\' class=\\'cate_detail_con_lk\\' target=\\'_blank\\'>小小艺术家 名著名画绘本红版</a><a href=\\'http://www.zazhipu.com/lists5699_1_1_0_0.html\\' class=\\'cate_detail_con_lk\\' target=\\'_blank\\'>小小艺术家 名著名画绘本黄版</a><a href=\\'http://www.zazhipu.com/lists5700_1_1_0_0.html\\' class=\\'cate_detail_con_lk\\' target=\\'_blank\\'>小小艺术家 名著名画绘本蓝版</a><a href=\\'http://www.zazhipu.com/lists19207_1_1_0_0.html\\' class=\\'cate_detail_con_lk\\' target=\\'_blank\\'>幼儿美术</a><a href=\\'http://www.zazhipu.com/lists21269_1_1_0_0.html\\' class=\\'cate_detail_con_lk\\' target=\\'_blank\\'>文学少年</a> </dd></dl><dl class=\\'cate_detail_item cate_detail_item1\\'><dt class=\\'cate_detail_tit\\'><a href=\\'http://www.zazhipu.com/listm1043_1_1_0_0.html\\' class=\\'cate_detail_tit_lk\\' title=玩具游戏刊 target=\\'_blank\\'>玩具游戏刊<i></i></a></dt><dd class=\\'cate_detail_con\\'><a href=\\'http://www.zazhipu.com/lists3302_1_1_0_0.html\\' class=\\'cate_detail_con_lk\\' target=\\'_blank\\'>科学小超人星星版</a><a href=\\'http://www.zazhipu.com/lists3307_1_1_0_0.html\\' class=\\'cate_detail_con_lk\\' target=\\'_blank\\'>科学小超人月亮版</a><a href=\\'http://www.zazhipu.com/lists3311_1_1_0_0.html\\' class=\\'cate_detail_con_lk\\' target=\\'_blank\\'>科学小超人太阳版</a><a href=\\'http://www.zazhipu.com/lists4385_1_1_0_0.html\\' class=\\'cate_detail_con_lk\\' target=\\'_blank\\'>小小科学家 科学手工DIY（3~4岁）萌芽版</a><a href=\\'http://www.zazhipu.com/lists4387_1_1_0_0.html\\' class=\\'cate_detail_con_lk\\' target=\\'_blank\\'>小小科学家 科学手工DIY（4~5岁）花朵版</a><a href=\\'http://www.zazhipu.com/lists4389_1_1_0_0.html\\' class=\\'cate_detail_con_lk\\' target=\\'_blank\\'>小小科学家 科学手工DIY（5~6岁）果实版</a><a href=\\'http://www.zazhipu.com/lists5695_1_1_0_0.html\\' class=\\'cate_detail_con_lk\\' target=\\'_blank\\'>小小艺术家 艺术手工DIY红版</a><a href=\\'http://www.zazhipu.com/lists5696_1_1_0_0.html\\' class=\\'cate_detail_con_lk\\' target=\\'_blank\\'>小小艺术家 艺术手工DIY黄版</a><a href=\\'http://www.zazhipu.com/lists5697_1_1_0_0.html\\' class=\\'cate_detail_con_lk\\' target=\\'_blank\\'>小小艺术家 艺术手工DIY蓝版</a><a href=\\'http://www.zazhipu.com/lists18799_1_1_0_0.html\\' class=\\'cate_detail_con_lk\\' target=\\'_blank\\'>科学小超人小学版</a><a href=\\'http://www.zazhipu.com/lists18800_1_1_0_0.html\\' class=\\'cate_detail_con_lk\\' target=\\'_blank\\'>科学小超人宇宙版</a> </dd></dl><dl class=\\'cate_detail_item cate_detail_item1\\'><dt class=\\'cate_detail_tit\\'><a href=\\'http://www.zazhipu.com/listm1424_1_1_0_0.html\\' class=\\'cate_detail_tit_lk\\' title=亲子共读 target=\\'_blank\\'>亲子共读<i></i></a></dt><dd class=\\'cate_detail_con\\'><a href=\\'http://www.zazhipu.com/lists5631_1_1_0_0.html\\' class=\\'cate_detail_con_lk\\' target=\\'_blank\\'>幼儿园</a><a href=\\'http://www.zazhipu.com/lists5632_1_1_0_0.html\\' class=\\'cate_detail_con_lk\\' target=\\'_blank\\'>幼儿智力世界</a><a href=\\'http://www.zazhipu.com/lists5633_1_1_0_0.html\\' class=\\'cate_detail_con_lk\\' target=\\'_blank\\'>小熊维尼</a><a href=\\'http://www.zazhipu.com/lists5634_1_1_0_0.html\\' class=\\'cate_detail_con_lk\\' target=\\'_blank\\'>托马斯与朋友</a> </dd></dl><dl class=\\'cate_detail_item cate_detail_item1\\'><dt class=\\'cate_detail_tit\\'><a href=\\'http://www.zazhipu.com/listm1425_1_1_0_0.html\\' class=\\'cate_detail_tit_lk\\' title=育儿英语 target=\\'_blank\\'>育儿英语<i></i></a></dt><dd class=\\'cate_detail_con\\'><a href=\\'http://www.zazhipu.com/lists5648_1_1_0_0.html\\' class=\\'cate_detail_con_lk\\' target=\\'_blank\\'>小熊维尼</a> </dd></dl><dl class=\\'cate_detail_item cate_detail_item1\\'><dt class=\\'cate_detail_tit\\'><a href=\\'http://www.zazhipu.com/listm1426_1_1_0_0.html\\' class=\\'cate_detail_tit_lk\\' title=育儿百科 target=\\'_blank\\'>育儿百科<i></i></a></dt><dd class=\\'cate_detail_con\\'><a href=\\'http://www.zazhipu.com/listm1426_1_1_0_0.html\\' class=\\'cate_detail_tit_lk\\' title=育儿百科  target=\\'_blank\\'>育儿百科<i></i></a> </dd></dl><dl class=\\'cate_detail_item cate_detail_item1\\'><dt class=\\'cate_detail_tit\\'><a href=\\'http://www.zazhipu.com/listm1427_1_1_0_0.html\\' class=\\'cate_detail_tit_lk\\' title=附赠光盘 target=\\'_blank\\'>附赠光盘<i></i></a></dt><dd class=\\'cate_detail_con\\'><a href=\\'http://www.zazhipu.com/lists5649_1_1_0_0.html\\' class=\\'cate_detail_con_lk\\' target=\\'_blank\\'>幼儿故事大王</a> </dd></dl></div><div class=\\'hb_navlist_info_r_item_r\\'><p class=\\'hb_navlist_info_r_item_r_title\\'>热点专题</p><div class=\\'hb_navlist_info_r_item_r_info\\'><p class=\\'hb_navlist_info_r_item_r_info_t\\'>【0~3岁少儿启蒙】聪明的孩子都看这些</p><div class=\\'hb_navlist_info_r_item_r_info_img\\'><a href=\\'http://hd.zazhipu.com/shudandetail406.html\\'><img src=\\'http://img1.zazhipu.com/bookpic/20199/2019912184623.jpg?imageMogr2/thumbnail/400x \\'></a></div></div><div class=\\'hb_navlist_info_r_item_r_info\\'><p class=\\'hb_navlist_info_r_item_r_info_t\\'>【绘本杂志】亲子绘本，让孩子爱上阅读</p><div class=\\'hb_navlist_info_r_item_r_info_img\\'><a href=\\'http://hd.zazhipu.com/shudandetail414.html\\'><img src=\\'http://img1.zazhipu.com/bookpic/20199/2019918113416.jpg?imageMogr2/thumbnail/400x \\'></a></div></div><div class=\\'hb_navlist_info_r_item_r_info\\'><p class=\\'hb_navlist_info_r_item_r_info_t\\'>【亲子育儿】母婴育儿知多少</p><div class=\\'hb_navlist_info_r_item_r_info_img\\'><a href=\\'http://hd.zazhipu.com/shudandetail388.html\\'><img src=\\'\\' /></a></div></div></div></div><div class=\\'hb_navlist_info_r_item\\'><div class=\\'hb_navlist_info_r_item_l\\'><dl class=\\'cate_detail_item cate_detail_item1\\'><dt class=\\'cate_detail_tit\\'><a href=\\'http://www.zazhipu.com/listm997_1_1_0_0.html\\' class=\\'cate_detail_tit_lk\\' title=时尚传媒 target=\\'_blank\\'>时尚传媒<i></i></a></dt><dd class=\\'cate_detail_con\\'><a href=\\'http://www.zazhipu.com/lists3053_1_1_0_0.html\\' class=\\'cate_detail_con_lk\\' target=\\'_blank\\'>时尚伊人</a><a href=\\'http://www.zazhipu.com/lists3057_1_1_0_0.html\\' class=\\'cate_detail_con_lk\\' target=\\'_blank\\'>时尚健康（女士）</a><a href=\\'http://www.zazhipu.com/lists3056_1_1_0_0.html\\' class=\\'cate_detail_con_lk\\' target=\\'_blank\\'>时尚芭莎上半月刊</a><a href=\\'http://www.zazhipu.com/lists3058_1_1_0_0.html\\' class=\\'cate_detail_con_lk\\' target=\\'_blank\\'>时尚时间</a><a href=\\'http://www.zazhipu.com/lists3055_1_1_0_0.html\\' class=\\'cate_detail_con_lk\\' target=\\'_blank\\'>都市丽人</a><a href=\\'http://www.zazhipu.com/lists3118_1_1_0_0.html\\' class=\\'cate_detail_con_lk\\' target=\\'_blank\\'>女报时尚版</a><a href=\\'http://www.zazhipu.com/lists3120_1_1_0_0.html\\' class=\\'cate_detail_con_lk\\' target=\\'_blank\\'>女报seaside</a><a href=\\'http://www.zazhipu.com/lists3129_1_1_0_0.html\\' class=\\'cate_detail_con_lk\\' target=\\'_blank\\'>时尚北京</a><a href=\\'http://www.zazhipu.com/lists3447_1_1_0_0.html\\' class=\\'cate_detail_con_lk\\' target=\\'_blank\\'>其他</a><a href=\\'http://www.zazhipu.com/lists3547_1_1_0_0.html\\' class=\\'cate_detail_con_lk\\' target=\\'_blank\\'>悦己</a><a href=\\'http://www.zazhipu.com/lists3585_1_1_0_0.html\\' class=\\'cate_detail_con_lk\\' target=\\'_blank\\'>时尚新娘</a><a href=\\'http://www.zazhipu.com/lists3592_1_1_0_0.html\\' class=\\'cate_detail_con_lk\\' target=\\'_blank\\'>商界时尚</a> </dd></dl><dl class=\\'cate_detail_item cate_detail_item1\\'><dt class=\\'cate_detail_tit\\'><a href=\\'http://www.zazhipu.com/listm998_1_1_0_0.html\\' class=\\'cate_detail_tit_lk\\' title=瑞丽系列 target=\\'_blank\\'>瑞丽系列<i></i></a></dt><dd class=\\'cate_detail_con\\'><a href=\\'http://www.zazhipu.com/lists1581_1_1_0_0.html\\' class=\\'cate_detail_con_lk\\' target=\\'_blank\\'>瑞丽男人风尚</a><a href=\\'http://www.zazhipu.com/lists1580_1_1_0_0.html\\' class=\\'cate_detail_con_lk\\' target=\\'_blank\\'>瑞丽时尚先锋</a><a href=\\'http://www.zazhipu.com/lists1579_1_1_0_0.html\\' class=\\'cate_detail_con_lk\\' target=\\'_blank\\'>瑞丽伊人风尚</a><a href=\\'http://www.zazhipu.com/lists1578_1_1_0_0.html\\' class=\\'cate_detail_con_lk\\' target=\\'_blank\\'>瑞丽服饰美容</a> </dd></dl><dl class=\\'cate_detail_item cate_detail_item1\\'><dt class=\\'cate_detail_tit\\'><a href=\\'http://www.zazhipu.com/listm999_1_1_0_0.html\\' class=\\'cate_detail_tit_lk\\' title=男士时尚 target=\\'_blank\\'>男士时尚<i></i></a></dt><dd class=\\'cate_detail_con\\'><a href=\\'http://www.zazhipu.com/lists2359_1_1_0_0.html\\' class=\\'cate_detail_con_lk\\' target=\\'_blank\\'>男人装</a><a href=\\'http://www.zazhipu.com/lists1582_1_1_0_0.html\\' class=\\'cate_detail_con_lk\\' target=\\'_blank\\'>时尚健康（男士）</a><a href=\\'http://www.zazhipu.com/lists1585_1_1_0_0.html\\' class=\\'cate_detail_con_lk\\' target=\\'_blank\\'>时尚先生</a><a href=\\'http://www.zazhipu.com/lists2358_1_1_0_0.html\\' class=\\'cate_detail_con_lk\\' target=\\'_blank\\'>时尚芭莎男士商业</a><a href=\\'http://www.zazhipu.com/lists1583_1_1_0_0.html\\' class=\\'cate_detail_con_lk\\' target=\\'_blank\\'>时尚芭莎男士品位</a><a href=\\'http://www.zazhipu.com/lists3377_1_1_0_0.html\\' class=\\'cate_detail_con_lk\\' target=\\'_blank\\'>智族GQ</a><a href=\\'http://www.zazhipu.com/lists3378_1_1_0_0.html\\' class=\\'cate_detail_con_lk\\' target=\\'_blank\\'>ELLE MEN睿士</a><a href=\\'http://www.zazhipu.com/lists3379_1_1_0_0.html\\' class=\\'cate_detail_con_lk\\' target=\\'_blank\\'>风度</a><a href=\\'http://www.zazhipu.com/lists3380_1_1_0_0.html\\' class=\\'cate_detail_con_lk\\' target=\\'_blank\\'>精英</a><a href=\\'http://www.zazhipu.com/lists3381_1_1_0_0.html\\' class=\\'cate_detail_con_lk\\' target=\\'_blank\\'>型男志</a><a href=\\'http://www.zazhipu.com/lists4224_1_1_0_0.html\\' class=\\'cate_detail_con_lk\\' target=\\'_blank\\'>罗博报告</a><a href=\\'http://www.zazhipu.com/lists3448_1_1_0_0.html\\' class=\\'cate_detail_con_lk\\' target=\\'_blank\\'>其他</a> </dd></dl><dl class=\\'cate_detail_item cate_detail_item1\\'><dt class=\\'cate_detail_tit\\'><a href=\\'http://www.zazhipu.com/listm1140_1_1_0_0.html\\' class=\\'cate_detail_tit_lk\\' title=美容美妆 target=\\'_blank\\'>美容美妆<i></i></a></dt><dd class=\\'cate_detail_con\\'><a href=\\'http://www.zazhipu.com/lists1641_1_1_0_0.html\\' class=\\'cate_detail_con_lk\\' target=\\'_blank\\'>健康与美容</a><a href=\\'http://www.zazhipu.com/lists1640_1_1_0_0.html\\' class=\\'cate_detail_con_lk\\' target=\\'_blank\\'>健康时尚</a><a href=\\'http://www.zazhipu.com/lists1708_1_1_0_0.html\\' class=\\'cate_detail_con_lk\\' target=\\'_blank\\'>艾丝</a><a href=\\'http://www.zazhipu.com/lists1882_1_1_0_0.html\\' class=\\'cate_detail_con_lk\\' target=\\'_blank\\'>嘉人美妆</a><a href=\\'http://www.zazhipu.com/lists1707_1_1_0_0.html\\' class=\\'cate_detail_con_lk\\' target=\\'_blank\\'>昕薇 VoCE风采美妆</a><a href=\\'http://www.zazhipu.com/lists3450_1_1_0_0.html\\' class=\\'cate_detail_con_lk\\' target=\\'_blank\\'>其他</a><a href=\\'http://www.zazhipu.com/lists1798_1_1_0_0.html\\' class=\\'cate_detail_con_lk\\' target=\\'_blank\\'>女刊</a> </dd></dl><dl class=\\'cate_detail_item cate_detail_item1\\'><dt class=\\'cate_detail_tit\\'><a href=\\'http://www.zazhipu.com/listm1141_1_1_0_0.html\\' class=\\'cate_detail_tit_lk\\' title=娱乐报道 target=\\'_blank\\'>娱乐报道<i></i></a></dt><dd class=\\'cate_detail_con\\'><a href=\\'http://www.zazhipu.com/lists3059_1_1_0_0.html\\' class=\\'cate_detail_con_lk\\' target=\\'_blank\\'>南都娱乐周刊</a><a href=\\'http://www.zazhipu.com/lists3451_1_1_0_0.html\\' class=\\'cate_detail_con_lk\\' target=\\'_blank\\'>其他</a> </dd></dl><dl class=\\'cate_detail_item cate_detail_item1\\'><dt class=\\'cate_detail_tit\\'><a href=\\'http://www.zazhipu.com/listm1379_1_1_0_0.html\\' class=\\'cate_detail_tit_lk\\' title=潮流资讯 target=\\'_blank\\'>潮流资讯<i></i></a></dt><dd class=\\'cate_detail_con\\'><a href=\\'http://www.zazhipu.com/lists3062_1_1_0_0.html\\' class=\\'cate_detail_con_lk\\' target=\\'_blank\\'>MILK新潮流</a><a href=\\'http://www.zazhipu.com/lists3063_1_1_0_0.html\\' class=\\'cate_detail_con_lk\\' target=\\'_blank\\'>城中至潮1626（广州版）</a><a href=\\'http://www.zazhipu.com/lists3064_1_1_0_0.html\\' class=\\'cate_detail_con_lk\\' target=\\'_blank\\'>YOHO(潮流志)</a><a href=\\'http://www.zazhipu.com/lists3065_1_1_0_0.html\\' class=\\'cate_detail_con_lk\\' target=\\'_blank\\'>size潮流生活</a><a href=\\'http://www.zazhipu.com/lists3067_1_1_0_0.html\\' class=\\'cate_detail_con_lk\\' target=\\'_blank\\'>尺码（SIZE）</a><a href=\\'http://www.zazhipu.com/lists3068_1_1_0_0.html\\' class=\\'cate_detail_con_lk\\' target=\\'_blank\\'>so cool 搜酷</a><a href=\\'http://www.zazhipu.com/lists3123_1_1_0_0.html\\' class=\\'cate_detail_con_lk\\' target=\\'_blank\\'>风尚志</a><a href=\\'http://www.zazhipu.com/lists3452_1_1_0_0.html\\' class=\\'cate_detail_con_lk\\' target=\\'_blank\\'>其他</a><a href=\\'http://www.zazhipu.com/lists19220_1_1_0_0.html\\' class=\\'cate_detail_con_lk\\' target=\\'_blank\\'>YOHO(GIRL)</a><a href=\\'http://www.zazhipu.com/lists21312_1_1_0_0.html\\' class=\\'cate_detail_con_lk\\' target=\\'_blank\\'>格调</a> </dd></dl><dl class=\\'cate_detail_item cate_detail_item1\\'><dt class=\\'cate_detail_tit\\'><a href=\\'http://www.zazhipu.com/listm1428_1_1_0_0.html\\' class=\\'cate_detail_tit_lk\\' title=白领风尚 target=\\'_blank\\'>白领风尚<i></i></a></dt><dd class=\\'cate_detail_con\\'><a href=\\'http://www.zazhipu.com/listm1428_1_1_0_0.html\\' class=\\'cate_detail_tit_lk\\' title=白领风尚  target=\\'_blank\\'>白领风尚<i></i></a> </dd></dl><dl class=\\'cate_detail_item cate_detail_item1\\'><dt class=\\'cate_detail_tit\\'><a href=\\'http://www.zazhipu.com/listm1429_1_1_0_0.html\\' class=\\'cate_detail_tit_lk\\' title=日韩潮流 target=\\'_blank\\'>日韩潮流<i></i></a></dt><dd class=\\'cate_detail_con\\'><a href=\\'http://www.zazhipu.com/listm1429_1_1_0_0.html\\' class=\\'cate_detail_tit_lk\\' title=日韩潮流  target=\\'_blank\\'>日韩潮流<i></i></a> </dd></dl><dl class=\\'cate_detail_item cate_detail_item1\\'><dt class=\\'cate_detail_tit\\'><a href=\\'http://www.zazhipu.com/listm1430_1_1_0_0.html\\' class=\\'cate_detail_tit_lk\\' title=减肥瘦身 target=\\'_blank\\'>减肥瘦身<i></i></a></dt><dd class=\\'cate_detail_con\\'><a href=\\'http://www.zazhipu.com/listm1430_1_1_0_0.html\\' class=\\'cate_detail_tit_lk\\' title=减肥瘦身  target=\\'_blank\\'>减肥瘦身<i></i></a> </dd></dl></div><div class=\\'hb_navlist_info_r_item_r\\'><p class=\\'hb_navlist_info_r_item_r_title\\'>热点专题</p><div class=\\'hb_navlist_info_r_item_r_info\\'><p class=\\'hb_navlist_info_r_item_r_info_t\\'>【elle】变身时尚达人之路</p><div class=\\'hb_navlist_info_r_item_r_info_img\\'><a href=\\'http://hd.zazhipu.com/shudandetail434.html\\'><img src=\\'http://img1.zazhipu.com/bookpic/20198/201982911217.jpg?imageMogr2/thumbnail/400x \\'></a></div></div><div class=\\'hb_navlist_info_r_item_r_info\\'><p class=\\'hb_navlist_info_r_item_r_info_t\\'>【潮流资讯】再不跟上潮流就要out了10本</p><div class=\\'hb_navlist_info_r_item_r_info_img\\'><a href=\\'http://hd.zazhipu.com/shudandetail433.html\\'><img src=\\'http://img1.zazhipu.com/bookpic/20188/2018813111619.jpg?imageMogr2/thumbnail/400x \\'></a></div></div><div class=\\'hb_navlist_info_r_item_r_info\\'><p class=\\'hb_navlist_info_r_item_r_info_t\\'>【美容美妆】还在被说丑？美妆变身达人帮你支招了</p><div class=\\'hb_navlist_info_r_item_r_info_img\\'><a href=\\'http://hd.zazhipu.com/shudandetail432.html\\'><img src=\\'http://img1.zazhipu.com/bookpic/20188/201881311235.jpg?imageMogr2/thumbnail/400x \\'></a></div></div></div></div><div class=\\'hb_navlist_info_r_item\\'><div class=\\'hb_navlist_info_r_item_l\\'><dl class=\\'cate_detail_item cate_detail_item1\\'><dt class=\\'cate_detail_tit\\'><a href=\\'http://www.zazhipu.com/listm1199_1_1_0_0.html\\' class=\\'cate_detail_tit_lk\\' title=财经资讯 target=\\'_blank\\'>财经资讯<i></i></a></dt><dd class=\\'cate_detail_con\\'><a href=\\'http://www.zazhipu.com/lists3089_1_1_0_0.html\\' class=\\'cate_detail_con_lk\\' target=\\'_blank\\'>第一财经周刊</a><a href=\\'http://www.zazhipu.com/lists3093_1_1_0_0.html\\' class=\\'cate_detail_con_lk\\' target=\\'_blank\\'>环球财经</a><a href=\\'http://www.zazhipu.com/lists3091_1_1_0_0.html\\' class=\\'cate_detail_con_lk\\' target=\\'_blank\\'>财经天下</a><a href=\\'http://www.zazhipu.com/lists3314_1_1_0_0.html\\' class=\\'cate_detail_con_lk\\' target=\\'_blank\\'>中国经济报告</a><a href=\\'http://www.zazhipu.com/lists3318_1_1_0_0.html\\' class=\\'cate_detail_con_lk\\' target=\\'_blank\\'>财新周刊</a><a href=\\'http://www.zazhipu.com/lists3092_1_1_0_0.html\\' class=\\'cate_detail_con_lk\\' target=\\'_blank\\'>财经文摘</a><a href=\\'http://www.zazhipu.com/lists3548_1_1_0_0.html\\' class=\\'cate_detail_con_lk\\' target=\\'_blank\\'>名人传记・财富人物</a><a href=\\'http://www.zazhipu.com/lists3481_1_1_0_0.html\\' class=\\'cate_detail_con_lk\\' target=\\'_blank\\'>中国战略新兴产业</a><a href=\\'http://www.zazhipu.com/lists3595_1_1_0_0.html\\' class=\\'cate_detail_con_lk\\' target=\\'_blank\\'>经济展望</a><a href=\\'http://www.zazhipu.com/lists3743_1_1_0_0.html\\' class=\\'cate_detail_con_lk\\' target=\\'_blank\\'>工业经济论坛</a><a href=\\'http://www.zazhipu.com/lists3814_1_1_0_0.html\\' class=\\'cate_detail_con_lk\\' target=\\'_blank\\'>广东经济</a><a href=\\'http://www.zazhipu.com/lists3459_1_1_0_0.html\\' class=\\'cate_detail_con_lk\\' target=\\'_blank\\'>其他</a> </dd></dl><dl class=\\'cate_detail_item cate_detail_item1\\'><dt class=\\'cate_detail_tit\\'><a href=\\'http://www.zazhipu.com/listm1008_1_1_0_0.html\\' class=\\'cate_detail_tit_lk\\' title=市场营销 target=\\'_blank\\'>市场营销<i></i></a></dt><dd class=\\'cate_detail_con\\'><a href=\\'http://www.zazhipu.com/lists3079_1_1_0_0.html\\' class=\\'cate_detail_con_lk\\' target=\\'_blank\\'>销售与市场</a><a href=\\'http://www.zazhipu.com/lists3386_1_1_0_0.html\\' class=\\'cate_detail_con_lk\\' target=\\'_blank\\'>E药经理人</a><a href=\\'http://www.zazhipu.com/lists3588_1_1_0_0.html\\' class=\\'cate_detail_con_lk\\' target=\\'_blank\\'>商业价值</a><a href=\\'http://www.zazhipu.com/lists1953_1_1_0_0.html\\' class=\\'cate_detail_con_lk\\' target=\\'_blank\\'>中国连锁</a><a href=\\'http://www.zazhipu.com/lists3454_1_1_0_0.html\\' class=\\'cate_detail_con_lk\\' target=\\'_blank\\'>其他</a> </dd></dl><dl class=\\'cate_detail_item cate_detail_item1\\'><dt class=\\'cate_detail_tit\\'><a href=\\'http://www.zazhipu.com/listm1010_1_1_0_0.html\\' class=\\'cate_detail_tit_lk\\' title=证券金融 target=\\'_blank\\'>证券金融<i></i></a></dt><dd class=\\'cate_detail_con\\'><a href=\\'http://www.zazhipu.com/lists1604_1_1_0_0.html\\' class=\\'cate_detail_con_lk\\' target=\\'_blank\\'>商界</a><a href=\\'http://www.zazhipu.com/lists3081_1_1_0_0.html\\' class=\\'cate_detail_con_lk\\' target=\\'_blank\\'>金融世界</a><a href=\\'http://www.zazhipu.com/lists3083_1_1_0_0.html\\' class=\\'cate_detail_con_lk\\' target=\\'_blank\\'>证券市场周刊</a><a href=\\'http://www.zazhipu.com/lists3084_1_1_0_0.html\\' class=\\'cate_detail_con_lk\\' target=\\'_blank\\'>证券市场红周刊</a><a href=\\'http://www.zazhipu.com/lists3661_1_1_0_0.html\\' class=\\'cate_detail_con_lk\\' target=\\'_blank\\'>汇商</a><a href=\\'http://www.zazhipu.com/lists3455_1_1_0_0.html\\' class=\\'cate_detail_con_lk\\' target=\\'_blank\\'>其他</a><a href=\\'http://www.zazhipu.com/lists20473_1_1_0_0.html\\' class=\\'cate_detail_con_lk\\' target=\\'_blank\\'>清华金融评论</a> </dd></dl><dl class=\\'cate_detail_item cate_detail_item1\\'><dt class=\\'cate_detail_tit\\'><a href=\\'http://www.zazhipu.com/listm1012_1_1_0_0.html\\' class=\\'cate_detail_tit_lk\\' title=商业评论 target=\\'_blank\\'>商业评论<i></i></a></dt><dd class=\\'cate_detail_con\\'><a href=\\'http://www.zazhipu.com/lists1627_1_1_0_0.html\\' class=\\'cate_detail_con_lk\\' target=\\'_blank\\'>商业周刊中文版</a><a href=\\'http://www.zazhipu.com/lists1609_1_1_0_0.html\\' class=\\'cate_detail_con_lk\\' target=\\'_blank\\'>商业评论</a><a href=\\'http://www.zazhipu.com/lists2339_1_1_0_0.html\\' class=\\'cate_detail_con_lk\\' target=\\'_blank\\'>哈佛商业评论</a><a href=\\'http://www.zazhipu.com/lists1611_1_1_0_0.html\\' class=\\'cate_detail_con_lk\\' target=\\'_blank\\'>中欧商业评论</a><a href=\\'http://www.zazhipu.com/lists1612_1_1_0_0.html\\' class=\\'cate_detail_con_lk\\' target=\\'_blank\\'>21世纪商业评论</a><a href=\\'http://www.zazhipu.com/lists3376_1_1_0_0.html\\' class=\\'cate_detail_con_lk\\' target=\\'_blank\\'>中国经营报</a><a href=\\'http://www.zazhipu.com/lists3675_1_1_0_0.html\\' class=\\'cate_detail_con_lk\\' target=\\'_blank\\'>全球商业经典</a><a href=\\'http://www.zazhipu.com/lists5491_1_1_0_0.html\\' class=\\'cate_detail_con_lk\\' target=\\'_blank\\'>项目管理评论</a><a href=\\'http://www.zazhipu.com/lists5490_1_1_0_0.html\\' class=\\'cate_detail_con_lk\\' target=\\'_blank\\'>项目管理评论</a><a href=\\'http://www.zazhipu.com/lists19046_1_1_0_0.html\\' class=\\'cate_detail_con_lk\\' target=\\'_blank\\'>数字商业时代</a><a href=\\'http://www.zazhipu.com/lists3456_1_1_0_0.html\\' class=\\'cate_detail_con_lk\\' target=\\'_blank\\'>其他</a> </dd></dl><dl class=\\'cate_detail_item cate_detail_item1\\'><dt class=\\'cate_detail_tit\\'><a href=\\'http://www.zazhipu.com/listm1014_1_1_0_0.html\\' class=\\'cate_detail_tit_lk\\' title=致富理财 target=\\'_blank\\'>致富理财<i></i></a></dt><dd class=\\'cate_detail_con\\'><a href=\\'http://www.zazhipu.com/lists3087_1_1_0_0.html\\' class=\\'cate_detail_con_lk\\' target=\\'_blank\\'>投资与理财</a><a href=\\'http://www.zazhipu.com/lists3134_1_1_0_0.html\\' class=\\'cate_detail_con_lk\\' target=\\'_blank\\'>华夏理财</a><a href=\\'http://www.zazhipu.com/lists1751_1_1_0_0.html\\' class=\\'cate_detail_con_lk\\' target=\\'_blank\\'>大众理财顾问</a><a href=\\'http://www.zazhipu.com/lists3037_1_1_0_0.html\\' class=\\'cate_detail_con_lk\\' target=\\'_blank\\'>财富管理</a><a href=\\'http://www.zazhipu.com/lists1639_1_1_0_0.html\\' class=\\'cate_detail_con_lk\\' target=\\'_blank\\'>新财富</a><a href=\\'http://www.zazhipu.com/lists1631_1_1_0_0.html\\' class=\\'cate_detail_con_lk\\' target=\\'_blank\\'>新理财</a><a href=\\'http://www.zazhipu.com/lists1729_1_1_0_0.html\\' class=\\'cate_detail_con_lk\\' target=\\'_blank\\'>今日财富</a><a href=\\'http://www.zazhipu.com/lists1731_1_1_0_0.html\\' class=\\'cate_detail_con_lk\\' target=\\'_blank\\'>浙商</a><a href=\\'http://www.zazhipu.com/lists1744_1_1_0_0.html\\' class=\\'cate_detail_con_lk\\' target=\\'_blank\\'>智富时代</a><a href=\\'http://www.zazhipu.com/lists3086_1_1_0_0.html\\' class=\\'cate_detail_con_lk\\' target=\\'_blank\\'>大众投资指南</a><a href=\\'http://www.zazhipu.com/lists3088_1_1_0_0.html\\' class=\\'cate_detail_con_lk\\' target=\\'_blank\\'>投资有道</a><a href=\\'http://www.zazhipu.com/lists3425_1_1_0_0.html\\' class=\\'cate_detail_con_lk\\' target=\\'_blank\\'>农家致富顾问</a> </dd></dl><dl class=\\'cate_detail_item cate_detail_item1\\'><dt class=\\'cate_detail_tit\\'><a href=\\'http://www.zazhipu.com/listm1328_1_1_0_0.html\\' class=\\'cate_detail_tit_lk\\' title=工商会计 target=\\'_blank\\'>工商会计<i></i></a></dt><dd class=\\'cate_detail_con\\'><a href=\\'http://www.zazhipu.com/lists3458_1_1_0_0.html\\' class=\\'cate_detail_con_lk\\' target=\\'_blank\\'>其他</a><a href=\\'http://www.zazhipu.com/lists21266_1_1_0_0.html\\' class=\\'cate_detail_con_lk\\' target=\\'_blank\\'>财会月刊</a><a href=\\'http://www.zazhipu.com/lists21375_1_1_0_0.html\\' class=\\'cate_detail_con_lk\\' target=\\'_blank\\'>中国总会计师</a> </dd></dl><dl class=\\'cate_detail_item cate_detail_item1\\'><dt class=\\'cate_detail_tit\\'><a href=\\'http://www.zazhipu.com/listm1007_1_1_0_0.html\\' class=\\'cate_detail_tit_lk\\' title=商业管理 target=\\'_blank\\'>商业管理<i></i></a></dt><dd class=\\'cate_detail_con\\'><a href=\\'http://www.zazhipu.com/lists3073_1_1_0_0.html\\' class=\\'cate_detail_con_lk\\' target=\\'_blank\\'>经理人</a><a href=\\'http://www.zazhipu.com/lists3077_1_1_0_0.html\\' class=\\'cate_detail_con_lk\\' target=\\'_blank\\'>中国企业家</a><a href=\\'http://www.zazhipu.com/lists3070_1_1_0_0.html\\' class=\\'cate_detail_con_lk\\' target=\\'_blank\\'>中外管理</a><a href=\\'http://www.zazhipu.com/lists3071_1_1_0_0.html\\' class=\\'cate_detail_con_lk\\' target=\\'_blank\\'>实效管理</a><a href=\\'http://www.zazhipu.com/lists3072_1_1_0_0.html\\' class=\\'cate_detail_con_lk\\' target=\\'_blank\\'>企业管理</a><a href=\\'http://www.zazhipu.com/lists3074_1_1_0_0.html\\' class=\\'cate_detail_con_lk\\' target=\\'_blank\\'>世界经理人中文版</a><a href=\\'http://www.zazhipu.com/lists3075_1_1_0_0.html\\' class=\\'cate_detail_con_lk\\' target=\\'_blank\\'>经营与管理</a><a href=\\'http://www.zazhipu.com/lists3078_1_1_0_0.html\\' class=\\'cate_detail_con_lk\\' target=\\'_blank\\'>环球企业家</a><a href=\\'http://www.zazhipu.com/lists3085_1_1_0_0.html\\' class=\\'cate_detail_con_lk\\' target=\\'_blank\\'>商学院</a><a href=\\'http://www.zazhipu.com/lists3335_1_1_0_0.html\\' class=\\'cate_detail_con_lk\\' target=\\'_blank\\'>商界</a><a href=\\'http://www.zazhipu.com/lists3563_1_1_0_0.html\\' class=\\'cate_detail_con_lk\\' target=\\'_blank\\'>商界评论</a><a href=\\'http://www.zazhipu.com/lists3564_1_1_0_0.html\\' class=\\'cate_detail_con_lk\\' target=\\'_blank\\'>董事会</a> </dd></dl><dl class=\\'cate_detail_item cate_detail_item1\\'><dt class=\\'cate_detail_tit\\'><a href=\\'http://www.zazhipu.com/listm1431_1_1_0_0.html\\' class=\\'cate_detail_tit_lk\\' title=金融管理 target=\\'_blank\\'>金融管理<i></i></a></dt><dd class=\\'cate_detail_con\\'><a href=\\'http://www.zazhipu.com/lists19103_1_1_0_0.html\\' class=\\'cate_detail_con_lk\\' target=\\'_blank\\'>山东国资</a> </dd></dl><dl class=\\'cate_detail_item cate_detail_item1\\'><dt class=\\'cate_detail_tit\\'><a href=\\'http://www.zazhipu.com/listm1432_1_1_0_0.html\\' class=\\'cate_detail_tit_lk\\' title=投融资 target=\\'_blank\\'>投融资<i></i></a></dt><dd class=\\'cate_detail_con\\'><a href=\\'http://www.zazhipu.com/lists5650_1_1_0_0.html\\' class=\\'cate_detail_con_lk\\' target=\\'_blank\\'>金融世界</a><a href=\\'http://www.zazhipu.com/lists5651_1_1_0_0.html\\' class=\\'cate_detail_con_lk\\' target=\\'_blank\\'>互联网金融观察</a><a href=\\'http://www.zazhipu.com/lists19205_1_1_0_0.html\\' class=\\'cate_detail_con_lk\\' target=\\'_blank\\'>投资与合作</a><a href=\\'http://www.zazhipu.com/lists21401_1_1_0_0.html\\' class=\\'cate_detail_con_lk\\' target=\\'_blank\\'>中国投资</a> </dd></dl><dl class=\\'cate_detail_item cate_detail_item1\\'><dt class=\\'cate_detail_tit\\'><a href=\\'http://www.zazhipu.com/listm1499_1_1_0_0.html\\' class=\\'cate_detail_tit_lk\\' title=公益慈善 target=\\'_blank\\'>公益慈善<i></i></a></dt><dd class=\\'cate_detail_con\\'><a href=\\'http://www.zazhipu.com/lists21400_1_1_0_0.html\\' class=\\'cate_detail_con_lk\\' target=\\'_blank\\'>中国慈善家</a> </dd></dl><dl class=\\'cate_detail_item cate_detail_item1\\'><dt class=\\'cate_detail_tit\\'><a href=\\'http://www.zazhipu.com/listm1270_1_1_0_0.html\\' class=\\'cate_detail_tit_lk\\' title=创业 target=\\'_blank\\'>创业<i></i></a></dt><dd class=\\'cate_detail_con\\'><a href=\\'http://www.zazhipu.com/lists3094_1_1_0_0.html\\' class=\\'cate_detail_con_lk\\' target=\\'_blank\\'>创业邦</a><a href=\\'http://www.zazhipu.com/lists3460_1_1_0_0.html\\' class=\\'cate_detail_con_lk\\' target=\\'_blank\\'>其他</a> </dd></dl></div><div class=\\'hb_navlist_info_r_item_r\\'><p class=\\'hb_navlist_info_r_item_r_title\\'>热点专题</p><div class=\\'hb_navlist_info_r_item_r_info\\'><p class=\\'hb_navlist_info_r_item_r_info_t\\'>【会计】财智一生</p><div class=\\'hb_navlist_info_r_item_r_info_img\\'><a href=\\'http://hd.zazhipu.com/shudandetail487.html\\'><img src=\\'http://img1.zazhipu.com/magspic/2018806_small.jpg?imageMogr2/thumbnail/400x \\'></a></div></div><div class=\\'hb_navlist_info_r_item_r_info\\'><p class=\\'hb_navlist_info_r_item_r_info_t\\'>【法律专业】知法行法，创造良好世界</p><div class=\\'hb_navlist_info_r_item_r_info_img\\'><a href=\\'http://hd.zazhipu.com/shudandetail484.html\\'><img src=\\'http://img1.zazhipu.com/magspic/2019151_small.jpg?imageMogr2/thumbnail/400x \\'></a></div></div><div class=\\'hb_navlist_info_r_item_r_info\\'><p class=\\'hb_navlist_info_r_item_r_info_t\\'>【领导科学】领导天下，管理人才</p><div class=\\'hb_navlist_info_r_item_r_info_img\\'><a href=\\'http://hd.zazhipu.com/shudandetail483.html\\'><img src=\\'http://img1.zazhipu.com/magspic/2018936_small.jpg?imageMogr2/thumbnail/400x \\'></a></div></div></div></div><div class=\\'hb_navlist_info_r_item\\'><div class=\\'hb_navlist_info_r_item_l\\'><dl class=\\'cate_detail_item cate_detail_item1\\'><dt class=\\'cate_detail_tit\\'><a href=\\'http://www.zazhipu.com/listm1032_1_1_0_0.html\\' class=\\'cate_detail_tit_lk\\' title=文摘 target=\\'_blank\\'>文摘<i></i></a></dt><dd class=\\'cate_detail_con\\'><a href=\\'http://www.zazhipu.com/lists1905_1_1_0_0.html\\' class=\\'cate_detail_con_lk\\' target=\\'_blank\\'>读者系列</a><a href=\\'http://www.zazhipu.com/lists1892_1_1_0_0.html\\' class=\\'cate_detail_con_lk\\' target=\\'_blank\\'>青年文摘系列</a><a href=\\'http://www.zazhipu.com/lists1983_1_1_0_0.html\\' class=\\'cate_detail_con_lk\\' target=\\'_blank\\'>综合文摘类</a><a href=\\'http://www.zazhipu.com/lists1860_1_1_0_0.html\\' class=\\'cate_detail_con_lk\\' target=\\'_blank\\'>格言</a><a href=\\'http://www.zazhipu.com/lists4038_1_1_0_0.html\\' class=\\'cate_detail_con_lk\\' target=\\'_blank\\'>文苑系列</a><a href=\\'http://www.zazhipu.com/lists1907_1_1_0_0.html\\' class=\\'cate_detail_con_lk\\' target=\\'_blank\\'>思维与智慧</a><a href=\\'http://www.zazhipu.com/lists1861_1_1_0_0.html\\' class=\\'cate_detail_con_lk\\' target=\\'_blank\\'>萌芽</a><a href=\\'http://www.zazhipu.com/lists1906_1_1_0_0.html\\' class=\\'cate_detail_con_lk\\' target=\\'_blank\\'>译林</a><a href=\\'http://www.zazhipu.com/lists1855_1_1_0_0.html\\' class=\\'cate_detail_con_lk\\' target=\\'_blank\\'>意林</a><a href=\\'http://www.zazhipu.com/lists1837_1_1_0_0.html\\' class=\\'cate_detail_con_lk\\' target=\\'_blank\\'>书城</a><a href=\\'http://www.zazhipu.com/lists1859_1_1_0_0.html\\' class=\\'cate_detail_con_lk\\' target=\\'_blank\\'>做人与处世</a><a href=\\'http://www.zazhipu.com/lists3684_1_1_0_0.html\\' class=\\'cate_detail_con_lk\\' target=\\'_blank\\'>头条</a> </dd></dl><dl class=\\'cate_detail_item cate_detail_item1\\'><dt class=\\'cate_detail_tit\\'><a href=\\'http://www.zazhipu.com/listm1033_1_1_0_0.html\\' class=\\'cate_detail_tit_lk\\' title=文化历史 target=\\'_blank\\'>文化历史<i></i></a></dt><dd class=\\'cate_detail_con\\'><a href=\\'http://www.zazhipu.com/lists1790_1_1_0_0.html\\' class=\\'cate_detail_con_lk\\' target=\\'_blank\\'>看历史</a><a href=\\'http://www.zazhipu.com/lists3660_1_1_0_0.html\\' class=\\'cate_detail_con_lk\\' target=\\'_blank\\'>国家人文历史</a><a href=\\'http://www.zazhipu.com/lists1849_1_1_0_0.html\\' class=\\'cate_detail_con_lk\\' target=\\'_blank\\'>天涯</a><a href=\\'http://www.zazhipu.com/lists1891_1_1_0_0.html\\' class=\\'cate_detail_con_lk\\' target=\\'_blank\\'>百家讲坛</a><a href=\\'http://www.zazhipu.com/lists1902_1_1_0_0.html\\' class=\\'cate_detail_con_lk\\' target=\\'_blank\\'>醒狮国学</a><a href=\\'http://www.zazhipu.com/lists1986_1_1_0_0.html\\' class=\\'cate_detail_con_lk\\' target=\\'_blank\\'>读书文摘</a><a href=\\'http://www.zazhipu.com/lists1988_1_1_0_0.html\\' class=\\'cate_detail_con_lk\\' target=\\'_blank\\'>文化纵横</a><a href=\\'http://www.zazhipu.com/lists4116_1_1_0_0.html\\' class=\\'cate_detail_con_lk\\' target=\\'_blank\\'>大众考古</a><a href=\\'http://www.zazhipu.com/lists3515_1_1_0_0.html\\' class=\\'cate_detail_con_lk\\' target=\\'_blank\\'>今参考历史</a><a href=\\'http://www.zazhipu.com/lists1804_1_1_0_0.html\\' class=\\'cate_detail_con_lk\\' target=\\'_blank\\'>文史天地</a><a href=\\'http://www.zazhipu.com/lists3474_1_1_0_0.html\\' class=\\'cate_detail_con_lk\\' target=\\'_blank\\'>其他</a><a href=\\'http://www.zazhipu.com/lists19206_1_1_0_0.html\\' class=\\'cate_detail_con_lk\\' target=\\'_blank\\'>天府文化</a> </dd></dl><dl class=\\'cate_detail_item cate_detail_item1\\'><dt class=\\'cate_detail_tit\\'><a href=\\'http://www.zazhipu.com/listm1034_1_1_0_0.html\\' class=\\'cate_detail_tit_lk\\' title=传记故事 target=\\'_blank\\'>传记故事<i></i></a></dt><dd class=\\'cate_detail_con\\'><a href=\\'http://www.zazhipu.com/lists1843_1_1_0_0.html\\' class=\\'cate_detail_con_lk\\' target=\\'_blank\\'>故事会系列</a><a href=\\'http://www.zazhipu.com/lists1900_1_1_0_0.html\\' class=\\'cate_detail_con_lk\\' target=\\'_blank\\'>上海故事</a><a href=\\'http://www.zazhipu.com/lists1840_1_1_0_0.html\\' class=\\'cate_detail_con_lk\\' target=\\'_blank\\'>故事世界</a><a href=\\'http://www.zazhipu.com/lists4115_1_1_0_0.html\\' class=\\'cate_detail_con_lk\\' target=\\'_blank\\'>中华传奇系列</a><a href=\\'http://www.zazhipu.com/lists1842_1_1_0_0.html\\' class=\\'cate_detail_con_lk\\' target=\\'_blank\\'>故事家</a><a href=\\'http://www.zazhipu.com/lists4042_1_1_0_0.html\\' class=\\'cate_detail_con_lk\\' target=\\'_blank\\'>女报故事</a><a href=\\'http://www.zazhipu.com/lists2533_1_1_0_0.html\\' class=\\'cate_detail_con_lk\\' target=\\'_blank\\'>山海经</a><a href=\\'http://www.zazhipu.com/lists1845_1_1_0_0.html\\' class=\\'cate_detail_con_lk\\' target=\\'_blank\\'>百花故事</a><a href=\\'http://www.zazhipu.com/lists1894_1_1_0_0.html\\' class=\\'cate_detail_con_lk\\' target=\\'_blank\\'>龙门阵</a><a href=\\'http://www.zazhipu.com/lists3593_1_1_0_0.html\\' class=\\'cate_detail_con_lk\\' target=\\'_blank\\'>名人传记</a><a href=\\'http://www.zazhipu.com/lists3794_1_1_0_0.html\\' class=\\'cate_detail_con_lk\\' target=\\'_blank\\'>青春风 成长风尚</a><a href=\\'http://www.zazhipu.com/lists3475_1_1_0_0.html\\' class=\\'cate_detail_con_lk\\' target=\\'_blank\\'>其他</a> </dd></dl><dl class=\\'cate_detail_item cate_detail_item1\\'><dt class=\\'cate_detail_tit\\'><a href=\\'http://www.zazhipu.com/listm1035_1_1_0_0.html\\' class=\\'cate_detail_tit_lk\\' title=小说 target=\\'_blank\\'>小说<i></i></a></dt><dd class=\\'cate_detail_con\\'><a href=\\'http://www.zazhipu.com/lists1866_1_1_0_0.html\\' class=\\'cate_detail_con_lk\\' target=\\'_blank\\'>小说月报系列</a><a href=\\'http://www.zazhipu.com/lists1864_1_1_0_0.html\\' class=\\'cate_detail_con_lk\\' target=\\'_blank\\'>小小说</a><a href=\\'http://www.zazhipu.com/lists1865_1_1_0_0.html\\' class=\\'cate_detail_con_lk\\' target=\\'_blank\\'>名家小说</a><a href=\\'http://www.zazhipu.com/lists1867_1_1_0_0.html\\' class=\\'cate_detail_con_lk\\' target=\\'_blank\\'>长篇小说</a><a href=\\'http://www.zazhipu.com/lists1868_1_1_0_0.html\\' class=\\'cate_detail_con_lk\\' target=\\'_blank\\'>奇幻小说</a><a href=\\'http://www.zazhipu.com/lists1985_1_1_0_0.html\\' class=\\'cate_detail_con_lk\\' target=\\'_blank\\'>中篇小说</a><a href=\\'http://www.zazhipu.com/lists4050_1_1_0_0.html\\' class=\\'cate_detail_con_lk\\' target=\\'_blank\\'>九州漫小说</a><a href=\\'http://www.zazhipu.com/lists3614_1_1_0_0.html\\' class=\\'cate_detail_con_lk\\' target=\\'_blank\\'>江南</a><a href=\\'http://www.zazhipu.com/lists4040_1_1_0_0.html\\' class=\\'cate_detail_con_lk\\' target=\\'_blank\\'>北京文学</a><a href=\\'http://www.zazhipu.com/lists4039_1_1_0_0.html\\' class=\\'cate_detail_con_lk\\' target=\\'_blank\\'>北京文学 中篇小说月报</a><a href=\\'http://www.zazhipu.com/lists3729_1_1_0_0.html\\' class=\\'cate_detail_con_lk\\' target=\\'_blank\\'>小说界</a><a href=\\'http://www.zazhipu.com/lists3811_1_1_0_0.html\\' class=\\'cate_detail_con_lk\\' target=\\'_blank\\'>新锐阅读</a> </dd></dl><dl class=\\'cate_detail_item cate_detail_item1\\'><dt class=\\'cate_detail_tit\\'><a href=\\'http://www.zazhipu.com/listm1329_1_1_0_0.html\\' class=\\'cate_detail_tit_lk\\' title=散文杂文 target=\\'_blank\\'>散文杂文<i></i></a></dt><dd class=\\'cate_detail_con\\'><a href=\\'http://www.zazhipu.com/lists1960_1_1_0_0.html\\' class=\\'cate_detail_con_lk\\' target=\\'_blank\\'>咬文嚼字</a><a href=\\'http://www.zazhipu.com/lists1957_1_1_0_0.html\\' class=\\'cate_detail_con_lk\\' target=\\'_blank\\'>经典杂文</a><a href=\\'http://www.zazhipu.com/lists1958_1_1_0_0.html\\' class=\\'cate_detail_con_lk\\' target=\\'_blank\\'>杂文选刊</a><a href=\\'http://www.zazhipu.com/lists1959_1_1_0_0.html\\' class=\\'cate_detail_con_lk\\' target=\\'_blank\\'>杂文月刊</a><a href=\\'http://www.zazhipu.com/lists1956_1_1_0_0.html\\' class=\\'cate_detail_con_lk\\' target=\\'_blank\\'>人民文学</a><a href=\\'http://www.zazhipu.com/lists1961_1_1_0_0.html\\' class=\\'cate_detail_con_lk\\' target=\\'_blank\\'>散文</a><a href=\\'http://www.zazhipu.com/lists3728_1_1_0_0.html\\' class=\\'cate_detail_con_lk\\' target=\\'_blank\\'>天涯</a><a href=\\'http://www.zazhipu.com/lists3581_1_1_0_0.html\\' class=\\'cate_detail_con_lk\\' target=\\'_blank\\'>美文</a><a href=\\'http://www.zazhipu.com/lists3680_1_1_0_0.html\\' class=\\'cate_detail_con_lk\\' target=\\'_blank\\'>散文选刊</a><a href=\\'http://www.zazhipu.com/lists3477_1_1_0_0.html\\' class=\\'cate_detail_con_lk\\' target=\\'_blank\\'>其他</a><a href=\\'http://www.zazhipu.com/lists21311_1_1_0_0.html\\' class=\\'cate_detail_con_lk\\' target=\\'_blank\\'>散文百家</a> </dd></dl><dl class=\\'cate_detail_item cate_detail_item1\\'><dt class=\\'cate_detail_tit\\'><a href=\\'http://www.zazhipu.com/listm1036_1_1_0_0.html\\' class=\\'cate_detail_tit_lk\\' title=生活纪实 target=\\'_blank\\'>生活纪实<i></i></a></dt><dd class=\\'cate_detail_con\\'><a href=\\'http://www.zazhipu.com/lists1848_1_1_0_0.html\\' class=\\'cate_detail_con_lk\\' target=\\'_blank\\'>城市画报</a><a href=\\'http://www.zazhipu.com/lists1976_1_1_0_0.html\\' class=\\'cate_detail_con_lk\\' target=\\'_blank\\'>读库</a><a href=\\'http://www.zazhipu.com/lists2002_1_1_0_0.html\\' class=\\'cate_detail_con_lk\\' target=\\'_blank\\'>啄木鸟</a><a href=\\'http://www.zazhipu.com/lists3787_1_1_0_0.html\\' class=\\'cate_detail_con_lk\\' target=\\'_blank\\'>青春风 青春阅读</a><a href=\\'http://www.zazhipu.com/lists3798_1_1_0_0.html\\' class=\\'cate_detail_con_lk\\' target=\\'_blank\\'>青春风 校园文学</a><a href=\\'http://www.zazhipu.com/lists2017_1_1_0_0.html\\' class=\\'cate_detail_con_lk\\' target=\\'_blank\\'>时代报告・中国报告文学</a><a href=\\'http://www.zazhipu.com/lists3478_1_1_0_0.html\\' class=\\'cate_detail_con_lk\\' target=\\'_blank\\'>其他</a><a href=\\'http://www.zazhipu.com/lists5514_1_1_0_0.html\\' class=\\'cate_detail_con_lk\\' target=\\'_blank\\'>书都</a><a href=\\'http://www.zazhipu.com/lists5599_1_1_0_0.html\\' class=\\'cate_detail_con_lk\\' target=\\'_blank\\'>文艺风象</a><a href=\\'http://www.zazhipu.com/lists5598_1_1_0_0.html\\' class=\\'cate_detail_con_lk\\' target=\\'_blank\\'>文艺风赏</a><a href=\\'http://www.zazhipu.com/lists5694_1_1_0_0.html\\' class=\\'cate_detail_con_lk\\' target=\\'_blank\\'>时代青年悦读</a> </dd></dl><dl class=\\'cate_detail_item cate_detail_item1\\'><dt class=\\'cate_detail_tit\\'><a href=\\'http://www.zazhipu.com/listm1327_1_1_0_0.html\\' class=\\'cate_detail_tit_lk\\' title=都市情感 target=\\'_blank\\'>都市情感<i></i></a></dt><dd class=\\'cate_detail_con\\'><a href=\\'http://www.zazhipu.com/lists1949_1_1_0_0.html\\' class=\\'cate_detail_con_lk\\' target=\\'_blank\\'>深圳青年</a><a href=\\'http://www.zazhipu.com/lists3479_1_1_0_0.html\\' class=\\'cate_detail_con_lk\\' target=\\'_blank\\'>其他</a> </dd></dl><dl class=\\'cate_detail_item cate_detail_item1\\'><dt class=\\'cate_detail_tit\\'><a href=\\'http://www.zazhipu.com/listm1433_1_1_0_0.html\\' class=\\'cate_detail_tit_lk\\' title=经典文化 target=\\'_blank\\'>经典文化<i></i></a></dt><dd class=\\'cate_detail_con\\'><a href=\\'http://www.zazhipu.com/lists5719_1_1_0_0.html\\' class=\\'cate_detail_con_lk\\' target=\\'_blank\\'>星星诗刊</a> </dd></dl><dl class=\\'cate_detail_item cate_detail_item1\\'><dt class=\\'cate_detail_tit\\'><a href=\\'http://www.zazhipu.com/listm1479_1_1_0_0.html\\' class=\\'cate_detail_tit_lk\\' title=文学评论 target=\\'_blank\\'>文学评论<i></i></a></dt><dd class=\\'cate_detail_con\\'><a href=\\'http://www.zazhipu.com/lists19012_1_1_0_0.html\\' class=\\'cate_detail_con_lk\\' target=\\'_blank\\'>书屋</a><a href=\\'http://www.zazhipu.com/lists19013_1_1_0_0.html\\' class=\\'cate_detail_con_lk\\' target=\\'_blank\\'>名作欣赏</a><a href=\\'http://www.zazhipu.com/lists19014_1_1_0_0.html\\' class=\\'cate_detail_con_lk\\' target=\\'_blank\\'>天南</a><a href=\\'http://www.zazhipu.com/lists19015_1_1_0_0.html\\' class=\\'cate_detail_con_lk\\' target=\\'_blank\\'>读书</a><a href=\\'http://www.zazhipu.com/lists19016_1_1_0_0.html\\' class=\\'cate_detail_con_lk\\' target=\\'_blank\\'>文艺风象</a><a href=\\'http://www.zazhipu.com/lists19017_1_1_0_0.html\\' class=\\'cate_detail_con_lk\\' target=\\'_blank\\'>文艺风赏</a><a href=\\'http://www.zazhipu.com/lists19018_1_1_0_0.html\\' class=\\'cate_detail_con_lk\\' target=\\'_blank\\'>其他</a><a href=\\'http://www.zazhipu.com/lists19019_1_1_0_0.html\\' class=\\'cate_detail_con_lk\\' target=\\'_blank\\'>名家名作</a><a href=\\'http://www.zazhipu.com/lists19042_1_1_0_0.html\\' class=\\'cate_detail_con_lk\\' target=\\'_blank\\'>南方文学</a><a href=\\'http://www.zazhipu.com/lists19229_1_1_0_0.html\\' class=\\'cate_detail_con_lk\\' target=\\'_blank\\'>思南文学选刊</a><a href=\\'http://www.zazhipu.com/lists19228_1_1_0_0.html\\' class=\\'cate_detail_con_lk\\' target=\\'_blank\\'>思南文学选刊</a><a href=\\'http://www.zazhipu.com/lists21302_1_1_0_0.html\\' class=\\'cate_detail_con_lk\\' target=\\'_blank\\'>南腔北调</a> </dd></dl><dl class=\\'cate_detail_item cate_detail_item1\\'><dt class=\\'cate_detail_tit\\'><a href=\\'http://www.zazhipu.com/listm1434_1_1_0_0.html\\' class=\\'cate_detail_tit_lk\\' title=幽默笑话 target=\\'_blank\\'>幽默笑话<i></i></a></dt><dd class=\\'cate_detail_con\\'><a href=\\'http://www.zazhipu.com/listm1434_1_1_0_0.html\\' class=\\'cate_detail_tit_lk\\' title=幽默笑话  target=\\'_blank\\'>幽默笑话<i></i></a> </dd></dl><dl class=\\'cate_detail_item cate_detail_item1\\'><dt class=\\'cate_detail_tit\\'><a href=\\'http://www.zazhipu.com/listm1502_1_1_0_0.html\\' class=\\'cate_detail_tit_lk\\' title=人文地理 target=\\'_blank\\'>人文地理<i></i></a></dt><dd class=\\'cate_detail_con\\'><a href=\\'http://www.zazhipu.com/lists21421_1_1_0_0.html\\' class=\\'cate_detail_con_lk\\' target=\\'_blank\\'>世界知识画报</a> </dd></dl></div><div class=\\'hb_navlist_info_r_item_r\\'><p class=\\'hb_navlist_info_r_item_r_title\\'>热点专题</p><div class=\\'hb_navlist_info_r_item_r_info\\'><p class=\\'hb_navlist_info_r_item_r_info_t\\'>【7~10岁】成长路上的第一次抉择，文学少年or科技鬼才</p><div class=\\'hb_navlist_info_r_item_r_info_img\\'><a href=\\'http://hd.zazhipu.com/shudandetail409.html\\'><img src=\\'http://img1.zazhipu.com/bookpic/20196/2019611134428.jpg?imageMogr2/thumbnail/400x \\'></a></div></div><div class=\\'hb_navlist_info_r_item_r_info\\'><p class=\\'hb_navlist_info_r_item_r_info_t\\'>【作文辅导】向作文大师拜师学艺的看过来</p><div class=\\'hb_navlist_info_r_item_r_info_img\\'><a href=\\'http://hd.zazhipu.com/shudandetail429.html\\'><img src=\\'http://img1.zazhipu.com/bookpic/20198/2019830112834.jpg?imageMogr2/thumbnail/400x \\'></a></div></div><div class=\\'hb_navlist_info_r_item_r_info\\'><p class=\\'hb_navlist_info_r_item_r_info_t\\'>【艺术】走进艺术殿堂，体味艺术的魅力</p><div class=\\'hb_navlist_info_r_item_r_info_img\\'><a href=\\'http://hd.zazhipu.com/shudandetail462.html\\'><img src=\\'http://img1.zazhipu.com/bookpic/20198/2019831105447.jpg?imageMogr2/thumbnail/400x \\'></a></div></div></div></div><div class=\\'hb_navlist_info_r_item\\'><div class=\\'hb_navlist_info_r_item_l\\'><dl class=\\'cate_detail_item cate_detail_item1\\'><dt class=\\'cate_detail_tit\\'><a href=\\'http://www.zazhipu.com/listm1061_1_1_0_0.html\\' class=\\'cate_detail_tit_lk\\' title=家庭生活 target=\\'_blank\\'>家庭生活<i></i></a></dt><dd class=\\'cate_detail_con\\'><a href=\\'http://www.zazhipu.com/lists3699_1_1_0_0.html\\' class=\\'cate_detail_con_lk\\' target=\\'_blank\\'>中国女性</a><a href=\\'http://www.zazhipu.com/lists5542_1_1_0_0.html\\' class=\\'cate_detail_con_lk\\' target=\\'_blank\\'>女友</a><a href=\\'http://www.zazhipu.com/lists5708_1_1_0_0.html\\' class=\\'cate_detail_con_lk\\' target=\\'_blank\\'>青春期健康家庭文化</a><a href=\\'http://www.zazhipu.com/lists18804_1_1_0_0.html\\' class=\\'cate_detail_con_lk\\' target=\\'_blank\\'>茶道</a><a href=\\'http://www.zazhipu.com/lists19211_1_1_0_0.html\\' class=\\'cate_detail_con_lk\\' target=\\'_blank\\'>莫愁</a><a href=\\'http://www.zazhipu.com/lists21308_1_1_0_0.html\\' class=\\'cate_detail_con_lk\\' target=\\'_blank\\'>现代妇女</a> </dd></dl><dl class=\\'cate_detail_item cate_detail_item1\\'><dt class=\\'cate_detail_tit\\'><a href=\\'http://www.zazhipu.com/listm1062_1_1_0_0.html\\' class=\\'cate_detail_tit_lk\\' title=都市情感 target=\\'_blank\\'>都市情感<i></i></a></dt><dd class=\\'cate_detail_con\\'><a href=\\'http://www.zazhipu.com/lists1977_1_1_0_0.html\\' class=\\'cate_detail_con_lk\\' target=\\'_blank\\'>知音系列</a><a href=\\'http://www.zazhipu.com/lists2775_1_1_0_0.html\\' class=\\'cate_detail_con_lk\\' target=\\'_blank\\'>凤凰都市</a><a href=\\'http://www.zazhipu.com/lists3506_1_1_0_0.html\\' class=\\'cate_detail_con_lk\\' target=\\'_blank\\'>其他</a> </dd></dl><dl class=\\'cate_detail_item cate_detail_item1\\'><dt class=\\'cate_detail_tit\\'><a href=\\'http://www.zazhipu.com/listm1063_1_1_0_0.html\\' class=\\'cate_detail_tit_lk\\' title=婚姻爱情 target=\\'_blank\\'>婚姻爱情<i></i></a></dt><dd class=\\'cate_detail_con\\'><a href=\\'http://www.zazhipu.com/lists2023_1_1_0_0.html\\' class=\\'cate_detail_con_lk\\' target=\\'_blank\\'>婚姻与家庭</a><a href=\\'http://www.zazhipu.com/lists2024_1_1_0_0.html\\' class=\\'cate_detail_con_lk\\' target=\\'_blank\\'>人之初</a><a href=\\'http://www.zazhipu.com/lists2068_1_1_0_0.html\\' class=\\'cate_detail_con_lk\\' target=\\'_blank\\'>爱情婚姻家庭</a><a href=\\'http://www.zazhipu.com/lists3646_1_1_0_0.html\\' class=\\'cate_detail_con_lk\\' target=\\'_blank\\'>女友系列</a><a href=\\'http://www.zazhipu.com/lists2091_1_1_0_0.html\\' class=\\'cate_detail_con_lk\\' target=\\'_blank\\'>家庭</a><a href=\\'http://www.zazhipu.com/lists3502_1_1_0_0.html\\' class=\\'cate_detail_con_lk\\' target=\\'_blank\\'>其他</a> </dd></dl><dl class=\\'cate_detail_item cate_detail_item1\\'><dt class=\\'cate_detail_tit\\'><a href=\\'http://www.zazhipu.com/listm1064_1_1_0_0.html\\' class=\\'cate_detail_tit_lk\\' title=健康养生 target=\\'_blank\\'>健康养生<i></i></a></dt><dd class=\\'cate_detail_con\\'><a href=\\'http://www.zazhipu.com/lists2839_1_1_0_0.html\\' class=\\'cate_detail_con_lk\\' target=\\'_blank\\'>健康文摘</a><a href=\\'http://www.zazhipu.com/lists3663_1_1_0_0.html\\' class=\\'cate_detail_con_lk\\' target=\\'_blank\\'>家庭用药</a><a href=\\'http://www.zazhipu.com/lists2038_1_1_0_0.html\\' class=\\'cate_detail_con_lk\\' target=\\'_blank\\'>健康之家</a><a href=\\'http://www.zazhipu.com/lists2047_1_1_0_0.html\\' class=\\'cate_detail_con_lk\\' target=\\'_blank\\'>婚育与健康</a><a href=\\'http://www.zazhipu.com/lists2086_1_1_0_0.html\\' class=\\'cate_detail_con_lk\\' target=\\'_blank\\'>大众医学</a><a href=\\'http://www.zazhipu.com/lists2087_1_1_0_0.html\\' class=\\'cate_detail_con_lk\\' target=\\'_blank\\'>家庭医生</a><a href=\\'http://www.zazhipu.com/lists2088_1_1_0_0.html\\' class=\\'cate_detail_con_lk\\' target=\\'_blank\\'>家庭医药</a><a href=\\'http://www.zazhipu.com/lists2016_1_1_0_0.html\\' class=\\'cate_detail_con_lk\\' target=\\'_blank\\'>特别关注（爱你）</a><a href=\\'http://www.zazhipu.com/lists4403_1_1_0_0.html\\' class=\\'cate_detail_con_lk\\' target=\\'_blank\\'>家庭医学</a><a href=\\'http://www.zazhipu.com/lists2092_1_1_0_0.html\\' class=\\'cate_detail_con_lk\\' target=\\'_blank\\'>健康世界</a><a href=\\'http://www.zazhipu.com/lists2093_1_1_0_0.html\\' class=\\'cate_detail_con_lk\\' target=\\'_blank\\'>亚太传统医药&#8226;都市健康人</a><a href=\\'http://www.zazhipu.com/lists2097_1_1_0_0.html\\' class=\\'cate_detail_con_lk\\' target=\\'_blank\\'>自我保健</a> </dd></dl><dl class=\\'cate_detail_item cate_detail_item1\\'><dt class=\\'cate_detail_tit\\'><a href=\\'http://www.zazhipu.com/listm1066_1_1_0_0.html\\' class=\\'cate_detail_tit_lk\\' title=宠物饲养 target=\\'_blank\\'>宠物饲养<i></i></a></dt><dd class=\\'cate_detail_con\\'><a href=\\'http://www.zazhipu.com/lists2070_1_1_0_0.html\\' class=\\'cate_detail_con_lk\\' target=\\'_blank\\'>猫迷</a><a href=\\'http://www.zazhipu.com/lists2071_1_1_0_0.html\\' class=\\'cate_detail_con_lk\\' target=\\'_blank\\'>狗迷</a> </dd></dl><dl class=\\'cate_detail_item cate_detail_item1\\'><dt class=\\'cate_detail_tit\\'><a href=\\'http://www.zazhipu.com/listm1362_1_1_0_0.html\\' class=\\'cate_detail_tit_lk\\' title=生活品质 target=\\'_blank\\'>生活品质<i></i></a></dt><dd class=\\'cate_detail_con\\'><a href=\\'http://www.zazhipu.com/lists2870_1_1_0_0.html\\' class=\\'cate_detail_con_lk\\' target=\\'_blank\\'>城市漫步</a><a href=\\'http://www.zazhipu.com/lists3442_1_1_0_0.html\\' class=\\'cate_detail_con_lk\\' target=\\'_blank\\'>国际手表杂志</a><a href=\\'http://www.zazhipu.com/lists3443_1_1_0_0.html\\' class=\\'cate_detail_con_lk\\' target=\\'_blank\\'>国际精表itTIME</a><a href=\\'http://www.zazhipu.com/lists3444_1_1_0_0.html\\' class=\\'cate_detail_con_lk\\' target=\\'_blank\\'>城邦国际名表</a><a href=\\'http://www.zazhipu.com/lists3688_1_1_0_0.html\\' class=\\'cate_detail_con_lk\\' target=\\'_blank\\'>元素</a><a href=\\'http://www.zazhipu.com/lists3489_1_1_0_0.html\\' class=\\'cate_detail_con_lk\\' target=\\'_blank\\'>其他</a><a href=\\'http://www.zazhipu.com/lists4227_1_1_0_0.html\\' class=\\'cate_detail_con_lk\\' target=\\'_blank\\'>普洱</a><a href=\\'http://www.zazhipu.com/lists4411_1_1_0_0.html\\' class=\\'cate_detail_con_lk\\' target=\\'_blank\\'>格调</a><a href=\\'http://www.zazhipu.com/lists5515_1_1_0_0.html\\' class=\\'cate_detail_con_lk\\' target=\\'_blank\\'>书都</a><a href=\\'http://www.zazhipu.com/lists5653_1_1_0_0.html\\' class=\\'cate_detail_con_lk\\' target=\\'_blank\\'>问健康画报</a> </dd></dl><dl class=\\'cate_detail_item cate_detail_item1\\'><dt class=\\'cate_detail_tit\\'><a href=\\'http://www.zazhipu.com/listm1323_1_1_0_0.html\\' class=\\'cate_detail_tit_lk\\' title=幽默笑话 target=\\'_blank\\'>幽默笑话<i></i></a></dt><dd class=\\'cate_detail_con\\'><a href=\\'http://www.zazhipu.com/lists2769_1_1_0_0.html\\' class=\\'cate_detail_con_lk\\' target=\\'_blank\\'>幽默与笑话</a><a href=\\'http://www.zazhipu.com/lists1920_1_1_0_0.html\\' class=\\'cate_detail_con_lk\\' target=\\'_blank\\'>喜剧世界</a><a href=\\'http://www.zazhipu.com/lists2035_1_1_0_0.html\\' class=\\'cate_detail_con_lk\\' target=\\'_blank\\'>幽默大师</a><a href=\\'http://www.zazhipu.com/lists2050_1_1_0_0.html\\' class=\\'cate_detail_con_lk\\' target=\\'_blank\\'>笑林</a><a href=\\'http://www.zazhipu.com/lists2041_1_1_0_0.html\\' class=\\'cate_detail_con_lk\\' target=\\'_blank\\'>爆笑E派</a><a href=\\'http://www.zazhipu.com/lists2871_1_1_0_0.html\\' class=\\'cate_detail_con_lk\\' target=\\'_blank\\'>爆笑e站</a><a href=\\'http://www.zazhipu.com/lists2772_1_1_0_0.html\\' class=\\'cate_detail_con_lk\\' target=\\'_blank\\'>幽默派对</a><a href=\\'http://www.zazhipu.com/lists3538_1_1_0_0.html\\' class=\\'cate_detail_con_lk\\' target=\\'_blank\\'>爆笑E族</a><a href=\\'http://www.zazhipu.com/lists3610_1_1_0_0.html\\' class=\\'cate_detail_con_lk\\' target=\\'_blank\\'>爆笑show</a> </dd></dl><dl class=\\'cate_detail_item cate_detail_item1\\'><dt class=\\'cate_detail_tit\\'><a href=\\'http://www.zazhipu.com/listm1435_1_1_0_0.html\\' class=\\'cate_detail_tit_lk\\' title=医疗保健 target=\\'_blank\\'>医疗保健<i></i></a></dt><dd class=\\'cate_detail_con\\'><a href=\\'http://www.zazhipu.com/listm1435_1_1_0_0.html\\' class=\\'cate_detail_tit_lk\\' title=医疗保健  target=\\'_blank\\'>医疗保健<i></i></a> </dd></dl><dl class=\\'cate_detail_item cate_detail_item1\\'><dt class=\\'cate_detail_tit\\'><a href=\\'http://www.zazhipu.com/listm1392_1_1_0_0.html\\' class=\\'cate_detail_tit_lk\\' title=植物绿化 target=\\'_blank\\'>植物绿化<i></i></a></dt><dd class=\\'cate_detail_con\\'><a href=\\'http://www.zazhipu.com/listm1392_1_1_0_0.html\\' class=\\'cate_detail_tit_lk\\' title=植物绿化  target=\\'_blank\\'>植物绿化<i></i></a> </dd></dl><dl class=\\'cate_detail_item cate_detail_item1\\'><dt class=\\'cate_detail_tit\\'><a href=\\'http://www.zazhipu.com/listm1436_1_1_0_0.html\\' class=\\'cate_detail_tit_lk\\' title=中老年杂志 target=\\'_blank\\'>中老年杂志<i></i></a></dt><dd class=\\'cate_detail_con\\'><a href=\\'http://www.zazhipu.com/lists21301_1_1_0_0.html\\' class=\\'cate_detail_con_lk\\' target=\\'_blank\\'>新周报.经典</a><a href=\\'http://www.zazhipu.com/lists21300_1_1_0_0.html\\' class=\\'cate_detail_con_lk\\' target=\\'_blank\\'>新周报.经典</a> </dd></dl><dl class=\\'cate_detail_item cate_detail_item1\\'><dt class=\\'cate_detail_tit\\'><a href=\\'http://www.zazhipu.com/listm1437_1_1_0_0.html\\' class=\\'cate_detail_tit_lk\\' title=糖尿病关注 target=\\'_blank\\'>糖尿病关注<i></i></a></dt><dd class=\\'cate_detail_con\\'><a href=\\'http://www.zazhipu.com/listm1437_1_1_0_0.html\\' class=\\'cate_detail_tit_lk\\' title=糖尿病关注  target=\\'_blank\\'>糖尿病关注<i></i></a> </dd></dl></div><div class=\\'hb_navlist_info_r_item_r\\'><p class=\\'hb_navlist_info_r_item_r_title\\'>热点专题</p><div class=\\'hb_navlist_info_r_item_r_info\\'><p class=\\'hb_navlist_info_r_item_r_info_t\\'>【医学】管理健康，积极生活</p><div class=\\'hb_navlist_info_r_item_r_info_img\\'><a href=\\'http://hd.zazhipu.com/shudandetail486.html\\'><img src=\\'http://img1.zazhipu.com/bookpic/20188/2018813102719.jpg?imageMogr2/thumbnail/400x \\'></a></div></div><div class=\\'hb_navlist_info_r_item_r_info\\'><p class=\\'hb_navlist_info_r_item_r_info_t\\'>【中老年杂志】老年，其实是人生的开始而不是结束</p><div class=\\'hb_navlist_info_r_item_r_info_img\\'><a href=\\'http://hd.zazhipu.com/shudandetail449.html\\'><img src=\\'http://img1.zazhipu.com/bookpic/20188/201881381627.jpg?imageMogr2/thumbnail/400x \\'></a></div></div><div class=\\'hb_navlist_info_r_item_r_info\\'><p class=\\'hb_navlist_info_r_item_r_info_t\\'>【自然探索】开启世界之门，走进自然探秘</p><div class=\\'hb_navlist_info_r_item_r_info_img\\'><a href=\\'http://hd.zazhipu.com/shudandetail450.html\\'><img src=\\'http://img1.zazhipu.com/bookpic/20191/20191384654.jpg?imageMogr2/thumbnail/400x \\'></a></div></div></div></div><div class=\\'hb_navlist_info_r_item\\'><div class=\\'hb_navlist_info_r_item_l\\'><dl class=\\'cate_detail_item cate_detail_item1\\'><dt class=\\'cate_detail_tit\\'><a href=\\'http://www.zazhipu.com/listm1470_1_1_0_0.html\\' class=\\'cate_detail_tit_lk\\' title=0-3岁 婴儿 target=\\'_blank\\'>0-3岁 婴儿<i></i></a></dt><dd class=\\'cate_detail_con\\'><a href=\\'http://www.zazhipu.com/listm1470_1_1_0_0.html\\' class=\\'cate_detail_tit_lk\\' title=0-3岁 婴儿  target=\\'_blank\\'>0-3岁 婴儿<i></i></a> </dd></dl><dl class=\\'cate_detail_item cate_detail_item1\\'><dt class=\\'cate_detail_tit\\'><a href=\\'http://www.zazhipu.com/listm1471_1_1_0_0.html\\' class=\\'cate_detail_tit_lk\\' title=3-6岁 幼儿 target=\\'_blank\\'>3-6岁 幼儿<i></i></a></dt><dd class=\\'cate_detail_con\\'><a href=\\'http://www.zazhipu.com/listm1471_1_1_0_0.html\\' class=\\'cate_detail_tit_lk\\' title=3-6岁 幼儿  target=\\'_blank\\'>3-6岁 幼儿<i></i></a> </dd></dl><dl class=\\'cate_detail_item cate_detail_item1\\'><dt class=\\'cate_detail_tit\\'><a href=\\'http://www.zazhipu.com/listm1472_1_1_0_0.html\\' class=\\'cate_detail_tit_lk\\' title=7-12岁 小学 target=\\'_blank\\'>7-12岁 小学<i></i></a></dt><dd class=\\'cate_detail_con\\'><a href=\\'http://www.zazhipu.com/listm1472_1_1_0_0.html\\' class=\\'cate_detail_tit_lk\\' title=7-12岁 小学  target=\\'_blank\\'>7-12岁 小学<i></i></a> </dd></dl><dl class=\\'cate_detail_item cate_detail_item1\\'><dt class=\\'cate_detail_tit\\'><a href=\\'http://www.zazhipu.com/listm1473_1_1_0_0.html\\' class=\\'cate_detail_tit_lk\\' title=12-15岁 初中 target=\\'_blank\\'>12-15岁 初中<i></i></a></dt><dd class=\\'cate_detail_con\\'><a href=\\'http://www.zazhipu.com/listm1473_1_1_0_0.html\\' class=\\'cate_detail_tit_lk\\' title=12-15岁 初中  target=\\'_blank\\'>12-15岁 初中<i></i></a> </dd></dl><dl class=\\'cate_detail_item cate_detail_item1\\'><dt class=\\'cate_detail_tit\\'><a href=\\'http://www.zazhipu.com/listm1474_1_1_0_0.html\\' class=\\'cate_detail_tit_lk\\' title=15-18岁 高中 target=\\'_blank\\'>15-18岁 高中<i></i></a></dt><dd class=\\'cate_detail_con\\'><a href=\\'http://www.zazhipu.com/listm1474_1_1_0_0.html\\' class=\\'cate_detail_tit_lk\\' title=15-18岁 高中  target=\\'_blank\\'>15-18岁 高中<i></i></a> </dd></dl><dl class=\\'cate_detail_item cate_detail_item1\\'><dt class=\\'cate_detail_tit\\'><a href=\\'http://www.zazhipu.com/listm1475_1_1_0_0.html\\' class=\\'cate_detail_tit_lk\\' title=18-28岁 青年读者 target=\\'_blank\\'>18-28岁 青年读者<i></i></a></dt><dd class=\\'cate_detail_con\\'><a href=\\'http://www.zazhipu.com/listm1475_1_1_0_0.html\\' class=\\'cate_detail_tit_lk\\' title=18-28岁 青年读者  target=\\'_blank\\'>18-28岁 青年读者<i></i></a> </dd></dl><dl class=\\'cate_detail_item cate_detail_item1\\'><dt class=\\'cate_detail_tit\\'><a href=\\'http://www.zazhipu.com/listm1476_1_1_0_0.html\\' class=\\'cate_detail_tit_lk\\' title=28-45岁 成年读者 target=\\'_blank\\'>28-45岁 成年读者<i></i></a></dt><dd class=\\'cate_detail_con\\'><a href=\\'http://www.zazhipu.com/listm1476_1_1_0_0.html\\' class=\\'cate_detail_tit_lk\\' title=28-45岁 成年读者  target=\\'_blank\\'>28-45岁 成年读者<i></i></a> </dd></dl><dl class=\\'cate_detail_item cate_detail_item1\\'><dt class=\\'cate_detail_tit\\'><a href=\\'http://www.zazhipu.com/listm1477_1_1_0_0.html\\' class=\\'cate_detail_tit_lk\\' title=45-65岁 中年读者 target=\\'_blank\\'>45-65岁 中年读者<i></i></a></dt><dd class=\\'cate_detail_con\\'><a href=\\'http://www.zazhipu.com/listm1477_1_1_0_0.html\\' class=\\'cate_detail_tit_lk\\' title=45-65岁 中年读者  target=\\'_blank\\'>45-65岁 中年读者<i></i></a> </dd></dl><dl class=\\'cate_detail_item cate_detail_item1\\'><dt class=\\'cate_detail_tit\\'><a href=\\'http://www.zazhipu.com/listm1478_1_1_0_0.html\\' class=\\'cate_detail_tit_lk\\' title=65岁以上 老年读者 target=\\'_blank\\'>65岁以上 老年读者<i></i></a></dt><dd class=\\'cate_detail_con\\'><a href=\\'http://www.zazhipu.com/listm1478_1_1_0_0.html\\' class=\\'cate_detail_tit_lk\\' title=65岁以上 老年读者  target=\\'_blank\\'>65岁以上 老年读者<i></i></a> </dd></dl></div><div class=\\'hb_navlist_info_r_item_r\\'><p class=\\'hb_navlist_info_r_item_r_title\\'>热点专题</p><div class=\\'hb_navlist_info_r_item_r_info\\'><p class=\\'hb_navlist_info_r_item_r_info_t\\'>老年杂志，快乐养生</p><div class=\\'hb_navlist_info_r_item_r_info_img\\'><a href=\\'http://hd.zazhipu.com/shudandetail352.html\\'><img src=\\'\\' /></a></div></div></div></div><div class=\\'hb_navlist_info_r_item\\'><div class=\\'hb_navlist_info_r_item_l\\'><dl class=\\'cate_detail_item cate_detail_item1\\'><dt class=\\'cate_detail_tit\\'><a href=\\'http://www.zazhipu.com/listm1308_1_1_0_0.html\\' class=\\'cate_detail_tit_lk\\' title=自然探索 target=\\'_blank\\'>自然探索<i></i></a></dt><dd class=\\'cate_detail_con\\'><a href=\\'http://www.zazhipu.com/lists2164_1_1_0_0.html\\' class=\\'cate_detail_con_lk\\' target=\\'_blank\\'>探索发现</a><a href=\\'http://www.zazhipu.com/lists2160_1_1_0_0.html\\' class=\\'cate_detail_con_lk\\' target=\\'_blank\\'>自然密码</a><a href=\\'http://www.zazhipu.com/lists2161_1_1_0_0.html\\' class=\\'cate_detail_con_lk\\' target=\\'_blank\\'>大自然探索</a><a href=\\'http://www.zazhipu.com/lists2163_1_1_0_0.html\\' class=\\'cate_detail_con_lk\\' target=\\'_blank\\'>探索与发现</a><a href=\\'http://www.zazhipu.com/lists2296_1_1_0_0.html\\' class=\\'cate_detail_con_lk\\' target=\\'_blank\\'>新发现</a> </dd></dl><dl class=\\'cate_detail_item cate_detail_item1\\'><dt class=\\'cate_detail_tit\\'><a href=\\'http://www.zazhipu.com/listm1195_1_1_0_0.html\\' class=\\'cate_detail_tit_lk\\' title=科幻探秘 target=\\'_blank\\'>科幻探秘<i></i></a></dt><dd class=\\'cate_detail_con\\'><a href=\\'http://www.zazhipu.com/lists2168_1_1_0_0.html\\' class=\\'cate_detail_con_lk\\' target=\\'_blank\\'>科幻世界译文版</a><a href=\\'http://www.zazhipu.com/lists2174_1_1_0_0.html\\' class=\\'cate_detail_con_lk\\' target=\\'_blank\\'>科幻世界</a><a href=\\'http://www.zazhipu.com/lists2175_1_1_0_0.html\\' class=\\'cate_detail_con_lk\\' target=\\'_blank\\'>百科探秘&#8226;海底世界</a><a href=\\'http://www.zazhipu.com/lists2177_1_1_0_0.html\\' class=\\'cate_detail_con_lk\\' target=\\'_blank\\'>奥秘</a><a href=\\'http://www.zazhipu.com/lists2178_1_1_0_0.html\\' class=\\'cate_detail_con_lk\\' target=\\'_blank\\'>中国科学探险</a><a href=\\'http://www.zazhipu.com/lists3609_1_1_0_0.html\\' class=\\'cate_detail_con_lk\\' target=\\'_blank\\'>其他</a><a href=\\'http://www.zazhipu.com/lists3716_1_1_0_0.html\\' class=\\'cate_detail_con_lk\\' target=\\'_blank\\'>百科探秘&#8226;玩转地球</a> </dd></dl><dl class=\\'cate_detail_item cate_detail_item1\\'><dt class=\\'cate_detail_tit\\'><a href=\\'http://www.zazhipu.com/listm1210_1_1_0_0.html\\' class=\\'cate_detail_tit_lk\\' title=科学技术 target=\\'_blank\\'>科学技术<i></i></a></dt><dd class=\\'cate_detail_con\\'><a href=\\'http://www.zazhipu.com/lists2180_1_1_0_0.html\\' class=\\'cate_detail_con_lk\\' target=\\'_blank\\'>环球科学</a><a href=\\'http://www.zazhipu.com/lists2181_1_1_0_0.html\\' class=\\'cate_detail_con_lk\\' target=\\'_blank\\'>科学世界</a><a href=\\'http://www.zazhipu.com/lists2195_1_1_0_0.html\\' class=\\'cate_detail_con_lk\\' target=\\'_blank\\'>科学中国人</a><a href=\\'http://www.zazhipu.com/lists2197_1_1_0_0.html\\' class=\\'cate_detail_con_lk\\' target=\\'_blank\\'>旧闻新知</a><a href=\\'http://www.zazhipu.com/lists2193_1_1_0_0.html\\' class=\\'cate_detail_con_lk\\' target=\\'_blank\\'>科技新时代</a><a href=\\'http://www.zazhipu.com/lists2337_1_1_0_0.html\\' class=\\'cate_detail_con_lk\\' target=\\'_blank\\'>科学视界</a><a href=\\'http://www.zazhipu.com/lists3638_1_1_0_0.html\\' class=\\'cate_detail_con_lk\\' target=\\'_blank\\'>其他</a><a href=\\'http://www.zazhipu.com/lists3665_1_1_0_0.html\\' class=\\'cate_detail_con_lk\\' target=\\'_blank\\'>科技视界</a><a href=\\'http://www.zazhipu.com/lists4117_1_1_0_0.html\\' class=\\'cate_detail_con_lk\\' target=\\'_blank\\'>科技创新与品牌</a><a href=\\'http://www.zazhipu.com/lists19040_1_1_0_0.html\\' class=\\'cate_detail_con_lk\\' target=\\'_blank\\'>机器人产业</a><a href=\\'http://www.zazhipu.com/lists19063_1_1_0_0.html\\' class=\\'cate_detail_con_lk\\' target=\\'_blank\\'>工艺技术创新</a><a href=\\'http://www.zazhipu.com/lists19062_1_1_0_0.html\\' class=\\'cate_detail_con_lk\\' target=\\'_blank\\'>电子科学技术</a> </dd></dl><dl class=\\'cate_detail_item cate_detail_item1\\'><dt class=\\'cate_detail_tit\\'><a href=\\'http://www.zazhipu.com/listm1211_1_1_0_0.html\\' class=\\'cate_detail_tit_lk\\' title=天文自然 target=\\'_blank\\'>天文自然<i></i></a></dt><dd class=\\'cate_detail_con\\'><a href=\\'http://www.zazhipu.com/lists2200_1_1_0_0.html\\' class=\\'cate_detail_con_lk\\' target=\\'_blank\\'>飞碟探索</a><a href=\\'http://www.zazhipu.com/lists2201_1_1_0_0.html\\' class=\\'cate_detail_con_lk\\' target=\\'_blank\\'>科幻世界</a><a href=\\'http://www.zazhipu.com/lists2202_1_1_0_0.html\\' class=\\'cate_detail_con_lk\\' target=\\'_blank\\'>科幻世界译文版</a> </dd></dl><dl class=\\'cate_detail_item cate_detail_item1\\'><dt class=\\'cate_detail_tit\\'><a href=\\'http://www.zazhipu.com/listm1445_1_1_0_0.html\\' class=\\'cate_detail_tit_lk\\' title=少儿科普 target=\\'_blank\\'>少儿科普<i></i></a></dt><dd class=\\'cate_detail_con\\'><a href=\\'http://www.zazhipu.com/lists21394_1_1_0_0.html\\' class=\\'cate_detail_con_lk\\' target=\\'_blank\\'>漫动作迪士尼世界</a> </dd></dl><dl class=\\'cate_detail_item cate_detail_item1\\'><dt class=\\'cate_detail_tit\\'><a href=\\'http://www.zazhipu.com/listm1345_1_1_0_0.html\\' class=\\'cate_detail_tit_lk\\' title=成人科普 target=\\'_blank\\'>成人科普<i></i></a></dt><dd class=\\'cate_detail_con\\'><a href=\\'http://www.zazhipu.com/lists2317_1_1_0_0.html\\' class=\\'cate_detail_con_lk\\' target=\\'_blank\\'>知识家</a><a href=\\'http://www.zazhipu.com/lists3518_1_1_0_0.html\\' class=\\'cate_detail_con_lk\\' target=\\'_blank\\'>军事文摘科学少年</a><a href=\\'http://www.zazhipu.com/lists3543_1_1_0_0.html\\' class=\\'cate_detail_con_lk\\' target=\\'_blank\\'>其他</a><a href=\\'http://www.zazhipu.com/lists3706_1_1_0_0.html\\' class=\\'cate_detail_con_lk\\' target=\\'_blank\\'>发明与创新系列</a><a href=\\'http://www.zazhipu.com/lists3717_1_1_0_0.html\\' class=\\'cate_detail_con_lk\\' target=\\'_blank\\'>童话王国（美绘版）</a><a href=\\'http://www.zazhipu.com/lists3718_1_1_0_0.html\\' class=\\'cate_detail_con_lk\\' target=\\'_blank\\'>童话王国（原创版）</a><a href=\\'http://www.zazhipu.com/lists4303_1_1_0_0.html\\' class=\\'cate_detail_con_lk\\' target=\\'_blank\\'>科学画报</a><a href=\\'http://www.zazhipu.com/lists3816_1_1_0_0.html\\' class=\\'cate_detail_con_lk\\' target=\\'_blank\\'>科学之友</a><a href=\\'http://www.zazhipu.com/lists4334_1_1_0_0.html\\' class=\\'cate_detail_con_lk\\' target=\\'_blank\\'>知识就是力量</a><a href=\\'http://www.zazhipu.com/lists5533_1_1_0_0.html\\' class=\\'cate_detail_con_lk\\' target=\\'_blank\\'>航天员</a><a href=\\'http://www.zazhipu.com/lists21282_1_1_0_0.html\\' class=\\'cate_detail_con_lk\\' target=\\'_blank\\'>动植物科普</a> </dd></dl><dl class=\\'cate_detail_item cate_detail_item1\\'><dt class=\\'cate_detail_tit\\'><a href=\\'http://www.zazhipu.com/listm1381_1_1_0_0.html\\' class=\\'cate_detail_tit_lk\\' title=军事报道 target=\\'_blank\\'>军事报道<i></i></a></dt><dd class=\\'cate_detail_con\\'><a href=\\'http://www.zazhipu.com/lists3116_1_1_0_0.html\\' class=\\'cate_detail_con_lk\\' target=\\'_blank\\'>世界军事</a><a href=\\'http://www.zazhipu.com/lists3117_1_1_0_0.html\\' class=\\'cate_detail_con_lk\\' target=\\'_blank\\'>军事史林</a><a href=\\'http://www.zazhipu.com/lists3819_1_1_0_0.html\\' class=\\'cate_detail_con_lk\\' target=\\'_blank\\'>国际军事</a> </dd></dl><dl class=\\'cate_detail_item cate_detail_item1\\'><dt class=\\'cate_detail_tit\\'><a href=\\'http://www.zazhipu.com/listm1382_1_1_0_0.html\\' class=\\'cate_detail_tit_lk\\' title=军事知识 target=\\'_blank\\'>军事知识<i></i></a></dt><dd class=\\'cate_detail_con\\'><a href=\\'http://www.zazhipu.com/lists3105_1_1_0_0.html\\' class=\\'cate_detail_con_lk\\' target=\\'_blank\\'>军事文摘</a><a href=\\'http://www.zazhipu.com/lists4010_1_1_0_0.html\\' class=\\'cate_detail_con_lk\\' target=\\'_blank\\'>战争事典</a><a href=\\'http://www.zazhipu.com/lists19101_1_1_0_0.html\\' class=\\'cate_detail_con_lk\\' target=\\'_blank\\'>海陆空天 惯性世界</a> </dd></dl><dl class=\\'cate_detail_item cate_detail_item1\\'><dt class=\\'cate_detail_tit\\'><a href=\\'http://www.zazhipu.com/listm1383_1_1_0_0.html\\' class=\\'cate_detail_tit_lk\\' title=武器装备 target=\\'_blank\\'>武器装备<i></i></a></dt><dd class=\\'cate_detail_con\\'><a href=\\'http://www.zazhipu.com/lists3110_1_1_0_0.html\\' class=\\'cate_detail_con_lk\\' target=\\'_blank\\'>兵器</a><a href=\\'http://www.zazhipu.com/lists3111_1_1_0_0.html\\' class=\\'cate_detail_con_lk\\' target=\\'_blank\\'>舰船知识</a><a href=\\'http://www.zazhipu.com/lists3112_1_1_0_0.html\\' class=\\'cate_detail_con_lk\\' target=\\'_blank\\'>兵器知识</a><a href=\\'http://www.zazhipu.com/lists3113_1_1_0_0.html\\' class=\\'cate_detail_con_lk\\' target=\\'_blank\\'>舰载武器</a><a href=\\'http://www.zazhipu.com/lists3114_1_1_0_0.html\\' class=\\'cate_detail_con_lk\\' target=\\'_blank\\'>轻兵器</a><a href=\\'http://www.zazhipu.com/lists3115_1_1_0_0.html\\' class=\\'cate_detail_con_lk\\' target=\\'_blank\\'>现代兵器</a><a href=\\'http://www.zazhipu.com/lists3128_1_1_0_0.html\\' class=\\'cate_detail_con_lk\\' target=\\'_blank\\'>兵工科技</a><a href=\\'http://www.zazhipu.com/lists3601_1_1_0_0.html\\' class=\\'cate_detail_con_lk\\' target=\\'_blank\\'>坦克装甲车辆</a><a href=\\'http://www.zazhipu.com/lists3619_1_1_0_0.html\\' class=\\'cate_detail_con_lk\\' target=\\'_blank\\'>其他</a><a href=\\'http://www.zazhipu.com/lists3645_1_1_0_0.html\\' class=\\'cate_detail_con_lk\\' target=\\'_blank\\'>航空知识</a> </dd></dl><dl class=\\'cate_detail_item cate_detail_item1\\'><dt class=\\'cate_detail_tit\\'><a href=\\'http://www.zazhipu.com/listm1401_1_1_0_0.html\\' class=\\'cate_detail_tit_lk\\' title=少儿军事 target=\\'_blank\\'>少儿军事<i></i></a></dt><dd class=\\'cate_detail_con\\'><a href=\\'http://www.zazhipu.com/lists4400_1_1_0_0.html\\' class=\\'cate_detail_con_lk\\' target=\\'_blank\\'>军事文摘科学少年</a><a href=\\'http://www.zazhipu.com/lists19239_1_1_0_0.html\\' class=\\'cate_detail_con_lk\\' target=\\'_blank\\'>军体世界</a> </dd></dl></div><div class=\\'hb_navlist_info_r_item_r\\'><p class=\\'hb_navlist_info_r_item_r_title\\'>热点专题</p><div class=\\'hb_navlist_info_r_item_r_info\\'><p class=\\'hb_navlist_info_r_item_r_info_t\\'>【科幻探秘】打开未知世界的钥匙，一起走进另一个世界</p><div class=\\'hb_navlist_info_r_item_r_info_img\\'><a href=\\'http://hd.zazhipu.com/shudandetail451.html\\'><img src=\\'http://img1.zazhipu.com/bookpic/20188/20188817756.jpg?imageMogr2/thumbnail/400x \\'></a></div></div><div class=\\'hb_navlist_info_r_item_r_info\\'><p class=\\'hb_navlist_info_r_item_r_info_t\\'>【少儿军事】别因为你毁了你家孩子的......</p><div class=\\'hb_navlist_info_r_item_r_info_img\\'><a href=\\'http://hd.zazhipu.com/shudandetail459.html\\'><img src=\\'http://img1.zazhipu.com/bookpic/20188/2018811141130.jpg?imageMogr2/thumbnail/400x \\'></a></div></div><div class=\\'hb_navlist_info_r_item_r_info\\'><p class=\\'hb_navlist_info_r_item_r_info_t\\'>【科学技术】集结人类的智慧，遨游在知识的海洋</p><div class=\\'hb_navlist_info_r_item_r_info_img\\'><a href=\\'http://hd.zazhipu.com/shudandetail452.html\\'><img src=\\'http://img1.zazhipu.com/bookpic/20189/20189923340.jpg?imageMogr2/thumbnail/400x \\'></a></div></div></div></div><div class=\\'hb_navlist_info_r_item\\'><div class=\\'hb_navlist_info_r_item_l\\'><dl class=\\'cate_detail_item cate_detail_item1\\'><dt class=\\'cate_detail_tit\\'><a href=\\'http://www.zazhipu.com/listm1015_1_1_0_0.html\\' class=\\'cate_detail_tit_lk\\' title=时政综合 target=\\'_blank\\'>时政综合<i></i></a></dt><dd class=\\'cate_detail_con\\'><a href=\\'http://www.zazhipu.com/lists3709_1_1_0_0.html\\' class=\\'cate_detail_con_lk\\' target=\\'_blank\\'>周末画报</a><a href=\\'http://www.zazhipu.com/lists1996_1_1_0_0.html\\' class=\\'cate_detail_con_lk\\' target=\\'_blank\\'>读天下</a><a href=\\'http://www.zazhipu.com/lists2004_1_1_0_0.html\\' class=\\'cate_detail_con_lk\\' target=\\'_blank\\'>环球人物</a><a href=\\'http://www.zazhipu.com/lists2008_1_1_0_0.html\\' class=\\'cate_detail_con_lk\\' target=\\'_blank\\'>半月谈</a><a href=\\'http://www.zazhipu.com/lists2009_1_1_0_0.html\\' class=\\'cate_detail_con_lk\\' target=\\'_blank\\'>新民周刊</a><a href=\\'http://www.zazhipu.com/lists2010_1_1_0_0.html\\' class=\\'cate_detail_con_lk\\' target=\\'_blank\\'>三联生活周刊</a><a href=\\'http://www.zazhipu.com/lists2011_1_1_0_0.html\\' class=\\'cate_detail_con_lk\\' target=\\'_blank\\'>�t望东方周刊</a><a href=\\'http://www.zazhipu.com/lists2771_1_1_0_0.html\\' class=\\'cate_detail_con_lk\\' target=\\'_blank\\'>世界知识</a><a href=\\'http://www.zazhipu.com/lists3578_1_1_0_0.html\\' class=\\'cate_detail_con_lk\\' target=\\'_blank\\'>看世界</a><a href=\\'http://www.zazhipu.com/lists3623_1_1_0_0.html\\' class=\\'cate_detail_con_lk\\' target=\\'_blank\\'>小康</a><a href=\\'http://www.zazhipu.com/lists3682_1_1_0_0.html\\' class=\\'cate_detail_con_lk\\' target=\\'_blank\\'>世界知识画报</a><a href=\\'http://www.zazhipu.com/lists3470_1_1_0_0.html\\' class=\\'cate_detail_con_lk\\' target=\\'_blank\\'>其他</a> </dd></dl><dl class=\\'cate_detail_item cate_detail_item1\\'><dt class=\\'cate_detail_tit\\'><a href=\\'http://www.zazhipu.com/listm1016_1_1_0_0.html\\' class=\\'cate_detail_tit_lk\\' title=时事新闻 target=\\'_blank\\'>时事新闻<i></i></a></dt><dd class=\\'cate_detail_con\\'><a href=\\'http://www.zazhipu.com/lists1619_1_1_0_0.html\\' class=\\'cate_detail_con_lk\\' target=\\'_blank\\'>中国新闻周刊</a><a href=\\'http://www.zazhipu.com/lists1987_1_1_0_0.html\\' class=\\'cate_detail_con_lk\\' target=\\'_blank\\'>南风窗</a><a href=\\'http://www.zazhipu.com/lists1995_1_1_0_0.html\\' class=\\'cate_detail_con_lk\\' target=\\'_blank\\'>新周刊</a><a href=\\'http://www.zazhipu.com/lists1997_1_1_0_0.html\\' class=\\'cate_detail_con_lk\\' target=\\'_blank\\'>中国周刊</a><a href=\\'http://www.zazhipu.com/lists2012_1_1_0_0.html\\' class=\\'cate_detail_con_lk\\' target=\\'_blank\\'>看天下</a><a href=\\'http://www.zazhipu.com/lists3471_1_1_0_0.html\\' class=\\'cate_detail_con_lk\\' target=\\'_blank\\'>其他</a><a href=\\'http://www.zazhipu.com/lists4211_1_1_0_0.html\\' class=\\'cate_detail_con_lk\\' target=\\'_blank\\'>畅谈</a><a href=\\'http://www.zazhipu.com/lists19039_1_1_0_0.html\\' class=\\'cate_detail_con_lk\\' target=\\'_blank\\'>今日中国</a><a href=\\'http://www.zazhipu.com/lists19100_1_1_0_0.html\\' class=\\'cate_detail_con_lk\\' target=\\'_blank\\'>中国报道系列</a><a href=\\'http://www.zazhipu.com/lists19235_1_1_0_0.html\\' class=\\'cate_detail_con_lk\\' target=\\'_blank\\'>北京周报</a><a href=\\'http://www.zazhipu.com/lists20486_1_1_0_0.html\\' class=\\'cate_detail_con_lk\\' target=\\'_blank\\'>人民画报</a> </dd></dl><dl class=\\'cate_detail_item cate_detail_item1\\'><dt class=\\'cate_detail_tit\\'><a href=\\'http://www.zazhipu.com/listm1017_1_1_0_0.html\\' class=\\'cate_detail_tit_lk\\' title=新闻评论 target=\\'_blank\\'>新闻评论<i></i></a></dt><dd class=\\'cate_detail_con\\'><a href=\\'http://www.zazhipu.com/lists1620_1_1_0_0.html\\' class=\\'cate_detail_con_lk\\' target=\\'_blank\\'>南方人物周刊</a><a href=\\'http://www.zazhipu.com/lists1992_1_1_0_0.html\\' class=\\'cate_detail_con_lk\\' target=\\'_blank\\'>博客天下</a><a href=\\'http://www.zazhipu.com/lists1994_1_1_0_0.html\\' class=\\'cate_detail_con_lk\\' target=\\'_blank\\'>环球</a><a href=\\'http://www.zazhipu.com/lists3375_1_1_0_0.html\\' class=\\'cate_detail_con_lk\\' target=\\'_blank\\'>南方周末</a><a href=\\'http://www.zazhipu.com/lists3472_1_1_0_0.html\\' class=\\'cate_detail_con_lk\\' target=\\'_blank\\'>其他</a> </dd></dl><dl class=\\'cate_detail_item cate_detail_item1\\'><dt class=\\'cate_detail_tit\\'><a href=\\'http://www.zazhipu.com/listm1018_1_1_0_0.html\\' class=\\'cate_detail_tit_lk\\' title=深度报道 target=\\'_blank\\'>深度报道<i></i></a></dt><dd class=\\'cate_detail_con\\'><a href=\\'http://www.zazhipu.com/listm1018_1_1_0_0.html\\' class=\\'cate_detail_tit_lk\\' title=深度报道  target=\\'_blank\\'>深度报道<i></i></a> </dd></dl><dl class=\\'cate_detail_item cate_detail_item1\\'><dt class=\\'cate_detail_tit\\'><a href=\\'http://www.zazhipu.com/listm1320_1_1_0_0.html\\' class=\\'cate_detail_tit_lk\\' title=社会热点 target=\\'_blank\\'>社会热点<i></i></a></dt><dd class=\\'cate_detail_con\\'><a href=\\'http://www.zazhipu.com/lists1990_1_1_0_0.html\\' class=\\'cate_detail_con_lk\\' target=\\'_blank\\'>特别关注</a><a href=\\'http://www.zazhipu.com/lists19113_1_1_0_0.html\\' class=\\'cate_detail_con_lk\\' target=\\'_blank\\'>公共财政研究</a><a href=\\'http://www.zazhipu.com/lists3618_1_1_0_0.html\\' class=\\'cate_detail_con_lk\\' target=\\'_blank\\'>消费者报道</a> </dd></dl><dl class=\\'cate_detail_item cate_detail_item1\\'><dt class=\\'cate_detail_tit\\'><a href=\\'http://www.zazhipu.com/listm1259_1_1_0_0.html\\' class=\\'cate_detail_tit_lk\\' title=法制建设 target=\\'_blank\\'>法制建设<i></i></a></dt><dd class=\\'cate_detail_con\\'><a href=\\'http://www.zazhipu.com/lists2125_1_1_0_0.html\\' class=\\'cate_detail_con_lk\\' target=\\'_blank\\'>廉政�t望</a><a href=\\'http://www.zazhipu.com/lists21290_1_1_0_0.html\\' class=\\'cate_detail_con_lk\\' target=\\'_blank\\'>道路交通管理</a> </dd></dl></div><div class=\\'hb_navlist_info_r_item_r\\'><p class=\\'hb_navlist_info_r_item_r_title\\'>热点专题</p><div class=\\'hb_navlist_info_r_item_r_info\\'><p class=\\'hb_navlist_info_r_item_r_info_t\\'>【深度报道】世界热点尽收眼下</p><div class=\\'hb_navlist_info_r_item_r_info_img\\'><a href=\\'http://hd.zazhipu.com/shudandetail461.html\\'><img src=\\'http://img1.zazhipu.com/bookpic/20199/201993105529.jpg?imageMogr2/thumbnail/400x \\'></a></div></div><div class=\\'hb_navlist_info_r_item_r_info\\'><p class=\\'hb_navlist_info_r_item_r_info_t\\'>【时政综合】阅读天下资讯，知晓世界新闻</p><div class=\\'hb_navlist_info_r_item_r_info_img\\'><a href=\\'http://hd.zazhipu.com/shudandetail460.html\\'><img src=\\'http://img1.zazhipu.com/bookpic/20198/201983116616.jpg?imageMogr2/thumbnail/400x \\'></a></div></div><div class=\\'hb_navlist_info_r_item_r_info\\'><p class=\\'hb_navlist_info_r_item_r_info_t\\'>军事爱好者的全能营养餐</p><div class=\\'hb_navlist_info_r_item_r_info_img\\'><a href=\\'http://hd.zazhipu.com/shudandetail309.html\\'><img src=\\'\\' /></a></div></div></div></div><div class=\\'hb_navlist_info_r_item\\'><div class=\\'hb_navlist_info_r_item_l\\'><dl class=\\'cate_detail_item cate_detail_item1\\'><dt class=\\'cate_detail_tit\\'><a href=\\'http://www.zazhipu.com/listm1080_1_1_0_0.html\\' class=\\'cate_detail_tit_lk\\' title=建筑设计 target=\\'_blank\\'>建筑设计<i></i></a></dt><dd class=\\'cate_detail_con\\'><a href=\\'http://www.zazhipu.com/lists2837_1_1_0_0.html\\' class=\\'cate_detail_con_lk\\' target=\\'_blank\\'>时代楼盘</a><a href=\\'http://www.zazhipu.com/lists2210_1_1_0_0.html\\' class=\\'cate_detail_con_lk\\' target=\\'_blank\\'>建筑与文化</a><a href=\\'http://www.zazhipu.com/lists2212_1_1_0_0.html\\' class=\\'cate_detail_con_lk\\' target=\\'_blank\\'>建筑师</a><a href=\\'http://www.zazhipu.com/lists2213_1_1_0_0.html\\' class=\\'cate_detail_con_lk\\' target=\\'_blank\\'>世界建筑</a><a href=\\'http://www.zazhipu.com/lists2211_1_1_0_0.html\\' class=\\'cate_detail_con_lk\\' target=\\'_blank\\'>建筑细部</a><a href=\\'http://www.zazhipu.com/lists2215_1_1_0_0.html\\' class=\\'cate_detail_con_lk\\' target=\\'_blank\\'>城市建筑</a><a href=\\'http://www.zazhipu.com/lists2838_1_1_0_0.html\\' class=\\'cate_detail_con_lk\\' target=\\'_blank\\'>地产线</a><a href=\\'http://www.zazhipu.com/lists2217_1_1_0_0.html\\' class=\\'cate_detail_con_lk\\' target=\\'_blank\\'>Architectural Review建筑评论</a><a href=\\'http://www.zazhipu.com/lists2216_1_1_0_0.html\\' class=\\'cate_detail_con_lk\\' target=\\'_blank\\'>建筑技艺</a><a href=\\'http://www.zazhipu.com/lists2351_1_1_0_0.html\\' class=\\'cate_detail_con_lk\\' target=\\'_blank\\'>世界建筑导报</a><a href=\\'http://www.zazhipu.com/lists3650_1_1_0_0.html\\' class=\\'cate_detail_con_lk\\' target=\\'_blank\\'>LP地标luxury properties</a><a href=\\'http://www.zazhipu.com/lists3704_1_1_0_0.html\\' class=\\'cate_detail_con_lk\\' target=\\'_blank\\'>新楼盘</a> </dd></dl><dl class=\\'cate_detail_item cate_detail_item1\\'><dt class=\\'cate_detail_tit\\'><a href=\\'http://www.zazhipu.com/listm1081_1_1_0_0.html\\' class=\\'cate_detail_tit_lk\\' title=家居设计 target=\\'_blank\\'>家居设计<i></i></a></dt><dd class=\\'cate_detail_con\\'><a href=\\'http://www.zazhipu.com/lists2218_1_1_0_0.html\\' class=\\'cate_detail_con_lk\\' target=\\'_blank\\'>Casarredo Design室内装饰与设计</a><a href=\\'http://www.zazhipu.com/lists2219_1_1_0_0.html\\' class=\\'cate_detail_con_lk\\' target=\\'_blank\\'>id+c室内设计与装修</a><a href=\\'http://www.zazhipu.com/lists4347_1_1_0_0.html\\' class=\\'cate_detail_con_lk\\' target=\\'_blank\\'>ACS创意空间</a> </dd></dl><dl class=\\'cate_detail_item cate_detail_item1\\'><dt class=\\'cate_detail_tit\\'><a href=\\'http://www.zazhipu.com/listm1082_1_1_0_0.html\\' class=\\'cate_detail_tit_lk\\' title=艺术设计 target=\\'_blank\\'>艺术设计<i></i></a></dt><dd class=\\'cate_detail_con\\'><a href=\\'http://www.zazhipu.com/lists3061_1_1_0_0.html\\' class=\\'cate_detail_con_lk\\' target=\\'_blank\\'>新视线</a><a href=\\'http://www.zazhipu.com/lists2221_1_1_0_0.html\\' class=\\'cate_detail_con_lk\\' target=\\'_blank\\'>艺术与设计</a><a href=\\'http://www.zazhipu.com/lists2222_1_1_0_0.html\\' class=\\'cate_detail_con_lk\\' target=\\'_blank\\'>当代设计</a><a href=\\'http://www.zazhipu.com/lists2365_1_1_0_0.html\\' class=\\'cate_detail_con_lk\\' target=\\'_blank\\'>现代装饰</a><a href=\\'http://www.zazhipu.com/lists3066_1_1_0_0.html\\' class=\\'cate_detail_con_lk\\' target=\\'_blank\\'>青年视觉</a><a href=\\'http://www.zazhipu.com/lists3599_1_1_0_0.html\\' class=\\'cate_detail_con_lk\\' target=\\'_blank\\'>芭莎艺术</a><a href=\\'http://www.zazhipu.com/lists3621_1_1_0_0.html\\' class=\\'cate_detail_con_lk\\' target=\\'_blank\\'>其他</a> </dd></dl><dl class=\\'cate_detail_item cate_detail_item1\\'><dt class=\\'cate_detail_tit\\'><a href=\\'http://www.zazhipu.com/listm1083_1_1_0_0.html\\' class=\\'cate_detail_tit_lk\\' title=包装设计 target=\\'_blank\\'>包装设计<i></i></a></dt><dd class=\\'cate_detail_con\\'><a href=\\'http://www.zazhipu.com/lists2223_1_1_0_0.html\\' class=\\'cate_detail_con_lk\\' target=\\'_blank\\'>包装与设计</a> </dd></dl><dl class=\\'cate_detail_item cate_detail_item1\\'><dt class=\\'cate_detail_tit\\'><a href=\\'http://www.zazhipu.com/listm1333_1_1_0_0.html\\' class=\\'cate_detail_tit_lk\\' title=工艺品 target=\\'_blank\\'>工艺品<i></i></a></dt><dd class=\\'cate_detail_con\\'><a href=\\'http://www.zazhipu.com/lists2096_1_1_0_0.html\\' class=\\'cate_detail_con_lk\\' target=\\'_blank\\'>中华手工</a><a href=\\'http://www.zazhipu.com/lists2224_1_1_0_0.html\\' class=\\'cate_detail_con_lk\\' target=\\'_blank\\'>中外生活广场surface</a><a href=\\'http://www.zazhipu.com/lists2225_1_1_0_0.html\\' class=\\'cate_detail_con_lk\\' target=\\'_blank\\'>城市环境设计</a><a href=\\'http://www.zazhipu.com/lists2226_1_1_0_0.html\\' class=\\'cate_detail_con_lk\\' target=\\'_blank\\'>LA 景观设计学</a> </dd></dl><dl class=\\'cate_detail_item cate_detail_item1\\'><dt class=\\'cate_detail_tit\\'><a href=\\'http://www.zazhipu.com/listm1339_1_1_0_0.html\\' class=\\'cate_detail_tit_lk\\' title=平面设计 target=\\'_blank\\'>平面设计<i></i></a></dt><dd class=\\'cate_detail_con\\'><a href=\\'http://www.zazhipu.com/lists2228_1_1_0_0.html\\' class=\\'cate_detail_con_lk\\' target=\\'_blank\\'>设计家</a> </dd></dl><dl class=\\'cate_detail_item cate_detail_item1\\'><dt class=\\'cate_detail_tit\\'><a href=\\'http://www.zazhipu.com/listm1443_1_1_0_0.html\\' class=\\'cate_detail_tit_lk\\' title=艺术设计 target=\\'_blank\\'>艺术设计<i></i></a></dt><dd class=\\'cate_detail_con\\'><a href=\\'http://www.zazhipu.com/listm1443_1_1_0_0.html\\' class=\\'cate_detail_tit_lk\\' title=艺术设计  target=\\'_blank\\'>艺术设计<i></i></a> </dd></dl></div><div class=\\'hb_navlist_info_r_item_r\\'><p class=\\'hb_navlist_info_r_item_r_title\\'>热点专题</p><div class=\\'hb_navlist_info_r_item_r_info\\'><p class=\\'hb_navlist_info_r_item_r_info_t\\'>【家居设计】这些书，帮你拿下大客户</p><div class=\\'hb_navlist_info_r_item_r_info_img\\'><a href=\\'http://hd.zazhipu.com/shudandetail465.html\\'><img src=\\'http://img1.zazhipu.com/bookpic/20198/20198311005.jpg?imageMogr2/thumbnail/400x \\'></a></div></div><div class=\\'hb_navlist_info_r_item_r_info\\'><p class=\\'hb_navlist_info_r_item_r_info_t\\'>【建筑设计】你的建筑设计作品过关必备清单</p><div class=\\'hb_navlist_info_r_item_r_info_img\\'><a href=\\'http://hd.zazhipu.com/shudandetail464.html\\'><img src=\\'http://img1.zazhipu.com/bookpic/20198/2019829164646.jpg?imageMogr2/thumbnail/400x \\'></a></div></div><div class=\\'hb_navlist_info_r_item_r_info\\'><p class=\\'hb_navlist_info_r_item_r_info_t\\'>【园艺景观】传承建筑文明</p><div class=\\'hb_navlist_info_r_item_r_info_img\\'><a href=\\'http://hd.zazhipu.com/shudandetail478.html\\'><img src=\\'http://img1.zazhipu.com/bookpic/20188/201881114360.jpg?imageMogr2/thumbnail/400x \\'></a></div></div></div></div><div class=\\'hb_navlist_info_r_item\\'><div class=\\'hb_navlist_info_r_item_l\\'><dl class=\\'cate_detail_item cate_detail_item1\\'><dt class=\\'cate_detail_tit\\'><a href=\\'http://www.zazhipu.com/listm1087_1_1_0_0.html\\' class=\\'cate_detail_tit_lk\\' title=汽车资讯 target=\\'_blank\\'>汽车资讯<i></i></a></dt><dd class=\\'cate_detail_con\\'><a href=\\'http://www.zazhipu.com/lists3556_1_1_0_0.html\\' class=\\'cate_detail_con_lk\\' target=\\'_blank\\'>名车志</a><a href=\\'http://www.zazhipu.com/lists3606_1_1_0_0.html\\' class=\\'cate_detail_con_lk\\' target=\\'_blank\\'>其他</a><a href=\\'http://www.zazhipu.com/lists3617_1_1_0_0.html\\' class=\\'cate_detail_con_lk\\' target=\\'_blank\\'>汽车观察</a><a href=\\'http://www.zazhipu.com/lists3669_1_1_0_0.html\\' class=\\'cate_detail_con_lk\\' target=\\'_blank\\'>汽车纵横</a><a href=\\'http://www.zazhipu.com/lists3670_1_1_0_0.html\\' class=\\'cate_detail_con_lk\\' target=\\'_blank\\'>汽车族</a><a href=\\'http://www.zazhipu.com/lists3712_1_1_0_0.html\\' class=\\'cate_detail_con_lk\\' target=\\'_blank\\'>汽车导报</a><a href=\\'http://www.zazhipu.com/lists3721_1_1_0_0.html\\' class=\\'cate_detail_con_lk\\' target=\\'_blank\\'>车王</a><a href=\\'http://www.zazhipu.com/lists3724_1_1_0_0.html\\' class=\\'cate_detail_con_lk\\' target=\\'_blank\\'>汽车博览</a><a href=\\'http://www.zazhipu.com/lists3731_1_1_0_0.html\\' class=\\'cate_detail_con_lk\\' target=\\'_blank\\'>越玩越野</a><a href=\\'http://www.zazhipu.com/lists3733_1_1_0_0.html\\' class=\\'cate_detail_con_lk\\' target=\\'_blank\\'>中国汽车画报</a><a href=\\'http://www.zazhipu.com/lists4304_1_1_0_0.html\\' class=\\'cate_detail_con_lk\\' target=\\'_blank\\'>车迷</a><a href=\\'http://www.zazhipu.com/lists5714_1_1_0_0.html\\' class=\\'cate_detail_con_lk\\' target=\\'_blank\\'>汽车世界</a> </dd></dl><dl class=\\'cate_detail_item cate_detail_item1\\'><dt class=\\'cate_detail_tit\\'><a href=\\'http://www.zazhipu.com/listm1088_1_1_0_0.html\\' class=\\'cate_detail_tit_lk\\' title=品质生活 target=\\'_blank\\'>品质生活<i></i></a></dt><dd class=\\'cate_detail_con\\'><a href=\\'http://www.zazhipu.com/lists3586_1_1_0_0.html\\' class=\\'cate_detail_con_lk\\' target=\\'_blank\\'>时尚座驾</a><a href=\\'http://www.zazhipu.com/lists3622_1_1_0_0.html\\' class=\\'cate_detail_con_lk\\' target=\\'_blank\\'>汽车与运动</a><a href=\\'http://www.zazhipu.com/lists3678_1_1_0_0.html\\' class=\\'cate_detail_con_lk\\' target=\\'_blank\\'>汽车维修与保养</a><a href=\\'http://www.zazhipu.com/lists3713_1_1_0_0.html\\' class=\\'cate_detail_con_lk\\' target=\\'_blank\\'>中国赛车</a><a href=\\'http://www.zazhipu.com/lists4410_1_1_0_0.html\\' class=\\'cate_detail_con_lk\\' target=\\'_blank\\'>其他</a> </dd></dl><dl class=\\'cate_detail_item cate_detail_item1\\'><dt class=\\'cate_detail_tit\\'><a href=\\'http://www.zazhipu.com/listm1090_1_1_0_0.html\\' class=\\'cate_detail_tit_lk\\' title=摩托车资讯 target=\\'_blank\\'>摩托车资讯<i></i></a></dt><dd class=\\'cate_detail_con\\'><a href=\\'http://www.zazhipu.com/lists3723_1_1_0_0.html\\' class=\\'cate_detail_con_lk\\' target=\\'_blank\\'>摩托车</a> </dd></dl><dl class=\\'cate_detail_item cate_detail_item1\\'><dt class=\\'cate_detail_tit\\'><a href=\\'http://www.zazhipu.com/listm1091_1_1_0_0.html\\' class=\\'cate_detail_tit_lk\\' title=改装维修 target=\\'_blank\\'>改装维修<i></i></a></dt><dd class=\\'cate_detail_con\\'><a href=\\'http://www.zazhipu.com/lists3672_1_1_0_0.html\\' class=\\'cate_detail_con_lk\\' target=\\'_blank\\'>其他</a><a href=\\'http://www.zazhipu.com/lists3711_1_1_0_0.html\\' class=\\'cate_detail_con_lk\\' target=\\'_blank\\'>改装与四驱</a> </dd></dl><dl class=\\'cate_detail_item cate_detail_item1\\'><dt class=\\'cate_detail_tit\\'><a href=\\'http://www.zazhipu.com/listm1444_1_1_0_0.html\\' class=\\'cate_detail_tit_lk\\' title=男士品位 target=\\'_blank\\'>男士品位<i></i></a></dt><dd class=\\'cate_detail_con\\'><a href=\\'http://www.zazhipu.com/listm1444_1_1_0_0.html\\' class=\\'cate_detail_tit_lk\\' title=男士品位  target=\\'_blank\\'>男士品位<i></i></a> </dd></dl><dl class=\\'cate_detail_item cate_detail_item1\\'><dt class=\\'cate_detail_tit\\'><a href=\\'http://www.zazhipu.com/listm1092_1_1_0_0.html\\' class=\\'cate_detail_tit_lk\\' title=运输装备 target=\\'_blank\\'>运输装备<i></i></a></dt><dd class=\\'cate_detail_con\\'><a href=\\'http://www.zazhipu.com/listm1092_1_1_0_0.html\\' class=\\'cate_detail_tit_lk\\' title=运输装备  target=\\'_blank\\'>运输装备<i></i></a> </dd></dl><dl class=\\'cate_detail_item cate_detail_item1\\'><dt class=\\'cate_detail_tit\\'><a href=\\'http://www.zazhipu.com/listm1497_1_1_0_0.html\\' class=\\'cate_detail_tit_lk\\' title=汽车技术 target=\\'_blank\\'>汽车技术<i></i></a></dt><dd class=\\'cate_detail_con\\'><a href=\\'http://www.zazhipu.com/listm1497_1_1_0_0.html\\' class=\\'cate_detail_tit_lk\\' title=汽车技术  target=\\'_blank\\'>汽车技术<i></i></a> </dd></dl></div><div class=\\'hb_navlist_info_r_item_r\\'><p class=\\'hb_navlist_info_r_item_r_title\\'>热点专题</p><div class=\\'hb_navlist_info_r_item_r_info\\'><p class=\\'hb_navlist_info_r_item_r_info_t\\'>【摩托车资讯】摩托车知识大百科，感受狂野的探险</p><div class=\\'hb_navlist_info_r_item_r_info_img\\'><a href=\\'http://hd.zazhipu.com/shudandetail471.html\\'><img src=\\'http://img1.zazhipu.com/bookpic/20198/2019829112917.jpg?imageMogr2/thumbnail/400x \\'></a></div></div><div class=\\'hb_navlist_info_r_item_r_info\\'><p class=\\'hb_navlist_info_r_item_r_info_t\\'>【汽车改装】汽车随你配</p><div class=\\'hb_navlist_info_r_item_r_info_img\\'><a href=\\'http://hd.zazhipu.com/shudandetail470.html\\'><img src=\\'http://img1.zazhipu.com/magspic/2017505_small.jpg?imageMogr2/thumbnail/400x \\'></a></div></div><div class=\\'hb_navlist_info_r_item_r_info\\'><p class=\\'hb_navlist_info_r_item_r_info_t\\'>【赛车运动】带你飚出新天际的秘籍</p><div class=\\'hb_navlist_info_r_item_r_info_img\\'><a href=\\'http://hd.zazhipu.com/shudandetail469.html\\'><img src=\\'http://img1.zazhipu.com/bookpic/20168/201682917954.jpg?imageMogr2/thumbnail/400x \\'></a></div></div></div></div><div class=\\'hb_navlist_info_r_item\\'><div class=\\'hb_navlist_info_r_item_l\\'><dl class=\\'cate_detail_item cate_detail_item1\\'><dt class=\\'cate_detail_tit\\'><a href=\\'http://www.zazhipu.com/listm1302_1_1_0_0.html\\' class=\\'cate_detail_tit_lk\\' title=艺术品 target=\\'_blank\\'>艺术品<i></i></a></dt><dd class=\\'cate_detail_con\\'><a href=\\'http://www.zazhipu.com/listm1302_1_1_0_0.html\\' class=\\'cate_detail_tit_lk\\' title=艺术品  target=\\'_blank\\'>艺术品<i></i></a> </dd></dl><dl class=\\'cate_detail_item cate_detail_item1\\'><dt class=\\'cate_detail_tit\\'><a href=\\'http://www.zazhipu.com/listm1176_1_1_0_0.html\\' class=\\'cate_detail_tit_lk\\' title=收藏 target=\\'_blank\\'>收藏<i></i></a></dt><dd class=\\'cate_detail_con\\'><a href=\\'http://www.zazhipu.com/lists1728_1_1_0_0.html\\' class=\\'cate_detail_con_lk\\' target=\\'_blank\\'>收藏</a><a href=\\'http://www.zazhipu.com/lists2307_1_1_0_0.html\\' class=\\'cate_detail_con_lk\\' target=\\'_blank\\'>集邮</a><a href=\\'http://www.zazhipu.com/lists2341_1_1_0_0.html\\' class=\\'cate_detail_con_lk\\' target=\\'_blank\\'>钱币</a><a href=\\'http://www.zazhipu.com/lists3616_1_1_0_0.html\\' class=\\'cate_detail_con_lk\\' target=\\'_blank\\'>时间观念TIME SQUARE</a><a href=\\'http://www.zazhipu.com/lists3642_1_1_0_0.html\\' class=\\'cate_detail_con_lk\\' target=\\'_blank\\'>收藏界</a><a href=\\'http://www.zazhipu.com/lists3658_1_1_0_0.html\\' class=\\'cate_detail_con_lk\\' target=\\'_blank\\'>东方收藏</a><a href=\\'http://www.zazhipu.com/lists3689_1_1_0_0.html\\' class=\\'cate_detail_con_lk\\' target=\\'_blank\\'>其他</a><a href=\\'http://www.zazhipu.com/lists18805_1_1_0_0.html\\' class=\\'cate_detail_con_lk\\' target=\\'_blank\\'>艺术品投资</a><a href=\\'http://www.zazhipu.com/lists19020_1_1_0_0.html\\' class=\\'cate_detail_con_lk\\' target=\\'_blank\\'>天工</a> </dd></dl><dl class=\\'cate_detail_item cate_detail_item1\\'><dt class=\\'cate_detail_tit\\'><a href=\\'http://www.zazhipu.com/listm1307_1_1_0_0.html\\' class=\\'cate_detail_tit_lk\\' title=艺术文化 target=\\'_blank\\'>艺术文化<i></i></a></dt><dd class=\\'cate_detail_con\\'><a href=\\'http://www.zazhipu.com/lists1872_1_1_0_0.html\\' class=\\'cate_detail_con_lk\\' target=\\'_blank\\'>当代美术家</a><a href=\\'http://www.zazhipu.com/lists2286_1_1_0_0.html\\' class=\\'cate_detail_con_lk\\' target=\\'_blank\\'>艺术杂志</a><a href=\\'http://www.zazhipu.com/lists3631_1_1_0_0.html\\' class=\\'cate_detail_con_lk\\' target=\\'_blank\\'>其他</a><a href=\\'http://www.zazhipu.com/lists3730_1_1_0_0.html\\' class=\\'cate_detail_con_lk\\' target=\\'_blank\\'>艺术世界</a><a href=\\'http://www.zazhipu.com/lists3734_1_1_0_0.html\\' class=\\'cate_detail_con_lk\\' target=\\'_blank\\'>中华遗产</a><a href=\\'http://www.zazhipu.com/lists18815_1_1_0_0.html\\' class=\\'cate_detail_con_lk\\' target=\\'_blank\\'>书画世界</a><a href=\\'http://www.zazhipu.com/lists19028_1_1_0_0.html\\' class=\\'cate_detail_con_lk\\' target=\\'_blank\\'>艺术周报</a><a href=\\'http://www.zazhipu.com/lists19053_1_1_0_0.html\\' class=\\'cate_detail_con_lk\\' target=\\'_blank\\'>中国美术</a><a href=\\'http://www.zazhipu.com/lists19054_1_1_0_0.html\\' class=\\'cate_detail_con_lk\\' target=\\'_blank\\'>中国艺术</a><a href=\\'http://www.zazhipu.com/lists19055_1_1_0_0.html\\' class=\\'cate_detail_con_lk\\' target=\\'_blank\\'>油画</a><a href=\\'http://www.zazhipu.com/lists19056_1_1_0_0.html\\' class=\\'cate_detail_con_lk\\' target=\\'_blank\\'>中国中小学美术</a><a href=\\'http://www.zazhipu.com/lists19057_1_1_0_0.html\\' class=\\'cate_detail_con_lk\\' target=\\'_blank\\'>连环画报</a> </dd></dl><dl class=\\'cate_detail_item cate_detail_item1\\'><dt class=\\'cate_detail_tit\\'><a href=\\'http://www.zazhipu.com/listm1337_1_1_0_0.html\\' class=\\'cate_detail_tit_lk\\' title=工艺传承 target=\\'_blank\\'>工艺传承<i></i></a></dt><dd class=\\'cate_detail_con\\'><a href=\\'http://www.zazhipu.com/listm1337_1_1_0_0.html\\' class=\\'cate_detail_tit_lk\\' title=工艺传承  target=\\'_blank\\'>工艺传承<i></i></a> </dd></dl><dl class=\\'cate_detail_item cate_detail_item1\\'><dt class=\\'cate_detail_tit\\'><a href=\\'http://www.zazhipu.com/listm1448_1_1_0_0.html\\' class=\\'cate_detail_tit_lk\\' title=艺术鉴赏 target=\\'_blank\\'>艺术鉴赏<i></i></a></dt><dd class=\\'cate_detail_con\\'><a href=\\'http://www.zazhipu.com/lists18816_1_1_0_0.html\\' class=\\'cate_detail_con_lk\\' target=\\'_blank\\'>中华奇石</a> </dd></dl></div><div class=\\'hb_navlist_info_r_item_r\\'><p class=\\'hb_navlist_info_r_item_r_title\\'>热点专题</p><div class=\\'hb_navlist_info_r_item_r_info\\'><p class=\\'hb_navlist_info_r_item_r_info_t\\'>【收藏】收藏人类文明，见证过往历史</p><div class=\\'hb_navlist_info_r_item_r_info_img\\'><a href=\\'http://hd.zazhipu.com/shudandetail463.html\\'><img src=\\'http://img1.zazhipu.com/bookpic/20198/201982911720.jpg?imageMogr2/thumbnail/400x \\'></a></div></div><div class=\\'hb_navlist_info_r_item_r_info\\'><p class=\\'hb_navlist_info_r_item_r_info_t\\'>【武术】中华民族的武魂文化复兴就靠你了</p><div class=\\'hb_navlist_info_r_item_r_info_img\\'><a href=\\'http://hd.zazhipu.com/shudandetail481.html\\'><img src=\\'http://img1.zazhipu.com/bookpic/20198/2019830111828.jpg?imageMogr2/thumbnail/400x \\'></a></div></div><div class=\\'hb_navlist_info_r_item_r_info\\'><p class=\\'hb_navlist_info_r_item_r_info_t\\'>【艺术设计】你真的很懂艺术吗？</p><div class=\\'hb_navlist_info_r_item_r_info_img\\'><a href=\\'http://hd.zazhipu.com/shudandetail466.html\\'><img src=\\'http://img1.zazhipu.com/bookpic/20188/2018814113142.jpg?imageMogr2/thumbnail/400x \\'></a></div></div></div></div><div class=\\'hb_navlist_info_r_item\\'><div class=\\'hb_navlist_info_r_item_l\\'><dl class=\\'cate_detail_item cate_detail_item1\\'><dt class=\\'cate_detail_tit\\'><a href=\\'http://www.zazhipu.com/listm1131_1_1_0_0.html\\' class=\\'cate_detail_tit_lk\\' title=职业规划 target=\\'_blank\\'>职业规划<i></i></a></dt><dd class=\\'cate_detail_con\\'><a href=\\'http://www.zazhipu.com/lists3695_1_1_0_0.html\\' class=\\'cate_detail_con_lk\\' target=\\'_blank\\'>人力资源管理</a><a href=\\'http://www.zazhipu.com/lists3696_1_1_0_0.html\\' class=\\'cate_detail_con_lk\\' target=\\'_blank\\'>人力资本管理</a> </dd></dl><dl class=\\'cate_detail_item cate_detail_item1\\'><dt class=\\'cate_detail_tit\\'><a href=\\'http://www.zazhipu.com/listm1132_1_1_0_0.html\\' class=\\'cate_detail_tit_lk\\' title=企业培训 target=\\'_blank\\'>企业培训<i></i></a></dt><dd class=\\'cate_detail_con\\'><a href=\\'http://www.zazhipu.com/lists1711_1_1_0_0.html\\' class=\\'cate_detail_con_lk\\' target=\\'_blank\\'>知音漫客</a><a href=\\'http://www.zazhipu.com/lists1984_1_1_0_0.html\\' class=\\'cate_detail_con_lk\\' target=\\'_blank\\'>COSPLAY</a><a href=\\'http://www.zazhipu.com/lists3668_1_1_0_0.html\\' class=\\'cate_detail_con_lk\\' target=\\'_blank\\'>培训</a> </dd></dl><dl class=\\'cate_detail_item cate_detail_item1\\'><dt class=\\'cate_detail_tit\\'><a href=\\'http://www.zazhipu.com/listm1133_1_1_0_0.html\\' class=\\'cate_detail_tit_lk\\' title=自我提升 target=\\'_blank\\'>自我提升<i></i></a></dt><dd class=\\'cate_detail_con\\'><a href=\\'http://www.zazhipu.com/lists4194_1_1_0_0.html\\' class=\\'cate_detail_con_lk\\' target=\\'_blank\\'>新作文小学作文创新教学</a><a href=\\'http://www.zazhipu.com/lists4202_1_1_0_0.html\\' class=\\'cate_detail_con_lk\\' target=\\'_blank\\'>新作文中学作文教学研究</a><a href=\\'http://www.zazhipu.com/lists4306_1_1_0_0.html\\' class=\\'cate_detail_con_lk\\' target=\\'_blank\\'>工控智能化</a><a href=\\'http://www.zazhipu.com/lists4308_1_1_0_0.html\\' class=\\'cate_detail_con_lk\\' target=\\'_blank\\'>仪器仪表智能化</a> </dd></dl><dl class=\\'cate_detail_item cate_detail_item1\\'><dt class=\\'cate_detail_tit\\'><a href=\\'http://www.zazhipu.com/listm1451_1_1_0_0.html\\' class=\\'cate_detail_tit_lk\\' title=人力资源 target=\\'_blank\\'>人力资源<i></i></a></dt><dd class=\\'cate_detail_con\\'><a href=\\'http://www.zazhipu.com/lists19026_1_1_0_0.html\\' class=\\'cate_detail_con_lk\\' target=\\'_blank\\'>青年记者</a> </dd></dl></div><div class=\\'hb_navlist_info_r_item_r\\'><p class=\\'hb_navlist_info_r_item_r_title\\'>热点专题</p><div class=\\'hb_navlist_info_r_item_r_info\\'><p class=\\'hb_navlist_info_r_item_r_info_t\\'>【人力资源】叮，人才都主动找上门来了</p><div class=\\'hb_navlist_info_r_item_r_info_img\\'><a href=\\'http://hd.zazhipu.com/shudandetail441.html\\'><img src=\\'http://img1.zazhipu.com/bookpic/20188/201881311556.jpg?imageMogr2/thumbnail/400x \\'></a></div></div></div></div><div class=\\'hb_navlist_info_r_item\\'><div class=\\'hb_navlist_info_r_item_l\\'><dl class=\\'cate_detail_item cate_detail_item1\\'><dt class=\\'cate_detail_tit\\'><a href=\\'http://www.zazhipu.com/listm1113_1_1_0_0.html\\' class=\\'cate_detail_tit_lk\\' title=健身运动 target=\\'_blank\\'>健身运动<i></i></a></dt><dd class=\\'cate_detail_con\\'><a href=\\'http://www.zazhipu.com/lists3503_1_1_0_0.html\\' class=\\'cate_detail_con_lk\\' target=\\'_blank\\'>其他</a><a href=\\'http://www.zazhipu.com/lists2302_1_1_0_0.html\\' class=\\'cate_detail_con_lk\\' target=\\'_blank\\'>钓鱼</a><a href=\\'http://www.zazhipu.com/lists2301_1_1_0_0.html\\' class=\\'cate_detail_con_lk\\' target=\\'_blank\\'>健仕</a><a href=\\'http://www.zazhipu.com/lists3445_1_1_0_0.html\\' class=\\'cate_detail_con_lk\\' target=\\'_blank\\'>健与美</a><a href=\\'http://www.zazhipu.com/lists3544_1_1_0_0.html\\' class=\\'cate_detail_con_lk\\' target=\\'_blank\\'>棋艺象棋</a><a href=\\'http://www.zazhipu.com/lists3607_1_1_0_0.html\\' class=\\'cate_detail_con_lk\\' target=\\'_blank\\'>世界高尔夫</a><a href=\\'http://www.zazhipu.com/lists3633_1_1_0_0.html\\' class=\\'cate_detail_con_lk\\' target=\\'_blank\\'>其他</a><a href=\\'http://www.zazhipu.com/lists3732_1_1_0_0.html\\' class=\\'cate_detail_con_lk\\' target=\\'_blank\\'>中国钓鱼</a> </dd></dl><dl class=\\'cate_detail_item cate_detail_item1\\'><dt class=\\'cate_detail_tit\\'><a href=\\'http://www.zazhipu.com/listm1161_1_1_0_0.html\\' class=\\'cate_detail_tit_lk\\' title=体育报道 target=\\'_blank\\'>体育报道<i></i></a></dt><dd class=\\'cate_detail_con\\'><a href=\\'http://www.zazhipu.com/lists2300_1_1_0_0.html\\' class=\\'cate_detail_con_lk\\' target=\\'_blank\\'>乒乓世界</a><a href=\\'http://www.zazhipu.com/lists3382_1_1_0_0.html\\' class=\\'cate_detail_con_lk\\' target=\\'_blank\\'>环球体育灌篮</a><a href=\\'http://www.zazhipu.com/lists3383_1_1_0_0.html\\' class=\\'cate_detail_con_lk\\' target=\\'_blank\\'>扣篮（slam）</a><a href=\\'http://www.zazhipu.com/lists3582_1_1_0_0.html\\' class=\\'cate_detail_con_lk\\' target=\\'_blank\\'>NBA特刊</a><a href=\\'http://www.zazhipu.com/lists3594_1_1_0_0.html\\' class=\\'cate_detail_con_lk\\' target=\\'_blank\\'>全体育</a><a href=\\'http://www.zazhipu.com/lists3726_1_1_0_0.html\\' class=\\'cate_detail_con_lk\\' target=\\'_blank\\'>体育画报</a> </dd></dl><dl class=\\'cate_detail_item cate_detail_item1\\'><dt class=\\'cate_detail_tit\\'><a href=\\'http://www.zazhipu.com/listm1162_1_1_0_0.html\\' class=\\'cate_detail_tit_lk\\' title=体育竞技 target=\\'_blank\\'>体育竞技<i></i></a></dt><dd class=\\'cate_detail_con\\'><a href=\\'http://www.zazhipu.com/lists3647_1_1_0_0.html\\' class=\\'cate_detail_con_lk\\' target=\\'_blank\\'>其他</a><a href=\\'http://www.zazhipu.com/lists19237_1_1_0_0.html\\' class=\\'cate_detail_con_lk\\' target=\\'_blank\\'>田径</a><a href=\\'http://www.zazhipu.com/lists3446_1_1_0_0.html\\' class=\\'cate_detail_con_lk\\' target=\\'_blank\\'>围棋天地</a> </dd></dl><dl class=\\'cate_detail_item cate_detail_item1\\'><dt class=\\'cate_detail_tit\\'><a href=\\'http://www.zazhipu.com/listm1452_1_1_0_0.html\\' class=\\'cate_detail_tit_lk\\' title=休闲运动 target=\\'_blank\\'>休闲运动<i></i></a></dt><dd class=\\'cate_detail_con\\'><a href=\\'http://www.zazhipu.com/listm1452_1_1_0_0.html\\' class=\\'cate_detail_tit_lk\\' title=休闲运动  target=\\'_blank\\'>休闲运动<i></i></a> </dd></dl><dl class=\\'cate_detail_item cate_detail_item1\\'><dt class=\\'cate_detail_tit\\'><a href=\\'http://www.zazhipu.com/listm1453_1_1_0_0.html\\' class=\\'cate_detail_tit_lk\\' title=瑜伽美体 target=\\'_blank\\'>瑜伽美体<i></i></a></dt><dd class=\\'cate_detail_con\\'><a href=\\'http://www.zazhipu.com/listm1453_1_1_0_0.html\\' class=\\'cate_detail_tit_lk\\' title=瑜伽美体  target=\\'_blank\\'>瑜伽美体<i></i></a> </dd></dl><dl class=\\'cate_detail_item cate_detail_item1\\'><dt class=\\'cate_detail_tit\\'><a href=\\'http://www.zazhipu.com/listm1454_1_1_0_0.html\\' class=\\'cate_detail_tit_lk\\' title=钓鱼 target=\\'_blank\\'>钓鱼<i></i></a></dt><dd class=\\'cate_detail_con\\'><a href=\\'http://www.zazhipu.com/lists19047_1_1_0_0.html\\' class=\\'cate_detail_con_lk\\' target=\\'_blank\\'>垂钓</a> </dd></dl></div><div class=\\'hb_navlist_info_r_item_r\\'><p class=\\'hb_navlist_info_r_item_r_title\\'>热点专题</p><div class=\\'hb_navlist_info_r_item_r_info\\'><p class=\\'hb_navlist_info_r_item_r_info_t\\'>【棋牌运动】有了这些书，就能带你下遍天下！</p><div class=\\'hb_navlist_info_r_item_r_info_img\\'><a href=\\'http://hd.zazhipu.com/shudandetail482.html\\'><img src=\\'http://img1.zazhipu.com/bookpic/20198/2019829105241.jpg?imageMogr2/thumbnail/400x \\'></a></div></div><div class=\\'hb_navlist_info_r_item_r_info\\'><p class=\\'hb_navlist_info_r_item_r_info_t\\'>【球类运动】我们在寻找真正的球迷，是不是你呢？</p><div class=\\'hb_navlist_info_r_item_r_info_img\\'><a href=\\'http://hd.zazhipu.com/shudandetail480.html\\'><img src=\\'http://img1.zazhipu.com/bookpic/20198/2019831143336.jpg?imageMogr2/thumbnail/400x \\'></a></div></div><div class=\\'hb_navlist_info_r_item_r_info\\'><p class=\\'hb_navlist_info_r_item_r_info_t\\'>【田径运动】你，就是下一个田径运动冠军</p><div class=\\'hb_navlist_info_r_item_r_info_img\\'><a href=\\'http://hd.zazhipu.com/shudandetail479.html\\'><img src=\\'http://img1.zazhipu.com/bookpic/20188/201881410345.jpg?imageMogr2/thumbnail/400x \\'></a></div></div></div></div></div>\\r\\n\\t\\t\\t\\t</div>\\r\\n\\t\\t\\t\\t</div>\\r\\n\\t\\t\\t\\t<div class=\"hb_rnav\">\\r\\n\\t\\t\\t\\t\\t<ul>\\r\\n\\t\\t\\t\\t\\t\\t<li class=\"select_hb\">\\r\\n\\t\\t\\t\\t\\t\\t\\t<a href=\"http://www.zazhipu.com/\">首页</a>\\r\\n\\t\\t\\t\\t\\t\\t</li>\\r\\n\\t\\t\\t\\t\\t\\t<li>\\r\\n\\t\\t\\t\\t\\t\\t\\t<a href=\"http://www.zazhipu.com/magsell.asp\">杂志排行榜</a>\\r\\n\\t\\t\\t\\t\\t\\t</li>\\r\\n\\t\\t\\t\\t\\t\\t<li>\\r\\n\\t\\t\\t\\t\\t\\t\\t<a href=\"http://www.zazhipu.com/xinkan.asp\">新刊推荐<img src=\"newindexfile/img/HOT.png\" /></a>\\r\\n\\t\\t\\t\\t\\t\\t</li>\\r\\n\\t\\t\\t\\t\\t\\t<li>\\r\\n\\t\\t\\t\\t\\t\\t\\t<a href=\"http://hd.zazhipu.com/\">5折抢购</a>\\r\\n\\t\\t\\t\\t\\t\\t</li>\\r\\n\\t\\t\\t\\t\\t\\t<li>\\r\\n\\t\\t\\t\\t\\t\\t\\t<a href=\"http://hd.zazhipu.com/manjian.asp\">满200减100</a>\\r\\n\\t\\t\\t\\t\\t\\t</li>\\r\\n\\t\\t\\t\\t\\t\\t<li>\\r\\n\\t\\t\\t\\t\\t\\t\\t<a href=\"http://hd.zazhipu.com/baoyou.asp\">杂志包邮</a>\\r\\n\\t\\t\\t\\t\\t\\t</li>\\r\\n\\t\\t\\t\\t\\t\\t<li>\\r\\n\\t\\t\\t\\t\\t\\t\\t<a href=\"http://www.zazhipu.com/zazhimulu.asp\">2022年杂志订阅目录</a>\\r\\n\\t\\t\\t\\t\\t\\t</li>\\r\\n\\t\\t\\t\\t\\t\\t<li>\\r\\n\\t\\t\\t\\t\\t\\t\\t<a href=\"http://www.zazhipu.com/myvip.asp\">杂志续订</a>\\r\\n\\t\\t\\t\\t\\t\\t</li>\\r\\n\\t\\t\\t\\t\\t</ul>\\r\\n\\t\\t\\t\\t</div>\\r\\n\\t\\t\\t</div>\\r\\n\\t\\t\\t<script>\\r\\n\\t\\t\\t\\t$(\".close_ad\").click(function(){\\r\\n\\t\\t\\t\\t\\t$(\".head_ad\").slideUp(400)\\r\\n\\t\\t\\t\\t})\\r\\n\\t\\t\\t\\t$(\"#key\").focus(function() {\\r\\n\\t\\t\\t\\t\\t$(\".hc_search_more\").show()\\r\\n\\t\\t\\t\\t})\\r\\n//\\t\\t\\t\\t$(\".hc_search\").hover(function(){\\r\\n//\\t\\t\\t\\t\\t$(\".hc_search_more\").show()\\r\\n//\\t\\t\\t\\t},function(){\\r\\n//\\t\\t\\t\\t\\t$(\".hc_search_more\").hide()\\r\\n//\\t\\t\\t\\t})\\r\\n\\t\\t\\t\\t$(\"#key\").blur(function() {\\r\\n\\t\\t\\t\\t\\t\\r\\n//\\t\\t\\t\\t\\t$(\".hc_search_more\").hide()\\r\\n\\t\\t\\t\\t})\\r\\n\\t\\t\\t\\t$(\".hb_navlist_info li\").hover(function(){\\r\\n\\t\\t\\t\\t\\tvar index=$(this).index()\\r\\n\\t\\t\\t\\t\\t$(\".hb_navlist_info_r\").show()\\r\\n\\t\\t\\t\\t\\t$(\".hb_navlist_info_r_item\").eq(index).show().siblings().hide()\\r\\n\\t\\t\\t\\t})\\r\\n//\\t\\t\\t\\t$(\".hb_navlist_info\").hover(function(){\\r\\n//\\t\\t\\t\\t\\t$(\".hb_navlist_info_r\").show()\\r\\n//\\t\\t\\t\\t},function(){\\r\\n//\\t\\t\\t\\t})\\r\\n\\t\\t\\t\\t$(\".hb_navlist_boxs\").hover(function(){\\r\\n\\t\\t\\t\\t\\t\\r\\n\\t\\t\\t\\t},function(){\\r\\n\\t\\t\\t\\t\\t$(\".hb_navlist_info_r\").hide()\\r\\n\\t\\t\\t\\t\\t$(\".hb_navlist_info_r_item\").hide()\\r\\n\\t\\t\\t\\t})\\r\\n\\t\\t\\t\\t$(document).scroll(function(){\\r\\n\\t\\t\\t\\t\\tvar sctop=$(window).scrollTop();\\r\\n\\t\\t\\t\\t\\tif(sctop>800){\\r\\n\\t\\t\\t\\t\\t\\t$(\".indexlnav\").show()\\r\\n\\t\\t\\t\\t\\t\\t$(\".indexrnav\").show()\\r\\n\\t\\t\\t\\t\\t}else{\\r\\n\\t\\t\\t\\t\\t\\t$(\".indexlnav\").hide()\\r\\n\\t\\t\\t\\t\\t\\t$(\".indexrnav\").hide()\\r\\n\\t\\t\\t\\t\\t}\\r\\n\\t\\t\\t\\t})\\r\\n\\t\\t\\t</script>\\r\\n\\t\\t</div>\\r\\n\\t\\t\\r\\n\\t\\t\\r\\n\\r\\n\\t\\t\\r\\n\\t\\t<div class=\"section\">\\r\\n\\t\\t\\t<div class=\"ad\" style=\"display:none;\"><img src=\"\"/></div>\\r\\n\\t\\t\\t<p class=\"searchresult_h\">\\r\\n\\t\\t\\t\\t<span><a href=\"http://www.zazhipu.com\">杂志铺首页</a></span><img src=\"newfiles/img/searchresult/xyt.png\" /><span><a href=\"http://www.zazhipu.com/fl.asp\">杂志订阅分类</a></span><img src=\"newfiles/img/searchresult/xyt.png\" /><span><a href=\"http://www.zazhipu.com/listb6_1_1_0_0.html\">地理 旅游 人文</a></span>\\r\\n\\t\\t\\t\\t<br><br><span>相关分类：</span>\\r\\n\\t\\t\\t\\t\\r\\n\\t\\t  \\r\\n\\t\\t  <a   href=listm1047_1_1_0_0.html>旅游文化</a>\\r\\n\\t\\t  \\r\\n\\t\\t  \\r\\n\\t\\t  <a   href=listm1048_1_1_0_0.html>人文风俗</a>\\r\\n\\t\\t  \\r\\n\\t\\t  \\r\\n\\t\\t  <a   href=listm1049_1_1_0_0.html>游记</a>\\r\\n\\t\\t  \\r\\n\\t\\t  \\r\\n\\t\\t  <a   href=listm1050_1_1_0_0.html>旅行探险</a>\\r\\n\\t\\t  \\r\\n\\t\\t  \\r\\n\\t\\t  <a   href=listm1000_1_1_0_0.html>时装服饰</a>\\r\\n\\t\\t  \\r\\n\\t\\t  \\r\\n\\t\\t  <a   href=listm1051_1_1_0_0.html>户外运动</a>\\r\\n\\t\\t  \\r\\n\\t\\t  \\r\\n\\t\\t  <a   href=listm1412_1_1_0_0.html>自驾旅游</a>\\r\\n\\t\\t  \\r\\n\\t\\t  \\r\\n\\t\\t  <a   href=listm1413_1_1_0_0.html>少儿地理</a>\\r\\n\\t\\t  \\r\\n\\t\\t  \\r\\n\\t\\t  <a   href=listm1058_1_1_0_0.html>地理知识</a>\\r\\n\\t\\t  \\r\\n\\t\\t\\t\\t\\r\\n\\t\\t\\t\\t\\r\\n\\t\\t\\t</p>\\r\\n\\t\\t\\t<div class=\"newJournals\">\\r\\n\\t\\t\\t\\t<p class=\"newJournals_t\">好刊推荐</p>\\r\\n\\t\\t\\t\\t<div class=\"newJournals_info pzg\">\\r\\n\\t\\t\\t\\t   \\r\\n<div class=\"newJournals_item\">\\r\\n\\t\\t\\t\\t\\t\\t<a href=\"http://www.zazhipu.com/2003751.html\">\\r\\n\\t\\t\\t\\t\\t\\t\\t<div class=\"newJournals_item_l\"><img src=\"http://img1.zazhipu.com/bookpic/20217/2021713104914.png?imageMogr2/thumbnail/400x  \"/></div>\\r\\n\\t\\t\\t\\t\\t\\t\\t<div class=\"newJournals_item_r\">\\r\\n\\t\\t\\t\\t\\t\\t\\t\\t<p class=\"newJournals_item_p\">家庭医药（快乐养生）（1年共12期）（杂志订阅）</p>\\r\\n\\t\\t\\t\\t\\t\\t\\t\\t<p class=\"newJournals_item_price\">\\r\\n\\t\\t\\t\\t\\t\\t\\t\\t\\t<span><i>￥</i>60.00</span>\\r\\n\\t\\t\\t\\t\\t\\t\\t\\t\\t<label>50折</label>\\r\\n\\t\\t\\t\\t\\t\\t\\t\\t</p>\\r\\n\\t\\t\\t\\t\\t\\t\\t\\t<div class=\"newJournals_item_btn\"><a href=\"addtocar.asp?id=1376911\"  target=\"_blank\">立即购买</a></div>\\r\\n\\t\\t\\t\\t\\t\\t\\t</div>\\r\\n\\t\\t\\t\\t\\t\\t</a>\\r\\n\\t\\t\\t\\t\\t</div>  \\r\\n               \\r\\n\\t\\t\\t   \\r\\n<div class=\"newJournals_item\">\\r\\n\\t\\t\\t\\t\\t\\t<a href=\"http://www.zazhipu.com/2002516.html\">\\r\\n\\t\\t\\t\\t\\t\\t\\t<div class=\"newJournals_item_l\"><img src=\"http://img1.zazhipu.com/bookpic/20218/20218514315.png?imageMogr2/thumbnail/400x  \"/></div>\\r\\n\\t\\t\\t\\t\\t\\t\\t<div class=\"newJournals_item_r\">\\r\\n\\t\\t\\t\\t\\t\\t\\t\\t<p class=\"newJournals_item_p\">散文（1年共12期）（杂志订阅）</p>\\r\\n\\t\\t\\t\\t\\t\\t\\t\\t<p class=\"newJournals_item_price\">\\r\\n\\t\\t\\t\\t\\t\\t\\t\\t\\t<span><i>￥</i>115.20</span>\\r\\n\\t\\t\\t\\t\\t\\t\\t\\t\\t<label>80折</label>\\r\\n\\t\\t\\t\\t\\t\\t\\t\\t</p>\\r\\n\\t\\t\\t\\t\\t\\t\\t\\t<div class=\"newJournals_item_btn\"><a href=\"addtocar.asp?id=1163073\"  target=\"_blank\">立即购买</a></div>\\r\\n\\t\\t\\t\\t\\t\\t\\t</div>\\r\\n\\t\\t\\t\\t\\t\\t</a>\\r\\n\\t\\t\\t\\t\\t</div>  \\r\\n               \\r\\n\\t\\t\\t   \\r\\n<div class=\"newJournals_item\">\\r\\n\\t\\t\\t\\t\\t\\t<a href=\"http://www.zazhipu.com/2003278.html\">\\r\\n\\t\\t\\t\\t\\t\\t\\t<div class=\"newJournals_item_l\"><img src=\"http://img1.zazhipu.com/bookpic/20223/202231155933.jpg?imageMogr2/thumbnail/400x  \"/></div>\\r\\n\\t\\t\\t\\t\\t\\t\\t<div class=\"newJournals_item_r\">\\r\\n\\t\\t\\t\\t\\t\\t\\t\\t<p class=\"newJournals_item_p\">幼儿园（1年共12期）（杂志订阅）（每月三刊）</p>\\r\\n\\t\\t\\t\\t\\t\\t\\t\\t<p class=\"newJournals_item_price\">\\r\\n\\t\\t\\t\\t\\t\\t\\t\\t\\t<span><i>￥</i>180.00</span>\\r\\n\\t\\t\\t\\t\\t\\t\\t\\t\\t<label>50折</label>\\r\\n\\t\\t\\t\\t\\t\\t\\t\\t</p>\\r\\n\\t\\t\\t\\t\\t\\t\\t\\t<div class=\"newJournals_item_btn\"><a href=\"addtocar.asp?id=1376448\"  target=\"_blank\">立即购买</a></div>\\r\\n\\t\\t\\t\\t\\t\\t\\t</div>\\r\\n\\t\\t\\t\\t\\t\\t</a>\\r\\n\\t\\t\\t\\t\\t</div>  \\r\\n               \\r\\n\\t\\t\\t   \\r\\n<div class=\"newJournals_item\">\\r\\n\\t\\t\\t\\t\\t\\t<a href=\"http://www.zazhipu.com/2001399.html\">\\r\\n\\t\\t\\t\\t\\t\\t\\t<div class=\"newJournals_item_l\"><img src=\"http://img1.zazhipu.com/bookpic/20223/20223117112.png?imageMogr2/thumbnail/400x  \"/></div>\\r\\n\\t\\t\\t\\t\\t\\t\\t<div class=\"newJournals_item_r\">\\r\\n\\t\\t\\t\\t\\t\\t\\t\\t<p class=\"newJournals_item_p\">美国国家地理（英文原版）National Geographic （1年共12期）（杂志订阅）</p>\\r\\n\\t\\t\\t\\t\\t\\t\\t\\t<p class=\"newJournals_item_price\">\\r\\n\\t\\t\\t\\t\\t\\t\\t\\t\\t<span><i>￥</i>360.00</span>\\r\\n\\t\\t\\t\\t\\t\\t\\t\\t\\t<label>50折</label>\\r\\n\\t\\t\\t\\t\\t\\t\\t\\t</p>\\r\\n\\t\\t\\t\\t\\t\\t\\t\\t<div class=\"newJournals_item_btn\"><a href=\"addtocar.asp?id=1163032\"  target=\"_blank\">立即购买</a></div>\\r\\n\\t\\t\\t\\t\\t\\t\\t</div>\\r\\n\\t\\t\\t\\t\\t\\t</a>\\r\\n\\t\\t\\t\\t\\t</div>  \\r\\n               \\r\\n\\t\\t\\t\\r\\n      \\r\\n\\t\\t\\t\\t\\t\\r\\n\\t\\t\\t\\t</div>\\r\\n\\t\\t\\t</div>\\r\\n\\t\\t\\t<div class=\"hotSerarch\">\\r\\n\\t\\t\\t\\t<p class=\"newJournals_t\">大家都在搜</p>\\r\\n\\t\\t\\t\\t<div class=\"hotSerarchbox\">\\r\\n\\t\\t\\t\\t<label></label><a href=so.asp?searchword=%B2%C6%D0%C2%D6%DC%BF%AF>财新周刊</a><label></label><a href=so.asp?searchword=%CC%BD%CB%F7%C0%FA%CA%B7>探索历史</a><label></label><a href=so.asp?searchword=%B2%A9%CE%EF>博物</a><label></label><a href=so.asp?searchword=%B9%FE%B7%F0%C9%CC%D2%B5%C6%C0%C2%DB>哈佛商业评论</a><label></label><a href=so.asp?searchword=%B0%A2%B0%A2%D0%DC>阿阿熊</a><label></label><a href=so.asp?searchword=%C4%CF%B7%BD%C8%CB%CE%EF%D6%DC%BF%AF>南方人物周刊</a><label></label><a href=so.asp?searchword=%C3%D7%D0%A1%C8%A6>米小圈</a><label></label><a href=so.asp?searchword=%CD%F2%CE%EF>万物</a><label></label><a href=so.asp?searchword=%B0%C2%C3%D8>奥秘</a><label></label><a href=so.asp?searchword=%CC%BD%CB%F7%D3%EB%B7%A2%CF%D6>探索与发现</a><label></label><a href=so.asp?searchword=%D2%E2%C1%D6>意林</a><label></label><a href=so.asp?searchword=%D0%A1%C2%ED%CB%B9>小马斯</a><label></label><a href=so.asp?searchword=%D0%A1%C5%A3%B6%D9>小牛顿</a><label></label><a href=so.asp?searchword=%D7%F7%CE%C4%CB%D8%B2%C4>作文素材</a><label></label><a href=so.asp?searchword=%C2%C3%D0%D0%BC%D2>旅行家</a><label></label><a href=so.asp?searchword=%C9%D9%C4%EA%CE%C4%D2%D5>少年文艺</a><label></label><a href=so.asp?searchword=%D0%A1%CB%B5%D4%C2%B1%A8>小说月报</a><label></label><a href=so.asp?searchword=%B2%C6%BE%AD%D4%D3%D6%BE>财经杂志</a><label></label><a href=so.asp?searchword=%CE%D2%C3%C7%B0%AE%BF%C6%D1%A7>我们爱科学</a><label></label><a href=so.asp?searchword=%BB%B7%C7%F2%C9%D9%C4%EA%B5%D8%C0%ED>环球少年地理</a><label></label><a href=so.asp?searchword=%BB%B7%C7%F2%BF%C6%D1%A7>环球科学</a>\\r\\n\\t\\t\\t\\t\\t\\r\\n\\t\\t\\t\\t</div>\\r\\n\\t\\t\\t</div>\\r\\n\\t\\t\\t<div class=\"recommendBox\">\\r\\n\\t\\t\\t\\t<div class=\"recommend_item\">\\r\\n\\t\\t\\t\\t\\t<div class=\"recommend_l\">书单推荐</div>\\r\\n\\t\\t\\t\\t\\t<div class=\"recommend_r\">\\r\\n\\t\\t\\t\\t\\t\\r\\n\\t<a href=\"http://hd.zazhipu.com/shudandetail.asp?id=579\">【单品推荐】《婴儿画报》&《幼儿画报》来了！</a>\\r\\n\\t\\t\\r\\n\\t\\t         \\r\\n\\t\\t \\r\\n\\t<a href=\"http://hd.zazhipu.com/shudandetail.asp?id=577\">【财经书单】知乎推荐：15本经典财商杂志，帮你修炼洞见思维</a>\\r\\n\\t\\t\\r\\n\\t\\t         \\r\\n\\t\\t \\r\\n\\t<a href=\"http://hd.zazhipu.com/shudandetail.asp?id=576\">【文学书单】你的气质里，藏着你读过的书，和走过的路</a>\\r\\n\\t\\t\\r\\n\\t\\t         \\r\\n\\t\\t \\r\\n\\t<a href=\"http://hd.zazhipu.com/shudandetail.asp?id=575\">【课外书单】双减之后，如何利用好课余时间？</a>\\r\\n\\t\\t\\r\\n\\t\\t         \\r\\n\\t\\t \\r\\n\\t<a href=\"http://hd.zazhipu.com/shudandetail.asp?id=578\">【语文书单】双减落地之后，坚持阅读的孩子，就是潜在的优等生！</a>\\r\\n\\t\\t\\r\\n\\t\\t         \\r\\n\\t\\t \\r\\n\\t<a href=\"http://hd.zazhipu.com/shudandetail.asp?id=574\">【中小学教学书单】名师推荐：破解教学难题，提高教学效能必备！</a>\\r\\n\\t\\t\\r\\n\\t\\t         \\r\\n\\t\\t \\r\\n\\t<a href=\"http://hd.zazhipu.com/shudandetail.asp?id=573\">【少儿文学书单】完成145万字阅读量，中小学课外阅读推荐书目</a>\\r\\n\\t\\t\\r\\n\\t\\t         \\r\\n\\t\\t \\r\\n\\t<a href=\"http://hd.zazhipu.com/shudandetail.asp?id=572\">【单品推荐】解构“天宫”空间站，《问天少年》重磅来袭，让天空触手可及！</a>\\r\\n\\t\\t\\r\\n\\t\\t         \\r\\n\\t\\t \\r\\n\\t<a href=\"http://hd.zazhipu.com/shudandetail.asp?id=571\">【单品推荐】河流来自哪里？动物界的基建狂魔？《好奇号》一起来发现！</a>\\r\\n\\t\\t\\r\\n\\t\\t         \\r\\n\\t\\t \\r\\n\\t<a href=\"http://hd.zazhipu.com/shudandetail.asp?id=570\">【单品推荐】孩子的第一套自然书：大自然才是开启智慧的钥匙</a>\\r\\n\\t\\t\\r\\n\\t\\t         \\r\\n\\t\\t \\r\\n\\t<a href=\"http://hd.zazhipu.com/shudandetail.asp?id=568\">【单品推荐】一套搞定科学+数学双重升维，孩子智力蹭蹭涨！</a>\\r\\n\\t\\t\\r\\n\\t\\t         \\r\\n\\t\\t \\r\\n\\t<a href=\"http://hd.zazhipu.com/shudandetail.asp?id=569\">【单品推荐】小学生必读推荐：1-6年级全方位提升综合学习能力</a>\\r\\n\\t\\t\\r\\n\\t\\t         \\r\\n\\t\\t \\r\\n\\t<a href=\"http://hd.zazhipu.com/shudandetail.asp?id=567\">【单品推荐】地表最强辅导书！堪比名师对线的中学生涨分神器来了！</a>\\r\\n\\t\\t\\r\\n\\t\\t         \\r\\n\\t\\t \\r\\n\\t<a href=\"http://hd.zazhipu.com/shudandetail.asp?id=566\">【单品推荐】读科普+学写作，《万物》的最佳组合来了！</a>\\r\\n\\t\\t\\r\\n\\t\\t         \\r\\n\\t\\t \\r\\n\\t<a href=\"http://hd.zazhipu.com/shudandetail.asp?id=565\">【中年书单】人到中年，建议你一定要看这10本书！</a>\\r\\n\\t\\t\\r\\n\\t\\t         \\r\\n\\t\\t \\r\\n\\t<a href=\"http://hd.zazhipu.com/shudandetail.asp?id=562\">【男孩书单】从《你好生活2》中，老母亲看到了一本养育男孩的教科书！</a>\\r\\n\\t\\t\\r\\n\\t\\t         \\r\\n\\t\\t \\r\\n\\t<a href=\"http://hd.zazhipu.com/shudandetail.asp?id=558\">【旅行书单】旅行，到底能给我们带来什么？</a>\\r\\n\\t\\t\\r\\n\\t\\t         \\r\\n\\t\\t \\r\\n\\t<a href=\"http://hd.zazhipu.com/shudandetail.asp?id=557\">【兴趣书单】兴趣班不是最好的老师，兴趣才是</a>\\r\\n\\t\\t\\r\\n\\t\\t         \\r\\n\\t\\t \\r\\n\\t\\t\\t\\t\\t\\t\\r\\n\\t\\t\\t\\t\\t\\t\\r\\n\\t\\t\\t\\t\\t</div>\\r\\n\\t\\t\\t\\t\\t<div class=\"showmore\"><i></i></div>\\r\\n\\t\\t\\t\\t</div>\\r\\n\\t\\t\\t\\t<div class=\"recommend_item\">\\r\\n\\t\\t\\t\\t\\t<div class=\"recommend_l\">专题推荐</div>\\r\\n\\t\\t\\t\\t\\t<div class=\"recommend_r\">\\r\\n\\t\\t\\t\\t\\t\\r\\n\\t\\t<a href=\"http://www.zazhipu.com/zhuanti452.html\"><span>专题</span>【总热销榜】2020年杂志铺用户喜爱杂志</a>\\r\\n\\t\\t\\r\\n\\t\\t\\r\\n\\t\\t<a href=\"http://www.zazhipu.com/zhuanti443.html\"><span>专题</span>2020年中国优秀科普期刊目录</a>\\r\\n\\t\\t\\r\\n\\t\\t\\r\\n\\t\\t<a href=\"http://www.zazhipu.com/zhuanti440.html\"><span>专题</span>幼小衔接|读这些杂志，孩子思维好，学得快！</a>\\r\\n\\t\\t\\r\\n\\t\\t\\r\\n\\t\\t<a href=\"http://www.zazhipu.com/zhuanti439.html\"><span>专题</span>聪明宝宝的养育法则，抓好家庭早教很重要！</a>\\r\\n\\t\\t\\r\\n\\t\\t\\r\\n\\t\\t<a href=\"http://www.zazhipu.com/zhuanti438.html\"><span>专题</span>童趣乐园――萌趣无限，在这里女孩们尽可以愉快长大</a>\\r\\n\\t\\t\\r\\n\\t\\t\\r\\n\\t\\t<a href=\"http://www.zazhipu.com/zhuanti437.html\"><span>专题</span>以趣为导，以书为介――让孩子在阅读中提高创造力能力</a>\\r\\n\\t\\t\\r\\n\\t\\t\\r\\n\\t\\t<a href=\"http://www.zazhipu.com/zhuanti436.html\"><span>专题</span>十万个为什么――以问为引，以趣为导</a>\\r\\n\\t\\t\\r\\n\\t\\t\\r\\n\\t\\t<a href=\"http://www.zazhipu.com/zhuanti433.html\"><span>专题</span>1元读杂志，电子刊在线阅读</a>\\r\\n\\t\\t\\r\\n\\t\\t\\r\\n\\t\\t<a href=\"http://www.zazhipu.com/zhuanti405.html\"><span>专题</span>劲爆|今年高考作文题目被命中，这些杂志又“泄题”了！</a>\\r\\n\\t\\t\\r\\n\\t\\t\\r\\n\\t\\t<a href=\"http://www.zazhipu.com/zhuanti395.html\"><span>专题</span>学霸都是这样炼成的-高考抢分宝典</a>\\r\\n\\t\\t\\r\\n\\t\\t\\r\\n\\t\\t<a href=\"http://www.zazhipu.com/zhuanti275.html\"><span>专题</span>创意科学-科学手工DIY 玩出来的小科学家</a>\\r\\n\\t\\t\\r\\n\\t\\t\\r\\n\\t\\t<a href=\"http://www.zazhipu.com/zhuanti382.html\"><span>专题</span>环球少年地理幼儿版-全球顶级儿童科普杂志中文版</a>\\r\\n\\t\\t\\r\\n\\t\\t\\r\\n\\t\\t<a href=\"http://www.zazhipu.com/zhuanti379.html\"><span>专题</span>青少年高端科学杂志《万物》-环球科学少年版 how it works</a>\\r\\n\\t\\t\\r\\n\\t\\t\\r\\n\\t\\t<a href=\"http://www.zazhipu.com/zhuanti381.html\"><span>专题</span>米小圈杂志-一本能让小学生忘记手机游戏的幽默杂志</a>\\r\\n\\t\\t\\r\\n\\t\\t\\r\\n\\t\\t<a href=\"http://www.zazhipu.com/zhuanti380.html\"><span>专题</span>小猪佩奇-超人气卡通明星小猪佩奇专刊，深受儿童喜爱！</a>\\r\\n\\t\\t\\r\\n\\t\\t\\r\\n\\t\\t<a href=\"http://www.zazhipu.com/zhuanti348.html\"><span>专题</span>国际优秀少儿原版英语杂志</a>\\r\\n\\t\\t\\r\\n\\t\\t\\r\\n\\t\\t\\t\\t\\t\\t\\r\\n\\t\\t\\t\\t\\t</div>\\r\\n\\t\\t\\t\\t\\t<div class=\"showmore\"><i></i></div>\\r\\n\\t\\t\\t\\t</div>\\r\\n\\t\\t\\t</div>\\r\\n\\t\\t\\t\\r\\n\\t\\t\\t<div class=\"searchresult\">\\r\\n\\t\\t\\t\\r\\n\\t\\t\\t\\t<div class=\"searchresultbox_h pzg\">\\r\\n\\t\\t\\t\\t\\t<div class=\"searchresult_h_l pzg\">\\r\\n\\t\\t\\t\\t\\t\\t<a class=\"searchresult_h_l_i searchresultbox_h_se\" href=\"listb6_1_1_0_0.html\"><span>默认</span></a>\\r\\n\\t\\t\\t\\t\\t\\t<a class=\"searchresult_h_l_i\" data-atype = \"false\" href=\"listb6_3_1_0_0.html\"><span>销量</span><em><i class=\"arrow-top\"></i><i class=\"arrow-bottom\"></i></em></a>\\r\\n\\t\\t\\t\\t\\t\\t<a class=\"searchresult_h_l_i\" data-atype = \"false\" href=\"listb6_4_1_0_0.html\"><span>折扣</span><em><i class=\"arrow-top\"></i><i class=\"arrow-bottom\"></i></em></a>\\r\\n\\t\\t\\t\\t\\t\\t<a class=\"searchresult_h_l_i\" data-atype = \"false\" href=\"listb6_2_1_0_0.html\"><span>价格</span><em><i class=\"arrow-top\"></i><i class=\"arrow-bottom\"></i></em></a>\\r\\n\\t\\t\\t\\t\\t</div>\\r\\n\\t\\t\\t\\t\\t<div class=\"searchresult_h_c\" style=\"display:;\">\\r\\n\\t\\t\\t\\t\\t\\t<form action=\"sou.asp\" method=\"get\">\\r\\n\\t\\t\\t\\t\\t\\t\\t<div class=\"searchresult_h_c_i\">\\r\\n\\t\\t\\t\\t\\t\\t\\t<a href=\"listb6_1_1_3_0.html\">\\t<input type=\"checkbox\" name=\"cxxz\" value=\"1\" /><span></span><label>组合</label></a>\\r\\n\\t\\t\\t\\t\\t\\t\\t</div>\\r\\n\\t\\t\\t\\t\\t\\t\\t<div class=\"searchresult_h_c_i\">\\r\\n\\t\\t\\t\\t\\t\\t\\t<a href=\"listb6_1_1_4_0.html\">\\t<input type=\"checkbox\" name=\"cxxz\" value=\"2\" /><span></span><label>满减</label></a>\\r\\n\\t\\t\\t\\t\\t\\t\\t</div>\\r\\n\\t\\t\\t\\t\\t\\t\\t<div class=\"searchresult_h_c_i\">\\r\\n\\t\\t\\t\\t\\t\\t\\t\\t<a href=\"listb6_1_1_2_0.html\"><input type=\"checkbox\" name=\"cxxz\" value=\"3\" /><span></span><label>特价</label></a>\\r\\n\\t\\t\\t\\t\\t\\t\\t</div>\\r\\n\\t\\t\\t\\t\\t\\t\\t<div class=\"searchresult_h_c_i\">\\r\\n\\t\\t\\t\\t\\t\\t\\t<a href=\"listb6_1_1_1_0.html\"><input type=\"checkbox\" name=\"cxxz\" value=\"4\" /><span></span><label>礼品</label></a>\\r\\n\\t\\t\\t\\t\\t\\t\\t</div>\\r\\n\\t\\t\\t\\t\\t\\t\\t<div class=\"searchresult_h_c_i\">\\r\\n\\t\\t\\t\\t\\t\\t\\t<a href=\"listb6_1_1_5_0.html\"><input type=\"checkbox\" name=\"cxxz\" value=\"5\" /><span></span><label>包邮</label></a>\\r\\n\\t\\t\\t\\t\\t\\t\\t</div>\\r\\n\\t\\t\\t\\t\\t\\t\\t<div class=\"searchresult_h_c_i\">\\r\\n\\t\\t\\t\\t\\t\\t\\t<a href=\"listb6_1_1_6_0.html\"><input type=\"checkbox\" name=\"cxxz\" value=\"5\" /><span></span><label>VIP</label></a>\\r\\n\\t\\t\\t\\t\\t\\t\\t</div>\\r\\n\\t\\t\\t\\t\\t\\t</form>\\r\\n\\t\\t\\t\\t\\t</div>\\r\\n\\t\\t\\t\\t\\t<div class=\"searchresult_h_r\">\\r\\n\\t\\t\\t\\t\\t\\t<div class=\"searchresult_h_r_l\">\\r\\n\\t\\t\\t\\t\\t\\t\\t<a class=\"searchresult_h_r_l1\" href=\"javascript:void(0)\"><img src=\"newfiles/img/searchresult/pl1select.png\"></a>\\r\\n\\t\\t\\t\\t\\t\\t\\t<a class=\"searchresult_h_r_l2\" href=\"javascript:void(0)\"><img src=\"newfiles/img/searchresult/pl2.png\"></a>\\r\\n\\t\\t\\t\\t\\t\\t</div>\\r\\n\\t\\t\\t\\t\\t\\t<div class=\"searchresult_h_r_r\">\\r\\n\\t\\t\\t\\t\\t\\t\\t共135 件商品\\r\\n\\t\\t\\t\\t\\t\\t\\t<span class=prev_sh><img src=newfiles/img/searchresult/next.png></span> <span><label>1</label>/    页</span><span class=next_sh><img src=newfiles/img/searchresult/next.png></span>\\r\\n\\t\\t\\t\\t\\t\\t\\t\\r\\n\\t\\t\\t\\t\\t\\t</div>\\r\\n\\t\\t\\t\\t\\t</div>\\r\\n\\t\\t\\t\\t</div>\\r\\n\\t\\t\\t\\t<div class=\"searchresult_list pzg\">\\r\\n\\t\\t\\t\\t\\t<div class=\"searchresult_list_l pzg\">\\r\\n\\t\\t\\t\\t\\t\\t\\r\\n\\t\\t\\t\\t\\t\\t\\r\\n\\t\\t<div class=\"searchresult_item pzg\">\\r\\n\\t\\t\\t\\t\\t\\t\\t<div class=\"searchresult_item_img\"><a href=\"http://www.zazhipu.com/2007631.html\" target=\"_blank\"><img src=\"http://img1.zazhipu.com/bookpic/20224/202241394438.jpg?imageMogr2/thumbnail/300x   \"/></a></div>\\r\\n\\t\\t\\t\\t\\t\\t\\t<div class=\"searchresult_item_r\">\\r\\n\\t\\t\\t\\t\\t\\t\\t   <p class=\"showtwot\" ><a href=\"http://www.zazhipu.com/2007631.html\" target=\"_blank\">KiDS环球少年地理（与美国国家地理少儿版版权合作）（1年共12期）（杂志订阅）</a></p>\\r\\n\\t\\t\\t\\t\\t\\t\\t\\t<div class=\"showtwot_price\">\\r\\n\\t\\t\\t\\t\\t\\t\\t\\t\\t<span class=\"showtwot_price_l\"><i>￥</i>180元</span>\\r\\n\\t\\t\\t\\t\\t\\t\\t\\t\\t<span class=\"showtwot_price_c\">折</span>\\r\\n\\t\\t\\t\\t\\t\\t\\t\\t\\t<span class=\"showtwot_price_r\"><i></i><a href=\"addtocar.asp?id=1380773\">加入购物车</a></span>\\r\\n\\t\\t\\t\\t\\t\\t\\t\\t</div>\\r\\n\\t\\t\\t\\t\\t\\t\\t\\t\\r\\n\\t\\t\\t\\t\\t\\t\\t\\t<div class=\"searchresult_item_t pzg\">\\r\\n\\t\\t\\t\\t\\t\\t\\t\\t\\t<div class=\"searchresult_item_t_l\">\\r\\n\\t\\t\\t\\t\\t\\t\\t\\t\\t\\t<a href=\"http://www.zazhipu.com/2007631.html\" target=\"_blank\">KiDS环球少年地理（与美国国家地理少儿版版权合作）（1年共12期）（杂志订阅）</a>\\r\\n\\t\\t\\t\\t\\t\\t\\t\\t\\t</div>\\r\\n\\t\\t\\t\\t\\t\\t\\t\\t\\t<div class=\"searchresult_item_t_r\">\\r\\n\\t\\t\\t\\t\\t\\t\\t\\t\\t<span> Vip特惠 续订特惠 </span><span>满200减100</span> \\r\\n\\t\\t\\t\\t\\t\\t\\t\\t\\t</div>\\r\\n\\t\\t\\t\\t\\t\\t\\t\\t</div>\\r\\n\\t\\t\\t\\t\\t\\t\\t\\t<p class=\"searchresult_item_p\"> 少儿科普杂志</p>\\r\\n\\t\\t\\t\\t\\t\\t\\t\\t<div class=\"searchresult_item_goodsinfo\">\\r\\n\\t\\t\\t\\t\\t\\t\\t\\t\\t<span class=\"searchresult_item_goodsinfo_l\">杂志社:<label><a href=\"\\r\\n\\t\\t\\t\\t\\t\\thttp://www.zazhipu.com/pub/huanqiushaoniandili.html\\r\\n\\t\\t\\t\\t\\t\\t\" target=\"a_blank\">青岛出版社有限公司少</a></label></span>\\r\\n\\t\\t\\t\\t\\t\\t\\t\\t\\t<span class=\"searchresult_item_goodsinfo_r\">发行周期:<label>月刊</label></span>\\r\\n\\t\\t\\t\\t\\t\\t\\t\\t</div>\\r\\n\\t\\t\\t\\t\\t\\t\\t\\t<div class=\"searchresult_item_price\">\\r\\n\\t\\t\\t\\t\\t\\t\\t\\t\\t<span class=\"searchresult_item_price1\">市场价：<label>￥180元</label></span>\\r\\n\\t\\t\\t\\t\\t\\t\\t\\t\\t<span class=\"searchresult_item_price2\">杂志铺价：<label>￥180元    100折</label></span>\\r\\n\\t\\t\\t\\t\\t\\t\\t\\t\\t<span class=\"searchresult_item_price2\"></span>\\r\\n\\t\\t\\t\\t\\t\\t\\t\\t</div>\\r\\n\\t\\t\\t\\t\\t\\t\\t\\t<div class=\"searchresult_item_btn\">\\r\\n\\t\\t\\t\\t\\t\\t\\t\\t\\t<a href=\"addtocar.asp?id=1380773\" class=\"goods_btn1\" target=\"_blank\">立即购买</a>\\r\\n\\t\\t\\t\\t\\t\\t\\t\\t\\t<a href=\"mysc.asp?id=1380773&action=add\" class=\"goods_btn2\" target=\"_blank\"><i></i>收藏</a>\\r\\n\\t\\t\\t\\t\\t\\t\\t\\t</div>\\r\\n\\t\\t\\t\\t\\t\\t\\t</div>\\r\\n\\t\\t\\t\\t\\t\\t</div>\\r\\n\\t\\t\\r\\n\\t\\t<div class=\"searchresult_item pzg\">\\r\\n\\t\\t\\t\\t\\t\\t\\t<div class=\"searchresult_item_img\"><a href=\"http://www.zazhipu.com/2003776.html\" target=\"_blank\"><img src=\"http://img1.zazhipu.com/bookpic/20217/2021715112330.png?imageMogr2/thumbnail/300x   \"/></a></div>\\r\\n\\t\\t\\t\\t\\t\\t\\t<div class=\"searchresult_item_r\">\\r\\n\\t\\t\\t\\t\\t\\t\\t   <p class=\"showtwot\" ><a href=\"http://www.zazhipu.com/2003776.html\" target=\"_blank\">孤独星球（Lonely Planet Magazine国际中文版）（1年共12期）（杂志订阅）</a></p>\\r\\n\\t\\t\\t\\t\\t\\t\\t\\t<div class=\"showtwot_price\">\\r\\n\\t\\t\\t\\t\\t\\t\\t\\t\\t<span class=\"showtwot_price_l\"><i>￥</i>180元</span>\\r\\n\\t\\t\\t\\t\\t\\t\\t\\t\\t<span class=\"showtwot_price_c\"><lable>读书季大促：50折</lable>折</span>\\r\\n\\t\\t\\t\\t\\t\\t\\t\\t\\t<span class=\"showtwot_price_r\"><i></i><a href=\"addtocar.asp?id=1376935\">加入购物车</a></span>\\r\\n\\t\\t\\t\\t\\t\\t\\t\\t</div>\\r\\n\\t\\t\\t\\t\\t\\t\\t\\t\\r\\n\\t\\t\\t\\t\\t\\t\\t\\t<div class=\"searchresult_item_t pzg\">\\r\\n\\t\\t\\t\\t\\t\\t\\t\\t\\t<div class=\"searchresult_item_t_l\">\\r\\n\\t\\t\\t\\t\\t\\t\\t\\t\\t\\t<a href=\"http://www.zazhipu.com/2003776.html\" target=\"_blank\">孤独星球（Lonely Planet Magazine国际中文版）（1年共12期）（杂志订阅）</a>\\r\\n\\t\\t\\t\\t\\t\\t\\t\\t\\t</div>\\r\\n\\t\\t\\t\\t\\t\\t\\t\\t\\t<div class=\"searchresult_item_t_r\">\\r\\n\\t\\t\\t\\t\\t\\t\\t\\t\\t<span> Vip特惠 续订特惠 </span><span>读书季大促</span> \\r\\n\\t\\t\\t\\t\\t\\t\\t\\t\\t</div>\\r\\n\\t\\t\\t\\t\\t\\t\\t\\t</div>\\r\\n\\t\\t\\t\\t\\t\\t\\t\\t<p class=\"searchresult_item_p\"> 全球旅行者心目中不可替代的旅行圣经</p>\\r\\n\\t\\t\\t\\t\\t\\t\\t\\t<div class=\"searchresult_item_goodsinfo\">\\r\\n\\t\\t\\t\\t\\t\\t\\t\\t\\t<span class=\"searchresult_item_goodsinfo_l\">杂志社:<label><a href=\"\\r\\n\\t\\t\\t\\t\\t\\thttp://www.zazhipu.com/pub/guduxingqiu.html\\r\\n\\t\\t\\t\\t\\t\\t\" target=\"a_blank\">中国地图出版社有限公</a></label></span>\\r\\n\\t\\t\\t\\t\\t\\t\\t\\t\\t<span class=\"searchresult_item_goodsinfo_r\">发行周期:<label>月刊</label></span>\\r\\n\\t\\t\\t\\t\\t\\t\\t\\t</div>\\r\\n\\t\\t\\t\\t\\t\\t\\t\\t<div class=\"searchresult_item_price\">\\r\\n\\t\\t\\t\\t\\t\\t\\t\\t\\t<span class=\"searchresult_item_price1\">市场价：<label>￥360元</label></span>\\r\\n\\t\\t\\t\\t\\t\\t\\t\\t\\t<span class=\"searchresult_item_price2\">杂志铺价：<label>￥180元    50折</label></span>\\r\\n\\t\\t\\t\\t\\t\\t\\t\\t\\t<span class=\"searchresult_item_price2\"><lable>读书季大促：50折</lable></span>\\r\\n\\t\\t\\t\\t\\t\\t\\t\\t</div>\\r\\n\\t\\t\\t\\t\\t\\t\\t\\t<div class=\"searchresult_item_btn\">\\r\\n\\t\\t\\t\\t\\t\\t\\t\\t\\t<a href=\"addtocar.asp?id=1376935\" class=\"goods_btn1\" target=\"_blank\">立即购买</a>\\r\\n\\t\\t\\t\\t\\t\\t\\t\\t\\t<a href=\"mysc.asp?id=1376935&action=add\" class=\"goods_btn2\" target=\"_blank\"><i></i>收藏</a>\\r\\n\\t\\t\\t\\t\\t\\t\\t\\t</div>\\r\\n\\t\\t\\t\\t\\t\\t\\t</div>\\r\\n\\t\\t\\t\\t\\t\\t</div>\\r\\n\\t\\t\\r\\n\\t\\t<div class=\"searchresult_item pzg\">\\r\\n\\t\\t\\t\\t\\t\\t\\t<div class=\"searchresult_item_img\"><a href=\"http://www.zazhipu.com/2001399.html\" target=\"_blank\"><img src=\"http://img1.zazhipu.com/bookpic/20223/20223117112.png?imageMogr2/thumbnail/300x   \"/></a></div>\\r\\n\\t\\t\\t\\t\\t\\t\\t<div class=\"searchresult_item_r\">\\r\\n\\t\\t\\t\\t\\t\\t\\t   <p class=\"showtwot\" ><a href=\"http://www.zazhipu.com/2001399.html\" target=\"_blank\">美国国家地理（英文原版）National Geographic （1年共12期）（杂志订阅）</a></p>\\r\\n\\t\\t\\t\\t\\t\\t\\t\\t<div class=\"showtwot_price\">\\r\\n\\t\\t\\t\\t\\t\\t\\t\\t\\t<span class=\"showtwot_price_l\"><i>￥</i>360元</span>\\r\\n\\t\\t\\t\\t\\t\\t\\t\\t\\t<span class=\"showtwot_price_c\"><lable>读书季大促：50折</lable>折</span>\\r\\n\\t\\t\\t\\t\\t\\t\\t\\t\\t<span class=\"showtwot_price_r\"><i></i><a href=\"addtocar.asp?id=1163032\">加入购物车</a></span>\\r\\n\\t\\t\\t\\t\\t\\t\\t\\t</div>\\r\\n\\t\\t\\t\\t\\t\\t\\t\\t\\r\\n\\t\\t\\t\\t\\t\\t\\t\\t<div class=\"searchresult_item_t pzg\">\\r\\n\\t\\t\\t\\t\\t\\t\\t\\t\\t<div class=\"searchresult_item_t_l\">\\r\\n\\t\\t\\t\\t\\t\\t\\t\\t\\t\\t<a href=\"http://www.zazhipu.com/2001399.html\" target=\"_blank\">美国国家地理（英文原版）National Geographic （1年共12期）（杂志订阅）</a>\\r\\n\\t\\t\\t\\t\\t\\t\\t\\t\\t</div>\\r\\n\\t\\t\\t\\t\\t\\t\\t\\t\\t<div class=\"searchresult_item_t_r\">\\r\\n\\t\\t\\t\\t\\t\\t\\t\\t\\t<span> Vip特惠 续订特惠 </span><span>读书季大促</span> \\r\\n\\t\\t\\t\\t\\t\\t\\t\\t\\t</div>\\r\\n\\t\\t\\t\\t\\t\\t\\t\\t</div>\\r\\n\\t\\t\\t\\t\\t\\t\\t\\t<p class=\"searchresult_item_p\"> 已成为世界上广为人知的一本地理类杂志</p>\\r\\n\\t\\t\\t\\t\\t\\t\\t\\t<div class=\"searchresult_item_goodsinfo\">\\r\\n\\t\\t\\t\\t\\t\\t\\t\\t\\t<span class=\"searchresult_item_goodsinfo_l\">杂志社:<label><a href=\"\\r\\n\\t\\t\\t\\t\\t\\thttp://www.zazhipu.com/pub/meiguoguojiadili.html\\r\\n\\t\\t\\t\\t\\t\\t\" target=\"a_blank\">美国国家地理协会</a></label></span>\\r\\n\\t\\t\\t\\t\\t\\t\\t\\t\\t<span class=\"searchresult_item_goodsinfo_r\">发行周期:<label>月刊</label></span>\\r\\n\\t\\t\\t\\t\\t\\t\\t\\t</div>\\r\\n\\t\\t\\t\\t\\t\\t\\t\\t<div class=\"searchresult_item_price\">\\r\\n\\t\\t\\t\\t\\t\\t\\t\\t\\t<span class=\"searchresult_item_price1\">市场价：<label>￥720元</label></span>\\r\\n\\t\\t\\t\\t\\t\\t\\t\\t\\t<span class=\"searchresult_item_price2\">杂志铺价：<label>￥360元    50折</label></span>\\r\\n\\t\\t\\t\\t\\t\\t\\t\\t\\t<span class=\"searchresult_item_price2\"><lable>读书季大促：50折</lable></span>\\r\\n\\t\\t\\t\\t\\t\\t\\t\\t</div>\\r\\n\\t\\t\\t\\t\\t\\t\\t\\t<div class=\"searchresult_item_btn\">\\r\\n\\t\\t\\t\\t\\t\\t\\t\\t\\t<a href=\"addtocar.asp?id=1163032\" class=\"goods_btn1\" target=\"_blank\">立即购买</a>\\r\\n\\t\\t\\t\\t\\t\\t\\t\\t\\t<a href=\"mysc.asp?id=1163032&action=add\" class=\"goods_btn2\" target=\"_blank\"><i></i>收藏</a>\\r\\n\\t\\t\\t\\t\\t\\t\\t\\t</div>\\r\\n\\t\\t\\t\\t\\t\\t\\t</div>\\r\\n\\t\\t\\t\\t\\t\\t</div>\\r\\n\\t\\t\\r\\n\\t<div class=\"searchresult_item pzg\">\\r\\n\\t\\t\\t\\t\\t\\t\\t<div class=\"searchresult_item_img\"><a href=\"http://www.zazhipu.com/2001399.html\" target=\"_blank\"><img src=\"http://img.zazhipu.com/bookpic/20223/20223117112.png?imageMogr2/thumbnail/300x   \"/></a></div>\\r\\n\\t\\t\\t\\t\\t\\t\\t<div class=\"searchresult_item_r\">\\r\\n\\t\\t\\t\\t\\t\\t\\t <p class=\"showtwot\" ><span>推广</span><a href=\"http://www.zazhipu.com/2001399.html\" target=\"_blank\">美国国家地理（英文原版）National Geographic （1年共12期）（杂志订阅）</a></p>\\r\\n\\t\\t\\t\\t\\t\\t\\t\\t<div class=\"showtwot_price\">\\r\\n\\t\\t\\t\\t\\t\\t\\t\\t\\t<span class=\"showtwot_price_l\"><i>￥</i>180元</span>\\r\\n\\t\\t\\t\\t\\t\\t\\t\\t\\t<span class=\"showtwot_price_c\"><lable>读书季大促：50折</lable>折</span>\\r\\n\\t\\t\\t\\t\\t\\t\\t\\t\\t<span class=\"showtwot_price_r\"><i></i><a href=\"addtocar.asp?id=1162822\">加入购物车</a></span>\\r\\n\\t\\t\\t\\t\\t\\t\\t\\t\\t</div>\\r\\n\\t\\t\\t\\t\\t\\t\\t\\t\\r\\n\\t\\t\\t\\t\\t\\t\\t\\t<div class=\"searchresult_item_t pzg\">\\r\\n\\t\\t\\t\\t\\t\\t\\t\\t\\t<div class=\"searchresult_item_t_l\">\\r\\n\\t\\t\\t\\t\\t\\t\\t\\t\\t<span>推广</span>\\t<a href=\"http://www.zazhipu.com/2001399.html\" target=\"_blank\">美国国家地理（英文原版）National Geographic （1年共12期）（杂志订阅）</a>\\r\\n\\t\\t\\t\\t\\t\\t\\t\\t\\t</div>\\r\\n\\t\\t\\t\\t\\t\\t\\t\\t\\t<div class=\"searchresult_item_t_r\">\\r\\n\\t\\t\\t\\t\\t\\t\\t\\t\\t<span> Vip特惠 续订特惠 </span><span>读书季大促</span> \\r\\n\\t\\t\\t\\t\\t\\t\\t\\t\\t</div>\\r\\n\\t\\t\\t\\t\\t\\t\\t\\t</div>\\r\\n\\t\\t\\t\\t\\t\\t\\t\\t<p class=\"searchresult_item_p\"> 已成为世界上广为人知的一本地理类杂志</p>\\r\\n\\t\\t\\t\\t\\t\\t\\t\\t<div class=\"searchresult_item_goodsinfo\">\\r\\n\\t\\t\\t\\t\\t\\t\\t\\t\\t<span class=\"searchresult_item_goodsinfo_l\">出版单位:<label><a href=\"\\r\\n\\t\\t\\t\\t\\t\\thttp://www.zazhipu.com/pub/meiguoguojiadili.html\\r\\n\\t\\t\\t\\t\\t\\t\" target=\"a_blank\">美国国家地理协会</a></label></span>\\r\\n\\t\\t\\t\\t\\t\\t\\t\\t\\t<span class=\"searchresult_item_goodsinfo_r\">发行周期:<label>月刊</label></span>\\r\\n\\t\\t\\t\\t\\t\\t\\t\\t</div>\\r\\n\\t\\t\\t\\t\\t\\t\\t\\t<div class=\"searchresult_item_price\">\\r\\n\\t\\t\\t\\t\\t\\t\\t\\t\\t<span class=\"searchresult_item_price1\">市场价：<label>￥720</label> </span>\\r\\n\\t\\t\\t\\t\\t\\t\\t\\t\\t<span class=\"searchresult_item_price2\">杂志铺价：<label>￥360</label> </span>\\r\\n\\t\\t\\t\\t\\t\\t\\t\\t\\t<span class=\"searchresult_item_price2\"><lable>读书季大促：50折</lable></span>\\r\\n\\t\\t\\t\\t\\t\\t\\t\\t</div>\\r\\n\\t\\t\\t\\t\\t\\t\\t\\t<div class=\"searchresult_item_btn\">\\r\\n\\t\\t\\t\\t\\t\\t\\t\\t\\t<a href=\"addtocar.asp?id=1163032\" class=\"goods_btn1\" target=\"_blank\">立即购买</a>\\r\\n\\t\\t\\t\\t\\t\\t\\t\\t\\t<a href=\"mysc.asp?id=1163032&action=add\" class=\"goods_btn2\" target=\"_blank\"><i></i>收藏</a>\\r\\n\\t\\t\\t\\t\\t\\t\\t\\t</div>\\r\\n\\t\\t\\t\\t\\t\\t\\t</div>\\r\\n\\t\\t\\t\\t\\t\\t</div>\\r\\n\\t\\t\\t\\t\\t\\t\\r\\n\\t\\r\\n\\t\\r\\n\\t<div class=\"searchresult_item pzg\">\\r\\n\\t\\t\\t\\t\\t\\t\\t<div class=\"searchresult_item_img\"><a href=\"http://www.zazhipu.com/2007634.html\" target=\"_blank\"><img src=\"http://img.zazhipu.com/bookpic/20224/202241394843.jpg?imageMogr2/thumbnail/300x   \"/></a></div>\\r\\n\\t\\t\\t\\t\\t\\t\\t<div class=\"searchresult_item_r\">\\r\\n\\t\\t\\t\\t\\t\\t\\t <p class=\"showtwot\" ><span>推广</span><a href=\"http://www.zazhipu.com/2007634.html\" target=\"_blank\">探索地理（1年共12期）（杂志订阅）</a></p>\\r\\n\\t\\t\\t\\t\\t\\t\\t\\t<div class=\"showtwot_price\">\\r\\n\\t\\t\\t\\t\\t\\t\\t\\t\\t<span class=\"showtwot_price_l\"><i>￥</i>180元</span>\\r\\n\\t\\t\\t\\t\\t\\t\\t\\t\\t<span class=\"showtwot_price_c\">折</span>\\r\\n\\t\\t\\t\\t\\t\\t\\t\\t\\t<span class=\"showtwot_price_r\"><i></i><a href=\"addtocar.asp?id=1162822\">加入购物车</a></span>\\r\\n\\t\\t\\t\\t\\t\\t\\t\\t\\t</div>\\r\\n\\t\\t\\t\\t\\t\\t\\t\\t\\r\\n\\t\\t\\t\\t\\t\\t\\t\\t<div class=\"searchresult_item_t pzg\">\\r\\n\\t\\t\\t\\t\\t\\t\\t\\t\\t<div class=\"searchresult_item_t_l\">\\r\\n\\t\\t\\t\\t\\t\\t\\t\\t\\t<span>推广</span>\\t<a href=\"http://www.zazhipu.com/2007634.html\" target=\"_blank\">探索地理（1年共12期）（杂志订阅）</a>\\r\\n\\t\\t\\t\\t\\t\\t\\t\\t\\t</div>\\r\\n\\t\\t\\t\\t\\t\\t\\t\\t\\t<div class=\"searchresult_item_t_r\">\\r\\n\\t\\t\\t\\t\\t\\t\\t\\t\\t<span> Vip特惠 续订特惠 </span><span>满200减100</span> \\r\\n\\t\\t\\t\\t\\t\\t\\t\\t\\t</div>\\r\\n\\t\\t\\t\\t\\t\\t\\t\\t</div>\\r\\n\\t\\t\\t\\t\\t\\t\\t\\t<p class=\"searchresult_item_p\"> 以自然与生活相结合，培养孩子的各项能力。</p>\\r\\n\\t\\t\\t\\t\\t\\t\\t\\t<div class=\"searchresult_item_goodsinfo\">\\r\\n\\t\\t\\t\\t\\t\\t\\t\\t\\t<span class=\"searchresult_item_goodsinfo_l\">出版单位:<label><a href=\"\\r\\n\\t\\t\\t\\t\\t\\thttp://www.zazhipu.com/pub/tansuodili.html\\r\\n\\t\\t\\t\\t\\t\\t\" target=\"a_blank\">青岛出版社有限公司少</a></label></span>\\r\\n\\t\\t\\t\\t\\t\\t\\t\\t\\t<span class=\"searchresult_item_goodsinfo_r\">发行周期:<label>月刊</label></span>\\r\\n\\t\\t\\t\\t\\t\\t\\t\\t</div>\\r\\n\\t\\t\\t\\t\\t\\t\\t\\t<div class=\"searchresult_item_price\">\\r\\n\\t\\t\\t\\t\\t\\t\\t\\t\\t<span class=\"searchresult_item_price1\">市场价：<label>￥162</label> </span>\\r\\n\\t\\t\\t\\t\\t\\t\\t\\t\\t<span class=\"searchresult_item_price2\">杂志铺价：<label>￥162</label> </span>\\r\\n\\t\\t\\t\\t\\t\\t\\t\\t\\t<span class=\"searchresult_item_price2\"></span>\\r\\n\\t\\t\\t\\t\\t\\t\\t\\t</div>\\r\\n\\t\\t\\t\\t\\t\\t\\t\\t<div class=\"searchresult_item_btn\">\\r\\n\\t\\t\\t\\t\\t\\t\\t\\t\\t<a href=\"addtocar.asp?id=1380776\" class=\"goods_btn1\" target=\"_blank\">立即购买</a>\\r\\n\\t\\t\\t\\t\\t\\t\\t\\t\\t<a href=\"mysc.asp?id=1380776&action=add\" class=\"goods_btn2\" target=\"_blank\"><i></i>收藏</a>\\r\\n\\t\\t\\t\\t\\t\\t\\t\\t</div>\\r\\n\\t\\t\\t\\t\\t\\t\\t</div>\\r\\n\\t\\t\\t\\t\\t\\t</div>\\r\\n\\t\\t\\t\\t\\t\\t\\r\\n\\t\\r\\n\\t\\r\\n\\t<div class=\"searchresult_item pzg\">\\r\\n\\t\\t\\t\\t\\t\\t\\t<div class=\"searchresult_item_img\"><a href=\"http://www.zazhipu.com/2001253.html\" target=\"_blank\"><img src=\"http://img.zazhipu.com/bookpic/20223/202231616127.jpg?imageMogr2/thumbnail/300x   \"/></a></div>\\r\\n\\t\\t\\t\\t\\t\\t\\t<div class=\"searchresult_item_r\">\\r\\n\\t\\t\\t\\t\\t\\t\\t <p class=\"showtwot\" ><span>推广</span><a href=\"http://www.zazhipu.com/2001253.html\" target=\"_blank\">旅行家（1年共12期）杂志订阅</a></p>\\r\\n\\t\\t\\t\\t\\t\\t\\t\\t<div class=\"showtwot_price\">\\r\\n\\t\\t\\t\\t\\t\\t\\t\\t\\t<span class=\"showtwot_price_l\"><i>￥</i>180元</span>\\r\\n\\t\\t\\t\\t\\t\\t\\t\\t\\t<span class=\"showtwot_price_c\"><lable>读书季大促：50折</lable>折</span>\\r\\n\\t\\t\\t\\t\\t\\t\\t\\t\\t<span class=\"showtwot_price_r\"><i></i><a href=\"addtocar.asp?id=1162822\">加入购物车</a></span>\\r\\n\\t\\t\\t\\t\\t\\t\\t\\t\\t</div>\\r\\n\\t\\t\\t\\t\\t\\t\\t\\t\\r\\n\\t\\t\\t\\t\\t\\t\\t\\t<div class=\"searchresult_item_t pzg\">\\r\\n\\t\\t\\t\\t\\t\\t\\t\\t\\t<div class=\"searchresult_item_t_l\">\\r\\n\\t\\t\\t\\t\\t\\t\\t\\t\\t<span>推广</span>\\t<a href=\"http://www.zazhipu.com/2001253.html\" target=\"_blank\">旅行家（1年共12期）杂志订阅</a>\\r\\n\\t\\t\\t\\t\\t\\t\\t\\t\\t</div>\\r\\n\\t\\t\\t\\t\\t\\t\\t\\t\\t<div class=\"searchresult_item_t_r\">\\r\\n\\t\\t\\t\\t\\t\\t\\t\\t\\t<span> Vip特惠 续订特惠 </span><span>读书季大促</span> \\r\\n\\t\\t\\t\\t\\t\\t\\t\\t\\t</div>\\r\\n\\t\\t\\t\\t\\t\\t\\t\\t</div>\\r\\n\\t\\t\\t\\t\\t\\t\\t\\t<p class=\"searchresult_item_p\"> 国内最早传授旅游知识的一本专业旅游杂志</p>\\r\\n\\t\\t\\t\\t\\t\\t\\t\\t<div class=\"searchresult_item_goodsinfo\">\\r\\n\\t\\t\\t\\t\\t\\t\\t\\t\\t<span class=\"searchresult_item_goodsinfo_l\">出版单位:<label><a href=\"\\r\\n\\t\\t\\t\\t\\t\\thttp://www.zazhipu.com/pub/lvxingjia.html\\r\\n\\t\\t\\t\\t\\t\\t\" target=\"a_blank\">北京《旅行家》杂志社</a></label></span>\\r\\n\\t\\t\\t\\t\\t\\t\\t\\t\\t<span class=\"searchresult_item_goodsinfo_r\">发行周期:<label>月刊</label></span>\\r\\n\\t\\t\\t\\t\\t\\t\\t\\t</div>\\r\\n\\t\\t\\t\\t\\t\\t\\t\\t<div class=\"searchresult_item_price\">\\r\\n\\t\\t\\t\\t\\t\\t\\t\\t\\t<span class=\"searchresult_item_price1\">市场价：<label>￥360</label> </span>\\r\\n\\t\\t\\t\\t\\t\\t\\t\\t\\t<span class=\"searchresult_item_price2\">杂志铺价：<label>￥180</label> </span>\\r\\n\\t\\t\\t\\t\\t\\t\\t\\t\\t<span class=\"searchresult_item_price2\"><lable>读书季大促：50折</lable></span>\\r\\n\\t\\t\\t\\t\\t\\t\\t\\t</div>\\r\\n\\t\\t\\t\\t\\t\\t\\t\\t<div class=\"searchresult_item_btn\">\\r\\n\\t\\t\\t\\t\\t\\t\\t\\t\\t<a href=\"addtocar.asp?id=1162822\" class=\"goods_btn1\" target=\"_blank\">立即购买</a>\\r\\n\\t\\t\\t\\t\\t\\t\\t\\t\\t<a href=\"mysc.asp?id=1162822&action=add\" class=\"goods_btn2\" target=\"_blank\"><i></i>收藏</a>\\r\\n\\t\\t\\t\\t\\t\\t\\t\\t</div>\\r\\n\\t\\t\\t\\t\\t\\t\\t</div>\\r\\n\\t\\t\\t\\t\\t\\t</div>\\r\\n\\t\\t\\t\\t\\t\\t\\r\\n\\t\\r\\n\\t\\r\\n\\t\\t<div class=\"searchresult_item pzg\">\\r\\n\\t\\t\\t\\t\\t\\t\\t<div class=\"searchresult_item_img\"><a href=\"http://www.zazhipu.com/2001253.html\" target=\"_blank\"><img src=\"http://img1.zazhipu.com/bookpic/20223/202231616127.jpg?imageMogr2/thumbnail/300x   \"/></a></div>\\r\\n\\t\\t\\t\\t\\t\\t\\t<div class=\"searchresult_item_r\">\\r\\n\\t\\t\\t\\t\\t\\t\\t   <p class=\"showtwot\" ><a href=\"http://www.zazhipu.com/2001253.html\" target=\"_blank\">旅行家（1年共12期）杂志订阅</a></p>\\r\\n\\t\\t\\t\\t\\t\\t\\t\\t<div class=\"showtwot_price\">\\r\\n\\t\\t\\t\\t\\t\\t\\t\\t\\t<span class=\"showtwot_price_l\"><i>￥</i>180元</span>\\r\\n\\t\\t\\t\\t\\t\\t\\t\\t\\t<span class=\"showtwot_price_c\"><lable>读书季大促：50折</lable>折</span>\\r\\n\\t\\t\\t\\t\\t\\t\\t\\t\\t<span class=\"showtwot_price_r\"><i></i><a href=\"addtocar.asp?id=1162822\">加入购物车</a></span>\\r\\n\\t\\t\\t\\t\\t\\t\\t\\t</div>\\r\\n\\t\\t\\t\\t\\t\\t\\t\\t\\r\\n\\t\\t\\t\\t\\t\\t\\t\\t<div class=\"searchresult_item_t pzg\">\\r\\n\\t\\t\\t\\t\\t\\t\\t\\t\\t<div class=\"searchresult_item_t_l\">\\r\\n\\t\\t\\t\\t\\t\\t\\t\\t\\t\\t<a href=\"http://www.zazhipu.com/2001253.html\" target=\"_blank\">旅行家（1年共12期）杂志订阅</a>\\r\\n\\t\\t\\t\\t\\t\\t\\t\\t\\t</div>\\r\\n\\t\\t\\t\\t\\t\\t\\t\\t\\t<div class=\"searchresult_item_t_r\">\\r\\n\\t\\t\\t\\t\\t\\t\\t\\t\\t<span> Vip特惠 续订特惠 </span><span>读书季大促</span> \\r\\n\\t\\t\\t\\t\\t\\t\\t\\t\\t</div>\\r\\n\\t\\t\\t\\t\\t\\t\\t\\t</div>\\r\\n\\t\\t\\t\\t\\t\\t\\t\\t<p class=\"searchresult_item_p\"> 国内最早传授旅游知识的一本专业旅游杂志</p>\\r\\n\\t\\t\\t\\t\\t\\t\\t\\t<div class=\"searchresult_item_goodsinfo\">\\r\\n\\t\\t\\t\\t\\t\\t\\t\\t\\t<span class=\"searchresult_item_goodsinfo_l\">杂志社:<label><a href=\"\\r\\n\\t\\t\\t\\t\\t\\thttp://www.zazhipu.com/pub/lvxingjia.html\\r\\n\\t\\t\\t\\t\\t\\t\" target=\"a_blank\">北京《旅行家》杂志社</a></label></span>\\r\\n\\t\\t\\t\\t\\t\\t\\t\\t\\t<span class=\"searchresult_item_goodsinfo_r\">发行周期:<label>月刊</label></span>\\r\\n\\t\\t\\t\\t\\t\\t\\t\\t</div>\\r\\n\\t\\t\\t\\t\\t\\t\\t\\t<div class=\"searchresult_item_price\">\\r\\n\\t\\t\\t\\t\\t\\t\\t\\t\\t<span class=\"searchresult_item_price1\">市场价：<label>￥360元</label></span>\\r\\n\\t\\t\\t\\t\\t\\t\\t\\t\\t<span class=\"searchresult_item_price2\">杂志铺价：<label>￥180元    50折</label></span>\\r\\n\\t\\t\\t\\t\\t\\t\\t\\t\\t<span class=\"searchresult_item_price2\"><lable>读书季大促：50折</lable></span>\\r\\n\\t\\t\\t\\t\\t\\t\\t\\t</div>\\r\\n\\t\\t\\t\\t\\t\\t\\t\\t<div class=\"searchresult_item_btn\">\\r\\n\\t\\t\\t\\t\\t\\t\\t\\t\\t<a href=\"addtocar.asp?id=1162822\" class=\"goods_btn1\" target=\"_blank\">立即购买</a>\\r\\n\\t\\t\\t\\t\\t\\t\\t\\t\\t<a href=\"mysc.asp?id=1162822&action=add\" class=\"goods_btn2\" target=\"_blank\"><i></i>收藏</a>\\r\\n\\t\\t\\t\\t\\t\\t\\t\\t</div>\\r\\n\\t\\t\\t\\t\\t\\t\\t</div>\\r\\n\\t\\t\\t\\t\\t\\t</div>\\r\\n\\t\\t\\r\\n\\t\\t<div class=\"searchresult_item pzg\">\\r\\n\\t\\t\\t\\t\\t\\t\\t<div class=\"searchresult_item_img\"><a href=\"http://www.zazhipu.com/2001921.html\" target=\"_blank\"><img src=\"http://img1.zazhipu.com/bookpic/20218/202185141748.png?imageMogr2/thumbnail/300x   \"/></a></div>\\r\\n\\t\\t\\t\\t\\t\\t\\t<div class=\"searchresult_item_r\">\\r\\n\\t\\t\\t\\t\\t\\t\\t   <p class=\"showtwot\" ><a href=\"http://www.zazhipu.com/2001921.html\" target=\"_blank\">大自然探索（1年共12期）（杂志订阅）</a></p>\\r\\n\\t\\t\\t\\t\\t\\t\\t\\t<div class=\"showtwot_price\">\\r\\n\\t\\t\\t\\t\\t\\t\\t\\t\\t<span class=\"showtwot_price_l\"><i>￥</i>108元</span>\\r\\n\\t\\t\\t\\t\\t\\t\\t\\t\\t<span class=\"showtwot_price_c\"><lable>读书季大促：50折</lable>折</span>\\r\\n\\t\\t\\t\\t\\t\\t\\t\\t\\t<span class=\"showtwot_price_r\"><i></i><a href=\"addtocar.asp?id=1161738\">加入购物车</a></span>\\r\\n\\t\\t\\t\\t\\t\\t\\t\\t</div>\\r\\n\\t\\t\\t\\t\\t\\t\\t\\t\\r\\n\\t\\t\\t\\t\\t\\t\\t\\t<div class=\"searchresult_item_t pzg\">\\r\\n\\t\\t\\t\\t\\t\\t\\t\\t\\t<div class=\"searchresult_item_t_l\">\\r\\n\\t\\t\\t\\t\\t\\t\\t\\t\\t\\t<a href=\"http://www.zazhipu.com/2001921.html\" target=\"_blank\">大自然探索（1年共12期）（杂志订阅）</a>\\r\\n\\t\\t\\t\\t\\t\\t\\t\\t\\t</div>\\r\\n\\t\\t\\t\\t\\t\\t\\t\\t\\t<div class=\"searchresult_item_t_r\">\\r\\n\\t\\t\\t\\t\\t\\t\\t\\t\\t<span> Vip特惠 续订特惠 </span><span>读书季大促</span> \\r\\n\\t\\t\\t\\t\\t\\t\\t\\t\\t</div>\\r\\n\\t\\t\\t\\t\\t\\t\\t\\t</div>\\r\\n\\t\\t\\t\\t\\t\\t\\t\\t<p class=\"searchresult_item_p\"> 揭示自然奥秘，再现探索历程</p>\\r\\n\\t\\t\\t\\t\\t\\t\\t\\t<div class=\"searchresult_item_goodsinfo\">\\r\\n\\t\\t\\t\\t\\t\\t\\t\\t\\t<span class=\"searchresult_item_goodsinfo_l\">杂志社:<label><a href=\"\\r\\n\\t\\t\\t\\t\\t\\thttp://www.zazhipu.com/pub/dazirantansuo.html\\r\\n\\t\\t\\t\\t\\t\\t\" target=\"a_blank\">大自然探索编辑部</a></label></span>\\r\\n\\t\\t\\t\\t\\t\\t\\t\\t\\t<span class=\"searchresult_item_goodsinfo_r\">发行周期:<label>月刊</label></span>\\r\\n\\t\\t\\t\\t\\t\\t\\t\\t</div>\\r\\n\\t\\t\\t\\t\\t\\t\\t\\t<div class=\"searchresult_item_price\">\\r\\n\\t\\t\\t\\t\\t\\t\\t\\t\\t<span class=\"searchresult_item_price1\">市场价：<label>￥144元</label></span>\\r\\n\\t\\t\\t\\t\\t\\t\\t\\t\\t<span class=\"searchresult_item_price2\">杂志铺价：<label>￥108元    75折</label></span>\\r\\n\\t\\t\\t\\t\\t\\t\\t\\t\\t<span class=\"searchresult_item_price2\"><lable>读书季大促：50折</lable></span>\\r\\n\\t\\t\\t\\t\\t\\t\\t\\t</div>\\r\\n\\t\\t\\t\\t\\t\\t\\t\\t<div class=\"searchresult_item_btn\">\\r\\n\\t\\t\\t\\t\\t\\t\\t\\t\\t<a href=\"addtocar.asp?id=1161738\" class=\"goods_btn1\" target=\"_blank\">立即购买</a>\\r\\n\\t\\t\\t\\t\\t\\t\\t\\t\\t<a href=\"mysc.asp?id=1161738&action=add\" class=\"goods_btn2\" target=\"_blank\"><i></i>收藏</a>\\r\\n\\t\\t\\t\\t\\t\\t\\t\\t</div>\\r\\n\\t\\t\\t\\t\\t\\t\\t</div>\\r\\n\\t\\t\\t\\t\\t\\t</div>\\r\\n\\t\\t\\r\\n\\t\\t<div class=\"searchresult_item pzg\">\\r\\n\\t\\t\\t\\t\\t\\t\\t<div class=\"searchresult_item_img\"><a href=\"http://www.zazhipu.com/2015268.html\" target=\"_blank\"><img src=\"http://img1.zazhipu.com/bookpic/20218/20218514235.png?imageMogr2/thumbnail/300x   \"/></a></div>\\r\\n\\t\\t\\t\\t\\t\\t\\t<div class=\"searchresult_item_r\">\\r\\n\\t\\t\\t\\t\\t\\t\\t   <p class=\"showtwot\" ><a href=\"http://www.zazhipu.com/2015268.html\" target=\"_blank\">中国三峡河流地理与水文化（杂志订阅）（1年共12期）</a></p>\\r\\n\\t\\t\\t\\t\\t\\t\\t\\t<div class=\"showtwot_price\">\\r\\n\\t\\t\\t\\t\\t\\t\\t\\t\\t<span class=\"showtwot_price_l\"><i>￥</i>180元</span>\\r\\n\\t\\t\\t\\t\\t\\t\\t\\t\\t<span class=\"showtwot_price_c\"><lable>读书季大促：50折</lable>折</span>\\r\\n\\t\\t\\t\\t\\t\\t\\t\\t\\t<span class=\"showtwot_price_r\"><i></i><a href=\"addtocar.asp?id=1388348\">加入购物车</a></span>\\r\\n\\t\\t\\t\\t\\t\\t\\t\\t</div>\\r\\n\\t\\t\\t\\t\\t\\t\\t\\t\\r\\n\\t\\t\\t\\t\\t\\t\\t\\t<div class=\"searchresult_item_t pzg\">\\r\\n\\t\\t\\t\\t\\t\\t\\t\\t\\t<div class=\"searchresult_item_t_l\">\\r\\n\\t\\t\\t\\t\\t\\t\\t\\t\\t\\t<a href=\"http://www.zazhipu.com/2015268.html\" target=\"_blank\">中国三峡河流地理与水文化（杂志订阅）（1年共12期）</a>\\r\\n\\t\\t\\t\\t\\t\\t\\t\\t\\t</div>\\r\\n\\t\\t\\t\\t\\t\\t\\t\\t\\t<div class=\"searchresult_item_t_r\">\\r\\n\\t\\t\\t\\t\\t\\t\\t\\t\\t<span> Vip特惠 续订特惠 </span><span>读书季大促</span> \\r\\n\\t\\t\\t\\t\\t\\t\\t\\t\\t</div>\\r\\n\\t\\t\\t\\t\\t\\t\\t\\t</div>\\r\\n\\t\\t\\t\\t\\t\\t\\t\\t<p class=\"searchresult_item_p\"> </p>\\r\\n\\t\\t\\t\\t\\t\\t\\t\\t<div class=\"searchresult_item_goodsinfo\">\\r\\n\\t\\t\\t\\t\\t\\t\\t\\t\\t<span class=\"searchresult_item_goodsinfo_l\">杂志社:<label><a href=\"\\r\\n\\t\\t\\t\\t\\t\\tzazhishe.asp?seachkey=中国三峡河流地理与水文化\\r\\n\\t\\t\\t\\t\\t\\t\" target=\"a_blank\">长江三峡集团传媒有限</a></label></span>\\r\\n\\t\\t\\t\\t\\t\\t\\t\\t\\t<span class=\"searchresult_item_goodsinfo_r\">发行周期:<label>月刊</label></span>\\r\\n\\t\\t\\t\\t\\t\\t\\t\\t</div>\\r\\n\\t\\t\\t\\t\\t\\t\\t\\t<div class=\"searchresult_item_price\">\\r\\n\\t\\t\\t\\t\\t\\t\\t\\t\\t<span class=\"searchresult_item_price1\">市场价：<label>￥240元</label></span>\\r\\n\\t\\t\\t\\t\\t\\t\\t\\t\\t<span class=\"searchresult_item_price2\">杂志铺价：<label>￥180元    75折</label></span>\\r\\n\\t\\t\\t\\t\\t\\t\\t\\t\\t<span class=\"searchresult_item_price2\"><lable>读书季大促：50折</lable></span>\\r\\n\\t\\t\\t\\t\\t\\t\\t\\t</div>\\r\\n\\t\\t\\t\\t\\t\\t\\t\\t<div class=\"searchresult_item_btn\">\\r\\n\\t\\t\\t\\t\\t\\t\\t\\t\\t<a href=\"addtocar.asp?id=1388348\" class=\"goods_btn1\" target=\"_blank\">立即购买</a>\\r\\n\\t\\t\\t\\t\\t\\t\\t\\t\\t<a href=\"mysc.asp?id=1388348&action=add\" class=\"goods_btn2\" target=\"_blank\"><i></i>收藏</a>\\r\\n\\t\\t\\t\\t\\t\\t\\t\\t</div>\\r\\n\\t\\t\\t\\t\\t\\t\\t</div>\\r\\n\\t\\t\\t\\t\\t\\t</div>\\r\\n\\t\\t\\r\\n\\t\\t<div class=\"searchresult_item pzg\">\\r\\n\\t\\t\\t\\t\\t\\t\\t<div class=\"searchresult_item_img\"><a href=\"http://www.zazhipu.com/2007634.html\" target=\"_blank\"><img src=\"http://img1.zazhipu.com/bookpic/20224/202241394843.jpg?imageMogr2/thumbnail/300x   \"/></a></div>\\r\\n\\t\\t\\t\\t\\t\\t\\t<div class=\"searchresult_item_r\">\\r\\n\\t\\t\\t\\t\\t\\t\\t   <p class=\"showtwot\" ><a href=\"http://www.zazhipu.com/2007634.html\" target=\"_blank\">探索地理（1年共12期）（杂志订阅）</a></p>\\r\\n\\t\\t\\t\\t\\t\\t\\t\\t<div class=\"showtwot_price\">\\r\\n\\t\\t\\t\\t\\t\\t\\t\\t\\t<span class=\"showtwot_price_l\"><i>￥</i>162元</span>\\r\\n\\t\\t\\t\\t\\t\\t\\t\\t\\t<span class=\"showtwot_price_c\">折</span>\\r\\n\\t\\t\\t\\t\\t\\t\\t\\t\\t<span class=\"showtwot_price_r\"><i></i><a href=\"addtocar.asp?id=1380776\">加入购物车</a></span>\\r\\n\\t\\t\\t\\t\\t\\t\\t\\t</div>\\r\\n\\t\\t\\t\\t\\t\\t\\t\\t\\r\\n\\t\\t\\t\\t\\t\\t\\t\\t<div class=\"searchresult_item_t pzg\">\\r\\n\\t\\t\\t\\t\\t\\t\\t\\t\\t<div class=\"searchresult_item_t_l\">\\r\\n\\t\\t\\t\\t\\t\\t\\t\\t\\t\\t<a href=\"http://www.zazhipu.com/2007634.html\" target=\"_blank\">探索地理（1年共12期）（杂志订阅）</a>\\r\\n\\t\\t\\t\\t\\t\\t\\t\\t\\t</div>\\r\\n\\t\\t\\t\\t\\t\\t\\t\\t\\t<div class=\"searchresult_item_t_r\">\\r\\n\\t\\t\\t\\t\\t\\t\\t\\t\\t<span> Vip特惠 续订特惠 </span><span>满200减100</span> \\r\\n\\t\\t\\t\\t\\t\\t\\t\\t\\t</div>\\r\\n\\t\\t\\t\\t\\t\\t\\t\\t</div>\\r\\n\\t\\t\\t\\t\\t\\t\\t\\t<p class=\"searchresult_item_p\"> 以自然与生活相结合，培养孩子的各项能力。</p>\\r\\n\\t\\t\\t\\t\\t\\t\\t\\t<div class=\"searchresult_item_goodsinfo\">\\r\\n\\t\\t\\t\\t\\t\\t\\t\\t\\t<span class=\"searchresult_item_goodsinfo_l\">杂志社:<label><a href=\"\\r\\n\\t\\t\\t\\t\\t\\thttp://www.zazhipu.com/pub/tansuodili.html\\r\\n\\t\\t\\t\\t\\t\\t\" target=\"a_blank\">青岛出版社有限公司少</a></label></span>\\r\\n\\t\\t\\t\\t\\t\\t\\t\\t\\t<span class=\"searchresult_item_goodsinfo_r\">发行周期:<label>月刊</label></span>\\r\\n\\t\\t\\t\\t\\t\\t\\t\\t</div>\\r\\n\\t\\t\\t\\t\\t\\t\\t\\t<div class=\"searchresult_item_price\">\\r\\n\\t\\t\\t\\t\\t\\t\\t\\t\\t<span class=\"searchresult_item_price1\">市场价：<label>￥162元</label></span>\\r\\n\\t\\t\\t\\t\\t\\t\\t\\t\\t<span class=\"searchresult_item_price2\">杂志铺价：<label>￥162元    100折</label></span>\\r\\n\\t\\t\\t\\t\\t\\t\\t\\t\\t<span class=\"searchresult_item_price2\"></span>\\r\\n\\t\\t\\t\\t\\t\\t\\t\\t</div>\\r\\n\\t\\t\\t\\t\\t\\t\\t\\t<div class=\"searchresult_item_btn\">\\r\\n\\t\\t\\t\\t\\t\\t\\t\\t\\t<a href=\"addtocar.asp?id=1380776\" class=\"goods_btn1\" target=\"_blank\">立即购买</a>\\r\\n\\t\\t\\t\\t\\t\\t\\t\\t\\t<a href=\"mysc.asp?id=1380776&action=add\" class=\"goods_btn2\" target=\"_blank\"><i></i>收藏</a>\\r\\n\\t\\t\\t\\t\\t\\t\\t\\t</div>\\r\\n\\t\\t\\t\\t\\t\\t\\t</div>\\r\\n\\t\\t\\t\\t\\t\\t</div>\\r\\n\\t\\t\\r\\n\\t\\t<div class=\"searchresult_item pzg\">\\r\\n\\t\\t\\t\\t\\t\\t\\t<div class=\"searchresult_item_img\"><a href=\"http://www.zazhipu.com/2008286.html\" target=\"_blank\"><img src=\"http://img1.zazhipu.com/bookpic/20222/2022217105715.png?imageMogr2/thumbnail/300x   \"/></a></div>\\r\\n\\t\\t\\t\\t\\t\\t\\t<div class=\"searchresult_item_r\">\\r\\n\\t\\t\\t\\t\\t\\t\\t   <p class=\"showtwot\" ><a href=\"http://www.zazhipu.com/2008286.html\" target=\"_blank\">美国国家地理幼儿版3-6岁（英文原版）National Geographic  Little Kids（1年共6期）（杂志订阅）</a></p>\\r\\n\\t\\t\\t\\t\\t\\t\\t\\t<div class=\"showtwot_price\">\\r\\n\\t\\t\\t\\t\\t\\t\\t\\t\\t<span class=\"showtwot_price_l\"><i>￥</i>150元</span>\\r\\n\\t\\t\\t\\t\\t\\t\\t\\t\\t<span class=\"showtwot_price_c\"><lable>读书季大促：50折</lable>折</span>\\r\\n\\t\\t\\t\\t\\t\\t\\t\\t\\t<span class=\"showtwot_price_r\"><i></i><a href=\"addtocar.asp?id=1381422\">加入购物车</a></span>\\r\\n\\t\\t\\t\\t\\t\\t\\t\\t</div>\\r\\n\\t\\t\\t\\t\\t\\t\\t\\t\\r\\n\\t\\t\\t\\t\\t\\t\\t\\t<div class=\"searchresult_item_t pzg\">\\r\\n\\t\\t\\t\\t\\t\\t\\t\\t\\t<div class=\"searchresult_item_t_l\">\\r\\n\\t\\t\\t\\t\\t\\t\\t\\t\\t\\t<a href=\"http://www.zazhipu.com/2008286.html\" target=\"_blank\">美国国家地理幼儿版3-6岁（英文原版）National Geographic  Little Kids（1年共6期）（杂志订阅）</a>\\r\\n\\t\\t\\t\\t\\t\\t\\t\\t\\t</div>\\r\\n\\t\\t\\t\\t\\t\\t\\t\\t\\t<div class=\"searchresult_item_t_r\">\\r\\n\\t\\t\\t\\t\\t\\t\\t\\t\\t<span> Vip特惠 续订特惠 </span><span>读书季大促</span> \\r\\n\\t\\t\\t\\t\\t\\t\\t\\t\\t</div>\\r\\n\\t\\t\\t\\t\\t\\t\\t\\t</div>\\r\\n\\t\\t\\t\\t\\t\\t\\t\\t<p class=\"searchresult_item_p\"> 1年共6期 自然植物科学 提升英语学习</p>\\r\\n\\t\\t\\t\\t\\t\\t\\t\\t<div class=\"searchresult_item_goodsinfo\">\\r\\n\\t\\t\\t\\t\\t\\t\\t\\t\\t<span class=\"searchresult_item_goodsinfo_l\">杂志社:<label><a href=\"\\r\\n\\t\\t\\t\\t\\t\\thttp://www.zazhipu.com/pub/youerguojiadili.html\\r\\n\\t\\t\\t\\t\\t\\t\" target=\"a_blank\">美国国家地理协会</a></label></span>\\r\\n\\t\\t\\t\\t\\t\\t\\t\\t\\t<span class=\"searchresult_item_goodsinfo_r\">发行周期:<label>双月刊</label></span>\\r\\n\\t\\t\\t\\t\\t\\t\\t\\t</div>\\r\\n\\t\\t\\t\\t\\t\\t\\t\\t<div class=\"searchresult_item_price\">\\r\\n\\t\\t\\t\\t\\t\\t\\t\\t\\t<span class=\"searchresult_item_price1\">市场价：<label>￥300元</label></span>\\r\\n\\t\\t\\t\\t\\t\\t\\t\\t\\t<span class=\"searchresult_item_price2\">杂志铺价：<label>￥150元    50折</label></span>\\r\\n\\t\\t\\t\\t\\t\\t\\t\\t\\t<span class=\"searchresult_item_price2\"><lable>读书季大促：50折</lable></span>\\r\\n\\t\\t\\t\\t\\t\\t\\t\\t</div>\\r\\n\\t\\t\\t\\t\\t\\t\\t\\t<div class=\"searchresult_item_btn\">\\r\\n\\t\\t\\t\\t\\t\\t\\t\\t\\t<a href=\"addtocar.asp?id=1381422\" class=\"goods_btn1\" target=\"_blank\">立即购买</a>\\r\\n\\t\\t\\t\\t\\t\\t\\t\\t\\t<a href=\"mysc.asp?id=1381422&action=add\" class=\"goods_btn2\" target=\"_blank\"><i></i>收藏</a>\\r\\n\\t\\t\\t\\t\\t\\t\\t\\t</div>\\r\\n\\t\\t\\t\\t\\t\\t\\t</div>\\r\\n\\t\\t\\t\\t\\t\\t</div>\\r\\n\\t\\t\\r\\n\\t\\t<div class=\"searchresult_item pzg\">\\r\\n\\t\\t\\t\\t\\t\\t\\t<div class=\"searchresult_item_img\"><a href=\"http://www.zazhipu.com/2002401.html\" target=\"_blank\"><img src=\"http://img1.zazhipu.com/bookpic/20222/2022217105216.png?imageMogr2/thumbnail/300x   \"/></a></div>\\r\\n\\t\\t\\t\\t\\t\\t\\t<div class=\"searchresult_item_r\">\\r\\n\\t\\t\\t\\t\\t\\t\\t   <p class=\"showtwot\" ><a href=\"http://www.zazhipu.com/2002401.html\" target=\"_blank\">美国国家地理儿童版（英文原版）National Geographic Kids（1年共10期）（杂志订阅）</a></p>\\r\\n\\t\\t\\t\\t\\t\\t\\t\\t<div class=\"showtwot_price\">\\r\\n\\t\\t\\t\\t\\t\\t\\t\\t\\t<span class=\"showtwot_price_l\"><i>￥</i>300元</span>\\r\\n\\t\\t\\t\\t\\t\\t\\t\\t\\t<span class=\"showtwot_price_c\"><lable>读书季大促：50折</lable>折</span>\\r\\n\\t\\t\\t\\t\\t\\t\\t\\t\\t<span class=\"showtwot_price_r\"><i></i><a href=\"addtocar.asp?id=1341786\">加入购物车</a></span>\\r\\n\\t\\t\\t\\t\\t\\t\\t\\t</div>\\r\\n\\t\\t\\t\\t\\t\\t\\t\\t\\r\\n\\t\\t\\t\\t\\t\\t\\t\\t<div class=\"searchresult_item_t pzg\">\\r\\n\\t\\t\\t\\t\\t\\t\\t\\t\\t<div class=\"searchresult_item_t_l\">\\r\\n\\t\\t\\t\\t\\t\\t\\t\\t\\t\\t<a href=\"http://www.zazhipu.com/2002401.html\" target=\"_blank\">美国国家地理儿童版（英文原版）National Geographic Kids（1年共10期）（杂志订阅）</a>\\r\\n\\t\\t\\t\\t\\t\\t\\t\\t\\t</div>\\r\\n\\t\\t\\t\\t\\t\\t\\t\\t\\t<div class=\"searchresult_item_t_r\">\\r\\n\\t\\t\\t\\t\\t\\t\\t\\t\\t<span> Vip特惠 续订特惠 </span><span>读书季大促</span> \\r\\n\\t\\t\\t\\t\\t\\t\\t\\t\\t</div>\\r\\n\\t\\t\\t\\t\\t\\t\\t\\t</div>\\r\\n\\t\\t\\t\\t\\t\\t\\t\\t<p class=\"searchresult_item_p\"> 专为8-14岁少儿量身打造</p>\\r\\n\\t\\t\\t\\t\\t\\t\\t\\t<div class=\"searchresult_item_goodsinfo\">\\r\\n\\t\\t\\t\\t\\t\\t\\t\\t\\t<span class=\"searchresult_item_goodsinfo_l\">杂志社:<label><a href=\"\\r\\n\\t\\t\\t\\t\\t\\tzazhishe.asp?seachkey=NG KiDS儿童国家地理（英文）\\r\\n\\t\\t\\t\\t\\t\\t\" target=\"a_blank\">美国国家地理协会</a></label></span>\\r\\n\\t\\t\\t\\t\\t\\t\\t\\t\\t<span class=\"searchresult_item_goodsinfo_r\">发行周期:<label>月刊</label></span>\\r\\n\\t\\t\\t\\t\\t\\t\\t\\t</div>\\r\\n\\t\\t\\t\\t\\t\\t\\t\\t<div class=\"searchresult_item_price\">\\r\\n\\t\\t\\t\\t\\t\\t\\t\\t\\t<span class=\"searchresult_item_price1\">市场价：<label>￥600元</label></span>\\r\\n\\t\\t\\t\\t\\t\\t\\t\\t\\t<span class=\"searchresult_item_price2\">杂志铺价：<label>￥300元    50折</label></span>\\r\\n\\t\\t\\t\\t\\t\\t\\t\\t\\t<span class=\"searchresult_item_price2\"><lable>读书季大促：50折</lable></span>\\r\\n\\t\\t\\t\\t\\t\\t\\t\\t</div>\\r\\n\\t\\t\\t\\t\\t\\t\\t\\t<div class=\"searchresult_item_btn\">\\r\\n\\t\\t\\t\\t\\t\\t\\t\\t\\t<a href=\"addtocar.asp?id=1341786\" class=\"goods_btn1\" target=\"_blank\">立即购买</a>\\r\\n\\t\\t\\t\\t\\t\\t\\t\\t\\t<a href=\"mysc.asp?id=1341786&action=add\" class=\"goods_btn2\" target=\"_blank\"><i></i>收藏</a>\\r\\n\\t\\t\\t\\t\\t\\t\\t\\t</div>\\r\\n\\t\\t\\t\\t\\t\\t\\t</div>\\r\\n\\t\\t\\t\\t\\t\\t</div>\\r\\n\\t\\t\\r\\n\\t\\t<div class=\"searchresult_item pzg\">\\r\\n\\t\\t\\t\\t\\t\\t\\t<div class=\"searchresult_item_img\"><a href=\"http://www.zazhipu.com/2002878.html\" target=\"_blank\"><img src=\"http://img1.zazhipu.com/bookpic/20223/2022322153939.jpg?imageMogr2/thumbnail/300x   \"/></a></div>\\r\\n\\t\\t\\t\\t\\t\\t\\t<div class=\"searchresult_item_r\">\\r\\n\\t\\t\\t\\t\\t\\t\\t   <p class=\"showtwot\" ><a href=\"http://www.zazhipu.com/2002878.html\" target=\"_blank\">中国国家地理（1年共12期）（杂志订阅）</a></p>\\r\\n\\t\\t\\t\\t\\t\\t\\t\\t<div class=\"showtwot_price\">\\r\\n\\t\\t\\t\\t\\t\\t\\t\\t\\t<span class=\"showtwot_price_l\"><i>￥</i>288元</span>\\r\\n\\t\\t\\t\\t\\t\\t\\t\\t\\t<span class=\"showtwot_price_c\"><lable>读书季大促：80折</lable>折</span>\\r\\n\\t\\t\\t\\t\\t\\t\\t\\t\\t<span class=\"showtwot_price_r\"><i></i><a href=\"addtocar.asp?id=1160199\">加入购物车</a></span>\\r\\n\\t\\t\\t\\t\\t\\t\\t\\t</div>\\r\\n\\t\\t\\t\\t\\t\\t\\t\\t\\r\\n\\t\\t\\t\\t\\t\\t\\t\\t<div class=\"searchresult_item_t pzg\">\\r\\n\\t\\t\\t\\t\\t\\t\\t\\t\\t<div class=\"searchresult_item_t_l\">\\r\\n\\t\\t\\t\\t\\t\\t\\t\\t\\t\\t<a href=\"http://www.zazhipu.com/2002878.html\" target=\"_blank\">中国国家地理（1年共12期）（杂志订阅）</a>\\r\\n\\t\\t\\t\\t\\t\\t\\t\\t\\t</div>\\r\\n\\t\\t\\t\\t\\t\\t\\t\\t\\t<div class=\"searchresult_item_t_r\">\\r\\n\\t\\t\\t\\t\\t\\t\\t\\t\\t<span> Vip特惠 续订特惠 </span><span>读书季大促</span> \\r\\n\\t\\t\\t\\t\\t\\t\\t\\t\\t</div>\\r\\n\\t\\t\\t\\t\\t\\t\\t\\t</div>\\r\\n\\t\\t\\t\\t\\t\\t\\t\\t<p class=\"searchresult_item_p\"> 面向社会具权威性的地理旅游指南</p>\\r\\n\\t\\t\\t\\t\\t\\t\\t\\t<div class=\"searchresult_item_goodsinfo\">\\r\\n\\t\\t\\t\\t\\t\\t\\t\\t\\t<span class=\"searchresult_item_goodsinfo_l\">杂志社:<label><a href=\"\\r\\n\\t\\t\\t\\t\\t\\thttp://www.zazhipu.com/pub/zhongguoguojiadili.html\\r\\n\\t\\t\\t\\t\\t\\t\" target=\"a_blank\">《中国国家地理》杂志</a></label></span>\\r\\n\\t\\t\\t\\t\\t\\t\\t\\t\\t<span class=\"searchresult_item_goodsinfo_r\">发行周期:<label>月刊</label></span>\\r\\n\\t\\t\\t\\t\\t\\t\\t\\t</div>\\r\\n\\t\\t\\t\\t\\t\\t\\t\\t<div class=\"searchresult_item_price\">\\r\\n\\t\\t\\t\\t\\t\\t\\t\\t\\t<span class=\"searchresult_item_price1\">市场价：<label>￥360元</label></span>\\r\\n\\t\\t\\t\\t\\t\\t\\t\\t\\t<span class=\"searchresult_item_price2\">杂志铺价：<label>￥288元    80折</label></span>\\r\\n\\t\\t\\t\\t\\t\\t\\t\\t\\t<span class=\"searchresult_item_price2\"><lable>读书季大促：80折</lable></span>\\r\\n\\t\\t\\t\\t\\t\\t\\t\\t</div>\\r\\n\\t\\t\\t\\t\\t\\t\\t\\t<div class=\"searchresult_item_btn\">\\r\\n\\t\\t\\t\\t\\t\\t\\t\\t\\t<a href=\"addtocar.asp?id=1160199\" class=\"goods_btn1\" target=\"_blank\">立即购买</a>\\r\\n\\t\\t\\t\\t\\t\\t\\t\\t\\t<a href=\"mysc.asp?id=1160199&action=add\" class=\"goods_btn2\" target=\"_blank\"><i></i>收藏</a>\\r\\n\\t\\t\\t\\t\\t\\t\\t\\t</div>\\r\\n\\t\\t\\t\\t\\t\\t\\t</div>\\r\\n\\t\\t\\t\\t\\t\\t</div>\\r\\n\\t\\t\\r\\n\\t\\t<div class=\"searchresult_item pzg\">\\r\\n\\t\\t\\t\\t\\t\\t\\t<div class=\"searchresult_item_img\"><a href=\"http://www.zazhipu.com/2007661.html\" target=\"_blank\"><img src=\"http://img1.zazhipu.com/bookpic/20224/202242817038.jpg?imageMogr2/thumbnail/300x   \"/></a></div>\\r\\n\\t\\t\\t\\t\\t\\t\\t<div class=\"searchresult_item_r\">\\r\\n\\t\\t\\t\\t\\t\\t\\t   <p class=\"showtwot\" ><a href=\"http://www.zazhipu.com/2007661.html\" target=\"_blank\">海洋探秘（1年共12期）（杂志订阅）</a></p>\\r\\n\\t\\t\\t\\t\\t\\t\\t\\t<div class=\"showtwot_price\">\\r\\n\\t\\t\\t\\t\\t\\t\\t\\t\\t<span class=\"showtwot_price_l\"><i>￥</i>120元</span>\\r\\n\\t\\t\\t\\t\\t\\t\\t\\t\\t<span class=\"showtwot_price_c\">折</span>\\r\\n\\t\\t\\t\\t\\t\\t\\t\\t\\t<span class=\"showtwot_price_r\"><i></i><a href=\"addtocar.asp?id=1380803\">加入购物车</a></span>\\r\\n\\t\\t\\t\\t\\t\\t\\t\\t</div>\\r\\n\\t\\t\\t\\t\\t\\t\\t\\t\\r\\n\\t\\t\\t\\t\\t\\t\\t\\t<div class=\"searchresult_item_t pzg\">\\r\\n\\t\\t\\t\\t\\t\\t\\t\\t\\t<div class=\"searchresult_item_t_l\">\\r\\n\\t\\t\\t\\t\\t\\t\\t\\t\\t\\t<a href=\"http://www.zazhipu.com/2007661.html\" target=\"_blank\">海洋探秘（1年共12期）（杂志订阅）</a>\\r\\n\\t\\t\\t\\t\\t\\t\\t\\t\\t</div>\\r\\n\\t\\t\\t\\t\\t\\t\\t\\t\\t<div class=\"searchresult_item_t_r\">\\r\\n\\t\\t\\t\\t\\t\\t\\t\\t\\t<span> Vip特惠 续订特惠 </span><span>满200减100</span> \\r\\n\\t\\t\\t\\t\\t\\t\\t\\t\\t</div>\\r\\n\\t\\t\\t\\t\\t\\t\\t\\t</div>\\r\\n\\t\\t\\t\\t\\t\\t\\t\\t<p class=\"searchresult_item_p\"> 多彩知识结构 一本在手 读懂海洋</p>\\r\\n\\t\\t\\t\\t\\t\\t\\t\\t<div class=\"searchresult_item_goodsinfo\">\\r\\n\\t\\t\\t\\t\\t\\t\\t\\t\\t<span class=\"searchresult_item_goodsinfo_l\">杂志社:<label><a href=\"\\r\\n\\t\\t\\t\\t\\t\\thttp://www.zazhipu.com/pub/haiyangtanmi.html\\r\\n\\t\\t\\t\\t\\t\\t\" target=\"a_blank\">青岛出版社有限公司少</a></label></span>\\r\\n\\t\\t\\t\\t\\t\\t\\t\\t\\t<span class=\"searchresult_item_goodsinfo_r\">发行周期:<label>月刊</label></span>\\r\\n\\t\\t\\t\\t\\t\\t\\t\\t</div>\\r\\n\\t\\t\\t\\t\\t\\t\\t\\t<div class=\"searchresult_item_price\">\\r\\n\\t\\t\\t\\t\\t\\t\\t\\t\\t<span class=\"searchresult_item_price1\">市场价：<label>￥120元</label></span>\\r\\n\\t\\t\\t\\t\\t\\t\\t\\t\\t<span class=\"searchresult_item_price2\">杂志铺价：<label>￥120元    100折</label></span>\\r\\n\\t\\t\\t\\t\\t\\t\\t\\t\\t<span class=\"searchresult_item_price2\"></span>\\r\\n\\t\\t\\t\\t\\t\\t\\t\\t</div>\\r\\n\\t\\t\\t\\t\\t\\t\\t\\t<div class=\"searchresult_item_btn\">\\r\\n\\t\\t\\t\\t\\t\\t\\t\\t\\t<a href=\"addtocar.asp?id=1380803\" class=\"goods_btn1\" target=\"_blank\">立即购买</a>\\r\\n\\t\\t\\t\\t\\t\\t\\t\\t\\t<a href=\"mysc.asp?id=1380803&action=add\" class=\"goods_btn2\" target=\"_blank\"><i></i>收藏</a>\\r\\n\\t\\t\\t\\t\\t\\t\\t\\t</div>\\r\\n\\t\\t\\t\\t\\t\\t\\t</div>\\r\\n\\t\\t\\t\\t\\t\\t</div>\\r\\n\\t\\t\\r\\n\\t\\t<div class=\"searchresult_item pzg\">\\r\\n\\t\\t\\t\\t\\t\\t\\t<div class=\"searchresult_item_img\"><a href=\"http://www.zazhipu.com/2012984.html\" target=\"_blank\"><img src=\"http://img1.zazhipu.com/bookpic/20223/202233164644.jpg?imageMogr2/thumbnail/300x   \"/></a></div>\\r\\n\\t\\t\\t\\t\\t\\t\\t<div class=\"searchresult_item_r\">\\r\\n\\t\\t\\t\\t\\t\\t\\t   <p class=\"showtwot\" ><a href=\"http://www.zazhipu.com/2012984.html\" target=\"_blank\">天府文化（1年共12期）（杂志订阅）</a></p>\\r\\n\\t\\t\\t\\t\\t\\t\\t\\t<div class=\"showtwot_price\">\\r\\n\\t\\t\\t\\t\\t\\t\\t\\t\\t<span class=\"showtwot_price_l\"><i>￥</i>432元</span>\\r\\n\\t\\t\\t\\t\\t\\t\\t\\t\\t<span class=\"showtwot_price_c\">折</span>\\r\\n\\t\\t\\t\\t\\t\\t\\t\\t\\t<span class=\"showtwot_price_r\"><i></i><a href=\"addtocar.asp?id=1386068\">加入购物车</a></span>\\r\\n\\t\\t\\t\\t\\t\\t\\t\\t</div>\\r\\n\\t\\t\\t\\t\\t\\t\\t\\t\\r\\n\\t\\t\\t\\t\\t\\t\\t\\t<div class=\"searchresult_item_t pzg\">\\r\\n\\t\\t\\t\\t\\t\\t\\t\\t\\t<div class=\"searchresult_item_t_l\">\\r\\n\\t\\t\\t\\t\\t\\t\\t\\t\\t\\t<a href=\"http://www.zazhipu.com/2012984.html\" target=\"_blank\">天府文化（1年共12期）（杂志订阅）</a>\\r\\n\\t\\t\\t\\t\\t\\t\\t\\t\\t</div>\\r\\n\\t\\t\\t\\t\\t\\t\\t\\t\\t<div class=\"searchresult_item_t_r\">\\r\\n\\t\\t\\t\\t\\t\\t\\t\\t\\t<span> Vip特惠 续订特惠 </span> \\r\\n\\t\\t\\t\\t\\t\\t\\t\\t\\t</div>\\r\\n\\t\\t\\t\\t\\t\\t\\t\\t</div>\\r\\n\\t\\t\\t\\t\\t\\t\\t\\t<p class=\"searchresult_item_p\"> 让天府文化成为彰显成都魅力的一面旗帜</p>\\r\\n\\t\\t\\t\\t\\t\\t\\t\\t<div class=\"searchresult_item_goodsinfo\">\\r\\n\\t\\t\\t\\t\\t\\t\\t\\t\\t<span class=\"searchresult_item_goodsinfo_l\">杂志社:<label><a href=\"\\r\\n\\t\\t\\t\\t\\t\\tzazhishe.asp?seachkey=天府文化\\r\\n\\t\\t\\t\\t\\t\\t\" target=\"a_blank\">成都天府文化杂志社有</a></label></span>\\r\\n\\t\\t\\t\\t\\t\\t\\t\\t\\t<span class=\"searchresult_item_goodsinfo_r\">发行周期:<label>月刊</label></span>\\r\\n\\t\\t\\t\\t\\t\\t\\t\\t</div>\\r\\n\\t\\t\\t\\t\\t\\t\\t\\t<div class=\"searchresult_item_price\">\\r\\n\\t\\t\\t\\t\\t\\t\\t\\t\\t<span class=\"searchresult_item_price1\">市场价：<label>￥540元</label></span>\\r\\n\\t\\t\\t\\t\\t\\t\\t\\t\\t<span class=\"searchresult_item_price2\">杂志铺价：<label>￥432元    80折</label></span>\\r\\n\\t\\t\\t\\t\\t\\t\\t\\t\\t<span class=\"searchresult_item_price2\"></span>\\r\\n\\t\\t\\t\\t\\t\\t\\t\\t</div>\\r\\n\\t\\t\\t\\t\\t\\t\\t\\t<div class=\"searchresult_item_btn\">\\r\\n\\t\\t\\t\\t\\t\\t\\t\\t\\t<a href=\"addtocar.asp?id=1386068\" class=\"goods_btn1\" target=\"_blank\">立即购买</a>\\r\\n\\t\\t\\t\\t\\t\\t\\t\\t\\t<a href=\"mysc.asp?id=1386068&action=add\" class=\"goods_btn2\" target=\"_blank\"><i></i>收藏</a>\\r\\n\\t\\t\\t\\t\\t\\t\\t\\t</div>\\r\\n\\t\\t\\t\\t\\t\\t\\t</div>\\r\\n\\t\\t\\t\\t\\t\\t</div>\\r\\n\\t\\t\\r\\n\\t\\t<div class=\"searchresult_item pzg\">\\r\\n\\t\\t\\t\\t\\t\\t\\t<div class=\"searchresult_item_img\"><a href=\"http://www.zazhipu.com/2004192.html\" target=\"_blank\"><img src=\"http://img1.zazhipu.com/bookpic/20188/2018813134725.jpg?imageMogr2/thumbnail/300x   \"/></a></div>\\r\\n\\t\\t\\t\\t\\t\\t\\t<div class=\"searchresult_item_r\">\\r\\n\\t\\t\\t\\t\\t\\t\\t   <p class=\"showtwot\" ><a href=\"http://www.zazhipu.com/2004192.html\" target=\"_blank\">自然探秘(1年共12期）（杂志订阅）</a></p>\\r\\n\\t\\t\\t\\t\\t\\t\\t\\t<div class=\"showtwot_price\">\\r\\n\\t\\t\\t\\t\\t\\t\\t\\t\\t<span class=\"showtwot_price_l\"><i>￥</i>140.16元</span>\\r\\n\\t\\t\\t\\t\\t\\t\\t\\t\\t<span class=\"showtwot_price_c\">折</span>\\r\\n\\t\\t\\t\\t\\t\\t\\t\\t\\t<span class=\"showtwot_price_r\"><i></i><a href=\"addtocar.asp?id=1377346\">加入购物车</a></span>\\r\\n\\t\\t\\t\\t\\t\\t\\t\\t</div>\\r\\n\\t\\t\\t\\t\\t\\t\\t\\t\\r\\n\\t\\t\\t\\t\\t\\t\\t\\t<div class=\"searchresult_item_t pzg\">\\r\\n\\t\\t\\t\\t\\t\\t\\t\\t\\t<div class=\"searchresult_item_t_l\">\\r\\n\\t\\t\\t\\t\\t\\t\\t\\t\\t\\t<a href=\"http://www.zazhipu.com/2004192.html\" target=\"_blank\">自然探秘(1年共12期）（杂志订阅）</a>\\r\\n\\t\\t\\t\\t\\t\\t\\t\\t\\t</div>\\r\\n\\t\\t\\t\\t\\t\\t\\t\\t\\t<div class=\"searchresult_item_t_r\">\\r\\n\\t\\t\\t\\t\\t\\t\\t\\t\\t<span> Vip特惠 续订特惠 </span> \\r\\n\\t\\t\\t\\t\\t\\t\\t\\t\\t</div>\\r\\n\\t\\t\\t\\t\\t\\t\\t\\t</div>\\r\\n\\t\\t\\t\\t\\t\\t\\t\\t<p class=\"searchresult_item_p\"> 领略多彩的动植物生活！</p>\\r\\n\\t\\t\\t\\t\\t\\t\\t\\t<div class=\"searchresult_item_goodsinfo\">\\r\\n\\t\\t\\t\\t\\t\\t\\t\\t\\t<span class=\"searchresult_item_goodsinfo_l\">杂志社:<label><a href=\"\\r\\n\\t\\t\\t\\t\\t\\tzazhishe.asp?seachkey=自然探秘\\r\\n\\t\\t\\t\\t\\t\\t\" target=\"a_blank\">江苏凤凰少年儿童出版</a></label></span>\\r\\n\\t\\t\\t\\t\\t\\t\\t\\t\\t<span class=\"searchresult_item_goodsinfo_r\">发行周期:<label>月刊</label></span>\\r\\n\\t\\t\\t\\t\\t\\t\\t\\t</div>\\r\\n\\t\\t\\t\\t\\t\\t\\t\\t<div class=\"searchresult_item_price\">\\r\\n\\t\\t\\t\\t\\t\\t\\t\\t\\t<span class=\"searchresult_item_price1\">市场价：<label>￥140.16元</label></span>\\r\\n\\t\\t\\t\\t\\t\\t\\t\\t\\t<span class=\"searchresult_item_price2\">杂志铺价：<label>￥140.16元    100折</label></span>\\r\\n\\t\\t\\t\\t\\t\\t\\t\\t\\t<span class=\"searchresult_item_price2\"></span>\\r\\n\\t\\t\\t\\t\\t\\t\\t\\t</div>\\r\\n\\t\\t\\t\\t\\t\\t\\t\\t<div class=\"searchresult_item_btn\">\\r\\n\\t\\t\\t\\t\\t\\t\\t\\t\\t<a href=\"addtocar.asp?id=1377346\" class=\"goods_btn1\" target=\"_blank\">立即购买</a>\\r\\n\\t\\t\\t\\t\\t\\t\\t\\t\\t<a href=\"mysc.asp?id=1377346&action=add\" class=\"goods_btn2\" target=\"_blank\"><i></i>收藏</a>\\r\\n\\t\\t\\t\\t\\t\\t\\t\\t</div>\\r\\n\\t\\t\\t\\t\\t\\t\\t</div>\\r\\n\\t\\t\\t\\t\\t\\t</div>\\r\\n\\t\\t\\r\\n\\t\\t<div class=\"searchresult_item pzg\">\\r\\n\\t\\t\\t\\t\\t\\t\\t<div class=\"searchresult_item_img\"><a href=\"http://www.zazhipu.com/2002820.html\" target=\"_blank\"><img src=\"http://img1.zazhipu.com/bookpic/20223/2022316153922.jpg?imageMogr2/thumbnail/300x   \"/></a></div>\\r\\n\\t\\t\\t\\t\\t\\t\\t<div class=\"searchresult_item_r\">\\r\\n\\t\\t\\t\\t\\t\\t\\t   <p class=\"showtwot\" ><a href=\"http://www.zazhipu.com/2002820.html\" target=\"_blank\">户外探险（1年共6期）（杂志订阅）</a></p>\\r\\n\\t\\t\\t\\t\\t\\t\\t\\t<div class=\"showtwot_price\">\\r\\n\\t\\t\\t\\t\\t\\t\\t\\t\\t<span class=\"showtwot_price_l\"><i>￥</i>113.4元</span>\\r\\n\\t\\t\\t\\t\\t\\t\\t\\t\\t<span class=\"showtwot_price_c\"><lable>读书季大促：50折</lable>折</span>\\r\\n\\t\\t\\t\\t\\t\\t\\t\\t\\t<span class=\"showtwot_price_r\"><i></i><a href=\"addtocar.asp?id=1162799\">加入购物车</a></span>\\r\\n\\t\\t\\t\\t\\t\\t\\t\\t</div>\\r\\n\\t\\t\\t\\t\\t\\t\\t\\t\\r\\n\\t\\t\\t\\t\\t\\t\\t\\t<div class=\"searchresult_item_t pzg\">\\r\\n\\t\\t\\t\\t\\t\\t\\t\\t\\t<div class=\"searchresult_item_t_l\">\\r\\n\\t\\t\\t\\t\\t\\t\\t\\t\\t\\t<a href=\"http://www.zazhipu.com/2002820.html\" target=\"_blank\">户外探险（1年共6期）（杂志订阅）</a>\\r\\n\\t\\t\\t\\t\\t\\t\\t\\t\\t</div>\\r\\n\\t\\t\\t\\t\\t\\t\\t\\t\\t<div class=\"searchresult_item_t_r\">\\r\\n\\t\\t\\t\\t\\t\\t\\t\\t\\t<span>读书季大促</span> \\r\\n\\t\\t\\t\\t\\t\\t\\t\\t\\t</div>\\r\\n\\t\\t\\t\\t\\t\\t\\t\\t</div>\\r\\n\\t\\t\\t\\t\\t\\t\\t\\t<p class=\"searchresult_item_p\"> 户外是一种生活方式，探险是一种生活态度</p>\\r\\n\\t\\t\\t\\t\\t\\t\\t\\t<div class=\"searchresult_item_goodsinfo\">\\r\\n\\t\\t\\t\\t\\t\\t\\t\\t\\t<span class=\"searchresult_item_goodsinfo_l\">杂志社:<label><a href=\"\\r\\n\\t\\t\\t\\t\\t\\thttp://www.zazhipu.com/pub/huwaitanxian.html\\r\\n\\t\\t\\t\\t\\t\\t\" target=\"a_blank\">探险杂志社</a></label></span>\\r\\n\\t\\t\\t\\t\\t\\t\\t\\t\\t<span class=\"searchresult_item_goodsinfo_r\">发行周期:<label>双月刊</label></span>\\r\\n\\t\\t\\t\\t\\t\\t\\t\\t</div>\\r\\n\\t\\t\\t\\t\\t\\t\\t\\t<div class=\"searchresult_item_price\">\\r\\n\\t\\t\\t\\t\\t\\t\\t\\t\\t<span class=\"searchresult_item_price1\">市场价：<label>￥180元</label></span>\\r\\n\\t\\t\\t\\t\\t\\t\\t\\t\\t<span class=\"searchresult_item_price2\">杂志铺价：<label>￥113.4元    63折</label></span>\\r\\n\\t\\t\\t\\t\\t\\t\\t\\t\\t<span class=\"searchresult_item_price2\"><lable>读书季大促：50折</lable></span>\\r\\n\\t\\t\\t\\t\\t\\t\\t\\t</div>\\r\\n\\t\\t\\t\\t\\t\\t\\t\\t<div class=\"searchresult_item_btn\">\\r\\n\\t\\t\\t\\t\\t\\t\\t\\t\\t<a href=\"addtocar.asp?id=1162799\" class=\"goods_btn1\" target=\"_blank\">立即购买</a>\\r\\n\\t\\t\\t\\t\\t\\t\\t\\t\\t<a href=\"mysc.asp?id=1162799&action=add\" class=\"goods_btn2\" target=\"_blank\"><i></i>收藏</a>\\r\\n\\t\\t\\t\\t\\t\\t\\t\\t</div>\\r\\n\\t\\t\\t\\t\\t\\t\\t</div>\\r\\n\\t\\t\\t\\t\\t\\t</div>\\r\\n\\t\\t\\r\\n\\t\\t<div class=\"searchresult_item pzg\">\\r\\n\\t\\t\\t\\t\\t\\t\\t<div class=\"searchresult_item_img\"><a href=\"http://www.zazhipu.com/2004235.html\" target=\"_blank\"><img src=\"http://img1.zazhipu.com/bookpic/20223/2022316161232.jpg?imageMogr2/thumbnail/300x   \"/></a></div>\\r\\n\\t\\t\\t\\t\\t\\t\\t<div class=\"searchresult_item_r\">\\r\\n\\t\\t\\t\\t\\t\\t\\t   <p class=\"showtwot\" ><a href=\"http://www.zazhipu.com/2004235.html\" target=\"_blank\">旅游世界（1年共12期）（杂志订阅）</a></p>\\r\\n\\t\\t\\t\\t\\t\\t\\t\\t<div class=\"showtwot_price\">\\r\\n\\t\\t\\t\\t\\t\\t\\t\\t\\t<span class=\"showtwot_price_l\"><i>￥</i>234元</span>\\r\\n\\t\\t\\t\\t\\t\\t\\t\\t\\t<span class=\"showtwot_price_c\">折</span>\\r\\n\\t\\t\\t\\t\\t\\t\\t\\t\\t<span class=\"showtwot_price_r\"><i></i><a href=\"addtocar.asp?id=1377389\">加入购物车</a></span>\\r\\n\\t\\t\\t\\t\\t\\t\\t\\t</div>\\r\\n\\t\\t\\t\\t\\t\\t\\t\\t\\r\\n\\t\\t\\t\\t\\t\\t\\t\\t<div class=\"searchresult_item_t pzg\">\\r\\n\\t\\t\\t\\t\\t\\t\\t\\t\\t<div class=\"searchresult_item_t_l\">\\r\\n\\t\\t\\t\\t\\t\\t\\t\\t\\t\\t<a href=\"http://www.zazhipu.com/2004235.html\" target=\"_blank\">旅游世界（1年共12期）（杂志订阅）</a>\\r\\n\\t\\t\\t\\t\\t\\t\\t\\t\\t</div>\\r\\n\\t\\t\\t\\t\\t\\t\\t\\t\\t<div class=\"searchresult_item_t_r\">\\r\\n\\t\\t\\t\\t\\t\\t\\t\\t\\t<span> Vip特惠 续订特惠 </span> \\r\\n\\t\\t\\t\\t\\t\\t\\t\\t\\t</div>\\r\\n\\t\\t\\t\\t\\t\\t\\t\\t</div>\\r\\n\\t\\t\\t\\t\\t\\t\\t\\t<p class=\"searchresult_item_p\"> 原创体验式旅游杂志</p>\\r\\n\\t\\t\\t\\t\\t\\t\\t\\t<div class=\"searchresult_item_goodsinfo\">\\r\\n\\t\\t\\t\\t\\t\\t\\t\\t\\t<span class=\"searchresult_item_goodsinfo_l\">杂志社:<label><a href=\"\\r\\n\\t\\t\\t\\t\\t\\thttp://www.zazhipu.com/pub/lvyoushijie.html\\r\\n\\t\\t\\t\\t\\t\\t\" target=\"a_blank\">《旅游世界》杂志社</a></label></span>\\r\\n\\t\\t\\t\\t\\t\\t\\t\\t\\t<span class=\"searchresult_item_goodsinfo_r\">发行周期:<label>月刊</label></span>\\r\\n\\t\\t\\t\\t\\t\\t\\t\\t</div>\\r\\n\\t\\t\\t\\t\\t\\t\\t\\t<div class=\"searchresult_item_price\">\\r\\n\\t\\t\\t\\t\\t\\t\\t\\t\\t<span class=\"searchresult_item_price1\">市场价：<label>￥360元</label></span>\\r\\n\\t\\t\\t\\t\\t\\t\\t\\t\\t<span class=\"searchresult_item_price2\">杂志铺价：<label>￥234元    65折</label></span>\\r\\n\\t\\t\\t\\t\\t\\t\\t\\t\\t<span class=\"searchresult_item_price2\"></span>\\r\\n\\t\\t\\t\\t\\t\\t\\t\\t</div>\\r\\n\\t\\t\\t\\t\\t\\t\\t\\t<div class=\"searchresult_item_btn\">\\r\\n\\t\\t\\t\\t\\t\\t\\t\\t\\t<a href=\"addtocar.asp?id=1377389\" class=\"goods_btn1\" target=\"_blank\">立即购买</a>\\r\\n\\t\\t\\t\\t\\t\\t\\t\\t\\t<a href=\"mysc.asp?id=1377389&action=add\" class=\"goods_btn2\" target=\"_blank\"><i></i>收藏</a>\\r\\n\\t\\t\\t\\t\\t\\t\\t\\t</div>\\r\\n\\t\\t\\t\\t\\t\\t\\t</div>\\r\\n\\t\\t\\t\\t\\t\\t</div>\\r\\n\\t\\t\\r\\n\\t\\t<div class=\"searchresult_item pzg\">\\r\\n\\t\\t\\t\\t\\t\\t\\t<div class=\"searchresult_item_img\"><a href=\"http://www.zazhipu.com/2000390.html\" target=\"_blank\"><img src=\"http://img1.zazhipu.com/bookpic/20223/2022322144623.jpg?imageMogr2/thumbnail/300x   \"/></a></div>\\r\\n\\t\\t\\t\\t\\t\\t\\t<div class=\"searchresult_item_r\">\\r\\n\\t\\t\\t\\t\\t\\t\\t   <p class=\"showtwot\" ><a href=\"http://www.zazhipu.com/2000390.html\" target=\"_blank\">四川画报（1年共12期）（杂志订阅）</a></p>\\r\\n\\t\\t\\t\\t\\t\\t\\t\\t<div class=\"showtwot_price\">\\r\\n\\t\\t\\t\\t\\t\\t\\t\\t\\t<span class=\"showtwot_price_l\"><i>￥</i>225元</span>\\r\\n\\t\\t\\t\\t\\t\\t\\t\\t\\t<span class=\"showtwot_price_c\">折</span>\\r\\n\\t\\t\\t\\t\\t\\t\\t\\t\\t<span class=\"showtwot_price_r\"><i></i><a href=\"addtocar.asp?id=1162553\">加入购物车</a></span>\\r\\n\\t\\t\\t\\t\\t\\t\\t\\t</div>\\r\\n\\t\\t\\t\\t\\t\\t\\t\\t\\r\\n\\t\\t\\t\\t\\t\\t\\t\\t<div class=\"searchresult_item_t pzg\">\\r\\n\\t\\t\\t\\t\\t\\t\\t\\t\\t<div class=\"searchresult_item_t_l\">\\r\\n\\t\\t\\t\\t\\t\\t\\t\\t\\t\\t<a href=\"http://www.zazhipu.com/2000390.html\" target=\"_blank\">四川画报（1年共12期）（杂志订阅）</a>\\r\\n\\t\\t\\t\\t\\t\\t\\t\\t\\t</div>\\r\\n\\t\\t\\t\\t\\t\\t\\t\\t\\t<div class=\"searchresult_item_t_r\">\\r\\n\\t\\t\\t\\t\\t\\t\\t\\t\\t \\r\\n\\t\\t\\t\\t\\t\\t\\t\\t\\t</div>\\r\\n\\t\\t\\t\\t\\t\\t\\t\\t</div>\\r\\n\\t\\t\\t\\t\\t\\t\\t\\t<p class=\"searchresult_item_p\"> 画说四川</p>\\r\\n\\t\\t\\t\\t\\t\\t\\t\\t<div class=\"searchresult_item_goodsinfo\">\\r\\n\\t\\t\\t\\t\\t\\t\\t\\t\\t<span class=\"searchresult_item_goodsinfo_l\">杂志社:<label><a href=\"\\r\\n\\t\\t\\t\\t\\t\\thttp://www.zazhipu.com/pub/sichuanhuabao.html\\r\\n\\t\\t\\t\\t\\t\\t\" target=\"a_blank\">四川画报社有限公司</a></label></span>\\r\\n\\t\\t\\t\\t\\t\\t\\t\\t\\t<span class=\"searchresult_item_goodsinfo_r\">发行周期:<label>月刊</label></span>\\r\\n\\t\\t\\t\\t\\t\\t\\t\\t</div>\\r\\n\\t\\t\\t\\t\\t\\t\\t\\t<div class=\"searchresult_item_price\">\\r\\n\\t\\t\\t\\t\\t\\t\\t\\t\\t<span class=\"searchresult_item_price1\">市场价：<label>￥300元</label></span>\\r\\n\\t\\t\\t\\t\\t\\t\\t\\t\\t<span class=\"searchresult_item_price2\">杂志铺价：<label>￥225元    75折</label></span>\\r\\n\\t\\t\\t\\t\\t\\t\\t\\t\\t<span class=\"searchresult_item_price2\"></span>\\r\\n\\t\\t\\t\\t\\t\\t\\t\\t</div>\\r\\n\\t\\t\\t\\t\\t\\t\\t\\t<div class=\"searchresult_item_btn\">\\r\\n\\t\\t\\t\\t\\t\\t\\t\\t\\t<a href=\"addtocar.asp?id=1162553\" class=\"goods_btn1\" target=\"_blank\">立即购买</a>\\r\\n\\t\\t\\t\\t\\t\\t\\t\\t\\t<a href=\"mysc.asp?id=1162553&action=add\" class=\"goods_btn2\" target=\"_blank\"><i></i>收藏</a>\\r\\n\\t\\t\\t\\t\\t\\t\\t\\t</div>\\r\\n\\t\\t\\t\\t\\t\\t\\t</div>\\r\\n\\t\\t\\t\\t\\t\\t</div>\\r\\n\\t\\t\\r\\n\\t\\t<div class=\"searchresult_item pzg\">\\r\\n\\t\\t\\t\\t\\t\\t\\t<div class=\"searchresult_item_img\"><a href=\"http://www.zazhipu.com/2009595.html\" target=\"_blank\"><img src=\"http://img1.zazhipu.com/bookpic/20168/201683091129.jpg?imageMogr2/thumbnail/300x   \"/></a></div>\\r\\n\\t\\t\\t\\t\\t\\t\\t<div class=\"searchresult_item_r\">\\r\\n\\t\\t\\t\\t\\t\\t\\t   <p class=\"showtwot\" ><a href=\"http://www.zazhipu.com/2009595.html\" target=\"_blank\">包邮 KiDS环球少年地理（与美国国家地理少儿版版权合作）（1年共12期）（杂志订阅）</a></p>\\r\\n\\t\\t\\t\\t\\t\\t\\t\\t<div class=\"showtwot_price\">\\r\\n\\t\\t\\t\\t\\t\\t\\t\\t\\t<span class=\"showtwot_price_l\"><i>￥</i>180元</span>\\r\\n\\t\\t\\t\\t\\t\\t\\t\\t\\t<span class=\"showtwot_price_c\">折</span>\\r\\n\\t\\t\\t\\t\\t\\t\\t\\t\\t<span class=\"showtwot_price_r\"><i></i><a href=\"addtocar.asp?id=1382719\">加入购物车</a></span>\\r\\n\\t\\t\\t\\t\\t\\t\\t\\t</div>\\r\\n\\t\\t\\t\\t\\t\\t\\t\\t\\r\\n\\t\\t\\t\\t\\t\\t\\t\\t<div class=\"searchresult_item_t pzg\">\\r\\n\\t\\t\\t\\t\\t\\t\\t\\t\\t<div class=\"searchresult_item_t_l\">\\r\\n\\t\\t\\t\\t\\t\\t\\t\\t\\t\\t<a href=\"http://www.zazhipu.com/2009595.html\" target=\"_blank\">包邮 KiDS环球少年地理（与美国国家地理少儿版版权合作）（1年共12期）（杂志订阅）</a>\\r\\n\\t\\t\\t\\t\\t\\t\\t\\t\\t</div>\\r\\n\\t\\t\\t\\t\\t\\t\\t\\t\\t<div class=\"searchresult_item_t_r\">\\r\\n\\t\\t\\t\\t\\t\\t\\t\\t\\t<span>  包邮 </span> \\r\\n\\t\\t\\t\\t\\t\\t\\t\\t\\t</div>\\r\\n\\t\\t\\t\\t\\t\\t\\t\\t</div>\\r\\n\\t\\t\\t\\t\\t\\t\\t\\t<p class=\"searchresult_item_p\"> 全球拥有超过500万少儿读者！</p>\\r\\n\\t\\t\\t\\t\\t\\t\\t\\t<div class=\"searchresult_item_goodsinfo\">\\r\\n\\t\\t\\t\\t\\t\\t\\t\\t\\t<span class=\"searchresult_item_goodsinfo_l\">杂志社:<label><a href=\"\\r\\n\\t\\t\\t\\t\\t\\tzazhishe.asp?seachkey=环球少年地理\\r\\n\\t\\t\\t\\t\\t\\t\" target=\"a_blank\">青岛出版社有限公司少</a></label></span>\\r\\n\\t\\t\\t\\t\\t\\t\\t\\t\\t<span class=\"searchresult_item_goodsinfo_r\">发行周期:<label>月刊</label></span>\\r\\n\\t\\t\\t\\t\\t\\t\\t\\t</div>\\r\\n\\t\\t\\t\\t\\t\\t\\t\\t<div class=\"searchresult_item_price\">\\r\\n\\t\\t\\t\\t\\t\\t\\t\\t\\t<span class=\"searchresult_item_price1\">市场价：<label>￥180元</label></span>\\r\\n\\t\\t\\t\\t\\t\\t\\t\\t\\t<span class=\"searchresult_item_price2\">杂志铺价：<label>￥180元    100折</label></span>\\r\\n\\t\\t\\t\\t\\t\\t\\t\\t\\t<span class=\"searchresult_item_price2\"></span>\\r\\n\\t\\t\\t\\t\\t\\t\\t\\t</div>\\r\\n\\t\\t\\t\\t\\t\\t\\t\\t<div class=\"searchresult_item_btn\">\\r\\n\\t\\t\\t\\t\\t\\t\\t\\t\\t<a href=\"addtocar.asp?id=1382719\" class=\"goods_btn1\" target=\"_blank\">立即购买</a>\\r\\n\\t\\t\\t\\t\\t\\t\\t\\t\\t<a href=\"mysc.asp?id=1382719&action=add\" class=\"goods_btn2\" target=\"_blank\"><i></i>收藏</a>\\r\\n\\t\\t\\t\\t\\t\\t\\t\\t</div>\\r\\n\\t\\t\\t\\t\\t\\t\\t</div>\\r\\n\\t\\t\\t\\t\\t\\t</div>\\r\\n\\t\\t\\r\\n\\t\\t<div class=\"searchresult_item pzg\">\\r\\n\\t\\t\\t\\t\\t\\t\\t<div class=\"searchresult_item_img\"><a href=\"http://www.zazhipu.com/2004788.html\" target=\"_blank\"><img src=\"http://img1.zazhipu.com/bookpic/20213/20213301510.jpg?imageMogr2/thumbnail/300x   \"/></a></div>\\r\\n\\t\\t\\t\\t\\t\\t\\t<div class=\"searchresult_item_r\">\\r\\n\\t\\t\\t\\t\\t\\t\\t   <p class=\"showtwot\" ><a href=\"http://www.zazhipu.com/2004788.html\" target=\"_blank\">包邮 中国国家地理（1年共12期）（杂志订阅）</a></p>\\r\\n\\t\\t\\t\\t\\t\\t\\t\\t<div class=\"showtwot_price\">\\r\\n\\t\\t\\t\\t\\t\\t\\t\\t\\t<span class=\"showtwot_price_l\"><i>￥</i>288元</span>\\r\\n\\t\\t\\t\\t\\t\\t\\t\\t\\t<span class=\"showtwot_price_c\">折</span>\\r\\n\\t\\t\\t\\t\\t\\t\\t\\t\\t<span class=\"showtwot_price_r\"><i></i><a href=\"addtocar.asp?id=1377941\">加入购物车</a></span>\\r\\n\\t\\t\\t\\t\\t\\t\\t\\t</div>\\r\\n\\t\\t\\t\\t\\t\\t\\t\\t\\r\\n\\t\\t\\t\\t\\t\\t\\t\\t<div class=\"searchresult_item_t pzg\">\\r\\n\\t\\t\\t\\t\\t\\t\\t\\t\\t<div class=\"searchresult_item_t_l\">\\r\\n\\t\\t\\t\\t\\t\\t\\t\\t\\t\\t<a href=\"http://www.zazhipu.com/2004788.html\" target=\"_blank\">包邮 中国国家地理（1年共12期）（杂志订阅）</a>\\r\\n\\t\\t\\t\\t\\t\\t\\t\\t\\t</div>\\r\\n\\t\\t\\t\\t\\t\\t\\t\\t\\t<div class=\"searchresult_item_t_r\">\\r\\n\\t\\t\\t\\t\\t\\t\\t\\t\\t<span>  包邮 </span> \\r\\n\\t\\t\\t\\t\\t\\t\\t\\t\\t</div>\\r\\n\\t\\t\\t\\t\\t\\t\\t\\t</div>\\r\\n\\t\\t\\t\\t\\t\\t\\t\\t<p class=\"searchresult_item_p\"> 面向社会具权威性的地理旅游指南.</p>\\r\\n\\t\\t\\t\\t\\t\\t\\t\\t<div class=\"searchresult_item_goodsinfo\">\\r\\n\\t\\t\\t\\t\\t\\t\\t\\t\\t<span class=\"searchresult_item_goodsinfo_l\">杂志社:<label><a href=\"\\r\\n\\t\\t\\t\\t\\t\\tzazhishe.asp?seachkey=中国国家地理\\r\\n\\t\\t\\t\\t\\t\\t\" target=\"a_blank\">《中国国家地理》杂志</a></label></span>\\r\\n\\t\\t\\t\\t\\t\\t\\t\\t\\t<span class=\"searchresult_item_goodsinfo_r\">发行周期:<label>月刊</label></span>\\r\\n\\t\\t\\t\\t\\t\\t\\t\\t</div>\\r\\n\\t\\t\\t\\t\\t\\t\\t\\t<div class=\"searchresult_item_price\">\\r\\n\\t\\t\\t\\t\\t\\t\\t\\t\\t<span class=\"searchresult_item_price1\">市场价：<label>￥360元</label></span>\\r\\n\\t\\t\\t\\t\\t\\t\\t\\t\\t<span class=\"searchresult_item_price2\">杂志铺价：<label>￥288元    80折</label></span>\\r\\n\\t\\t\\t\\t\\t\\t\\t\\t\\t<span class=\"searchresult_item_price2\"></span>\\r\\n\\t\\t\\t\\t\\t\\t\\t\\t</div>\\r\\n\\t\\t\\t\\t\\t\\t\\t\\t<div class=\"searchresult_item_btn\">\\r\\n\\t\\t\\t\\t\\t\\t\\t\\t\\t<a href=\"addtocar.asp?id=1377941\" class=\"goods_btn1\" target=\"_blank\">立即购买</a>\\r\\n\\t\\t\\t\\t\\t\\t\\t\\t\\t<a href=\"mysc.asp?id=1377941&action=add\" class=\"goods_btn2\" target=\"_blank\"><i></i>收藏</a>\\r\\n\\t\\t\\t\\t\\t\\t\\t\\t</div>\\r\\n\\t\\t\\t\\t\\t\\t\\t</div>\\r\\n\\t\\t\\t\\t\\t\\t</div>\\r\\n\\t\\t\\r\\n\\t\\t<div class=\"searchresult_item pzg\">\\r\\n\\t\\t\\t\\t\\t\\t\\t<div class=\"searchresult_item_img\"><a href=\"http://www.zazhipu.com/2008016.html\" target=\"_blank\"><img src=\"http://img1.zazhipu.com/bookpic/20222/2022214155811.jpg?imageMogr2/thumbnail/300x   \"/></a></div>\\r\\n\\t\\t\\t\\t\\t\\t\\t<div class=\"searchresult_item_r\">\\r\\n\\t\\t\\t\\t\\t\\t\\t   <p class=\"showtwot\" ><a href=\"http://www.zazhipu.com/2008016.html\" target=\"_blank\">动物大世界 中国儿童画报（1年共12期）（杂志订阅）【杂志铺专供】</a></p>\\r\\n\\t\\t\\t\\t\\t\\t\\t\\t<div class=\"showtwot_price\">\\r\\n\\t\\t\\t\\t\\t\\t\\t\\t\\t<span class=\"showtwot_price_l\"><i>￥</i>150元</span>\\r\\n\\t\\t\\t\\t\\t\\t\\t\\t\\t<span class=\"showtwot_price_c\">折</span>\\r\\n\\t\\t\\t\\t\\t\\t\\t\\t\\t<span class=\"showtwot_price_r\"><i></i><a href=\"addtocar.asp?id=1381156\">加入购物车</a></span>\\r\\n\\t\\t\\t\\t\\t\\t\\t\\t</div>\\r\\n\\t\\t\\t\\t\\t\\t\\t\\t\\r\\n\\t\\t\\t\\t\\t\\t\\t\\t<div class=\"searchresult_item_t pzg\">\\r\\n\\t\\t\\t\\t\\t\\t\\t\\t\\t<div class=\"searchresult_item_t_l\">\\r\\n\\t\\t\\t\\t\\t\\t\\t\\t\\t\\t<a href=\"http://www.zazhipu.com/2008016.html\" target=\"_blank\">动物大世界 中国儿童画报（1年共12期）（杂志订阅）【杂志铺专供】</a>\\r\\n\\t\\t\\t\\t\\t\\t\\t\\t\\t</div>\\r\\n\\t\\t\\t\\t\\t\\t\\t\\t\\t<div class=\"searchresult_item_t_r\">\\r\\n\\t\\t\\t\\t\\t\\t\\t\\t\\t<span> Vip特惠 续订特惠 </span> \\r\\n\\t\\t\\t\\t\\t\\t\\t\\t\\t</div>\\r\\n\\t\\t\\t\\t\\t\\t\\t\\t</div>\\r\\n\\t\\t\\t\\t\\t\\t\\t\\t<p class=\"searchresult_item_p\"> 专为少年儿童打造的动物科普画报</p>\\r\\n\\t\\t\\t\\t\\t\\t\\t\\t<div class=\"searchresult_item_goodsinfo\">\\r\\n\\t\\t\\t\\t\\t\\t\\t\\t\\t<span class=\"searchresult_item_goodsinfo_l\">杂志社:<label><a href=\"\\r\\n\\t\\t\\t\\t\\t\\thttp://www.zazhipu.com/pub/dongwudashijie.html\\r\\n\\t\\t\\t\\t\\t\\t\" target=\"a_blank\">中国少年儿童新闻出版</a></label></span>\\r\\n\\t\\t\\t\\t\\t\\t\\t\\t\\t<span class=\"searchresult_item_goodsinfo_r\">发行周期:<label>月刊</label></span>\\r\\n\\t\\t\\t\\t\\t\\t\\t\\t</div>\\r\\n\\t\\t\\t\\t\\t\\t\\t\\t<div class=\"searchresult_item_price\">\\r\\n\\t\\t\\t\\t\\t\\t\\t\\t\\t<span class=\"searchresult_item_price1\">市场价：<label>￥150元</label></span>\\r\\n\\t\\t\\t\\t\\t\\t\\t\\t\\t<span class=\"searchresult_item_price2\">杂志铺价：<label>￥150元    100折</label></span>\\r\\n\\t\\t\\t\\t\\t\\t\\t\\t\\t<span class=\"searchresult_item_price2\"></span>\\r\\n\\t\\t\\t\\t\\t\\t\\t\\t</div>\\r\\n\\t\\t\\t\\t\\t\\t\\t\\t<div class=\"searchresult_item_btn\">\\r\\n\\t\\t\\t\\t\\t\\t\\t\\t\\t<a href=\"addtocar.asp?id=1381156\" class=\"goods_btn1\" target=\"_blank\">立即购买</a>\\r\\n\\t\\t\\t\\t\\t\\t\\t\\t\\t<a href=\"mysc.asp?id=1381156&action=add\" class=\"goods_btn2\" target=\"_blank\"><i></i>收藏</a>\\r\\n\\t\\t\\t\\t\\t\\t\\t\\t</div>\\r\\n\\t\\t\\t\\t\\t\\t\\t</div>\\r\\n\\t\\t\\t\\t\\t\\t</div>\\r\\n\\t\\t\\r\\n\\t\\t<div class=\"searchresult_item pzg\">\\r\\n\\t\\t\\t\\t\\t\\t\\t<div class=\"searchresult_item_img\"><a href=\"http://www.zazhipu.com/2003162.html\" target=\"_blank\"><img src=\"http://img1.zazhipu.com/bookpic/20203/2020325135912.jpg?imageMogr2/thumbnail/300x   \"/></a></div>\\r\\n\\t\\t\\t\\t\\t\\t\\t<div class=\"searchresult_item_r\">\\r\\n\\t\\t\\t\\t\\t\\t\\t   <p class=\"showtwot\" ><a href=\"http://www.zazhipu.com/2003162.html\" target=\"_blank\">快乐科学 快乐历史地理（1年共12期）（杂志订阅）</a></p>\\r\\n\\t\\t\\t\\t\\t\\t\\t\\t<div class=\"showtwot_price\">\\r\\n\\t\\t\\t\\t\\t\\t\\t\\t\\t<span class=\"showtwot_price_l\"><i>￥</i>119.52元</span>\\r\\n\\t\\t\\t\\t\\t\\t\\t\\t\\t<span class=\"showtwot_price_c\">折</span>\\r\\n\\t\\t\\t\\t\\t\\t\\t\\t\\t<span class=\"showtwot_price_r\"><i></i><a href=\"addtocar.asp?id=1376334\">加入购物车</a></span>\\r\\n\\t\\t\\t\\t\\t\\t\\t\\t</div>\\r\\n\\t\\t\\t\\t\\t\\t\\t\\t\\r\\n\\t\\t\\t\\t\\t\\t\\t\\t<div class=\"searchresult_item_t pzg\">\\r\\n\\t\\t\\t\\t\\t\\t\\t\\t\\t<div class=\"searchresult_item_t_l\">\\r\\n\\t\\t\\t\\t\\t\\t\\t\\t\\t\\t<a href=\"http://www.zazhipu.com/2003162.html\" target=\"_blank\">快乐科学 快乐历史地理（1年共12期）（杂志订阅）</a>\\r\\n\\t\\t\\t\\t\\t\\t\\t\\t\\t</div>\\r\\n\\t\\t\\t\\t\\t\\t\\t\\t\\t<div class=\"searchresult_item_t_r\">\\r\\n\\t\\t\\t\\t\\t\\t\\t\\t\\t<span> Vip特惠 续订特惠 </span> \\r\\n\\t\\t\\t\\t\\t\\t\\t\\t\\t</div>\\r\\n\\t\\t\\t\\t\\t\\t\\t\\t</div>\\r\\n\\t\\t\\t\\t\\t\\t\\t\\t<p class=\"searchresult_item_p\"> 展世界之奇，探历史之妙</p>\\r\\n\\t\\t\\t\\t\\t\\t\\t\\t<div class=\"searchresult_item_goodsinfo\">\\r\\n\\t\\t\\t\\t\\t\\t\\t\\t\\t<span class=\"searchresult_item_goodsinfo_l\">杂志社:<label><a href=\"\\r\\n\\t\\t\\t\\t\\t\\thttp://www.zazhipu.com/pub/kuailelishidili.html\\r\\n\\t\\t\\t\\t\\t\\t\" target=\"a_blank\">天津人民美术出版社有</a></label></span>\\r\\n\\t\\t\\t\\t\\t\\t\\t\\t\\t<span class=\"searchresult_item_goodsinfo_r\">发行周期:<label>月刊</label></span>\\r\\n\\t\\t\\t\\t\\t\\t\\t\\t</div>\\r\\n\\t\\t\\t\\t\\t\\t\\t\\t<div class=\"searchresult_item_price\">\\r\\n\\t\\t\\t\\t\\t\\t\\t\\t\\t<span class=\"searchresult_item_price1\">市场价：<label>￥144元</label></span>\\r\\n\\t\\t\\t\\t\\t\\t\\t\\t\\t<span class=\"searchresult_item_price2\">杂志铺价：<label>￥119.52元    83折</label></span>\\r\\n\\t\\t\\t\\t\\t\\t\\t\\t\\t<span class=\"searchresult_item_price2\"></span>\\r\\n\\t\\t\\t\\t\\t\\t\\t\\t</div>\\r\\n\\t\\t\\t\\t\\t\\t\\t\\t<div class=\"searchresult_item_btn\">\\r\\n\\t\\t\\t\\t\\t\\t\\t\\t\\t<a href=\"addtocar.asp?id=1376334\" class=\"goods_btn1\" target=\"_blank\">立即购买</a>\\r\\n\\t\\t\\t\\t\\t\\t\\t\\t\\t<a href=\"mysc.asp?id=1376334&action=add\" class=\"goods_btn2\" target=\"_blank\"><i></i>收藏</a>\\r\\n\\t\\t\\t\\t\\t\\t\\t\\t</div>\\r\\n\\t\\t\\t\\t\\t\\t\\t</div>\\r\\n\\t\\t\\t\\t\\t\\t</div>\\r\\n\\t\\t\\r\\n\\t\\t\\t\\t\\t\\t\\r\\n\\t\\t\\t\\t\\t</div>\\r\\n\\t\\t\\t\\t\\t<div class=\"searchresult_list_r\">\\r\\n\\t\\t\\t\\t\\t\\t<div class=\"searchresult_list_r_t\">热销榜单</div>\\r\\n\\t\\t\\t\\t\\t\\t\\r\\n\\t<div class=\"relatedInfo_l_info\">\\r\\n\\t\\t\\t\\t\\t\\t\\t<div class=\"goods_b1_item\">\\r\\n\\t\\t\\t\\t\\t\\t\\t\\t<a href=\"2000977.html\">\\r\\n\\t\\t\\t\\t\\t\\t\\t\\t\\t<div class=\"goods_b1_img\"><img src=\"http://img.zazhipu.com/bookpic/20223/202231163858.jpg?imageMogr2/thumbnail/400x \"/></div>\\r\\n\\t\\t\\t\\t\\t\\t\\t\\t\\t<p class=\"goods_b1_t\">读者（1年共24期）（杂志订阅）</p>\\r\\n\\t\\t\\t\\t\\t\\t\\t\\t\\t<p class=\"goods_b1_p\">\\r\\n\\t\\t\\t\\t\\t\\t\\t\\t\\t\\t<span><i>￥</i>131.00</span>\\r\\n\\t\\t\\t\\t\\t\\t\\t\\t\\t\\t<label>61折</label>\\r\\n\\t\\t\\t\\t\\t\\t\\t\\t\\t</p>\\r\\n\\t\\t\\t\\t\\t\\t\\t\\t</a>\\r\\n\\t\\t\\t\\t\\t\\t\\t</div>\\r\\n\\t\\t\\t\\t\\t\\t</div>\\r\\n\\t\\r\\n\\t       \\r\\n\\t\\t \\r\\n\\t<div class=\"relatedInfo_l_info\">\\r\\n\\t\\t\\t\\t\\t\\t\\t<div class=\"goods_b1_item\">\\r\\n\\t\\t\\t\\t\\t\\t\\t\\t<a href=\"2021121.html\">\\r\\n\\t\\t\\t\\t\\t\\t\\t\\t\\t<div class=\"goods_b1_img\"><img src=\"http://img.zazhipu.com/bookpic/20224/2022415152848.jpg?imageMogr2/thumbnail/400x \"/></div>\\r\\n\\t\\t\\t\\t\\t\\t\\t\\t\\t<p class=\"goods_b1_t\">【包邮】万物（1年共12期）赠送价值316元音视频杂志订阅</p>\\r\\n\\t\\t\\t\\t\\t\\t\\t\\t\\t<p class=\"goods_b1_p\">\\r\\n\\t\\t\\t\\t\\t\\t\\t\\t\\t\\t<span><i>￥</i>338.00</span>\\r\\n\\t\\t\\t\\t\\t\\t\\t\\t\\t\\t<label>94折</label>\\r\\n\\t\\t\\t\\t\\t\\t\\t\\t\\t</p>\\r\\n\\t\\t\\t\\t\\t\\t\\t\\t</a>\\r\\n\\t\\t\\t\\t\\t\\t\\t</div>\\r\\n\\t\\t\\t\\t\\t\\t</div>\\r\\n\\t\\r\\n\\t       \\r\\n\\t\\t \\r\\n\\t<div class=\"relatedInfo_l_info\">\\r\\n\\t\\t\\t\\t\\t\\t\\t<div class=\"goods_b1_item\">\\r\\n\\t\\t\\t\\t\\t\\t\\t\\t<a href=\"2020735.html\">\\r\\n\\t\\t\\t\\t\\t\\t\\t\\t\\t<div class=\"goods_b1_img\"><img src=\"http://img.zazhipu.com/bookpic/20224/2022415152447.jpg?imageMogr2/thumbnail/400x \"/></div>\\r\\n\\t\\t\\t\\t\\t\\t\\t\\t\\t<p class=\"goods_b1_t\">【包邮】好奇号（1年共12期）（美国Cricket Media版权合作）（杂志订阅）</p>\\r\\n\\t\\t\\t\\t\\t\\t\\t\\t\\t<p class=\"goods_b1_p\">\\r\\n\\t\\t\\t\\t\\t\\t\\t\\t\\t\\t<span><i>￥</i>288.00</span>\\r\\n\\t\\t\\t\\t\\t\\t\\t\\t\\t\\t<label>44折</label>\\r\\n\\t\\t\\t\\t\\t\\t\\t\\t\\t</p>\\r\\n\\t\\t\\t\\t\\t\\t\\t\\t</a>\\r\\n\\t\\t\\t\\t\\t\\t\\t</div>\\r\\n\\t\\t\\t\\t\\t\\t</div>\\r\\n\\t\\r\\n\\t       \\r\\n\\t\\t \\r\\n\\t<div class=\"relatedInfo_l_info\">\\r\\n\\t\\t\\t\\t\\t\\t\\t<div class=\"goods_b1_item\">\\r\\n\\t\\t\\t\\t\\t\\t\\t\\t<a href=\"2027353.html\">\\r\\n\\t\\t\\t\\t\\t\\t\\t\\t\\t<div class=\"goods_b1_img\"><img src=\"http://img.zazhipu.com/bookpic/20223/2022322142710.jpg?imageMogr2/thumbnail/400x \"/></div>\\r\\n\\t\\t\\t\\t\\t\\t\\t\\t\\t<p class=\"goods_b1_t\">【包邮】奇点科学（Science Illustrated 中文版）（1年共12期）（9-18岁青少年图解科普）</p>\\r\\n\\t\\t\\t\\t\\t\\t\\t\\t\\t<p class=\"goods_b1_p\">\\r\\n\\t\\t\\t\\t\\t\\t\\t\\t\\t\\t<span><i>￥</i>268.00</span>\\r\\n\\t\\t\\t\\t\\t\\t\\t\\t\\t\\t<label>50折</label>\\r\\n\\t\\t\\t\\t\\t\\t\\t\\t\\t</p>\\r\\n\\t\\t\\t\\t\\t\\t\\t\\t</a>\\r\\n\\t\\t\\t\\t\\t\\t\\t</div>\\r\\n\\t\\t\\t\\t\\t\\t</div>\\r\\n\\t\\r\\n\\t       \\r\\n\\t\\t \\r\\n\\t<div class=\"relatedInfo_l_info\">\\r\\n\\t\\t\\t\\t\\t\\t\\t<div class=\"goods_b1_item\">\\r\\n\\t\\t\\t\\t\\t\\t\\t\\t<a href=\"2007631.html\">\\r\\n\\t\\t\\t\\t\\t\\t\\t\\t\\t<div class=\"goods_b1_img\"><img src=\"http://img.zazhipu.com/bookpic/20224/202241394438.jpg?imageMogr2/thumbnail/400x \"/></div>\\r\\n\\t\\t\\t\\t\\t\\t\\t\\t\\t<p class=\"goods_b1_t\">KiDS环球少年地理（与美国国家地理少儿版版权合作）（1年共12期）（杂志订阅）</p>\\r\\n\\t\\t\\t\\t\\t\\t\\t\\t\\t<p class=\"goods_b1_p\">\\r\\n\\t\\t\\t\\t\\t\\t\\t\\t\\t\\t<span><i>￥</i>180.00</span>\\r\\n\\t\\t\\t\\t\\t\\t\\t\\t\\t\\t<label>100折</label>\\r\\n\\t\\t\\t\\t\\t\\t\\t\\t\\t</p>\\r\\n\\t\\t\\t\\t\\t\\t\\t\\t</a>\\r\\n\\t\\t\\t\\t\\t\\t\\t</div>\\r\\n\\t\\t\\t\\t\\t\\t</div>\\r\\n\\t\\r\\n\\t       \\r\\n\\t\\t \\r\\n\\t<div class=\"relatedInfo_l_info\">\\r\\n\\t\\t\\t\\t\\t\\t\\t<div class=\"goods_b1_item\">\\r\\n\\t\\t\\t\\t\\t\\t\\t\\t<a href=\"2001516.html\">\\r\\n\\t\\t\\t\\t\\t\\t\\t\\t\\t<div class=\"goods_b1_img\"><img src=\"http://img.zazhipu.com/bookpic/20223/20223116833.jpg?imageMogr2/thumbnail/400x \"/></div>\\r\\n\\t\\t\\t\\t\\t\\t\\t\\t\\t<p class=\"goods_b1_t\">意林（1年共24期）（杂志订阅）</p>\\r\\n\\t\\t\\t\\t\\t\\t\\t\\t\\t<p class=\"goods_b1_p\">\\r\\n\\t\\t\\t\\t\\t\\t\\t\\t\\t\\t<span><i>￥</i>163.20</span>\\r\\n\\t\\t\\t\\t\\t\\t\\t\\t\\t\\t<label>85折</label>\\r\\n\\t\\t\\t\\t\\t\\t\\t\\t\\t</p>\\r\\n\\t\\t\\t\\t\\t\\t\\t\\t</a>\\r\\n\\t\\t\\t\\t\\t\\t\\t</div>\\r\\n\\t\\t\\t\\t\\t\\t</div>\\r\\n\\t\\r\\n\\t       \\r\\n\\t\\t \\r\\n\\t<div class=\"relatedInfo_l_info\">\\r\\n\\t\\t\\t\\t\\t\\t\\t<div class=\"goods_b1_item\">\\r\\n\\t\\t\\t\\t\\t\\t\\t\\t<a href=\"2003026.html\">\\r\\n\\t\\t\\t\\t\\t\\t\\t\\t\\t<div class=\"goods_b1_img\"><img src=\"http://img.zazhipu.com/bookpic/20224/202241310847.jpg?imageMogr2/thumbnail/400x \"/></div>\\r\\n\\t\\t\\t\\t\\t\\t\\t\\t\\t<p class=\"goods_b1_t\">意林少年版（1年共24期）（杂志订阅）</p>\\r\\n\\t\\t\\t\\t\\t\\t\\t\\t\\t<p class=\"goods_b1_p\">\\r\\n\\t\\t\\t\\t\\t\\t\\t\\t\\t\\t<span><i>￥</i>183.60</span>\\r\\n\\t\\t\\t\\t\\t\\t\\t\\t\\t\\t<label>85折</label>\\r\\n\\t\\t\\t\\t\\t\\t\\t\\t\\t</p>\\r\\n\\t\\t\\t\\t\\t\\t\\t\\t</a>\\r\\n\\t\\t\\t\\t\\t\\t\\t</div>\\r\\n\\t\\t\\t\\t\\t\\t</div>\\r\\n\\t\\r\\n\\t       \\r\\n\\t\\t \\r\\n\\t<div class=\"relatedInfo_l_info\">\\r\\n\\t\\t\\t\\t\\t\\t\\t<div class=\"goods_b1_item\">\\r\\n\\t\\t\\t\\t\\t\\t\\t\\t<a href=\"2015193.html\">\\r\\n\\t\\t\\t\\t\\t\\t\\t\\t\\t<div class=\"goods_b1_img\"><img src=\"http://img.zazhipu.com/bookpic/20224/2022415152848.jpg?imageMogr2/thumbnail/400x \"/></div>\\r\\n\\t\\t\\t\\t\\t\\t\\t\\t\\t<p class=\"goods_b1_t\">万物（How it works中文版）（1年共12期） 杂志订阅</p>\\r\\n\\t\\t\\t\\t\\t\\t\\t\\t\\t<p class=\"goods_b1_p\">\\r\\n\\t\\t\\t\\t\\t\\t\\t\\t\\t\\t<span><i>￥</i>338.00</span>\\r\\n\\t\\t\\t\\t\\t\\t\\t\\t\\t\\t<label>94折</label>\\r\\n\\t\\t\\t\\t\\t\\t\\t\\t\\t</p>\\r\\n\\t\\t\\t\\t\\t\\t\\t\\t</a>\\r\\n\\t\\t\\t\\t\\t\\t\\t</div>\\r\\n\\t\\t\\t\\t\\t\\t</div>\\r\\n\\t\\r\\n\\t       \\r\\n\\t\\t \\r\\n\\t\\t\\t\\t\\t\\t\\r\\n\\t\\t\\t\\t\\t\\t\\r\\n\\t\\t\\t\\t\\t\\t</div>\\r\\n\\t\\t\\t\\t\\t</div>\\r\\n\\t\\t\\t\\t</div>\\r\\n\\t\\t\\t\\t\\r\\n\\t\\t\\r\\n\\t\\r\\n\\t\\t\\t</div>\\r\\n\\t\\t\\t\\r\\n\\t\\t\\t\\r\\n\\t\\t\\t<div class=pagelist><span class=page_prev>上一页</span><div class=pagebox><span class=page_a>1</span><a  class=page_a   href=listb6_1_2_0_0.html>2</a><a  class=page_a   href=listb6_1_3_0_0.html>3</a><a  class=page_a   href=listb6_1_4_0_0.html>4</a><a  class=page_a   href=listb6_1_5_0_0.html>5</a><a  class=page_a   href=listb6_1_6_0_0.html>6</a><a   class=page_a  href=listb6_1_7_0_0.html>7</a></div><a  class=page_next href=listb6_1_2_0_0.html>下一页</a></DIV>\\r\\n\\t\\t\\t\\r\\n\\t\\t\\t<div class=\"sw_tj\" style=\"display:none;\">\\r\\n\\t\\t\\t\\t<p class=\"sw_head\">热点推荐</p>\\r\\n\\t\\t\\t\\t<div class=\"swiper-container-swtj\">\\r\\n\\t\\t\\t\\t    <div class=\"swiper-wrapper\">\\r\\n\\t\\t\\t\\t      \\t\\r\\n\\t\\t\\t\\t\\t\\t\\r\\n\\t\\t\\t\\t      \\t\\t\\r\\n\\t\\t\\t\\t      \\r\\n\\t\\t\\t\\t    \\r\\n\\t\\t\\t\\t    </div>\\r\\n\\t\\t\\t\\t    <!-- Add Pagination -->\\r\\n\\t\\t\\t\\t    <div class=\"swiper-pagination\"></div>\\r\\n\\t\\t\\t\\t    <!-- Add Arrows -->\\r\\n\\t\\t\\t\\t    <div class=\"swiper-button-next\"></div>\\r\\n\\t\\t\\t\\t    <div class=\"swiper-button-prev\"></div>\\r\\n\\t\\t\\t\\t</div>\\r\\n\\r\\n\\t\\t\\t</div>\\r\\n\\t\\t\\t<div class=\"sw_tj\">\\r\\n\\t\\t\\t\\t<p class=\"sw_head\">猜你喜欢</p>\\r\\n\\t\\t\\t\\t<div class=\"swiper-container-swtj\">\\r\\n\\t\\t\\t\\t    <div class=\"swiper-wrapper\">\\r\\n\\t\\t\\t\\t\\t<div class=swiper-slide pzg>\\r\\n\\t<div class=\"goods_b1_item\">\\r\\n\\t\\t\\t\\t\\t\\t\\t\\t<a href=\"2011502.html\">\\r\\n\\t\\t\\t\\t\\t\\t\\t\\t\\t<div class=\"goods_b1_img\"><img src=\"http://img.zazhipu.com/magspic/2011502_small.jpg?imageMogr2/thumbnail/400x \"></div>\\r\\n\\t\\t\\t\\t\\t\\t\\t\\t\\t<p class=\"goods_b1_t\">包邮 童趣――小公主（1年共12期）迪士尼公主动画系列杂志（每月包邮一次）</p>\\r\\n\\t\\t\\t\\t\\t\\t\\t\\t\\t<p class=\"goods_b1_p\">\\r\\n\\t\\t\\t\\t\\t\\t\\t\\t\\t\\t<span><i>￥</i>170.64</span>\\r\\n\\t\\t\\t\\t\\t\\t\\t\\t\\t\\t<label>79折</label>\\r\\n\\t\\t\\t\\t\\t\\t\\t\\t\\t</p>\\r\\n\\t\\t\\t\\t\\t\\t\\t\\t</a>\\r\\n\\t\\t\\t\\t\\t\\t\\t</div>\\r\\n\\t\\r\\n\\t       \\r\\n\\t\\t \\r\\n\\t<div class=\"goods_b1_item\">\\r\\n\\t\\t\\t\\t\\t\\t\\t\\t<a href=\"2033791.html\">\\r\\n\\t\\t\\t\\t\\t\\t\\t\\t\\t<div class=\"goods_b1_img\"><img src=\"http://img.zazhipu.com/bookpic/20219/202192814180.jpg?imageMogr2/thumbnail/400x \"></div>\\r\\n\\t\\t\\t\\t\\t\\t\\t\\t\\t<p class=\"goods_b1_t\">奇想岛（英国storytime中文版）（1年共12期）+环球少年地理（1年共12期）（组合订阅）</p>\\r\\n\\t\\t\\t\\t\\t\\t\\t\\t\\t<p class=\"goods_b1_p\">\\r\\n\\t\\t\\t\\t\\t\\t\\t\\t\\t\\t<span><i>￥</i>360.00</span>\\r\\n\\t\\t\\t\\t\\t\\t\\t\\t\\t\\t<label>50折</label>\\r\\n\\t\\t\\t\\t\\t\\t\\t\\t\\t</p>\\r\\n\\t\\t\\t\\t\\t\\t\\t\\t</a>\\r\\n\\t\\t\\t\\t\\t\\t\\t</div>\\r\\n\\t\\r\\n\\t       \\r\\n\\t\\t \\r\\n\\t<div class=\"goods_b1_item\">\\r\\n\\t\\t\\t\\t\\t\\t\\t\\t<a href=\"2000780.html\">\\r\\n\\t\\t\\t\\t\\t\\t\\t\\t\\t<div class=\"goods_b1_img\"><img src=\"http://img.zazhipu.com/bookpic/20217/2021713103756.png?imageMogr2/thumbnail/400x \"></div>\\r\\n\\t\\t\\t\\t\\t\\t\\t\\t\\t<p class=\"goods_b1_t\">时代楼盘（1年共12期）（杂志订阅）</p>\\r\\n\\t\\t\\t\\t\\t\\t\\t\\t\\t<p class=\"goods_b1_p\">\\r\\n\\t\\t\\t\\t\\t\\t\\t\\t\\t\\t<span><i>￥</i>360.00</span>\\r\\n\\t\\t\\t\\t\\t\\t\\t\\t\\t\\t<label>60折</label>\\r\\n\\t\\t\\t\\t\\t\\t\\t\\t\\t</p>\\r\\n\\t\\t\\t\\t\\t\\t\\t\\t</a>\\r\\n\\t\\t\\t\\t\\t\\t\\t</div>\\r\\n\\t\\r\\n\\t       \\r\\n\\t\\t \\r\\n\\t<div class=\"goods_b1_item\">\\r\\n\\t\\t\\t\\t\\t\\t\\t\\t<a href=\"2004213.html\">\\r\\n\\t\\t\\t\\t\\t\\t\\t\\t\\t<div class=\"goods_b1_img\"><img src=\"http://img.zazhipu.com/bookpic/20191/20191383818.jpg?imageMogr2/thumbnail/400x \"></div>\\r\\n\\t\\t\\t\\t\\t\\t\\t\\t\\t<p class=\"goods_b1_t\">少年文艺（江苏）（1年共12期）（杂志订阅）</p>\\r\\n\\t\\t\\t\\t\\t\\t\\t\\t\\t<p class=\"goods_b1_p\">\\r\\n\\t\\t\\t\\t\\t\\t\\t\\t\\t\\t<span><i>￥</i>120.00</span>\\r\\n\\t\\t\\t\\t\\t\\t\\t\\t\\t\\t<label>100折</label>\\r\\n\\t\\t\\t\\t\\t\\t\\t\\t\\t</p>\\r\\n\\t\\t\\t\\t\\t\\t\\t\\t</a>\\r\\n\\t\\t\\t\\t\\t\\t\\t</div>\\r\\n\\t\\r\\n\\t       \\r\\n\\t\\t \\r\\n\\t<div class=\"goods_b1_item\">\\r\\n\\t\\t\\t\\t\\t\\t\\t\\t<a href=\"2010357.html\">\\r\\n\\t\\t\\t\\t\\t\\t\\t\\t\\t<div class=\"goods_b1_img\"><img src=\"http://img.zazhipu.com/bookpic/20213/202131017153.jpg?imageMogr2/thumbnail/400x \"></div>\\r\\n\\t\\t\\t\\t\\t\\t\\t\\t\\t<p class=\"goods_b1_t\">故事大王（1年共12期）（杂志订阅）</p>\\r\\n\\t\\t\\t\\t\\t\\t\\t\\t\\t<p class=\"goods_b1_p\">\\r\\n\\t\\t\\t\\t\\t\\t\\t\\t\\t\\t<span><i>￥</i>86.40</span>\\r\\n\\t\\t\\t\\t\\t\\t\\t\\t\\t\\t<label>90折</label>\\r\\n\\t\\t\\t\\t\\t\\t\\t\\t\\t</p>\\r\\n\\t\\t\\t\\t\\t\\t\\t\\t</a>\\r\\n\\t\\t\\t\\t\\t\\t\\t</div>\\r\\n\\t\\r\\n\\t       \\r\\n\\t\\t \\r\\n\\t<div class=\"goods_b1_item\">\\r\\n\\t\\t\\t\\t\\t\\t\\t\\t<a href=\"2031899.html\">\\r\\n\\t\\t\\t\\t\\t\\t\\t\\t\\t<div class=\"goods_b1_img\"><img src=\"http://img.zazhipu.com/bookpic/202112/20211217141634.jpg?imageMogr2/thumbnail/400x \"></div>\\r\\n\\t\\t\\t\\t\\t\\t\\t\\t\\t<p class=\"goods_b1_t\">奇点科学（1年共12期）+好奇号（1年共12期）（杂志订阅）</p>\\r\\n\\t\\t\\t\\t\\t\\t\\t\\t\\t<p class=\"goods_b1_p\">\\r\\n\\t\\t\\t\\t\\t\\t\\t\\t\\t\\t<span><i>￥</i>556.00</span>\\r\\n\\t\\t\\t\\t\\t\\t\\t\\t\\t\\t<label>46折</label>\\r\\n\\t\\t\\t\\t\\t\\t\\t\\t\\t</p>\\r\\n\\t\\t\\t\\t\\t\\t\\t\\t</a>\\r\\n\\t\\t\\t\\t\\t\\t\\t</div>\\r\\n\\t\\r\\n\\t       \\r\\n\\t\\t </div><div class=swiper-slide pzg>\\r\\n\\t<div class=\"goods_b1_item\">\\r\\n\\t\\t\\t\\t\\t\\t\\t\\t<a href=\"2003260.html\">\\r\\n\\t\\t\\t\\t\\t\\t\\t\\t\\t<div class=\"goods_b1_img\"><img src=\"http://img.zazhipu.com/bookpic/20223/202234153359.jpg?imageMogr2/thumbnail/400x \"></div>\\r\\n\\t\\t\\t\\t\\t\\t\\t\\t\\t<p class=\"goods_b1_t\">婴儿益智画册1-2岁（综合版+绘本版）（1年共12期）（杂志订阅）</p>\\r\\n\\t\\t\\t\\t\\t\\t\\t\\t\\t<p class=\"goods_b1_p\">\\r\\n\\t\\t\\t\\t\\t\\t\\t\\t\\t\\t<span><i>￥</i>144.00</span>\\r\\n\\t\\t\\t\\t\\t\\t\\t\\t\\t\\t<label>50折</label>\\r\\n\\t\\t\\t\\t\\t\\t\\t\\t\\t</p>\\r\\n\\t\\t\\t\\t\\t\\t\\t\\t</a>\\r\\n\\t\\t\\t\\t\\t\\t\\t</div>\\r\\n\\t\\r\\n\\t       \\r\\n\\t\\t \\r\\n\\t<div class=\"goods_b1_item\">\\r\\n\\t\\t\\t\\t\\t\\t\\t\\t<a href=\"2002430.html\">\\r\\n\\t\\t\\t\\t\\t\\t\\t\\t\\t<div class=\"goods_b1_img\"><img src=\"http://img.zazhipu.com/bookpic/20223/202231163512.jpg?imageMogr2/thumbnail/400x \"></div>\\r\\n\\t\\t\\t\\t\\t\\t\\t\\t\\t<p class=\"goods_b1_t\">迪士尼幼小衔接（原迪士尼学而乐全科学习）（1年共12期）（杂志订阅）</p>\\r\\n\\t\\t\\t\\t\\t\\t\\t\\t\\t<p class=\"goods_b1_p\">\\r\\n\\t\\t\\t\\t\\t\\t\\t\\t\\t\\t<span><i>￥</i>108.00</span>\\r\\n\\t\\t\\t\\t\\t\\t\\t\\t\\t\\t<label>50折</label>\\r\\n\\t\\t\\t\\t\\t\\t\\t\\t\\t</p>\\r\\n\\t\\t\\t\\t\\t\\t\\t\\t</a>\\r\\n\\t\\t\\t\\t\\t\\t\\t</div>\\r\\n\\t\\r\\n\\t       \\r\\n\\t\\t \\r\\n\\t<div class=\"goods_b1_item\">\\r\\n\\t\\t\\t\\t\\t\\t\\t\\t<a href=\"2014379.html\">\\r\\n\\t\\t\\t\\t\\t\\t\\t\\t\\t<div class=\"goods_b1_img\"><img src=\"http://img.zazhipu.com/bookpic/20218/20218514348.png?imageMogr2/thumbnail/400x \"></div>\\r\\n\\t\\t\\t\\t\\t\\t\\t\\t\\t<p class=\"goods_b1_t\">中国领导科学（1年共6期）（杂志订阅）</p>\\r\\n\\t\\t\\t\\t\\t\\t\\t\\t\\t<p class=\"goods_b1_p\">\\r\\n\\t\\t\\t\\t\\t\\t\\t\\t\\t\\t<span><i>￥</i>151.20</span>\\r\\n\\t\\t\\t\\t\\t\\t\\t\\t\\t\\t<label>70折</label>\\r\\n\\t\\t\\t\\t\\t\\t\\t\\t\\t</p>\\r\\n\\t\\t\\t\\t\\t\\t\\t\\t</a>\\r\\n\\t\\t\\t\\t\\t\\t\\t</div>\\r\\n\\t\\r\\n\\t       \\r\\n\\t\\t \\r\\n\\t<div class=\"goods_b1_item\">\\r\\n\\t\\t\\t\\t\\t\\t\\t\\t<a href=\"2013862.html\">\\r\\n\\t\\t\\t\\t\\t\\t\\t\\t\\t<div class=\"goods_b1_img\"><img src=\"http://img.zazhipu.com/bookpic/20217/202172614538.jpg?imageMogr2/thumbnail/400x \"></div>\\r\\n\\t\\t\\t\\t\\t\\t\\t\\t\\t<p class=\"goods_b1_t\">中国教师（1年共12期）（杂志订阅）</p>\\r\\n\\t\\t\\t\\t\\t\\t\\t\\t\\t<p class=\"goods_b1_p\">\\r\\n\\t\\t\\t\\t\\t\\t\\t\\t\\t\\t<span><i>￥</i>288.00</span>\\r\\n\\t\\t\\t\\t\\t\\t\\t\\t\\t\\t<label>100折</label>\\r\\n\\t\\t\\t\\t\\t\\t\\t\\t\\t</p>\\r\\n\\t\\t\\t\\t\\t\\t\\t\\t</a>\\r\\n\\t\\t\\t\\t\\t\\t\\t</div>\\r\\n\\t\\r\\n\\t       \\r\\n\\t\\t \\r\\n\\t<div class=\"goods_b1_item\">\\r\\n\\t\\t\\t\\t\\t\\t\\t\\t<a href=\"2009711.html\">\\r\\n\\t\\t\\t\\t\\t\\t\\t\\t\\t<div class=\"goods_b1_img\"><img src=\"http://img.zazhipu.com/bookpic/20208/2020821151930.jpg?imageMogr2/thumbnail/400x \"></div>\\r\\n\\t\\t\\t\\t\\t\\t\\t\\t\\t<p class=\"goods_b1_t\">小作家报四年级版（1年10期）（杂志订阅）新国学教育体系期刊</p>\\r\\n\\t\\t\\t\\t\\t\\t\\t\\t\\t<p class=\"goods_b1_p\">\\r\\n\\t\\t\\t\\t\\t\\t\\t\\t\\t\\t<span><i>￥</i>135.00</span>\\r\\n\\t\\t\\t\\t\\t\\t\\t\\t\\t\\t<label>75折</label>\\r\\n\\t\\t\\t\\t\\t\\t\\t\\t\\t</p>\\r\\n\\t\\t\\t\\t\\t\\t\\t\\t</a>\\r\\n\\t\\t\\t\\t\\t\\t\\t</div>\\r\\n\\t\\r\\n\\t       \\r\\n\\t\\t \\r\\n\\t<div class=\"goods_b1_item\">\\r\\n\\t\\t\\t\\t\\t\\t\\t\\t<a href=\"2009580.html\">\\r\\n\\t\\t\\t\\t\\t\\t\\t\\t\\t<div class=\"goods_b1_img\"><img src=\"http://img.zazhipu.com/magspic/2009580_small.jpg?imageMogr2/thumbnail/400x \"></div>\\r\\n\\t\\t\\t\\t\\t\\t\\t\\t\\t<p class=\"goods_b1_t\">包邮东方娃娃创意美术（1年共12期）（杂志订阅）现货</p>\\r\\n\\t\\t\\t\\t\\t\\t\\t\\t\\t<p class=\"goods_b1_p\">\\r\\n\\t\\t\\t\\t\\t\\t\\t\\t\\t\\t<span><i>￥</i>144.00</span>\\r\\n\\t\\t\\t\\t\\t\\t\\t\\t\\t\\t<label>100折</label>\\r\\n\\t\\t\\t\\t\\t\\t\\t\\t\\t</p>\\r\\n\\t\\t\\t\\t\\t\\t\\t\\t</a>\\r\\n\\t\\t\\t\\t\\t\\t\\t</div>\\r\\n\\t\\r\\n\\t       \\r\\n\\t\\t </div><div class=swiper-slide pzg>\\r\\n\\t<div class=\"goods_b1_item\">\\r\\n\\t\\t\\t\\t\\t\\t\\t\\t<a href=\"2006039.html\">\\r\\n\\t\\t\\t\\t\\t\\t\\t\\t\\t<div class=\"goods_b1_img\"><img src=\"http://img.zazhipu.com/bookpic/201911/201911992623.jpg?imageMogr2/thumbnail/400x \"></div>\\r\\n\\t\\t\\t\\t\\t\\t\\t\\t\\t<p class=\"goods_b1_t\">小聪仔幼儿版（1年共12期）（杂志订阅）</p>\\r\\n\\t\\t\\t\\t\\t\\t\\t\\t\\t<p class=\"goods_b1_p\">\\r\\n\\t\\t\\t\\t\\t\\t\\t\\t\\t\\t<span><i>￥</i>120.00</span>\\r\\n\\t\\t\\t\\t\\t\\t\\t\\t\\t\\t<label>100折</label>\\r\\n\\t\\t\\t\\t\\t\\t\\t\\t\\t</p>\\r\\n\\t\\t\\t\\t\\t\\t\\t\\t</a>\\r\\n\\t\\t\\t\\t\\t\\t\\t</div>\\r\\n\\t\\r\\n\\t       \\r\\n\\t\\t \\r\\n\\t<div class=\"goods_b1_item\">\\r\\n\\t\\t\\t\\t\\t\\t\\t\\t<a href=\"2033890.html\">\\r\\n\\t\\t\\t\\t\\t\\t\\t\\t\\t<div class=\"goods_b1_img\"><img src=\"http://img.zazhipu.com/bookpic/202112/202112171478.jpg?imageMogr2/thumbnail/400x \"></div>\\r\\n\\t\\t\\t\\t\\t\\t\\t\\t\\t<p class=\"goods_b1_t\">奇点科学（SCIENCE ILLUSTRATED 中文版）（1年共12期）+小哥白尼趣味科学画报(1年共12期）（组合订阅）</p>\\r\\n\\t\\t\\t\\t\\t\\t\\t\\t\\t<p class=\"goods_b1_p\">\\r\\n\\t\\t\\t\\t\\t\\t\\t\\t\\t\\t<span><i>￥</i>351.00</span>\\r\\n\\t\\t\\t\\t\\t\\t\\t\\t\\t\\t<label>50折</label>\\r\\n\\t\\t\\t\\t\\t\\t\\t\\t\\t</p>\\r\\n\\t\\t\\t\\t\\t\\t\\t\\t</a>\\r\\n\\t\\t\\t\\t\\t\\t\\t</div>\\r\\n\\t\\r\\n\\t       \\r\\n\\t\\t \\r\\n\\t<div class=\"goods_b1_item\">\\r\\n\\t\\t\\t\\t\\t\\t\\t\\t<a href=\"2009709.html\">\\r\\n\\t\\t\\t\\t\\t\\t\\t\\t\\t<div class=\"goods_b1_img\"><img src=\"http://img.zazhipu.com/bookpic/20217/2021728115047.png?imageMogr2/thumbnail/400x \"></div>\\r\\n\\t\\t\\t\\t\\t\\t\\t\\t\\t<p class=\"goods_b1_t\">小作家报二年级版（1年10期）（杂志订阅）新国学教育体系期刊</p>\\r\\n\\t\\t\\t\\t\\t\\t\\t\\t\\t<p class=\"goods_b1_p\">\\r\\n\\t\\t\\t\\t\\t\\t\\t\\t\\t\\t<span><i>￥</i>135.00</span>\\r\\n\\t\\t\\t\\t\\t\\t\\t\\t\\t\\t<label>75折</label>\\r\\n\\t\\t\\t\\t\\t\\t\\t\\t\\t</p>\\r\\n\\t\\t\\t\\t\\t\\t\\t\\t</a>\\r\\n\\t\\t\\t\\t\\t\\t\\t</div>\\r\\n\\t\\r\\n\\t       \\r\\n\\t\\t \\r\\n\\t<div class=\"goods_b1_item\">\\r\\n\\t\\t\\t\\t\\t\\t\\t\\t<a href=\"2006582.html\">\\r\\n\\t\\t\\t\\t\\t\\t\\t\\t\\t<div class=\"goods_b1_img\"><img src=\"http://img.zazhipu.com/bookpic/20223/20223316164.jpg?imageMogr2/thumbnail/400x \"></div>\\r\\n\\t\\t\\t\\t\\t\\t\\t\\t\\t<p class=\"goods_b1_t\">全国优秀作文选（初中版）（1年共12期）（杂志订阅）（限江苏省外）</p>\\r\\n\\t\\t\\t\\t\\t\\t\\t\\t\\t<p class=\"goods_b1_p\">\\r\\n\\t\\t\\t\\t\\t\\t\\t\\t\\t\\t<span><i>￥</i>144.00</span>\\r\\n\\t\\t\\t\\t\\t\\t\\t\\t\\t\\t<label>100折</label>\\r\\n\\t\\t\\t\\t\\t\\t\\t\\t\\t</p>\\r\\n\\t\\t\\t\\t\\t\\t\\t\\t</a>\\r\\n\\t\\t\\t\\t\\t\\t\\t</div>\\r\\n\\t\\r\\n\\t       \\r\\n\\t\\t \\r\\n\\t<div class=\"goods_b1_item\">\\r\\n\\t\\t\\t\\t\\t\\t\\t\\t<a href=\"2016057.html\">\\r\\n\\t\\t\\t\\t\\t\\t\\t\\t\\t<div class=\"goods_b1_img\"><img src=\"http://img.zazhipu.com/bookpic/20222/2022214155737.jpg?imageMogr2/thumbnail/400x \"></div>\\r\\n\\t\\t\\t\\t\\t\\t\\t\\t\\t<p class=\"goods_b1_t\">动动画世界（1年共24期）（杂志订阅）</p>\\r\\n\\t\\t\\t\\t\\t\\t\\t\\t\\t<p class=\"goods_b1_p\">\\r\\n\\t\\t\\t\\t\\t\\t\\t\\t\\t\\t<span><i>￥</i>180.00</span>\\r\\n\\t\\t\\t\\t\\t\\t\\t\\t\\t\\t<label>50折</label>\\r\\n\\t\\t\\t\\t\\t\\t\\t\\t\\t</p>\\r\\n\\t\\t\\t\\t\\t\\t\\t\\t</a>\\r\\n\\t\\t\\t\\t\\t\\t\\t</div>\\r\\n\\t\\r\\n\\t       \\r\\n\\t\\t \\r\\n\\t<div class=\"goods_b1_item\">\\r\\n\\t\\t\\t\\t\\t\\t\\t\\t<a href=\"2010690.html\">\\r\\n\\t\\t\\t\\t\\t\\t\\t\\t\\t<div class=\"goods_b1_img\"><img src=\"http://img.zazhipu.com/bookpic/20188/2018811165330.jpg?imageMogr2/thumbnail/400x \"></div>\\r\\n\\t\\t\\t\\t\\t\\t\\t\\t\\t<p class=\"goods_b1_t\">科学大众创新作文与阅读（1年共12期）杂志订阅</p>\\r\\n\\t\\t\\t\\t\\t\\t\\t\\t\\t<p class=\"goods_b1_p\">\\r\\n\\t\\t\\t\\t\\t\\t\\t\\t\\t\\t<span><i>￥</i>120.00</span>\\r\\n\\t\\t\\t\\t\\t\\t\\t\\t\\t\\t<label>100折</label>\\r\\n\\t\\t\\t\\t\\t\\t\\t\\t\\t</p>\\r\\n\\t\\t\\t\\t\\t\\t\\t\\t</a>\\r\\n\\t\\t\\t\\t\\t\\t\\t</div>\\r\\n\\t\\r\\n\\t       \\r\\n\\t\\t </div>\\r\\n\\t\\t\\t\\t      \\r\\n\\t\\t\\t\\t    \\r\\n\\t\\t\\t\\t    </div>\\r\\n\\t\\t\\t\\t    <!-- Add Pagination -->\\r\\n\\t\\t\\t\\t    <div class=\"swiper-pagination\"></div>\\r\\n\\t\\t\\t\\t    <!-- Add Arrows -->\\r\\n\\t\\t\\t\\t    <div class=\"swiper-button-next\"></div>\\r\\n\\t\\t\\t\\t    <div class=\"swiper-button-prev\"></div>\\r\\n\\t\\t\\t\\t</div>\\r\\n\\r\\n\\t\\t\\t</div>\\r\\n\\t\\t</div>\\r\\n\\t\\t\\r\\n\\t\\t\\t\\r\\n\\t\\t\\r\\n\\t\\t  <div class=\"footer\">\\r\\n\\t\\t\\t<div class=\"pf_head\">\\r\\n\\t\\t\\t\\t<div class=\"pf_head_item\">\\r\\n\\t\\t\\t\\t\\t<div class=\"pf_head1\">\\r\\n\\t\\t\\t\\t\\t\\t<a href=\"javascript:void(0)\">\\r\\n\\t\\t\\t\\t\\t\\t\\t<div class=\"pf_head1_img\"><img src=\"newindexfile/img/fimage1.png\"/></div>\\r\\n\\t\\t\\t\\t\\t\\t\\t<p class=\"pf_head1_title\">低价保障</p>\\r\\n\\t\\t\\t\\t\\t\\t\\t<p class=\"pf_head1_h2\">全场低价，低至3折起</p>\\r\\n\\t\\t\\t\\t\\t\\t</a>\\r\\n\\t\\t\\t\\t\\t</div>\\r\\n\\t\\t\\t\\t\\t<div class=\"pf_head2\">\\r\\n\\t\\t\\t\\t\\t\\t<p class=\"pf_head2_title\">订阅指南</p>\\r\\n\\t\\t\\t\\t\\t\\t<ul>\\r\\n\\t\\t\\t\\t\\t\\t\\t<li><a href=\"http://www.zazhipu.com/helplist96.html\">杂志订阅流程</a></li>\\r\\n\\t\\t\\t\\t\\t\\t\\t<li><a href=\"http://www.zazhipu.com/helplist80.html\">杂志续订流程</a></li>\\r\\n\\t\\t\\t\\t\\t\\t\\t<li><a href=\"http://www.zazhipu.com/helplist27.html\">会员制度</a></li>\\r\\n\\t\\t\\t\\t\\t\\t\\t<li><a href=\"http://www.zazhipu.com/helplist81.html\">账户余额</a></li>\\r\\n\\t\\t\\t\\t\\t\\t\\t<li><a href=\"http://www.zazhipu.com/helplist82.html\">常见问题</a></li>\\r\\n\\t\\t\\t\\t\\t\\t\\t<li><a href=\"http://www.zazhipu.com/helplist17.html\">联系客服</a></li>\\r\\n\\t\\t\\t\\t\\t\\t</ul>\\r\\n\\t\\t\\t\\t\\t</div>\\r\\n\\t\\t\\t\\t</div>\\r\\n\\t\\t\\t\\t<div class=\"pf_head_item\">\\r\\n\\t\\t\\t\\t\\t<div class=\"pf_head1\">\\r\\n\\t\\t\\t\\t\\t\\t<a href=\"javascript:void(0)\">\\r\\n\\t\\t\\t\\t\\t\\t\\t<div class=\"pf_head1_img\"><img src=\"newindexfile/img/fimage2.png\"/></div>\\r\\n\\t\\t\\t\\t\\t\\t\\t<p class=\"pf_head1_title\">快递配送</p>\\r\\n\\t\\t\\t\\t\\t\\t\\t<p class=\"pf_head1_h2\">100%快递配送，无忧掉刊</p>\\r\\n\\t\\t\\t\\t\\t\\t</a>\\r\\n\\t\\t\\t\\t\\t</div>\\r\\n\\t\\t\\t\\t\\t<div class=\"pf_head2\">\\r\\n\\t\\t\\t\\t\\t\\t<p class=\"pf_head2_title\">付款方式</p>\\r\\n\\t\\t\\t\\t\\t\\t<ul>\\r\\n\\t\\t\\t\\t\\t\\t\\t<li><a href=\"http://www.zazhipu.com/helplist3.html\">在线支付</a></li>\\r\\n\\t\\t\\t\\t\\t\\t\\t<li><a href=\"http://www.zazhipu.com/helplist4.html\">银行转账</a></li>\\r\\n\\t\\t\\t\\t\\t\\t\\t<li><a href=\"http://www.zazhipu.com/helplist5.html\">邮局汇款</a></li>\\r\\n\\t\\t\\t\\t\\t\\t\\t<li><a href=\"http://www.zazhipu.com/helplist6.html\">公司转账</a></li>\\r\\n\\t\\t\\t\\t\\t\\t</ul>\\r\\n\\t\\t\\t\\t\\t</div>\\r\\n\\t\\t\\t\\t</div>\\r\\n\\t\\t\\t\\t<div class=\"pf_head_item\">\\r\\n\\t\\t\\t\\t\\t<div class=\"pf_head1\">\\r\\n\\t\\t\\t\\t\\t\\t<a href=\"javascript:void(0)\">\\r\\n\\t\\t\\t\\t\\t\\t\\t<div class=\"pf_head1_img\"><img src=\"newindexfile/img/fimage3.png\"/></div>\\r\\n\\t\\t\\t\\t\\t\\t\\t<p class=\"pf_head1_title\">品种齐全</p>\\r\\n\\t\\t\\t\\t\\t\\t\\t<p class=\"pf_head1_h2\">数千种杂志任您选！</p>\\r\\n\\t\\t\\t\\t\\t\\t</a>\\r\\n\\t\\t\\t\\t\\t</div>\\r\\n\\t\\t\\t\\t\\t<div class=\"pf_head2\">\\r\\n\\t\\t\\t\\t\\t\\t<p class=\"pf_head2_title\">配送服务</p>\\r\\n\\t\\t\\t\\t\\t\\t<ul>\\r\\n\\t\\t\\t\\t\\t\\t\\t<li><a href=\"http://www.zazhipu.com/helplist55.html\">配送规则</a></li>\\r\\n\\t\\t\\t\\t\\t\\t\\t<li><a href=\"http://www.zazhipu.com/shcity.asp\">298元免费范围</a></li>\\r\\n\\t\\t\\t\\t\\t\\t\\t\\r\\n\\t\\t\\t\\t\\t\\t\\t<li><a href=\"http://www.zazhipu.com/helplist68.html\">组合配送</a></li>\\r\\n\\t\\t\\t\\t\\t\\t\\t<li><a href=\"http://www.zazhipu.com/helplist75.html\">杂志验货及签收</a></li>\\r\\n\\t\\t\\t\\t\\t\\t</ul>\\r\\n\\t\\t\\t\\t\\t</div>\\r\\n\\t\\t\\t\\t</div>\\r\\n\\t\\t\\t\\t<div class=\"pf_head_item\">\\r\\n\\t\\t\\t\\t\\t<div class=\"pf_head1\">\\r\\n\\t\\t\\t\\t\\t\\t<a href=\"javascript:void(0)\">\\r\\n\\t\\t\\t\\t\\t\\t\\t<div class=\"pf_head1_img\"><img src=\"newindexfile/img/fimage4.png\"/></div>\\r\\n\\t\\t\\t\\t\\t\\t\\t<p class=\"pf_head1_title\">无忧退换订</p>\\r\\n\\t\\t\\t\\t\\t\\t\\t<p class=\"pf_head1_h2\">想订就订，想换就换</p>\\r\\n\\t\\t\\t\\t\\t\\t</a>\\r\\n\\t\\t\\t\\t\\t</div>\\r\\n\\t\\t\\t\\t\\t<div class=\"pf_head2\">\\r\\n\\t\\t\\t\\t\\t\\t<p class=\"pf_head2_title\">售后服务</p>\\r\\n\\t\\t\\t\\t\\t\\t<ul>\\r\\n\\t\\t\\t\\t\\t\\t\\t<li><a href=\"http://www.zazhipu.com/chaxun.asp\">订单查询</a></li>\\r\\n\\t\\t\\t\\t\\t\\t\\t<li><a href=\"http://www.zazhipu.com/helplist78.html\">价格变动说明</a></li>\\r\\n\\t\\t\\t\\t\\t\\t\\t<li><a href=\"http://www.zazhipu.com/helplist19.html\">退换订及退款</a></li>\\r\\n\\t\\t\\t\\t\\t\\t\\t<li><a href=\"http://www.zazhipu.com/helplist79.html\">加订合并拆分</a></li>\\r\\n\\t\\t\\t\\t\\t\\t\\t<li><a href=\"http://www.zazhipu.com/helplist20.html\">修改收货地址</a></li>\\r\\n\\t\\t\\t\\t\\t\\t\\t<li><a href=\"http://www.zazhipu.com/helplist38.html\">投诉与建议</a></li>\\r\\n\\t\\t\\t\\t\\t\\t</ul>\\r\\n\\t\\t\\t\\t\\t</div>\\r\\n\\t\\t\\t\\t</div>\\r\\n\\t\\t\\t\\t<div class=\"pf_head_item\">\\r\\n\\t\\t\\t\\t\\t<div class=\"pf_head1\">\\r\\n\\t\\t\\t\\t\\t\\t<a href=\"javascript:void(0)\">\\r\\n\\t\\t\\t\\t\\t\\t\\t<div class=\"pf_head1_img\"><img src=\"newindexfile/img/fimage5.png\"/></div>\\r\\n\\t\\t\\t\\t\\t\\t\\t<p class=\"pf_head1_title\">满298包邮</p>\\r\\n\\t\\t\\t\\t\\t\\t\\t<p class=\"pf_head1_h2\">活动区域，满298包邮</p>\\r\\n\\t\\t\\t\\t\\t\\t</a>\\r\\n\\t\\t\\t\\t\\t</div>\\r\\n\\t\\t\\t\\t\\t<div class=\"pf_head2\">\\r\\n\\t\\t\\t\\t\\t\\t<p class=\"pf_head2_title\">特色服务</p>\\r\\n\\t\\t\\t\\t\\t\\t<ul>\\r\\n\\t\\t\\t\\t\\t\\t\\t<li><a href=\"http://www.zazhipu.com/helplist30.html\">购物券 礼品卡</a></li>\\r\\n\\t\\t\\t\\t\\t\\t\\t<li><a href=\"http://www.zazhipu.com/helplist31.html\">积分兑换</a></li>\\r\\n\\t\\t\\t\\t\\t\\t\\t<li><a href=\"http://www.zazhipu.com/helplist50.html\">免费试读</a></li>\\r\\n\\t\\t\\t\\t\\t\\t\\t<li><a href=\"http://www.zazhipu.com/zazhimulu.asp\">2022年杂志订阅目录</a></li>\\r\\n\\t\\t\\t\\t\\t\\t\\t<li><a href=\"http://www.zazhipu.com/helplist73.html\">加入我们</a></li>\\r\\n\\t\\t\\t\\t\\t\\t</ul>\\r\\n\\t\\t\\t\\t\\t</div>\\r\\n\\t\\t\\t\\t</div>\\r\\n\\t\\t\\t\\t<div class=\"pf_head_item\">\\r\\n\\t\\t\\t\\t\\t<div class=\"pf_head1\">\\r\\n\\t\\t\\t\\t\\t\\t<a href=\"javascript:void(0)\">\\r\\n\\t\\t\\t\\t\\t\\t\\t<div class=\"pf_head1_img\"><img src=\"newindexfile/img/fimage6.png\"/></div>\\r\\n\\t\\t\\t\\t\\t\\t\\t<p class=\"pf_head1_title\">价格保护</p>\\r\\n\\t\\t\\t\\t\\t\\t\\t<p class=\"pf_head1_h2\">价格保护，下单无忧</p>\\r\\n\\t\\t\\t\\t\\t\\t</a>\\r\\n\\t\\t\\t\\t\\t</div>\\r\\n\\t\\t\\t\\t\\t<div class=\"pf_head2\">\\r\\n\\t\\t\\t\\t\\t\\t<p class=\"pf_head2_title\">商家合作</p>\\r\\n\\t\\t\\t\\t\\t\\t<ul>\\r\\n\\t\\t\\t\\t\\t\\t\\t<li><a href=\"http://www.zazhipu.com/helplist44.html\">杂志社合作</a></li>\\r\\n\\t\\t\\t\\t\\t\\t\\t<li><a href=\"http://www.zazhipu.com/helplist67.html\">商务合作</a></li>\\r\\n\\t\\t\\t\\t\\t\\t\\t<li><a href=\"http://www.zazhipu.com/tuangou.asp\">企业单位团购</a></li>\\r\\n\\t\\t\\t\\t\\t\\t</ul>\\r\\n\\t\\t\\t\\t\\t</div>\\r\\n\\t\\t\\t\\t</div>\\r\\n\\t\\t\\t</div>\\r\\n\\t\\t\\t<div class=\"pf_center\">\\r\\n\\t\\t\\t\\t<div class=\"pf_center_item\">\\r\\n\\t\\t\\t\\t\\t<div class=\"pf_center_img\"><img src=\"newindexfile/img/fimage7.png\"/></div>\\r\\n\\t\\t\\t\\t\\t<div class=\"pf_center_info\">\\r\\n\\t\\t\\t\\t\\t\\t<p class=\"pf_center_title\">杂志铺俱乐部微信</p>\\r\\n\\t\\t\\t\\t\\t\\t<p class=\"pf_center_h2\">品质阅读、精彩活动！尽在杂志铺俱乐部！</p>\\r\\n\\t\\t\\t\\t\\t</div>\\r\\n\\t\\t\\t\\t</div>\\r\\n\\t\\t\\t\\t<div class=\"pf_center_item\">\\r\\n\\t\\t\\t\\t\\t<div class=\"pf_center_img\"><img src=\"newindexfile/img/fimage8.png\"/></div>\\r\\n\\t\\t\\t\\t\\t<div class=\"pf_center_info\">\\r\\n\\t\\t\\t\\t\\t\\t<p class=\"pf_center_title\">杂志铺官方微信</p>\\r\\n\\t\\t\\t\\t\\t\\t<p class=\"pf_center_h2\">扫描二维码关注杂志铺微信公众号或下载app，了解更多产品和优惠！</p>\\r\\n\\t\\t\\t\\t\\t</div>\\r\\n\\t\\t\\t\\t</div>\\r\\n\\t\\t\\t\\t<div class=\"pf_center_item\">\\r\\n\\t\\t\\t\\t\\t<div class=\"pf_center_img\"><img src=\"newindexfile/img/fimage9.png\"/></div>\\r\\n\\t\\t\\t\\t\\t<div class=\"pf_center_info\">\\r\\n\\t\\t\\t\\t\\t\\t<p class=\"pf_center_title\">订阅邮件</p>\\r\\n\\t\\t\\t\\t\\t\\t<p class=\"pf_center_h2\">第一手促销资讯，尊享邮件特惠商品优惠不错过！</p>\\r\\n\\t\\t\\t\\t\\t</div>\\r\\n\\t\\t\\t\\t</div>\\r\\n\\t\\t\\t\\t<div class=\"pf_center_item\">\\r\\n\\t\\t\\t\\t\\t<div class=\"pf_center_img\"><img src=\"newindexfile/img/fimage10.png\"/></div>\\r\\n\\t\\t\\t\\t\\t<div class=\"pf_center_info\">\\r\\n\\t\\t\\t\\t\\t\\t<p class=\"pf_center_phone\">订阅电话：<span>400 000 9191</span></p>\\r\\n\\t\\t\\t\\t\\t\\t<p class=\"pf_center_phone\">企业订阅：<span>4007 079 079</span></p>\\r\\n\\t\\t\\t\\t\\t</div>\\r\\n\\t\\t\\t\\t</div>\\r\\n\\t\\t\\t</div>\\r\\n\\t\\t\\t<div class=\"pf_bottom\">\\r\\n\\t\\t\\t\\t<p class=\"pf_bottom_h\">\\r\\n\\t\\t\\t\\t\\t<a href=\"http://www.zazhipu.com/helplist18.html\">杂志铺简介</a><span>丨</span><a href=\"http://www.zazhipu.com/helplist35.html\">在杂志铺投放广告</a><span>丨</span><a href=\"http://www.zazhipu.com/helplist17.html\">联系我们</a><span>丨</span><a href=\"http://www.zazhipu.com/helplist44.html\">杂志社合作</a><span>丨</span><a href=\"http://www.zazhipu.com/lj.asp\">友情链接</a><span>丨</span><a href=\"http://www.zazhipu.com/helplist51.html\">杂志社导航</a><span>丨</span><a href=\"http://www.zazhipu.com/helplist66.html\">为什么选择杂志铺订杂志</a><span>丨</span><a href=\"javascript:void(0)\">客服热线：400 000 9191</a>\\r\\n\\t\\t\\t\\t</p>\\r\\n\\t\\t\\t\\t<p class=\"pf_bottom_adress\" style=\"margin-top:8px;\">联系地址：成都市高新区天府软件园E区8栋405 邮编：610095  企业QQ：4007078078 <a href=\"http://www.zazhipu.com/magpub.xml\" target=\"_blank\">rss</a> <a href=\"http://www.zazhipu.com/maglist.xml\" target=\"_blank\">订阅</a> &nbsp;杂志铺：杂志订阅首选&nbsp;国内首家杂志折扣订阅网&nbsp;定期阅读倡导者</p>\\r\\n\\t\\t\\t\\t<p class=\"pf_bottom_adress\" style=\"margin-top:8px;\"><a href=\"https://beian.miit.gov.cn\" target=\"_blank\">蜀ICP备13011050号-1 </a>  ICP经营许可证编号：川B2-20120059     \\r\\n     <a target=\"_blank\" href=\"http://www.beian.gov.cn/portal/registerSystemInfo?recordcode=51019002001391\" style=\"display:inline-block;text-decoration:none;height:20px;line-height:20px;\"><img src=\"http://www.zazhipu.com/img/gaba.png\" style=\"float:left;\">川公网安备 51019002001391号  </a>\\r\\n       <a href=\"http://www.zazhipu.com/jyxk2.jpg\"><font color=\"#0000FF\"> 出版物经营许可证编号</font></a> 成新出发高新字第三0四号  <a href=\"http://www.zazhipu.com/jyxk1.jpg\"><font color=\"#0000FF\"> 营业执照注册号</font></a>：91510100696252264J</p>\\r\\n\\t\\t\\t\\t<p class=\"pf_bottom_adress\" style=\"margin-top:8px;\"> Copyright 2009-\\r\\n           <script type=\"text/javascript\">(function(){document.write(new Date().getFullYear())})()</script>\\r\\n          <a title=\"杂志铺：杂志订阅网 zazhipu.com\" href=\"http://www.zazhipu.com/\" target=\"_blank\">zazhipu.com</a>（杂志铺）版权所有  成都邮征天下信息技术有限公司运营管理 </p>\\r\\n\\t\\t\\t\\r\\n\\t\\t\\t\\t<div class=\"swiper-container-pfbottom\" style=\"display:none;\">\\r\\n\\t\\t\\t\\t    <div class=\"swiper-wrapper\">\\r\\n\\t\\t\\t\\t      \\t<div class=\"swiper-slide\">\\r\\n\\t\\t\\t\\t      \\t\\t<a href=\"javascript:void(0)\">杂志订阅</a>\\r\\n\\t\\t\\t\\t      \\t\\t\\r\\n\\t\\t\\t\\t      \\t</div>\\r\\n\\t\\t\\t\\t    </div>\\r\\n\\t\\t\\t\\t</div>\\r\\n\\t\\t\\t\\t<div class=\"pf_bottom_imgs\">\\r\\n\\t\\t\\t\\t\\t<a href=\"http://si.trustutn.org/info?sn=452171208031200154333&certType=1\"><img src=\"newindexfile/img/fimage11.png\"/></a>\\r\\n\\t\\t\\t\\t\\t<a href=\"http://ss.knet.cn/verifyseal.dll?sn=2010120600100003123&userid=Z6V8E6gW3fLT4hsw&stoken=25d2450f4bd1bf841bb800e642c97394&time=1421841559&dn=www.zazhipu.com&pa=wssrto\"><img src=\"newindexfile/img/fimage12.png\"/></a>\\r\\n\\t\\t\\t\\t\\t\\r\\n\\t\\t\\t\\t\\t<a href=\"javascript:void(0)\"><img src=\"newindexfile/img/fimage15.png\"/></a>\\r\\n\\t\\t\\t\\t\\t<a href=\"javascript:void(0)\"><img src=\"newindexfile/img/fimage16.png\"/></a>\\r\\n\\t\\t\\t\\t\\t<a href=\"javascript:void(0)\"><img src=\"newindexfile/img/fimage17.png\"/></a>\\r\\n\\t\\t\\t\\t</div>\\r\\n\\t\\t\\t</div>\\r\\n\\t\\t\\t\\r\\n\\t\\t\\t<script>\\r\\n\\t\\t\\t\\tvar swiperpfbottom = new Swiper(\\'.swiper-container-pfbottom\\', {\\r\\n\\t\\t\\t\\t\\tautoplay:{\\r\\n\\t\\t\\t    \\t\\tdelay: 5000,\\r\\n\\t\\t\\t    \\t\\tdisableOnInteraction: false\\r\\n\\t\\t\\t    \\t},\\r\\n\\t\\t\\t      \\tdirection: \\'vertical\\',\\r\\n\\t\\t\\t      \\tloop:true\\r\\n\\t\\t\\t    });\\r\\n\\t\\t\\t</script>\\r\\n\\t\\t</div>\\r\\n\\t\\t\\r\\n\\t\\t<script type=\"text/javascript\">\\r\\nvar _bdhmProtocol = ((\"https:\" == document.location.protocol) ? \" https://\" : \" http://\");\\r\\ndocument.write(unescape(\"%3Cscript src=\\'\" + _bdhmProtocol + \"hm.baidu.com/h.js%3Fe7b697626670260350ca2d440db9c638\\' type=\\'text/javascript\\'%3E%3C/script%3E\"));\\r\\n</script>\\r\\n\\r\\n<script type=\"text/javascript\">\\r\\nvar _bdhmProtocol = ((\"https:\" == document.location.protocol) ? \" https://\" : \" http://\");\\r\\ndocument.write(unescape(\"%3Cscript src=\\'\" + _bdhmProtocol + \"hm.baidu.com/h.js%3F47601ea6915ccb146f86ffe6fefd2959\\' type=\\'text/javascript\\'%3E%3C/script%3E\"));\\r\\n</script>\\r\\n<style>\\r\\n\\t\\t\\t.cSrightblock\\r\\n\\t\\t\\t{\\r\\n\\t\\t\\t\\tposition: fixed;\\r\\n\\t\\t\\t    width: 30px;\\r\\n\\t\\t\\t    height: 100%;\\r\\n\\t\\t\\t    right: 0;\\r\\n\\t\\t\\t    top: 0;\\r\\n\\t\\t\\t    margin-right: -30px;\\r\\n\\t\\t\\t    background: #000;\\r\\n\\t\\t\\t    z-index: 9999;\\r\\n\\t\\t\\t}\\r\\n\\t\\t\\t.cSrightblock p\\r\\n\\t\\t\\t{\\r\\n\\t\\t\\t    position: absolute;\\r\\n\\t\\t\\t    width: 14px;\\r\\n\\t\\t\\t    height: 90px;\\r\\n\\t\\t\\t    top: 50%;\\r\\n\\t\\t\\t    left: 50%;\\r\\n\\t\\t\\t    margin-left: -10px;\\r\\n\\t\\t\\t    margin-top: -60px;\\r\\n\\t\\t\\t    padding: 3px;\\r\\n\\t\\t\\t    background: #7818fe;\\r\\n\\t\\t\\t    border-radius: 4px;\\r\\n\\t\\t\\t    color: #fff;\\r\\n\\t\\t\\t}\\r\\n\\t\\t\\t.customerService\\r\\n\\t\\t\\t{\\r\\n\\t\\t\\t\\theight: 80px;\\r\\n\\t\\t\\t\\twidth: 90px;\\r\\n\\t\\t\\t\\tborder-radius: 5px;\\r\\n\\t\\t\\t\\tbackground: #7818fe;\\r\\n\\t\\t\\t\\tposition: fixed;\\r\\n\\t\\t\\t\\tright: 0;\\r\\n\\t\\t\\t\\ttop: 200px;\\r\\n\\t\\t\\t\\toverflow: hidden;\\r\\n\\t\\t\\t\\tz-index: 9999999;\\r\\n\\t\\t\\t}\\r\\n\\t\\t\\t.cSboxbtn\\r\\n\\t\\t\\t{\\r\\n\\t\\t\\t\\twidth: 70px;\\r\\n\\t\\t\\t\\theight: 76px;\\r\\n\\t\\t\\t\\tmargin: 2px 0px;\\r\\n\\t\\t\\t\\tmargin-left: 2px;\\r\\n\\t\\t\\t\\tbackground: #fff;\\r\\n\\t\\t\\t\\tfloat: left;\\r\\n\\t\\t\\t\\tborder-radius: 5px;\\r\\n\\t\\t\\t\\toverflow: hidden;\\r\\n\\t\\t\\t}\\r\\n\\t\\t\\t.cSshouqian,.cSshouhou\\r\\n\\t\\t\\t{\\r\\n\\t\\t\\t\\twidth: 60px;\\r\\n\\t\\t\\t\\theight: 38px;\\r\\n\\t\\t\\t\\ttext-align: center;\\r\\n\\t\\t\\t\\tcolor: #7818fe;\\r\\n\\t\\t\\t\\tline-height: 38px;\\r\\n\\t\\t\\t\\tfont-size: 14px;\\r\\n\\t\\t\\t\\tborder-bottom: 1px dashed #e8e8e8;\\r\\n\\t\\t\\t\\tmargin: auto;\\r\\n\\t\\t\\t}\\r\\n\\t\\t\\t.cSshouqian i\\r\\n\\t\\t\\t{\\r\\n\\t\\t\\t}\\r\\n\\t\\t\\t.cSshouhou\\r\\n\\t\\t\\t{\\r\\n\\t\\t\\t\\tborder: 0;\\r\\n\\t\\t\\t}\\r\\n\\t\\t\\t.cSshouhou i\\r\\n\\t\\t\\t{\\r\\n\\t\\t\\t}\\r\\n\\t\\t\\t.cSrightjiant\\r\\n\\t\\t\\t{\\r\\n\\t\\t\\t\\tfloat: left;\\r\\n\\t\\t\\t\\twidth: 18px;\\r\\n\\t\\t\\t\\theight: 80px;\\r\\n\\t\\t\\t}\\r\\n\\t\\t\\t.cSrightjiant img\\r\\n\\t\\t\\t{\\r\\n\\t\\t\\t\\theight: 100%;\\r\\n\\t\\t\\t}\\r\\n\\t\\t</style>\\r\\n\\t\\t<div class=\"customerService\">\\r\\n\\t\\t\\t<div class=\"cSboxbtn\" style=\"text-align: center;\">\\r\\n\\t\\t\\t\\t<a class=\"cSshouqian\" href=\"https://cvd.xiaoduoai.com/c/index.html?src=13967&key=xcbrjchevtzlljjjpnevoqvfducizouvpfbcjzomqoiwiraqltcvnjwmtbnhbjqn&channel_id=16605\" target=\"_blank\"><i></i><span>订阅咨询</span></a>\\r\\n\\t\\t\\t\\t<a class=\"cSshouhou\" href=\"https://cvd.xiaoduoai.com/c/index.html?src=13967&key=dxhodiqqpzlahfifcipqtsgygggnfdotxghmprrkyqzshnzuormhqsjacwecreid&channel_id=16415\" target=\"_blank\" ><i></i><span>售后咨询</span></a>\\r\\n\\t\\t\\t</div>\\r\\n\\t\\t\\t<div class=\"cSrightjiant\"><img src=\"http://img1.zazhipu.com/icon/rightjiantou.png\"></div>\\r\\n\\t\\t</div>\\r\\n\\t\\t<div class=\"cSrightblock\"><p>显示客服</p></div>\\r\\n\\t\\t\\r\\n\\t\\t<script>\\r\\n\\t\\t\\t$(\".cSrightjiant\").click(function(){\\r\\n\\t\\t\\t\\t$(\\'.customerService\\').animate({\"right\":\\'-150px\\'},200);\\r\\n\\t\\t\\t\\t$(\".cSrightblock\").animate({\\'margin-right\\':\"0\"},300);\\r\\n\\t\\t\\t})\\r\\n\\t\\t\\t$(\".cSrightblock p\").click(function(){\\r\\n\\t\\t\\t\\t$(\\'.customerService\\').animate({\"right\":\\'0px\\'},200);\\r\\n\\t\\t\\t\\t$(\".cSrightblock\").animate({\\'margin-right\\':\"-30px\"},300);\\r\\n\\t\\t\\t})\\r\\n\\t\\t</script>\\r\\n\\t\\t\\r\\n\\t\\t\\r\\n\\t\\t<script type=\"text/javascript\">\\r\\nvar _bdhmProtocol = ((\"https:\" == document.location.protocol) ? \" https://\" : \" http://\");\\r\\ndocument.write(unescape(\"%3Cscript src=\\'\" + _bdhmProtocol + \"hm.baidu.com/h.js%3Fe7b697626670260350ca2d440db9c638\\' type=\\'text/javascript\\'%3E%3C/script%3E\"));\\r\\n</script>\\r\\n<script type=\"text/javascript\">\\r\\nvar _bdhmProtocol = ((\"https:\" == document.location.protocol) ? \" https://\" : \" http://\");\\r\\ndocument.write(unescape(\"%3Cscript src=\\'\" + _bdhmProtocol + \"hm.baidu.com/h.js%3F47601ea6915ccb146f86ffe6fefd2959\\' type=\\'text/javascript\\'%3E%3C/script%3E\"));\\r\\n</script>\\r\\n\\t\\t\\r\\n\\t</body>\\r\\n</html>\\r\\n'"
      ]
     },
     "execution_count": 37,
     "metadata": {},
     "output_type": "execute_result"
    }
   ],
   "source": [
    "resp.text"
   ]
  },
  {
   "cell_type": "code",
   "execution_count": 38,
   "metadata": {},
   "outputs": [],
   "source": [
    "content = resp.text"
   ]
  },
  {
   "cell_type": "code",
   "execution_count": 15,
   "metadata": {},
   "outputs": [],
   "source": [
    "# 通过正则表达式提取内容\n",
    "import re"
   ]
  },
  {
   "cell_type": "code",
   "execution_count": 24,
   "metadata": {},
   "outputs": [
    {
     "data": {
      "text/plain": [
       "['地理 旅游 人文 杂志订阅_地理 旅游 人文_ 杂志铺:低价、便捷的杂志折扣订阅网']"
      ]
     },
     "execution_count": 24,
     "metadata": {},
     "output_type": "execute_result"
    }
   ],
   "source": [
    "re.findall('<title>([\\S\\s]*?)<\\/title>',content)"
   ]
  },
  {
   "cell_type": "code",
   "execution_count": 26,
   "metadata": {},
   "outputs": [
    {
     "data": {
      "text/plain": [
       "'地理 旅游 人文 杂志订阅_地理 旅游 人文_ 杂志铺:低价、便捷的杂志折扣订阅网'"
      ]
     },
     "execution_count": 26,
     "metadata": {},
     "output_type": "execute_result"
    }
   ],
   "source": [
    "title_matches = re.findall('<title>([\\S\\s]*?)<\\/title>',content)\n",
    "title_matches[0].strip()"
   ]
  },
  {
   "cell_type": "code",
   "execution_count": 61,
   "metadata": {},
   "outputs": [],
   "source": [
    "#列表去重不改变顺序\n",
    "result = re.findall('<a href=\"http:\\/\\/www.zazhipu\\.com\\/\\d*\\.html\" target=\"_blank\">.*?<\\/a>',content)\n",
    "li = list(set(result))\n",
    "li.sort(key=result.index)\n",
    "li"
   ]
  },
  {
   "cell_type": "code",
   "execution_count": 66,
   "metadata": {},
   "outputs": [
    {
     "name": "stdout",
     "output_type": "stream",
     "text": [
      "KiDS环球少年地理（与美国国家地理少儿版版权合作）（1年共12期）（杂志订阅）\n",
      "孤独星球（Lonely Planet Magazine国际中文版）（1年共12期）（杂志订阅）\n",
      "美国国家地理（英文原版）National Geographic （1年共12期）（杂志订阅）\n",
      "探索地理（1年共12期）（杂志订阅）\n",
      "旅行家（1年共12期）杂志订阅\n",
      "大自然探索（1年共12期）（杂志订阅）\n",
      "中国三峡河流地理与水文化（杂志订阅）（1年共12期）\n",
      "美国国家地理幼儿版3-6岁（英文原版）National Geographic  Little Kids（1年共6期）（杂志订阅）\n",
      "美国国家地理儿童版（英文原版）National Geographic Kids（1年共10期）（杂志订阅）\n",
      "中国国家地理（1年共12期）（杂志订阅）\n",
      "海洋探秘（1年共12期）（杂志订阅）\n",
      "天府文化（1年共12期）（杂志订阅）\n",
      "自然探秘(1年共12期）（杂志订阅）\n",
      "户外探险（1年共6期）（杂志订阅）\n",
      "旅游世界（1年共12期）（杂志订阅）\n",
      "四川画报（1年共12期）（杂志订阅）\n",
      "包邮 KiDS环球少年地理（与美国国家地理少儿版版权合作）（1年共12期）（杂志订阅）\n",
      "包邮 中国国家地理（1年共12期）（杂志订阅）\n",
      "动物大世界 中国儿童画报（1年共12期）（杂志订阅）【杂志铺专供】\n",
      "快乐科学 快乐历史地理（1年共12期）（杂志订阅）\n",
      "20\n"
     ]
    }
   ],
   "source": [
    "i = 0\n",
    "for item in li:\n",
    "    item1 = re.sub('<a.*?img.*?>','',item).replace('</a>','')\n",
    "    item2 = re.sub('<a.*?>','',item1)\n",
    "    \n",
    "    if item2.split():\n",
    "        i += 1\n",
    "        print(item2)\n",
    "print(i)"
   ]
  },
  {
   "cell_type": "markdown",
   "metadata": {},
   "source": [
    "试了一下用xpath获取"
   ]
  },
  {
   "cell_type": "code",
   "execution_count": 74,
   "metadata": {},
   "outputs": [],
   "source": [
    "dom = etree.HTML(content)\n",
    "dom_xpath = dom.xpath(\"//div[@class='searchresult_item_t_l']/a/text()\")"
   ]
  },
  {
   "cell_type": "code",
   "execution_count": 75,
   "metadata": {},
   "outputs": [],
   "source": [
    "list_dom_xpath = list(set(dom_xpath))\n",
    "list_dom_xpath.sort(key=dom_xpath.index)"
   ]
  },
  {
   "cell_type": "code",
   "execution_count": 77,
   "metadata": {},
   "outputs": [
    {
     "data": {
      "text/plain": [
       "20"
      ]
     },
     "execution_count": 77,
     "metadata": {},
     "output_type": "execute_result"
    }
   ],
   "source": [
    "len(list_dom_xpath)"
   ]
  },
  {
   "cell_type": "code",
   "execution_count": 78,
   "metadata": {},
   "outputs": [
    {
     "name": "stdout",
     "output_type": "stream",
     "text": [
      "KiDS环球少年地理（与美国国家地理少儿版版权合作）（1年共12期）（杂志订阅）\n",
      "孤独星球（Lonely Planet Magazine国际中文版）（1年共12期）（杂志订阅）\n",
      "美国国家地理（英文原版）National Geographic （1年共12期）（杂志订阅）\n",
      "探索地理（1年共12期）（杂志订阅）\n",
      "旅行家（1年共12期）杂志订阅\n",
      "大自然探索（1年共12期）（杂志订阅）\n",
      "中国三峡河流地理与水文化（杂志订阅）（1年共12期）\n",
      "美国国家地理幼儿版3-6岁（英文原版）National Geographic  Little Kids（1年共6期）（杂志订阅）\n",
      "美国国家地理儿童版（英文原版）National Geographic Kids（1年共10期）（杂志订阅）\n",
      "中国国家地理（1年共12期）（杂志订阅）\n",
      "海洋探秘（1年共12期）（杂志订阅）\n",
      "天府文化（1年共12期）（杂志订阅）\n",
      "自然探秘(1年共12期）（杂志订阅）\n",
      "户外探险（1年共6期）（杂志订阅）\n",
      "旅游世界（1年共12期）（杂志订阅）\n",
      "四川画报（1年共12期）（杂志订阅）\n",
      "包邮 KiDS环球少年地理（与美国国家地理少儿版版权合作）（1年共12期）（杂志订阅）\n",
      "包邮 中国国家地理（1年共12期）（杂志订阅）\n",
      "动物大世界 中国儿童画报（1年共12期）（杂志订阅）【杂志铺专供】\n",
      "快乐科学 快乐历史地理（1年共12期）（杂志订阅）\n"
     ]
    }
   ],
   "source": [
    "for elem in list_dom_xpath:\n",
    "    print(elem)"
   ]
  },
  {
   "cell_type": "code",
   "execution_count": null,
   "metadata": {},
   "outputs": [],
   "source": []
  }
 ],
 "metadata": {
  "interpreter": {
   "hash": "faf54290916d464fac2321a8cbbd997915996b7426b38bcbd69e94520b78baf0"
  },
  "kernelspec": {
   "display_name": "Python 3.10.4 ('.venv': venv)",
   "language": "python",
   "name": "python3"
  },
  "language_info": {
   "codemirror_mode": {
    "name": "ipython",
    "version": 3
   },
   "file_extension": ".py",
   "mimetype": "text/x-python",
   "name": "python",
   "nbconvert_exporter": "python",
   "pygments_lexer": "ipython3",
   "version": "3.10.4"
  },
  "orig_nbformat": 4
 },
 "nbformat": 4,
 "nbformat_minor": 2
}
