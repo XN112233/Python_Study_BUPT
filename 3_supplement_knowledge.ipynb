{
 "cells": [
  {
   "cell_type": "markdown",
   "metadata": {},
   "source": [
    "# 笔画/首字母拼音排序"
   ]
  },
  {
   "cell_type": "markdown",
   "metadata": {},
   "source": [
    "## 首字母排序可以用第三方库pypinyin，用pinyin()方法获取汉字拼音首字母"
   ]
  },
  {
   "cell_type": "code",
   "execution_count": 1,
   "metadata": {},
   "outputs": [
    {
     "name": "stdout",
     "output_type": "stream",
     "text": [
      "边海蓝\n",
      "堵诺瑶\n",
      "卢绿蝶\n",
      "欧之柔\n",
      "瞿春燕\n",
      "容天恩\n",
      "万萍雅\n",
      "文娴婉\n",
      "谢暄和\n",
      "益北辰\n",
      "雍静芙\n",
      "宰丰雅\n"
     ]
    }
   ],
   "source": [
    "import pypinyin\n",
    "import itertools\n",
    "\n",
    "def main():\n",
    "    user_list = []\n",
    "    users = '雍静芙 边海蓝 谢暄和 瞿春燕 万萍雅 欧之柔 卢绿蝶 容天恩 宰丰雅 堵诺瑶 益北辰 文娴婉'.split()\n",
    "    for user in users:\n",
    "        py_name = ''.join(\n",
    "                itertools.chain(\n",
    "                    *pypinyin.pinyin(user, style=pypinyin.FIRST_LETTER)\n",
    "                )\n",
    "            ) + ' ' + user\n",
    "        user_list.append(py_name)\n",
    "    user_list.sort()\n",
    "    for user_name in user_list:\n",
    "        print(user_name[4:])\n",
    "\n",
    "main()"
   ]
  },
  {
   "cell_type": "markdown",
   "metadata": {},
   "source": [
    "## 姓氏笔画排序需要用到汉字笔画数据文件c_strokes.txt.取首字笔画数并进行排序"
   ]
  },
  {
   "cell_type": "code",
   "execution_count": 2,
   "metadata": {},
   "outputs": [
    {
     "name": "stdout",
     "output_type": "stream",
     "text": [
      "万萍雅\n",
      "文娴婉\n",
      "卢绿蝶\n",
      "边海蓝\n",
      "欧之柔\n",
      "宰丰雅\n",
      "容天恩\n",
      "益北辰\n",
      "堵诺瑶\n",
      "谢暄和\n",
      "雍静芙\n",
      "瞿春燕\n"
     ]
    }
   ],
   "source": [
    "import pypinyin\n",
    "\n",
    "def main():\n",
    "    c_strokes_dict = dict()\n",
    "    with open('c_strokes.txt', 'r', encoding='UTF-8') as f:\n",
    "        for line in f.readlines():\n",
    "            c, s = line.split()\n",
    "            c_strokes_dict[c] = int(s)\n",
    "\n",
    "    user_list = []\n",
    "    users = '雍静芙 边海蓝 谢暄和 瞿春燕 万萍雅 欧之柔 卢绿蝶 容天恩 宰丰雅 堵诺瑶 益北辰 文娴婉'.split()\n",
    "    for user in users:\n",
    "        stroke_num_name = f\"{c_strokes_dict[user[0]]: 03d}{user}\"\n",
    "        user_list.append(stroke_num_name)\n",
    "    user_list.sort()\n",
    "    for user_name in user_list:\n",
    "        print(user_name[3:])\n",
    "\n",
    "main()"
   ]
  },
  {
   "cell_type": "markdown",
   "metadata": {},
   "source": [
    "# 递归"
   ]
  },
  {
   "cell_type": "markdown",
   "metadata": {},
   "source": [
    "recursion 在函数的定义中使用函数自身的方法\n",
    "\n",
    "递 递送，调用\n",
    "\n",
    "归 返回（执行成功，未必返回结果），回到本处"
   ]
  },
  {
   "cell_type": "markdown",
   "metadata": {},
   "source": [
    "## 什么适合用递归解决"
   ]
  },
  {
   "cell_type": "markdown",
   "metadata": {},
   "source": [
    "1. 问题可分解成遵循重复模式的多个过：每步完成”一点“工作，剩下的交给下一个”自己“，可以利用”下家“返回的结果\n",
    "2. 最后一个”下家“满足一定终止条件，无需再向下交付，”终结“并返回\n",
    "3. 递归深度不能”太深“，防止堆栈溢出"
   ]
  },
  {
   "cell_type": "markdown",
   "metadata": {},
   "source": [
    "考虑：\n",
    "\n",
    "1.占用资源\n",
    "\n",
    "2.可变数据类型 & 不可变数据类型（会创建副本）\n",
    "\n",
    "3.重复（记忆模式）"
   ]
  },
  {
   "cell_type": "code",
   "execution_count": 3,
   "metadata": {},
   "outputs": [
    {
     "name": "stdout",
     "output_type": "stream",
     "text": [
      "120\n"
     ]
    }
   ],
   "source": [
    "#阶乘\n",
    "def fact(n):\n",
    "    if n == 1:\n",
    "        return 1\n",
    "    else:\n",
    "        return n * fact(n-1)\n",
    "\n",
    "print(fact(5))"
   ]
  },
  {
   "cell_type": "code",
   "execution_count": 4,
   "metadata": {},
   "outputs": [
    {
     "name": "stdout",
     "output_type": "stream",
     "text": [
      "5\n"
     ]
    }
   ],
   "source": [
    "#斐波那契数列\n",
    "def fabonacci(n):\n",
    "    if n <= 2:\n",
    "        return 1\n",
    "    else:\n",
    "        return fabonacci(n-1) + fabonacci(n-2)\n",
    "\n",
    "print(fabonacci(5))"
   ]
  },
  {
   "cell_type": "code",
   "execution_count": 5,
   "metadata": {},
   "outputs": [
    {
     "name": "stdout",
     "output_type": "stream",
     "text": [
      "5\n"
     ]
    }
   ],
   "source": [
    "#斐波那契数列（记忆模式）\n",
    "feb_mem = {1:1,2:1}\n",
    "\n",
    "def fabonaci(n):\n",
    "    if n in feb_mem:\n",
    "        return feb_mem[n]\n",
    "    else:\n",
    "        feb_mem[n] = fabonaci(n-1) + fabonaci(n-2)\n",
    "\n",
    "    return feb_mem[n]\n",
    "\n",
    "print(fabonaci(5))"
   ]
  },
  {
   "cell_type": "code",
   "execution_count": null,
   "metadata": {},
   "outputs": [],
   "source": []
  }
 ],
 "metadata": {
  "interpreter": {
   "hash": "014f0edbe7e740ba9ae0dbf4e2afdca3b834ad44d1d02fdec1b1b7569029d487"
  },
  "kernelspec": {
   "display_name": "Python 3.10.4 ('.venv': venv)",
   "language": "python",
   "name": "python3"
  },
  "language_info": {
   "codemirror_mode": {
    "name": "ipython",
    "version": 3
   },
   "file_extension": ".py",
   "mimetype": "text/x-python",
   "name": "python",
   "nbconvert_exporter": "python",
   "pygments_lexer": "ipython3",
   "version": "3.10.4"
  },
  "orig_nbformat": 4
 },
 "nbformat": 4,
 "nbformat_minor": 2
}
